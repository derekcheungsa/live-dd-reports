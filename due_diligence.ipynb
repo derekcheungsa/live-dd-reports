{
 "cells": [
  {
   "cell_type": "markdown",
   "id": "70ba2c8a",
   "metadata": {
    "papermill": {
     "duration": 0.021003,
     "end_time": "2022-11-29T20:41:03.909234",
     "exception": false,
     "start_time": "2022-11-29T20:41:03.888231",
     "status": "completed"
    },
    "tags": []
   },
   "source": [
    "## Notebook setup"
   ]
  },
  {
   "cell_type": "code",
   "execution_count": 1,
   "id": "driven-billion",
   "metadata": {
    "execution": {
     "iopub.execute_input": "2022-11-29T20:41:03.955234Z",
     "iopub.status.busy": "2022-11-29T20:41:03.953235Z",
     "iopub.status.idle": "2022-11-29T20:41:04.561239Z",
     "shell.execute_reply": "2022-11-29T20:41:04.560270Z"
    },
    "papermill": {
     "duration": 0.632995,
     "end_time": "2022-11-29T20:41:04.565231",
     "exception": false,
     "start_time": "2022-11-29T20:41:03.932236",
     "status": "completed"
    },
    "tags": []
   },
   "outputs": [],
   "source": [
    "import os\n",
    "import io\n",
    "import sys\n",
    "import warnings\n",
    "import datetime\n",
    "import numpy as np\n",
    "import base64\n",
    "import dotenv\n",
    "\n",
    "import matplotlib.pyplot as plt\n",
    "import matplotlib_inline.backend_inline\n",
    "import dhelp\n",
    "\n",
    "# Get the current InteractiveShell instance\n",
    "#ipython = get_ipython()\n",
    "\n",
    "# Run a shell command\n",
    "#result = ipython.getoutput(\"ls -l\")\n",
    "\n",
    "# Print the output\n",
    "#print(result)\n",
    "\n",
    "from IPython.display import HTML\n",
    "\n",
    "from openbb_terminal.reports import widget_helpers as widgets\n",
    "from openbb_terminal.sdk import openbb\n",
    "from openbb_terminal import config_terminal as cfg\n",
    "from openbb_terminal.helper_classes import TerminalStyle\n",
    "from openbb_terminal.core.config.paths import USER_ENV_FILE, REPOSITORY_DIRECTORY\n",
    "import yfinance as yf\n",
    "import pandas as pd\n",
    "import dhelp \n",
    "from jinja2 import Template\n",
    "\n",
    "%matplotlib inline\n",
    "matplotlib_inline.backend_inline.set_matplotlib_formats(\"svg\")\n",
    "warnings.filterwarnings(\"ignore\")\n",
    "\n",
    "# Detect if prediction capabilities are present. If they are not, disable prediction in the rest of the script\n",
    "# so that the report can still be generated without prediction results.\n",
    "# predictions = True\n",
    "# try:\n",
    "#     openbb.stocks.pred.models\n",
    "# except Exception as e:\n",
    "#     predictions = False\n",
    "\n",
    "# TODO Fix predictions virtual path on api refactored\n",
    "\n",
    "predictions = False"
   ]
  },
  {
   "cell_type": "code",
   "execution_count": 2,
   "id": "c3fe7db5-ec6a-42cf-9e66-52dc1de22370",
   "metadata": {
    "execution": {
     "iopub.execute_input": "2022-11-29T20:41:04.621239Z",
     "iopub.status.busy": "2022-11-29T20:41:04.621239Z",
     "iopub.status.idle": "2022-11-29T20:41:04.688238Z",
     "shell.execute_reply": "2022-11-29T20:41:04.686235Z"
    },
    "papermill": {
     "duration": 0.102993,
     "end_time": "2022-11-29T20:41:04.693232",
     "exception": false,
     "start_time": "2022-11-29T20:41:04.590239",
     "status": "completed"
    },
    "tags": []
   },
   "outputs": [],
   "source": [
    "cfg.theme = TerminalStyle(\"light\", \"light\", \"light\")\n",
    "\n",
    "stylesheet = widgets.html_report_stylesheet()"
   ]
  },
  {
   "cell_type": "markdown",
   "id": "807fda4e",
   "metadata": {
    "papermill": {
     "duration": 0.038998,
     "end_time": "2022-11-29T20:41:04.763236",
     "exception": false,
     "start_time": "2022-11-29T20:41:04.724238",
     "status": "completed"
    },
    "tags": []
   },
   "source": [
    "## Select symbol"
   ]
  },
  {
   "cell_type": "markdown",
   "id": "4ea17d80",
   "metadata": {},
   "source": []
  },
  {
   "cell_type": "code",
   "execution_count": 3,
   "id": "intended-sherman",
   "metadata": {
    "execution": {
     "iopub.execute_input": "2022-11-29T20:41:04.824236Z",
     "iopub.status.busy": "2022-11-29T20:41:04.823241Z",
     "iopub.status.idle": "2022-11-29T20:41:04.844236Z",
     "shell.execute_reply": "2022-11-29T20:41:04.843236Z"
    },
    "papermill": {
     "duration": 0.056006,
     "end_time": "2022-11-29T20:41:04.848243",
     "exception": false,
     "start_time": "2022-11-29T20:41:04.792237",
     "status": "completed"
    },
    "tags": [
     "parameters"
    ]
   },
   "outputs": [],
   "source": [
    "# Parameters that will be replaced when calling this notebook\n",
    "# Do not leave parameters blank as notebook will not run otherwise\n",
    "#symbol = sys.argv[1]\n",
    "symbol = \"MP\"\n",
    "\n",
    "investor_report_url_dict= dhelp.get_investor_report_url_dict()\n",
    "morningstar_report_url_dict=dhelp.get_morningstar_report_url_dict()\n",
    "exchange_dict=dhelp.get_exchange_dict()\n",
    "similar_companies_dict=dhelp.get_similar_companies_dict()\n",
    "\n",
    "if (symbol in investor_report_url_dict):\n",
    "    investor_report_url = investor_report_url_dict[symbol]\n",
    "else:\n",
    "    investor_report_url=\"\"\n",
    "\n",
    "if (symbol in morningstar_report_url_dict):\n",
    "    morningstar_report_url = morningstar_report_url_dict[symbol]\n",
    "else:\n",
    "    morningstar_report_url= \"\"\n",
    "\n",
    "df_data = openbb.stocks.fa.data(symbol)\n",
    "long_name = df_data.at[\"Company\",\"Values\"]\n",
    "sector =  df_data.at[\"Sector\",\"Values\"]\n",
    "industry = df_data.at[\"Industry\",\"Values\"]\n",
    "\n",
    "if (symbol in exchange_dict):\n",
    "    exchange=exchange_dict[symbol]\n",
    "else:\n",
    "    exchange = \"NYSE\"\n",
    "\n",
    "report_name = f\"{symbol}\".upper()"
   ]
  },
  {
   "cell_type": "code",
   "execution_count": 4,
   "id": "a441ddbc-d75b-4a18-84d4-e01b677674d3",
   "metadata": {
    "execution": {
     "iopub.execute_input": "2022-11-29T20:41:04.958239Z",
     "iopub.status.busy": "2022-11-29T20:41:04.955238Z",
     "iopub.status.idle": "2022-11-29T20:41:04.986241Z",
     "shell.execute_reply": "2022-11-29T20:41:04.982257Z"
    },
    "papermill": {
     "duration": 0.063013,
     "end_time": "2022-11-29T20:41:04.993253",
     "exception": false,
     "start_time": "2022-11-29T20:41:04.930240",
     "status": "completed"
    },
    "tags": []
   },
   "outputs": [],
   "source": [
    "if \".\" in symbol:\n",
    "    import sys\n",
    "\n",
    "    sys.exit(0)\n",
    "symbol = symbol.upper()"
   ]
  },
  {
   "cell_type": "code",
   "execution_count": 5,
   "id": "1be26dae-cafe-4a22-80aa-eff296fc1a9b",
   "metadata": {
    "execution": {
     "iopub.execute_input": "2022-11-29T20:41:05.048242Z",
     "iopub.status.busy": "2022-11-29T20:41:05.048242Z",
     "iopub.status.idle": "2022-11-29T20:41:05.453249Z",
     "shell.execute_reply": "2022-11-29T20:41:05.451238Z"
    },
    "papermill": {
     "duration": 0.44,
     "end_time": "2022-11-29T20:41:05.457241",
     "exception": false,
     "start_time": "2022-11-29T20:41:05.017241",
     "status": "completed"
    },
    "tags": []
   },
   "outputs": [
    {
     "data": {
      "text/html": [
       "<pre style=\"white-space:pre;overflow-x:auto;line-height:normal;font-family:Menlo,'DejaVu Sans Mono',consolas,'Courier New',monospace\">Loading Daily data for MP with starting period 2021-08-19.\n",
       "</pre>\n"
      ],
      "text/plain": [
       "Loading Daily data for MP with starting period 2021-08-19.\n"
      ]
     },
     "metadata": {},
     "output_type": "display_data"
    },
    {
     "data": {
      "text/plain": [
       "('Investment Research Report on MP',\n",
       " '10 February, 2023',\n",
       " '10:45',\n",
       " datetime.timezone(datetime.timedelta(days=-1, seconds=68400), 'Eastern Standard Time'))"
      ]
     },
     "execution_count": 5,
     "metadata": {},
     "output_type": "execute_result"
    }
   ],
   "source": [
    "ticker_data = openbb.stocks.load(\n",
    "    symbol=symbol, start_date=datetime.datetime.now() - datetime.timedelta(days=18 * 30)\n",
    ")\n",
    "ticker_data = openbb.stocks.process_candle(data=ticker_data)\n",
    "\n",
    "author = \"\"\n",
    "report_title = f\"Investment Research Report on {symbol.upper()}\"\n",
    "report_date = datetime.datetime.now().strftime(\"%d %B, %Y\")\n",
    "report_time = datetime.datetime.now().strftime(\"%H:%M\")\n",
    "report_timezone = datetime.datetime.now(datetime.timezone.utc).astimezone().tzinfo\n",
    "report_title, report_date, report_time, report_timezone"
   ]
  },
  {
   "cell_type": "markdown",
   "id": "f8a0d747",
   "metadata": {
    "papermill": {
     "duration": 0.031014,
     "end_time": "2022-11-29T20:41:09.603376",
     "exception": false,
     "start_time": "2022-11-29T20:41:09.572362",
     "status": "completed"
    },
    "tags": []
   },
   "source": [
    "## Data"
   ]
  },
  {
   "cell_type": "code",
   "execution_count": 6,
   "id": "aca4b6ef",
   "metadata": {
    "execution": {
     "iopub.execute_input": "2022-11-29T20:41:09.675361Z",
     "iopub.status.busy": "2022-11-29T20:41:09.675361Z",
     "iopub.status.idle": "2022-11-29T20:41:10.273365Z",
     "shell.execute_reply": "2022-11-29T20:41:10.270365Z"
    },
    "papermill": {
     "duration": 0.641005,
     "end_time": "2022-11-29T20:41:10.277365",
     "exception": false,
     "start_time": "2022-11-29T20:41:09.636360",
     "status": "completed"
    },
    "tags": []
   },
   "outputs": [
    {
     "data": {
      "text/html": [
       "<div>\n",
       "<style scoped>\n",
       "    .dataframe tbody tr th:only-of-type {\n",
       "        vertical-align: middle;\n",
       "    }\n",
       "\n",
       "    .dataframe tbody tr th {\n",
       "        vertical-align: top;\n",
       "    }\n",
       "\n",
       "    .dataframe thead th {\n",
       "        text-align: right;\n",
       "    }\n",
       "</style>\n",
       "<table border=\"1\" class=\"dataframe\">\n",
       "  <thead>\n",
       "    <tr style=\"text-align: right;\">\n",
       "      <th></th>\n",
       "      <th>Previous Quarter</th>\n",
       "      <th>Current Quarter</th>\n",
       "      <th>Next Quarter</th>\n",
       "      <th>Current Year</th>\n",
       "      <th>Next Year</th>\n",
       "    </tr>\n",
       "    <tr>\n",
       "      <th>QUARTER REVENUES ESTIMATES</th>\n",
       "      <th></th>\n",
       "      <th></th>\n",
       "      <th></th>\n",
       "      <th></th>\n",
       "      <th></th>\n",
       "    </tr>\n",
       "  </thead>\n",
       "  <tbody>\n",
       "    <tr>\n",
       "      <th>Date</th>\n",
       "      <td>ending 12/31/22</td>\n",
       "      <td>ending 03/31/23</td>\n",
       "      <td>ending 06/30/23</td>\n",
       "      <td>ending 12/31/23</td>\n",
       "      <td>ending 12/31/24</td>\n",
       "    </tr>\n",
       "    <tr>\n",
       "      <th>No. of Analysts</th>\n",
       "      <td>9</td>\n",
       "      <td>5</td>\n",
       "      <td>5</td>\n",
       "      <td>10</td>\n",
       "      <td>7</td>\n",
       "    </tr>\n",
       "    <tr>\n",
       "      <th>Average Estimate</th>\n",
       "      <td>77 USD</td>\n",
       "      <td>103 USD</td>\n",
       "      <td>117 USD</td>\n",
       "      <td>500 USD</td>\n",
       "      <td>720 USD</td>\n",
       "    </tr>\n",
       "    <tr>\n",
       "      <th>Year Ago</th>\n",
       "      <td>99 USD</td>\n",
       "      <td>166 USD</td>\n",
       "      <td>144 USD</td>\n",
       "      <td>-</td>\n",
       "      <td>500 USD</td>\n",
       "    </tr>\n",
       "    <tr>\n",
       "      <th>Publish Date</th>\n",
       "      <td>2/23/2023</td>\n",
       "      <td>5/4/2023</td>\n",
       "      <td>8/3/2023</td>\n",
       "      <td>-</td>\n",
       "      <td>-</td>\n",
       "    </tr>\n",
       "  </tbody>\n",
       "</table>\n",
       "</div>"
      ],
      "text/plain": [
       "                           Previous Quarter  Current Quarter     Next Quarter  \\\n",
       "QUARTER REVENUES ESTIMATES                                                      \n",
       "Date                        ending 12/31/22  ending 03/31/23  ending 06/30/23   \n",
       "No. of Analysts                           9                5                5   \n",
       "Average Estimate                     77 USD          103 USD          117 USD   \n",
       "Year Ago                             99 USD          166 USD          144 USD   \n",
       "Publish Date                      2/23/2023         5/4/2023         8/3/2023   \n",
       "\n",
       "                               Current Year        Next Year  \n",
       "QUARTER REVENUES ESTIMATES                                    \n",
       "Date                        ending 12/31/23  ending 12/31/24  \n",
       "No. of Analysts                          10                7  \n",
       "Average Estimate                    500 USD          720 USD  \n",
       "Year Ago                                  -          500 USD  \n",
       "Publish Date                              -                -  "
      ]
     },
     "execution_count": 6,
     "metadata": {},
     "output_type": "execute_result"
    }
   ],
   "source": [
    "(\n",
    "    df_year_estimates,\n",
    "    df_quarter_earnings,\n",
    "    df_quarter_revenues,\n",
    ") = openbb.stocks.dd.est(symbol=symbol)\n",
    "df_quarter_revenues"
   ]
  },
  {
   "cell_type": "code",
   "execution_count": 7,
   "id": "c0f0a1ca",
   "metadata": {
    "execution": {
     "iopub.execute_input": "2022-11-29T20:41:10.350371Z",
     "iopub.status.busy": "2022-11-29T20:41:10.345390Z",
     "iopub.status.idle": "2022-11-29T20:41:10.383366Z",
     "shell.execute_reply": "2022-11-29T20:41:10.380363Z"
    },
    "papermill": {
     "duration": 0.082006,
     "end_time": "2022-11-29T20:41:10.389369",
     "exception": false,
     "start_time": "2022-11-29T20:41:10.307363",
     "status": "completed"
    },
    "tags": []
   },
   "outputs": [
    {
     "data": {
      "text/html": [
       "<div>\n",
       "<style scoped>\n",
       "    .dataframe tbody tr th:only-of-type {\n",
       "        vertical-align: middle;\n",
       "    }\n",
       "\n",
       "    .dataframe tbody tr th {\n",
       "        vertical-align: top;\n",
       "    }\n",
       "\n",
       "    .dataframe thead th {\n",
       "        text-align: right;\n",
       "    }\n",
       "</style>\n",
       "<table border=\"1\" class=\"dataframe\">\n",
       "  <thead>\n",
       "    <tr style=\"text-align: right;\">\n",
       "      <th></th>\n",
       "      <th>2023</th>\n",
       "      <th>2024</th>\n",
       "      <th>2025</th>\n",
       "    </tr>\n",
       "    <tr>\n",
       "      <th>YEARLY ESTIMATES</th>\n",
       "      <th></th>\n",
       "      <th></th>\n",
       "      <th></th>\n",
       "    </tr>\n",
       "  </thead>\n",
       "  <tbody>\n",
       "    <tr>\n",
       "      <th>Revenue</th>\n",
       "      <td>500</td>\n",
       "      <td>720</td>\n",
       "      <td>882</td>\n",
       "    </tr>\n",
       "    <tr>\n",
       "      <th>Dividend</th>\n",
       "      <td>0.00</td>\n",
       "      <td>0.00</td>\n",
       "      <td>-</td>\n",
       "    </tr>\n",
       "    <tr>\n",
       "      <th>Dividend Yield (in %)</th>\n",
       "      <td>-</td>\n",
       "      <td>-</td>\n",
       "      <td>-</td>\n",
       "    </tr>\n",
       "    <tr>\n",
       "      <th>EPS</th>\n",
       "      <td>1.15</td>\n",
       "      <td>1.76</td>\n",
       "      <td>2.18</td>\n",
       "    </tr>\n",
       "    <tr>\n",
       "      <th>P/E Ratio</th>\n",
       "      <td>27.90</td>\n",
       "      <td>18.27</td>\n",
       "      <td>14.73</td>\n",
       "    </tr>\n",
       "  </tbody>\n",
       "</table>\n",
       "</div>"
      ],
      "text/plain": [
       "                        2023   2024   2025\n",
       "YEARLY ESTIMATES                          \n",
       "Revenue                  500    720    882\n",
       "Dividend                0.00   0.00      -\n",
       "Dividend Yield (in %)      -      -      -\n",
       "EPS                     1.15   1.76   2.18\n",
       "P/E Ratio              27.90  18.27  14.73"
      ]
     },
     "execution_count": 7,
     "metadata": {},
     "output_type": "execute_result"
    }
   ],
   "source": [
    "display_year = sorted(df_year_estimates.columns.tolist())[:3]\n",
    "df_year_estimates = df_year_estimates[display_year].head(5)\n",
    "df_year_estimates"
   ]
  },
  {
   "cell_type": "code",
   "execution_count": 8,
   "id": "6976c1d5",
   "metadata": {
    "execution": {
     "iopub.execute_input": "2022-11-29T20:41:10.446368Z",
     "iopub.status.busy": "2022-11-29T20:41:10.444370Z",
     "iopub.status.idle": "2022-11-29T20:41:12.257380Z",
     "shell.execute_reply": "2022-11-29T20:41:12.255381Z"
    },
    "papermill": {
     "duration": 1.848008,
     "end_time": "2022-11-29T20:41:12.261378",
     "exception": true,
     "start_time": "2022-11-29T20:41:10.413370",
     "status": "failed"
    },
    "tags": []
   },
   "outputs": [
    {
     "data": {
      "text/html": [
       "<pre style=\"white-space:pre;overflow-x:auto;line-height:normal;font-family:Menlo,'DejaVu Sans Mono',consolas,'Courier New',monospace\">1 news articles for  MP Materials Corp. were found since 2023-02-03\n",
       "\n",
       "</pre>\n"
      ],
      "text/plain": [
       "1 news articles for  MP Materials Corp. were found since 2023-02-03\n",
       "\n"
      ]
     },
     "metadata": {},
     "output_type": "display_data"
    }
   ],
   "source": [
    "tables = openbb.etf.news(f\"{long_name}\", 20)\n",
    "for table in tables:\n",
    "    table[0].loc[\"link\"] = (\n",
    "        table[0].loc[\"link\"].apply(lambda x: f'<a href=\"{x}\">{x}</a>')\n",
    "    )"
   ]
  },
  {
   "cell_type": "code",
   "execution_count": 9,
   "id": "fde46353",
   "metadata": {
    "papermill": {
     "duration": null,
     "end_time": null,
     "exception": null,
     "start_time": null,
     "status": "pending"
    },
    "tags": []
   },
   "outputs": [
    {
     "data": {
      "text/html": [
       "<div>\n",
       "<style scoped>\n",
       "    .dataframe tbody tr th:only-of-type {\n",
       "        vertical-align: middle;\n",
       "    }\n",
       "\n",
       "    .dataframe tbody tr th {\n",
       "        vertical-align: top;\n",
       "    }\n",
       "\n",
       "    .dataframe thead th {\n",
       "        text-align: right;\n",
       "    }\n",
       "</style>\n",
       "<table border=\"1\" class=\"dataframe\">\n",
       "  <thead>\n",
       "    <tr style=\"text-align: right;\">\n",
       "      <th></th>\n",
       "      <th>Holder</th>\n",
       "      <th>Shares</th>\n",
       "      <th>Date Reported</th>\n",
       "      <th>Stake</th>\n",
       "      <th>Value</th>\n",
       "    </tr>\n",
       "  </thead>\n",
       "  <tbody>\n",
       "    <tr>\n",
       "      <th>1</th>\n",
       "      <td>JHL Capital Group, LLC</td>\n",
       "      <td>28.573 M</td>\n",
       "      <td>2022-09-29</td>\n",
       "      <td>16.09 %</td>\n",
       "      <td>884.917 M</td>\n",
       "    </tr>\n",
       "    <tr>\n",
       "      <th>2</th>\n",
       "      <td>QVT Financial LP</td>\n",
       "      <td>13.655 M</td>\n",
       "      <td>2022-09-29</td>\n",
       "      <td>7.69 %</td>\n",
       "      <td>422.904 M</td>\n",
       "    </tr>\n",
       "    <tr>\n",
       "      <th>3</th>\n",
       "      <td>Vanguard Group, Inc. (The)</td>\n",
       "      <td>8.977 M</td>\n",
       "      <td>2022-09-29</td>\n",
       "      <td>5.06 %</td>\n",
       "      <td>278.024 M</td>\n",
       "    </tr>\n",
       "    <tr>\n",
       "      <th>4</th>\n",
       "      <td>Blackrock Inc.</td>\n",
       "      <td>8.411 M</td>\n",
       "      <td>2022-09-29</td>\n",
       "      <td>4.74 %</td>\n",
       "      <td>260.494 M</td>\n",
       "    </tr>\n",
       "    <tr>\n",
       "      <th>5</th>\n",
       "      <td>State Street Corporation</td>\n",
       "      <td>4.298 M</td>\n",
       "      <td>2022-09-29</td>\n",
       "      <td>2.42 %</td>\n",
       "      <td>133.107 M</td>\n",
       "    </tr>\n",
       "    <tr>\n",
       "      <th>6</th>\n",
       "      <td>Bank Of New York Mellon Corporation</td>\n",
       "      <td>2.678 M</td>\n",
       "      <td>2022-09-29</td>\n",
       "      <td>1.51 %</td>\n",
       "      <td>82.947 M</td>\n",
       "    </tr>\n",
       "    <tr>\n",
       "      <th>7</th>\n",
       "      <td>Renaissance Technologies, LLC</td>\n",
       "      <td>2.625 M</td>\n",
       "      <td>2022-09-29</td>\n",
       "      <td>1.48 %</td>\n",
       "      <td>81.309 M</td>\n",
       "    </tr>\n",
       "    <tr>\n",
       "      <th>8</th>\n",
       "      <td>Van Eck Associates Corporation</td>\n",
       "      <td>2.031 M</td>\n",
       "      <td>2022-12-30</td>\n",
       "      <td>1.14 %</td>\n",
       "      <td>62.903 M</td>\n",
       "    </tr>\n",
       "    <tr>\n",
       "      <th>9</th>\n",
       "      <td>Bank of America Corporation</td>\n",
       "      <td>1.961 M</td>\n",
       "      <td>2022-09-29</td>\n",
       "      <td>1.10 %</td>\n",
       "      <td>60.735 M</td>\n",
       "    </tr>\n",
       "    <tr>\n",
       "      <th>10</th>\n",
       "      <td>Invesco Ltd.</td>\n",
       "      <td>1.941 M</td>\n",
       "      <td>2022-09-29</td>\n",
       "      <td>1.09 %</td>\n",
       "      <td>60.115 M</td>\n",
       "    </tr>\n",
       "  </tbody>\n",
       "</table>\n",
       "</div>"
      ],
      "text/plain": [
       "                                 Holder    Shares Date Reported    Stake  \\\n",
       "1                JHL Capital Group, LLC  28.573 M    2022-09-29  16.09 %   \n",
       "2                      QVT Financial LP  13.655 M    2022-09-29   7.69 %   \n",
       "3            Vanguard Group, Inc. (The)   8.977 M    2022-09-29   5.06 %   \n",
       "4                        Blackrock Inc.   8.411 M    2022-09-29   4.74 %   \n",
       "5              State Street Corporation   4.298 M    2022-09-29   2.42 %   \n",
       "6   Bank Of New York Mellon Corporation   2.678 M    2022-09-29   1.51 %   \n",
       "7         Renaissance Technologies, LLC   2.625 M    2022-09-29   1.48 %   \n",
       "8        Van Eck Associates Corporation   2.031 M    2022-12-30   1.14 %   \n",
       "9           Bank of America Corporation   1.961 M    2022-09-29   1.10 %   \n",
       "10                         Invesco Ltd.   1.941 M    2022-09-29   1.09 %   \n",
       "\n",
       "        Value  \n",
       "1   884.917 M  \n",
       "2   422.904 M  \n",
       "3   278.024 M  \n",
       "4   260.494 M  \n",
       "5   133.107 M  \n",
       "6    82.947 M  \n",
       "7    81.309 M  \n",
       "8    62.903 M  \n",
       "9    60.735 M  \n",
       "10   60.115 M  "
      ]
     },
     "execution_count": 9,
     "metadata": {},
     "output_type": "execute_result"
    }
   ],
   "source": [
    "df_institutional_shareholders = openbb.stocks.fa.shrs(symbol, holder=\"institutional\")\n",
    "df_institutional_shareholders.index += 1\n",
    "df_institutional_shareholders"
   ]
  },
  {
   "cell_type": "code",
   "execution_count": 10,
   "id": "e101e24e",
   "metadata": {
    "papermill": {
     "duration": null,
     "end_time": null,
     "exception": null,
     "start_time": null,
     "status": "pending"
    },
    "tags": []
   },
   "outputs": [
    {
     "data": {
      "text/html": [
       "<div>\n",
       "<style scoped>\n",
       "    .dataframe tbody tr th:only-of-type {\n",
       "        vertical-align: middle;\n",
       "    }\n",
       "\n",
       "    .dataframe tbody tr th {\n",
       "        vertical-align: top;\n",
       "    }\n",
       "\n",
       "    .dataframe thead th {\n",
       "        text-align: right;\n",
       "    }\n",
       "</style>\n",
       "<table border=\"1\" class=\"dataframe\">\n",
       "  <thead>\n",
       "    <tr style=\"text-align: right;\">\n",
       "      <th></th>\n",
       "      <th>Holder</th>\n",
       "      <th>Shares</th>\n",
       "      <th>Date Reported</th>\n",
       "      <th>Stake</th>\n",
       "      <th>Value</th>\n",
       "    </tr>\n",
       "  </thead>\n",
       "  <tbody>\n",
       "    <tr>\n",
       "      <th>0</th>\n",
       "      <td>JHL Capital Group, LLC</td>\n",
       "      <td>28.573 M</td>\n",
       "      <td>2022-09-29</td>\n",
       "      <td>16.09 %</td>\n",
       "      <td>884.917 M</td>\n",
       "    </tr>\n",
       "    <tr>\n",
       "      <th>1</th>\n",
       "      <td>QVT Financial LP</td>\n",
       "      <td>13.655 M</td>\n",
       "      <td>2022-09-29</td>\n",
       "      <td>7.69 %</td>\n",
       "      <td>422.904 M</td>\n",
       "    </tr>\n",
       "    <tr>\n",
       "      <th>2</th>\n",
       "      <td>Vanguard Group, Inc. (The)</td>\n",
       "      <td>8.977 M</td>\n",
       "      <td>2022-09-29</td>\n",
       "      <td>5.06 %</td>\n",
       "      <td>278.024 M</td>\n",
       "    </tr>\n",
       "    <tr>\n",
       "      <th>3</th>\n",
       "      <td>Blackrock Inc.</td>\n",
       "      <td>8.411 M</td>\n",
       "      <td>2022-09-29</td>\n",
       "      <td>4.74 %</td>\n",
       "      <td>260.494 M</td>\n",
       "    </tr>\n",
       "    <tr>\n",
       "      <th>4</th>\n",
       "      <td>State Street Corporation</td>\n",
       "      <td>4.298 M</td>\n",
       "      <td>2022-09-29</td>\n",
       "      <td>2.42 %</td>\n",
       "      <td>133.107 M</td>\n",
       "    </tr>\n",
       "    <tr>\n",
       "      <th>5</th>\n",
       "      <td>Bank Of New York Mellon Corporation</td>\n",
       "      <td>2.678 M</td>\n",
       "      <td>2022-09-29</td>\n",
       "      <td>1.51 %</td>\n",
       "      <td>82.947 M</td>\n",
       "    </tr>\n",
       "    <tr>\n",
       "      <th>6</th>\n",
       "      <td>Renaissance Technologies, LLC</td>\n",
       "      <td>2.625 M</td>\n",
       "      <td>2022-09-29</td>\n",
       "      <td>1.48 %</td>\n",
       "      <td>81.309 M</td>\n",
       "    </tr>\n",
       "    <tr>\n",
       "      <th>7</th>\n",
       "      <td>Van Eck Associates Corporation</td>\n",
       "      <td>2.031 M</td>\n",
       "      <td>2022-12-30</td>\n",
       "      <td>1.14 %</td>\n",
       "      <td>62.903 M</td>\n",
       "    </tr>\n",
       "    <tr>\n",
       "      <th>8</th>\n",
       "      <td>Bank of America Corporation</td>\n",
       "      <td>1.961 M</td>\n",
       "      <td>2022-09-29</td>\n",
       "      <td>1.10 %</td>\n",
       "      <td>60.735 M</td>\n",
       "    </tr>\n",
       "    <tr>\n",
       "      <th>9</th>\n",
       "      <td>Invesco Ltd.</td>\n",
       "      <td>1.941 M</td>\n",
       "      <td>2022-09-29</td>\n",
       "      <td>1.09 %</td>\n",
       "      <td>60.115 M</td>\n",
       "    </tr>\n",
       "  </tbody>\n",
       "</table>\n",
       "</div>"
      ],
      "text/plain": [
       "                                Holder    Shares Date Reported    Stake  \\\n",
       "0               JHL Capital Group, LLC  28.573 M    2022-09-29  16.09 %   \n",
       "1                     QVT Financial LP  13.655 M    2022-09-29   7.69 %   \n",
       "2           Vanguard Group, Inc. (The)   8.977 M    2022-09-29   5.06 %   \n",
       "3                       Blackrock Inc.   8.411 M    2022-09-29   4.74 %   \n",
       "4             State Street Corporation   4.298 M    2022-09-29   2.42 %   \n",
       "5  Bank Of New York Mellon Corporation   2.678 M    2022-09-29   1.51 %   \n",
       "6        Renaissance Technologies, LLC   2.625 M    2022-09-29   1.48 %   \n",
       "7       Van Eck Associates Corporation   2.031 M    2022-12-30   1.14 %   \n",
       "8          Bank of America Corporation   1.961 M    2022-09-29   1.10 %   \n",
       "9                         Invesco Ltd.   1.941 M    2022-09-29   1.09 %   \n",
       "\n",
       "       Value  \n",
       "0  884.917 M  \n",
       "1  422.904 M  \n",
       "2  278.024 M  \n",
       "3  260.494 M  \n",
       "4  133.107 M  \n",
       "5   82.947 M  \n",
       "6   81.309 M  \n",
       "7   62.903 M  \n",
       "8   60.735 M  \n",
       "9   60.115 M  "
      ]
     },
     "execution_count": 10,
     "metadata": {},
     "output_type": "execute_result"
    }
   ],
   "source": [
    "openbb.stocks.fa.shrs(symbol)"
   ]
  },
  {
   "cell_type": "code",
   "execution_count": 11,
   "id": "9f2b5cf9",
   "metadata": {},
   "outputs": [],
   "source": [
    "#fig, ax = plt.subplots(figsize=(11,5), dpi=150)\n",
    "#dhelp.display_historical_metric([symbol],\"OSS\", external_axes=[\n",
    "#        ax,\n",
    "#    ])\n",
    "\n",
    "#fig.tight_layout()\n",
    "#f = io.BytesIO()\n",
    "#fig.savefig(f, format=\"svg\")\n",
    "#shares_outstanding_chart = f.getvalue().decode(\"utf-8\")"
   ]
  },
  {
   "cell_type": "code",
   "execution_count": 12,
   "id": "51dfd9d2",
   "metadata": {
    "papermill": {
     "duration": null,
     "end_time": null,
     "exception": null,
     "start_time": null,
     "status": "pending"
    },
    "tags": []
   },
   "outputs": [
    {
     "data": {
      "text/html": [
       "<div>\n",
       "<style scoped>\n",
       "    .dataframe tbody tr th:only-of-type {\n",
       "        vertical-align: middle;\n",
       "    }\n",
       "\n",
       "    .dataframe tbody tr th {\n",
       "        vertical-align: top;\n",
       "    }\n",
       "\n",
       "    .dataframe thead th {\n",
       "        text-align: right;\n",
       "    }\n",
       "</style>\n",
       "<table border=\"1\" class=\"dataframe\">\n",
       "  <thead>\n",
       "    <tr style=\"text-align: right;\">\n",
       "      <th></th>\n",
       "      <th>Holder</th>\n",
       "      <th>Shares</th>\n",
       "      <th>Date Reported</th>\n",
       "      <th>Stake</th>\n",
       "      <th>Value</th>\n",
       "    </tr>\n",
       "  </thead>\n",
       "  <tbody>\n",
       "    <tr>\n",
       "      <th>1</th>\n",
       "      <td>JHL Capital Group, LLC</td>\n",
       "      <td>28.573 M</td>\n",
       "      <td>2022-09-29</td>\n",
       "      <td>16.09 %</td>\n",
       "      <td>884.917 M</td>\n",
       "    </tr>\n",
       "    <tr>\n",
       "      <th>2</th>\n",
       "      <td>QVT Financial LP</td>\n",
       "      <td>13.655 M</td>\n",
       "      <td>2022-09-29</td>\n",
       "      <td>7.69 %</td>\n",
       "      <td>422.904 M</td>\n",
       "    </tr>\n",
       "    <tr>\n",
       "      <th>3</th>\n",
       "      <td>Vanguard Group, Inc. (The)</td>\n",
       "      <td>8.977 M</td>\n",
       "      <td>2022-09-29</td>\n",
       "      <td>5.06 %</td>\n",
       "      <td>278.024 M</td>\n",
       "    </tr>\n",
       "    <tr>\n",
       "      <th>4</th>\n",
       "      <td>Blackrock Inc.</td>\n",
       "      <td>8.411 M</td>\n",
       "      <td>2022-09-29</td>\n",
       "      <td>4.74 %</td>\n",
       "      <td>260.494 M</td>\n",
       "    </tr>\n",
       "    <tr>\n",
       "      <th>5</th>\n",
       "      <td>State Street Corporation</td>\n",
       "      <td>4.298 M</td>\n",
       "      <td>2022-09-29</td>\n",
       "      <td>2.42 %</td>\n",
       "      <td>133.107 M</td>\n",
       "    </tr>\n",
       "    <tr>\n",
       "      <th>6</th>\n",
       "      <td>Bank Of New York Mellon Corporation</td>\n",
       "      <td>2.678 M</td>\n",
       "      <td>2022-09-29</td>\n",
       "      <td>1.51 %</td>\n",
       "      <td>82.947 M</td>\n",
       "    </tr>\n",
       "    <tr>\n",
       "      <th>7</th>\n",
       "      <td>Renaissance Technologies, LLC</td>\n",
       "      <td>2.625 M</td>\n",
       "      <td>2022-09-29</td>\n",
       "      <td>1.48 %</td>\n",
       "      <td>81.309 M</td>\n",
       "    </tr>\n",
       "    <tr>\n",
       "      <th>8</th>\n",
       "      <td>Van Eck Associates Corporation</td>\n",
       "      <td>2.031 M</td>\n",
       "      <td>2022-12-30</td>\n",
       "      <td>1.14 %</td>\n",
       "      <td>62.903 M</td>\n",
       "    </tr>\n",
       "    <tr>\n",
       "      <th>9</th>\n",
       "      <td>Bank of America Corporation</td>\n",
       "      <td>1.961 M</td>\n",
       "      <td>2022-09-29</td>\n",
       "      <td>1.10 %</td>\n",
       "      <td>60.735 M</td>\n",
       "    </tr>\n",
       "    <tr>\n",
       "      <th>10</th>\n",
       "      <td>Invesco Ltd.</td>\n",
       "      <td>1.941 M</td>\n",
       "      <td>2022-09-29</td>\n",
       "      <td>1.09 %</td>\n",
       "      <td>60.115 M</td>\n",
       "    </tr>\n",
       "  </tbody>\n",
       "</table>\n",
       "</div>"
      ],
      "text/plain": [
       "                                 Holder    Shares Date Reported    Stake  \\\n",
       "1                JHL Capital Group, LLC  28.573 M    2022-09-29  16.09 %   \n",
       "2                      QVT Financial LP  13.655 M    2022-09-29   7.69 %   \n",
       "3            Vanguard Group, Inc. (The)   8.977 M    2022-09-29   5.06 %   \n",
       "4                        Blackrock Inc.   8.411 M    2022-09-29   4.74 %   \n",
       "5              State Street Corporation   4.298 M    2022-09-29   2.42 %   \n",
       "6   Bank Of New York Mellon Corporation   2.678 M    2022-09-29   1.51 %   \n",
       "7         Renaissance Technologies, LLC   2.625 M    2022-09-29   1.48 %   \n",
       "8        Van Eck Associates Corporation   2.031 M    2022-12-30   1.14 %   \n",
       "9           Bank of America Corporation   1.961 M    2022-09-29   1.10 %   \n",
       "10                         Invesco Ltd.   1.941 M    2022-09-29   1.09 %   \n",
       "\n",
       "        Value  \n",
       "1   884.917 M  \n",
       "2   422.904 M  \n",
       "3   278.024 M  \n",
       "4   260.494 M  \n",
       "5   133.107 M  \n",
       "6    82.947 M  \n",
       "7    81.309 M  \n",
       "8    62.903 M  \n",
       "9    60.735 M  \n",
       "10   60.115 M  "
      ]
     },
     "execution_count": 12,
     "metadata": {},
     "output_type": "execute_result"
    }
   ],
   "source": [
    "df_institutional_shareholders = openbb.stocks.fa.shrs(symbol)\n",
    "df_institutional_shareholders.index += 1\n",
    "df_institutional_shareholders"
   ]
  },
  {
   "cell_type": "code",
   "execution_count": 13,
   "id": "3022130e",
   "metadata": {
    "papermill": {
     "duration": null,
     "end_time": null,
     "exception": null,
     "start_time": null,
     "status": "pending"
    },
    "tags": []
   },
   "outputs": [
    {
     "data": {
      "text/html": [
       "<div>\n",
       "<style scoped>\n",
       "    .dataframe tbody tr th:only-of-type {\n",
       "        vertical-align: middle;\n",
       "    }\n",
       "\n",
       "    .dataframe tbody tr th {\n",
       "        vertical-align: top;\n",
       "    }\n",
       "\n",
       "    .dataframe thead th {\n",
       "        text-align: right;\n",
       "    }\n",
       "</style>\n",
       "<table border=\"1\" class=\"dataframe\">\n",
       "  <thead>\n",
       "    <tr style=\"text-align: right;\">\n",
       "      <th></th>\n",
       "      <th>Type</th>\n",
       "      <th>Category</th>\n",
       "      <th>Link</th>\n",
       "    </tr>\n",
       "    <tr>\n",
       "      <th>Filing Date</th>\n",
       "      <th></th>\n",
       "      <th></th>\n",
       "      <th></th>\n",
       "    </tr>\n",
       "  </thead>\n",
       "  <tbody>\n",
       "    <tr>\n",
       "      <th>02/09/2023</th>\n",
       "      <td>SC 13G</td>\n",
       "      <td>Institutional Ownership</td>\n",
       "      <td>&lt;a href=\"https://www.marketwatch.com/investing/stock/mp/financials/secfilings?docid=16381028\"&gt;https://www.marketwatch.com/investing/stock/mp/financials/secfilings?docid=16381028&lt;/a&gt;</td>\n",
       "    </tr>\n",
       "    <tr>\n",
       "      <th>02/09/2023</th>\n",
       "      <td>SC 13G</td>\n",
       "      <td>Institutional Ownership</td>\n",
       "      <td>&lt;a href=\"https://www.marketwatch.com/investing/stock/mp/financials/secfilings?docid=16378730\"&gt;https://www.marketwatch.com/investing/stock/mp/financials/secfilings?docid=16378730&lt;/a&gt;</td>\n",
       "    </tr>\n",
       "    <tr>\n",
       "      <th>02/08/2023</th>\n",
       "      <td>SC 13G</td>\n",
       "      <td>Institutional Ownership</td>\n",
       "      <td>&lt;a href=\"https://www.marketwatch.com/investing/stock/mp/financials/secfilings?docid=16375272\"&gt;https://www.marketwatch.com/investing/stock/mp/financials/secfilings?docid=16375272&lt;/a&gt;</td>\n",
       "    </tr>\n",
       "    <tr>\n",
       "      <th>11/04/2022</th>\n",
       "      <td>10-Q</td>\n",
       "      <td>Quarterly Reports</td>\n",
       "      <td>&lt;a href=\"https://www.marketwatch.com/investing/stock/mp/financials/secfilings?docid=16177455\"&gt;https://www.marketwatch.com/investing/stock/mp/financials/secfilings?docid=16177455&lt;/a&gt;</td>\n",
       "    </tr>\n",
       "    <tr>\n",
       "      <th>11/03/2022</th>\n",
       "      <td>8-K</td>\n",
       "      <td>Special Events</td>\n",
       "      <td>&lt;a href=\"https://www.marketwatch.com/investing/stock/mp/financials/secfilings?docid=16174979\"&gt;https://www.marketwatch.com/investing/stock/mp/financials/secfilings?docid=16174979&lt;/a&gt;</td>\n",
       "    </tr>\n",
       "  </tbody>\n",
       "</table>\n",
       "</div>"
      ],
      "text/plain": [
       "               Type                 Category  \\\n",
       "Filing Date                                    \n",
       "02/09/2023   SC 13G  Institutional Ownership   \n",
       "02/09/2023   SC 13G  Institutional Ownership   \n",
       "02/08/2023   SC 13G  Institutional Ownership   \n",
       "11/04/2022     10-Q        Quarterly Reports   \n",
       "11/03/2022      8-K           Special Events   \n",
       "\n",
       "                                                                                                                                                                                              Link  \n",
       "Filing Date                                                                                                                                                                                         \n",
       "02/09/2023   <a href=\"https://www.marketwatch.com/investing/stock/mp/financials/secfilings?docid=16381028\">https://www.marketwatch.com/investing/stock/mp/financials/secfilings?docid=16381028</a>  \n",
       "02/09/2023   <a href=\"https://www.marketwatch.com/investing/stock/mp/financials/secfilings?docid=16378730\">https://www.marketwatch.com/investing/stock/mp/financials/secfilings?docid=16378730</a>  \n",
       "02/08/2023   <a href=\"https://www.marketwatch.com/investing/stock/mp/financials/secfilings?docid=16375272\">https://www.marketwatch.com/investing/stock/mp/financials/secfilings?docid=16375272</a>  \n",
       "11/04/2022   <a href=\"https://www.marketwatch.com/investing/stock/mp/financials/secfilings?docid=16177455\">https://www.marketwatch.com/investing/stock/mp/financials/secfilings?docid=16177455</a>  \n",
       "11/03/2022   <a href=\"https://www.marketwatch.com/investing/stock/mp/financials/secfilings?docid=16174979\">https://www.marketwatch.com/investing/stock/mp/financials/secfilings?docid=16174979</a>  "
      ]
     },
     "execution_count": 13,
     "metadata": {},
     "output_type": "execute_result"
    }
   ],
   "source": [
    "df_sec_filings = openbb.stocks.dd.sec(symbol=symbol)\n",
    "if (len(df_sec_filings) > 0):\n",
    "    df_sec_filings = df_sec_filings[[\"Type\", \"Category\", \"Link\"]].head(\n",
    "        5\n",
    "    )\n",
    "    df_sec_filings[\"Link\"] = df_sec_filings[\"Link\"].apply(\n",
    "        lambda x: f'<a href=\"{x}\">{x}</a>'\n",
    "    )\n",
    "df_sec_filings"
   ]
  },
  {
   "cell_type": "code",
   "execution_count": 14,
   "id": "4662b1ac",
   "metadata": {
    "papermill": {
     "duration": null,
     "end_time": null,
     "exception": null,
     "start_time": null,
     "status": "pending"
    },
    "tags": []
   },
   "outputs": [],
   "source": [
    "df_analyst = openbb.stocks.dd.analyst(symbol=symbol)"
   ]
  },
  {
   "cell_type": "code",
   "execution_count": 15,
   "id": "df8bdb7d",
   "metadata": {
    "papermill": {
     "duration": null,
     "end_time": null,
     "exception": null,
     "start_time": null,
     "status": "pending"
    },
    "tags": []
   },
   "outputs": [
    {
     "data": {
      "text/html": [
       "<div>\n",
       "<style scoped>\n",
       "    .dataframe tbody tr th:only-of-type {\n",
       "        vertical-align: middle;\n",
       "    }\n",
       "\n",
       "    .dataframe tbody tr th {\n",
       "        vertical-align: top;\n",
       "    }\n",
       "\n",
       "    .dataframe thead th {\n",
       "        text-align: right;\n",
       "    }\n",
       "</style>\n",
       "<table border=\"1\" class=\"dataframe\">\n",
       "  <thead>\n",
       "    <tr style=\"text-align: right;\">\n",
       "      <th></th>\n",
       "      <th>Rating</th>\n",
       "      <th>DCF</th>\n",
       "      <th>ROE</th>\n",
       "      <th>ROA</th>\n",
       "      <th>DE</th>\n",
       "      <th>PE</th>\n",
       "      <th>PB</th>\n",
       "    </tr>\n",
       "    <tr>\n",
       "      <th>date</th>\n",
       "      <th></th>\n",
       "      <th></th>\n",
       "      <th></th>\n",
       "      <th></th>\n",
       "      <th></th>\n",
       "      <th></th>\n",
       "      <th></th>\n",
       "    </tr>\n",
       "  </thead>\n",
       "  <tbody>\n",
       "    <tr>\n",
       "      <th>2023-02-09</th>\n",
       "      <td>Strong Buy</td>\n",
       "      <td>Strong Buy</td>\n",
       "      <td>Neutral</td>\n",
       "      <td>Neutral</td>\n",
       "      <td>Buy</td>\n",
       "      <td>Strong Buy</td>\n",
       "      <td>Strong Buy</td>\n",
       "    </tr>\n",
       "    <tr>\n",
       "      <th>2023-02-08</th>\n",
       "      <td>Strong Buy</td>\n",
       "      <td>Strong Buy</td>\n",
       "      <td>Neutral</td>\n",
       "      <td>Neutral</td>\n",
       "      <td>Buy</td>\n",
       "      <td>Strong Buy</td>\n",
       "      <td>Strong Buy</td>\n",
       "    </tr>\n",
       "    <tr>\n",
       "      <th>2023-02-07</th>\n",
       "      <td>Strong Buy</td>\n",
       "      <td>Strong Buy</td>\n",
       "      <td>Neutral</td>\n",
       "      <td>Neutral</td>\n",
       "      <td>Buy</td>\n",
       "      <td>Strong Buy</td>\n",
       "      <td>Strong Buy</td>\n",
       "    </tr>\n",
       "    <tr>\n",
       "      <th>2023-02-06</th>\n",
       "      <td>Strong Buy</td>\n",
       "      <td>Strong Buy</td>\n",
       "      <td>Neutral</td>\n",
       "      <td>Neutral</td>\n",
       "      <td>Buy</td>\n",
       "      <td>Strong Buy</td>\n",
       "      <td>Strong Buy</td>\n",
       "    </tr>\n",
       "    <tr>\n",
       "      <th>2023-02-03</th>\n",
       "      <td>Strong Buy</td>\n",
       "      <td>Strong Buy</td>\n",
       "      <td>Neutral</td>\n",
       "      <td>Neutral</td>\n",
       "      <td>Buy</td>\n",
       "      <td>Strong Buy</td>\n",
       "      <td>Strong Buy</td>\n",
       "    </tr>\n",
       "    <tr>\n",
       "      <th>...</th>\n",
       "      <td>...</td>\n",
       "      <td>...</td>\n",
       "      <td>...</td>\n",
       "      <td>...</td>\n",
       "      <td>...</td>\n",
       "      <td>...</td>\n",
       "      <td>...</td>\n",
       "    </tr>\n",
       "    <tr>\n",
       "      <th>2021-05-27</th>\n",
       "      <td>Strong Buy</td>\n",
       "      <td>Strong Buy</td>\n",
       "      <td>Neutral</td>\n",
       "      <td>Neutral</td>\n",
       "      <td>Buy</td>\n",
       "      <td>Strong Buy</td>\n",
       "      <td>Strong Buy</td>\n",
       "    </tr>\n",
       "    <tr>\n",
       "      <th>2021-05-26</th>\n",
       "      <td>Strong Buy</td>\n",
       "      <td>Strong Buy</td>\n",
       "      <td>Neutral</td>\n",
       "      <td>Neutral</td>\n",
       "      <td>Buy</td>\n",
       "      <td>Strong Buy</td>\n",
       "      <td>Strong Buy</td>\n",
       "    </tr>\n",
       "    <tr>\n",
       "      <th>2021-05-25</th>\n",
       "      <td>Strong Buy</td>\n",
       "      <td>Strong Buy</td>\n",
       "      <td>Neutral</td>\n",
       "      <td>Neutral</td>\n",
       "      <td>Buy</td>\n",
       "      <td>Strong Buy</td>\n",
       "      <td>Strong Buy</td>\n",
       "    </tr>\n",
       "    <tr>\n",
       "      <th>2021-05-24</th>\n",
       "      <td>Strong Buy</td>\n",
       "      <td>Strong Buy</td>\n",
       "      <td>Neutral</td>\n",
       "      <td>Neutral</td>\n",
       "      <td>Buy</td>\n",
       "      <td>Strong Buy</td>\n",
       "      <td>Strong Buy</td>\n",
       "    </tr>\n",
       "    <tr>\n",
       "      <th>2021-05-21</th>\n",
       "      <td>Strong Buy</td>\n",
       "      <td>Strong Buy</td>\n",
       "      <td>Neutral</td>\n",
       "      <td>Neutral</td>\n",
       "      <td>Buy</td>\n",
       "      <td>Strong Buy</td>\n",
       "      <td>Strong Buy</td>\n",
       "    </tr>\n",
       "  </tbody>\n",
       "</table>\n",
       "<p>429 rows × 7 columns</p>\n",
       "</div>"
      ],
      "text/plain": [
       "                Rating         DCF      ROE      ROA   DE          PE  \\\n",
       "date                                                                    \n",
       "2023-02-09  Strong Buy  Strong Buy  Neutral  Neutral  Buy  Strong Buy   \n",
       "2023-02-08  Strong Buy  Strong Buy  Neutral  Neutral  Buy  Strong Buy   \n",
       "2023-02-07  Strong Buy  Strong Buy  Neutral  Neutral  Buy  Strong Buy   \n",
       "2023-02-06  Strong Buy  Strong Buy  Neutral  Neutral  Buy  Strong Buy   \n",
       "2023-02-03  Strong Buy  Strong Buy  Neutral  Neutral  Buy  Strong Buy   \n",
       "...                ...         ...      ...      ...  ...         ...   \n",
       "2021-05-27  Strong Buy  Strong Buy  Neutral  Neutral  Buy  Strong Buy   \n",
       "2021-05-26  Strong Buy  Strong Buy  Neutral  Neutral  Buy  Strong Buy   \n",
       "2021-05-25  Strong Buy  Strong Buy  Neutral  Neutral  Buy  Strong Buy   \n",
       "2021-05-24  Strong Buy  Strong Buy  Neutral  Neutral  Buy  Strong Buy   \n",
       "2021-05-21  Strong Buy  Strong Buy  Neutral  Neutral  Buy  Strong Buy   \n",
       "\n",
       "                    PB  \n",
       "date                    \n",
       "2023-02-09  Strong Buy  \n",
       "2023-02-08  Strong Buy  \n",
       "2023-02-07  Strong Buy  \n",
       "2023-02-06  Strong Buy  \n",
       "2023-02-03  Strong Buy  \n",
       "...                ...  \n",
       "2021-05-27  Strong Buy  \n",
       "2021-05-26  Strong Buy  \n",
       "2021-05-25  Strong Buy  \n",
       "2021-05-24  Strong Buy  \n",
       "2021-05-21  Strong Buy  \n",
       "\n",
       "[429 rows x 7 columns]"
      ]
     },
     "execution_count": 15,
     "metadata": {},
     "output_type": "execute_result"
    }
   ],
   "source": [
    "df_rating = openbb.stocks.dd.rating(symbol)\n",
    "df_rating"
   ]
  },
  {
   "cell_type": "code",
   "execution_count": 16,
   "id": "d0df953b",
   "metadata": {
    "papermill": {
     "duration": null,
     "end_time": null,
     "exception": null,
     "start_time": null,
     "status": "pending"
    },
    "tags": []
   },
   "outputs": [
    {
     "data": {
      "image/svg+xml": "<?xml version=\"1.0\" encoding=\"utf-8\" standalone=\"no\"?>\n<!DOCTYPE svg PUBLIC \"-//W3C//DTD SVG 1.1//EN\"\n  \"http://www.w3.org/Graphics/SVG/1.1/DTD/svg11.dtd\">\n<svg xmlns:xlink=\"http://www.w3.org/1999/xlink\" width=\"778.334258pt\" height=\"201.634818pt\" viewBox=\"0 0 778.334258 201.634818\" xmlns=\"http://www.w3.org/2000/svg\" version=\"1.1\">\n <metadata>\n  <rdf:RDF xmlns:dc=\"http://purl.org/dc/elements/1.1/\" xmlns:cc=\"http://creativecommons.org/ns#\" xmlns:rdf=\"http://www.w3.org/1999/02/22-rdf-syntax-ns#\">\n   <cc:Work>\n    <dc:type rdf:resource=\"http://purl.org/dc/dcmitype/StillImage\"/>\n    <dc:date>2023-02-10T10:45:38.907912</dc:date>\n    <dc:format>image/svg+xml</dc:format>\n    <dc:creator>\n     <cc:Agent>\n      <dc:title>Matplotlib v3.6.2, https://matplotlib.org/</dc:title>\n     </cc:Agent>\n    </dc:creator>\n   </cc:Work>\n  </rdf:RDF>\n </metadata>\n <defs>\n  <style type=\"text/css\">*{stroke-linejoin: round; stroke-linecap: butt}</style>\n </defs>\n <g id=\"figure_1\">\n  <g id=\"patch_1\">\n   <path d=\"M 0 201.634818 \nL 778.334258 201.634818 \nL 778.334258 0 \nL 0 0 \nz\n\" style=\"fill: #ffffff\"/>\n  </g>\n  <g id=\"axes_1\">\n   <g id=\"patch_2\">\n    <path d=\"M 7.2 172.204139 \nL 759.68 172.204139 \nL 759.68 23.964 \nL 7.2 23.964 \nz\n\" style=\"fill: #ffffff\"/>\n   </g>\n   <g id=\"matplotlib.axis_1\">\n    <g id=\"xtick_1\">\n     <g id=\"line2d_1\">\n      <path d=\"M 77.110729 172.204139 \nL 77.110729 23.964 \n\" clip-path=\"url(#pc618f686c2)\" style=\"fill: none; stroke-dasharray: 0.4,0.66; stroke-dashoffset: 0; stroke: #0f0f0f; stroke-width: 0.4; stroke-linejoin: miter\"/>\n     </g>\n     <g id=\"line2d_2\">\n      <defs>\n       <path id=\"m17d67d66c0\" d=\"M 0 0 \nL 0 2 \n\" style=\"stroke: #0f0f0f; stroke-width: 0.2\"/>\n      </defs>\n      <g>\n       <use xlink:href=\"#m17d67d66c0\" x=\"77.110729\" y=\"172.204139\" style=\"fill: #0f0f0f; stroke: #0f0f0f; stroke-width: 0.2\"/>\n      </g>\n     </g>\n     <g id=\"text_1\">\n      <!-- 2022-03 -->\n      <g style=\"fill: #0f0f0f\" transform=\"translate(57.047991 192.300255) rotate(-10) scale(0.10829 -0.10829)\">\n       <defs>\n        <path id=\"Consolas-32\" d=\"M 3150 0 \nL 459 0 \nL 459 488 \nL 1516 1538 \nQ 1775 1794 1937 1981 \nQ 2100 2169 2190 2323 \nQ 2281 2478 2312 2615 \nQ 2344 2753 2344 2913 \nQ 2344 3063 2303 3198 \nQ 2263 3334 2178 3437 \nQ 2094 3541 1959 3600 \nQ 1825 3659 1638 3659 \nQ 1378 3659 1165 3543 \nQ 953 3428 775 3244 \nL 475 3603 \nQ 706 3847 1007 3994 \nQ 1309 4141 1709 4141 \nQ 1981 4141 2204 4059 \nQ 2428 3978 2590 3825 \nQ 2753 3672 2842 3450 \nQ 2931 3228 2931 2950 \nQ 2931 2716 2868 2516 \nQ 2806 2316 2679 2117 \nQ 2553 1919 2361 1706 \nQ 2169 1494 1906 1241 \nL 1166 519 \nL 3150 519 \nL 3150 0 \nz\n\" transform=\"scale(0.015625)\"/>\n        <path id=\"Consolas-30\" d=\"M 3244 2041 \nQ 3244 1572 3150 1186 \nQ 3056 800 2865 523 \nQ 2675 247 2392 95 \nQ 2109 -56 1728 -56 \nQ 1400 -56 1131 67 \nQ 863 191 672 447 \nQ 481 703 378 1100 \nQ 275 1497 275 2041 \nQ 275 2509 370 2896 \nQ 466 3284 655 3561 \nQ 844 3838 1128 3989 \nQ 1413 4141 1791 4141 \nQ 2119 4141 2387 4017 \nQ 2656 3894 2847 3636 \nQ 3038 3378 3141 2981 \nQ 3244 2584 3244 2041 \nz\nM 2694 2022 \nQ 2694 2128 2686 2233 \nQ 2678 2338 2669 2438 \nL 941 1153 \nQ 988 991 1059 853 \nQ 1131 716 1232 617 \nQ 1334 519 1464 464 \nQ 1594 409 1759 409 \nQ 1972 409 2145 512 \nQ 2319 616 2441 819 \nQ 2563 1022 2628 1323 \nQ 2694 1625 2694 2022 \nz\nM 825 2059 \nQ 825 1963 826 1866 \nQ 828 1769 838 1678 \nL 2566 2956 \nQ 2519 3116 2447 3247 \nQ 2375 3378 2275 3473 \nQ 2175 3569 2047 3622 \nQ 1919 3675 1759 3675 \nQ 1547 3675 1373 3572 \nQ 1200 3469 1078 3264 \nQ 956 3059 890 2757 \nQ 825 2456 825 2059 \nz\n\" transform=\"scale(0.015625)\"/>\n        <path id=\"Consolas-2d\" d=\"M 2694 1447 \nL 825 1447 \nL 825 1959 \nL 2694 1959 \nL 2694 1447 \nz\n\" transform=\"scale(0.015625)\"/>\n        <path id=\"Consolas-33\" d=\"M 3072 1241 \nQ 3072 972 2962 736 \nQ 2853 500 2634 323 \nQ 2416 147 2084 45 \nQ 1753 -56 1313 -56 \nQ 1069 -56 875 -40 \nQ 681 -25 513 0 \nL 513 488 \nQ 706 453 922 434 \nQ 1138 416 1363 416 \nQ 1669 416 1886 470 \nQ 2103 525 2240 628 \nQ 2378 731 2440 878 \nQ 2503 1025 2503 1209 \nQ 2503 1378 2428 1503 \nQ 2353 1628 2217 1712 \nQ 2081 1797 1892 1839 \nQ 1703 1881 1478 1881 \nL 1013 1881 \nL 1013 2328 \nL 1484 2328 \nQ 1669 2328 1820 2376 \nQ 1972 2425 2080 2515 \nQ 2188 2606 2245 2739 \nQ 2303 2872 2303 3041 \nQ 2303 3369 2103 3519 \nQ 1903 3669 1516 3669 \nQ 1309 3669 1090 3628 \nQ 872 3588 622 3506 \nL 622 3981 \nQ 728 4019 848 4048 \nQ 969 4078 1089 4098 \nQ 1209 4119 1328 4130 \nQ 1447 4141 1556 4141 \nQ 1881 4141 2128 4070 \nQ 2375 4000 2540 3869 \nQ 2706 3738 2790 3550 \nQ 2875 3363 2875 3128 \nQ 2875 2778 2695 2540 \nQ 2516 2303 2203 2163 \nQ 2363 2138 2517 2063 \nQ 2672 1988 2795 1870 \nQ 2919 1753 2995 1593 \nQ 3072 1434 3072 1241 \nz\n\" transform=\"scale(0.015625)\"/>\n       </defs>\n       <use xlink:href=\"#Consolas-32\"/>\n       <use xlink:href=\"#Consolas-30\" x=\"54.980469\"/>\n       <use xlink:href=\"#Consolas-32\" x=\"109.960938\"/>\n       <use xlink:href=\"#Consolas-32\" x=\"164.941406\"/>\n       <use xlink:href=\"#Consolas-2d\" x=\"219.921875\"/>\n       <use xlink:href=\"#Consolas-30\" x=\"274.902344\"/>\n       <use xlink:href=\"#Consolas-33\" x=\"329.882812\"/>\n      </g>\n     </g>\n    </g>\n    <g id=\"xtick_2\">\n     <g id=\"line2d_3\">\n      <path d=\"M 191.749291 172.204139 \nL 191.749291 23.964 \n\" clip-path=\"url(#pc618f686c2)\" style=\"fill: none; stroke-dasharray: 0.4,0.66; stroke-dashoffset: 0; stroke: #0f0f0f; stroke-width: 0.4; stroke-linejoin: miter\"/>\n     </g>\n     <g id=\"line2d_4\">\n      <g>\n       <use xlink:href=\"#m17d67d66c0\" x=\"191.749291\" y=\"172.204139\" style=\"fill: #0f0f0f; stroke: #0f0f0f; stroke-width: 0.2\"/>\n      </g>\n     </g>\n     <g id=\"text_2\">\n      <!-- 2022-05 -->\n      <g style=\"fill: #0f0f0f\" transform=\"translate(171.686553 192.300255) rotate(-10) scale(0.10829 -0.10829)\">\n       <defs>\n        <path id=\"Consolas-35\" d=\"M 3047 1306 \nQ 3047 1003 2915 753 \nQ 2784 503 2554 323 \nQ 2325 144 2012 44 \nQ 1700 -56 1338 -56 \nQ 1247 -56 1142 -51 \nQ 1038 -47 934 -39 \nQ 831 -31 732 -22 \nQ 634 -13 556 0 \nL 556 494 \nQ 725 453 942 434 \nQ 1159 416 1381 416 \nQ 1631 416 1831 475 \nQ 2031 534 2172 645 \nQ 2313 756 2388 914 \nQ 2463 1072 2463 1269 \nQ 2463 1650 2189 1823 \nQ 1916 1997 1403 1997 \nL 628 1997 \nL 628 4084 \nL 2828 4084 \nL 2828 3609 \nL 1141 3609 \nL 1141 2463 \nL 1497 2463 \nQ 1791 2463 2069 2409 \nQ 2347 2356 2564 2223 \nQ 2781 2091 2914 1867 \nQ 3047 1644 3047 1306 \nz\n\" transform=\"scale(0.015625)\"/>\n       </defs>\n       <use xlink:href=\"#Consolas-32\"/>\n       <use xlink:href=\"#Consolas-30\" x=\"54.980469\"/>\n       <use xlink:href=\"#Consolas-32\" x=\"109.960938\"/>\n       <use xlink:href=\"#Consolas-32\" x=\"164.941406\"/>\n       <use xlink:href=\"#Consolas-2d\" x=\"219.921875\"/>\n       <use xlink:href=\"#Consolas-30\" x=\"274.902344\"/>\n       <use xlink:href=\"#Consolas-35\" x=\"329.882812\"/>\n      </g>\n     </g>\n    </g>\n    <g id=\"xtick_3\">\n     <g id=\"line2d_5\">\n      <path d=\"M 306.387852 172.204139 \nL 306.387852 23.964 \n\" clip-path=\"url(#pc618f686c2)\" style=\"fill: none; stroke-dasharray: 0.4,0.66; stroke-dashoffset: 0; stroke: #0f0f0f; stroke-width: 0.4; stroke-linejoin: miter\"/>\n     </g>\n     <g id=\"line2d_6\">\n      <g>\n       <use xlink:href=\"#m17d67d66c0\" x=\"306.387852\" y=\"172.204139\" style=\"fill: #0f0f0f; stroke: #0f0f0f; stroke-width: 0.2\"/>\n      </g>\n     </g>\n     <g id=\"text_3\">\n      <!-- 2022-07 -->\n      <g style=\"fill: #0f0f0f\" transform=\"translate(286.325114 192.300255) rotate(-10) scale(0.10829 -0.10829)\">\n       <defs>\n        <path id=\"Consolas-37\" d=\"M 3128 3578 \nL 1416 0 \nL 794 0 \nL 2572 3578 \nL 366 3578 \nL 366 4084 \nL 3128 4084 \nL 3128 3578 \nz\n\" transform=\"scale(0.015625)\"/>\n       </defs>\n       <use xlink:href=\"#Consolas-32\"/>\n       <use xlink:href=\"#Consolas-30\" x=\"54.980469\"/>\n       <use xlink:href=\"#Consolas-32\" x=\"109.960938\"/>\n       <use xlink:href=\"#Consolas-32\" x=\"164.941406\"/>\n       <use xlink:href=\"#Consolas-2d\" x=\"219.921875\"/>\n       <use xlink:href=\"#Consolas-30\" x=\"274.902344\"/>\n       <use xlink:href=\"#Consolas-37\" x=\"329.882812\"/>\n      </g>\n     </g>\n    </g>\n    <g id=\"xtick_4\">\n     <g id=\"line2d_7\">\n      <path d=\"M 422.905734 172.204139 \nL 422.905734 23.964 \n\" clip-path=\"url(#pc618f686c2)\" style=\"fill: none; stroke-dasharray: 0.4,0.66; stroke-dashoffset: 0; stroke: #0f0f0f; stroke-width: 0.4; stroke-linejoin: miter\"/>\n     </g>\n     <g id=\"line2d_8\">\n      <g>\n       <use xlink:href=\"#m17d67d66c0\" x=\"422.905734\" y=\"172.204139\" style=\"fill: #0f0f0f; stroke: #0f0f0f; stroke-width: 0.2\"/>\n      </g>\n     </g>\n     <g id=\"text_4\">\n      <!-- 2022-09 -->\n      <g style=\"fill: #0f0f0f\" transform=\"translate(402.842996 192.300255) rotate(-10) scale(0.10829 -0.10829)\">\n       <defs>\n        <path id=\"Consolas-39\" d=\"M 3128 2272 \nQ 3128 1675 2984 1245 \nQ 2841 816 2559 539 \nQ 2278 263 1862 131 \nQ 1447 0 903 0 \nL 563 0 \nL 563 475 \nL 941 475 \nQ 1344 475 1637 556 \nQ 1931 638 2126 795 \nQ 2322 953 2425 1179 \nQ 2528 1406 2553 1697 \nL 2566 1825 \nQ 2369 1709 2112 1639 \nQ 1856 1569 1556 1569 \nQ 1247 1569 1012 1659 \nQ 778 1750 623 1912 \nQ 469 2075 391 2298 \nQ 313 2522 313 2784 \nQ 313 3069 416 3316 \nQ 519 3563 705 3745 \nQ 891 3928 1150 4034 \nQ 1409 4141 1722 4141 \nQ 2025 4141 2283 4041 \nQ 2541 3941 2728 3717 \nQ 2916 3494 3022 3137 \nQ 3128 2781 3128 2272 \nz\nM 1697 3694 \nQ 1522 3694 1373 3636 \nQ 1225 3578 1117 3467 \nQ 1009 3356 946 3193 \nQ 884 3031 884 2822 \nQ 884 2631 929 2481 \nQ 975 2331 1070 2226 \nQ 1166 2122 1316 2065 \nQ 1466 2009 1672 2009 \nQ 1788 2009 1911 2031 \nQ 2034 2053 2151 2090 \nQ 2269 2128 2375 2178 \nQ 2481 2228 2566 2284 \nQ 2566 2688 2506 2958 \nQ 2447 3228 2334 3392 \nQ 2222 3556 2061 3625 \nQ 1900 3694 1697 3694 \nz\n\" transform=\"scale(0.015625)\"/>\n       </defs>\n       <use xlink:href=\"#Consolas-32\"/>\n       <use xlink:href=\"#Consolas-30\" x=\"54.980469\"/>\n       <use xlink:href=\"#Consolas-32\" x=\"109.960938\"/>\n       <use xlink:href=\"#Consolas-32\" x=\"164.941406\"/>\n       <use xlink:href=\"#Consolas-2d\" x=\"219.921875\"/>\n       <use xlink:href=\"#Consolas-30\" x=\"274.902344\"/>\n       <use xlink:href=\"#Consolas-39\" x=\"329.882812\"/>\n      </g>\n     </g>\n    </g>\n    <g id=\"xtick_5\">\n     <g id=\"line2d_9\">\n      <path d=\"M 537.544296 172.204139 \nL 537.544296 23.964 \n\" clip-path=\"url(#pc618f686c2)\" style=\"fill: none; stroke-dasharray: 0.4,0.66; stroke-dashoffset: 0; stroke: #0f0f0f; stroke-width: 0.4; stroke-linejoin: miter\"/>\n     </g>\n     <g id=\"line2d_10\">\n      <g>\n       <use xlink:href=\"#m17d67d66c0\" x=\"537.544296\" y=\"172.204139\" style=\"fill: #0f0f0f; stroke: #0f0f0f; stroke-width: 0.2\"/>\n      </g>\n     </g>\n     <g id=\"text_5\">\n      <!-- 2022-11 -->\n      <g style=\"fill: #0f0f0f\" transform=\"translate(517.481558 192.300255) rotate(-10) scale(0.10829 -0.10829)\">\n       <defs>\n        <path id=\"Consolas-31\" d=\"M 3116 0 \nL 550 0 \nL 550 506 \nL 1600 506 \nL 1600 3488 \nL 622 2956 \nL 422 3419 \nL 1722 4103 \nL 2203 4103 \nL 2203 506 \nL 3116 506 \nL 3116 0 \nz\n\" transform=\"scale(0.015625)\"/>\n       </defs>\n       <use xlink:href=\"#Consolas-32\"/>\n       <use xlink:href=\"#Consolas-30\" x=\"54.980469\"/>\n       <use xlink:href=\"#Consolas-32\" x=\"109.960938\"/>\n       <use xlink:href=\"#Consolas-32\" x=\"164.941406\"/>\n       <use xlink:href=\"#Consolas-2d\" x=\"219.921875\"/>\n       <use xlink:href=\"#Consolas-31\" x=\"274.902344\"/>\n       <use xlink:href=\"#Consolas-31\" x=\"329.882812\"/>\n      </g>\n     </g>\n    </g>\n    <g id=\"xtick_6\">\n     <g id=\"line2d_11\">\n      <path d=\"M 652.182857 172.204139 \nL 652.182857 23.964 \n\" clip-path=\"url(#pc618f686c2)\" style=\"fill: none; stroke-dasharray: 0.4,0.66; stroke-dashoffset: 0; stroke: #0f0f0f; stroke-width: 0.4; stroke-linejoin: miter\"/>\n     </g>\n     <g id=\"line2d_12\">\n      <g>\n       <use xlink:href=\"#m17d67d66c0\" x=\"652.182857\" y=\"172.204139\" style=\"fill: #0f0f0f; stroke: #0f0f0f; stroke-width: 0.2\"/>\n      </g>\n     </g>\n     <g id=\"text_6\">\n      <!-- 2023-01 -->\n      <g style=\"fill: #0f0f0f\" transform=\"translate(632.120119 192.300255) rotate(-10) scale(0.10829 -0.10829)\">\n       <use xlink:href=\"#Consolas-32\"/>\n       <use xlink:href=\"#Consolas-30\" x=\"54.980469\"/>\n       <use xlink:href=\"#Consolas-32\" x=\"109.960938\"/>\n       <use xlink:href=\"#Consolas-33\" x=\"164.941406\"/>\n       <use xlink:href=\"#Consolas-2d\" x=\"219.921875\"/>\n       <use xlink:href=\"#Consolas-30\" x=\"274.902344\"/>\n       <use xlink:href=\"#Consolas-31\" x=\"329.882812\"/>\n      </g>\n     </g>\n    </g>\n   </g>\n   <g id=\"matplotlib.axis_2\">\n    <g id=\"ytick_1\">\n     <g id=\"line2d_13\">\n      <path d=\"M 7.2 166.204709 \nL 759.68 166.204709 \n\" clip-path=\"url(#pc618f686c2)\" style=\"fill: none; stroke-dasharray: 0.4,0.66; stroke-dashoffset: 0; stroke: #0f0f0f; stroke-width: 0.4; stroke-linejoin: miter\"/>\n     </g>\n     <g id=\"line2d_14\">\n      <defs>\n       <path id=\"m24c613a194\" d=\"M 0 0 \nL 2 0 \n\" style=\"stroke: #0f0f0f; stroke-width: 0.2\"/>\n      </defs>\n      <g>\n       <use xlink:href=\"#m24c613a194\" x=\"759.68\" y=\"166.204709\" style=\"fill: #0f0f0f; stroke: #0f0f0f; stroke-width: 0.2\"/>\n      </g>\n     </g>\n     <g id=\"text_7\">\n      <!-- 0 -->\n      <g style=\"fill: #0f0f0f\" transform=\"translate(765.18 169.940714) scale(0.10829 -0.10829)\">\n       <use xlink:href=\"#Consolas-30\"/>\n      </g>\n     </g>\n    </g>\n    <g id=\"ytick_2\">\n     <g id=\"line2d_15\">\n      <path d=\"M 7.2 127.727711 \nL 759.68 127.727711 \n\" clip-path=\"url(#pc618f686c2)\" style=\"fill: none; stroke-dasharray: 0.4,0.66; stroke-dashoffset: 0; stroke: #0f0f0f; stroke-width: 0.4; stroke-linejoin: miter\"/>\n     </g>\n     <g id=\"line2d_16\">\n      <g>\n       <use xlink:href=\"#m24c613a194\" x=\"759.68\" y=\"127.727711\" style=\"fill: #0f0f0f; stroke: #0f0f0f; stroke-width: 0.2\"/>\n      </g>\n     </g>\n     <g id=\"text_8\">\n      <!-- 2 -->\n      <g style=\"fill: #0f0f0f\" transform=\"translate(765.18 131.463716) scale(0.10829 -0.10829)\">\n       <use xlink:href=\"#Consolas-32\"/>\n      </g>\n     </g>\n    </g>\n    <g id=\"ytick_3\">\n     <g id=\"line2d_17\">\n      <path d=\"M 7.2 89.250713 \nL 759.68 89.250713 \n\" clip-path=\"url(#pc618f686c2)\" style=\"fill: none; stroke-dasharray: 0.4,0.66; stroke-dashoffset: 0; stroke: #0f0f0f; stroke-width: 0.4; stroke-linejoin: miter\"/>\n     </g>\n     <g id=\"line2d_18\">\n      <g>\n       <use xlink:href=\"#m24c613a194\" x=\"759.68\" y=\"89.250713\" style=\"fill: #0f0f0f; stroke: #0f0f0f; stroke-width: 0.2\"/>\n      </g>\n     </g>\n     <g id=\"text_9\">\n      <!-- 4 -->\n      <g style=\"fill: #0f0f0f\" transform=\"translate(765.18 92.986718) scale(0.10829 -0.10829)\">\n       <defs>\n        <path id=\"Consolas-34\" d=\"M 3353 903 \nL 2656 903 \nL 2656 0 \nL 2100 0 \nL 2100 903 \nL 134 903 \nL 134 1381 \nL 1875 4084 \nL 2656 4084 \nL 2656 1381 \nL 3353 1381 \nL 3353 903 \nz\nM 2100 3559 \nL 678 1381 \nL 2100 1381 \nL 2100 3559 \nz\n\" transform=\"scale(0.015625)\"/>\n       </defs>\n       <use xlink:href=\"#Consolas-34\"/>\n      </g>\n     </g>\n    </g>\n    <g id=\"ytick_4\">\n     <g id=\"line2d_19\">\n      <path d=\"M 7.2 50.773714 \nL 759.68 50.773714 \n\" clip-path=\"url(#pc618f686c2)\" style=\"fill: none; stroke-dasharray: 0.4,0.66; stroke-dashoffset: 0; stroke: #0f0f0f; stroke-width: 0.4; stroke-linejoin: miter\"/>\n     </g>\n     <g id=\"line2d_20\">\n      <g>\n       <use xlink:href=\"#m24c613a194\" x=\"759.68\" y=\"50.773714\" style=\"fill: #0f0f0f; stroke: #0f0f0f; stroke-width: 0.2\"/>\n      </g>\n     </g>\n     <g id=\"text_10\">\n      <!-- 6 -->\n      <g style=\"fill: #0f0f0f\" transform=\"translate(765.18 54.509719) scale(0.10829 -0.10829)\">\n       <defs>\n        <path id=\"Consolas-36\" d=\"M 3200 1294 \nQ 3200 1013 3098 766 \nQ 2997 519 2809 336 \nQ 2622 153 2358 48 \nQ 2094 -56 1772 -56 \nQ 1434 -56 1175 51 \nQ 916 159 741 382 \nQ 566 606 475 947 \nQ 384 1288 384 1753 \nQ 384 2066 425 2359 \nQ 466 2653 559 2912 \nQ 653 3172 809 3387 \nQ 966 3603 1198 3758 \nQ 1431 3913 1747 3998 \nQ 2063 4084 2478 4084 \nL 2881 4084 \nL 2881 3609 \nL 2444 3609 \nQ 2078 3609 1809 3521 \nQ 1541 3434 1359 3275 \nQ 1178 3116 1081 2891 \nQ 984 2666 959 2388 \nL 947 2259 \nQ 1144 2375 1401 2445 \nQ 1659 2516 1959 2516 \nQ 2269 2516 2501 2425 \nQ 2734 2334 2889 2173 \nQ 3044 2013 3122 1788 \nQ 3200 1563 3200 1294 \nz\nM 2631 1259 \nQ 2631 1447 2586 1598 \nQ 2541 1750 2444 1854 \nQ 2347 1959 2198 2017 \nQ 2050 2075 1844 2075 \nQ 1725 2075 1603 2053 \nQ 1481 2031 1364 1992 \nQ 1247 1953 1140 1903 \nQ 1034 1853 947 1797 \nQ 947 1394 1003 1123 \nQ 1059 853 1170 690 \nQ 1281 528 1443 459 \nQ 1606 391 1819 391 \nQ 1997 391 2145 448 \nQ 2294 506 2401 618 \nQ 2509 731 2570 892 \nQ 2631 1053 2631 1259 \nz\n\" transform=\"scale(0.015625)\"/>\n       </defs>\n       <use xlink:href=\"#Consolas-36\"/>\n      </g>\n     </g>\n    </g>\n   </g>\n   <g id=\"line2d_21\">\n    <path d=\"M 41.403636 156.394998 \nL 43.282957 142.50865 \nL 48.920919 152.345294 \nL 50.80024 160.206145 \nL 52.67956 162.526308 \nL 54.558881 161.106507 \nL 56.438202 159.153799 \nL 63.955485 164.696411 \nL 65.834805 162.874525 \nL 67.714126 158.676684 \nL 69.593447 159.213439 \nL 75.231409 160.689031 \nL 77.110729 158.263057 \nL 78.99005 156.064096 \nL 80.869371 150.531104 \nL 82.748691 158.724781 \nL 88.386653 158.58434 \nL 90.265974 162.801419 \nL 92.145295 147.839638 \nL 94.024615 161.054563 \nL 95.903936 157.909068 \nL 101.541898 162.660978 \nL 103.421219 162.886068 \nL 105.300539 160.054161 \nL 107.17986 149.034349 \nL 109.059181 159.736726 \nL 114.697143 161.397008 \nL 116.576464 157.928307 \nL 118.455784 162.849515 \nL 120.335105 158.443899 \nL 122.214426 156.146822 \nL 127.852388 158.372716 \nL 129.731708 150.053989 \nL 131.611029 161.304663 \nL 133.49035 164.29625 \nL 135.36967 162.830276 \nL 141.007632 133.070242 \nL 142.886953 139.449728 \nL 144.766274 152.439563 \nL 146.645594 154.151789 \nL 148.524915 156.737444 \nL 156.042198 155.992914 \nL 157.921518 162.008792 \nL 159.800839 136.529324 \nL 167.318122 159.590513 \nL 169.197443 164.357813 \nL 171.076763 161.112278 \nL 172.956084 161.391237 \nL 174.835405 163.890318 \nL 180.473367 161.668271 \nL 182.352687 161.899133 \nL 184.232008 162.789876 \nL 186.111329 162.382019 \nL 187.990649 159.842537 \nL 193.628611 128.224064 \nL 195.507932 163.790277 \nL 197.387253 160.960294 \nL 199.266573 162.709074 \nL 201.145894 156.506582 \nL 206.783856 159.242296 \nL 208.663177 140.548247 \nL 210.542498 157.733998 \nL 212.421818 154.571189 \nL 214.301139 156.824017 \nL 219.939101 157.210711 \nL 221.818422 160.550514 \nL 223.697742 163.480538 \nL 225.577063 161.127669 \nL 227.456384 152.368381 \nL 233.094346 161.889514 \nL 234.973666 143.487889 \nL 236.852987 158.603578 \nL 238.732308 161.497048 \nL 240.611628 158.440051 \nL 248.128911 160.68326 \nL 250.008232 158.220732 \nL 251.887552 160.819853 \nL 253.766873 157.102975 \nL 259.404835 160.89296 \nL 261.284156 156.706662 \nL 263.163477 154.86169 \nL 265.042797 153.603492 \nL 266.922118 143.866888 \nL 272.56008 155.194516 \nL 274.439401 156.073715 \nL 276.318721 161.933762 \nL 278.198042 150.588819 \nL 280.077363 157.254959 \nL 287.594645 164.428996 \nL 289.473966 156.956763 \nL 291.353287 118.312389 \nL 293.232607 160.742899 \nL 298.870569 163.193884 \nL 300.74989 158.320772 \nL 304.508531 157.343456 \nL 306.387852 160.356205 \nL 313.905135 149.259439 \nL 315.784456 160.350434 \nL 317.663776 160.735204 \nL 319.543097 161.406627 \nL 325.181059 137.079545 \nL 327.06038 138.524357 \nL 328.9397 148.868898 \nL 330.819021 157.12029 \nL 332.698342 154.049825 \nL 338.336304 163.303543 \nL 340.215624 155.521571 \nL 342.094945 157.485821 \nL 343.974266 154.305697 \nL 345.853586 85.922452 \nL 351.491548 162.089594 \nL 353.370869 161.933762 \nL 355.25019 162.99188 \nL 357.12951 158.557406 \nL 359.008831 158.682456 \nL 364.646793 149.678838 \nL 366.526114 157.78979 \nL 368.405435 153.116758 \nL 370.284755 156.827865 \nL 372.164076 161.241176 \nL 377.802038 161.656728 \nL 379.681359 143.834182 \nL 381.560679 156.664337 \nL 383.44 147.714588 \nL 385.319321 163.590197 \nL 390.957283 147.456792 \nL 392.836603 156.321892 \nL 394.715924 159.532798 \nL 396.595245 148.574549 \nL 398.474565 157.807104 \nL 404.112527 145.842682 \nL 405.991848 160.079171 \nL 407.871169 158.166864 \nL 409.75049 123.397125 \nL 411.62981 151.606536 \nL 417.267772 153.336077 \nL 419.147093 149.29984 \nL 421.026414 158.443899 \nL 422.905734 147.595309 \nL 424.785055 160.912198 \nL 432.302338 153.678522 \nL 434.181658 144.386327 \nL 436.060979 140.802195 \nL 437.9403 154.419205 \nL 443.578262 152.464573 \nL 445.457582 123.206664 \nL 447.336903 156.031391 \nL 449.216224 156.268024 \nL 451.095544 117.625575 \nL 456.733506 162.270436 \nL 458.612827 162.63212 \nL 460.492148 161.818331 \nL 462.371469 162.811038 \nL 464.250789 160.606306 \nL 469.888751 156.369988 \nL 471.768072 157.560851 \nL 473.647393 163.009194 \nL 475.526713 159.309631 \nL 477.406034 161.450876 \nL 483.043996 162.266588 \nL 484.923317 160.821777 \nL 486.802637 139.122674 \nL 488.681958 155.013674 \nL 490.561279 139.463195 \nL 496.199241 149.578798 \nL 498.078561 160.146506 \nL 499.957882 131.829359 \nL 501.837203 161.223862 \nL 503.716523 148.210941 \nL 509.354486 160.134963 \nL 511.233806 165.465951 \nL 513.113127 156.949067 \nL 514.992448 153.343772 \nL 516.871768 157.96486 \nL 522.50973 159.253839 \nL 524.389051 155.883254 \nL 526.268372 160.837168 \nL 528.147692 133.964832 \nL 530.027013 162.555166 \nL 535.664975 156.841332 \nL 537.544296 151.396836 \nL 539.423616 157.17031 \nL 541.302937 86.305298 \nL 543.182258 157.733998 \nL 548.82022 160.250394 \nL 550.69954 158.234199 \nL 552.578861 156.664337 \nL 554.458182 147.837714 \nL 556.337502 156.406542 \nL 561.975465 116.934913 \nL 563.854785 155.327262 \nL 565.734106 91.745946 \nL 567.613427 86.018645 \nL 569.492747 109.585806 \nL 575.130709 154.534636 \nL 577.01003 162.78218 \nL 578.889351 159.317326 \nL 582.647992 152.052869 \nL 588.285954 137.02183 \nL 590.165275 161.29312 \nL 592.044595 156.816322 \nL 593.923916 130.259497 \nL 595.803237 146.162041 \nL 601.441199 151.054391 \nL 603.320519 149.049739 \nL 605.19984 161.185385 \nL 607.079161 156.9356 \nL 608.958482 159.73865 \nL 614.596444 163.684466 \nL 616.475764 154.309545 \nL 618.355085 159.967588 \nL 620.234406 124.601455 \nL 622.113726 152.418401 \nL 627.751688 156.754758 \nL 629.631009 158.391955 \nL 631.51033 154.313393 \nL 633.38965 157.412715 \nL 635.268971 162.001097 \nL 642.786254 145.090456 \nL 644.665574 30.702188 \nL 646.544895 160.63324 \nL 648.424216 148.266733 \nL 655.941499 161.570155 \nL 657.820819 158.803659 \nL 659.70014 123.980051 \nL 661.579461 161.974163 \nL 667.217423 159.500092 \nL 669.096743 148.895831 \nL 670.976064 142.600995 \nL 672.855385 143.258951 \nL 674.734705 147.341361 \nL 682.251988 164.739165 \nL 684.131309 150.132475 \nL 686.010629 139.567278 \nL 687.88995 153.387616 \nL 693.527912 141.541335 \nL 695.407233 151.649018 \nL 697.286553 151.894485 \nL 699.165874 161.634643 \nL 701.045195 158.853903 \nL 706.683157 155.395983 \nL 708.562478 162.79174 \nL 710.441798 159.719121 \nL 712.321119 159.741091 \nL 714.20044 162.327237 \nL 719.838402 158.059525 \nL 721.717722 154.615321 \nL 723.597043 159.502814 \nL 725.476364 162.534996 \nL 725.476364 162.534996 \n\" clip-path=\"url(#pc618f686c2)\" style=\"fill: none; stroke: #254495; stroke-width: 1.1; stroke-linejoin: miter; stroke-linecap: square\"/>\n   </g>\n   <g id=\"patch_3\">\n    <path d=\"M 7.2 172.204139 \nL 7.2 23.964 \n\" style=\"fill: none; stroke: #0f0f0f; stroke-width: 0.2; stroke-linejoin: miter; stroke-linecap: square\"/>\n   </g>\n   <g id=\"patch_4\">\n    <path d=\"M 759.68 172.204139 \nL 759.68 23.964 \n\" style=\"fill: none; stroke: #0f0f0f; stroke-width: 0.2; stroke-linejoin: miter; stroke-linecap: square\"/>\n   </g>\n   <g id=\"patch_5\">\n    <path d=\"M 7.2 172.204139 \nL 759.68 172.204139 \n\" style=\"fill: none; stroke: #0f0f0f; stroke-width: 0.2; stroke-linejoin: miter; stroke-linecap: square\"/>\n   </g>\n   <g id=\"patch_6\">\n    <path d=\"M 7.2 23.964 \nL 759.68 23.964 \n\" style=\"fill: none; stroke: #0f0f0f; stroke-width: 0.2; stroke-linejoin: miter; stroke-linecap: square\"/>\n   </g>\n   <g id=\"text_11\">\n    <!-- Put Call Ratio for MP -->\n    <g style=\"fill: #0f0f0f\" transform=\"translate(7.2 17.964) scale(0.156 -0.156)\">\n     <defs>\n      <path id=\"Consolas-50\" d=\"M 3175 2834 \nQ 3175 2584 3081 2339 \nQ 2988 2094 2791 1900 \nQ 2594 1706 2287 1586 \nQ 1981 1466 1556 1466 \nL 1050 1466 \nL 1050 0 \nL 494 0 \nL 494 4084 \nL 1644 4084 \nQ 1947 4084 2225 4017 \nQ 2503 3950 2714 3800 \nQ 2925 3650 3050 3412 \nQ 3175 3175 3175 2834 \nz\nM 2597 2809 \nQ 2597 3203 2339 3412 \nQ 2081 3622 1619 3622 \nL 1050 3622 \nL 1050 1941 \nL 1569 1941 \nQ 2063 1941 2330 2156 \nQ 2597 2372 2597 2809 \nz\n\" transform=\"scale(0.015625)\"/>\n      <path id=\"Consolas-75\" d=\"M 3022 0 \nL 2534 0 \nL 2516 506 \nQ 2375 344 2248 236 \nQ 2122 128 1997 62 \nQ 1872 -3 1745 -29 \nQ 1619 -56 1478 -56 \nQ 994 -56 747 228 \nQ 500 513 500 1088 \nL 500 3138 \nL 1044 3138 \nL 1044 1131 \nQ 1044 409 1588 409 \nQ 1688 409 1783 439 \nQ 1878 469 1983 542 \nQ 2088 616 2208 741 \nQ 2328 866 2478 1056 \nL 2478 3138 \nL 3022 3138 \nL 3022 0 \nz\n\" transform=\"scale(0.015625)\"/>\n      <path id=\"Consolas-74\" d=\"M 3028 44 \nQ 2844 -3 2647 -23 \nQ 2450 -44 2247 -44 \nQ 1656 -44 1365 223 \nQ 1075 491 1075 1044 \nL 1075 2681 \nL 197 2681 \nL 197 3138 \nL 1075 3138 \nL 1075 4000 \nL 1619 4141 \nL 1619 3138 \nL 3028 3138 \nL 3028 2681 \nL 1619 2681 \nL 1619 1088 \nQ 1619 750 1798 583 \nQ 1978 416 2328 416 \nQ 2478 416 2656 439 \nQ 2834 463 3028 513 \nL 3028 44 \nz\n\" transform=\"scale(0.015625)\"/>\n      <path id=\"Consolas-20\" transform=\"scale(0.015625)\"/>\n      <path id=\"Consolas-43\" d=\"M 3109 153 \nQ 2619 -50 2081 -50 \nQ 1216 -50 752 467 \nQ 288 984 288 1997 \nQ 288 2488 416 2884 \nQ 544 3281 781 3557 \nQ 1019 3834 1356 3984 \nQ 1694 4134 2113 4134 \nQ 2397 4134 2640 4086 \nQ 2884 4038 3109 3938 \nL 3109 3391 \nQ 2888 3513 2650 3577 \nQ 2413 3641 2131 3641 \nQ 1844 3641 1611 3533 \nQ 1378 3425 1215 3220 \nQ 1053 3016 965 2720 \nQ 878 2425 878 2047 \nQ 878 1253 1200 850 \nQ 1522 447 2144 447 \nQ 2406 447 2647 508 \nQ 2888 569 3109 678 \nL 3109 153 \nz\n\" transform=\"scale(0.015625)\"/>\n      <path id=\"Consolas-61\" d=\"M 2516 0 \nL 2503 422 \nQ 2247 169 1983 56 \nQ 1719 -56 1428 -56 \nQ 1159 -56 968 12 \nQ 778 81 654 201 \nQ 531 322 473 484 \nQ 416 647 416 838 \nQ 416 1309 767 1576 \nQ 1119 1844 1806 1844 \nL 2456 1844 \nL 2456 2119 \nQ 2456 2397 2278 2564 \nQ 2100 2731 1734 2731 \nQ 1469 2731 1211 2672 \nQ 953 2613 678 2503 \nL 678 2994 \nQ 781 3031 907 3067 \nQ 1034 3103 1175 3131 \nQ 1316 3159 1469 3176 \nQ 1622 3194 1778 3194 \nQ 2063 3194 2291 3131 \nQ 2519 3069 2676 2941 \nQ 2834 2813 2918 2619 \nQ 3003 2425 3003 2163 \nL 3003 0 \nL 2516 0 \nz\nM 2456 1428 \nL 1766 1428 \nQ 1563 1428 1416 1387 \nQ 1269 1347 1175 1272 \nQ 1081 1197 1036 1092 \nQ 991 988 991 856 \nQ 991 766 1019 683 \nQ 1047 600 1109 536 \nQ 1172 472 1272 434 \nQ 1372 397 1516 397 \nQ 1703 397 1945 511 \nQ 2188 625 2456 872 \nL 2456 1428 \nz\n\" transform=\"scale(0.015625)\"/>\n      <path id=\"Consolas-6c\" d=\"M 1569 3969 \nL 641 3969 \nL 641 4416 \nL 2119 4416 \nL 2119 453 \nL 3053 453 \nL 3053 0 \nL 538 0 \nL 538 453 \nL 1569 453 \nL 1569 3969 \nz\n\" transform=\"scale(0.015625)\"/>\n      <path id=\"Consolas-52\" d=\"M 3284 0 \nL 2656 0 \nL 2047 1306 \nQ 1978 1456 1906 1554 \nQ 1834 1653 1751 1711 \nQ 1669 1769 1570 1794 \nQ 1472 1819 1350 1819 \nL 1088 1819 \nL 1088 0 \nL 531 0 \nL 531 4084 \nL 1625 4084 \nQ 1981 4084 2237 4006 \nQ 2494 3928 2658 3787 \nQ 2822 3647 2898 3448 \nQ 2975 3250 2975 3009 \nQ 2975 2819 2919 2648 \nQ 2863 2478 2752 2339 \nQ 2641 2200 2477 2098 \nQ 2313 1997 2100 1947 \nQ 2272 1888 2392 1739 \nQ 2513 1591 2638 1344 \nL 3284 0 \nz\nM 2394 2963 \nQ 2394 3291 2189 3453 \nQ 1984 3616 1613 3616 \nL 1088 3616 \nL 1088 2266 \nL 1538 2266 \nQ 1734 2266 1892 2311 \nQ 2050 2356 2161 2445 \nQ 2272 2534 2333 2664 \nQ 2394 2794 2394 2963 \nz\n\" transform=\"scale(0.015625)\"/>\n      <path id=\"Consolas-69\" d=\"M 1569 2688 \nL 641 2688 \nL 641 3138 \nL 2119 3138 \nL 2119 453 \nL 3053 453 \nL 3053 0 \nL 538 0 \nL 538 453 \nL 1569 453 \nL 1569 2688 \nz\nM 1759 4453 \nQ 1850 4453 1928 4420 \nQ 2006 4388 2064 4328 \nQ 2122 4269 2155 4192 \nQ 2188 4116 2188 4025 \nQ 2188 3938 2155 3859 \nQ 2122 3781 2064 3722 \nQ 2006 3663 1928 3630 \nQ 1850 3597 1759 3597 \nQ 1669 3597 1591 3630 \nQ 1513 3663 1455 3722 \nQ 1397 3781 1364 3859 \nQ 1331 3938 1331 4025 \nQ 1331 4116 1364 4192 \nQ 1397 4269 1455 4328 \nQ 1513 4388 1591 4420 \nQ 1669 4453 1759 4453 \nz\n\" transform=\"scale(0.015625)\"/>\n      <path id=\"Consolas-6f\" d=\"M 3231 1594 \nQ 3231 1228 3128 923 \nQ 3025 619 2831 401 \nQ 2638 184 2359 64 \nQ 2081 -56 1728 -56 \nQ 1391 -56 1123 48 \nQ 856 153 670 356 \nQ 484 559 386 859 \nQ 288 1159 288 1550 \nQ 288 1916 391 2217 \nQ 494 2519 687 2736 \nQ 881 2953 1159 3073 \nQ 1438 3194 1791 3194 \nQ 2128 3194 2395 3089 \nQ 2663 2984 2848 2782 \nQ 3034 2581 3132 2281 \nQ 3231 1981 3231 1594 \nz\nM 2675 1569 \nQ 2675 1859 2611 2076 \nQ 2547 2294 2428 2439 \nQ 2309 2584 2139 2657 \nQ 1969 2731 1759 2731 \nQ 1516 2731 1342 2636 \nQ 1169 2541 1058 2381 \nQ 947 2222 895 2011 \nQ 844 1800 844 1569 \nQ 844 1278 908 1059 \nQ 972 841 1090 695 \nQ 1209 550 1378 476 \nQ 1547 403 1759 403 \nQ 2003 403 2176 498 \nQ 2350 594 2461 753 \nQ 2572 913 2623 1123 \nQ 2675 1334 2675 1569 \nz\n\" transform=\"scale(0.015625)\"/>\n      <path id=\"Consolas-66\" d=\"M 3284 3909 \nQ 2856 4000 2547 4000 \nQ 1813 4000 1813 3231 \nL 1813 2681 \nL 3188 2681 \nL 3188 2228 \nL 1813 2228 \nL 1813 0 \nL 1259 0 \nL 1259 2228 \nL 250 2228 \nL 250 2681 \nL 1259 2681 \nL 1259 3200 \nQ 1259 4453 2566 4453 \nQ 2891 4453 3284 4378 \nL 3284 3909 \nz\nM 0 3138 \nL 0 3138 \nz\n\" transform=\"scale(0.015625)\"/>\n      <path id=\"Consolas-72\" d=\"M 628 3138 \nL 1125 3138 \nL 1141 2559 \nQ 1419 2894 1689 3044 \nQ 1959 3194 2234 3194 \nQ 2722 3194 2973 2878 \nQ 3225 2563 3206 1941 \nL 2656 1941 \nQ 2666 2353 2536 2539 \nQ 2406 2725 2156 2725 \nQ 2047 2725 1936 2686 \nQ 1825 2647 1708 2561 \nQ 1591 2475 1459 2340 \nQ 1328 2206 1178 2016 \nL 1178 0 \nL 628 0 \nL 628 3138 \nz\n\" transform=\"scale(0.015625)\"/>\n      <path id=\"Consolas-4d\" d=\"M 3366 0 \nL 2822 0 \nL 2741 2547 \nL 2706 3525 \nL 2516 2956 \nL 1913 1331 \nL 1528 1331 \nL 953 2894 \nL 763 3525 \nL 750 2503 \nL 678 0 \nL 153 0 \nL 353 4084 \nL 1013 4084 \nL 1563 2547 \nL 1741 2028 \nL 1913 2547 \nL 2491 4084 \nL 3169 4084 \nL 3366 0 \nz\n\" transform=\"scale(0.015625)\"/>\n     </defs>\n     <use xlink:href=\"#Consolas-50\"/>\n     <use xlink:href=\"#Consolas-75\" x=\"54.980469\"/>\n     <use xlink:href=\"#Consolas-74\" x=\"109.960938\"/>\n     <use xlink:href=\"#Consolas-20\" x=\"164.941406\"/>\n     <use xlink:href=\"#Consolas-43\" x=\"219.921875\"/>\n     <use xlink:href=\"#Consolas-61\" x=\"274.902344\"/>\n     <use xlink:href=\"#Consolas-6c\" x=\"329.882812\"/>\n     <use xlink:href=\"#Consolas-6c\" x=\"384.863281\"/>\n     <use xlink:href=\"#Consolas-20\" x=\"439.84375\"/>\n     <use xlink:href=\"#Consolas-52\" x=\"494.824219\"/>\n     <use xlink:href=\"#Consolas-61\" x=\"549.804688\"/>\n     <use xlink:href=\"#Consolas-74\" x=\"604.785156\"/>\n     <use xlink:href=\"#Consolas-69\" x=\"659.765625\"/>\n     <use xlink:href=\"#Consolas-6f\" x=\"714.746094\"/>\n     <use xlink:href=\"#Consolas-20\" x=\"769.726562\"/>\n     <use xlink:href=\"#Consolas-66\" x=\"824.707031\"/>\n     <use xlink:href=\"#Consolas-6f\" x=\"879.6875\"/>\n     <use xlink:href=\"#Consolas-72\" x=\"934.667969\"/>\n     <use xlink:href=\"#Consolas-20\" x=\"989.648438\"/>\n     <use xlink:href=\"#Consolas-4d\" x=\"1044.628906\"/>\n     <use xlink:href=\"#Consolas-50\" x=\"1099.609375\"/>\n    </g>\n   </g>\n  </g>\n </g>\n <defs>\n  <clipPath id=\"pc618f686c2\">\n   <rect x=\"7.2\" y=\"23.964\" width=\"752.48\" height=\"148.240139\"/>\n  </clipPath>\n </defs>\n</svg>\n",
      "text/plain": [
       "<Figure size 1650x450 with 1 Axes>"
      ]
     },
     "metadata": {},
     "output_type": "display_data"
    }
   ],
   "source": [
    "fig, ax = plt.subplots(figsize=(11, 3), dpi=150)\n",
    "openbb.stocks.options.pcr_chart(\n",
    "    symbol,\n",
    "    window=30,\n",
    "    external_axes=[\n",
    "        ax,\n",
    "    ],\n",
    ")\n",
    "fig.tight_layout()\n",
    "f = io.BytesIO()\n",
    "fig.savefig(f, format=\"svg\")\n",
    "pcr_chart = f.getvalue().decode(\"utf-8\")"
   ]
  },
  {
   "cell_type": "code",
   "execution_count": 17,
   "id": "bd79195c",
   "metadata": {
    "papermill": {
     "duration": null,
     "end_time": null,
     "exception": null,
     "start_time": null,
     "status": "pending"
    },
    "tags": []
   },
   "outputs": [],
   "source": [
    "#expiry_dates = openbb.stocks.options.expirations(symbol)\n",
    "#if (len(expiry_dates) > 0):\n",
    "#    exp = expiry_dates[0]\n",
    "#    option_chain = openbb.stocks.options.chains(symbol, expiration=exp)\n",
    "#else:\n",
    "#    option_chain = pd.DataFrame()\n"
   ]
  },
  {
   "cell_type": "code",
   "execution_count": 18,
   "id": "ad6d0c24",
   "metadata": {
    "papermill": {
     "duration": null,
     "end_time": null,
     "exception": null,
     "start_time": null,
     "status": "pending"
    },
    "tags": []
   },
   "outputs": [],
   "source": [
    "#if not option_chain.empty:\n",
    "#    fig, ax = plt.subplots(figsize=(11, 3), dpi=150)\n",
    "#    ax.plot(\n",
    "#        option_chain[\"strike\"], option_chain[\"c_Openinterest\"], label=\"Call Open Interest\"\n",
    "#    )\n",
    "#    ax.plot(\n",
    "#        option_chain[\"strike\"], option_chain[\"p_Openinterest\"], label=\"Put Open Interest\"\n",
    "#    )\n",
    "#    ax.legend()\n",
    "#    fig.tight_layout()\n",
    "#    f = io.BytesIO()\n",
    "#    fig.savefig(f, format=\"svg\")\n",
    "#    vol_chart = f.getvalue().decode(\"utf-8\")"
   ]
  },
  {
   "cell_type": "code",
   "execution_count": 19,
   "id": "be2d1e3a",
   "metadata": {
    "papermill": {
     "duration": null,
     "end_time": null,
     "exception": null,
     "start_time": null,
     "status": "pending"
    },
    "tags": []
   },
   "outputs": [],
   "source": [
    "#if not option_chain.empty:\n",
    "#    fig, ax = plt.subplots(figsize=(11, 8), dpi=150)\n",
    "#    ax.plot(option_chain[\"strike\"], option_chain[\"c_Volume\"], label=\"Call Volume\")\n",
    "#    ax.plot(option_chain[\"strike\"], option_chain[\"p_Volume\"], label=\"Put Volume\")\n",
    "#    ax.legend()\n",
    "#    fig.tight_layout()\n",
    "#    f = io.BytesIO()\n",
    "#    fig.savefig(f, format=\"svg\")\n",
    "#    voi_chart = f.getvalue().decode(\"utf-8\")"
   ]
  },
  {
   "cell_type": "code",
   "execution_count": 20,
   "id": "ac0bfbda-e4b8-4b3b-b8e7-c02639fdb971",
   "metadata": {
    "papermill": {
     "duration": null,
     "end_time": null,
     "exception": null,
     "start_time": null,
     "status": "pending"
    },
    "tags": []
   },
   "outputs": [
    {
     "data": {
      "image/svg+xml": "<?xml version=\"1.0\" encoding=\"utf-8\" standalone=\"no\"?>\n<!DOCTYPE svg PUBLIC \"-//W3C//DTD SVG 1.1//EN\"\n  \"http://www.w3.org/Graphics/SVG/1.1/DTD/svg11.dtd\">\n<svg xmlns:xlink=\"http://www.w3.org/1999/xlink\" width=\"777.673114pt\" height=\"344.669435pt\" viewBox=\"0 0 777.673114 344.669435\" xmlns=\"http://www.w3.org/2000/svg\" version=\"1.1\">\n <metadata>\n  <rdf:RDF xmlns:dc=\"http://purl.org/dc/elements/1.1/\" xmlns:cc=\"http://creativecommons.org/ns#\" xmlns:rdf=\"http://www.w3.org/1999/02/22-rdf-syntax-ns#\">\n   <cc:Work>\n    <dc:type rdf:resource=\"http://purl.org/dc/dcmitype/StillImage\"/>\n    <dc:date>2023-02-10T10:46:05.648862</dc:date>\n    <dc:format>image/svg+xml</dc:format>\n    <dc:creator>\n     <cc:Agent>\n      <dc:title>Matplotlib v3.6.2, https://matplotlib.org/</dc:title>\n     </cc:Agent>\n    </dc:creator>\n   </cc:Work>\n  </rdf:RDF>\n </metadata>\n <defs>\n  <style type=\"text/css\">*{stroke-linejoin: round; stroke-linecap: butt}</style>\n </defs>\n <g id=\"figure_1\">\n  <g id=\"patch_1\">\n   <path d=\"M 0 344.669435 \nL 777.673114 344.669435 \nL 777.673114 0 \nL 0 0 \nz\n\" style=\"fill: #ffffff\"/>\n  </g>\n  <g id=\"axes_1\">\n   <g id=\"patch_2\">\n    <path d=\"M 7.2 151.259552 \nL 727.3 151.259552 \nL 727.3 24.541687 \nL 7.2 24.541687 \nz\n\" style=\"fill: #ffffff\"/>\n   </g>\n   <g id=\"patch_3\">\n    <path d=\"M 39.931818 151.259552 \nL 59.473202 151.259552 \nL 59.473202 116.118613 \nL 39.931818 116.118613 \nz\n\" clip-path=\"url(#p91bff32cf2)\" style=\"fill: #e4003a\"/>\n   </g>\n   <g id=\"patch_4\">\n    <path d=\"M 64.358548 151.259552 \nL 83.899932 151.259552 \nL 83.899932 30.575872 \nL 64.358548 30.575872 \nz\n\" clip-path=\"url(#p91bff32cf2)\" style=\"fill: #e4003a\"/>\n   </g>\n   <g id=\"patch_5\">\n    <path d=\"M 88.785278 151.259552 \nL 108.326662 151.259552 \nL 108.326662 102.303927 \nL 88.785278 102.303927 \nz\n\" clip-path=\"url(#p91bff32cf2)\" style=\"fill: #e4003a\"/>\n   </g>\n   <g id=\"patch_6\">\n    <path d=\"M 113.212008 151.259552 \nL 132.753392 151.259552 \nL 132.753392 92.320751 \nL 113.212008 92.320751 \nz\n\" clip-path=\"url(#p91bff32cf2)\" style=\"fill: #e4003a\"/>\n   </g>\n   <g id=\"patch_7\">\n    <path d=\"M 137.638738 151.259552 \nL 157.180122 151.259552 \nL 157.180122 111.926008 \nL 137.638738 111.926008 \nz\n\" clip-path=\"url(#p91bff32cf2)\" style=\"fill: #e4003a\"/>\n   </g>\n   <g id=\"patch_8\">\n    <path d=\"M 162.065468 151.259552 \nL 181.606852 151.259552 \nL 181.606852 114.065188 \nL 162.065468 114.065188 \nz\n\" clip-path=\"url(#p91bff32cf2)\" style=\"fill: #e4003a\"/>\n   </g>\n   <g id=\"patch_9\">\n    <path d=\"M 186.492198 151.259552 \nL 206.033582 151.259552 \nL 206.033582 112.923606 \nL 186.492198 112.923606 \nz\n\" clip-path=\"url(#p91bff32cf2)\" style=\"fill: #e4003a\"/>\n   </g>\n   <g id=\"patch_10\">\n    <path d=\"M 210.918928 151.259552 \nL 230.460312 151.259552 \nL 230.460312 121.660038 \nL 210.918928 121.660038 \nz\n\" clip-path=\"url(#p91bff32cf2)\" style=\"fill: #e4003a\"/>\n   </g>\n   <g id=\"patch_11\">\n    <path d=\"M 235.345658 151.259552 \nL 254.887042 151.259552 \nL 254.887042 93.118071 \nL 235.345658 93.118071 \nz\n\" clip-path=\"url(#p91bff32cf2)\" style=\"fill: #e4003a\"/>\n   </g>\n   <g id=\"patch_12\">\n    <path d=\"M 259.772388 151.259552 \nL 279.313772 151.259552 \nL 279.313772 109.253892 \nL 259.772388 109.253892 \nz\n\" clip-path=\"url(#p91bff32cf2)\" style=\"fill: #e4003a\"/>\n   </g>\n   <g id=\"patch_13\">\n    <path d=\"M 284.199118 151.259552 \nL 303.740502 151.259552 \nL 303.740502 107.509038 \nL 284.199118 107.509038 \nz\n\" clip-path=\"url(#p91bff32cf2)\" style=\"fill: #e4003a\"/>\n   </g>\n   <g id=\"patch_14\">\n    <path d=\"M 308.625848 151.259552 \nL 328.167232 151.259552 \nL 328.167232 121.406314 \nL 308.625848 121.406314 \nz\n\" clip-path=\"url(#p91bff32cf2)\" style=\"fill: #e4003a\"/>\n   </g>\n   <g id=\"patch_15\">\n    <path d=\"M 333.052578 151.259552 \nL 352.593962 151.259552 \nL 352.593962 124.239611 \nL 333.052578 124.239611 \nz\n\" clip-path=\"url(#p91bff32cf2)\" style=\"fill: #e4003a\"/>\n   </g>\n   <g id=\"patch_16\">\n    <path d=\"M 357.479308 151.259552 \nL 377.020692 151.259552 \nL 377.020692 116.260457 \nL 357.479308 116.260457 \nz\n\" clip-path=\"url(#p91bff32cf2)\" style=\"fill: #e4003a\"/>\n   </g>\n   <g id=\"patch_17\">\n    <path d=\"M 381.906038 151.259552 \nL 401.447422 151.259552 \nL 401.447422 116.797732 \nL 381.906038 116.797732 \nz\n\" clip-path=\"url(#p91bff32cf2)\" style=\"fill: #e4003a\"/>\n   </g>\n   <g id=\"patch_18\">\n    <path d=\"M 406.332768 151.259552 \nL 425.874152 151.259552 \nL 425.874152 102.348137 \nL 406.332768 102.348137 \nz\n\" clip-path=\"url(#p91bff32cf2)\" style=\"fill: #e4003a\"/>\n   </g>\n   <g id=\"patch_19\">\n    <path d=\"M 430.759498 151.259552 \nL 450.300882 151.259552 \nL 450.300882 110.851003 \nL 430.759498 110.851003 \nz\n\" clip-path=\"url(#p91bff32cf2)\" style=\"fill: #e4003a\"/>\n   </g>\n   <g id=\"patch_20\">\n    <path d=\"M 455.186228 151.259552 \nL 474.727612 151.259552 \nL 474.727612 118.58986 \nL 455.186228 118.58986 \nz\n\" clip-path=\"url(#p91bff32cf2)\" style=\"fill: #e4003a\"/>\n   </g>\n   <g id=\"patch_21\">\n    <path d=\"M 479.612958 151.259552 \nL 499.154342 151.259552 \nL 499.154342 131.032608 \nL 479.612958 131.032608 \nz\n\" clip-path=\"url(#p91bff32cf2)\" style=\"fill: #e4003a\"/>\n   </g>\n   <g id=\"patch_22\">\n    <path d=\"M 504.039688 151.259552 \nL 523.581072 151.259552 \nL 523.581072 118.723959 \nL 504.039688 118.723959 \nz\n\" clip-path=\"url(#p91bff32cf2)\" style=\"fill: #e4003a\"/>\n   </g>\n   <g id=\"patch_23\">\n    <path d=\"M 528.466418 151.259552 \nL 548.007802 151.259552 \nL 548.007802 120.119972 \nL 528.466418 120.119972 \nz\n\" clip-path=\"url(#p91bff32cf2)\" style=\"fill: #e4003a\"/>\n   </g>\n   <g id=\"patch_24\">\n    <path d=\"M 552.893148 151.259552 \nL 572.434532 151.259552 \nL 572.434532 105.872238 \nL 552.893148 105.872238 \nz\n\" clip-path=\"url(#p91bff32cf2)\" style=\"fill: #e4003a\"/>\n   </g>\n   <g id=\"patch_25\">\n    <path d=\"M 577.319878 151.259552 \nL 596.861262 151.259552 \nL 596.861262 76.76301 \nL 577.319878 76.76301 \nz\n\" clip-path=\"url(#p91bff32cf2)\" style=\"fill: #e4003a\"/>\n   </g>\n   <g id=\"patch_26\">\n    <path d=\"M 601.746608 151.259552 \nL 621.287992 151.259552 \nL 621.287992 112.738053 \nL 601.746608 112.738053 \nz\n\" clip-path=\"url(#p91bff32cf2)\" style=\"fill: #e4003a\"/>\n   </g>\n   <g id=\"patch_27\">\n    <path d=\"M 626.173338 151.259552 \nL 645.714722 151.259552 \nL 645.714722 105.851283 \nL 626.173338 105.851283 \nz\n\" clip-path=\"url(#p91bff32cf2)\" style=\"fill: #e4003a\"/>\n   </g>\n   <g id=\"patch_28\">\n    <path d=\"M 650.600068 151.259552 \nL 670.141452 151.259552 \nL 670.141452 108.85583 \nL 650.600068 108.85583 \nz\n\" clip-path=\"url(#p91bff32cf2)\" style=\"fill: #e4003a\"/>\n   </g>\n   <g id=\"patch_29\">\n    <path d=\"M 675.026798 151.259552 \nL 694.568182 151.259552 \nL 694.568182 124.390862 \nL 675.026798 124.390862 \nz\n\" clip-path=\"url(#p91bff32cf2)\" style=\"fill: #e4003a\"/>\n   </g>\n   <g id=\"patch_30\">\n    <path d=\"M 39.931818 151.259552 \nL 59.473202 151.259552 \nL 59.473202 124.55366 \nL 39.931818 124.55366 \nz\n\" clip-path=\"url(#p91bff32cf2)\" style=\"fill: #00acff\"/>\n   </g>\n   <g id=\"patch_31\">\n    <path d=\"M 64.358548 151.259552 \nL 83.899932 151.259552 \nL 83.899932 68.295552 \nL 64.358548 68.295552 \nz\n\" clip-path=\"url(#p91bff32cf2)\" style=\"fill: #00acff\"/>\n   </g>\n   <g id=\"patch_32\">\n    <path d=\"M 88.785278 151.259552 \nL 108.326662 151.259552 \nL 108.326662 120.178964 \nL 88.785278 120.178964 \nz\n\" clip-path=\"url(#p91bff32cf2)\" style=\"fill: #00acff\"/>\n   </g>\n   <g id=\"patch_33\">\n    <path d=\"M 113.212008 151.259552 \nL 132.753392 151.259552 \nL 132.753392 114.982645 \nL 113.212008 114.982645 \nz\n\" clip-path=\"url(#p91bff32cf2)\" style=\"fill: #00acff\"/>\n   </g>\n   <g id=\"patch_34\">\n    <path d=\"M 137.638738 151.259552 \nL 157.180122 151.259552 \nL 157.180122 123.589681 \nL 137.638738 123.589681 \nz\n\" clip-path=\"url(#p91bff32cf2)\" style=\"fill: #00acff\"/>\n   </g>\n   <g id=\"patch_35\">\n    <path d=\"M 162.065468 151.259552 \nL 181.606852 151.259552 \nL 181.606852 128.208854 \nL 162.065468 128.208854 \nz\n\" clip-path=\"url(#p91bff32cf2)\" style=\"fill: #00acff\"/>\n   </g>\n   <g id=\"patch_36\">\n    <path d=\"M 186.492198 151.259552 \nL 206.033582 151.259552 \nL 206.033582 129.19438 \nL 186.492198 129.19438 \nz\n\" clip-path=\"url(#p91bff32cf2)\" style=\"fill: #00acff\"/>\n   </g>\n   <g id=\"patch_37\">\n    <path d=\"M 210.918928 151.259552 \nL 230.460312 151.259552 \nL 230.460312 135.256282 \nL 210.918928 135.256282 \nz\n\" clip-path=\"url(#p91bff32cf2)\" style=\"fill: #00acff\"/>\n   </g>\n   <g id=\"patch_38\">\n    <path d=\"M 235.345658 151.259552 \nL 254.887042 151.259552 \nL 254.887042 108.373128 \nL 235.345658 108.373128 \nz\n\" clip-path=\"url(#p91bff32cf2)\" style=\"fill: #00acff\"/>\n   </g>\n   <g id=\"patch_39\">\n    <path d=\"M 259.772388 151.259552 \nL 279.313772 151.259552 \nL 279.313772 127.548743 \nL 259.772388 127.548743 \nz\n\" clip-path=\"url(#p91bff32cf2)\" style=\"fill: #00acff\"/>\n   </g>\n   <g id=\"patch_40\">\n    <path d=\"M 284.199118 151.259552 \nL 303.740502 151.259552 \nL 303.740502 127.126139 \nL 284.199118 127.126139 \nz\n\" clip-path=\"url(#p91bff32cf2)\" style=\"fill: #00acff\"/>\n   </g>\n   <g id=\"patch_41\">\n    <path d=\"M 308.625848 151.259552 \nL 328.167232 151.259552 \nL 328.167232 131.777757 \nL 308.625848 131.777757 \nz\n\" clip-path=\"url(#p91bff32cf2)\" style=\"fill: #00acff\"/>\n   </g>\n   <g id=\"patch_42\">\n    <path d=\"M 333.052578 151.259552 \nL 352.593962 151.259552 \nL 352.593962 133.186879 \nL 333.052578 133.186879 \nz\n\" clip-path=\"url(#p91bff32cf2)\" style=\"fill: #00acff\"/>\n   </g>\n   <g id=\"patch_43\">\n    <path d=\"M 357.479308 151.259552 \nL 377.020692 151.259552 \nL 377.020692 128.75942 \nL 357.479308 128.75942 \nz\n\" clip-path=\"url(#p91bff32cf2)\" style=\"fill: #00acff\"/>\n   </g>\n   <g id=\"patch_44\">\n    <path d=\"M 381.906038 151.259552 \nL 401.447422 151.259552 \nL 401.447422 129.121129 \nL 381.906038 129.121129 \nz\n\" clip-path=\"url(#p91bff32cf2)\" style=\"fill: #00acff\"/>\n   </g>\n   <g id=\"patch_45\">\n    <path d=\"M 406.332768 151.259552 \nL 425.874152 151.259552 \nL 425.874152 118.051081 \nL 406.332768 118.051081 \nz\n\" clip-path=\"url(#p91bff32cf2)\" style=\"fill: #00acff\"/>\n   </g>\n   <g id=\"patch_46\">\n    <path d=\"M 430.759498 151.259552 \nL 450.300882 151.259552 \nL 450.300882 122.601673 \nL 430.759498 122.601673 \nz\n\" clip-path=\"url(#p91bff32cf2)\" style=\"fill: #00acff\"/>\n   </g>\n   <g id=\"patch_47\">\n    <path d=\"M 455.186228 151.259552 \nL 474.727612 151.259552 \nL 474.727612 129.947547 \nL 455.186228 129.947547 \nz\n\" clip-path=\"url(#p91bff32cf2)\" style=\"fill: #00acff\"/>\n   </g>\n   <g id=\"patch_48\">\n    <path d=\"M 479.612958 151.259552 \nL 499.154342 151.259552 \nL 499.154342 136.173613 \nL 479.612958 136.173613 \nz\n\" clip-path=\"url(#p91bff32cf2)\" style=\"fill: #00acff\"/>\n   </g>\n   <g id=\"patch_49\">\n    <path d=\"M 504.039688 151.259552 \nL 523.581072 151.259552 \nL 523.581072 132.314611 \nL 504.039688 132.314611 \nz\n\" clip-path=\"url(#p91bff32cf2)\" style=\"fill: #00acff\"/>\n   </g>\n   <g id=\"patch_50\">\n    <path d=\"M 528.466418 151.259552 \nL 548.007802 151.259552 \nL 548.007802 130.751871 \nL 528.466418 130.751871 \nz\n\" clip-path=\"url(#p91bff32cf2)\" style=\"fill: #00acff\"/>\n   </g>\n   <g id=\"patch_51\">\n    <path d=\"M 552.893148 151.259552 \nL 572.434532 151.259552 \nL 572.434532 118.835475 \nL 552.893148 118.835475 \nz\n\" clip-path=\"url(#p91bff32cf2)\" style=\"fill: #00acff\"/>\n   </g>\n   <g id=\"patch_52\">\n    <path d=\"M 577.319878 151.259552 \nL 596.861262 151.259552 \nL 596.861262 101.800772 \nL 577.319878 101.800772 \nz\n\" clip-path=\"url(#p91bff32cf2)\" style=\"fill: #00acff\"/>\n   </g>\n   <g id=\"patch_53\">\n    <path d=\"M 601.746608 151.259552 \nL 621.287992 151.259552 \nL 621.287992 123.379393 \nL 601.746608 123.379393 \nz\n\" clip-path=\"url(#p91bff32cf2)\" style=\"fill: #00acff\"/>\n   </g>\n   <g id=\"patch_54\">\n    <path d=\"M 626.173338 151.259552 \nL 645.714722 151.259552 \nL 645.714722 125.866571 \nL 626.173338 125.866571 \nz\n\" clip-path=\"url(#p91bff32cf2)\" style=\"fill: #00acff\"/>\n   </g>\n   <g id=\"patch_55\">\n    <path d=\"M 650.600068 151.259552 \nL 670.141452 151.259552 \nL 670.141452 125.446655 \nL 650.600068 125.446655 \nz\n\" clip-path=\"url(#p91bff32cf2)\" style=\"fill: #00acff\"/>\n   </g>\n   <g id=\"patch_56\">\n    <path d=\"M 675.026798 151.259552 \nL 694.568182 151.259552 \nL 694.568182 133.136131 \nL 675.026798 133.136131 \nz\n\" clip-path=\"url(#p91bff32cf2)\" style=\"fill: #00acff\"/>\n   </g>\n   <g id=\"matplotlib.axis_1\"/>\n   <g id=\"matplotlib.axis_2\">\n    <g id=\"ytick_1\">\n     <g id=\"line2d_1\">\n      <path d=\"M 7.2 151.259552 \nL 727.3 151.259552 \n\" clip-path=\"url(#p91bff32cf2)\" style=\"fill: none; stroke-dasharray: 0.4,0.66; stroke-dashoffset: 0; stroke: #0f0f0f; stroke-width: 0.4; stroke-linejoin: miter\"/>\n     </g>\n     <g id=\"line2d_2\">\n      <defs>\n       <path id=\"m41e75517bd\" d=\"M 0 0 \nL 2 0 \n\" style=\"stroke: #0f0f0f; stroke-width: 0.2\"/>\n      </defs>\n      <g>\n       <use xlink:href=\"#m41e75517bd\" x=\"727.3\" y=\"151.259552\" style=\"fill: #0f0f0f; stroke: #0f0f0f; stroke-width: 0.2\"/>\n      </g>\n     </g>\n     <g id=\"text_1\">\n      <!-- 0.0 -->\n      <g style=\"fill: #0f0f0f\" transform=\"translate(732.8 154.995557) scale(0.10829 -0.10829)\">\n       <defs>\n        <path id=\"Consolas-30\" d=\"M 3244 2041 \nQ 3244 1572 3150 1186 \nQ 3056 800 2865 523 \nQ 2675 247 2392 95 \nQ 2109 -56 1728 -56 \nQ 1400 -56 1131 67 \nQ 863 191 672 447 \nQ 481 703 378 1100 \nQ 275 1497 275 2041 \nQ 275 2509 370 2896 \nQ 466 3284 655 3561 \nQ 844 3838 1128 3989 \nQ 1413 4141 1791 4141 \nQ 2119 4141 2387 4017 \nQ 2656 3894 2847 3636 \nQ 3038 3378 3141 2981 \nQ 3244 2584 3244 2041 \nz\nM 2694 2022 \nQ 2694 2128 2686 2233 \nQ 2678 2338 2669 2438 \nL 941 1153 \nQ 988 991 1059 853 \nQ 1131 716 1232 617 \nQ 1334 519 1464 464 \nQ 1594 409 1759 409 \nQ 1972 409 2145 512 \nQ 2319 616 2441 819 \nQ 2563 1022 2628 1323 \nQ 2694 1625 2694 2022 \nz\nM 825 2059 \nQ 825 1963 826 1866 \nQ 828 1769 838 1678 \nL 2566 2956 \nQ 2519 3116 2447 3247 \nQ 2375 3378 2275 3473 \nQ 2175 3569 2047 3622 \nQ 1919 3675 1759 3675 \nQ 1547 3675 1373 3572 \nQ 1200 3469 1078 3264 \nQ 956 3059 890 2757 \nQ 825 2456 825 2059 \nz\n\" transform=\"scale(0.015625)\"/>\n        <path id=\"Consolas-2e\" d=\"M 1734 984 \nQ 1841 984 1936 943 \nQ 2031 903 2101 831 \nQ 2172 759 2212 664 \nQ 2253 569 2253 459 \nQ 2253 353 2212 259 \nQ 2172 166 2101 95 \nQ 2031 25 1936 -15 \nQ 1841 -56 1734 -56 \nQ 1625 -56 1531 -15 \nQ 1438 25 1367 95 \nQ 1297 166 1256 259 \nQ 1216 353 1216 459 \nQ 1216 569 1256 664 \nQ 1297 759 1367 831 \nQ 1438 903 1531 943 \nQ 1625 984 1734 984 \nz\n\" transform=\"scale(0.015625)\"/>\n       </defs>\n       <use xlink:href=\"#Consolas-30\"/>\n       <use xlink:href=\"#Consolas-2e\" x=\"54.980469\"/>\n       <use xlink:href=\"#Consolas-30\" x=\"109.960938\"/>\n      </g>\n     </g>\n    </g>\n    <g id=\"ytick_2\">\n     <g id=\"line2d_3\">\n      <path d=\"M 7.2 122.788319 \nL 727.3 122.788319 \n\" clip-path=\"url(#p91bff32cf2)\" style=\"fill: none; stroke-dasharray: 0.4,0.66; stroke-dashoffset: 0; stroke: #0f0f0f; stroke-width: 0.4; stroke-linejoin: miter\"/>\n     </g>\n     <g id=\"line2d_4\">\n      <g>\n       <use xlink:href=\"#m41e75517bd\" x=\"727.3\" y=\"122.788319\" style=\"fill: #0f0f0f; stroke: #0f0f0f; stroke-width: 0.2\"/>\n      </g>\n     </g>\n     <g id=\"text_2\">\n      <!-- 2.5 -->\n      <g style=\"fill: #0f0f0f\" transform=\"translate(732.8 126.524324) scale(0.10829 -0.10829)\">\n       <defs>\n        <path id=\"Consolas-32\" d=\"M 3150 0 \nL 459 0 \nL 459 488 \nL 1516 1538 \nQ 1775 1794 1937 1981 \nQ 2100 2169 2190 2323 \nQ 2281 2478 2312 2615 \nQ 2344 2753 2344 2913 \nQ 2344 3063 2303 3198 \nQ 2263 3334 2178 3437 \nQ 2094 3541 1959 3600 \nQ 1825 3659 1638 3659 \nQ 1378 3659 1165 3543 \nQ 953 3428 775 3244 \nL 475 3603 \nQ 706 3847 1007 3994 \nQ 1309 4141 1709 4141 \nQ 1981 4141 2204 4059 \nQ 2428 3978 2590 3825 \nQ 2753 3672 2842 3450 \nQ 2931 3228 2931 2950 \nQ 2931 2716 2868 2516 \nQ 2806 2316 2679 2117 \nQ 2553 1919 2361 1706 \nQ 2169 1494 1906 1241 \nL 1166 519 \nL 3150 519 \nL 3150 0 \nz\n\" transform=\"scale(0.015625)\"/>\n        <path id=\"Consolas-35\" d=\"M 3047 1306 \nQ 3047 1003 2915 753 \nQ 2784 503 2554 323 \nQ 2325 144 2012 44 \nQ 1700 -56 1338 -56 \nQ 1247 -56 1142 -51 \nQ 1038 -47 934 -39 \nQ 831 -31 732 -22 \nQ 634 -13 556 0 \nL 556 494 \nQ 725 453 942 434 \nQ 1159 416 1381 416 \nQ 1631 416 1831 475 \nQ 2031 534 2172 645 \nQ 2313 756 2388 914 \nQ 2463 1072 2463 1269 \nQ 2463 1650 2189 1823 \nQ 1916 1997 1403 1997 \nL 628 1997 \nL 628 4084 \nL 2828 4084 \nL 2828 3609 \nL 1141 3609 \nL 1141 2463 \nL 1497 2463 \nQ 1791 2463 2069 2409 \nQ 2347 2356 2564 2223 \nQ 2781 2091 2914 1867 \nQ 3047 1644 3047 1306 \nz\n\" transform=\"scale(0.015625)\"/>\n       </defs>\n       <use xlink:href=\"#Consolas-32\"/>\n       <use xlink:href=\"#Consolas-2e\" x=\"54.980469\"/>\n       <use xlink:href=\"#Consolas-35\" x=\"109.960938\"/>\n      </g>\n     </g>\n    </g>\n    <g id=\"ytick_3\">\n     <g id=\"line2d_5\">\n      <path d=\"M 7.2 94.317086 \nL 727.3 94.317086 \n\" clip-path=\"url(#p91bff32cf2)\" style=\"fill: none; stroke-dasharray: 0.4,0.66; stroke-dashoffset: 0; stroke: #0f0f0f; stroke-width: 0.4; stroke-linejoin: miter\"/>\n     </g>\n     <g id=\"line2d_6\">\n      <g>\n       <use xlink:href=\"#m41e75517bd\" x=\"727.3\" y=\"94.317086\" style=\"fill: #0f0f0f; stroke: #0f0f0f; stroke-width: 0.2\"/>\n      </g>\n     </g>\n     <g id=\"text_3\">\n      <!-- 5.0 -->\n      <g style=\"fill: #0f0f0f\" transform=\"translate(732.8 98.053091) scale(0.10829 -0.10829)\">\n       <use xlink:href=\"#Consolas-35\"/>\n       <use xlink:href=\"#Consolas-2e\" x=\"54.980469\"/>\n       <use xlink:href=\"#Consolas-30\" x=\"109.960938\"/>\n      </g>\n     </g>\n    </g>\n    <g id=\"ytick_4\">\n     <g id=\"line2d_7\">\n      <path d=\"M 7.2 65.845853 \nL 727.3 65.845853 \n\" clip-path=\"url(#p91bff32cf2)\" style=\"fill: none; stroke-dasharray: 0.4,0.66; stroke-dashoffset: 0; stroke: #0f0f0f; stroke-width: 0.4; stroke-linejoin: miter\"/>\n     </g>\n     <g id=\"line2d_8\">\n      <g>\n       <use xlink:href=\"#m41e75517bd\" x=\"727.3\" y=\"65.845853\" style=\"fill: #0f0f0f; stroke: #0f0f0f; stroke-width: 0.2\"/>\n      </g>\n     </g>\n     <g id=\"text_4\">\n      <!-- 7.5 -->\n      <g style=\"fill: #0f0f0f\" transform=\"translate(732.8 69.581858) scale(0.10829 -0.10829)\">\n       <defs>\n        <path id=\"Consolas-37\" d=\"M 3128 3578 \nL 1416 0 \nL 794 0 \nL 2572 3578 \nL 366 3578 \nL 366 4084 \nL 3128 4084 \nL 3128 3578 \nz\n\" transform=\"scale(0.015625)\"/>\n       </defs>\n       <use xlink:href=\"#Consolas-37\"/>\n       <use xlink:href=\"#Consolas-2e\" x=\"54.980469\"/>\n       <use xlink:href=\"#Consolas-35\" x=\"109.960938\"/>\n      </g>\n     </g>\n    </g>\n    <g id=\"ytick_5\">\n     <g id=\"line2d_9\">\n      <path d=\"M 7.2 37.37462 \nL 727.3 37.37462 \n\" clip-path=\"url(#p91bff32cf2)\" style=\"fill: none; stroke-dasharray: 0.4,0.66; stroke-dashoffset: 0; stroke: #0f0f0f; stroke-width: 0.4; stroke-linejoin: miter\"/>\n     </g>\n     <g id=\"line2d_10\">\n      <g>\n       <use xlink:href=\"#m41e75517bd\" x=\"727.3\" y=\"37.37462\" style=\"fill: #0f0f0f; stroke: #0f0f0f; stroke-width: 0.2\"/>\n      </g>\n     </g>\n     <g id=\"text_5\">\n      <!-- 10.0 -->\n      <g style=\"fill: #0f0f0f\" transform=\"translate(732.8 41.110625) scale(0.10829 -0.10829)\">\n       <defs>\n        <path id=\"Consolas-31\" d=\"M 3116 0 \nL 550 0 \nL 550 506 \nL 1600 506 \nL 1600 3488 \nL 622 2956 \nL 422 3419 \nL 1722 4103 \nL 2203 4103 \nL 2203 506 \nL 3116 506 \nL 3116 0 \nz\n\" transform=\"scale(0.015625)\"/>\n       </defs>\n       <use xlink:href=\"#Consolas-31\"/>\n       <use xlink:href=\"#Consolas-30\" x=\"54.980469\"/>\n       <use xlink:href=\"#Consolas-2e\" x=\"109.960938\"/>\n       <use xlink:href=\"#Consolas-30\" x=\"164.941406\"/>\n      </g>\n     </g>\n    </g>\n    <g id=\"text_6\">\n     <!-- Total Weekly Shares [Million] -->\n     <g style=\"fill: #0f0f0f\" transform=\"translate(768.273473 174.23736) rotate(-90) scale(0.10829 -0.10829)\">\n      <defs>\n       <path id=\"Consolas-54\" d=\"M 3250 3609 \nL 2041 3609 \nL 2041 0 \nL 1478 0 \nL 1478 3609 \nL 269 3609 \nL 269 4084 \nL 3250 4084 \nL 3250 3609 \nz\n\" transform=\"scale(0.015625)\"/>\n       <path id=\"Consolas-6f\" d=\"M 3231 1594 \nQ 3231 1228 3128 923 \nQ 3025 619 2831 401 \nQ 2638 184 2359 64 \nQ 2081 -56 1728 -56 \nQ 1391 -56 1123 48 \nQ 856 153 670 356 \nQ 484 559 386 859 \nQ 288 1159 288 1550 \nQ 288 1916 391 2217 \nQ 494 2519 687 2736 \nQ 881 2953 1159 3073 \nQ 1438 3194 1791 3194 \nQ 2128 3194 2395 3089 \nQ 2663 2984 2848 2782 \nQ 3034 2581 3132 2281 \nQ 3231 1981 3231 1594 \nz\nM 2675 1569 \nQ 2675 1859 2611 2076 \nQ 2547 2294 2428 2439 \nQ 2309 2584 2139 2657 \nQ 1969 2731 1759 2731 \nQ 1516 2731 1342 2636 \nQ 1169 2541 1058 2381 \nQ 947 2222 895 2011 \nQ 844 1800 844 1569 \nQ 844 1278 908 1059 \nQ 972 841 1090 695 \nQ 1209 550 1378 476 \nQ 1547 403 1759 403 \nQ 2003 403 2176 498 \nQ 2350 594 2461 753 \nQ 2572 913 2623 1123 \nQ 2675 1334 2675 1569 \nz\n\" transform=\"scale(0.015625)\"/>\n       <path id=\"Consolas-74\" d=\"M 3028 44 \nQ 2844 -3 2647 -23 \nQ 2450 -44 2247 -44 \nQ 1656 -44 1365 223 \nQ 1075 491 1075 1044 \nL 1075 2681 \nL 197 2681 \nL 197 3138 \nL 1075 3138 \nL 1075 4000 \nL 1619 4141 \nL 1619 3138 \nL 3028 3138 \nL 3028 2681 \nL 1619 2681 \nL 1619 1088 \nQ 1619 750 1798 583 \nQ 1978 416 2328 416 \nQ 2478 416 2656 439 \nQ 2834 463 3028 513 \nL 3028 44 \nz\n\" transform=\"scale(0.015625)\"/>\n       <path id=\"Consolas-61\" d=\"M 2516 0 \nL 2503 422 \nQ 2247 169 1983 56 \nQ 1719 -56 1428 -56 \nQ 1159 -56 968 12 \nQ 778 81 654 201 \nQ 531 322 473 484 \nQ 416 647 416 838 \nQ 416 1309 767 1576 \nQ 1119 1844 1806 1844 \nL 2456 1844 \nL 2456 2119 \nQ 2456 2397 2278 2564 \nQ 2100 2731 1734 2731 \nQ 1469 2731 1211 2672 \nQ 953 2613 678 2503 \nL 678 2994 \nQ 781 3031 907 3067 \nQ 1034 3103 1175 3131 \nQ 1316 3159 1469 3176 \nQ 1622 3194 1778 3194 \nQ 2063 3194 2291 3131 \nQ 2519 3069 2676 2941 \nQ 2834 2813 2918 2619 \nQ 3003 2425 3003 2163 \nL 3003 0 \nL 2516 0 \nz\nM 2456 1428 \nL 1766 1428 \nQ 1563 1428 1416 1387 \nQ 1269 1347 1175 1272 \nQ 1081 1197 1036 1092 \nQ 991 988 991 856 \nQ 991 766 1019 683 \nQ 1047 600 1109 536 \nQ 1172 472 1272 434 \nQ 1372 397 1516 397 \nQ 1703 397 1945 511 \nQ 2188 625 2456 872 \nL 2456 1428 \nz\n\" transform=\"scale(0.015625)\"/>\n       <path id=\"Consolas-6c\" d=\"M 1569 3969 \nL 641 3969 \nL 641 4416 \nL 2119 4416 \nL 2119 453 \nL 3053 453 \nL 3053 0 \nL 538 0 \nL 538 453 \nL 1569 453 \nL 1569 3969 \nz\n\" transform=\"scale(0.015625)\"/>\n       <path id=\"Consolas-20\" transform=\"scale(0.015625)\"/>\n       <path id=\"Consolas-57\" d=\"M 3378 4084 \nL 3103 0 \nL 2381 0 \nL 1875 1453 \nL 1734 1919 \nL 1588 1416 \nL 1119 0 \nL 422 0 \nL 141 4084 \nL 666 4084 \nL 825 1306 \nL 872 544 \nL 1069 1191 \nL 1563 2706 \nL 1947 2706 \nL 2516 1081 \nL 2706 544 \nL 2719 1106 \nL 2881 4084 \nL 3378 4084 \nz\n\" transform=\"scale(0.015625)\"/>\n       <path id=\"Consolas-65\" d=\"M 3150 1734 \nQ 3150 1619 3147 1541 \nQ 3144 1463 3138 1394 \nL 934 1394 \nQ 934 913 1203 655 \nQ 1472 397 1978 397 \nQ 2116 397 2253 408 \nQ 2391 419 2519 437 \nQ 2647 456 2764 479 \nQ 2881 503 2981 531 \nL 2981 84 \nQ 2759 22 2479 -17 \nQ 2200 -56 1900 -56 \nQ 1497 -56 1206 53 \nQ 916 163 730 370 \nQ 544 578 455 879 \nQ 366 1181 366 1563 \nQ 366 1894 461 2189 \nQ 556 2484 739 2707 \nQ 922 2931 1187 3062 \nQ 1453 3194 1791 3194 \nQ 2119 3194 2372 3091 \nQ 2625 2988 2798 2798 \nQ 2972 2609 3061 2339 \nQ 3150 2069 3150 1734 \nz\nM 2584 1813 \nQ 2594 2022 2544 2195 \nQ 2494 2369 2389 2494 \nQ 2284 2619 2128 2689 \nQ 1972 2759 1766 2759 \nQ 1588 2759 1441 2690 \nQ 1294 2622 1187 2497 \nQ 1081 2372 1015 2197 \nQ 950 2022 934 1813 \nL 2584 1813 \nz\n\" transform=\"scale(0.015625)\"/>\n       <path id=\"Consolas-6b\" d=\"M 3322 0 \nL 2575 0 \nL 1113 1681 \nL 1113 0 \nL 569 0 \nL 569 4416 \nL 1113 4416 \nL 1113 1703 \nL 2522 3138 \nL 3241 3138 \nL 1769 1691 \nL 3322 0 \nz\n\" transform=\"scale(0.015625)\"/>\n       <path id=\"Consolas-79\" d=\"M 3291 3138 \nL 2222 331 \nQ 2056 -97 1879 -406 \nQ 1703 -716 1493 -914 \nQ 1284 -1113 1034 -1206 \nQ 784 -1300 475 -1300 \nQ 394 -1300 328 -1297 \nQ 263 -1294 184 -1288 \nL 184 -794 \nQ 253 -803 334 -811 \nQ 416 -819 506 -819 \nQ 656 -819 786 -775 \nQ 916 -731 1031 -632 \nQ 1147 -534 1253 -378 \nQ 1359 -222 1459 0 \nL 206 3138 \nL 825 3138 \nL 1619 1063 \nL 1778 575 \nL 1959 1075 \nL 2694 3138 \nL 3291 3138 \nz\n\" transform=\"scale(0.015625)\"/>\n       <path id=\"Consolas-53\" d=\"M 3116 1106 \nQ 3116 816 2997 597 \nQ 2878 378 2665 233 \nQ 2453 88 2154 16 \nQ 1856 -56 1497 -56 \nQ 1334 -56 1173 -43 \nQ 1013 -31 864 -12 \nQ 716 6 584 31 \nQ 453 56 347 84 \nL 347 622 \nQ 581 534 873 484 \nQ 1166 434 1538 434 \nQ 1806 434 1995 476 \nQ 2184 519 2304 601 \nQ 2425 684 2479 803 \nQ 2534 922 2534 1075 \nQ 2534 1241 2442 1358 \nQ 2350 1475 2200 1567 \nQ 2050 1659 1858 1736 \nQ 1666 1813 1466 1894 \nQ 1266 1975 1073 2070 \nQ 881 2166 731 2295 \nQ 581 2425 489 2600 \nQ 397 2775 397 3016 \nQ 397 3225 484 3428 \nQ 572 3631 756 3789 \nQ 941 3947 1230 4044 \nQ 1519 4141 1919 4141 \nQ 2022 4141 2142 4131 \nQ 2263 4122 2386 4105 \nQ 2509 4088 2629 4066 \nQ 2750 4044 2853 4019 \nL 2853 3519 \nQ 2613 3588 2372 3623 \nQ 2131 3659 1906 3659 \nQ 1428 3659 1203 3500 \nQ 978 3341 978 3072 \nQ 978 2906 1070 2787 \nQ 1163 2669 1313 2575 \nQ 1463 2481 1655 2404 \nQ 1847 2328 2047 2247 \nQ 2247 2166 2439 2069 \nQ 2631 1972 2781 1839 \nQ 2931 1706 3023 1528 \nQ 3116 1350 3116 1106 \nz\n\" transform=\"scale(0.015625)\"/>\n       <path id=\"Consolas-68\" d=\"M 3022 0 \nL 2478 0 \nL 2478 2003 \nQ 2478 2366 2342 2545 \nQ 2206 2725 1953 2725 \nQ 1844 2725 1748 2695 \nQ 1653 2666 1550 2592 \nQ 1447 2519 1325 2394 \nQ 1203 2269 1044 2081 \nL 1044 0 \nL 500 0 \nL 500 4416 \nL 1044 4416 \nL 1044 3138 \nL 1025 2644 \nQ 1153 2797 1276 2901 \nQ 1400 3006 1523 3072 \nQ 1647 3138 1775 3166 \nQ 1903 3194 2041 3194 \nQ 2509 3194 2765 2908 \nQ 3022 2622 3022 2047 \nL 3022 0 \nz\n\" transform=\"scale(0.015625)\"/>\n       <path id=\"Consolas-72\" d=\"M 628 3138 \nL 1125 3138 \nL 1141 2559 \nQ 1419 2894 1689 3044 \nQ 1959 3194 2234 3194 \nQ 2722 3194 2973 2878 \nQ 3225 2563 3206 1941 \nL 2656 1941 \nQ 2666 2353 2536 2539 \nQ 2406 2725 2156 2725 \nQ 2047 2725 1936 2686 \nQ 1825 2647 1708 2561 \nQ 1591 2475 1459 2340 \nQ 1328 2206 1178 2016 \nL 1178 0 \nL 628 0 \nL 628 3138 \nz\n\" transform=\"scale(0.015625)\"/>\n       <path id=\"Consolas-73\" d=\"M 2984 856 \nQ 2984 691 2928 559 \nQ 2872 428 2775 326 \nQ 2678 225 2550 153 \nQ 2422 81 2276 34 \nQ 2131 -13 1978 -34 \nQ 1825 -56 1678 -56 \nQ 1359 -56 1092 -28 \nQ 825 0 569 63 \nL 569 563 \nQ 844 484 1116 443 \nQ 1388 403 1656 403 \nQ 2047 403 2234 509 \nQ 2422 616 2422 813 \nQ 2422 897 2392 964 \nQ 2363 1031 2284 1092 \nQ 2206 1153 2042 1218 \nQ 1878 1284 1594 1369 \nQ 1381 1431 1201 1511 \nQ 1022 1591 890 1700 \nQ 759 1809 684 1956 \nQ 609 2103 609 2303 \nQ 609 2434 670 2590 \nQ 731 2747 878 2881 \nQ 1025 3016 1275 3105 \nQ 1525 3194 1900 3194 \nQ 2084 3194 2309 3173 \nQ 2534 3153 2778 3103 \nL 2778 2619 \nQ 2522 2681 2292 2711 \nQ 2063 2741 1894 2741 \nQ 1691 2741 1552 2709 \nQ 1413 2678 1327 2623 \nQ 1241 2569 1203 2495 \nQ 1166 2422 1166 2338 \nQ 1166 2253 1198 2184 \nQ 1231 2116 1320 2052 \nQ 1409 1988 1568 1923 \nQ 1728 1859 1984 1784 \nQ 2263 1703 2453 1614 \nQ 2644 1525 2762 1415 \nQ 2881 1306 2932 1168 \nQ 2984 1031 2984 856 \nz\n\" transform=\"scale(0.015625)\"/>\n       <path id=\"Consolas-5b\" d=\"M 2619 -1281 \nL 1078 -1281 \nL 1078 4525 \nL 2619 4525 \nL 2619 4088 \nL 1597 4088 \nL 1597 -844 \nL 2619 -844 \nL 2619 -1281 \nz\n\" transform=\"scale(0.015625)\"/>\n       <path id=\"Consolas-4d\" d=\"M 3366 0 \nL 2822 0 \nL 2741 2547 \nL 2706 3525 \nL 2516 2956 \nL 1913 1331 \nL 1528 1331 \nL 953 2894 \nL 763 3525 \nL 750 2503 \nL 678 0 \nL 153 0 \nL 353 4084 \nL 1013 4084 \nL 1563 2547 \nL 1741 2028 \nL 1913 2547 \nL 2491 4084 \nL 3169 4084 \nL 3366 0 \nz\n\" transform=\"scale(0.015625)\"/>\n       <path id=\"Consolas-69\" d=\"M 1569 2688 \nL 641 2688 \nL 641 3138 \nL 2119 3138 \nL 2119 453 \nL 3053 453 \nL 3053 0 \nL 538 0 \nL 538 453 \nL 1569 453 \nL 1569 2688 \nz\nM 1759 4453 \nQ 1850 4453 1928 4420 \nQ 2006 4388 2064 4328 \nQ 2122 4269 2155 4192 \nQ 2188 4116 2188 4025 \nQ 2188 3938 2155 3859 \nQ 2122 3781 2064 3722 \nQ 2006 3663 1928 3630 \nQ 1850 3597 1759 3597 \nQ 1669 3597 1591 3630 \nQ 1513 3663 1455 3722 \nQ 1397 3781 1364 3859 \nQ 1331 3938 1331 4025 \nQ 1331 4116 1364 4192 \nQ 1397 4269 1455 4328 \nQ 1513 4388 1591 4420 \nQ 1669 4453 1759 4453 \nz\n\" transform=\"scale(0.015625)\"/>\n       <path id=\"Consolas-6e\" d=\"M 500 3138 \nL 984 3138 \nL 1006 2631 \nQ 1144 2794 1272 2901 \nQ 1400 3009 1523 3075 \nQ 1647 3141 1775 3167 \nQ 1903 3194 2041 3194 \nQ 2525 3194 2773 2908 \nQ 3022 2622 3022 2047 \nL 3022 0 \nL 2478 0 \nL 2478 2003 \nQ 2478 2372 2340 2548 \nQ 2203 2725 1931 2725 \nQ 1831 2725 1736 2695 \nQ 1641 2666 1537 2592 \nQ 1434 2519 1314 2394 \nQ 1194 2269 1044 2081 \nL 1044 0 \nL 500 0 \nL 500 3138 \nz\n\" transform=\"scale(0.015625)\"/>\n       <path id=\"Consolas-5d\" d=\"M 2441 -1281 \nL 900 -1281 \nL 900 -844 \nL 1916 -844 \nL 1916 4088 \nL 900 4088 \nL 900 4525 \nL 2441 4525 \nL 2441 -1281 \nz\n\" transform=\"scale(0.015625)\"/>\n      </defs>\n      <use xlink:href=\"#Consolas-54\"/>\n      <use xlink:href=\"#Consolas-6f\" x=\"54.980469\"/>\n      <use xlink:href=\"#Consolas-74\" x=\"109.960938\"/>\n      <use xlink:href=\"#Consolas-61\" x=\"164.941406\"/>\n      <use xlink:href=\"#Consolas-6c\" x=\"219.921875\"/>\n      <use xlink:href=\"#Consolas-20\" x=\"274.902344\"/>\n      <use xlink:href=\"#Consolas-57\" x=\"329.882812\"/>\n      <use xlink:href=\"#Consolas-65\" x=\"384.863281\"/>\n      <use xlink:href=\"#Consolas-65\" x=\"439.84375\"/>\n      <use xlink:href=\"#Consolas-6b\" x=\"494.824219\"/>\n      <use xlink:href=\"#Consolas-6c\" x=\"549.804688\"/>\n      <use xlink:href=\"#Consolas-79\" x=\"604.785156\"/>\n      <use xlink:href=\"#Consolas-20\" x=\"659.765625\"/>\n      <use xlink:href=\"#Consolas-53\" x=\"714.746094\"/>\n      <use xlink:href=\"#Consolas-68\" x=\"769.726562\"/>\n      <use xlink:href=\"#Consolas-61\" x=\"824.707031\"/>\n      <use xlink:href=\"#Consolas-72\" x=\"879.6875\"/>\n      <use xlink:href=\"#Consolas-65\" x=\"934.667969\"/>\n      <use xlink:href=\"#Consolas-73\" x=\"989.648438\"/>\n      <use xlink:href=\"#Consolas-20\" x=\"1044.628906\"/>\n      <use xlink:href=\"#Consolas-5b\" x=\"1099.609375\"/>\n      <use xlink:href=\"#Consolas-4d\" x=\"1154.589844\"/>\n      <use xlink:href=\"#Consolas-69\" x=\"1209.570312\"/>\n      <use xlink:href=\"#Consolas-6c\" x=\"1264.550781\"/>\n      <use xlink:href=\"#Consolas-6c\" x=\"1319.53125\"/>\n      <use xlink:href=\"#Consolas-69\" x=\"1374.511719\"/>\n      <use xlink:href=\"#Consolas-6f\" x=\"1429.492188\"/>\n      <use xlink:href=\"#Consolas-6e\" x=\"1484.472656\"/>\n      <use xlink:href=\"#Consolas-5d\" x=\"1539.453125\"/>\n     </g>\n    </g>\n   </g>\n   <g id=\"patch_57\">\n    <path d=\"M 7.2 151.259552 \nL 7.2 24.541687 \n\" style=\"fill: none; stroke: #0f0f0f; stroke-width: 0.2; stroke-linejoin: miter; stroke-linecap: square\"/>\n   </g>\n   <g id=\"patch_58\">\n    <path d=\"M 727.3 151.259552 \nL 727.3 24.541687 \n\" style=\"fill: none; stroke: #0f0f0f; stroke-width: 0.2; stroke-linejoin: miter; stroke-linecap: square\"/>\n   </g>\n   <g id=\"patch_59\">\n    <path d=\"M 7.2 151.259552 \nL 727.3 151.259552 \n\" style=\"fill: none; stroke: #0f0f0f; stroke-width: 0.2; stroke-linejoin: miter; stroke-linecap: square\"/>\n   </g>\n   <g id=\"patch_60\">\n    <path d=\"M 7.2 24.541687 \nL 727.3 24.541687 \n\" style=\"fill: none; stroke: #0f0f0f; stroke-width: 0.2; stroke-linejoin: miter; stroke-linecap: square\"/>\n   </g>\n   <g id=\"text_7\">\n    <!-- Dark Pools (ATS) vs OTC (Non-ATS) Data for MP -->\n    <g style=\"fill: #0f0f0f\" transform=\"translate(7.2 18.541687) scale(0.156 -0.156)\">\n     <defs>\n      <path id=\"Consolas-44\" d=\"M 3291 2088 \nQ 3291 1794 3245 1525 \nQ 3200 1256 3100 1025 \nQ 3000 794 2840 605 \nQ 2681 416 2450 281 \nQ 2219 147 1912 73 \nQ 1606 0 1216 0 \nL 341 0 \nL 341 4084 \nL 1394 4084 \nQ 2350 4084 2820 3592 \nQ 3291 3100 3291 2088 \nz\nM 2706 2047 \nQ 2706 2481 2625 2781 \nQ 2544 3081 2378 3265 \nQ 2213 3450 1963 3533 \nQ 1713 3616 1375 3616 \nL 897 3616 \nL 897 481 \nL 1313 481 \nQ 2706 481 2706 2047 \nz\n\" transform=\"scale(0.015625)\"/>\n      <path id=\"Consolas-50\" d=\"M 3175 2834 \nQ 3175 2584 3081 2339 \nQ 2988 2094 2791 1900 \nQ 2594 1706 2287 1586 \nQ 1981 1466 1556 1466 \nL 1050 1466 \nL 1050 0 \nL 494 0 \nL 494 4084 \nL 1644 4084 \nQ 1947 4084 2225 4017 \nQ 2503 3950 2714 3800 \nQ 2925 3650 3050 3412 \nQ 3175 3175 3175 2834 \nz\nM 2597 2809 \nQ 2597 3203 2339 3412 \nQ 2081 3622 1619 3622 \nL 1050 3622 \nL 1050 1941 \nL 1569 1941 \nQ 2063 1941 2330 2156 \nQ 2597 2372 2597 2809 \nz\n\" transform=\"scale(0.015625)\"/>\n      <path id=\"Consolas-28\" d=\"M 2378 -1313 \nQ 938 22 938 1638 \nQ 938 2016 1014 2392 \nQ 1091 2769 1261 3147 \nQ 1431 3525 1711 3903 \nQ 1991 4281 2391 4653 \nL 2706 4331 \nQ 1494 3134 1494 1678 \nQ 1494 953 1800 284 \nQ 2106 -384 2706 -978 \nL 2378 -1313 \nz\n\" transform=\"scale(0.015625)\"/>\n      <path id=\"Consolas-41\" d=\"M 3488 0 \nL 2881 0 \nL 2597 891 \nL 897 891 \nL 609 0 \nL 31 0 \nL 1388 4084 \nL 2150 4084 \nL 3488 0 \nz\nM 2438 1388 \nL 1747 3572 \nL 1056 1388 \nL 2438 1388 \nz\n\" transform=\"scale(0.015625)\"/>\n      <path id=\"Consolas-29\" d=\"M 1141 4653 \nQ 2581 3319 2581 1684 \nQ 2581 1347 2512 984 \nQ 2444 622 2278 242 \nQ 2113 -138 1833 -528 \nQ 1553 -919 1128 -1313 \nL 813 -991 \nQ 1422 -388 1722 268 \nQ 2022 925 2022 1644 \nQ 2022 3131 813 4319 \nL 1141 4653 \nz\n\" transform=\"scale(0.015625)\"/>\n      <path id=\"Consolas-76\" d=\"M 206 3138 \nL 825 3138 \nL 1594 1063 \nL 1759 556 \nL 1931 1075 \nL 2694 3138 \nL 3291 3138 \nL 2059 0 \nL 1434 0 \nL 206 3138 \nz\n\" transform=\"scale(0.015625)\"/>\n      <path id=\"Consolas-4f\" d=\"M 3347 2069 \nQ 3347 1519 3217 1119 \nQ 3088 719 2867 458 \nQ 2647 197 2351 70 \nQ 2056 -56 1728 -56 \nQ 1334 -56 1042 86 \nQ 750 228 558 497 \nQ 366 766 272 1152 \nQ 178 1538 178 2022 \nQ 178 2566 306 2966 \nQ 434 3366 654 3627 \nQ 875 3888 1169 4014 \nQ 1463 4141 1791 4141 \nQ 2184 4141 2476 3997 \nQ 2769 3853 2962 3586 \nQ 3156 3319 3251 2934 \nQ 3347 2550 3347 2069 \nz\nM 2769 2028 \nQ 2769 2388 2714 2686 \nQ 2659 2984 2537 3200 \nQ 2416 3416 2223 3534 \nQ 2031 3653 1759 3653 \nQ 1497 3653 1308 3526 \nQ 1119 3400 997 3183 \nQ 875 2966 815 2673 \nQ 756 2381 756 2053 \nQ 756 1691 812 1392 \nQ 869 1094 989 880 \nQ 1109 666 1300 547 \nQ 1491 428 1759 428 \nQ 2022 428 2212 554 \nQ 2403 681 2526 898 \nQ 2650 1116 2709 1406 \nQ 2769 1697 2769 2028 \nz\n\" transform=\"scale(0.015625)\"/>\n      <path id=\"Consolas-43\" d=\"M 3109 153 \nQ 2619 -50 2081 -50 \nQ 1216 -50 752 467 \nQ 288 984 288 1997 \nQ 288 2488 416 2884 \nQ 544 3281 781 3557 \nQ 1019 3834 1356 3984 \nQ 1694 4134 2113 4134 \nQ 2397 4134 2640 4086 \nQ 2884 4038 3109 3938 \nL 3109 3391 \nQ 2888 3513 2650 3577 \nQ 2413 3641 2131 3641 \nQ 1844 3641 1611 3533 \nQ 1378 3425 1215 3220 \nQ 1053 3016 965 2720 \nQ 878 2425 878 2047 \nQ 878 1253 1200 850 \nQ 1522 447 2144 447 \nQ 2406 447 2647 508 \nQ 2888 569 3109 678 \nL 3109 153 \nz\n\" transform=\"scale(0.015625)\"/>\n      <path id=\"Consolas-4e\" d=\"M 3150 0 \nL 2425 0 \nL 1234 2547 \nL 891 3366 \nL 891 1306 \nL 891 0 \nL 372 0 \nL 372 4084 \nL 1088 4084 \nL 2222 1672 \nL 2631 738 \nL 2631 2925 \nL 2631 4084 \nL 3150 4084 \nL 3150 0 \nz\n\" transform=\"scale(0.015625)\"/>\n      <path id=\"Consolas-2d\" d=\"M 2694 1447 \nL 825 1447 \nL 825 1959 \nL 2694 1959 \nL 2694 1447 \nz\n\" transform=\"scale(0.015625)\"/>\n      <path id=\"Consolas-66\" d=\"M 3284 3909 \nQ 2856 4000 2547 4000 \nQ 1813 4000 1813 3231 \nL 1813 2681 \nL 3188 2681 \nL 3188 2228 \nL 1813 2228 \nL 1813 0 \nL 1259 0 \nL 1259 2228 \nL 250 2228 \nL 250 2681 \nL 1259 2681 \nL 1259 3200 \nQ 1259 4453 2566 4453 \nQ 2891 4453 3284 4378 \nL 3284 3909 \nz\nM 0 3138 \nL 0 3138 \nz\n\" transform=\"scale(0.015625)\"/>\n     </defs>\n     <use xlink:href=\"#Consolas-44\"/>\n     <use xlink:href=\"#Consolas-61\" x=\"54.980469\"/>\n     <use xlink:href=\"#Consolas-72\" x=\"109.960938\"/>\n     <use xlink:href=\"#Consolas-6b\" x=\"164.941406\"/>\n     <use xlink:href=\"#Consolas-20\" x=\"219.921875\"/>\n     <use xlink:href=\"#Consolas-50\" x=\"274.902344\"/>\n     <use xlink:href=\"#Consolas-6f\" x=\"329.882812\"/>\n     <use xlink:href=\"#Consolas-6f\" x=\"384.863281\"/>\n     <use xlink:href=\"#Consolas-6c\" x=\"439.84375\"/>\n     <use xlink:href=\"#Consolas-73\" x=\"494.824219\"/>\n     <use xlink:href=\"#Consolas-20\" x=\"549.804688\"/>\n     <use xlink:href=\"#Consolas-28\" x=\"604.785156\"/>\n     <use xlink:href=\"#Consolas-41\" x=\"659.765625\"/>\n     <use xlink:href=\"#Consolas-54\" x=\"714.746094\"/>\n     <use xlink:href=\"#Consolas-53\" x=\"769.726562\"/>\n     <use xlink:href=\"#Consolas-29\" x=\"824.707031\"/>\n     <use xlink:href=\"#Consolas-20\" x=\"879.6875\"/>\n     <use xlink:href=\"#Consolas-76\" x=\"934.667969\"/>\n     <use xlink:href=\"#Consolas-73\" x=\"989.648438\"/>\n     <use xlink:href=\"#Consolas-20\" x=\"1044.628906\"/>\n     <use xlink:href=\"#Consolas-4f\" x=\"1099.609375\"/>\n     <use xlink:href=\"#Consolas-54\" x=\"1154.589844\"/>\n     <use xlink:href=\"#Consolas-43\" x=\"1209.570312\"/>\n     <use xlink:href=\"#Consolas-20\" x=\"1264.550781\"/>\n     <use xlink:href=\"#Consolas-28\" x=\"1319.53125\"/>\n     <use xlink:href=\"#Consolas-4e\" x=\"1374.511719\"/>\n     <use xlink:href=\"#Consolas-6f\" x=\"1429.492188\"/>\n     <use xlink:href=\"#Consolas-6e\" x=\"1484.472656\"/>\n     <use xlink:href=\"#Consolas-2d\" x=\"1539.453125\"/>\n     <use xlink:href=\"#Consolas-41\" x=\"1594.433594\"/>\n     <use xlink:href=\"#Consolas-54\" x=\"1649.414062\"/>\n     <use xlink:href=\"#Consolas-53\" x=\"1704.394531\"/>\n     <use xlink:href=\"#Consolas-29\" x=\"1759.375\"/>\n     <use xlink:href=\"#Consolas-20\" x=\"1814.355469\"/>\n     <use xlink:href=\"#Consolas-44\" x=\"1869.335938\"/>\n     <use xlink:href=\"#Consolas-61\" x=\"1924.316406\"/>\n     <use xlink:href=\"#Consolas-74\" x=\"1979.296875\"/>\n     <use xlink:href=\"#Consolas-61\" x=\"2034.277344\"/>\n     <use xlink:href=\"#Consolas-20\" x=\"2089.257812\"/>\n     <use xlink:href=\"#Consolas-66\" x=\"2144.238281\"/>\n     <use xlink:href=\"#Consolas-6f\" x=\"2199.21875\"/>\n     <use xlink:href=\"#Consolas-72\" x=\"2254.199219\"/>\n     <use xlink:href=\"#Consolas-20\" x=\"2309.179688\"/>\n     <use xlink:href=\"#Consolas-4d\" x=\"2364.160156\"/>\n     <use xlink:href=\"#Consolas-50\" x=\"2419.140625\"/>\n    </g>\n   </g>\n   <g id=\"legend_1\">\n    <g id=\"patch_61\">\n     <path d=\"M 667.204126 63.529472 \nL 719.7197 63.529472 \nQ 721.8855 63.529472 721.8855 61.363672 \nL 721.8855 32.121987 \nQ 721.8855 29.956187 719.7197 29.956187 \nL 667.204126 29.956187 \nQ 665.038326 29.956187 665.038326 32.121987 \nL 665.038326 61.363672 \nQ 665.038326 63.529472 667.204126 63.529472 \nz\n\" style=\"fill: #ffffff; opacity: 0.6; stroke: #ffffff; stroke-linejoin: miter\"/>\n    </g>\n    <g id=\"patch_62\">\n     <path d=\"M 669.369926 41.868087 \nL 691.027926 41.868087 \nL 691.027926 34.287787 \nL 669.369926 34.287787 \nz\n\" style=\"fill: #e4003a\"/>\n    </g>\n    <g id=\"text_8\">\n     <!-- ATS -->\n     <g style=\"fill: #0f0f0f\" transform=\"translate(699.691126 41.868087) scale(0.10829 -0.10829)\">\n      <use xlink:href=\"#Consolas-41\"/>\n      <use xlink:href=\"#Consolas-54\" x=\"54.980469\"/>\n      <use xlink:href=\"#Consolas-53\" x=\"109.960938\"/>\n     </g>\n    </g>\n    <g id=\"patch_63\">\n     <path d=\"M 669.369926 57.03038 \nL 691.027926 57.03038 \nL 691.027926 49.45008 \nL 669.369926 49.45008 \nz\n\" style=\"fill: #00acff\"/>\n    </g>\n    <g id=\"text_9\">\n     <!-- OTC -->\n     <g style=\"fill: #0f0f0f\" transform=\"translate(699.691126 57.03038) scale(0.10829 -0.10829)\">\n      <use xlink:href=\"#Consolas-4f\"/>\n      <use xlink:href=\"#Consolas-54\" x=\"54.980469\"/>\n      <use xlink:href=\"#Consolas-43\" x=\"109.960938\"/>\n     </g>\n    </g>\n   </g>\n  </g>\n  <g id=\"axes_2\">\n   <g id=\"patch_64\">\n    <path d=\"M 7.2 298.497416 \nL 727.3 298.497416 \nL 727.3 171.779552 \nL 7.2 171.779552 \nz\n\" style=\"fill: #ffffff\"/>\n   </g>\n   <g id=\"matplotlib.axis_3\">\n    <g id=\"xtick_1\">\n     <g id=\"line2d_11\">\n      <path d=\"M 117.984615 298.497416 \nL 117.984615 171.779552 \n\" clip-path=\"url(#p7d73f18305)\" style=\"fill: none; stroke-dasharray: 0.4,0.66; stroke-dashoffset: 0; stroke: #0f0f0f; stroke-width: 0.4; stroke-linejoin: miter\"/>\n     </g>\n     <g id=\"line2d_12\">\n      <defs>\n       <path id=\"m255ea827dd\" d=\"M 0 0 \nL 0 2 \n\" style=\"stroke: #0f0f0f; stroke-width: 0.2\"/>\n      </defs>\n      <g>\n       <use xlink:href=\"#m255ea827dd\" x=\"117.984615\" y=\"298.497416\" style=\"fill: #0f0f0f; stroke: #0f0f0f; stroke-width: 0.2\"/>\n      </g>\n     </g>\n     <g id=\"text_10\">\n      <!-- 2022-08-15 -->\n      <g style=\"fill: #0f0f0f\" transform=\"translate(89.126178 321.69537) rotate(-10) scale(0.10829 -0.10829)\">\n       <defs>\n        <path id=\"Consolas-38\" d=\"M 3150 1025 \nQ 3150 766 3044 564 \nQ 2938 363 2747 225 \nQ 2556 88 2297 16 \nQ 2038 -56 1734 -56 \nQ 1400 -56 1145 19 \nQ 891 94 719 228 \nQ 547 363 459 547 \nQ 372 731 372 953 \nQ 372 1328 581 1600 \nQ 791 1872 1228 2094 \nQ 828 2297 643 2545 \nQ 459 2794 459 3116 \nQ 459 3313 540 3497 \nQ 622 3681 786 3825 \nQ 950 3969 1197 4055 \nQ 1444 4141 1778 4141 \nQ 2094 4141 2333 4073 \nQ 2572 4006 2734 3881 \nQ 2897 3756 2978 3578 \nQ 3059 3400 3059 3181 \nQ 3059 2825 2861 2575 \nQ 2663 2325 2297 2138 \nQ 2478 2047 2634 1937 \nQ 2791 1828 2906 1693 \nQ 3022 1559 3086 1393 \nQ 3150 1228 3150 1025 \nz\nM 2503 3138 \nQ 2503 3416 2308 3552 \nQ 2113 3688 1759 3688 \nQ 1409 3688 1214 3553 \nQ 1019 3419 1019 3150 \nQ 1019 3028 1066 2925 \nQ 1113 2822 1211 2731 \nQ 1309 2641 1456 2553 \nQ 1603 2466 1806 2375 \nQ 2159 2541 2331 2720 \nQ 2503 2900 2503 3138 \nz\nM 2559 984 \nQ 2559 1100 2521 1209 \nQ 2484 1319 2387 1425 \nQ 2291 1531 2128 1637 \nQ 1966 1744 1716 1856 \nQ 1503 1753 1358 1651 \nQ 1213 1550 1123 1445 \nQ 1034 1341 996 1228 \nQ 959 1116 959 991 \nQ 959 850 1020 742 \nQ 1081 634 1187 559 \nQ 1294 484 1441 446 \nQ 1588 409 1759 409 \nQ 1925 409 2072 443 \nQ 2219 478 2326 548 \nQ 2434 619 2496 726 \nQ 2559 834 2559 984 \nz\n\" transform=\"scale(0.015625)\"/>\n       </defs>\n       <use xlink:href=\"#Consolas-32\"/>\n       <use xlink:href=\"#Consolas-30\" x=\"54.980469\"/>\n       <use xlink:href=\"#Consolas-32\" x=\"109.960938\"/>\n       <use xlink:href=\"#Consolas-32\" x=\"164.941406\"/>\n       <use xlink:href=\"#Consolas-2d\" x=\"219.921875\"/>\n       <use xlink:href=\"#Consolas-30\" x=\"274.902344\"/>\n       <use xlink:href=\"#Consolas-38\" x=\"329.882812\"/>\n       <use xlink:href=\"#Consolas-2d\" x=\"384.863281\"/>\n       <use xlink:href=\"#Consolas-31\" x=\"439.84375\"/>\n       <use xlink:href=\"#Consolas-35\" x=\"494.824219\"/>\n      </g>\n     </g>\n    </g>\n    <g id=\"xtick_2\">\n     <g id=\"line2d_13\">\n      <path d=\"M 394.946154 298.497416 \nL 394.946154 171.779552 \n\" clip-path=\"url(#p7d73f18305)\" style=\"fill: none; stroke-dasharray: 0.4,0.66; stroke-dashoffset: 0; stroke: #0f0f0f; stroke-width: 0.4; stroke-linejoin: miter\"/>\n     </g>\n     <g id=\"line2d_14\">\n      <g>\n       <use xlink:href=\"#m255ea827dd\" x=\"394.946154\" y=\"298.497416\" style=\"fill: #0f0f0f; stroke: #0f0f0f; stroke-width: 0.2\"/>\n      </g>\n     </g>\n     <g id=\"text_11\">\n      <!-- 2022-10-24 -->\n      <g style=\"fill: #0f0f0f\" transform=\"translate(366.087717 321.69537) rotate(-10) scale(0.10829 -0.10829)\">\n       <defs>\n        <path id=\"Consolas-34\" d=\"M 3353 903 \nL 2656 903 \nL 2656 0 \nL 2100 0 \nL 2100 903 \nL 134 903 \nL 134 1381 \nL 1875 4084 \nL 2656 4084 \nL 2656 1381 \nL 3353 1381 \nL 3353 903 \nz\nM 2100 3559 \nL 678 1381 \nL 2100 1381 \nL 2100 3559 \nz\n\" transform=\"scale(0.015625)\"/>\n       </defs>\n       <use xlink:href=\"#Consolas-32\"/>\n       <use xlink:href=\"#Consolas-30\" x=\"54.980469\"/>\n       <use xlink:href=\"#Consolas-32\" x=\"109.960938\"/>\n       <use xlink:href=\"#Consolas-32\" x=\"164.941406\"/>\n       <use xlink:href=\"#Consolas-2d\" x=\"219.921875\"/>\n       <use xlink:href=\"#Consolas-31\" x=\"274.902344\"/>\n       <use xlink:href=\"#Consolas-30\" x=\"329.882812\"/>\n       <use xlink:href=\"#Consolas-2d\" x=\"384.863281\"/>\n       <use xlink:href=\"#Consolas-32\" x=\"439.84375\"/>\n       <use xlink:href=\"#Consolas-34\" x=\"494.824219\"/>\n      </g>\n     </g>\n    </g>\n    <g id=\"xtick_3\">\n     <g id=\"line2d_15\">\n      <path d=\"M 671.907692 298.497416 \nL 671.907692 171.779552 \n\" clip-path=\"url(#p7d73f18305)\" style=\"fill: none; stroke-dasharray: 0.4,0.66; stroke-dashoffset: 0; stroke: #0f0f0f; stroke-width: 0.4; stroke-linejoin: miter\"/>\n     </g>\n     <g id=\"line2d_16\">\n      <g>\n       <use xlink:href=\"#m255ea827dd\" x=\"671.907692\" y=\"298.497416\" style=\"fill: #0f0f0f; stroke: #0f0f0f; stroke-width: 0.2\"/>\n      </g>\n     </g>\n     <g id=\"text_12\">\n      <!-- 2023-01-02 -->\n      <g style=\"fill: #0f0f0f\" transform=\"translate(643.049255 321.69537) rotate(-10) scale(0.10829 -0.10829)\">\n       <defs>\n        <path id=\"Consolas-33\" d=\"M 3072 1241 \nQ 3072 972 2962 736 \nQ 2853 500 2634 323 \nQ 2416 147 2084 45 \nQ 1753 -56 1313 -56 \nQ 1069 -56 875 -40 \nQ 681 -25 513 0 \nL 513 488 \nQ 706 453 922 434 \nQ 1138 416 1363 416 \nQ 1669 416 1886 470 \nQ 2103 525 2240 628 \nQ 2378 731 2440 878 \nQ 2503 1025 2503 1209 \nQ 2503 1378 2428 1503 \nQ 2353 1628 2217 1712 \nQ 2081 1797 1892 1839 \nQ 1703 1881 1478 1881 \nL 1013 1881 \nL 1013 2328 \nL 1484 2328 \nQ 1669 2328 1820 2376 \nQ 1972 2425 2080 2515 \nQ 2188 2606 2245 2739 \nQ 2303 2872 2303 3041 \nQ 2303 3369 2103 3519 \nQ 1903 3669 1516 3669 \nQ 1309 3669 1090 3628 \nQ 872 3588 622 3506 \nL 622 3981 \nQ 728 4019 848 4048 \nQ 969 4078 1089 4098 \nQ 1209 4119 1328 4130 \nQ 1447 4141 1556 4141 \nQ 1881 4141 2128 4070 \nQ 2375 4000 2540 3869 \nQ 2706 3738 2790 3550 \nQ 2875 3363 2875 3128 \nQ 2875 2778 2695 2540 \nQ 2516 2303 2203 2163 \nQ 2363 2138 2517 2063 \nQ 2672 1988 2795 1870 \nQ 2919 1753 2995 1593 \nQ 3072 1434 3072 1241 \nz\n\" transform=\"scale(0.015625)\"/>\n       </defs>\n       <use xlink:href=\"#Consolas-32\"/>\n       <use xlink:href=\"#Consolas-30\" x=\"54.980469\"/>\n       <use xlink:href=\"#Consolas-32\" x=\"109.960938\"/>\n       <use xlink:href=\"#Consolas-33\" x=\"164.941406\"/>\n       <use xlink:href=\"#Consolas-2d\" x=\"219.921875\"/>\n       <use xlink:href=\"#Consolas-30\" x=\"274.902344\"/>\n       <use xlink:href=\"#Consolas-31\" x=\"329.882812\"/>\n       <use xlink:href=\"#Consolas-2d\" x=\"384.863281\"/>\n       <use xlink:href=\"#Consolas-30\" x=\"439.84375\"/>\n       <use xlink:href=\"#Consolas-32\" x=\"494.824219\"/>\n      </g>\n     </g>\n    </g>\n    <g id=\"text_13\">\n     <!-- Weeks -->\n     <g style=\"fill: #0f0f0f\" transform=\"translate(352.364355 335.301943) scale(0.10829 -0.10829)\">\n      <use xlink:href=\"#Consolas-57\"/>\n      <use xlink:href=\"#Consolas-65\" x=\"54.980469\"/>\n      <use xlink:href=\"#Consolas-65\" x=\"109.960938\"/>\n      <use xlink:href=\"#Consolas-6b\" x=\"164.941406\"/>\n      <use xlink:href=\"#Consolas-73\" x=\"219.921875\"/>\n     </g>\n    </g>\n   </g>\n   <g id=\"matplotlib.axis_4\">\n    <g id=\"ytick_6\">\n     <g id=\"line2d_17\">\n      <path d=\"M 7.2 274.14413 \nL 727.3 274.14413 \n\" clip-path=\"url(#p7d73f18305)\" style=\"fill: none; stroke-dasharray: 0.4,0.66; stroke-dashoffset: 0; stroke: #0f0f0f; stroke-width: 0.4; stroke-linejoin: miter\"/>\n     </g>\n     <g id=\"line2d_18\">\n      <g>\n       <use xlink:href=\"#m41e75517bd\" x=\"727.3\" y=\"274.14413\" style=\"fill: #0f0f0f; stroke: #0f0f0f; stroke-width: 0.2\"/>\n      </g>\n     </g>\n     <g id=\"text_14\">\n      <!-- 100 -->\n      <g style=\"fill: #0f0f0f\" transform=\"translate(732.8 277.880135) scale(0.10829 -0.10829)\">\n       <use xlink:href=\"#Consolas-31\"/>\n       <use xlink:href=\"#Consolas-30\" x=\"54.980469\"/>\n       <use xlink:href=\"#Consolas-30\" x=\"109.960938\"/>\n      </g>\n     </g>\n    </g>\n    <g id=\"ytick_7\">\n     <g id=\"line2d_19\">\n      <path d=\"M 7.2 232.110547 \nL 727.3 232.110547 \n\" clip-path=\"url(#p7d73f18305)\" style=\"fill: none; stroke-dasharray: 0.4,0.66; stroke-dashoffset: 0; stroke: #0f0f0f; stroke-width: 0.4; stroke-linejoin: miter\"/>\n     </g>\n     <g id=\"line2d_20\">\n      <g>\n       <use xlink:href=\"#m41e75517bd\" x=\"727.3\" y=\"232.110547\" style=\"fill: #0f0f0f; stroke: #0f0f0f; stroke-width: 0.2\"/>\n      </g>\n     </g>\n     <g id=\"text_15\">\n      <!-- 200 -->\n      <g style=\"fill: #0f0f0f\" transform=\"translate(732.8 235.846552) scale(0.10829 -0.10829)\">\n       <use xlink:href=\"#Consolas-32\"/>\n       <use xlink:href=\"#Consolas-30\" x=\"54.980469\"/>\n       <use xlink:href=\"#Consolas-30\" x=\"109.960938\"/>\n      </g>\n     </g>\n    </g>\n    <g id=\"ytick_8\">\n     <g id=\"line2d_21\">\n      <path d=\"M 7.2 190.076965 \nL 727.3 190.076965 \n\" clip-path=\"url(#p7d73f18305)\" style=\"fill: none; stroke-dasharray: 0.4,0.66; stroke-dashoffset: 0; stroke: #0f0f0f; stroke-width: 0.4; stroke-linejoin: miter\"/>\n     </g>\n     <g id=\"line2d_22\">\n      <g>\n       <use xlink:href=\"#m41e75517bd\" x=\"727.3\" y=\"190.076965\" style=\"fill: #0f0f0f; stroke: #0f0f0f; stroke-width: 0.2\"/>\n      </g>\n     </g>\n     <g id=\"text_16\">\n      <!-- 300 -->\n      <g style=\"fill: #0f0f0f\" transform=\"translate(732.8 193.81297) scale(0.10829 -0.10829)\">\n       <use xlink:href=\"#Consolas-33\"/>\n       <use xlink:href=\"#Consolas-30\" x=\"54.980469\"/>\n       <use xlink:href=\"#Consolas-30\" x=\"109.960938\"/>\n      </g>\n     </g>\n    </g>\n    <g id=\"text_17\">\n     <!-- Shares per Trade -->\n     <g style=\"fill: #0f0f0f\" transform=\"translate(762.134784 282.772548) rotate(-90) scale(0.10829 -0.10829)\">\n      <defs>\n       <path id=\"Consolas-70\" d=\"M 3181 1625 \nQ 3181 1206 3064 893 \nQ 2947 581 2740 375 \nQ 2534 169 2253 65 \nQ 1972 -38 1644 -38 \nQ 1494 -38 1345 -22 \nQ 1197 -6 1044 31 \nL 1044 -1281 \nL 500 -1281 \nL 500 3138 \nL 984 3138 \nL 1019 2613 \nQ 1253 2934 1518 3064 \nQ 1784 3194 2094 3194 \nQ 2363 3194 2566 3081 \nQ 2769 2969 2906 2764 \nQ 3044 2559 3112 2270 \nQ 3181 1981 3181 1625 \nz\nM 2625 1600 \nQ 2625 1847 2589 2053 \nQ 2553 2259 2475 2406 \nQ 2397 2553 2275 2636 \nQ 2153 2719 1984 2719 \nQ 1881 2719 1775 2686 \nQ 1669 2653 1555 2576 \nQ 1441 2500 1314 2373 \nQ 1188 2247 1044 2059 \nL 1044 538 \nQ 1194 475 1359 439 \nQ 1525 403 1684 403 \nQ 2125 403 2375 701 \nQ 2625 1000 2625 1600 \nz\n\" transform=\"scale(0.015625)\"/>\n       <path id=\"Consolas-64\" d=\"M 341 1503 \nQ 341 1903 450 2214 \nQ 559 2525 761 2739 \nQ 963 2953 1245 3064 \nQ 1528 3175 1875 3175 \nQ 2025 3175 2170 3156 \nQ 2316 3138 2456 3097 \nL 2456 4416 \nL 3003 4416 \nL 3003 0 \nL 2516 0 \nL 2497 594 \nQ 2269 263 2003 103 \nQ 1738 -56 1428 -56 \nQ 1159 -56 954 56 \nQ 750 169 614 373 \nQ 478 578 409 865 \nQ 341 1153 341 1503 \nz\nM 897 1538 \nQ 897 969 1064 689 \nQ 1231 409 1538 409 \nQ 1744 409 1973 593 \nQ 2203 778 2456 1141 \nL 2456 2597 \nQ 2322 2659 2159 2692 \nQ 1997 2725 1838 2725 \nQ 1394 2725 1145 2437 \nQ 897 2150 897 1538 \nz\n\" transform=\"scale(0.015625)\"/>\n      </defs>\n      <use xlink:href=\"#Consolas-53\"/>\n      <use xlink:href=\"#Consolas-68\" x=\"54.980469\"/>\n      <use xlink:href=\"#Consolas-61\" x=\"109.960938\"/>\n      <use xlink:href=\"#Consolas-72\" x=\"164.941406\"/>\n      <use xlink:href=\"#Consolas-65\" x=\"219.921875\"/>\n      <use xlink:href=\"#Consolas-73\" x=\"274.902344\"/>\n      <use xlink:href=\"#Consolas-20\" x=\"329.882812\"/>\n      <use xlink:href=\"#Consolas-70\" x=\"384.863281\"/>\n      <use xlink:href=\"#Consolas-65\" x=\"439.84375\"/>\n      <use xlink:href=\"#Consolas-72\" x=\"494.824219\"/>\n      <use xlink:href=\"#Consolas-20\" x=\"549.804688\"/>\n      <use xlink:href=\"#Consolas-54\" x=\"604.785156\"/>\n      <use xlink:href=\"#Consolas-72\" x=\"659.765625\"/>\n      <use xlink:href=\"#Consolas-61\" x=\"714.746094\"/>\n      <use xlink:href=\"#Consolas-64\" x=\"769.726562\"/>\n      <use xlink:href=\"#Consolas-65\" x=\"824.707031\"/>\n     </g>\n    </g>\n   </g>\n   <g id=\"line2d_23\">\n    <path d=\"M 7.2 287.401706 \nL 34.896154 272.054081 \nL 62.592308 279.312128 \nL 90.288462 263.658327 \nL 117.984615 279.833905 \nL 145.680769 278.700077 \nL 173.376923 279.659923 \nL 201.073077 277.776941 \nL 228.769231 281.560674 \nL 256.465385 278.088738 \nL 284.161538 265.886401 \nL 311.857692 282.827152 \nL 339.553846 281.232416 \nL 367.25 271.36307 \nL 394.946154 277.352102 \nL 422.642308 280.768554 \nL 450.338462 286.526838 \nL 478.034615 289.257676 \nL 505.730769 292.737513 \nL 533.426923 283.390282 \nL 561.123077 282.738359 \nL 588.819231 283.352674 \nL 616.515385 280.082322 \nL 644.211538 285.290699 \nL 671.907692 279.323603 \nL 699.603846 276.41229 \nL 727.3 283.411744 \n\" clip-path=\"url(#p7d73f18305)\" style=\"fill: none; stroke: #e4003a; stroke-width: 1.1; stroke-linejoin: miter; stroke-linecap: square\"/>\n   </g>\n   <g id=\"line2d_24\">\n    <path d=\"M 7.2 256.064101 \nL 34.896154 177.539455 \nL 62.592308 251.854075 \nL 90.288462 250.307799 \nL 117.984615 250.644973 \nL 145.680769 250.277325 \nL 173.376923 259.872444 \nL 201.073077 256.022729 \nL 228.769231 191.980992 \nL 256.465385 255.522187 \nL 284.161538 259.250778 \nL 311.857692 255.508627 \nL 339.553846 255.205043 \nL 367.25 244.759301 \nL 394.946154 246.476868 \nL 422.642308 238.133434 \nL 450.338462 250.54959 \nL 478.034615 252.930876 \nL 505.730769 250.088199 \nL 533.426923 257.482559 \nL 561.123077 254.539743 \nL 588.819231 237.71362 \nL 616.515385 246.686483 \nL 644.211538 248.952018 \nL 671.907692 245.347536 \nL 699.603846 249.366807 \nL 727.3 248.309001 \n\" clip-path=\"url(#p7d73f18305)\" style=\"fill: none; stroke: #00acff; stroke-width: 1.1; stroke-linejoin: miter; stroke-linecap: square\"/>\n   </g>\n   <g id=\"patch_65\">\n    <path d=\"M 7.2 298.497416 \nL 7.2 171.779552 \n\" style=\"fill: none; stroke: #0f0f0f; stroke-width: 0.2; stroke-linejoin: miter; stroke-linecap: square\"/>\n   </g>\n   <g id=\"patch_66\">\n    <path d=\"M 727.3 298.497416 \nL 727.3 171.779552 \n\" style=\"fill: none; stroke: #0f0f0f; stroke-width: 0.2; stroke-linejoin: miter; stroke-linecap: square\"/>\n   </g>\n   <g id=\"patch_67\">\n    <path d=\"M 7.2 298.497416 \nL 727.3 298.497416 \n\" style=\"fill: none; stroke: #0f0f0f; stroke-width: 0.2; stroke-linejoin: miter; stroke-linecap: square\"/>\n   </g>\n   <g id=\"patch_68\">\n    <path d=\"M 7.2 171.779552 \nL 727.3 171.779552 \n\" style=\"fill: none; stroke: #0f0f0f; stroke-width: 0.2; stroke-linejoin: miter; stroke-linecap: square\"/>\n   </g>\n   <g id=\"legend_2\">\n    <g id=\"patch_69\">\n     <path d=\"M 667.204126 210.767336 \nL 719.7197 210.767336 \nQ 721.8855 210.767336 721.8855 208.601536 \nL 721.8855 179.359852 \nQ 721.8855 177.194052 719.7197 177.194052 \nL 667.204126 177.194052 \nQ 665.038326 177.194052 665.038326 179.359852 \nL 665.038326 208.601536 \nQ 665.038326 210.767336 667.204126 210.767336 \nz\n\" style=\"fill: #ffffff; opacity: 0.6; stroke: #ffffff; stroke-linejoin: miter\"/>\n    </g>\n    <g id=\"line2d_25\">\n     <path d=\"M 669.369926 185.315802 \nL 680.198926 185.315802 \nL 691.027926 185.315802 \n\" style=\"fill: none; stroke: #e4003a; stroke-width: 1.1; stroke-linejoin: miter; stroke-linecap: square\"/>\n    </g>\n    <g id=\"text_18\">\n     <!-- ATS -->\n     <g style=\"fill: #0f0f0f\" transform=\"translate(699.691126 189.105952) scale(0.10829 -0.10829)\">\n      <use xlink:href=\"#Consolas-41\"/>\n      <use xlink:href=\"#Consolas-54\" x=\"54.980469\"/>\n      <use xlink:href=\"#Consolas-53\" x=\"109.960938\"/>\n     </g>\n    </g>\n    <g id=\"line2d_26\">\n     <path d=\"M 669.369926 200.478094 \nL 680.198926 200.478094 \nL 691.027926 200.478094 \n\" style=\"fill: none; stroke: #00acff; stroke-width: 1.1; stroke-linejoin: miter; stroke-linecap: square\"/>\n    </g>\n    <g id=\"text_19\">\n     <!-- OTC -->\n     <g style=\"fill: #0f0f0f\" transform=\"translate(699.691126 204.268244) scale(0.10829 -0.10829)\">\n      <use xlink:href=\"#Consolas-4f\"/>\n      <use xlink:href=\"#Consolas-54\" x=\"54.980469\"/>\n      <use xlink:href=\"#Consolas-43\" x=\"109.960938\"/>\n     </g>\n    </g>\n   </g>\n  </g>\n </g>\n <defs>\n  <clipPath id=\"p91bff32cf2\">\n   <rect x=\"7.2\" y=\"24.541687\" width=\"720.1\" height=\"126.717864\"/>\n  </clipPath>\n  <clipPath id=\"p7d73f18305\">\n   <rect x=\"7.2\" y=\"171.779552\" width=\"720.1\" height=\"126.717864\"/>\n  </clipPath>\n </defs>\n</svg>\n",
      "text/plain": [
       "<Figure size 1650x750 with 2 Axes>"
      ]
     },
     "metadata": {},
     "output_type": "display_data"
    }
   ],
   "source": [
    "fig, (ax1, ax2) = plt.subplots(nrows=2, ncols=1, figsize=(11, 5), dpi=150)\n",
    "openbb.stocks.dps.dpotc_chart(symbol=symbol, external_axes=[ax1, ax2])\n",
    "fig.tight_layout()\n",
    "\n",
    "f = io.BytesIO()\n",
    "fig.savefig(f, format=\"svg\")\n",
    "dark_pools = f.getvalue().decode(\"utf-8\")"
   ]
  },
  {
   "cell_type": "code",
   "execution_count": 21,
   "id": "22a7266f",
   "metadata": {
    "papermill": {
     "duration": null,
     "end_time": null,
     "exception": null,
     "start_time": null,
     "status": "pending"
    },
    "tags": []
   },
   "outputs": [
    {
     "data": {
      "image/svg+xml": "<?xml version=\"1.0\" encoding=\"utf-8\" standalone=\"no\"?>\n<!DOCTYPE svg PUBLIC \"-//W3C//DTD SVG 1.1//EN\"\n  \"http://www.w3.org/Graphics/SVG/1.1/DTD/svg11.dtd\">\n<svg xmlns:xlink=\"http://www.w3.org/1999/xlink\" width=\"777.712823pt\" height=\"201.725005pt\" viewBox=\"0 0 777.712823 201.725005\" xmlns=\"http://www.w3.org/2000/svg\" version=\"1.1\">\n <metadata>\n  <rdf:RDF xmlns:dc=\"http://purl.org/dc/elements/1.1/\" xmlns:cc=\"http://creativecommons.org/ns#\" xmlns:rdf=\"http://www.w3.org/1999/02/22-rdf-syntax-ns#\">\n   <cc:Work>\n    <dc:type rdf:resource=\"http://purl.org/dc/dcmitype/StillImage\"/>\n    <dc:date>2023-02-10T10:46:06.704390</dc:date>\n    <dc:format>image/svg+xml</dc:format>\n    <dc:creator>\n     <cc:Agent>\n      <dc:title>Matplotlib v3.6.2, https://matplotlib.org/</dc:title>\n     </cc:Agent>\n    </dc:creator>\n   </cc:Work>\n  </rdf:RDF>\n </metadata>\n <defs>\n  <style type=\"text/css\">*{stroke-linejoin: round; stroke-linecap: butt}</style>\n </defs>\n <g id=\"figure_1\">\n  <g id=\"patch_1\">\n   <path d=\"M -0 201.725005 \nL 777.712823 201.725005 \nL 777.712823 0 \nL -0 0 \nz\n\" style=\"fill: #ffffff\"/>\n  </g>\n  <g id=\"axes_1\">\n   <g id=\"patch_2\">\n    <path d=\"M 7.2 172.294326 \nL 738.9775 172.294326 \nL 738.9775 24.054187 \nL 7.2 24.054187 \nz\n\" style=\"fill: #ffffff\"/>\n   </g>\n   <g id=\"PolyCollection_1\">\n    <path d=\"M 373.08875 30.792376 \nL 373.08875 165.556138 \nL 373.08875 30.792376 \nL 373.08875 30.792376 \nz\n\" clip-path=\"url(#p6fb8d8e599)\" style=\"fill: #254495\"/>\n   </g>\n   <g id=\"matplotlib.axis_1\">\n    <g id=\"xtick_1\">\n     <g id=\"line2d_1\">\n      <path d=\"M 35.769396 172.294326 \nL 35.769396 24.054187 \n\" clip-path=\"url(#p6fb8d8e599)\" style=\"fill: none; stroke-dasharray: 0.4,0.66; stroke-dashoffset: 0; stroke: #0f0f0f; stroke-width: 0.4; stroke-linejoin: miter\"/>\n     </g>\n     <g id=\"line2d_2\">\n      <defs>\n       <path id=\"m715241822e\" d=\"M 0 0 \nL 0 2 \n\" style=\"stroke: #0f0f0f; stroke-width: 0.2\"/>\n      </defs>\n      <g>\n       <use xlink:href=\"#m715241822e\" x=\"35.769396\" y=\"172.294326\" style=\"fill: #0f0f0f; stroke: #0f0f0f; stroke-width: 0.2\"/>\n      </g>\n     </g>\n     <g id=\"text_1\">\n      <!-- 2020-07 -->\n      <g style=\"fill: #0f0f0f\" transform=\"translate(15.706658 192.390442) rotate(-10) scale(0.10829 -0.10829)\">\n       <defs>\n        <path id=\"Consolas-32\" d=\"M 3150 0 \nL 459 0 \nL 459 488 \nL 1516 1538 \nQ 1775 1794 1937 1981 \nQ 2100 2169 2190 2323 \nQ 2281 2478 2312 2615 \nQ 2344 2753 2344 2913 \nQ 2344 3063 2303 3198 \nQ 2263 3334 2178 3437 \nQ 2094 3541 1959 3600 \nQ 1825 3659 1638 3659 \nQ 1378 3659 1165 3543 \nQ 953 3428 775 3244 \nL 475 3603 \nQ 706 3847 1007 3994 \nQ 1309 4141 1709 4141 \nQ 1981 4141 2204 4059 \nQ 2428 3978 2590 3825 \nQ 2753 3672 2842 3450 \nQ 2931 3228 2931 2950 \nQ 2931 2716 2868 2516 \nQ 2806 2316 2679 2117 \nQ 2553 1919 2361 1706 \nQ 2169 1494 1906 1241 \nL 1166 519 \nL 3150 519 \nL 3150 0 \nz\n\" transform=\"scale(0.015625)\"/>\n        <path id=\"Consolas-30\" d=\"M 3244 2041 \nQ 3244 1572 3150 1186 \nQ 3056 800 2865 523 \nQ 2675 247 2392 95 \nQ 2109 -56 1728 -56 \nQ 1400 -56 1131 67 \nQ 863 191 672 447 \nQ 481 703 378 1100 \nQ 275 1497 275 2041 \nQ 275 2509 370 2896 \nQ 466 3284 655 3561 \nQ 844 3838 1128 3989 \nQ 1413 4141 1791 4141 \nQ 2119 4141 2387 4017 \nQ 2656 3894 2847 3636 \nQ 3038 3378 3141 2981 \nQ 3244 2584 3244 2041 \nz\nM 2694 2022 \nQ 2694 2128 2686 2233 \nQ 2678 2338 2669 2438 \nL 941 1153 \nQ 988 991 1059 853 \nQ 1131 716 1232 617 \nQ 1334 519 1464 464 \nQ 1594 409 1759 409 \nQ 1972 409 2145 512 \nQ 2319 616 2441 819 \nQ 2563 1022 2628 1323 \nQ 2694 1625 2694 2022 \nz\nM 825 2059 \nQ 825 1963 826 1866 \nQ 828 1769 838 1678 \nL 2566 2956 \nQ 2519 3116 2447 3247 \nQ 2375 3378 2275 3473 \nQ 2175 3569 2047 3622 \nQ 1919 3675 1759 3675 \nQ 1547 3675 1373 3572 \nQ 1200 3469 1078 3264 \nQ 956 3059 890 2757 \nQ 825 2456 825 2059 \nz\n\" transform=\"scale(0.015625)\"/>\n        <path id=\"Consolas-2d\" d=\"M 2694 1447 \nL 825 1447 \nL 825 1959 \nL 2694 1959 \nL 2694 1447 \nz\n\" transform=\"scale(0.015625)\"/>\n        <path id=\"Consolas-37\" d=\"M 3128 3578 \nL 1416 0 \nL 794 0 \nL 2572 3578 \nL 366 3578 \nL 366 4084 \nL 3128 4084 \nL 3128 3578 \nz\n\" transform=\"scale(0.015625)\"/>\n       </defs>\n       <use xlink:href=\"#Consolas-32\"/>\n       <use xlink:href=\"#Consolas-30\" x=\"54.980469\"/>\n       <use xlink:href=\"#Consolas-32\" x=\"109.960938\"/>\n       <use xlink:href=\"#Consolas-30\" x=\"164.941406\"/>\n       <use xlink:href=\"#Consolas-2d\" x=\"219.921875\"/>\n       <use xlink:href=\"#Consolas-30\" x=\"274.902344\"/>\n       <use xlink:href=\"#Consolas-37\" x=\"329.882812\"/>\n      </g>\n     </g>\n    </g>\n    <g id=\"xtick_2\">\n     <g id=\"line2d_3\">\n      <path d=\"M 127.993409 172.294326 \nL 127.993409 24.054187 \n\" clip-path=\"url(#p6fb8d8e599)\" style=\"fill: none; stroke-dasharray: 0.4,0.66; stroke-dashoffset: 0; stroke: #0f0f0f; stroke-width: 0.4; stroke-linejoin: miter\"/>\n     </g>\n     <g id=\"line2d_4\">\n      <g>\n       <use xlink:href=\"#m715241822e\" x=\"127.993409\" y=\"172.294326\" style=\"fill: #0f0f0f; stroke: #0f0f0f; stroke-width: 0.2\"/>\n      </g>\n     </g>\n     <g id=\"text_2\">\n      <!-- 2021-01 -->\n      <g style=\"fill: #0f0f0f\" transform=\"translate(107.930671 192.390442) rotate(-10) scale(0.10829 -0.10829)\">\n       <defs>\n        <path id=\"Consolas-31\" d=\"M 3116 0 \nL 550 0 \nL 550 506 \nL 1600 506 \nL 1600 3488 \nL 622 2956 \nL 422 3419 \nL 1722 4103 \nL 2203 4103 \nL 2203 506 \nL 3116 506 \nL 3116 0 \nz\n\" transform=\"scale(0.015625)\"/>\n       </defs>\n       <use xlink:href=\"#Consolas-32\"/>\n       <use xlink:href=\"#Consolas-30\" x=\"54.980469\"/>\n       <use xlink:href=\"#Consolas-32\" x=\"109.960938\"/>\n       <use xlink:href=\"#Consolas-31\" x=\"164.941406\"/>\n       <use xlink:href=\"#Consolas-2d\" x=\"219.921875\"/>\n       <use xlink:href=\"#Consolas-30\" x=\"274.902344\"/>\n       <use xlink:href=\"#Consolas-31\" x=\"329.882812\"/>\n      </g>\n     </g>\n    </g>\n    <g id=\"xtick_3\">\n     <g id=\"line2d_5\">\n      <path d=\"M 218.713771 172.294326 \nL 218.713771 24.054187 \n\" clip-path=\"url(#p6fb8d8e599)\" style=\"fill: none; stroke-dasharray: 0.4,0.66; stroke-dashoffset: 0; stroke: #0f0f0f; stroke-width: 0.4; stroke-linejoin: miter\"/>\n     </g>\n     <g id=\"line2d_6\">\n      <g>\n       <use xlink:href=\"#m715241822e\" x=\"218.713771\" y=\"172.294326\" style=\"fill: #0f0f0f; stroke: #0f0f0f; stroke-width: 0.2\"/>\n      </g>\n     </g>\n     <g id=\"text_3\">\n      <!-- 2021-07 -->\n      <g style=\"fill: #0f0f0f\" transform=\"translate(198.651033 192.390442) rotate(-10) scale(0.10829 -0.10829)\">\n       <use xlink:href=\"#Consolas-32\"/>\n       <use xlink:href=\"#Consolas-30\" x=\"54.980469\"/>\n       <use xlink:href=\"#Consolas-32\" x=\"109.960938\"/>\n       <use xlink:href=\"#Consolas-31\" x=\"164.941406\"/>\n       <use xlink:href=\"#Consolas-2d\" x=\"219.921875\"/>\n       <use xlink:href=\"#Consolas-30\" x=\"274.902344\"/>\n       <use xlink:href=\"#Consolas-37\" x=\"329.882812\"/>\n      </g>\n     </g>\n    </g>\n    <g id=\"xtick_4\">\n     <g id=\"line2d_7\">\n      <path d=\"M 310.937784 172.294326 \nL 310.937784 24.054187 \n\" clip-path=\"url(#p6fb8d8e599)\" style=\"fill: none; stroke-dasharray: 0.4,0.66; stroke-dashoffset: 0; stroke: #0f0f0f; stroke-width: 0.4; stroke-linejoin: miter\"/>\n     </g>\n     <g id=\"line2d_8\">\n      <g>\n       <use xlink:href=\"#m715241822e\" x=\"310.937784\" y=\"172.294326\" style=\"fill: #0f0f0f; stroke: #0f0f0f; stroke-width: 0.2\"/>\n      </g>\n     </g>\n     <g id=\"text_4\">\n      <!-- 2022-01 -->\n      <g style=\"fill: #0f0f0f\" transform=\"translate(290.875046 192.390442) rotate(-10) scale(0.10829 -0.10829)\">\n       <use xlink:href=\"#Consolas-32\"/>\n       <use xlink:href=\"#Consolas-30\" x=\"54.980469\"/>\n       <use xlink:href=\"#Consolas-32\" x=\"109.960938\"/>\n       <use xlink:href=\"#Consolas-32\" x=\"164.941406\"/>\n       <use xlink:href=\"#Consolas-2d\" x=\"219.921875\"/>\n       <use xlink:href=\"#Consolas-30\" x=\"274.902344\"/>\n       <use xlink:href=\"#Consolas-31\" x=\"329.882812\"/>\n      </g>\n     </g>\n    </g>\n    <g id=\"xtick_5\">\n     <g id=\"line2d_9\">\n      <path d=\"M 401.658146 172.294326 \nL 401.658146 24.054187 \n\" clip-path=\"url(#p6fb8d8e599)\" style=\"fill: none; stroke-dasharray: 0.4,0.66; stroke-dashoffset: 0; stroke: #0f0f0f; stroke-width: 0.4; stroke-linejoin: miter\"/>\n     </g>\n     <g id=\"line2d_10\">\n      <g>\n       <use xlink:href=\"#m715241822e\" x=\"401.658146\" y=\"172.294326\" style=\"fill: #0f0f0f; stroke: #0f0f0f; stroke-width: 0.2\"/>\n      </g>\n     </g>\n     <g id=\"text_5\">\n      <!-- 2022-07 -->\n      <g style=\"fill: #0f0f0f\" transform=\"translate(381.595408 192.390442) rotate(-10) scale(0.10829 -0.10829)\">\n       <use xlink:href=\"#Consolas-32\"/>\n       <use xlink:href=\"#Consolas-30\" x=\"54.980469\"/>\n       <use xlink:href=\"#Consolas-32\" x=\"109.960938\"/>\n       <use xlink:href=\"#Consolas-32\" x=\"164.941406\"/>\n       <use xlink:href=\"#Consolas-2d\" x=\"219.921875\"/>\n       <use xlink:href=\"#Consolas-30\" x=\"274.902344\"/>\n       <use xlink:href=\"#Consolas-37\" x=\"329.882812\"/>\n      </g>\n     </g>\n    </g>\n    <g id=\"xtick_6\">\n     <g id=\"line2d_11\">\n      <path d=\"M 493.882159 172.294326 \nL 493.882159 24.054187 \n\" clip-path=\"url(#p6fb8d8e599)\" style=\"fill: none; stroke-dasharray: 0.4,0.66; stroke-dashoffset: 0; stroke: #0f0f0f; stroke-width: 0.4; stroke-linejoin: miter\"/>\n     </g>\n     <g id=\"line2d_12\">\n      <g>\n       <use xlink:href=\"#m715241822e\" x=\"493.882159\" y=\"172.294326\" style=\"fill: #0f0f0f; stroke: #0f0f0f; stroke-width: 0.2\"/>\n      </g>\n     </g>\n     <g id=\"text_6\">\n      <!-- 2023-01 -->\n      <g style=\"fill: #0f0f0f\" transform=\"translate(473.819421 192.390442) rotate(-10) scale(0.10829 -0.10829)\">\n       <defs>\n        <path id=\"Consolas-33\" d=\"M 3072 1241 \nQ 3072 972 2962 736 \nQ 2853 500 2634 323 \nQ 2416 147 2084 45 \nQ 1753 -56 1313 -56 \nQ 1069 -56 875 -40 \nQ 681 -25 513 0 \nL 513 488 \nQ 706 453 922 434 \nQ 1138 416 1363 416 \nQ 1669 416 1886 470 \nQ 2103 525 2240 628 \nQ 2378 731 2440 878 \nQ 2503 1025 2503 1209 \nQ 2503 1378 2428 1503 \nQ 2353 1628 2217 1712 \nQ 2081 1797 1892 1839 \nQ 1703 1881 1478 1881 \nL 1013 1881 \nL 1013 2328 \nL 1484 2328 \nQ 1669 2328 1820 2376 \nQ 1972 2425 2080 2515 \nQ 2188 2606 2245 2739 \nQ 2303 2872 2303 3041 \nQ 2303 3369 2103 3519 \nQ 1903 3669 1516 3669 \nQ 1309 3669 1090 3628 \nQ 872 3588 622 3506 \nL 622 3981 \nQ 728 4019 848 4048 \nQ 969 4078 1089 4098 \nQ 1209 4119 1328 4130 \nQ 1447 4141 1556 4141 \nQ 1881 4141 2128 4070 \nQ 2375 4000 2540 3869 \nQ 2706 3738 2790 3550 \nQ 2875 3363 2875 3128 \nQ 2875 2778 2695 2540 \nQ 2516 2303 2203 2163 \nQ 2363 2138 2517 2063 \nQ 2672 1988 2795 1870 \nQ 2919 1753 2995 1593 \nQ 3072 1434 3072 1241 \nz\n\" transform=\"scale(0.015625)\"/>\n       </defs>\n       <use xlink:href=\"#Consolas-32\"/>\n       <use xlink:href=\"#Consolas-30\" x=\"54.980469\"/>\n       <use xlink:href=\"#Consolas-32\" x=\"109.960938\"/>\n       <use xlink:href=\"#Consolas-33\" x=\"164.941406\"/>\n       <use xlink:href=\"#Consolas-2d\" x=\"219.921875\"/>\n       <use xlink:href=\"#Consolas-30\" x=\"274.902344\"/>\n       <use xlink:href=\"#Consolas-31\" x=\"329.882812\"/>\n      </g>\n     </g>\n    </g>\n    <g id=\"xtick_7\">\n     <g id=\"line2d_13\">\n      <path d=\"M 584.602521 172.294326 \nL 584.602521 24.054187 \n\" clip-path=\"url(#p6fb8d8e599)\" style=\"fill: none; stroke-dasharray: 0.4,0.66; stroke-dashoffset: 0; stroke: #0f0f0f; stroke-width: 0.4; stroke-linejoin: miter\"/>\n     </g>\n     <g id=\"line2d_14\">\n      <g>\n       <use xlink:href=\"#m715241822e\" x=\"584.602521\" y=\"172.294326\" style=\"fill: #0f0f0f; stroke: #0f0f0f; stroke-width: 0.2\"/>\n      </g>\n     </g>\n     <g id=\"text_7\">\n      <!-- 2023-07 -->\n      <g style=\"fill: #0f0f0f\" transform=\"translate(564.539783 192.390442) rotate(-10) scale(0.10829 -0.10829)\">\n       <use xlink:href=\"#Consolas-32\"/>\n       <use xlink:href=\"#Consolas-30\" x=\"54.980469\"/>\n       <use xlink:href=\"#Consolas-32\" x=\"109.960938\"/>\n       <use xlink:href=\"#Consolas-33\" x=\"164.941406\"/>\n       <use xlink:href=\"#Consolas-2d\" x=\"219.921875\"/>\n       <use xlink:href=\"#Consolas-30\" x=\"274.902344\"/>\n       <use xlink:href=\"#Consolas-37\" x=\"329.882812\"/>\n      </g>\n     </g>\n    </g>\n    <g id=\"xtick_8\">\n     <g id=\"line2d_15\">\n      <path d=\"M 676.826534 172.294326 \nL 676.826534 24.054187 \n\" clip-path=\"url(#p6fb8d8e599)\" style=\"fill: none; stroke-dasharray: 0.4,0.66; stroke-dashoffset: 0; stroke: #0f0f0f; stroke-width: 0.4; stroke-linejoin: miter\"/>\n     </g>\n     <g id=\"line2d_16\">\n      <g>\n       <use xlink:href=\"#m715241822e\" x=\"676.826534\" y=\"172.294326\" style=\"fill: #0f0f0f; stroke: #0f0f0f; stroke-width: 0.2\"/>\n      </g>\n     </g>\n     <g id=\"text_8\">\n      <!-- 2024-01 -->\n      <g style=\"fill: #0f0f0f\" transform=\"translate(656.763796 192.390442) rotate(-10) scale(0.10829 -0.10829)\">\n       <defs>\n        <path id=\"Consolas-34\" d=\"M 3353 903 \nL 2656 903 \nL 2656 0 \nL 2100 0 \nL 2100 903 \nL 134 903 \nL 134 1381 \nL 1875 4084 \nL 2656 4084 \nL 2656 1381 \nL 3353 1381 \nL 3353 903 \nz\nM 2100 3559 \nL 678 1381 \nL 2100 1381 \nL 2100 3559 \nz\n\" transform=\"scale(0.015625)\"/>\n       </defs>\n       <use xlink:href=\"#Consolas-32\"/>\n       <use xlink:href=\"#Consolas-30\" x=\"54.980469\"/>\n       <use xlink:href=\"#Consolas-32\" x=\"109.960938\"/>\n       <use xlink:href=\"#Consolas-34\" x=\"164.941406\"/>\n       <use xlink:href=\"#Consolas-2d\" x=\"219.921875\"/>\n       <use xlink:href=\"#Consolas-30\" x=\"274.902344\"/>\n       <use xlink:href=\"#Consolas-31\" x=\"329.882812\"/>\n      </g>\n     </g>\n    </g>\n   </g>\n   <g id=\"matplotlib.axis_2\">\n    <g id=\"ytick_1\">\n     <g id=\"line2d_17\">\n      <path d=\"M 7.2 146.307473 \nL 738.9775 146.307473 \n\" clip-path=\"url(#p6fb8d8e599)\" style=\"fill: none; stroke-dasharray: 0.4,0.66; stroke-dashoffset: 0; stroke: #0f0f0f; stroke-width: 0.4; stroke-linejoin: miter\"/>\n     </g>\n     <g id=\"line2d_18\">\n      <defs>\n       <path id=\"m39176d0060\" d=\"M 0 0 \nL 2 0 \n\" style=\"stroke: #0f0f0f; stroke-width: 0.2\"/>\n      </defs>\n      <g>\n       <use xlink:href=\"#m39176d0060\" x=\"738.9775\" y=\"146.307473\" style=\"fill: #0f0f0f; stroke: #0f0f0f; stroke-width: 0.2\"/>\n      </g>\n     </g>\n     <g id=\"text_9\">\n      <!-- 20 -->\n      <g style=\"fill: #0f0f0f\" transform=\"translate(744.4775 150.043478) scale(0.10829 -0.10829)\">\n       <use xlink:href=\"#Consolas-32\"/>\n       <use xlink:href=\"#Consolas-30\" x=\"54.980469\"/>\n      </g>\n     </g>\n    </g>\n    <g id=\"ytick_2\">\n     <g id=\"line2d_19\">\n      <path d=\"M 7.2 107.80244 \nL 738.9775 107.80244 \n\" clip-path=\"url(#p6fb8d8e599)\" style=\"fill: none; stroke-dasharray: 0.4,0.66; stroke-dashoffset: 0; stroke: #0f0f0f; stroke-width: 0.4; stroke-linejoin: miter\"/>\n     </g>\n     <g id=\"line2d_20\">\n      <g>\n       <use xlink:href=\"#m39176d0060\" x=\"738.9775\" y=\"107.80244\" style=\"fill: #0f0f0f; stroke: #0f0f0f; stroke-width: 0.2\"/>\n      </g>\n     </g>\n     <g id=\"text_10\">\n      <!-- 30 -->\n      <g style=\"fill: #0f0f0f\" transform=\"translate(744.4775 111.538445) scale(0.10829 -0.10829)\">\n       <use xlink:href=\"#Consolas-33\"/>\n       <use xlink:href=\"#Consolas-30\" x=\"54.980469\"/>\n      </g>\n     </g>\n    </g>\n    <g id=\"ytick_3\">\n     <g id=\"line2d_21\">\n      <path d=\"M 7.2 69.297408 \nL 738.9775 69.297408 \n\" clip-path=\"url(#p6fb8d8e599)\" style=\"fill: none; stroke-dasharray: 0.4,0.66; stroke-dashoffset: 0; stroke: #0f0f0f; stroke-width: 0.4; stroke-linejoin: miter\"/>\n     </g>\n     <g id=\"line2d_22\">\n      <g>\n       <use xlink:href=\"#m39176d0060\" x=\"738.9775\" y=\"69.297408\" style=\"fill: #0f0f0f; stroke: #0f0f0f; stroke-width: 0.2\"/>\n      </g>\n     </g>\n     <g id=\"text_11\">\n      <!-- 40 -->\n      <g style=\"fill: #0f0f0f\" transform=\"translate(744.4775 73.033413) scale(0.10829 -0.10829)\">\n       <use xlink:href=\"#Consolas-34\"/>\n       <use xlink:href=\"#Consolas-30\" x=\"54.980469\"/>\n      </g>\n     </g>\n    </g>\n    <g id=\"ytick_4\">\n     <g id=\"line2d_23\">\n      <path d=\"M 7.2 30.792376 \nL 738.9775 30.792376 \n\" clip-path=\"url(#p6fb8d8e599)\" style=\"fill: none; stroke-dasharray: 0.4,0.66; stroke-dashoffset: 0; stroke: #0f0f0f; stroke-width: 0.4; stroke-linejoin: miter\"/>\n     </g>\n     <g id=\"line2d_24\">\n      <g>\n       <use xlink:href=\"#m39176d0060\" x=\"738.9775\" y=\"30.792376\" style=\"fill: #0f0f0f; stroke: #0f0f0f; stroke-width: 0.2\"/>\n      </g>\n     </g>\n     <g id=\"text_12\">\n      <!-- 50 -->\n      <g style=\"fill: #0f0f0f\" transform=\"translate(744.4775 34.528381) scale(0.10829 -0.10829)\">\n       <defs>\n        <path id=\"Consolas-35\" d=\"M 3047 1306 \nQ 3047 1003 2915 753 \nQ 2784 503 2554 323 \nQ 2325 144 2012 44 \nQ 1700 -56 1338 -56 \nQ 1247 -56 1142 -51 \nQ 1038 -47 934 -39 \nQ 831 -31 732 -22 \nQ 634 -13 556 0 \nL 556 494 \nQ 725 453 942 434 \nQ 1159 416 1381 416 \nQ 1631 416 1831 475 \nQ 2031 534 2172 645 \nQ 2313 756 2388 914 \nQ 2463 1072 2463 1269 \nQ 2463 1650 2189 1823 \nQ 1916 1997 1403 1997 \nL 628 1997 \nL 628 4084 \nL 2828 4084 \nL 2828 3609 \nL 1141 3609 \nL 1141 2463 \nL 1497 2463 \nQ 1791 2463 2069 2409 \nQ 2347 2356 2564 2223 \nQ 2781 2091 2914 1867 \nQ 3047 1644 3047 1306 \nz\n\" transform=\"scale(0.015625)\"/>\n       </defs>\n       <use xlink:href=\"#Consolas-35\"/>\n       <use xlink:href=\"#Consolas-30\" x=\"54.980469\"/>\n      </g>\n     </g>\n    </g>\n    <g id=\"text_13\">\n     <!-- Amount ($1k) -->\n     <g style=\"fill: #0f0f0f\" transform=\"translate(768.291186 133.899805) rotate(-90) scale(0.10829 -0.10829)\">\n      <defs>\n       <path id=\"Consolas-41\" d=\"M 3488 0 \nL 2881 0 \nL 2597 891 \nL 897 891 \nL 609 0 \nL 31 0 \nL 1388 4084 \nL 2150 4084 \nL 3488 0 \nz\nM 2438 1388 \nL 1747 3572 \nL 1056 1388 \nL 2438 1388 \nz\n\" transform=\"scale(0.015625)\"/>\n       <path id=\"Consolas-6d\" d=\"M 2738 0 \nL 2738 2253 \nQ 2738 2400 2727 2494 \nQ 2716 2588 2692 2642 \nQ 2669 2697 2633 2719 \nQ 2597 2741 2544 2741 \nQ 2481 2741 2428 2703 \nQ 2375 2666 2314 2581 \nQ 2253 2497 2179 2358 \nQ 2106 2219 2006 2016 \nL 2006 0 \nL 1509 0 \nL 1509 2194 \nQ 1509 2366 1498 2472 \nQ 1488 2578 1464 2637 \nQ 1441 2697 1403 2719 \nQ 1366 2741 1313 2741 \nQ 1256 2741 1206 2709 \nQ 1156 2678 1095 2597 \nQ 1034 2516 959 2375 \nQ 884 2234 781 2016 \nL 781 0 \nL 281 0 \nL 281 3138 \nL 697 3138 \nL 722 2541 \nQ 803 2719 879 2844 \nQ 956 2969 1037 3045 \nQ 1119 3122 1211 3158 \nQ 1303 3194 1416 3194 \nQ 1669 3194 1800 3028 \nQ 1931 2863 1931 2516 \nQ 2006 2678 2078 2804 \nQ 2150 2931 2233 3017 \nQ 2316 3103 2416 3148 \nQ 2516 3194 2647 3194 \nQ 3238 3194 3238 2284 \nL 3238 0 \nL 2738 0 \nz\n\" transform=\"scale(0.015625)\"/>\n       <path id=\"Consolas-6f\" d=\"M 3231 1594 \nQ 3231 1228 3128 923 \nQ 3025 619 2831 401 \nQ 2638 184 2359 64 \nQ 2081 -56 1728 -56 \nQ 1391 -56 1123 48 \nQ 856 153 670 356 \nQ 484 559 386 859 \nQ 288 1159 288 1550 \nQ 288 1916 391 2217 \nQ 494 2519 687 2736 \nQ 881 2953 1159 3073 \nQ 1438 3194 1791 3194 \nQ 2128 3194 2395 3089 \nQ 2663 2984 2848 2782 \nQ 3034 2581 3132 2281 \nQ 3231 1981 3231 1594 \nz\nM 2675 1569 \nQ 2675 1859 2611 2076 \nQ 2547 2294 2428 2439 \nQ 2309 2584 2139 2657 \nQ 1969 2731 1759 2731 \nQ 1516 2731 1342 2636 \nQ 1169 2541 1058 2381 \nQ 947 2222 895 2011 \nQ 844 1800 844 1569 \nQ 844 1278 908 1059 \nQ 972 841 1090 695 \nQ 1209 550 1378 476 \nQ 1547 403 1759 403 \nQ 2003 403 2176 498 \nQ 2350 594 2461 753 \nQ 2572 913 2623 1123 \nQ 2675 1334 2675 1569 \nz\n\" transform=\"scale(0.015625)\"/>\n       <path id=\"Consolas-75\" d=\"M 3022 0 \nL 2534 0 \nL 2516 506 \nQ 2375 344 2248 236 \nQ 2122 128 1997 62 \nQ 1872 -3 1745 -29 \nQ 1619 -56 1478 -56 \nQ 994 -56 747 228 \nQ 500 513 500 1088 \nL 500 3138 \nL 1044 3138 \nL 1044 1131 \nQ 1044 409 1588 409 \nQ 1688 409 1783 439 \nQ 1878 469 1983 542 \nQ 2088 616 2208 741 \nQ 2328 866 2478 1056 \nL 2478 3138 \nL 3022 3138 \nL 3022 0 \nz\n\" transform=\"scale(0.015625)\"/>\n       <path id=\"Consolas-6e\" d=\"M 500 3138 \nL 984 3138 \nL 1006 2631 \nQ 1144 2794 1272 2901 \nQ 1400 3009 1523 3075 \nQ 1647 3141 1775 3167 \nQ 1903 3194 2041 3194 \nQ 2525 3194 2773 2908 \nQ 3022 2622 3022 2047 \nL 3022 0 \nL 2478 0 \nL 2478 2003 \nQ 2478 2372 2340 2548 \nQ 2203 2725 1931 2725 \nQ 1831 2725 1736 2695 \nQ 1641 2666 1537 2592 \nQ 1434 2519 1314 2394 \nQ 1194 2269 1044 2081 \nL 1044 0 \nL 500 0 \nL 500 3138 \nz\n\" transform=\"scale(0.015625)\"/>\n       <path id=\"Consolas-74\" d=\"M 3028 44 \nQ 2844 -3 2647 -23 \nQ 2450 -44 2247 -44 \nQ 1656 -44 1365 223 \nQ 1075 491 1075 1044 \nL 1075 2681 \nL 197 2681 \nL 197 3138 \nL 1075 3138 \nL 1075 4000 \nL 1619 4141 \nL 1619 3138 \nL 3028 3138 \nL 3028 2681 \nL 1619 2681 \nL 1619 1088 \nQ 1619 750 1798 583 \nQ 1978 416 2328 416 \nQ 2478 416 2656 439 \nQ 2834 463 3028 513 \nL 3028 44 \nz\n\" transform=\"scale(0.015625)\"/>\n       <path id=\"Consolas-20\" transform=\"scale(0.015625)\"/>\n       <path id=\"Consolas-28\" d=\"M 2378 -1313 \nQ 938 22 938 1638 \nQ 938 2016 1014 2392 \nQ 1091 2769 1261 3147 \nQ 1431 3525 1711 3903 \nQ 1991 4281 2391 4653 \nL 2706 4331 \nQ 1494 3134 1494 1678 \nQ 1494 953 1800 284 \nQ 2106 -384 2706 -978 \nL 2378 -1313 \nz\n\" transform=\"scale(0.015625)\"/>\n       <path id=\"Consolas-24\" d=\"M 1850 4672 \nL 2303 4672 \nL 2222 4063 \nQ 2384 4047 2548 4022 \nQ 2713 3997 2853 3963 \nL 2853 3481 \nQ 2681 3525 2506 3556 \nQ 2331 3588 2163 3603 \nL 1984 2266 \nQ 2194 2184 2400 2089 \nQ 2606 1994 2770 1864 \nQ 2934 1734 3036 1556 \nQ 3138 1378 3138 1131 \nQ 3138 869 3031 666 \nQ 2925 463 2734 322 \nQ 2544 181 2275 101 \nQ 2006 22 1684 6 \nL 1581 -738 \nL 1125 -738 \nL 1228 6 \nQ 975 25 745 61 \nQ 516 97 347 141 \nL 347 659 \nQ 544 591 776 547 \nQ 1009 503 1294 488 \nL 1478 1894 \nQ 1275 1972 1078 2062 \nQ 881 2153 726 2279 \nQ 572 2406 475 2578 \nQ 378 2750 378 2988 \nQ 378 3181 459 3370 \nQ 541 3559 712 3711 \nQ 884 3863 1146 3961 \nQ 1409 4059 1772 4078 \nL 1850 4672 \nz\nM 1709 3609 \nQ 1319 3575 1139 3426 \nQ 959 3278 959 3047 \nQ 959 2831 1107 2692 \nQ 1256 2553 1550 2438 \nL 1709 3609 \nz\nM 1747 488 \nQ 2169 519 2361 675 \nQ 2553 831 2553 1100 \nQ 2553 1213 2512 1302 \nQ 2472 1391 2390 1462 \nQ 2309 1534 2189 1596 \nQ 2069 1659 1906 1722 \nL 1747 488 \nz\n\" transform=\"scale(0.015625)\"/>\n       <path id=\"Consolas-6b\" d=\"M 3322 0 \nL 2575 0 \nL 1113 1681 \nL 1113 0 \nL 569 0 \nL 569 4416 \nL 1113 4416 \nL 1113 1703 \nL 2522 3138 \nL 3241 3138 \nL 1769 1691 \nL 3322 0 \nz\n\" transform=\"scale(0.015625)\"/>\n       <path id=\"Consolas-29\" d=\"M 1141 4653 \nQ 2581 3319 2581 1684 \nQ 2581 1347 2512 984 \nQ 2444 622 2278 242 \nQ 2113 -138 1833 -528 \nQ 1553 -919 1128 -1313 \nL 813 -991 \nQ 1422 -388 1722 268 \nQ 2022 925 2022 1644 \nQ 2022 3131 813 4319 \nL 1141 4653 \nz\n\" transform=\"scale(0.015625)\"/>\n      </defs>\n      <use xlink:href=\"#Consolas-41\"/>\n      <use xlink:href=\"#Consolas-6d\" x=\"54.980469\"/>\n      <use xlink:href=\"#Consolas-6f\" x=\"109.960938\"/>\n      <use xlink:href=\"#Consolas-75\" x=\"164.941406\"/>\n      <use xlink:href=\"#Consolas-6e\" x=\"219.921875\"/>\n      <use xlink:href=\"#Consolas-74\" x=\"274.902344\"/>\n      <use xlink:href=\"#Consolas-20\" x=\"329.882812\"/>\n      <use xlink:href=\"#Consolas-28\" x=\"384.863281\"/>\n      <use xlink:href=\"#Consolas-24\" x=\"439.84375\"/>\n      <use xlink:href=\"#Consolas-31\" x=\"494.824219\"/>\n      <use xlink:href=\"#Consolas-6b\" x=\"549.804688\"/>\n      <use xlink:href=\"#Consolas-29\" x=\"604.785156\"/>\n     </g>\n    </g>\n   </g>\n   <g id=\"patch_3\">\n    <path d=\"M 7.2 172.294326 \nL 7.2 24.054187 \n\" style=\"fill: none; stroke: #0f0f0f; stroke-width: 0.2; stroke-linejoin: miter; stroke-linecap: square\"/>\n   </g>\n   <g id=\"patch_4\">\n    <path d=\"M 738.9775 172.294326 \nL 738.9775 24.054187 \n\" style=\"fill: none; stroke: #0f0f0f; stroke-width: 0.2; stroke-linejoin: miter; stroke-linecap: square\"/>\n   </g>\n   <g id=\"patch_5\">\n    <path d=\"M 7.2 172.294326 \nL 738.9775 172.294326 \n\" style=\"fill: none; stroke: #0f0f0f; stroke-width: 0.2; stroke-linejoin: miter; stroke-linecap: square\"/>\n   </g>\n   <g id=\"patch_6\">\n    <path d=\"M 7.2 24.054187 \nL 738.9775 24.054187 \n\" style=\"fill: none; stroke: #0f0f0f; stroke-width: 0.2; stroke-linejoin: miter; stroke-linecap: square\"/>\n   </g>\n   <g id=\"text_14\">\n    <!-- Congress trading on MP -->\n    <g style=\"fill: #0f0f0f\" transform=\"translate(7.2 18.054187) scale(0.156 -0.156)\">\n     <defs>\n      <path id=\"Consolas-43\" d=\"M 3109 153 \nQ 2619 -50 2081 -50 \nQ 1216 -50 752 467 \nQ 288 984 288 1997 \nQ 288 2488 416 2884 \nQ 544 3281 781 3557 \nQ 1019 3834 1356 3984 \nQ 1694 4134 2113 4134 \nQ 2397 4134 2640 4086 \nQ 2884 4038 3109 3938 \nL 3109 3391 \nQ 2888 3513 2650 3577 \nQ 2413 3641 2131 3641 \nQ 1844 3641 1611 3533 \nQ 1378 3425 1215 3220 \nQ 1053 3016 965 2720 \nQ 878 2425 878 2047 \nQ 878 1253 1200 850 \nQ 1522 447 2144 447 \nQ 2406 447 2647 508 \nQ 2888 569 3109 678 \nL 3109 153 \nz\n\" transform=\"scale(0.015625)\"/>\n      <path id=\"Consolas-67\" d=\"M 2759 2694 \nQ 2847 2584 2895 2439 \nQ 2944 2294 2944 2125 \nQ 2944 1881 2855 1679 \nQ 2766 1478 2603 1334 \nQ 2441 1191 2214 1111 \nQ 1988 1031 1716 1031 \nQ 1519 1031 1347 1073 \nQ 1175 1116 1075 1178 \nQ 1016 1091 975 1012 \nQ 934 934 934 838 \nQ 934 719 1048 641 \nQ 1163 563 1350 556 \nL 2175 525 \nQ 2409 519 2607 466 \nQ 2806 413 2948 313 \nQ 3091 213 3170 66 \nQ 3250 -81 3250 -275 \nQ 3250 -484 3159 -671 \nQ 3069 -859 2880 -1001 \nQ 2691 -1144 2400 -1228 \nQ 2109 -1313 1709 -1313 \nQ 1328 -1313 1061 -1252 \nQ 794 -1191 622 -1083 \nQ 450 -975 372 -826 \nQ 294 -678 294 -500 \nQ 294 -272 400 -100 \nQ 506 72 728 231 \nQ 647 269 587 325 \nQ 528 381 490 448 \nQ 453 516 434 591 \nQ 416 666 416 738 \nQ 416 941 511 1109 \nQ 606 1278 738 1428 \nQ 678 1500 633 1569 \nQ 588 1638 555 1717 \nQ 522 1797 505 1889 \nQ 488 1981 488 2100 \nQ 488 2344 577 2545 \nQ 666 2747 827 2890 \nQ 988 3034 1214 3114 \nQ 1441 3194 1716 3194 \nQ 1831 3194 1937 3178 \nQ 2044 3163 2125 3138 \nL 3263 3138 \nL 3263 2694 \nL 2759 2694 \nz\nM 872 -453 \nQ 872 -675 1103 -776 \nQ 1334 -878 1747 -878 \nQ 2006 -878 2182 -831 \nQ 2359 -784 2467 -707 \nQ 2575 -631 2622 -532 \nQ 2669 -434 2669 -331 \nQ 2669 -141 2512 -50 \nQ 2356 41 2034 56 \nL 1216 84 \nQ 1113 16 1045 -50 \nQ 978 -116 940 -183 \nQ 903 -250 887 -317 \nQ 872 -384 872 -453 \nz\nM 1038 2113 \nQ 1038 1963 1088 1838 \nQ 1138 1713 1228 1625 \nQ 1319 1538 1442 1489 \nQ 1566 1441 1716 1441 \nQ 1878 1441 2004 1495 \nQ 2131 1550 2217 1644 \nQ 2303 1738 2348 1859 \nQ 2394 1981 2394 2113 \nQ 2394 2263 2344 2388 \nQ 2294 2513 2203 2600 \nQ 2113 2688 1989 2736 \nQ 1866 2784 1716 2784 \nQ 1553 2784 1426 2728 \nQ 1300 2672 1214 2580 \nQ 1128 2488 1083 2366 \nQ 1038 2244 1038 2113 \nz\n\" transform=\"scale(0.015625)\"/>\n      <path id=\"Consolas-72\" d=\"M 628 3138 \nL 1125 3138 \nL 1141 2559 \nQ 1419 2894 1689 3044 \nQ 1959 3194 2234 3194 \nQ 2722 3194 2973 2878 \nQ 3225 2563 3206 1941 \nL 2656 1941 \nQ 2666 2353 2536 2539 \nQ 2406 2725 2156 2725 \nQ 2047 2725 1936 2686 \nQ 1825 2647 1708 2561 \nQ 1591 2475 1459 2340 \nQ 1328 2206 1178 2016 \nL 1178 0 \nL 628 0 \nL 628 3138 \nz\n\" transform=\"scale(0.015625)\"/>\n      <path id=\"Consolas-65\" d=\"M 3150 1734 \nQ 3150 1619 3147 1541 \nQ 3144 1463 3138 1394 \nL 934 1394 \nQ 934 913 1203 655 \nQ 1472 397 1978 397 \nQ 2116 397 2253 408 \nQ 2391 419 2519 437 \nQ 2647 456 2764 479 \nQ 2881 503 2981 531 \nL 2981 84 \nQ 2759 22 2479 -17 \nQ 2200 -56 1900 -56 \nQ 1497 -56 1206 53 \nQ 916 163 730 370 \nQ 544 578 455 879 \nQ 366 1181 366 1563 \nQ 366 1894 461 2189 \nQ 556 2484 739 2707 \nQ 922 2931 1187 3062 \nQ 1453 3194 1791 3194 \nQ 2119 3194 2372 3091 \nQ 2625 2988 2798 2798 \nQ 2972 2609 3061 2339 \nQ 3150 2069 3150 1734 \nz\nM 2584 1813 \nQ 2594 2022 2544 2195 \nQ 2494 2369 2389 2494 \nQ 2284 2619 2128 2689 \nQ 1972 2759 1766 2759 \nQ 1588 2759 1441 2690 \nQ 1294 2622 1187 2497 \nQ 1081 2372 1015 2197 \nQ 950 2022 934 1813 \nL 2584 1813 \nz\n\" transform=\"scale(0.015625)\"/>\n      <path id=\"Consolas-73\" d=\"M 2984 856 \nQ 2984 691 2928 559 \nQ 2872 428 2775 326 \nQ 2678 225 2550 153 \nQ 2422 81 2276 34 \nQ 2131 -13 1978 -34 \nQ 1825 -56 1678 -56 \nQ 1359 -56 1092 -28 \nQ 825 0 569 63 \nL 569 563 \nQ 844 484 1116 443 \nQ 1388 403 1656 403 \nQ 2047 403 2234 509 \nQ 2422 616 2422 813 \nQ 2422 897 2392 964 \nQ 2363 1031 2284 1092 \nQ 2206 1153 2042 1218 \nQ 1878 1284 1594 1369 \nQ 1381 1431 1201 1511 \nQ 1022 1591 890 1700 \nQ 759 1809 684 1956 \nQ 609 2103 609 2303 \nQ 609 2434 670 2590 \nQ 731 2747 878 2881 \nQ 1025 3016 1275 3105 \nQ 1525 3194 1900 3194 \nQ 2084 3194 2309 3173 \nQ 2534 3153 2778 3103 \nL 2778 2619 \nQ 2522 2681 2292 2711 \nQ 2063 2741 1894 2741 \nQ 1691 2741 1552 2709 \nQ 1413 2678 1327 2623 \nQ 1241 2569 1203 2495 \nQ 1166 2422 1166 2338 \nQ 1166 2253 1198 2184 \nQ 1231 2116 1320 2052 \nQ 1409 1988 1568 1923 \nQ 1728 1859 1984 1784 \nQ 2263 1703 2453 1614 \nQ 2644 1525 2762 1415 \nQ 2881 1306 2932 1168 \nQ 2984 1031 2984 856 \nz\n\" transform=\"scale(0.015625)\"/>\n      <path id=\"Consolas-61\" d=\"M 2516 0 \nL 2503 422 \nQ 2247 169 1983 56 \nQ 1719 -56 1428 -56 \nQ 1159 -56 968 12 \nQ 778 81 654 201 \nQ 531 322 473 484 \nQ 416 647 416 838 \nQ 416 1309 767 1576 \nQ 1119 1844 1806 1844 \nL 2456 1844 \nL 2456 2119 \nQ 2456 2397 2278 2564 \nQ 2100 2731 1734 2731 \nQ 1469 2731 1211 2672 \nQ 953 2613 678 2503 \nL 678 2994 \nQ 781 3031 907 3067 \nQ 1034 3103 1175 3131 \nQ 1316 3159 1469 3176 \nQ 1622 3194 1778 3194 \nQ 2063 3194 2291 3131 \nQ 2519 3069 2676 2941 \nQ 2834 2813 2918 2619 \nQ 3003 2425 3003 2163 \nL 3003 0 \nL 2516 0 \nz\nM 2456 1428 \nL 1766 1428 \nQ 1563 1428 1416 1387 \nQ 1269 1347 1175 1272 \nQ 1081 1197 1036 1092 \nQ 991 988 991 856 \nQ 991 766 1019 683 \nQ 1047 600 1109 536 \nQ 1172 472 1272 434 \nQ 1372 397 1516 397 \nQ 1703 397 1945 511 \nQ 2188 625 2456 872 \nL 2456 1428 \nz\n\" transform=\"scale(0.015625)\"/>\n      <path id=\"Consolas-64\" d=\"M 341 1503 \nQ 341 1903 450 2214 \nQ 559 2525 761 2739 \nQ 963 2953 1245 3064 \nQ 1528 3175 1875 3175 \nQ 2025 3175 2170 3156 \nQ 2316 3138 2456 3097 \nL 2456 4416 \nL 3003 4416 \nL 3003 0 \nL 2516 0 \nL 2497 594 \nQ 2269 263 2003 103 \nQ 1738 -56 1428 -56 \nQ 1159 -56 954 56 \nQ 750 169 614 373 \nQ 478 578 409 865 \nQ 341 1153 341 1503 \nz\nM 897 1538 \nQ 897 969 1064 689 \nQ 1231 409 1538 409 \nQ 1744 409 1973 593 \nQ 2203 778 2456 1141 \nL 2456 2597 \nQ 2322 2659 2159 2692 \nQ 1997 2725 1838 2725 \nQ 1394 2725 1145 2437 \nQ 897 2150 897 1538 \nz\n\" transform=\"scale(0.015625)\"/>\n      <path id=\"Consolas-69\" d=\"M 1569 2688 \nL 641 2688 \nL 641 3138 \nL 2119 3138 \nL 2119 453 \nL 3053 453 \nL 3053 0 \nL 538 0 \nL 538 453 \nL 1569 453 \nL 1569 2688 \nz\nM 1759 4453 \nQ 1850 4453 1928 4420 \nQ 2006 4388 2064 4328 \nQ 2122 4269 2155 4192 \nQ 2188 4116 2188 4025 \nQ 2188 3938 2155 3859 \nQ 2122 3781 2064 3722 \nQ 2006 3663 1928 3630 \nQ 1850 3597 1759 3597 \nQ 1669 3597 1591 3630 \nQ 1513 3663 1455 3722 \nQ 1397 3781 1364 3859 \nQ 1331 3938 1331 4025 \nQ 1331 4116 1364 4192 \nQ 1397 4269 1455 4328 \nQ 1513 4388 1591 4420 \nQ 1669 4453 1759 4453 \nz\n\" transform=\"scale(0.015625)\"/>\n      <path id=\"Consolas-4d\" d=\"M 3366 0 \nL 2822 0 \nL 2741 2547 \nL 2706 3525 \nL 2516 2956 \nL 1913 1331 \nL 1528 1331 \nL 953 2894 \nL 763 3525 \nL 750 2503 \nL 678 0 \nL 153 0 \nL 353 4084 \nL 1013 4084 \nL 1563 2547 \nL 1741 2028 \nL 1913 2547 \nL 2491 4084 \nL 3169 4084 \nL 3366 0 \nz\n\" transform=\"scale(0.015625)\"/>\n      <path id=\"Consolas-50\" d=\"M 3175 2834 \nQ 3175 2584 3081 2339 \nQ 2988 2094 2791 1900 \nQ 2594 1706 2287 1586 \nQ 1981 1466 1556 1466 \nL 1050 1466 \nL 1050 0 \nL 494 0 \nL 494 4084 \nL 1644 4084 \nQ 1947 4084 2225 4017 \nQ 2503 3950 2714 3800 \nQ 2925 3650 3050 3412 \nQ 3175 3175 3175 2834 \nz\nM 2597 2809 \nQ 2597 3203 2339 3412 \nQ 2081 3622 1619 3622 \nL 1050 3622 \nL 1050 1941 \nL 1569 1941 \nQ 2063 1941 2330 2156 \nQ 2597 2372 2597 2809 \nz\n\" transform=\"scale(0.015625)\"/>\n     </defs>\n     <use xlink:href=\"#Consolas-43\"/>\n     <use xlink:href=\"#Consolas-6f\" x=\"54.980469\"/>\n     <use xlink:href=\"#Consolas-6e\" x=\"109.960938\"/>\n     <use xlink:href=\"#Consolas-67\" x=\"164.941406\"/>\n     <use xlink:href=\"#Consolas-72\" x=\"219.921875\"/>\n     <use xlink:href=\"#Consolas-65\" x=\"274.902344\"/>\n     <use xlink:href=\"#Consolas-73\" x=\"329.882812\"/>\n     <use xlink:href=\"#Consolas-73\" x=\"384.863281\"/>\n     <use xlink:href=\"#Consolas-20\" x=\"439.84375\"/>\n     <use xlink:href=\"#Consolas-74\" x=\"494.824219\"/>\n     <use xlink:href=\"#Consolas-72\" x=\"549.804688\"/>\n     <use xlink:href=\"#Consolas-61\" x=\"604.785156\"/>\n     <use xlink:href=\"#Consolas-64\" x=\"659.765625\"/>\n     <use xlink:href=\"#Consolas-69\" x=\"714.746094\"/>\n     <use xlink:href=\"#Consolas-6e\" x=\"769.726562\"/>\n     <use xlink:href=\"#Consolas-67\" x=\"824.707031\"/>\n     <use xlink:href=\"#Consolas-20\" x=\"879.6875\"/>\n     <use xlink:href=\"#Consolas-6f\" x=\"934.667969\"/>\n     <use xlink:href=\"#Consolas-6e\" x=\"989.648438\"/>\n     <use xlink:href=\"#Consolas-20\" x=\"1044.628906\"/>\n     <use xlink:href=\"#Consolas-4d\" x=\"1099.609375\"/>\n     <use xlink:href=\"#Consolas-50\" x=\"1154.589844\"/>\n    </g>\n   </g>\n  </g>\n </g>\n <defs>\n  <clipPath id=\"p6fb8d8e599\">\n   <rect x=\"7.2\" y=\"24.054187\" width=\"731.7775\" height=\"148.240139\"/>\n  </clipPath>\n </defs>\n</svg>\n",
      "text/plain": [
       "<Figure size 1650x450 with 1 Axes>"
      ]
     },
     "metadata": {},
     "output_type": "display_data"
    }
   ],
   "source": [
    "fig, ax = plt.subplots(figsize=(11, 3), dpi=150)\n",
    "openbb.stocks.gov.gtrades_chart(\n",
    "    symbol,\n",
    "    past_transactions_months=12,\n",
    "    external_axes=[\n",
    "        ax,\n",
    "    ],\n",
    ")\n",
    "fig.tight_layout()\n",
    "f = io.BytesIO()\n",
    "fig.savefig(f, format=\"svg\")\n",
    "gtrades_chart = f.getvalue().decode(\"utf-8\")"
   ]
  },
  {
   "cell_type": "code",
   "execution_count": 22,
   "id": "4c670ba3",
   "metadata": {
    "papermill": {
     "duration": null,
     "end_time": null,
     "exception": null,
     "start_time": null,
     "status": "pending"
    },
    "tags": []
   },
   "outputs": [
    {
     "data": {
      "text/html": [
       "<pre style=\"white-space:pre;overflow-x:auto;line-height:normal;font-family:Menlo,'DejaVu Sans Mono',consolas,'Courier New',monospace\">No government contracts found\n",
       "\n",
       "</pre>\n"
      ],
      "text/plain": [
       "No government contracts found\n",
       "\n"
      ]
     },
     "metadata": {},
     "output_type": "display_data"
    },
    {
     "data": {
      "image/svg+xml": "<?xml version=\"1.0\" encoding=\"utf-8\" standalone=\"no\"?>\n<!DOCTYPE svg PUBLIC \"-//W3C//DTD SVG 1.1//EN\"\n  \"http://www.w3.org/Graphics/SVG/1.1/DTD/svg11.dtd\">\n<svg xmlns:xlink=\"http://www.w3.org/1999/xlink\" width=\"778.384161pt\" height=\"201.055507pt\" viewBox=\"0 0 778.384161 201.055507\" xmlns=\"http://www.w3.org/2000/svg\" version=\"1.1\">\n <metadata>\n  <rdf:RDF xmlns:dc=\"http://purl.org/dc/elements/1.1/\" xmlns:cc=\"http://creativecommons.org/ns#\" xmlns:rdf=\"http://www.w3.org/1999/02/22-rdf-syntax-ns#\">\n   <cc:Work>\n    <dc:type rdf:resource=\"http://purl.org/dc/dcmitype/StillImage\"/>\n    <dc:date>2023-02-10T10:46:07.157824</dc:date>\n    <dc:format>image/svg+xml</dc:format>\n    <dc:creator>\n     <cc:Agent>\n      <dc:title>Matplotlib v3.6.2, https://matplotlib.org/</dc:title>\n     </cc:Agent>\n    </dc:creator>\n   </cc:Work>\n  </rdf:RDF>\n </metadata>\n <defs>\n  <style type=\"text/css\">*{stroke-linejoin: round; stroke-linecap: butt}</style>\n </defs>\n <g id=\"figure_1\">\n  <g id=\"patch_1\">\n   <path d=\"M 0 201.055507 \nL 778.384161 201.055507 \nL 778.384161 0 \nL 0 0 \nz\n\" style=\"fill: #ffffff\"/>\n  </g>\n  <g id=\"axes_1\">\n   <g id=\"patch_2\">\n    <path d=\"M 16.131387 178.716005 \nL 747.821387 178.716005 \nL 747.821387 10.936005 \nL 16.131387 10.936005 \nz\n\" style=\"fill: #ffffff\"/>\n   </g>\n   <g id=\"matplotlib.axis_1\">\n    <g id=\"xtick_1\">\n     <g id=\"line2d_1\">\n      <path d=\"M 16.131387 178.716005 \nL 16.131387 10.936005 \n\" clip-path=\"url(#pd6b054bb1e)\" style=\"fill: none; stroke-dasharray: 0.4,0.66; stroke-dashoffset: 0; stroke: #0f0f0f; stroke-width: 0.4; stroke-linejoin: miter\"/>\n     </g>\n     <g id=\"line2d_2\">\n      <defs>\n       <path id=\"mbc227cc698\" d=\"M 0 0 \nL 0 2 \n\" style=\"stroke: #0f0f0f; stroke-width: 0.2\"/>\n      </defs>\n      <g>\n       <use xlink:href=\"#mbc227cc698\" x=\"16.131387\" y=\"178.716005\" style=\"fill: #0f0f0f; stroke: #0f0f0f; stroke-width: 0.2\"/>\n      </g>\n     </g>\n     <g id=\"text_1\">\n      <!-- 0.0 -->\n      <g style=\"fill: #0f0f0f\" transform=\"translate(7.2 191.688015) scale(0.10829 -0.10829)\">\n       <defs>\n        <path id=\"Consolas-30\" d=\"M 3244 2041 \nQ 3244 1572 3150 1186 \nQ 3056 800 2865 523 \nQ 2675 247 2392 95 \nQ 2109 -56 1728 -56 \nQ 1400 -56 1131 67 \nQ 863 191 672 447 \nQ 481 703 378 1100 \nQ 275 1497 275 2041 \nQ 275 2509 370 2896 \nQ 466 3284 655 3561 \nQ 844 3838 1128 3989 \nQ 1413 4141 1791 4141 \nQ 2119 4141 2387 4017 \nQ 2656 3894 2847 3636 \nQ 3038 3378 3141 2981 \nQ 3244 2584 3244 2041 \nz\nM 2694 2022 \nQ 2694 2128 2686 2233 \nQ 2678 2338 2669 2438 \nL 941 1153 \nQ 988 991 1059 853 \nQ 1131 716 1232 617 \nQ 1334 519 1464 464 \nQ 1594 409 1759 409 \nQ 1972 409 2145 512 \nQ 2319 616 2441 819 \nQ 2563 1022 2628 1323 \nQ 2694 1625 2694 2022 \nz\nM 825 2059 \nQ 825 1963 826 1866 \nQ 828 1769 838 1678 \nL 2566 2956 \nQ 2519 3116 2447 3247 \nQ 2375 3378 2275 3473 \nQ 2175 3569 2047 3622 \nQ 1919 3675 1759 3675 \nQ 1547 3675 1373 3572 \nQ 1200 3469 1078 3264 \nQ 956 3059 890 2757 \nQ 825 2456 825 2059 \nz\n\" transform=\"scale(0.015625)\"/>\n        <path id=\"Consolas-2e\" d=\"M 1734 984 \nQ 1841 984 1936 943 \nQ 2031 903 2101 831 \nQ 2172 759 2212 664 \nQ 2253 569 2253 459 \nQ 2253 353 2212 259 \nQ 2172 166 2101 95 \nQ 2031 25 1936 -15 \nQ 1841 -56 1734 -56 \nQ 1625 -56 1531 -15 \nQ 1438 25 1367 95 \nQ 1297 166 1256 259 \nQ 1216 353 1216 459 \nQ 1216 569 1256 664 \nQ 1297 759 1367 831 \nQ 1438 903 1531 943 \nQ 1625 984 1734 984 \nz\n\" transform=\"scale(0.015625)\"/>\n       </defs>\n       <use xlink:href=\"#Consolas-30\"/>\n       <use xlink:href=\"#Consolas-2e\" x=\"54.980469\"/>\n       <use xlink:href=\"#Consolas-30\" x=\"109.960938\"/>\n      </g>\n     </g>\n    </g>\n    <g id=\"xtick_2\">\n     <g id=\"line2d_3\">\n      <path d=\"M 162.469387 178.716005 \nL 162.469387 10.936005 \n\" clip-path=\"url(#pd6b054bb1e)\" style=\"fill: none; stroke-dasharray: 0.4,0.66; stroke-dashoffset: 0; stroke: #0f0f0f; stroke-width: 0.4; stroke-linejoin: miter\"/>\n     </g>\n     <g id=\"line2d_4\">\n      <g>\n       <use xlink:href=\"#mbc227cc698\" x=\"162.469387\" y=\"178.716005\" style=\"fill: #0f0f0f; stroke: #0f0f0f; stroke-width: 0.2\"/>\n      </g>\n     </g>\n     <g id=\"text_2\">\n      <!-- 0.2 -->\n      <g style=\"fill: #0f0f0f\" transform=\"translate(153.538 191.688015) scale(0.10829 -0.10829)\">\n       <defs>\n        <path id=\"Consolas-32\" d=\"M 3150 0 \nL 459 0 \nL 459 488 \nL 1516 1538 \nQ 1775 1794 1937 1981 \nQ 2100 2169 2190 2323 \nQ 2281 2478 2312 2615 \nQ 2344 2753 2344 2913 \nQ 2344 3063 2303 3198 \nQ 2263 3334 2178 3437 \nQ 2094 3541 1959 3600 \nQ 1825 3659 1638 3659 \nQ 1378 3659 1165 3543 \nQ 953 3428 775 3244 \nL 475 3603 \nQ 706 3847 1007 3994 \nQ 1309 4141 1709 4141 \nQ 1981 4141 2204 4059 \nQ 2428 3978 2590 3825 \nQ 2753 3672 2842 3450 \nQ 2931 3228 2931 2950 \nQ 2931 2716 2868 2516 \nQ 2806 2316 2679 2117 \nQ 2553 1919 2361 1706 \nQ 2169 1494 1906 1241 \nL 1166 519 \nL 3150 519 \nL 3150 0 \nz\n\" transform=\"scale(0.015625)\"/>\n       </defs>\n       <use xlink:href=\"#Consolas-30\"/>\n       <use xlink:href=\"#Consolas-2e\" x=\"54.980469\"/>\n       <use xlink:href=\"#Consolas-32\" x=\"109.960938\"/>\n      </g>\n     </g>\n    </g>\n    <g id=\"xtick_3\">\n     <g id=\"line2d_5\">\n      <path d=\"M 308.807387 178.716005 \nL 308.807387 10.936005 \n\" clip-path=\"url(#pd6b054bb1e)\" style=\"fill: none; stroke-dasharray: 0.4,0.66; stroke-dashoffset: 0; stroke: #0f0f0f; stroke-width: 0.4; stroke-linejoin: miter\"/>\n     </g>\n     <g id=\"line2d_6\">\n      <g>\n       <use xlink:href=\"#mbc227cc698\" x=\"308.807387\" y=\"178.716005\" style=\"fill: #0f0f0f; stroke: #0f0f0f; stroke-width: 0.2\"/>\n      </g>\n     </g>\n     <g id=\"text_3\">\n      <!-- 0.4 -->\n      <g style=\"fill: #0f0f0f\" transform=\"translate(299.876 191.688015) scale(0.10829 -0.10829)\">\n       <defs>\n        <path id=\"Consolas-34\" d=\"M 3353 903 \nL 2656 903 \nL 2656 0 \nL 2100 0 \nL 2100 903 \nL 134 903 \nL 134 1381 \nL 1875 4084 \nL 2656 4084 \nL 2656 1381 \nL 3353 1381 \nL 3353 903 \nz\nM 2100 3559 \nL 678 1381 \nL 2100 1381 \nL 2100 3559 \nz\n\" transform=\"scale(0.015625)\"/>\n       </defs>\n       <use xlink:href=\"#Consolas-30\"/>\n       <use xlink:href=\"#Consolas-2e\" x=\"54.980469\"/>\n       <use xlink:href=\"#Consolas-34\" x=\"109.960938\"/>\n      </g>\n     </g>\n    </g>\n    <g id=\"xtick_4\">\n     <g id=\"line2d_7\">\n      <path d=\"M 455.145387 178.716005 \nL 455.145387 10.936005 \n\" clip-path=\"url(#pd6b054bb1e)\" style=\"fill: none; stroke-dasharray: 0.4,0.66; stroke-dashoffset: 0; stroke: #0f0f0f; stroke-width: 0.4; stroke-linejoin: miter\"/>\n     </g>\n     <g id=\"line2d_8\">\n      <g>\n       <use xlink:href=\"#mbc227cc698\" x=\"455.145387\" y=\"178.716005\" style=\"fill: #0f0f0f; stroke: #0f0f0f; stroke-width: 0.2\"/>\n      </g>\n     </g>\n     <g id=\"text_4\">\n      <!-- 0.6 -->\n      <g style=\"fill: #0f0f0f\" transform=\"translate(446.214 191.688015) scale(0.10829 -0.10829)\">\n       <defs>\n        <path id=\"Consolas-36\" d=\"M 3200 1294 \nQ 3200 1013 3098 766 \nQ 2997 519 2809 336 \nQ 2622 153 2358 48 \nQ 2094 -56 1772 -56 \nQ 1434 -56 1175 51 \nQ 916 159 741 382 \nQ 566 606 475 947 \nQ 384 1288 384 1753 \nQ 384 2066 425 2359 \nQ 466 2653 559 2912 \nQ 653 3172 809 3387 \nQ 966 3603 1198 3758 \nQ 1431 3913 1747 3998 \nQ 2063 4084 2478 4084 \nL 2881 4084 \nL 2881 3609 \nL 2444 3609 \nQ 2078 3609 1809 3521 \nQ 1541 3434 1359 3275 \nQ 1178 3116 1081 2891 \nQ 984 2666 959 2388 \nL 947 2259 \nQ 1144 2375 1401 2445 \nQ 1659 2516 1959 2516 \nQ 2269 2516 2501 2425 \nQ 2734 2334 2889 2173 \nQ 3044 2013 3122 1788 \nQ 3200 1563 3200 1294 \nz\nM 2631 1259 \nQ 2631 1447 2586 1598 \nQ 2541 1750 2444 1854 \nQ 2347 1959 2198 2017 \nQ 2050 2075 1844 2075 \nQ 1725 2075 1603 2053 \nQ 1481 2031 1364 1992 \nQ 1247 1953 1140 1903 \nQ 1034 1853 947 1797 \nQ 947 1394 1003 1123 \nQ 1059 853 1170 690 \nQ 1281 528 1443 459 \nQ 1606 391 1819 391 \nQ 1997 391 2145 448 \nQ 2294 506 2401 618 \nQ 2509 731 2570 892 \nQ 2631 1053 2631 1259 \nz\n\" transform=\"scale(0.015625)\"/>\n       </defs>\n       <use xlink:href=\"#Consolas-30\"/>\n       <use xlink:href=\"#Consolas-2e\" x=\"54.980469\"/>\n       <use xlink:href=\"#Consolas-36\" x=\"109.960938\"/>\n      </g>\n     </g>\n    </g>\n    <g id=\"xtick_5\">\n     <g id=\"line2d_9\">\n      <path d=\"M 601.483387 178.716005 \nL 601.483387 10.936005 \n\" clip-path=\"url(#pd6b054bb1e)\" style=\"fill: none; stroke-dasharray: 0.4,0.66; stroke-dashoffset: 0; stroke: #0f0f0f; stroke-width: 0.4; stroke-linejoin: miter\"/>\n     </g>\n     <g id=\"line2d_10\">\n      <g>\n       <use xlink:href=\"#mbc227cc698\" x=\"601.483387\" y=\"178.716005\" style=\"fill: #0f0f0f; stroke: #0f0f0f; stroke-width: 0.2\"/>\n      </g>\n     </g>\n     <g id=\"text_5\">\n      <!-- 0.8 -->\n      <g style=\"fill: #0f0f0f\" transform=\"translate(592.552 191.688015) scale(0.10829 -0.10829)\">\n       <defs>\n        <path id=\"Consolas-38\" d=\"M 3150 1025 \nQ 3150 766 3044 564 \nQ 2938 363 2747 225 \nQ 2556 88 2297 16 \nQ 2038 -56 1734 -56 \nQ 1400 -56 1145 19 \nQ 891 94 719 228 \nQ 547 363 459 547 \nQ 372 731 372 953 \nQ 372 1328 581 1600 \nQ 791 1872 1228 2094 \nQ 828 2297 643 2545 \nQ 459 2794 459 3116 \nQ 459 3313 540 3497 \nQ 622 3681 786 3825 \nQ 950 3969 1197 4055 \nQ 1444 4141 1778 4141 \nQ 2094 4141 2333 4073 \nQ 2572 4006 2734 3881 \nQ 2897 3756 2978 3578 \nQ 3059 3400 3059 3181 \nQ 3059 2825 2861 2575 \nQ 2663 2325 2297 2138 \nQ 2478 2047 2634 1937 \nQ 2791 1828 2906 1693 \nQ 3022 1559 3086 1393 \nQ 3150 1228 3150 1025 \nz\nM 2503 3138 \nQ 2503 3416 2308 3552 \nQ 2113 3688 1759 3688 \nQ 1409 3688 1214 3553 \nQ 1019 3419 1019 3150 \nQ 1019 3028 1066 2925 \nQ 1113 2822 1211 2731 \nQ 1309 2641 1456 2553 \nQ 1603 2466 1806 2375 \nQ 2159 2541 2331 2720 \nQ 2503 2900 2503 3138 \nz\nM 2559 984 \nQ 2559 1100 2521 1209 \nQ 2484 1319 2387 1425 \nQ 2291 1531 2128 1637 \nQ 1966 1744 1716 1856 \nQ 1503 1753 1358 1651 \nQ 1213 1550 1123 1445 \nQ 1034 1341 996 1228 \nQ 959 1116 959 991 \nQ 959 850 1020 742 \nQ 1081 634 1187 559 \nQ 1294 484 1441 446 \nQ 1588 409 1759 409 \nQ 1925 409 2072 443 \nQ 2219 478 2326 548 \nQ 2434 619 2496 726 \nQ 2559 834 2559 984 \nz\n\" transform=\"scale(0.015625)\"/>\n       </defs>\n       <use xlink:href=\"#Consolas-30\"/>\n       <use xlink:href=\"#Consolas-2e\" x=\"54.980469\"/>\n       <use xlink:href=\"#Consolas-38\" x=\"109.960938\"/>\n      </g>\n     </g>\n    </g>\n    <g id=\"xtick_6\">\n     <g id=\"line2d_11\">\n      <path d=\"M 747.821387 178.716005 \nL 747.821387 10.936005 \n\" clip-path=\"url(#pd6b054bb1e)\" style=\"fill: none; stroke-dasharray: 0.4,0.66; stroke-dashoffset: 0; stroke: #0f0f0f; stroke-width: 0.4; stroke-linejoin: miter\"/>\n     </g>\n     <g id=\"line2d_12\">\n      <g>\n       <use xlink:href=\"#mbc227cc698\" x=\"747.821387\" y=\"178.716005\" style=\"fill: #0f0f0f; stroke: #0f0f0f; stroke-width: 0.2\"/>\n      </g>\n     </g>\n     <g id=\"text_6\">\n      <!-- 1.0 -->\n      <g style=\"fill: #0f0f0f\" transform=\"translate(738.89 191.688015) scale(0.10829 -0.10829)\">\n       <defs>\n        <path id=\"Consolas-31\" d=\"M 3116 0 \nL 550 0 \nL 550 506 \nL 1600 506 \nL 1600 3488 \nL 622 2956 \nL 422 3419 \nL 1722 4103 \nL 2203 4103 \nL 2203 506 \nL 3116 506 \nL 3116 0 \nz\n\" transform=\"scale(0.015625)\"/>\n       </defs>\n       <use xlink:href=\"#Consolas-31\"/>\n       <use xlink:href=\"#Consolas-2e\" x=\"54.980469\"/>\n       <use xlink:href=\"#Consolas-30\" x=\"109.960938\"/>\n      </g>\n     </g>\n    </g>\n   </g>\n   <g id=\"matplotlib.axis_2\">\n    <g id=\"ytick_1\">\n     <g id=\"line2d_13\">\n      <path d=\"M 16.131387 178.716005 \nL 747.821387 178.716005 \n\" clip-path=\"url(#pd6b054bb1e)\" style=\"fill: none; stroke-dasharray: 0.4,0.66; stroke-dashoffset: 0; stroke: #0f0f0f; stroke-width: 0.4; stroke-linejoin: miter\"/>\n     </g>\n     <g id=\"line2d_14\">\n      <defs>\n       <path id=\"m2476441091\" d=\"M 0 0 \nL 2 0 \n\" style=\"stroke: #0f0f0f; stroke-width: 0.2\"/>\n      </defs>\n      <g>\n       <use xlink:href=\"#m2476441091\" x=\"747.821387\" y=\"178.716005\" style=\"fill: #0f0f0f; stroke: #0f0f0f; stroke-width: 0.2\"/>\n      </g>\n     </g>\n     <g id=\"text_7\">\n      <!-- 0.0 -->\n      <g style=\"fill: #0f0f0f\" transform=\"translate(753.321387 182.45201) scale(0.10829 -0.10829)\">\n       <use xlink:href=\"#Consolas-30\"/>\n       <use xlink:href=\"#Consolas-2e\" x=\"54.980469\"/>\n       <use xlink:href=\"#Consolas-30\" x=\"109.960938\"/>\n      </g>\n     </g>\n    </g>\n    <g id=\"ytick_2\">\n     <g id=\"line2d_15\">\n      <path d=\"M 16.131387 145.160005 \nL 747.821387 145.160005 \n\" clip-path=\"url(#pd6b054bb1e)\" style=\"fill: none; stroke-dasharray: 0.4,0.66; stroke-dashoffset: 0; stroke: #0f0f0f; stroke-width: 0.4; stroke-linejoin: miter\"/>\n     </g>\n     <g id=\"line2d_16\">\n      <g>\n       <use xlink:href=\"#m2476441091\" x=\"747.821387\" y=\"145.160005\" style=\"fill: #0f0f0f; stroke: #0f0f0f; stroke-width: 0.2\"/>\n      </g>\n     </g>\n     <g id=\"text_8\">\n      <!-- 0.2 -->\n      <g style=\"fill: #0f0f0f\" transform=\"translate(753.321387 148.89601) scale(0.10829 -0.10829)\">\n       <use xlink:href=\"#Consolas-30\"/>\n       <use xlink:href=\"#Consolas-2e\" x=\"54.980469\"/>\n       <use xlink:href=\"#Consolas-32\" x=\"109.960938\"/>\n      </g>\n     </g>\n    </g>\n    <g id=\"ytick_3\">\n     <g id=\"line2d_17\">\n      <path d=\"M 16.131387 111.604005 \nL 747.821387 111.604005 \n\" clip-path=\"url(#pd6b054bb1e)\" style=\"fill: none; stroke-dasharray: 0.4,0.66; stroke-dashoffset: 0; stroke: #0f0f0f; stroke-width: 0.4; stroke-linejoin: miter\"/>\n     </g>\n     <g id=\"line2d_18\">\n      <g>\n       <use xlink:href=\"#m2476441091\" x=\"747.821387\" y=\"111.604005\" style=\"fill: #0f0f0f; stroke: #0f0f0f; stroke-width: 0.2\"/>\n      </g>\n     </g>\n     <g id=\"text_9\">\n      <!-- 0.4 -->\n      <g style=\"fill: #0f0f0f\" transform=\"translate(753.321387 115.34001) scale(0.10829 -0.10829)\">\n       <use xlink:href=\"#Consolas-30\"/>\n       <use xlink:href=\"#Consolas-2e\" x=\"54.980469\"/>\n       <use xlink:href=\"#Consolas-34\" x=\"109.960938\"/>\n      </g>\n     </g>\n    </g>\n    <g id=\"ytick_4\">\n     <g id=\"line2d_19\">\n      <path d=\"M 16.131387 78.048005 \nL 747.821387 78.048005 \n\" clip-path=\"url(#pd6b054bb1e)\" style=\"fill: none; stroke-dasharray: 0.4,0.66; stroke-dashoffset: 0; stroke: #0f0f0f; stroke-width: 0.4; stroke-linejoin: miter\"/>\n     </g>\n     <g id=\"line2d_20\">\n      <g>\n       <use xlink:href=\"#m2476441091\" x=\"747.821387\" y=\"78.048005\" style=\"fill: #0f0f0f; stroke: #0f0f0f; stroke-width: 0.2\"/>\n      </g>\n     </g>\n     <g id=\"text_10\">\n      <!-- 0.6 -->\n      <g style=\"fill: #0f0f0f\" transform=\"translate(753.321387 81.78401) scale(0.10829 -0.10829)\">\n       <use xlink:href=\"#Consolas-30\"/>\n       <use xlink:href=\"#Consolas-2e\" x=\"54.980469\"/>\n       <use xlink:href=\"#Consolas-36\" x=\"109.960938\"/>\n      </g>\n     </g>\n    </g>\n    <g id=\"ytick_5\">\n     <g id=\"line2d_21\">\n      <path d=\"M 16.131387 44.492005 \nL 747.821387 44.492005 \n\" clip-path=\"url(#pd6b054bb1e)\" style=\"fill: none; stroke-dasharray: 0.4,0.66; stroke-dashoffset: 0; stroke: #0f0f0f; stroke-width: 0.4; stroke-linejoin: miter\"/>\n     </g>\n     <g id=\"line2d_22\">\n      <g>\n       <use xlink:href=\"#m2476441091\" x=\"747.821387\" y=\"44.492005\" style=\"fill: #0f0f0f; stroke: #0f0f0f; stroke-width: 0.2\"/>\n      </g>\n     </g>\n     <g id=\"text_11\">\n      <!-- 0.8 -->\n      <g style=\"fill: #0f0f0f\" transform=\"translate(753.321387 48.22801) scale(0.10829 -0.10829)\">\n       <use xlink:href=\"#Consolas-30\"/>\n       <use xlink:href=\"#Consolas-2e\" x=\"54.980469\"/>\n       <use xlink:href=\"#Consolas-38\" x=\"109.960938\"/>\n      </g>\n     </g>\n    </g>\n    <g id=\"ytick_6\">\n     <g id=\"line2d_23\">\n      <path d=\"M 16.131387 10.936005 \nL 747.821387 10.936005 \n\" clip-path=\"url(#pd6b054bb1e)\" style=\"fill: none; stroke-dasharray: 0.4,0.66; stroke-dashoffset: 0; stroke: #0f0f0f; stroke-width: 0.4; stroke-linejoin: miter\"/>\n     </g>\n     <g id=\"line2d_24\">\n      <g>\n       <use xlink:href=\"#m2476441091\" x=\"747.821387\" y=\"10.936005\" style=\"fill: #0f0f0f; stroke: #0f0f0f; stroke-width: 0.2\"/>\n      </g>\n     </g>\n     <g id=\"text_12\">\n      <!-- 1.0 -->\n      <g style=\"fill: #0f0f0f\" transform=\"translate(753.321387 14.67201) scale(0.10829 -0.10829)\">\n       <use xlink:href=\"#Consolas-31\"/>\n       <use xlink:href=\"#Consolas-2e\" x=\"54.980469\"/>\n       <use xlink:href=\"#Consolas-30\" x=\"109.960938\"/>\n      </g>\n     </g>\n    </g>\n   </g>\n   <g id=\"patch_3\">\n    <path d=\"M 16.131387 178.716005 \nL 16.131387 10.936005 \n\" style=\"fill: none; stroke: #0f0f0f; stroke-width: 0.2; stroke-linejoin: miter; stroke-linecap: square\"/>\n   </g>\n   <g id=\"patch_4\">\n    <path d=\"M 747.821387 178.716005 \nL 747.821387 10.936005 \n\" style=\"fill: none; stroke: #0f0f0f; stroke-width: 0.2; stroke-linejoin: miter; stroke-linecap: square\"/>\n   </g>\n   <g id=\"patch_5\">\n    <path d=\"M 16.131387 178.716005 \nL 747.821387 178.716005 \n\" style=\"fill: none; stroke: #0f0f0f; stroke-width: 0.2; stroke-linejoin: miter; stroke-linecap: square\"/>\n   </g>\n   <g id=\"patch_6\">\n    <path d=\"M 16.131387 10.936005 \nL 747.821387 10.936005 \n\" style=\"fill: none; stroke: #0f0f0f; stroke-width: 0.2; stroke-linejoin: miter; stroke-linecap: square\"/>\n   </g>\n  </g>\n </g>\n <defs>\n  <clipPath id=\"pd6b054bb1e\">\n   <rect x=\"16.131387\" y=\"10.936005\" width=\"731.69\" height=\"167.78\"/>\n  </clipPath>\n </defs>\n</svg>\n",
      "text/plain": [
       "<Figure size 1650x450 with 1 Axes>"
      ]
     },
     "metadata": {},
     "output_type": "display_data"
    }
   ],
   "source": [
    "fig, ax = plt.subplots(figsize=(11, 3), dpi=150)\n",
    "openbb.stocks.gov.contracts_chart(\n",
    "    symbol,\n",
    "    past_transaction_days=365,\n",
    "    external_axes=[\n",
    "        ax,\n",
    "    ],\n",
    ")\n",
    "fig.tight_layout()\n",
    "f = io.BytesIO()\n",
    "fig.savefig(f, format=\"svg\")\n",
    "gov_contracts_chart = f.getvalue().decode(\"utf-8\")"
   ]
  },
  {
   "cell_type": "code",
   "execution_count": 23,
   "id": "caa3dae2",
   "metadata": {
    "papermill": {
     "duration": null,
     "end_time": null,
     "exception": null,
     "start_time": null,
     "status": "pending"
    },
    "tags": []
   },
   "outputs": [
    {
     "data": {
      "image/svg+xml": "<?xml version=\"1.0\" encoding=\"utf-8\" standalone=\"no\"?>\n<!DOCTYPE svg PUBLIC \"-//W3C//DTD SVG 1.1//EN\"\n  \"http://www.w3.org/Graphics/SVG/1.1/DTD/svg11.dtd\">\n<svg xmlns:xlink=\"http://www.w3.org/1999/xlink\" width=\"777.626707pt\" height=\"201.634818pt\" viewBox=\"0 0 777.626707 201.634818\" xmlns=\"http://www.w3.org/2000/svg\" version=\"1.1\">\n <metadata>\n  <rdf:RDF xmlns:dc=\"http://purl.org/dc/elements/1.1/\" xmlns:cc=\"http://creativecommons.org/ns#\" xmlns:rdf=\"http://www.w3.org/1999/02/22-rdf-syntax-ns#\">\n   <cc:Work>\n    <dc:type rdf:resource=\"http://purl.org/dc/dcmitype/StillImage\"/>\n    <dc:date>2023-02-10T10:46:09.457677</dc:date>\n    <dc:format>image/svg+xml</dc:format>\n    <dc:creator>\n     <cc:Agent>\n      <dc:title>Matplotlib v3.6.2, https://matplotlib.org/</dc:title>\n     </cc:Agent>\n    </dc:creator>\n   </cc:Work>\n  </rdf:RDF>\n </metadata>\n <defs>\n  <style type=\"text/css\">*{stroke-linejoin: round; stroke-linecap: butt}</style>\n </defs>\n <g id=\"figure_1\">\n  <g id=\"patch_1\">\n   <path d=\"M 0 201.634818 \nL 777.626707 201.634818 \nL 777.626707 0 \nL 0 0 \nz\n\" style=\"fill: #ffffff\"/>\n  </g>\n  <g id=\"axes_1\">\n   <g id=\"patch_2\">\n    <path d=\"M 7.2 172.204139 \nL 733.24 172.204139 \nL 733.24 23.964 \nL 7.2 23.964 \nz\n\" style=\"fill: #ffffff\"/>\n   </g>\n   <g id=\"patch_3\">\n    <path d=\"M 7.000538 172.204139 \nL 7.399462 172.204139 \nL 7.399462 112.908083 \nL 7.000538 112.908083 \nz\n\" clip-path=\"url(#pd8c2d75469)\" style=\"fill: #254495\"/>\n   </g>\n   <g id=\"patch_4\">\n    <path d=\"M 9.793 172.204139 \nL 10.191923 172.204139 \nL 10.191923 108.672651 \nL 9.793 108.672651 \nz\n\" clip-path=\"url(#pd8c2d75469)\" style=\"fill: #254495\"/>\n   </g>\n   <g id=\"patch_5\">\n    <path d=\"M 12.585462 172.204139 \nL 12.984385 172.204139 \nL 12.984385 104.437218 \nL 12.585462 104.437218 \nz\n\" clip-path=\"url(#pd8c2d75469)\" style=\"fill: #254495\"/>\n   </g>\n   <g id=\"patch_6\">\n    <path d=\"M 15.377923 172.204139 \nL 15.776846 172.204139 \nL 15.776846 108.672651 \nL 15.377923 108.672651 \nz\n\" clip-path=\"url(#pd8c2d75469)\" style=\"fill: #254495\"/>\n   </g>\n   <g id=\"patch_7\">\n    <path d=\"M 18.170385 172.204139 \nL 18.569308 172.204139 \nL 18.569308 105.849029 \nL 18.170385 105.849029 \nz\n\" clip-path=\"url(#pd8c2d75469)\" style=\"fill: #254495\"/>\n   </g>\n   <g id=\"patch_8\">\n    <path d=\"M 20.962846 172.204139 \nL 21.361769 172.204139 \nL 21.361769 110.084462 \nL 20.962846 110.084462 \nz\n\" clip-path=\"url(#pd8c2d75469)\" style=\"fill: #254495\"/>\n   </g>\n   <g id=\"patch_9\">\n    <path d=\"M 23.755308 172.204139 \nL 24.154231 172.204139 \nL 24.154231 105.849029 \nL 23.755308 105.849029 \nz\n\" clip-path=\"url(#pd8c2d75469)\" style=\"fill: #254495\"/>\n   </g>\n   <g id=\"patch_10\">\n    <path d=\"M 26.547769 172.204139 \nL 26.946692 172.204139 \nL 26.946692 110.084462 \nL 26.547769 110.084462 \nz\n\" clip-path=\"url(#pd8c2d75469)\" style=\"fill: #254495\"/>\n   </g>\n   <g id=\"patch_11\">\n    <path d=\"M 29.340231 172.204139 \nL 29.739154 172.204139 \nL 29.739154 112.908083 \nL 29.340231 112.908083 \nz\n\" clip-path=\"url(#pd8c2d75469)\" style=\"fill: #254495\"/>\n   </g>\n   <g id=\"patch_12\">\n    <path d=\"M 32.132692 172.204139 \nL 32.531615 172.204139 \nL 32.531615 115.731705 \nL 32.132692 115.731705 \nz\n\" clip-path=\"url(#pd8c2d75469)\" style=\"fill: #254495\"/>\n   </g>\n   <g id=\"patch_13\">\n    <path d=\"M 34.925154 172.204139 \nL 35.324077 172.204139 \nL 35.324077 112.908083 \nL 34.925154 112.908083 \nz\n\" clip-path=\"url(#pd8c2d75469)\" style=\"fill: #254495\"/>\n   </g>\n   <g id=\"patch_14\">\n    <path d=\"M 37.717615 172.204139 \nL 38.116538 172.204139 \nL 38.116538 110.084462 \nL 37.717615 110.084462 \nz\n\" clip-path=\"url(#pd8c2d75469)\" style=\"fill: #254495\"/>\n   </g>\n   <g id=\"patch_15\">\n    <path d=\"M 40.510077 172.204139 \nL 40.909 172.204139 \nL 40.909 105.849029 \nL 40.510077 105.849029 \nz\n\" clip-path=\"url(#pd8c2d75469)\" style=\"fill: #254495\"/>\n   </g>\n   <g id=\"patch_16\">\n    <path d=\"M 43.302538 172.204139 \nL 43.701462 172.204139 \nL 43.701462 52.200217 \nL 43.302538 52.200217 \nz\n\" clip-path=\"url(#pd8c2d75469)\" style=\"fill: #254495\"/>\n   </g>\n   <g id=\"patch_17\">\n    <path d=\"M 46.095 172.204139 \nL 46.493923 172.204139 \nL 46.493923 108.672651 \nL 46.095 108.672651 \nz\n\" clip-path=\"url(#pd8c2d75469)\" style=\"fill: #254495\"/>\n   </g>\n   <g id=\"patch_18\">\n    <path d=\"M 48.887462 172.204139 \nL 49.286385 172.204139 \nL 49.286385 104.437218 \nL 48.887462 104.437218 \nz\n\" clip-path=\"url(#pd8c2d75469)\" style=\"fill: #254495\"/>\n   </g>\n   <g id=\"patch_19\">\n    <path d=\"M 51.679923 172.204139 \nL 52.078846 172.204139 \nL 52.078846 107.26084 \nL 51.679923 107.26084 \nz\n\" clip-path=\"url(#pd8c2d75469)\" style=\"fill: #254495\"/>\n   </g>\n   <g id=\"patch_20\">\n    <path d=\"M 54.472385 172.204139 \nL 54.871308 172.204139 \nL 54.871308 105.849029 \nL 54.472385 105.849029 \nz\n\" clip-path=\"url(#pd8c2d75469)\" style=\"fill: #254495\"/>\n   </g>\n   <g id=\"patch_21\">\n    <path d=\"M 57.264846 172.204139 \nL 57.663769 172.204139 \nL 57.663769 107.26084 \nL 57.264846 107.26084 \nz\n\" clip-path=\"url(#pd8c2d75469)\" style=\"fill: #254495\"/>\n   </g>\n   <g id=\"patch_22\">\n    <path d=\"M 60.057308 172.204139 \nL 60.456231 172.204139 \nL 60.456231 107.26084 \nL 60.057308 107.26084 \nz\n\" clip-path=\"url(#pd8c2d75469)\" style=\"fill: #254495\"/>\n   </g>\n   <g id=\"patch_23\">\n    <path d=\"M 62.849769 172.204139 \nL 63.248692 172.204139 \nL 63.248692 107.26084 \nL 62.849769 107.26084 \nz\n\" clip-path=\"url(#pd8c2d75469)\" style=\"fill: #254495\"/>\n   </g>\n   <g id=\"patch_24\">\n    <path d=\"M 65.642231 172.204139 \nL 66.041154 172.204139 \nL 66.041154 105.849029 \nL 65.642231 105.849029 \nz\n\" clip-path=\"url(#pd8c2d75469)\" style=\"fill: #254495\"/>\n   </g>\n   <g id=\"patch_25\">\n    <path d=\"M 68.434692 172.204139 \nL 68.833615 172.204139 \nL 68.833615 100.201786 \nL 68.434692 100.201786 \nz\n\" clip-path=\"url(#pd8c2d75469)\" style=\"fill: #254495\"/>\n   </g>\n   <g id=\"patch_26\">\n    <path d=\"M 71.227154 172.204139 \nL 71.626077 172.204139 \nL 71.626077 100.201786 \nL 71.227154 100.201786 \nz\n\" clip-path=\"url(#pd8c2d75469)\" style=\"fill: #254495\"/>\n   </g>\n   <g id=\"patch_27\">\n    <path d=\"M 74.019615 172.204139 \nL 74.418538 172.204139 \nL 74.418538 98.789975 \nL 74.019615 98.789975 \nz\n\" clip-path=\"url(#pd8c2d75469)\" style=\"fill: #254495\"/>\n   </g>\n   <g id=\"patch_28\">\n    <path d=\"M 76.812077 172.204139 \nL 77.211 172.204139 \nL 77.211 101.613597 \nL 76.812077 101.613597 \nz\n\" clip-path=\"url(#pd8c2d75469)\" style=\"fill: #254495\"/>\n   </g>\n   <g id=\"patch_29\">\n    <path d=\"M 79.604538 172.204139 \nL 80.003462 172.204139 \nL 80.003462 104.437218 \nL 79.604538 104.437218 \nz\n\" clip-path=\"url(#pd8c2d75469)\" style=\"fill: #254495\"/>\n   </g>\n   <g id=\"patch_30\">\n    <path d=\"M 82.397 172.204139 \nL 82.795923 172.204139 \nL 82.795923 107.26084 \nL 82.397 107.26084 \nz\n\" clip-path=\"url(#pd8c2d75469)\" style=\"fill: #254495\"/>\n   </g>\n   <g id=\"patch_31\">\n    <path d=\"M 85.189462 172.204139 \nL 85.588385 172.204139 \nL 85.588385 104.437218 \nL 85.189462 104.437218 \nz\n\" clip-path=\"url(#pd8c2d75469)\" style=\"fill: #254495\"/>\n   </g>\n   <g id=\"patch_32\">\n    <path d=\"M 87.981923 172.204139 \nL 88.380846 172.204139 \nL 88.380846 105.849029 \nL 87.981923 105.849029 \nz\n\" clip-path=\"url(#pd8c2d75469)\" style=\"fill: #254495\"/>\n   </g>\n   <g id=\"patch_33\">\n    <path d=\"M 90.774385 172.204139 \nL 91.173308 172.204139 \nL 91.173308 104.437218 \nL 90.774385 104.437218 \nz\n\" clip-path=\"url(#pd8c2d75469)\" style=\"fill: #254495\"/>\n   </g>\n   <g id=\"patch_34\">\n    <path d=\"M 93.566846 172.204139 \nL 93.965769 172.204139 \nL 93.965769 107.26084 \nL 93.566846 107.26084 \nz\n\" clip-path=\"url(#pd8c2d75469)\" style=\"fill: #254495\"/>\n   </g>\n   <g id=\"patch_35\">\n    <path d=\"M 96.359308 172.204139 \nL 96.758231 172.204139 \nL 96.758231 110.084462 \nL 96.359308 110.084462 \nz\n\" clip-path=\"url(#pd8c2d75469)\" style=\"fill: #254495\"/>\n   </g>\n   <g id=\"patch_36\">\n    <path d=\"M 99.151769 172.204139 \nL 99.550692 172.204139 \nL 99.550692 110.084462 \nL 99.151769 110.084462 \nz\n\" clip-path=\"url(#pd8c2d75469)\" style=\"fill: #254495\"/>\n   </g>\n   <g id=\"patch_37\">\n    <path d=\"M 101.944231 172.204139 \nL 102.343154 172.204139 \nL 102.343154 110.084462 \nL 101.944231 110.084462 \nz\n\" clip-path=\"url(#pd8c2d75469)\" style=\"fill: #254495\"/>\n   </g>\n   <g id=\"patch_38\">\n    <path d=\"M 104.736692 172.204139 \nL 105.135615 172.204139 \nL 105.135615 114.319894 \nL 104.736692 114.319894 \nz\n\" clip-path=\"url(#pd8c2d75469)\" style=\"fill: #254495\"/>\n   </g>\n   <g id=\"patch_39\">\n    <path d=\"M 107.529154 172.204139 \nL 107.928077 172.204139 \nL 107.928077 112.908083 \nL 107.529154 112.908083 \nz\n\" clip-path=\"url(#pd8c2d75469)\" style=\"fill: #254495\"/>\n   </g>\n   <g id=\"patch_40\">\n    <path d=\"M 110.321615 172.204139 \nL 110.720538 172.204139 \nL 110.720538 108.672651 \nL 110.321615 108.672651 \nz\n\" clip-path=\"url(#pd8c2d75469)\" style=\"fill: #254495\"/>\n   </g>\n   <g id=\"patch_41\">\n    <path d=\"M 113.114077 172.204139 \nL 113.513 172.204139 \nL 113.513 118.555327 \nL 113.114077 118.555327 \nz\n\" clip-path=\"url(#pd8c2d75469)\" style=\"fill: #254495\"/>\n   </g>\n   <g id=\"patch_42\">\n    <path d=\"M 115.906538 172.204139 \nL 116.305462 172.204139 \nL 116.305462 112.908083 \nL 115.906538 112.908083 \nz\n\" clip-path=\"url(#pd8c2d75469)\" style=\"fill: #254495\"/>\n   </g>\n   <g id=\"patch_43\">\n    <path d=\"M 118.699 172.204139 \nL 119.097923 172.204139 \nL 119.097923 112.908083 \nL 118.699 112.908083 \nz\n\" clip-path=\"url(#pd8c2d75469)\" style=\"fill: #254495\"/>\n   </g>\n   <g id=\"patch_44\">\n    <path d=\"M 121.491462 172.204139 \nL 121.890385 172.204139 \nL 121.890385 105.849029 \nL 121.491462 105.849029 \nz\n\" clip-path=\"url(#pd8c2d75469)\" style=\"fill: #254495\"/>\n   </g>\n   <g id=\"patch_45\">\n    <path d=\"M 124.283923 172.204139 \nL 124.682846 172.204139 \nL 124.682846 110.084462 \nL 124.283923 110.084462 \nz\n\" clip-path=\"url(#pd8c2d75469)\" style=\"fill: #254495\"/>\n   </g>\n   <g id=\"patch_46\">\n    <path d=\"M 127.076385 172.204139 \nL 127.475308 172.204139 \nL 127.475308 31.023054 \nL 127.076385 31.023054 \nz\n\" clip-path=\"url(#pd8c2d75469)\" style=\"fill: #254495\"/>\n   </g>\n   <g id=\"patch_47\">\n    <path d=\"M 129.868846 172.204139 \nL 130.267769 172.204139 \nL 130.267769 108.672651 \nL 129.868846 108.672651 \nz\n\" clip-path=\"url(#pd8c2d75469)\" style=\"fill: #254495\"/>\n   </g>\n   <g id=\"patch_48\">\n    <path d=\"M 132.661308 172.204139 \nL 133.060231 172.204139 \nL 133.060231 110.084462 \nL 132.661308 110.084462 \nz\n\" clip-path=\"url(#pd8c2d75469)\" style=\"fill: #254495\"/>\n   </g>\n   <g id=\"patch_49\">\n    <path d=\"M 135.453769 172.204139 \nL 135.852692 172.204139 \nL 135.852692 115.731705 \nL 135.453769 115.731705 \nz\n\" clip-path=\"url(#pd8c2d75469)\" style=\"fill: #254495\"/>\n   </g>\n   <g id=\"patch_50\">\n    <path d=\"M 138.246231 172.204139 \nL 138.645154 172.204139 \nL 138.645154 110.084462 \nL 138.246231 110.084462 \nz\n\" clip-path=\"url(#pd8c2d75469)\" style=\"fill: #254495\"/>\n   </g>\n   <g id=\"patch_51\">\n    <path d=\"M 141.038692 172.204139 \nL 141.437615 172.204139 \nL 141.437615 107.26084 \nL 141.038692 107.26084 \nz\n\" clip-path=\"url(#pd8c2d75469)\" style=\"fill: #254495\"/>\n   </g>\n   <g id=\"patch_52\">\n    <path d=\"M 143.831154 172.204139 \nL 144.230077 172.204139 \nL 144.230077 112.908083 \nL 143.831154 112.908083 \nz\n\" clip-path=\"url(#pd8c2d75469)\" style=\"fill: #254495\"/>\n   </g>\n   <g id=\"patch_53\">\n    <path d=\"M 146.623615 172.204139 \nL 147.022538 172.204139 \nL 147.022538 110.084462 \nL 146.623615 110.084462 \nz\n\" clip-path=\"url(#pd8c2d75469)\" style=\"fill: #254495\"/>\n   </g>\n   <g id=\"patch_54\">\n    <path d=\"M 149.416077 172.204139 \nL 149.815 172.204139 \nL 149.815 111.496272 \nL 149.416077 111.496272 \nz\n\" clip-path=\"url(#pd8c2d75469)\" style=\"fill: #254495\"/>\n   </g>\n   <g id=\"patch_55\">\n    <path d=\"M 152.208538 172.204139 \nL 152.607462 172.204139 \nL 152.607462 112.908083 \nL 152.208538 112.908083 \nz\n\" clip-path=\"url(#pd8c2d75469)\" style=\"fill: #254495\"/>\n   </g>\n   <g id=\"patch_56\">\n    <path d=\"M 155.001 172.204139 \nL 155.399923 172.204139 \nL 155.399923 103.025407 \nL 155.001 103.025407 \nz\n\" clip-path=\"url(#pd8c2d75469)\" style=\"fill: #254495\"/>\n   </g>\n   <g id=\"patch_57\">\n    <path d=\"M 157.793462 172.204139 \nL 158.192385 172.204139 \nL 158.192385 111.496272 \nL 157.793462 111.496272 \nz\n\" clip-path=\"url(#pd8c2d75469)\" style=\"fill: #254495\"/>\n   </g>\n   <g id=\"patch_58\">\n    <path d=\"M 160.585923 172.204139 \nL 160.984846 172.204139 \nL 160.984846 108.672651 \nL 160.585923 108.672651 \nz\n\" clip-path=\"url(#pd8c2d75469)\" style=\"fill: #254495\"/>\n   </g>\n   <g id=\"patch_59\">\n    <path d=\"M 163.378385 172.204139 \nL 163.777308 172.204139 \nL 163.777308 100.201786 \nL 163.378385 100.201786 \nz\n\" clip-path=\"url(#pd8c2d75469)\" style=\"fill: #254495\"/>\n   </g>\n   <g id=\"patch_60\">\n    <path d=\"M 166.170846 172.204139 \nL 166.569769 172.204139 \nL 166.569769 104.437218 \nL 166.170846 104.437218 \nz\n\" clip-path=\"url(#pd8c2d75469)\" style=\"fill: #254495\"/>\n   </g>\n   <g id=\"patch_61\">\n    <path d=\"M 168.963308 172.204139 \nL 169.362231 172.204139 \nL 169.362231 98.789975 \nL 168.963308 98.789975 \nz\n\" clip-path=\"url(#pd8c2d75469)\" style=\"fill: #254495\"/>\n   </g>\n   <g id=\"patch_62\">\n    <path d=\"M 171.755769 172.204139 \nL 172.154692 172.204139 \nL 172.154692 110.084462 \nL 171.755769 110.084462 \nz\n\" clip-path=\"url(#pd8c2d75469)\" style=\"fill: #254495\"/>\n   </g>\n   <g id=\"patch_63\">\n    <path d=\"M 174.548231 172.204139 \nL 174.947154 172.204139 \nL 174.947154 107.26084 \nL 174.548231 107.26084 \nz\n\" clip-path=\"url(#pd8c2d75469)\" style=\"fill: #254495\"/>\n   </g>\n   <g id=\"patch_64\">\n    <path d=\"M 177.340692 172.204139 \nL 177.739615 172.204139 \nL 177.739615 111.496272 \nL 177.340692 111.496272 \nz\n\" clip-path=\"url(#pd8c2d75469)\" style=\"fill: #254495\"/>\n   </g>\n   <g id=\"patch_65\">\n    <path d=\"M 180.133154 172.204139 \nL 180.532077 172.204139 \nL 180.532077 114.319894 \nL 180.133154 114.319894 \nz\n\" clip-path=\"url(#pd8c2d75469)\" style=\"fill: #254495\"/>\n   </g>\n   <g id=\"patch_66\">\n    <path d=\"M 182.925615 172.204139 \nL 183.324538 172.204139 \nL 183.324538 108.672651 \nL 182.925615 108.672651 \nz\n\" clip-path=\"url(#pd8c2d75469)\" style=\"fill: #254495\"/>\n   </g>\n   <g id=\"patch_67\">\n    <path d=\"M 185.718077 172.204139 \nL 186.117 172.204139 \nL 186.117 108.672651 \nL 185.718077 108.672651 \nz\n\" clip-path=\"url(#pd8c2d75469)\" style=\"fill: #254495\"/>\n   </g>\n   <g id=\"patch_68\">\n    <path d=\"M 188.510538 172.204139 \nL 188.909462 172.204139 \nL 188.909462 67.730136 \nL 188.510538 67.730136 \nz\n\" clip-path=\"url(#pd8c2d75469)\" style=\"fill: #254495\"/>\n   </g>\n   <g id=\"patch_69\">\n    <path d=\"M 191.303 172.204139 \nL 191.701923 172.204139 \nL 191.701923 59.259271 \nL 191.303 59.259271 \nz\n\" clip-path=\"url(#pd8c2d75469)\" style=\"fill: #254495\"/>\n   </g>\n   <g id=\"patch_70\">\n    <path d=\"M 194.095462 172.204139 \nL 194.494385 172.204139 \nL 194.494385 94.554542 \nL 194.095462 94.554542 \nz\n\" clip-path=\"url(#pd8c2d75469)\" style=\"fill: #254495\"/>\n   </g>\n   <g id=\"patch_71\">\n    <path d=\"M 196.887923 172.204139 \nL 197.286846 172.204139 \nL 197.286846 110.084462 \nL 196.887923 110.084462 \nz\n\" clip-path=\"url(#pd8c2d75469)\" style=\"fill: #254495\"/>\n   </g>\n   <g id=\"patch_72\">\n    <path d=\"M 199.680385 172.204139 \nL 200.079308 172.204139 \nL 200.079308 110.084462 \nL 199.680385 110.084462 \nz\n\" clip-path=\"url(#pd8c2d75469)\" style=\"fill: #254495\"/>\n   </g>\n   <g id=\"patch_73\">\n    <path d=\"M 202.472846 172.204139 \nL 202.871769 172.204139 \nL 202.871769 104.437218 \nL 202.472846 104.437218 \nz\n\" clip-path=\"url(#pd8c2d75469)\" style=\"fill: #254495\"/>\n   </g>\n   <g id=\"patch_74\">\n    <path d=\"M 205.265308 172.204139 \nL 205.664231 172.204139 \nL 205.664231 105.849029 \nL 205.265308 105.849029 \nz\n\" clip-path=\"url(#pd8c2d75469)\" style=\"fill: #254495\"/>\n   </g>\n   <g id=\"patch_75\">\n    <path d=\"M 208.057769 172.204139 \nL 208.456692 172.204139 \nL 208.456692 104.437218 \nL 208.057769 104.437218 \nz\n\" clip-path=\"url(#pd8c2d75469)\" style=\"fill: #254495\"/>\n   </g>\n   <g id=\"patch_76\">\n    <path d=\"M 210.850231 172.204139 \nL 211.249154 172.204139 \nL 211.249154 107.26084 \nL 210.850231 107.26084 \nz\n\" clip-path=\"url(#pd8c2d75469)\" style=\"fill: #254495\"/>\n   </g>\n   <g id=\"patch_77\">\n    <path d=\"M 213.642692 172.204139 \nL 214.041615 172.204139 \nL 214.041615 110.084462 \nL 213.642692 110.084462 \nz\n\" clip-path=\"url(#pd8c2d75469)\" style=\"fill: #254495\"/>\n   </g>\n   <g id=\"patch_78\">\n    <path d=\"M 216.435154 172.204139 \nL 216.834077 172.204139 \nL 216.834077 103.025407 \nL 216.435154 103.025407 \nz\n\" clip-path=\"url(#pd8c2d75469)\" style=\"fill: #254495\"/>\n   </g>\n   <g id=\"patch_79\">\n    <path d=\"M 219.227615 172.204139 \nL 219.626538 172.204139 \nL 219.626538 107.26084 \nL 219.227615 107.26084 \nz\n\" clip-path=\"url(#pd8c2d75469)\" style=\"fill: #254495\"/>\n   </g>\n   <g id=\"patch_80\">\n    <path d=\"M 222.020077 172.204139 \nL 222.419 172.204139 \nL 222.419 103.025407 \nL 222.020077 103.025407 \nz\n\" clip-path=\"url(#pd8c2d75469)\" style=\"fill: #254495\"/>\n   </g>\n   <g id=\"patch_81\">\n    <path d=\"M 224.812538 172.204139 \nL 225.211462 172.204139 \nL 225.211462 115.731705 \nL 224.812538 115.731705 \nz\n\" clip-path=\"url(#pd8c2d75469)\" style=\"fill: #254495\"/>\n   </g>\n   <g id=\"patch_82\">\n    <path d=\"M 227.605 172.204139 \nL 228.003923 172.204139 \nL 228.003923 112.908083 \nL 227.605 112.908083 \nz\n\" clip-path=\"url(#pd8c2d75469)\" style=\"fill: #254495\"/>\n   </g>\n   <g id=\"patch_83\">\n    <path d=\"M 230.397462 172.204139 \nL 230.796385 172.204139 \nL 230.796385 112.908083 \nL 230.397462 112.908083 \nz\n\" clip-path=\"url(#pd8c2d75469)\" style=\"fill: #254495\"/>\n   </g>\n   <g id=\"patch_84\">\n    <path d=\"M 233.189923 172.204139 \nL 233.588846 172.204139 \nL 233.588846 108.672651 \nL 233.189923 108.672651 \nz\n\" clip-path=\"url(#pd8c2d75469)\" style=\"fill: #254495\"/>\n   </g>\n   <g id=\"patch_85\">\n    <path d=\"M 235.982385 172.204139 \nL 236.381308 172.204139 \nL 236.381308 112.908083 \nL 235.982385 112.908083 \nz\n\" clip-path=\"url(#pd8c2d75469)\" style=\"fill: #254495\"/>\n   </g>\n   <g id=\"patch_86\">\n    <path d=\"M 238.774846 172.204139 \nL 239.173769 172.204139 \nL 239.173769 111.496272 \nL 238.774846 111.496272 \nz\n\" clip-path=\"url(#pd8c2d75469)\" style=\"fill: #254495\"/>\n   </g>\n   <g id=\"patch_87\">\n    <path d=\"M 241.567308 172.204139 \nL 241.966231 172.204139 \nL 241.966231 110.084462 \nL 241.567308 110.084462 \nz\n\" clip-path=\"url(#pd8c2d75469)\" style=\"fill: #254495\"/>\n   </g>\n   <g id=\"patch_88\">\n    <path d=\"M 244.359769 172.204139 \nL 244.758692 172.204139 \nL 244.758692 114.319894 \nL 244.359769 114.319894 \nz\n\" clip-path=\"url(#pd8c2d75469)\" style=\"fill: #254495\"/>\n   </g>\n   <g id=\"patch_89\">\n    <path d=\"M 247.152231 172.204139 \nL 247.551154 172.204139 \nL 247.551154 117.143516 \nL 247.152231 117.143516 \nz\n\" clip-path=\"url(#pd8c2d75469)\" style=\"fill: #254495\"/>\n   </g>\n   <g id=\"patch_90\">\n    <path d=\"M 249.944692 172.204139 \nL 250.343615 172.204139 \nL 250.343615 111.496272 \nL 249.944692 111.496272 \nz\n\" clip-path=\"url(#pd8c2d75469)\" style=\"fill: #254495\"/>\n   </g>\n   <g id=\"patch_91\">\n    <path d=\"M 252.737154 172.204139 \nL 253.136077 172.204139 \nL 253.136077 111.496272 \nL 252.737154 111.496272 \nz\n\" clip-path=\"url(#pd8c2d75469)\" style=\"fill: #254495\"/>\n   </g>\n   <g id=\"patch_92\">\n    <path d=\"M 255.529615 172.204139 \nL 255.928538 172.204139 \nL 255.928538 112.908083 \nL 255.529615 112.908083 \nz\n\" clip-path=\"url(#pd8c2d75469)\" style=\"fill: #254495\"/>\n   </g>\n   <g id=\"patch_93\">\n    <path d=\"M 258.322077 172.204139 \nL 258.721 172.204139 \nL 258.721 111.496272 \nL 258.322077 111.496272 \nz\n\" clip-path=\"url(#pd8c2d75469)\" style=\"fill: #254495\"/>\n   </g>\n   <g id=\"patch_94\">\n    <path d=\"M 261.114538 172.204139 \nL 261.513462 172.204139 \nL 261.513462 114.319894 \nL 261.114538 114.319894 \nz\n\" clip-path=\"url(#pd8c2d75469)\" style=\"fill: #254495\"/>\n   </g>\n   <g id=\"patch_95\">\n    <path d=\"M 263.907 172.204139 \nL 264.305923 172.204139 \nL 264.305923 110.084462 \nL 263.907 110.084462 \nz\n\" clip-path=\"url(#pd8c2d75469)\" style=\"fill: #254495\"/>\n   </g>\n   <g id=\"patch_96\">\n    <path d=\"M 266.699462 172.204139 \nL 267.098385 172.204139 \nL 267.098385 112.908083 \nL 266.699462 112.908083 \nz\n\" clip-path=\"url(#pd8c2d75469)\" style=\"fill: #254495\"/>\n   </g>\n   <g id=\"patch_97\">\n    <path d=\"M 269.491923 172.204139 \nL 269.890846 172.204139 \nL 269.890846 112.908083 \nL 269.491923 112.908083 \nz\n\" clip-path=\"url(#pd8c2d75469)\" style=\"fill: #254495\"/>\n   </g>\n   <g id=\"patch_98\">\n    <path d=\"M 272.284385 172.204139 \nL 272.683308 172.204139 \nL 272.683308 100.201786 \nL 272.284385 100.201786 \nz\n\" clip-path=\"url(#pd8c2d75469)\" style=\"fill: #254495\"/>\n   </g>\n   <g id=\"patch_99\">\n    <path d=\"M 275.076846 172.204139 \nL 275.475769 172.204139 \nL 275.475769 105.849029 \nL 275.076846 105.849029 \nz\n\" clip-path=\"url(#pd8c2d75469)\" style=\"fill: #254495\"/>\n   </g>\n   <g id=\"patch_100\">\n    <path d=\"M 277.869308 172.204139 \nL 278.268231 172.204139 \nL 278.268231 117.143516 \nL 277.869308 117.143516 \nz\n\" clip-path=\"url(#pd8c2d75469)\" style=\"fill: #254495\"/>\n   </g>\n   <g id=\"patch_101\">\n    <path d=\"M 280.661769 172.204139 \nL 281.060692 172.204139 \nL 281.060692 112.908083 \nL 280.661769 112.908083 \nz\n\" clip-path=\"url(#pd8c2d75469)\" style=\"fill: #254495\"/>\n   </g>\n   <g id=\"patch_102\">\n    <path d=\"M 283.454231 172.204139 \nL 283.853154 172.204139 \nL 283.853154 107.26084 \nL 283.454231 107.26084 \nz\n\" clip-path=\"url(#pd8c2d75469)\" style=\"fill: #254495\"/>\n   </g>\n   <g id=\"patch_103\">\n    <path d=\"M 286.246692 172.204139 \nL 286.645615 172.204139 \nL 286.645615 112.908083 \nL 286.246692 112.908083 \nz\n\" clip-path=\"url(#pd8c2d75469)\" style=\"fill: #254495\"/>\n   </g>\n   <g id=\"patch_104\">\n    <path d=\"M 289.039154 172.204139 \nL 289.438077 172.204139 \nL 289.438077 112.908083 \nL 289.039154 112.908083 \nz\n\" clip-path=\"url(#pd8c2d75469)\" style=\"fill: #254495\"/>\n   </g>\n   <g id=\"patch_105\">\n    <path d=\"M 291.831615 172.204139 \nL 292.230538 172.204139 \nL 292.230538 115.731705 \nL 291.831615 115.731705 \nz\n\" clip-path=\"url(#pd8c2d75469)\" style=\"fill: #254495\"/>\n   </g>\n   <g id=\"patch_106\">\n    <path d=\"M 294.624077 172.204139 \nL 295.023 172.204139 \nL 295.023 114.319894 \nL 294.624077 114.319894 \nz\n\" clip-path=\"url(#pd8c2d75469)\" style=\"fill: #254495\"/>\n   </g>\n   <g id=\"patch_107\">\n    <path d=\"M 297.416538 172.204139 \nL 297.815462 172.204139 \nL 297.815462 114.319894 \nL 297.416538 114.319894 \nz\n\" clip-path=\"url(#pd8c2d75469)\" style=\"fill: #254495\"/>\n   </g>\n   <g id=\"patch_108\">\n    <path d=\"M 300.209 172.204139 \nL 300.607923 172.204139 \nL 300.607923 112.908083 \nL 300.209 112.908083 \nz\n\" clip-path=\"url(#pd8c2d75469)\" style=\"fill: #254495\"/>\n   </g>\n   <g id=\"patch_109\">\n    <path d=\"M 303.001462 172.204139 \nL 303.400385 172.204139 \nL 303.400385 112.908083 \nL 303.001462 112.908083 \nz\n\" clip-path=\"url(#pd8c2d75469)\" style=\"fill: #254495\"/>\n   </g>\n   <g id=\"patch_110\">\n    <path d=\"M 305.793923 172.204139 \nL 306.192846 172.204139 \nL 306.192846 114.319894 \nL 305.793923 114.319894 \nz\n\" clip-path=\"url(#pd8c2d75469)\" style=\"fill: #254495\"/>\n   </g>\n   <g id=\"patch_111\">\n    <path d=\"M 308.586385 172.204139 \nL 308.985308 172.204139 \nL 308.985308 108.672651 \nL 308.586385 108.672651 \nz\n\" clip-path=\"url(#pd8c2d75469)\" style=\"fill: #254495\"/>\n   </g>\n   <g id=\"patch_112\">\n    <path d=\"M 311.378846 172.204139 \nL 311.777769 172.204139 \nL 311.777769 101.613597 \nL 311.378846 101.613597 \nz\n\" clip-path=\"url(#pd8c2d75469)\" style=\"fill: #254495\"/>\n   </g>\n   <g id=\"patch_113\">\n    <path d=\"M 314.171308 172.204139 \nL 314.570231 172.204139 \nL 314.570231 100.201786 \nL 314.171308 100.201786 \nz\n\" clip-path=\"url(#pd8c2d75469)\" style=\"fill: #254495\"/>\n   </g>\n   <g id=\"patch_114\">\n    <path d=\"M 316.963769 172.204139 \nL 317.362692 172.204139 \nL 317.362692 112.908083 \nL 316.963769 112.908083 \nz\n\" clip-path=\"url(#pd8c2d75469)\" style=\"fill: #254495\"/>\n   </g>\n   <g id=\"patch_115\">\n    <path d=\"M 319.756231 172.204139 \nL 320.155154 172.204139 \nL 320.155154 115.731705 \nL 319.756231 115.731705 \nz\n\" clip-path=\"url(#pd8c2d75469)\" style=\"fill: #254495\"/>\n   </g>\n   <g id=\"patch_116\">\n    <path d=\"M 322.548692 172.204139 \nL 322.947615 172.204139 \nL 322.947615 114.319894 \nL 322.548692 114.319894 \nz\n\" clip-path=\"url(#pd8c2d75469)\" style=\"fill: #254495\"/>\n   </g>\n   <g id=\"patch_117\">\n    <path d=\"M 325.341154 172.204139 \nL 325.740077 172.204139 \nL 325.740077 115.731705 \nL 325.341154 115.731705 \nz\n\" clip-path=\"url(#pd8c2d75469)\" style=\"fill: #254495\"/>\n   </g>\n   <g id=\"patch_118\">\n    <path d=\"M 328.133615 172.204139 \nL 328.532538 172.204139 \nL 328.532538 117.143516 \nL 328.133615 117.143516 \nz\n\" clip-path=\"url(#pd8c2d75469)\" style=\"fill: #254495\"/>\n   </g>\n   <g id=\"patch_119\">\n    <path d=\"M 330.926077 172.204139 \nL 331.325 172.204139 \nL 331.325 107.26084 \nL 330.926077 107.26084 \nz\n\" clip-path=\"url(#pd8c2d75469)\" style=\"fill: #254495\"/>\n   </g>\n   <g id=\"patch_120\">\n    <path d=\"M 333.718538 172.204139 \nL 334.117462 172.204139 \nL 334.117462 112.908083 \nL 333.718538 112.908083 \nz\n\" clip-path=\"url(#pd8c2d75469)\" style=\"fill: #254495\"/>\n   </g>\n   <g id=\"patch_121\">\n    <path d=\"M 336.511 172.204139 \nL 336.909923 172.204139 \nL 336.909923 114.319894 \nL 336.511 114.319894 \nz\n\" clip-path=\"url(#pd8c2d75469)\" style=\"fill: #254495\"/>\n   </g>\n   <g id=\"patch_122\">\n    <path d=\"M 339.303462 172.204139 \nL 339.702385 172.204139 \nL 339.702385 111.496272 \nL 339.303462 111.496272 \nz\n\" clip-path=\"url(#pd8c2d75469)\" style=\"fill: #254495\"/>\n   </g>\n   <g id=\"patch_123\">\n    <path d=\"M 342.095923 172.204139 \nL 342.494846 172.204139 \nL 342.494846 110.084462 \nL 342.095923 110.084462 \nz\n\" clip-path=\"url(#pd8c2d75469)\" style=\"fill: #254495\"/>\n   </g>\n   <g id=\"patch_124\">\n    <path d=\"M 344.888385 172.204139 \nL 345.287308 172.204139 \nL 345.287308 110.084462 \nL 344.888385 110.084462 \nz\n\" clip-path=\"url(#pd8c2d75469)\" style=\"fill: #254495\"/>\n   </g>\n   <g id=\"patch_125\">\n    <path d=\"M 347.680846 172.204139 \nL 348.079769 172.204139 \nL 348.079769 110.084462 \nL 347.680846 110.084462 \nz\n\" clip-path=\"url(#pd8c2d75469)\" style=\"fill: #254495\"/>\n   </g>\n   <g id=\"patch_126\">\n    <path d=\"M 350.473308 172.204139 \nL 350.872231 172.204139 \nL 350.872231 100.201786 \nL 350.473308 100.201786 \nz\n\" clip-path=\"url(#pd8c2d75469)\" style=\"fill: #254495\"/>\n   </g>\n   <g id=\"patch_127\">\n    <path d=\"M 353.265769 172.204139 \nL 353.664692 172.204139 \nL 353.664692 86.083677 \nL 353.265769 86.083677 \nz\n\" clip-path=\"url(#pd8c2d75469)\" style=\"fill: #254495\"/>\n   </g>\n   <g id=\"patch_128\">\n    <path d=\"M 356.058231 172.204139 \nL 356.457154 172.204139 \nL 356.457154 93.142731 \nL 356.058231 93.142731 \nz\n\" clip-path=\"url(#pd8c2d75469)\" style=\"fill: #254495\"/>\n   </g>\n   <g id=\"patch_129\">\n    <path d=\"M 358.850692 172.204139 \nL 359.249615 172.204139 \nL 359.249615 94.554542 \nL 358.850692 94.554542 \nz\n\" clip-path=\"url(#pd8c2d75469)\" style=\"fill: #254495\"/>\n   </g>\n   <g id=\"patch_130\">\n    <path d=\"M 361.643154 172.204139 \nL 362.042077 172.204139 \nL 362.042077 93.142731 \nL 361.643154 93.142731 \nz\n\" clip-path=\"url(#pd8c2d75469)\" style=\"fill: #254495\"/>\n   </g>\n   <g id=\"patch_131\">\n    <path d=\"M 364.435615 172.204139 \nL 364.834538 172.204139 \nL 364.834538 91.730921 \nL 364.435615 91.730921 \nz\n\" clip-path=\"url(#pd8c2d75469)\" style=\"fill: #254495\"/>\n   </g>\n   <g id=\"patch_132\">\n    <path d=\"M 367.228077 172.204139 \nL 367.627 172.204139 \nL 367.627 103.025407 \nL 367.228077 103.025407 \nz\n\" clip-path=\"url(#pd8c2d75469)\" style=\"fill: #254495\"/>\n   </g>\n   <g id=\"patch_133\">\n    <path d=\"M 370.020538 172.204139 \nL 370.419462 172.204139 \nL 370.419462 112.908083 \nL 370.020538 112.908083 \nz\n\" clip-path=\"url(#pd8c2d75469)\" style=\"fill: #254495\"/>\n   </g>\n   <g id=\"patch_134\">\n    <path d=\"M 372.813 172.204139 \nL 373.211923 172.204139 \nL 373.211923 107.26084 \nL 372.813 107.26084 \nz\n\" clip-path=\"url(#pd8c2d75469)\" style=\"fill: #254495\"/>\n   </g>\n   <g id=\"patch_135\">\n    <path d=\"M 375.605462 172.204139 \nL 376.004385 172.204139 \nL 376.004385 107.26084 \nL 375.605462 107.26084 \nz\n\" clip-path=\"url(#pd8c2d75469)\" style=\"fill: #254495\"/>\n   </g>\n   <g id=\"patch_136\">\n    <path d=\"M 378.397923 172.204139 \nL 378.796846 172.204139 \nL 378.796846 108.672651 \nL 378.397923 108.672651 \nz\n\" clip-path=\"url(#pd8c2d75469)\" style=\"fill: #254495\"/>\n   </g>\n   <g id=\"patch_137\">\n    <path d=\"M 381.190385 172.204139 \nL 381.589308 172.204139 \nL 381.589308 108.672651 \nL 381.190385 108.672651 \nz\n\" clip-path=\"url(#pd8c2d75469)\" style=\"fill: #254495\"/>\n   </g>\n   <g id=\"patch_138\">\n    <path d=\"M 383.982846 172.204139 \nL 384.381769 172.204139 \nL 384.381769 108.672651 \nL 383.982846 108.672651 \nz\n\" clip-path=\"url(#pd8c2d75469)\" style=\"fill: #254495\"/>\n   </g>\n   <g id=\"patch_139\">\n    <path d=\"M 386.775308 172.204139 \nL 387.174231 172.204139 \nL 387.174231 107.26084 \nL 386.775308 107.26084 \nz\n\" clip-path=\"url(#pd8c2d75469)\" style=\"fill: #254495\"/>\n   </g>\n   <g id=\"patch_140\">\n    <path d=\"M 389.567769 172.204139 \nL 389.966692 172.204139 \nL 389.966692 108.672651 \nL 389.567769 108.672651 \nz\n\" clip-path=\"url(#pd8c2d75469)\" style=\"fill: #254495\"/>\n   </g>\n   <g id=\"patch_141\">\n    <path d=\"M 392.360231 172.204139 \nL 392.759154 172.204139 \nL 392.759154 112.908083 \nL 392.360231 112.908083 \nz\n\" clip-path=\"url(#pd8c2d75469)\" style=\"fill: #254495\"/>\n   </g>\n   <g id=\"patch_142\">\n    <path d=\"M 395.152692 172.204139 \nL 395.551615 172.204139 \nL 395.551615 108.672651 \nL 395.152692 108.672651 \nz\n\" clip-path=\"url(#pd8c2d75469)\" style=\"fill: #254495\"/>\n   </g>\n   <g id=\"patch_143\">\n    <path d=\"M 397.945154 172.204139 \nL 398.344077 172.204139 \nL 398.344077 108.672651 \nL 397.945154 108.672651 \nz\n\" clip-path=\"url(#pd8c2d75469)\" style=\"fill: #254495\"/>\n   </g>\n   <g id=\"patch_144\">\n    <path d=\"M 400.737615 172.204139 \nL 401.136538 172.204139 \nL 401.136538 117.143516 \nL 400.737615 117.143516 \nz\n\" clip-path=\"url(#pd8c2d75469)\" style=\"fill: #254495\"/>\n   </g>\n   <g id=\"patch_145\">\n    <path d=\"M 403.530077 172.204139 \nL 403.929 172.204139 \nL 403.929 117.143516 \nL 403.530077 117.143516 \nz\n\" clip-path=\"url(#pd8c2d75469)\" style=\"fill: #254495\"/>\n   </g>\n   <g id=\"patch_146\">\n    <path d=\"M 406.322538 172.204139 \nL 406.721462 172.204139 \nL 406.721462 105.849029 \nL 406.322538 105.849029 \nz\n\" clip-path=\"url(#pd8c2d75469)\" style=\"fill: #254495\"/>\n   </g>\n   <g id=\"patch_147\">\n    <path d=\"M 409.115 172.204139 \nL 409.513923 172.204139 \nL 409.513923 114.319894 \nL 409.115 114.319894 \nz\n\" clip-path=\"url(#pd8c2d75469)\" style=\"fill: #254495\"/>\n   </g>\n   <g id=\"patch_148\">\n    <path d=\"M 411.907462 172.204139 \nL 412.306385 172.204139 \nL 412.306385 112.908083 \nL 411.907462 112.908083 \nz\n\" clip-path=\"url(#pd8c2d75469)\" style=\"fill: #254495\"/>\n   </g>\n   <g id=\"patch_149\">\n    <path d=\"M 414.699923 172.204139 \nL 415.098846 172.204139 \nL 415.098846 115.731705 \nL 414.699923 115.731705 \nz\n\" clip-path=\"url(#pd8c2d75469)\" style=\"fill: #254495\"/>\n   </g>\n   <g id=\"patch_150\">\n    <path d=\"M 417.492385 172.204139 \nL 417.891308 172.204139 \nL 417.891308 114.319894 \nL 417.492385 114.319894 \nz\n\" clip-path=\"url(#pd8c2d75469)\" style=\"fill: #254495\"/>\n   </g>\n   <g id=\"patch_151\">\n    <path d=\"M 420.284846 172.204139 \nL 420.683769 172.204139 \nL 420.683769 111.496272 \nL 420.284846 111.496272 \nz\n\" clip-path=\"url(#pd8c2d75469)\" style=\"fill: #254495\"/>\n   </g>\n   <g id=\"patch_152\">\n    <path d=\"M 423.077308 172.204139 \nL 423.476231 172.204139 \nL 423.476231 107.26084 \nL 423.077308 107.26084 \nz\n\" clip-path=\"url(#pd8c2d75469)\" style=\"fill: #254495\"/>\n   </g>\n   <g id=\"patch_153\">\n    <path d=\"M 425.869769 172.204139 \nL 426.268692 172.204139 \nL 426.268692 108.672651 \nL 425.869769 108.672651 \nz\n\" clip-path=\"url(#pd8c2d75469)\" style=\"fill: #254495\"/>\n   </g>\n   <g id=\"patch_154\">\n    <path d=\"M 428.662231 172.204139 \nL 429.061154 172.204139 \nL 429.061154 107.26084 \nL 428.662231 107.26084 \nz\n\" clip-path=\"url(#pd8c2d75469)\" style=\"fill: #254495\"/>\n   </g>\n   <g id=\"patch_155\">\n    <path d=\"M 431.454692 172.204139 \nL 431.853615 172.204139 \nL 431.853615 112.908083 \nL 431.454692 112.908083 \nz\n\" clip-path=\"url(#pd8c2d75469)\" style=\"fill: #254495\"/>\n   </g>\n   <g id=\"patch_156\">\n    <path d=\"M 434.247154 172.204139 \nL 434.646077 172.204139 \nL 434.646077 103.025407 \nL 434.247154 103.025407 \nz\n\" clip-path=\"url(#pd8c2d75469)\" style=\"fill: #254495\"/>\n   </g>\n   <g id=\"patch_157\">\n    <path d=\"M 437.039615 172.204139 \nL 437.438538 172.204139 \nL 437.438538 104.437218 \nL 437.039615 104.437218 \nz\n\" clip-path=\"url(#pd8c2d75469)\" style=\"fill: #254495\"/>\n   </g>\n   <g id=\"patch_158\">\n    <path d=\"M 439.832077 172.204139 \nL 440.231 172.204139 \nL 440.231 108.672651 \nL 439.832077 108.672651 \nz\n\" clip-path=\"url(#pd8c2d75469)\" style=\"fill: #254495\"/>\n   </g>\n   <g id=\"patch_159\">\n    <path d=\"M 442.624538 172.204139 \nL 443.023462 172.204139 \nL 443.023462 108.672651 \nL 442.624538 108.672651 \nz\n\" clip-path=\"url(#pd8c2d75469)\" style=\"fill: #254495\"/>\n   </g>\n   <g id=\"patch_160\">\n    <path d=\"M 445.417 172.204139 \nL 445.815923 172.204139 \nL 445.815923 108.672651 \nL 445.417 108.672651 \nz\n\" clip-path=\"url(#pd8c2d75469)\" style=\"fill: #254495\"/>\n   </g>\n   <g id=\"patch_161\">\n    <path d=\"M 448.209462 172.204139 \nL 448.608385 172.204139 \nL 448.608385 110.084462 \nL 448.209462 110.084462 \nz\n\" clip-path=\"url(#pd8c2d75469)\" style=\"fill: #254495\"/>\n   </g>\n   <g id=\"patch_162\">\n    <path d=\"M 451.001923 172.204139 \nL 451.400846 172.204139 \nL 451.400846 111.496272 \nL 451.001923 111.496272 \nz\n\" clip-path=\"url(#pd8c2d75469)\" style=\"fill: #254495\"/>\n   </g>\n   <g id=\"patch_163\">\n    <path d=\"M 453.794385 172.204139 \nL 454.193308 172.204139 \nL 454.193308 111.496272 \nL 453.794385 111.496272 \nz\n\" clip-path=\"url(#pd8c2d75469)\" style=\"fill: #254495\"/>\n   </g>\n   <g id=\"patch_164\">\n    <path d=\"M 456.586846 172.204139 \nL 456.985769 172.204139 \nL 456.985769 111.496272 \nL 456.586846 111.496272 \nz\n\" clip-path=\"url(#pd8c2d75469)\" style=\"fill: #254495\"/>\n   </g>\n   <g id=\"patch_165\">\n    <path d=\"M 459.379308 172.204139 \nL 459.778231 172.204139 \nL 459.778231 108.672651 \nL 459.379308 108.672651 \nz\n\" clip-path=\"url(#pd8c2d75469)\" style=\"fill: #254495\"/>\n   </g>\n   <g id=\"patch_166\">\n    <path d=\"M 462.171769 172.204139 \nL 462.570692 172.204139 \nL 462.570692 115.731705 \nL 462.171769 115.731705 \nz\n\" clip-path=\"url(#pd8c2d75469)\" style=\"fill: #254495\"/>\n   </g>\n   <g id=\"patch_167\">\n    <path d=\"M 464.964231 172.204139 \nL 465.363154 172.204139 \nL 465.363154 112.908083 \nL 464.964231 112.908083 \nz\n\" clip-path=\"url(#pd8c2d75469)\" style=\"fill: #254495\"/>\n   </g>\n   <g id=\"patch_168\">\n    <path d=\"M 467.756692 172.204139 \nL 468.155615 172.204139 \nL 468.155615 115.731705 \nL 467.756692 115.731705 \nz\n\" clip-path=\"url(#pd8c2d75469)\" style=\"fill: #254495\"/>\n   </g>\n   <g id=\"patch_169\">\n    <path d=\"M 470.549154 172.204139 \nL 470.948077 172.204139 \nL 470.948077 125.614381 \nL 470.549154 125.614381 \nz\n\" clip-path=\"url(#pd8c2d75469)\" style=\"fill: #254495\"/>\n   </g>\n   <g id=\"patch_170\">\n    <path d=\"M 473.341615 172.204139 \nL 473.740538 172.204139 \nL 473.740538 125.614381 \nL 473.341615 125.614381 \nz\n\" clip-path=\"url(#pd8c2d75469)\" style=\"fill: #254495\"/>\n   </g>\n   <g id=\"patch_171\">\n    <path d=\"M 476.134077 172.204139 \nL 476.533 172.204139 \nL 476.533 121.378948 \nL 476.134077 121.378948 \nz\n\" clip-path=\"url(#pd8c2d75469)\" style=\"fill: #254495\"/>\n   </g>\n   <g id=\"patch_172\">\n    <path d=\"M 478.926538 172.204139 \nL 479.325462 172.204139 \nL 479.325462 121.378948 \nL 478.926538 121.378948 \nz\n\" clip-path=\"url(#pd8c2d75469)\" style=\"fill: #254495\"/>\n   </g>\n   <g id=\"patch_173\">\n    <path d=\"M 481.719 172.204139 \nL 482.117923 172.204139 \nL 482.117923 122.790759 \nL 481.719 122.790759 \nz\n\" clip-path=\"url(#pd8c2d75469)\" style=\"fill: #254495\"/>\n   </g>\n   <g id=\"patch_174\">\n    <path d=\"M 484.511462 172.204139 \nL 484.910385 172.204139 \nL 484.910385 119.967138 \nL 484.511462 119.967138 \nz\n\" clip-path=\"url(#pd8c2d75469)\" style=\"fill: #254495\"/>\n   </g>\n   <g id=\"patch_175\">\n    <path d=\"M 487.303923 172.204139 \nL 487.702846 172.204139 \nL 487.702846 115.731705 \nL 487.303923 115.731705 \nz\n\" clip-path=\"url(#pd8c2d75469)\" style=\"fill: #254495\"/>\n   </g>\n   <g id=\"patch_176\">\n    <path d=\"M 490.096385 172.204139 \nL 490.495308 172.204139 \nL 490.495308 118.555327 \nL 490.096385 118.555327 \nz\n\" clip-path=\"url(#pd8c2d75469)\" style=\"fill: #254495\"/>\n   </g>\n   <g id=\"patch_177\">\n    <path d=\"M 492.888846 172.204139 \nL 493.287769 172.204139 \nL 493.287769 118.555327 \nL 492.888846 118.555327 \nz\n\" clip-path=\"url(#pd8c2d75469)\" style=\"fill: #254495\"/>\n   </g>\n   <g id=\"patch_178\">\n    <path d=\"M 495.681308 172.204139 \nL 496.080231 172.204139 \nL 496.080231 117.143516 \nL 495.681308 117.143516 \nz\n\" clip-path=\"url(#pd8c2d75469)\" style=\"fill: #254495\"/>\n   </g>\n   <g id=\"patch_179\">\n    <path d=\"M 498.473769 172.204139 \nL 498.872692 172.204139 \nL 498.872692 115.731705 \nL 498.473769 115.731705 \nz\n\" clip-path=\"url(#pd8c2d75469)\" style=\"fill: #254495\"/>\n   </g>\n   <g id=\"patch_180\">\n    <path d=\"M 501.266231 172.204139 \nL 501.665154 172.204139 \nL 501.665154 112.908083 \nL 501.266231 112.908083 \nz\n\" clip-path=\"url(#pd8c2d75469)\" style=\"fill: #254495\"/>\n   </g>\n   <g id=\"patch_181\">\n    <path d=\"M 504.058692 172.204139 \nL 504.457615 172.204139 \nL 504.457615 103.025407 \nL 504.058692 103.025407 \nz\n\" clip-path=\"url(#pd8c2d75469)\" style=\"fill: #254495\"/>\n   </g>\n   <g id=\"patch_182\">\n    <path d=\"M 506.851154 172.204139 \nL 507.250077 172.204139 \nL 507.250077 112.908083 \nL 506.851154 112.908083 \nz\n\" clip-path=\"url(#pd8c2d75469)\" style=\"fill: #254495\"/>\n   </g>\n   <g id=\"patch_183\">\n    <path d=\"M 509.643615 172.204139 \nL 510.042538 172.204139 \nL 510.042538 105.849029 \nL 509.643615 105.849029 \nz\n\" clip-path=\"url(#pd8c2d75469)\" style=\"fill: #254495\"/>\n   </g>\n   <g id=\"patch_184\">\n    <path d=\"M 512.436077 172.204139 \nL 512.835 172.204139 \nL 512.835 112.908083 \nL 512.436077 112.908083 \nz\n\" clip-path=\"url(#pd8c2d75469)\" style=\"fill: #254495\"/>\n   </g>\n   <g id=\"patch_185\">\n    <path d=\"M 515.228538 172.204139 \nL 515.627462 172.204139 \nL 515.627462 115.731705 \nL 515.228538 115.731705 \nz\n\" clip-path=\"url(#pd8c2d75469)\" style=\"fill: #254495\"/>\n   </g>\n   <g id=\"patch_186\">\n    <path d=\"M 518.021 172.204139 \nL 518.419923 172.204139 \nL 518.419923 112.908083 \nL 518.021 112.908083 \nz\n\" clip-path=\"url(#pd8c2d75469)\" style=\"fill: #254495\"/>\n   </g>\n   <g id=\"patch_187\">\n    <path d=\"M 520.813462 172.204139 \nL 521.212385 172.204139 \nL 521.212385 115.731705 \nL 520.813462 115.731705 \nz\n\" clip-path=\"url(#pd8c2d75469)\" style=\"fill: #254495\"/>\n   </g>\n   <g id=\"patch_188\">\n    <path d=\"M 523.605923 172.204139 \nL 524.004846 172.204139 \nL 524.004846 112.908083 \nL 523.605923 112.908083 \nz\n\" clip-path=\"url(#pd8c2d75469)\" style=\"fill: #254495\"/>\n   </g>\n   <g id=\"patch_189\">\n    <path d=\"M 526.398385 172.204139 \nL 526.797308 172.204139 \nL 526.797308 115.731705 \nL 526.398385 115.731705 \nz\n\" clip-path=\"url(#pd8c2d75469)\" style=\"fill: #254495\"/>\n   </g>\n   <g id=\"patch_190\">\n    <path d=\"M 529.190846 172.204139 \nL 529.589769 172.204139 \nL 529.589769 110.084462 \nL 529.190846 110.084462 \nz\n\" clip-path=\"url(#pd8c2d75469)\" style=\"fill: #254495\"/>\n   </g>\n   <g id=\"patch_191\">\n    <path d=\"M 531.983308 172.204139 \nL 532.382231 172.204139 \nL 532.382231 111.496272 \nL 531.983308 111.496272 \nz\n\" clip-path=\"url(#pd8c2d75469)\" style=\"fill: #254495\"/>\n   </g>\n   <g id=\"patch_192\">\n    <path d=\"M 534.775769 172.204139 \nL 535.174692 172.204139 \nL 535.174692 114.319894 \nL 534.775769 114.319894 \nz\n\" clip-path=\"url(#pd8c2d75469)\" style=\"fill: #254495\"/>\n   </g>\n   <g id=\"patch_193\">\n    <path d=\"M 537.568231 172.204139 \nL 537.967154 172.204139 \nL 537.967154 117.143516 \nL 537.568231 117.143516 \nz\n\" clip-path=\"url(#pd8c2d75469)\" style=\"fill: #254495\"/>\n   </g>\n   <g id=\"patch_194\">\n    <path d=\"M 540.360692 172.204139 \nL 540.759615 172.204139 \nL 540.759615 112.908083 \nL 540.360692 112.908083 \nz\n\" clip-path=\"url(#pd8c2d75469)\" style=\"fill: #254495\"/>\n   </g>\n   <g id=\"patch_195\">\n    <path d=\"M 543.153154 172.204139 \nL 543.552077 172.204139 \nL 543.552077 114.319894 \nL 543.153154 114.319894 \nz\n\" clip-path=\"url(#pd8c2d75469)\" style=\"fill: #254495\"/>\n   </g>\n   <g id=\"patch_196\">\n    <path d=\"M 545.945615 172.204139 \nL 546.344538 172.204139 \nL 546.344538 119.967138 \nL 545.945615 119.967138 \nz\n\" clip-path=\"url(#pd8c2d75469)\" style=\"fill: #254495\"/>\n   </g>\n   <g id=\"patch_197\">\n    <path d=\"M 548.738077 172.204139 \nL 549.137 172.204139 \nL 549.137 122.790759 \nL 548.738077 122.790759 \nz\n\" clip-path=\"url(#pd8c2d75469)\" style=\"fill: #254495\"/>\n   </g>\n   <g id=\"patch_198\">\n    <path d=\"M 551.530538 172.204139 \nL 551.929462 172.204139 \nL 551.929462 119.967138 \nL 551.530538 119.967138 \nz\n\" clip-path=\"url(#pd8c2d75469)\" style=\"fill: #254495\"/>\n   </g>\n   <g id=\"patch_199\">\n    <path d=\"M 554.323 172.204139 \nL 554.721923 172.204139 \nL 554.721923 118.555327 \nL 554.323 118.555327 \nz\n\" clip-path=\"url(#pd8c2d75469)\" style=\"fill: #254495\"/>\n   </g>\n   <g id=\"patch_200\">\n    <path d=\"M 557.115462 172.204139 \nL 557.514385 172.204139 \nL 557.514385 117.143516 \nL 557.115462 117.143516 \nz\n\" clip-path=\"url(#pd8c2d75469)\" style=\"fill: #254495\"/>\n   </g>\n   <g id=\"patch_201\">\n    <path d=\"M 559.907923 172.204139 \nL 560.306846 172.204139 \nL 560.306846 118.555327 \nL 559.907923 118.555327 \nz\n\" clip-path=\"url(#pd8c2d75469)\" style=\"fill: #254495\"/>\n   </g>\n   <g id=\"patch_202\">\n    <path d=\"M 562.700385 172.204139 \nL 563.099308 172.204139 \nL 563.099308 115.731705 \nL 562.700385 115.731705 \nz\n\" clip-path=\"url(#pd8c2d75469)\" style=\"fill: #254495\"/>\n   </g>\n   <g id=\"patch_203\">\n    <path d=\"M 565.492846 172.204139 \nL 565.891769 172.204139 \nL 565.891769 114.319894 \nL 565.492846 114.319894 \nz\n\" clip-path=\"url(#pd8c2d75469)\" style=\"fill: #254495\"/>\n   </g>\n   <g id=\"patch_204\">\n    <path d=\"M 568.285308 172.204139 \nL 568.684231 172.204139 \nL 568.684231 115.731705 \nL 568.285308 115.731705 \nz\n\" clip-path=\"url(#pd8c2d75469)\" style=\"fill: #254495\"/>\n   </g>\n   <g id=\"patch_205\">\n    <path d=\"M 571.077769 172.204139 \nL 571.476692 172.204139 \nL 571.476692 110.084462 \nL 571.077769 110.084462 \nz\n\" clip-path=\"url(#pd8c2d75469)\" style=\"fill: #254495\"/>\n   </g>\n   <g id=\"patch_206\">\n    <path d=\"M 573.870231 172.204139 \nL 574.269154 172.204139 \nL 574.269154 104.437218 \nL 573.870231 104.437218 \nz\n\" clip-path=\"url(#pd8c2d75469)\" style=\"fill: #254495\"/>\n   </g>\n   <g id=\"patch_207\">\n    <path d=\"M 576.662692 172.204139 \nL 577.061615 172.204139 \nL 577.061615 107.26084 \nL 576.662692 107.26084 \nz\n\" clip-path=\"url(#pd8c2d75469)\" style=\"fill: #254495\"/>\n   </g>\n   <g id=\"patch_208\">\n    <path d=\"M 579.455154 172.204139 \nL 579.854077 172.204139 \nL 579.854077 111.496272 \nL 579.455154 111.496272 \nz\n\" clip-path=\"url(#pd8c2d75469)\" style=\"fill: #254495\"/>\n   </g>\n   <g id=\"patch_209\">\n    <path d=\"M 582.247615 172.204139 \nL 582.646538 172.204139 \nL 582.646538 108.672651 \nL 582.247615 108.672651 \nz\n\" clip-path=\"url(#pd8c2d75469)\" style=\"fill: #254495\"/>\n   </g>\n   <g id=\"patch_210\">\n    <path d=\"M 585.040077 172.204139 \nL 585.439 172.204139 \nL 585.439 101.613597 \nL 585.040077 101.613597 \nz\n\" clip-path=\"url(#pd8c2d75469)\" style=\"fill: #254495\"/>\n   </g>\n   <g id=\"patch_211\">\n    <path d=\"M 587.832538 172.204139 \nL 588.231462 172.204139 \nL 588.231462 104.437218 \nL 587.832538 104.437218 \nz\n\" clip-path=\"url(#pd8c2d75469)\" style=\"fill: #254495\"/>\n   </g>\n   <g id=\"patch_212\">\n    <path d=\"M 590.625 172.204139 \nL 591.023923 172.204139 \nL 591.023923 103.025407 \nL 590.625 103.025407 \nz\n\" clip-path=\"url(#pd8c2d75469)\" style=\"fill: #254495\"/>\n   </g>\n   <g id=\"patch_213\">\n    <path d=\"M 593.417462 172.204139 \nL 593.816385 172.204139 \nL 593.816385 101.613597 \nL 593.417462 101.613597 \nz\n\" clip-path=\"url(#pd8c2d75469)\" style=\"fill: #254495\"/>\n   </g>\n   <g id=\"patch_214\">\n    <path d=\"M 596.209923 172.204139 \nL 596.608846 172.204139 \nL 596.608846 101.613597 \nL 596.209923 101.613597 \nz\n\" clip-path=\"url(#pd8c2d75469)\" style=\"fill: #254495\"/>\n   </g>\n   <g id=\"patch_215\">\n    <path d=\"M 599.002385 172.204139 \nL 599.401308 172.204139 \nL 599.401308 104.437218 \nL 599.002385 104.437218 \nz\n\" clip-path=\"url(#pd8c2d75469)\" style=\"fill: #254495\"/>\n   </g>\n   <g id=\"patch_216\">\n    <path d=\"M 601.794846 172.204139 \nL 602.193769 172.204139 \nL 602.193769 111.496272 \nL 601.794846 111.496272 \nz\n\" clip-path=\"url(#pd8c2d75469)\" style=\"fill: #254495\"/>\n   </g>\n   <g id=\"patch_217\">\n    <path d=\"M 604.587308 172.204139 \nL 604.986231 172.204139 \nL 604.986231 101.613597 \nL 604.587308 101.613597 \nz\n\" clip-path=\"url(#pd8c2d75469)\" style=\"fill: #254495\"/>\n   </g>\n   <g id=\"patch_218\">\n    <path d=\"M 607.379769 172.204139 \nL 607.778692 172.204139 \nL 607.778692 107.26084 \nL 607.379769 107.26084 \nz\n\" clip-path=\"url(#pd8c2d75469)\" style=\"fill: #254495\"/>\n   </g>\n   <g id=\"patch_219\">\n    <path d=\"M 610.172231 172.204139 \nL 610.571154 172.204139 \nL 610.571154 108.672651 \nL 610.172231 108.672651 \nz\n\" clip-path=\"url(#pd8c2d75469)\" style=\"fill: #254495\"/>\n   </g>\n   <g id=\"patch_220\">\n    <path d=\"M 612.964692 172.204139 \nL 613.363615 172.204139 \nL 613.363615 107.26084 \nL 612.964692 107.26084 \nz\n\" clip-path=\"url(#pd8c2d75469)\" style=\"fill: #254495\"/>\n   </g>\n   <g id=\"patch_221\">\n    <path d=\"M 615.757154 172.204139 \nL 616.156077 172.204139 \nL 616.156077 110.084462 \nL 615.757154 110.084462 \nz\n\" clip-path=\"url(#pd8c2d75469)\" style=\"fill: #254495\"/>\n   </g>\n   <g id=\"patch_222\">\n    <path d=\"M 618.549615 172.204139 \nL 618.948538 172.204139 \nL 618.948538 73.37738 \nL 618.549615 73.37738 \nz\n\" clip-path=\"url(#pd8c2d75469)\" style=\"fill: #254495\"/>\n   </g>\n   <g id=\"patch_223\">\n    <path d=\"M 621.342077 172.204139 \nL 621.741 172.204139 \nL 621.741 104.437218 \nL 621.342077 104.437218 \nz\n\" clip-path=\"url(#pd8c2d75469)\" style=\"fill: #254495\"/>\n   </g>\n   <g id=\"patch_224\">\n    <path d=\"M 624.134538 172.204139 \nL 624.533462 172.204139 \nL 624.533462 111.496272 \nL 624.134538 111.496272 \nz\n\" clip-path=\"url(#pd8c2d75469)\" style=\"fill: #254495\"/>\n   </g>\n   <g id=\"patch_225\">\n    <path d=\"M 626.927 172.204139 \nL 627.325923 172.204139 \nL 627.325923 104.437218 \nL 626.927 104.437218 \nz\n\" clip-path=\"url(#pd8c2d75469)\" style=\"fill: #254495\"/>\n   </g>\n   <g id=\"patch_226\">\n    <path d=\"M 629.719462 172.204139 \nL 630.118385 172.204139 \nL 630.118385 104.437218 \nL 629.719462 104.437218 \nz\n\" clip-path=\"url(#pd8c2d75469)\" style=\"fill: #254495\"/>\n   </g>\n   <g id=\"patch_227\">\n    <path d=\"M 632.511923 172.204139 \nL 632.910846 172.204139 \nL 632.910846 111.496272 \nL 632.511923 111.496272 \nz\n\" clip-path=\"url(#pd8c2d75469)\" style=\"fill: #254495\"/>\n   </g>\n   <g id=\"patch_228\">\n    <path d=\"M 635.304385 172.204139 \nL 635.703308 172.204139 \nL 635.703308 105.849029 \nL 635.304385 105.849029 \nz\n\" clip-path=\"url(#pd8c2d75469)\" style=\"fill: #254495\"/>\n   </g>\n   <g id=\"patch_229\">\n    <path d=\"M 638.096846 172.204139 \nL 638.495769 172.204139 \nL 638.495769 107.26084 \nL 638.096846 107.26084 \nz\n\" clip-path=\"url(#pd8c2d75469)\" style=\"fill: #254495\"/>\n   </g>\n   <g id=\"patch_230\">\n    <path d=\"M 640.889308 172.204139 \nL 641.288231 172.204139 \nL 641.288231 103.025407 \nL 640.889308 103.025407 \nz\n\" clip-path=\"url(#pd8c2d75469)\" style=\"fill: #254495\"/>\n   </g>\n   <g id=\"patch_231\">\n    <path d=\"M 643.681769 172.204139 \nL 644.080692 172.204139 \nL 644.080692 105.849029 \nL 643.681769 105.849029 \nz\n\" clip-path=\"url(#pd8c2d75469)\" style=\"fill: #254495\"/>\n   </g>\n   <g id=\"patch_232\">\n    <path d=\"M 646.474231 172.204139 \nL 646.873154 172.204139 \nL 646.873154 103.025407 \nL 646.474231 103.025407 \nz\n\" clip-path=\"url(#pd8c2d75469)\" style=\"fill: #254495\"/>\n   </g>\n   <g id=\"patch_233\">\n    <path d=\"M 649.266692 172.204139 \nL 649.665615 172.204139 \nL 649.665615 105.849029 \nL 649.266692 105.849029 \nz\n\" clip-path=\"url(#pd8c2d75469)\" style=\"fill: #254495\"/>\n   </g>\n   <g id=\"patch_234\">\n    <path d=\"M 652.059154 172.204139 \nL 652.458077 172.204139 \nL 652.458077 97.378164 \nL 652.059154 97.378164 \nz\n\" clip-path=\"url(#pd8c2d75469)\" style=\"fill: #254495\"/>\n   </g>\n   <g id=\"patch_235\">\n    <path d=\"M 654.851615 172.204139 \nL 655.250538 172.204139 \nL 655.250538 103.025407 \nL 654.851615 103.025407 \nz\n\" clip-path=\"url(#pd8c2d75469)\" style=\"fill: #254495\"/>\n   </g>\n   <g id=\"patch_236\">\n    <path d=\"M 657.644077 172.204139 \nL 658.043 172.204139 \nL 658.043 105.849029 \nL 657.644077 105.849029 \nz\n\" clip-path=\"url(#pd8c2d75469)\" style=\"fill: #254495\"/>\n   </g>\n   <g id=\"patch_237\">\n    <path d=\"M 660.436538 172.204139 \nL 660.835462 172.204139 \nL 660.835462 104.437218 \nL 660.436538 104.437218 \nz\n\" clip-path=\"url(#pd8c2d75469)\" style=\"fill: #254495\"/>\n   </g>\n   <g id=\"patch_238\">\n    <path d=\"M 663.229 172.204139 \nL 663.627923 172.204139 \nL 663.627923 112.908083 \nL 663.229 112.908083 \nz\n\" clip-path=\"url(#pd8c2d75469)\" style=\"fill: #254495\"/>\n   </g>\n   <g id=\"patch_239\">\n    <path d=\"M 666.021462 172.204139 \nL 666.420385 172.204139 \nL 666.420385 107.26084 \nL 666.021462 107.26084 \nz\n\" clip-path=\"url(#pd8c2d75469)\" style=\"fill: #254495\"/>\n   </g>\n   <g id=\"patch_240\">\n    <path d=\"M 668.813923 172.204139 \nL 669.212846 172.204139 \nL 669.212846 110.084462 \nL 668.813923 110.084462 \nz\n\" clip-path=\"url(#pd8c2d75469)\" style=\"fill: #254495\"/>\n   </g>\n   <g id=\"patch_241\">\n    <path d=\"M 671.606385 172.204139 \nL 672.005308 172.204139 \nL 672.005308 107.26084 \nL 671.606385 107.26084 \nz\n\" clip-path=\"url(#pd8c2d75469)\" style=\"fill: #254495\"/>\n   </g>\n   <g id=\"patch_242\">\n    <path d=\"M 674.398846 172.204139 \nL 674.797769 172.204139 \nL 674.797769 108.672651 \nL 674.398846 108.672651 \nz\n\" clip-path=\"url(#pd8c2d75469)\" style=\"fill: #254495\"/>\n   </g>\n   <g id=\"patch_243\">\n    <path d=\"M 677.191308 172.204139 \nL 677.590231 172.204139 \nL 677.590231 107.26084 \nL 677.191308 107.26084 \nz\n\" clip-path=\"url(#pd8c2d75469)\" style=\"fill: #254495\"/>\n   </g>\n   <g id=\"patch_244\">\n    <path d=\"M 679.983769 172.204139 \nL 680.382692 172.204139 \nL 680.382692 110.084462 \nL 679.983769 110.084462 \nz\n\" clip-path=\"url(#pd8c2d75469)\" style=\"fill: #254495\"/>\n   </g>\n   <g id=\"patch_245\">\n    <path d=\"M 682.776231 172.204139 \nL 683.175154 172.204139 \nL 683.175154 111.496272 \nL 682.776231 111.496272 \nz\n\" clip-path=\"url(#pd8c2d75469)\" style=\"fill: #254495\"/>\n   </g>\n   <g id=\"patch_246\">\n    <path d=\"M 685.568692 172.204139 \nL 685.967615 172.204139 \nL 685.967615 105.849029 \nL 685.568692 105.849029 \nz\n\" clip-path=\"url(#pd8c2d75469)\" style=\"fill: #254495\"/>\n   </g>\n   <g id=\"patch_247\">\n    <path d=\"M 688.361154 172.204139 \nL 688.760077 172.204139 \nL 688.760077 110.084462 \nL 688.361154 110.084462 \nz\n\" clip-path=\"url(#pd8c2d75469)\" style=\"fill: #254495\"/>\n   </g>\n   <g id=\"patch_248\">\n    <path d=\"M 691.153615 172.204139 \nL 691.552538 172.204139 \nL 691.552538 115.731705 \nL 691.153615 115.731705 \nz\n\" clip-path=\"url(#pd8c2d75469)\" style=\"fill: #254495\"/>\n   </g>\n   <g id=\"patch_249\">\n    <path d=\"M 693.946077 172.204139 \nL 694.345 172.204139 \nL 694.345 111.496272 \nL 693.946077 111.496272 \nz\n\" clip-path=\"url(#pd8c2d75469)\" style=\"fill: #254495\"/>\n   </g>\n   <g id=\"patch_250\">\n    <path d=\"M 696.738538 172.204139 \nL 697.137462 172.204139 \nL 697.137462 111.496272 \nL 696.738538 111.496272 \nz\n\" clip-path=\"url(#pd8c2d75469)\" style=\"fill: #254495\"/>\n   </g>\n   <g id=\"patch_251\">\n    <path d=\"M 699.531 172.204139 \nL 699.929923 172.204139 \nL 699.929923 110.084462 \nL 699.531 110.084462 \nz\n\" clip-path=\"url(#pd8c2d75469)\" style=\"fill: #254495\"/>\n   </g>\n   <g id=\"patch_252\">\n    <path d=\"M 702.323462 172.204139 \nL 702.722385 172.204139 \nL 702.722385 110.084462 \nL 702.323462 110.084462 \nz\n\" clip-path=\"url(#pd8c2d75469)\" style=\"fill: #254495\"/>\n   </g>\n   <g id=\"patch_253\">\n    <path d=\"M 705.115923 172.204139 \nL 705.514846 172.204139 \nL 705.514846 112.908083 \nL 705.115923 112.908083 \nz\n\" clip-path=\"url(#pd8c2d75469)\" style=\"fill: #254495\"/>\n   </g>\n   <g id=\"patch_254\">\n    <path d=\"M 707.908385 172.204139 \nL 708.307308 172.204139 \nL 708.307308 111.496272 \nL 707.908385 111.496272 \nz\n\" clip-path=\"url(#pd8c2d75469)\" style=\"fill: #254495\"/>\n   </g>\n   <g id=\"patch_255\">\n    <path d=\"M 710.700846 172.204139 \nL 711.099769 172.204139 \nL 711.099769 108.672651 \nL 710.700846 108.672651 \nz\n\" clip-path=\"url(#pd8c2d75469)\" style=\"fill: #254495\"/>\n   </g>\n   <g id=\"patch_256\">\n    <path d=\"M 713.493308 172.204139 \nL 713.892231 172.204139 \nL 713.892231 103.025407 \nL 713.493308 103.025407 \nz\n\" clip-path=\"url(#pd8c2d75469)\" style=\"fill: #254495\"/>\n   </g>\n   <g id=\"patch_257\">\n    <path d=\"M 716.285769 172.204139 \nL 716.684692 172.204139 \nL 716.684692 104.437218 \nL 716.285769 104.437218 \nz\n\" clip-path=\"url(#pd8c2d75469)\" style=\"fill: #254495\"/>\n   </g>\n   <g id=\"patch_258\">\n    <path d=\"M 719.078231 172.204139 \nL 719.477154 172.204139 \nL 719.477154 110.084462 \nL 719.078231 110.084462 \nz\n\" clip-path=\"url(#pd8c2d75469)\" style=\"fill: #254495\"/>\n   </g>\n   <g id=\"patch_259\">\n    <path d=\"M 721.870692 172.204139 \nL 722.269615 172.204139 \nL 722.269615 105.849029 \nL 721.870692 105.849029 \nz\n\" clip-path=\"url(#pd8c2d75469)\" style=\"fill: #254495\"/>\n   </g>\n   <g id=\"patch_260\">\n    <path d=\"M 724.663154 172.204139 \nL 725.062077 172.204139 \nL 725.062077 103.025407 \nL 724.663154 103.025407 \nz\n\" clip-path=\"url(#pd8c2d75469)\" style=\"fill: #254495\"/>\n   </g>\n   <g id=\"patch_261\">\n    <path d=\"M 727.455615 172.204139 \nL 727.854538 172.204139 \nL 727.854538 114.319894 \nL 727.455615 114.319894 \nz\n\" clip-path=\"url(#pd8c2d75469)\" style=\"fill: #254495\"/>\n   </g>\n   <g id=\"patch_262\">\n    <path d=\"M 730.248077 172.204139 \nL 730.647 172.204139 \nL 730.647 105.849029 \nL 730.248077 105.849029 \nz\n\" clip-path=\"url(#pd8c2d75469)\" style=\"fill: #254495\"/>\n   </g>\n   <g id=\"patch_263\">\n    <path d=\"M 733.040538 172.204139 \nL 733.439462 172.204139 \nL 733.439462 111.496272 \nL 733.040538 111.496272 \nz\n\" clip-path=\"url(#pd8c2d75469)\" style=\"fill: #254495\"/>\n   </g>\n   <g id=\"patch_264\">\n    <path d=\"M 733.140269 172.204139 \nL 733.339731 172.204139 \nL 733.339731 111.496272 \nL 733.140269 111.496272 \nz\n\" clip-path=\"url(#pd8c2d75469)\" style=\"fill: #c13246\"/>\n   </g>\n   <g id=\"matplotlib.axis_1\">\n    <g id=\"xtick_1\">\n     <g id=\"line2d_1\">\n      <path d=\"M 63.049231 172.204139 \nL 63.049231 23.964 \n\" clip-path=\"url(#pd8c2d75469)\" style=\"fill: none; stroke-dasharray: 0.4,0.66; stroke-dashoffset: 0; stroke: #0f0f0f; stroke-width: 0.4; stroke-linejoin: miter\"/>\n     </g>\n     <g id=\"line2d_2\">\n      <defs>\n       <path id=\"m60129bde69\" d=\"M 0 0 \nL 0 2 \n\" style=\"stroke: #0f0f0f; stroke-width: 0.2\"/>\n      </defs>\n      <g>\n       <use xlink:href=\"#m60129bde69\" x=\"63.049231\" y=\"172.204139\" style=\"fill: #0f0f0f; stroke: #0f0f0f; stroke-width: 0.2\"/>\n      </g>\n     </g>\n     <g id=\"text_1\">\n      <!-- 2018-07 -->\n      <g style=\"fill: #0f0f0f\" transform=\"translate(42.986493 192.300255) rotate(-10) scale(0.10829 -0.10829)\">\n       <defs>\n        <path id=\"Consolas-32\" d=\"M 3150 0 \nL 459 0 \nL 459 488 \nL 1516 1538 \nQ 1775 1794 1937 1981 \nQ 2100 2169 2190 2323 \nQ 2281 2478 2312 2615 \nQ 2344 2753 2344 2913 \nQ 2344 3063 2303 3198 \nQ 2263 3334 2178 3437 \nQ 2094 3541 1959 3600 \nQ 1825 3659 1638 3659 \nQ 1378 3659 1165 3543 \nQ 953 3428 775 3244 \nL 475 3603 \nQ 706 3847 1007 3994 \nQ 1309 4141 1709 4141 \nQ 1981 4141 2204 4059 \nQ 2428 3978 2590 3825 \nQ 2753 3672 2842 3450 \nQ 2931 3228 2931 2950 \nQ 2931 2716 2868 2516 \nQ 2806 2316 2679 2117 \nQ 2553 1919 2361 1706 \nQ 2169 1494 1906 1241 \nL 1166 519 \nL 3150 519 \nL 3150 0 \nz\n\" transform=\"scale(0.015625)\"/>\n        <path id=\"Consolas-30\" d=\"M 3244 2041 \nQ 3244 1572 3150 1186 \nQ 3056 800 2865 523 \nQ 2675 247 2392 95 \nQ 2109 -56 1728 -56 \nQ 1400 -56 1131 67 \nQ 863 191 672 447 \nQ 481 703 378 1100 \nQ 275 1497 275 2041 \nQ 275 2509 370 2896 \nQ 466 3284 655 3561 \nQ 844 3838 1128 3989 \nQ 1413 4141 1791 4141 \nQ 2119 4141 2387 4017 \nQ 2656 3894 2847 3636 \nQ 3038 3378 3141 2981 \nQ 3244 2584 3244 2041 \nz\nM 2694 2022 \nQ 2694 2128 2686 2233 \nQ 2678 2338 2669 2438 \nL 941 1153 \nQ 988 991 1059 853 \nQ 1131 716 1232 617 \nQ 1334 519 1464 464 \nQ 1594 409 1759 409 \nQ 1972 409 2145 512 \nQ 2319 616 2441 819 \nQ 2563 1022 2628 1323 \nQ 2694 1625 2694 2022 \nz\nM 825 2059 \nQ 825 1963 826 1866 \nQ 828 1769 838 1678 \nL 2566 2956 \nQ 2519 3116 2447 3247 \nQ 2375 3378 2275 3473 \nQ 2175 3569 2047 3622 \nQ 1919 3675 1759 3675 \nQ 1547 3675 1373 3572 \nQ 1200 3469 1078 3264 \nQ 956 3059 890 2757 \nQ 825 2456 825 2059 \nz\n\" transform=\"scale(0.015625)\"/>\n        <path id=\"Consolas-31\" d=\"M 3116 0 \nL 550 0 \nL 550 506 \nL 1600 506 \nL 1600 3488 \nL 622 2956 \nL 422 3419 \nL 1722 4103 \nL 2203 4103 \nL 2203 506 \nL 3116 506 \nL 3116 0 \nz\n\" transform=\"scale(0.015625)\"/>\n        <path id=\"Consolas-38\" d=\"M 3150 1025 \nQ 3150 766 3044 564 \nQ 2938 363 2747 225 \nQ 2556 88 2297 16 \nQ 2038 -56 1734 -56 \nQ 1400 -56 1145 19 \nQ 891 94 719 228 \nQ 547 363 459 547 \nQ 372 731 372 953 \nQ 372 1328 581 1600 \nQ 791 1872 1228 2094 \nQ 828 2297 643 2545 \nQ 459 2794 459 3116 \nQ 459 3313 540 3497 \nQ 622 3681 786 3825 \nQ 950 3969 1197 4055 \nQ 1444 4141 1778 4141 \nQ 2094 4141 2333 4073 \nQ 2572 4006 2734 3881 \nQ 2897 3756 2978 3578 \nQ 3059 3400 3059 3181 \nQ 3059 2825 2861 2575 \nQ 2663 2325 2297 2138 \nQ 2478 2047 2634 1937 \nQ 2791 1828 2906 1693 \nQ 3022 1559 3086 1393 \nQ 3150 1228 3150 1025 \nz\nM 2503 3138 \nQ 2503 3416 2308 3552 \nQ 2113 3688 1759 3688 \nQ 1409 3688 1214 3553 \nQ 1019 3419 1019 3150 \nQ 1019 3028 1066 2925 \nQ 1113 2822 1211 2731 \nQ 1309 2641 1456 2553 \nQ 1603 2466 1806 2375 \nQ 2159 2541 2331 2720 \nQ 2503 2900 2503 3138 \nz\nM 2559 984 \nQ 2559 1100 2521 1209 \nQ 2484 1319 2387 1425 \nQ 2291 1531 2128 1637 \nQ 1966 1744 1716 1856 \nQ 1503 1753 1358 1651 \nQ 1213 1550 1123 1445 \nQ 1034 1341 996 1228 \nQ 959 1116 959 991 \nQ 959 850 1020 742 \nQ 1081 634 1187 559 \nQ 1294 484 1441 446 \nQ 1588 409 1759 409 \nQ 1925 409 2072 443 \nQ 2219 478 2326 548 \nQ 2434 619 2496 726 \nQ 2559 834 2559 984 \nz\n\" transform=\"scale(0.015625)\"/>\n        <path id=\"Consolas-2d\" d=\"M 2694 1447 \nL 825 1447 \nL 825 1959 \nL 2694 1959 \nL 2694 1447 \nz\n\" transform=\"scale(0.015625)\"/>\n        <path id=\"Consolas-37\" d=\"M 3128 3578 \nL 1416 0 \nL 794 0 \nL 2572 3578 \nL 366 3578 \nL 366 4084 \nL 3128 4084 \nL 3128 3578 \nz\n\" transform=\"scale(0.015625)\"/>\n       </defs>\n       <use xlink:href=\"#Consolas-32\"/>\n       <use xlink:href=\"#Consolas-30\" x=\"54.980469\"/>\n       <use xlink:href=\"#Consolas-31\" x=\"109.960938\"/>\n       <use xlink:href=\"#Consolas-38\" x=\"164.941406\"/>\n       <use xlink:href=\"#Consolas-2d\" x=\"219.921875\"/>\n       <use xlink:href=\"#Consolas-30\" x=\"274.902344\"/>\n       <use xlink:href=\"#Consolas-37\" x=\"329.882812\"/>\n      </g>\n     </g>\n    </g>\n    <g id=\"xtick_2\">\n     <g id=\"line2d_3\">\n      <path d=\"M 136.451077 172.204139 \nL 136.451077 23.964 \n\" clip-path=\"url(#pd8c2d75469)\" style=\"fill: none; stroke-dasharray: 0.4,0.66; stroke-dashoffset: 0; stroke: #0f0f0f; stroke-width: 0.4; stroke-linejoin: miter\"/>\n     </g>\n     <g id=\"line2d_4\">\n      <g>\n       <use xlink:href=\"#m60129bde69\" x=\"136.451077\" y=\"172.204139\" style=\"fill: #0f0f0f; stroke: #0f0f0f; stroke-width: 0.2\"/>\n      </g>\n     </g>\n     <g id=\"text_2\">\n      <!-- 2019-01 -->\n      <g style=\"fill: #0f0f0f\" transform=\"translate(116.388339 192.300255) rotate(-10) scale(0.10829 -0.10829)\">\n       <defs>\n        <path id=\"Consolas-39\" d=\"M 3128 2272 \nQ 3128 1675 2984 1245 \nQ 2841 816 2559 539 \nQ 2278 263 1862 131 \nQ 1447 0 903 0 \nL 563 0 \nL 563 475 \nL 941 475 \nQ 1344 475 1637 556 \nQ 1931 638 2126 795 \nQ 2322 953 2425 1179 \nQ 2528 1406 2553 1697 \nL 2566 1825 \nQ 2369 1709 2112 1639 \nQ 1856 1569 1556 1569 \nQ 1247 1569 1012 1659 \nQ 778 1750 623 1912 \nQ 469 2075 391 2298 \nQ 313 2522 313 2784 \nQ 313 3069 416 3316 \nQ 519 3563 705 3745 \nQ 891 3928 1150 4034 \nQ 1409 4141 1722 4141 \nQ 2025 4141 2283 4041 \nQ 2541 3941 2728 3717 \nQ 2916 3494 3022 3137 \nQ 3128 2781 3128 2272 \nz\nM 1697 3694 \nQ 1522 3694 1373 3636 \nQ 1225 3578 1117 3467 \nQ 1009 3356 946 3193 \nQ 884 3031 884 2822 \nQ 884 2631 929 2481 \nQ 975 2331 1070 2226 \nQ 1166 2122 1316 2065 \nQ 1466 2009 1672 2009 \nQ 1788 2009 1911 2031 \nQ 2034 2053 2151 2090 \nQ 2269 2128 2375 2178 \nQ 2481 2228 2566 2284 \nQ 2566 2688 2506 2958 \nQ 2447 3228 2334 3392 \nQ 2222 3556 2061 3625 \nQ 1900 3694 1697 3694 \nz\n\" transform=\"scale(0.015625)\"/>\n       </defs>\n       <use xlink:href=\"#Consolas-32\"/>\n       <use xlink:href=\"#Consolas-30\" x=\"54.980469\"/>\n       <use xlink:href=\"#Consolas-31\" x=\"109.960938\"/>\n       <use xlink:href=\"#Consolas-39\" x=\"164.941406\"/>\n       <use xlink:href=\"#Consolas-2d\" x=\"219.921875\"/>\n       <use xlink:href=\"#Consolas-30\" x=\"274.902344\"/>\n       <use xlink:href=\"#Consolas-31\" x=\"329.882812\"/>\n      </g>\n     </g>\n    </g>\n    <g id=\"xtick_3\">\n     <g id=\"line2d_5\">\n      <path d=\"M 208.656154 172.204139 \nL 208.656154 23.964 \n\" clip-path=\"url(#pd8c2d75469)\" style=\"fill: none; stroke-dasharray: 0.4,0.66; stroke-dashoffset: 0; stroke: #0f0f0f; stroke-width: 0.4; stroke-linejoin: miter\"/>\n     </g>\n     <g id=\"line2d_6\">\n      <g>\n       <use xlink:href=\"#m60129bde69\" x=\"208.656154\" y=\"172.204139\" style=\"fill: #0f0f0f; stroke: #0f0f0f; stroke-width: 0.2\"/>\n      </g>\n     </g>\n     <g id=\"text_3\">\n      <!-- 2019-07 -->\n      <g style=\"fill: #0f0f0f\" transform=\"translate(188.593416 192.300255) rotate(-10) scale(0.10829 -0.10829)\">\n       <use xlink:href=\"#Consolas-32\"/>\n       <use xlink:href=\"#Consolas-30\" x=\"54.980469\"/>\n       <use xlink:href=\"#Consolas-31\" x=\"109.960938\"/>\n       <use xlink:href=\"#Consolas-39\" x=\"164.941406\"/>\n       <use xlink:href=\"#Consolas-2d\" x=\"219.921875\"/>\n       <use xlink:href=\"#Consolas-30\" x=\"274.902344\"/>\n       <use xlink:href=\"#Consolas-37\" x=\"329.882812\"/>\n      </g>\n     </g>\n    </g>\n    <g id=\"xtick_4\">\n     <g id=\"line2d_7\">\n      <path d=\"M 282.058 172.204139 \nL 282.058 23.964 \n\" clip-path=\"url(#pd8c2d75469)\" style=\"fill: none; stroke-dasharray: 0.4,0.66; stroke-dashoffset: 0; stroke: #0f0f0f; stroke-width: 0.4; stroke-linejoin: miter\"/>\n     </g>\n     <g id=\"line2d_8\">\n      <g>\n       <use xlink:href=\"#m60129bde69\" x=\"282.058\" y=\"172.204139\" style=\"fill: #0f0f0f; stroke: #0f0f0f; stroke-width: 0.2\"/>\n      </g>\n     </g>\n     <g id=\"text_4\">\n      <!-- 2020-01 -->\n      <g style=\"fill: #0f0f0f\" transform=\"translate(261.995262 192.300255) rotate(-10) scale(0.10829 -0.10829)\">\n       <use xlink:href=\"#Consolas-32\"/>\n       <use xlink:href=\"#Consolas-30\" x=\"54.980469\"/>\n       <use xlink:href=\"#Consolas-32\" x=\"109.960938\"/>\n       <use xlink:href=\"#Consolas-30\" x=\"164.941406\"/>\n       <use xlink:href=\"#Consolas-2d\" x=\"219.921875\"/>\n       <use xlink:href=\"#Consolas-30\" x=\"274.902344\"/>\n       <use xlink:href=\"#Consolas-31\" x=\"329.882812\"/>\n      </g>\n     </g>\n    </g>\n    <g id=\"xtick_5\">\n     <g id=\"line2d_9\">\n      <path d=\"M 354.662 172.204139 \nL 354.662 23.964 \n\" clip-path=\"url(#pd8c2d75469)\" style=\"fill: none; stroke-dasharray: 0.4,0.66; stroke-dashoffset: 0; stroke: #0f0f0f; stroke-width: 0.4; stroke-linejoin: miter\"/>\n     </g>\n     <g id=\"line2d_10\">\n      <g>\n       <use xlink:href=\"#m60129bde69\" x=\"354.662\" y=\"172.204139\" style=\"fill: #0f0f0f; stroke: #0f0f0f; stroke-width: 0.2\"/>\n      </g>\n     </g>\n     <g id=\"text_5\">\n      <!-- 2020-07 -->\n      <g style=\"fill: #0f0f0f\" transform=\"translate(334.599262 192.300255) rotate(-10) scale(0.10829 -0.10829)\">\n       <use xlink:href=\"#Consolas-32\"/>\n       <use xlink:href=\"#Consolas-30\" x=\"54.980469\"/>\n       <use xlink:href=\"#Consolas-32\" x=\"109.960938\"/>\n       <use xlink:href=\"#Consolas-30\" x=\"164.941406\"/>\n       <use xlink:href=\"#Consolas-2d\" x=\"219.921875\"/>\n       <use xlink:href=\"#Consolas-30\" x=\"274.902344\"/>\n       <use xlink:href=\"#Consolas-37\" x=\"329.882812\"/>\n      </g>\n     </g>\n    </g>\n    <g id=\"xtick_6\">\n     <g id=\"line2d_11\">\n      <path d=\"M 428.063846 172.204139 \nL 428.063846 23.964 \n\" clip-path=\"url(#pd8c2d75469)\" style=\"fill: none; stroke-dasharray: 0.4,0.66; stroke-dashoffset: 0; stroke: #0f0f0f; stroke-width: 0.4; stroke-linejoin: miter\"/>\n     </g>\n     <g id=\"line2d_12\">\n      <g>\n       <use xlink:href=\"#m60129bde69\" x=\"428.063846\" y=\"172.204139\" style=\"fill: #0f0f0f; stroke: #0f0f0f; stroke-width: 0.2\"/>\n      </g>\n     </g>\n     <g id=\"text_6\">\n      <!-- 2021-01 -->\n      <g style=\"fill: #0f0f0f\" transform=\"translate(408.001108 192.300255) rotate(-10) scale(0.10829 -0.10829)\">\n       <use xlink:href=\"#Consolas-32\"/>\n       <use xlink:href=\"#Consolas-30\" x=\"54.980469\"/>\n       <use xlink:href=\"#Consolas-32\" x=\"109.960938\"/>\n       <use xlink:href=\"#Consolas-31\" x=\"164.941406\"/>\n       <use xlink:href=\"#Consolas-2d\" x=\"219.921875\"/>\n       <use xlink:href=\"#Consolas-30\" x=\"274.902344\"/>\n       <use xlink:href=\"#Consolas-31\" x=\"329.882812\"/>\n      </g>\n     </g>\n    </g>\n    <g id=\"xtick_7\">\n     <g id=\"line2d_13\">\n      <path d=\"M 500.268923 172.204139 \nL 500.268923 23.964 \n\" clip-path=\"url(#pd8c2d75469)\" style=\"fill: none; stroke-dasharray: 0.4,0.66; stroke-dashoffset: 0; stroke: #0f0f0f; stroke-width: 0.4; stroke-linejoin: miter\"/>\n     </g>\n     <g id=\"line2d_14\">\n      <g>\n       <use xlink:href=\"#m60129bde69\" x=\"500.268923\" y=\"172.204139\" style=\"fill: #0f0f0f; stroke: #0f0f0f; stroke-width: 0.2\"/>\n      </g>\n     </g>\n     <g id=\"text_7\">\n      <!-- 2021-07 -->\n      <g style=\"fill: #0f0f0f\" transform=\"translate(480.206185 192.300255) rotate(-10) scale(0.10829 -0.10829)\">\n       <use xlink:href=\"#Consolas-32\"/>\n       <use xlink:href=\"#Consolas-30\" x=\"54.980469\"/>\n       <use xlink:href=\"#Consolas-32\" x=\"109.960938\"/>\n       <use xlink:href=\"#Consolas-31\" x=\"164.941406\"/>\n       <use xlink:href=\"#Consolas-2d\" x=\"219.921875\"/>\n       <use xlink:href=\"#Consolas-30\" x=\"274.902344\"/>\n       <use xlink:href=\"#Consolas-37\" x=\"329.882812\"/>\n      </g>\n     </g>\n    </g>\n    <g id=\"xtick_8\">\n     <g id=\"line2d_15\">\n      <path d=\"M 573.670769 172.204139 \nL 573.670769 23.964 \n\" clip-path=\"url(#pd8c2d75469)\" style=\"fill: none; stroke-dasharray: 0.4,0.66; stroke-dashoffset: 0; stroke: #0f0f0f; stroke-width: 0.4; stroke-linejoin: miter\"/>\n     </g>\n     <g id=\"line2d_16\">\n      <g>\n       <use xlink:href=\"#m60129bde69\" x=\"573.670769\" y=\"172.204139\" style=\"fill: #0f0f0f; stroke: #0f0f0f; stroke-width: 0.2\"/>\n      </g>\n     </g>\n     <g id=\"text_8\">\n      <!-- 2022-01 -->\n      <g style=\"fill: #0f0f0f\" transform=\"translate(553.608031 192.300255) rotate(-10) scale(0.10829 -0.10829)\">\n       <use xlink:href=\"#Consolas-32\"/>\n       <use xlink:href=\"#Consolas-30\" x=\"54.980469\"/>\n       <use xlink:href=\"#Consolas-32\" x=\"109.960938\"/>\n       <use xlink:href=\"#Consolas-32\" x=\"164.941406\"/>\n       <use xlink:href=\"#Consolas-2d\" x=\"219.921875\"/>\n       <use xlink:href=\"#Consolas-30\" x=\"274.902344\"/>\n       <use xlink:href=\"#Consolas-31\" x=\"329.882812\"/>\n      </g>\n     </g>\n    </g>\n    <g id=\"xtick_9\">\n     <g id=\"line2d_17\">\n      <path d=\"M 645.875846 172.204139 \nL 645.875846 23.964 \n\" clip-path=\"url(#pd8c2d75469)\" style=\"fill: none; stroke-dasharray: 0.4,0.66; stroke-dashoffset: 0; stroke: #0f0f0f; stroke-width: 0.4; stroke-linejoin: miter\"/>\n     </g>\n     <g id=\"line2d_18\">\n      <g>\n       <use xlink:href=\"#m60129bde69\" x=\"645.875846\" y=\"172.204139\" style=\"fill: #0f0f0f; stroke: #0f0f0f; stroke-width: 0.2\"/>\n      </g>\n     </g>\n     <g id=\"text_9\">\n      <!-- 2022-07 -->\n      <g style=\"fill: #0f0f0f\" transform=\"translate(625.813108 192.300255) rotate(-10) scale(0.10829 -0.10829)\">\n       <use xlink:href=\"#Consolas-32\"/>\n       <use xlink:href=\"#Consolas-30\" x=\"54.980469\"/>\n       <use xlink:href=\"#Consolas-32\" x=\"109.960938\"/>\n       <use xlink:href=\"#Consolas-32\" x=\"164.941406\"/>\n       <use xlink:href=\"#Consolas-2d\" x=\"219.921875\"/>\n       <use xlink:href=\"#Consolas-30\" x=\"274.902344\"/>\n       <use xlink:href=\"#Consolas-37\" x=\"329.882812\"/>\n      </g>\n     </g>\n    </g>\n    <g id=\"xtick_10\">\n     <g id=\"line2d_19\">\n      <path d=\"M 719.277692 172.204139 \nL 719.277692 23.964 \n\" clip-path=\"url(#pd8c2d75469)\" style=\"fill: none; stroke-dasharray: 0.4,0.66; stroke-dashoffset: 0; stroke: #0f0f0f; stroke-width: 0.4; stroke-linejoin: miter\"/>\n     </g>\n     <g id=\"line2d_20\">\n      <g>\n       <use xlink:href=\"#m60129bde69\" x=\"719.277692\" y=\"172.204139\" style=\"fill: #0f0f0f; stroke: #0f0f0f; stroke-width: 0.2\"/>\n      </g>\n     </g>\n     <g id=\"text_10\">\n      <!-- 2023-01 -->\n      <g style=\"fill: #0f0f0f\" transform=\"translate(699.214954 192.300255) rotate(-10) scale(0.10829 -0.10829)\">\n       <defs>\n        <path id=\"Consolas-33\" d=\"M 3072 1241 \nQ 3072 972 2962 736 \nQ 2853 500 2634 323 \nQ 2416 147 2084 45 \nQ 1753 -56 1313 -56 \nQ 1069 -56 875 -40 \nQ 681 -25 513 0 \nL 513 488 \nQ 706 453 922 434 \nQ 1138 416 1363 416 \nQ 1669 416 1886 470 \nQ 2103 525 2240 628 \nQ 2378 731 2440 878 \nQ 2503 1025 2503 1209 \nQ 2503 1378 2428 1503 \nQ 2353 1628 2217 1712 \nQ 2081 1797 1892 1839 \nQ 1703 1881 1478 1881 \nL 1013 1881 \nL 1013 2328 \nL 1484 2328 \nQ 1669 2328 1820 2376 \nQ 1972 2425 2080 2515 \nQ 2188 2606 2245 2739 \nQ 2303 2872 2303 3041 \nQ 2303 3369 2103 3519 \nQ 1903 3669 1516 3669 \nQ 1309 3669 1090 3628 \nQ 872 3588 622 3506 \nL 622 3981 \nQ 728 4019 848 4048 \nQ 969 4078 1089 4098 \nQ 1209 4119 1328 4130 \nQ 1447 4141 1556 4141 \nQ 1881 4141 2128 4070 \nQ 2375 4000 2540 3869 \nQ 2706 3738 2790 3550 \nQ 2875 3363 2875 3128 \nQ 2875 2778 2695 2540 \nQ 2516 2303 2203 2163 \nQ 2363 2138 2517 2063 \nQ 2672 1988 2795 1870 \nQ 2919 1753 2995 1593 \nQ 3072 1434 3072 1241 \nz\n\" transform=\"scale(0.015625)\"/>\n       </defs>\n       <use xlink:href=\"#Consolas-32\"/>\n       <use xlink:href=\"#Consolas-30\" x=\"54.980469\"/>\n       <use xlink:href=\"#Consolas-32\" x=\"109.960938\"/>\n       <use xlink:href=\"#Consolas-33\" x=\"164.941406\"/>\n       <use xlink:href=\"#Consolas-2d\" x=\"219.921875\"/>\n       <use xlink:href=\"#Consolas-30\" x=\"274.902344\"/>\n       <use xlink:href=\"#Consolas-31\" x=\"329.882812\"/>\n      </g>\n     </g>\n    </g>\n   </g>\n   <g id=\"matplotlib.axis_2\">\n    <g id=\"ytick_1\">\n     <g id=\"line2d_21\">\n      <path d=\"M 7.2 172.204139 \nL 733.24 172.204139 \n\" clip-path=\"url(#pd8c2d75469)\" style=\"fill: none; stroke-dasharray: 0.4,0.66; stroke-dashoffset: 0; stroke: #0f0f0f; stroke-width: 0.4; stroke-linejoin: miter\"/>\n     </g>\n     <g id=\"line2d_22\">\n      <defs>\n       <path id=\"m4605acea03\" d=\"M 0 0 \nL 2 0 \n\" style=\"stroke: #0f0f0f; stroke-width: 0.2\"/>\n      </defs>\n      <g>\n       <use xlink:href=\"#m4605acea03\" x=\"733.24\" y=\"172.204139\" style=\"fill: #0f0f0f; stroke: #0f0f0f; stroke-width: 0.2\"/>\n      </g>\n     </g>\n     <g id=\"text_11\">\n      <!-- 0 -->\n      <g style=\"fill: #0f0f0f\" transform=\"translate(738.74 175.940144) scale(0.10829 -0.10829)\">\n       <use xlink:href=\"#Consolas-30\"/>\n      </g>\n     </g>\n    </g>\n    <g id=\"ytick_2\">\n     <g id=\"line2d_23\">\n      <path d=\"M 7.2 143.967922 \nL 733.24 143.967922 \n\" clip-path=\"url(#pd8c2d75469)\" style=\"fill: none; stroke-dasharray: 0.4,0.66; stroke-dashoffset: 0; stroke: #0f0f0f; stroke-width: 0.4; stroke-linejoin: miter\"/>\n     </g>\n     <g id=\"line2d_24\">\n      <g>\n       <use xlink:href=\"#m4605acea03\" x=\"733.24\" y=\"143.967922\" style=\"fill: #0f0f0f; stroke: #0f0f0f; stroke-width: 0.2\"/>\n      </g>\n     </g>\n     <g id=\"text_12\">\n      <!-- 20 -->\n      <g style=\"fill: #0f0f0f\" transform=\"translate(738.74 147.703927) scale(0.10829 -0.10829)\">\n       <use xlink:href=\"#Consolas-32\"/>\n       <use xlink:href=\"#Consolas-30\" x=\"54.980469\"/>\n      </g>\n     </g>\n    </g>\n    <g id=\"ytick_3\">\n     <g id=\"line2d_25\">\n      <path d=\"M 7.2 115.731705 \nL 733.24 115.731705 \n\" clip-path=\"url(#pd8c2d75469)\" style=\"fill: none; stroke-dasharray: 0.4,0.66; stroke-dashoffset: 0; stroke: #0f0f0f; stroke-width: 0.4; stroke-linejoin: miter\"/>\n     </g>\n     <g id=\"line2d_26\">\n      <g>\n       <use xlink:href=\"#m4605acea03\" x=\"733.24\" y=\"115.731705\" style=\"fill: #0f0f0f; stroke: #0f0f0f; stroke-width: 0.2\"/>\n      </g>\n     </g>\n     <g id=\"text_13\">\n      <!-- 40 -->\n      <g style=\"fill: #0f0f0f\" transform=\"translate(738.74 119.46771) scale(0.10829 -0.10829)\">\n       <defs>\n        <path id=\"Consolas-34\" d=\"M 3353 903 \nL 2656 903 \nL 2656 0 \nL 2100 0 \nL 2100 903 \nL 134 903 \nL 134 1381 \nL 1875 4084 \nL 2656 4084 \nL 2656 1381 \nL 3353 1381 \nL 3353 903 \nz\nM 2100 3559 \nL 678 1381 \nL 2100 1381 \nL 2100 3559 \nz\n\" transform=\"scale(0.015625)\"/>\n       </defs>\n       <use xlink:href=\"#Consolas-34\"/>\n       <use xlink:href=\"#Consolas-30\" x=\"54.980469\"/>\n      </g>\n     </g>\n    </g>\n    <g id=\"ytick_4\">\n     <g id=\"line2d_27\">\n      <path d=\"M 7.2 87.495488 \nL 733.24 87.495488 \n\" clip-path=\"url(#pd8c2d75469)\" style=\"fill: none; stroke-dasharray: 0.4,0.66; stroke-dashoffset: 0; stroke: #0f0f0f; stroke-width: 0.4; stroke-linejoin: miter\"/>\n     </g>\n     <g id=\"line2d_28\">\n      <g>\n       <use xlink:href=\"#m4605acea03\" x=\"733.24\" y=\"87.495488\" style=\"fill: #0f0f0f; stroke: #0f0f0f; stroke-width: 0.2\"/>\n      </g>\n     </g>\n     <g id=\"text_14\">\n      <!-- 60 -->\n      <g style=\"fill: #0f0f0f\" transform=\"translate(738.74 91.231493) scale(0.10829 -0.10829)\">\n       <defs>\n        <path id=\"Consolas-36\" d=\"M 3200 1294 \nQ 3200 1013 3098 766 \nQ 2997 519 2809 336 \nQ 2622 153 2358 48 \nQ 2094 -56 1772 -56 \nQ 1434 -56 1175 51 \nQ 916 159 741 382 \nQ 566 606 475 947 \nQ 384 1288 384 1753 \nQ 384 2066 425 2359 \nQ 466 2653 559 2912 \nQ 653 3172 809 3387 \nQ 966 3603 1198 3758 \nQ 1431 3913 1747 3998 \nQ 2063 4084 2478 4084 \nL 2881 4084 \nL 2881 3609 \nL 2444 3609 \nQ 2078 3609 1809 3521 \nQ 1541 3434 1359 3275 \nQ 1178 3116 1081 2891 \nQ 984 2666 959 2388 \nL 947 2259 \nQ 1144 2375 1401 2445 \nQ 1659 2516 1959 2516 \nQ 2269 2516 2501 2425 \nQ 2734 2334 2889 2173 \nQ 3044 2013 3122 1788 \nQ 3200 1563 3200 1294 \nz\nM 2631 1259 \nQ 2631 1447 2586 1598 \nQ 2541 1750 2444 1854 \nQ 2347 1959 2198 2017 \nQ 2050 2075 1844 2075 \nQ 1725 2075 1603 2053 \nQ 1481 2031 1364 1992 \nQ 1247 1953 1140 1903 \nQ 1034 1853 947 1797 \nQ 947 1394 1003 1123 \nQ 1059 853 1170 690 \nQ 1281 528 1443 459 \nQ 1606 391 1819 391 \nQ 1997 391 2145 448 \nQ 2294 506 2401 618 \nQ 2509 731 2570 892 \nQ 2631 1053 2631 1259 \nz\n\" transform=\"scale(0.015625)\"/>\n       </defs>\n       <use xlink:href=\"#Consolas-36\"/>\n       <use xlink:href=\"#Consolas-30\" x=\"54.980469\"/>\n      </g>\n     </g>\n    </g>\n    <g id=\"ytick_5\">\n     <g id=\"line2d_29\">\n      <path d=\"M 7.2 59.259271 \nL 733.24 59.259271 \n\" clip-path=\"url(#pd8c2d75469)\" style=\"fill: none; stroke-dasharray: 0.4,0.66; stroke-dashoffset: 0; stroke: #0f0f0f; stroke-width: 0.4; stroke-linejoin: miter\"/>\n     </g>\n     <g id=\"line2d_30\">\n      <g>\n       <use xlink:href=\"#m4605acea03\" x=\"733.24\" y=\"59.259271\" style=\"fill: #0f0f0f; stroke: #0f0f0f; stroke-width: 0.2\"/>\n      </g>\n     </g>\n     <g id=\"text_15\">\n      <!-- 80 -->\n      <g style=\"fill: #0f0f0f\" transform=\"translate(738.74 62.995276) scale(0.10829 -0.10829)\">\n       <use xlink:href=\"#Consolas-38\"/>\n       <use xlink:href=\"#Consolas-30\" x=\"54.980469\"/>\n      </g>\n     </g>\n    </g>\n    <g id=\"ytick_6\">\n     <g id=\"line2d_31\">\n      <path d=\"M 7.2 31.023054 \nL 733.24 31.023054 \n\" clip-path=\"url(#pd8c2d75469)\" style=\"fill: none; stroke-dasharray: 0.4,0.66; stroke-dashoffset: 0; stroke: #0f0f0f; stroke-width: 0.4; stroke-linejoin: miter\"/>\n     </g>\n     <g id=\"line2d_32\">\n      <g>\n       <use xlink:href=\"#m4605acea03\" x=\"733.24\" y=\"31.023054\" style=\"fill: #0f0f0f; stroke: #0f0f0f; stroke-width: 0.2\"/>\n      </g>\n     </g>\n     <g id=\"text_16\">\n      <!-- 100 -->\n      <g style=\"fill: #0f0f0f\" transform=\"translate(738.74 34.759059) scale(0.10829 -0.10829)\">\n       <use xlink:href=\"#Consolas-31\"/>\n       <use xlink:href=\"#Consolas-30\" x=\"54.980469\"/>\n       <use xlink:href=\"#Consolas-30\" x=\"109.960938\"/>\n      </g>\n     </g>\n    </g>\n    <g id=\"text_17\">\n     <!-- Interest [%] -->\n     <g style=\"fill: #0f0f0f\" transform=\"translate(768.259215 133.809617) rotate(-90) scale(0.10829 -0.10829)\">\n      <defs>\n       <path id=\"Consolas-49\" d=\"M 1478 3616 \nL 538 3616 \nL 538 4084 \nL 2981 4084 \nL 2981 3616 \nL 2041 3616 \nL 2041 475 \nL 2981 475 \nL 2981 0 \nL 538 0 \nL 538 475 \nL 1478 475 \nL 1478 3616 \nz\n\" transform=\"scale(0.015625)\"/>\n       <path id=\"Consolas-6e\" d=\"M 500 3138 \nL 984 3138 \nL 1006 2631 \nQ 1144 2794 1272 2901 \nQ 1400 3009 1523 3075 \nQ 1647 3141 1775 3167 \nQ 1903 3194 2041 3194 \nQ 2525 3194 2773 2908 \nQ 3022 2622 3022 2047 \nL 3022 0 \nL 2478 0 \nL 2478 2003 \nQ 2478 2372 2340 2548 \nQ 2203 2725 1931 2725 \nQ 1831 2725 1736 2695 \nQ 1641 2666 1537 2592 \nQ 1434 2519 1314 2394 \nQ 1194 2269 1044 2081 \nL 1044 0 \nL 500 0 \nL 500 3138 \nz\n\" transform=\"scale(0.015625)\"/>\n       <path id=\"Consolas-74\" d=\"M 3028 44 \nQ 2844 -3 2647 -23 \nQ 2450 -44 2247 -44 \nQ 1656 -44 1365 223 \nQ 1075 491 1075 1044 \nL 1075 2681 \nL 197 2681 \nL 197 3138 \nL 1075 3138 \nL 1075 4000 \nL 1619 4141 \nL 1619 3138 \nL 3028 3138 \nL 3028 2681 \nL 1619 2681 \nL 1619 1088 \nQ 1619 750 1798 583 \nQ 1978 416 2328 416 \nQ 2478 416 2656 439 \nQ 2834 463 3028 513 \nL 3028 44 \nz\n\" transform=\"scale(0.015625)\"/>\n       <path id=\"Consolas-65\" d=\"M 3150 1734 \nQ 3150 1619 3147 1541 \nQ 3144 1463 3138 1394 \nL 934 1394 \nQ 934 913 1203 655 \nQ 1472 397 1978 397 \nQ 2116 397 2253 408 \nQ 2391 419 2519 437 \nQ 2647 456 2764 479 \nQ 2881 503 2981 531 \nL 2981 84 \nQ 2759 22 2479 -17 \nQ 2200 -56 1900 -56 \nQ 1497 -56 1206 53 \nQ 916 163 730 370 \nQ 544 578 455 879 \nQ 366 1181 366 1563 \nQ 366 1894 461 2189 \nQ 556 2484 739 2707 \nQ 922 2931 1187 3062 \nQ 1453 3194 1791 3194 \nQ 2119 3194 2372 3091 \nQ 2625 2988 2798 2798 \nQ 2972 2609 3061 2339 \nQ 3150 2069 3150 1734 \nz\nM 2584 1813 \nQ 2594 2022 2544 2195 \nQ 2494 2369 2389 2494 \nQ 2284 2619 2128 2689 \nQ 1972 2759 1766 2759 \nQ 1588 2759 1441 2690 \nQ 1294 2622 1187 2497 \nQ 1081 2372 1015 2197 \nQ 950 2022 934 1813 \nL 2584 1813 \nz\n\" transform=\"scale(0.015625)\"/>\n       <path id=\"Consolas-72\" d=\"M 628 3138 \nL 1125 3138 \nL 1141 2559 \nQ 1419 2894 1689 3044 \nQ 1959 3194 2234 3194 \nQ 2722 3194 2973 2878 \nQ 3225 2563 3206 1941 \nL 2656 1941 \nQ 2666 2353 2536 2539 \nQ 2406 2725 2156 2725 \nQ 2047 2725 1936 2686 \nQ 1825 2647 1708 2561 \nQ 1591 2475 1459 2340 \nQ 1328 2206 1178 2016 \nL 1178 0 \nL 628 0 \nL 628 3138 \nz\n\" transform=\"scale(0.015625)\"/>\n       <path id=\"Consolas-73\" d=\"M 2984 856 \nQ 2984 691 2928 559 \nQ 2872 428 2775 326 \nQ 2678 225 2550 153 \nQ 2422 81 2276 34 \nQ 2131 -13 1978 -34 \nQ 1825 -56 1678 -56 \nQ 1359 -56 1092 -28 \nQ 825 0 569 63 \nL 569 563 \nQ 844 484 1116 443 \nQ 1388 403 1656 403 \nQ 2047 403 2234 509 \nQ 2422 616 2422 813 \nQ 2422 897 2392 964 \nQ 2363 1031 2284 1092 \nQ 2206 1153 2042 1218 \nQ 1878 1284 1594 1369 \nQ 1381 1431 1201 1511 \nQ 1022 1591 890 1700 \nQ 759 1809 684 1956 \nQ 609 2103 609 2303 \nQ 609 2434 670 2590 \nQ 731 2747 878 2881 \nQ 1025 3016 1275 3105 \nQ 1525 3194 1900 3194 \nQ 2084 3194 2309 3173 \nQ 2534 3153 2778 3103 \nL 2778 2619 \nQ 2522 2681 2292 2711 \nQ 2063 2741 1894 2741 \nQ 1691 2741 1552 2709 \nQ 1413 2678 1327 2623 \nQ 1241 2569 1203 2495 \nQ 1166 2422 1166 2338 \nQ 1166 2253 1198 2184 \nQ 1231 2116 1320 2052 \nQ 1409 1988 1568 1923 \nQ 1728 1859 1984 1784 \nQ 2263 1703 2453 1614 \nQ 2644 1525 2762 1415 \nQ 2881 1306 2932 1168 \nQ 2984 1031 2984 856 \nz\n\" transform=\"scale(0.015625)\"/>\n       <path id=\"Consolas-20\" transform=\"scale(0.015625)\"/>\n       <path id=\"Consolas-5b\" d=\"M 2619 -1281 \nL 1078 -1281 \nL 1078 4525 \nL 2619 4525 \nL 2619 4088 \nL 1597 4088 \nL 1597 -844 \nL 2619 -844 \nL 2619 -1281 \nz\n\" transform=\"scale(0.015625)\"/>\n       <path id=\"Consolas-25\" d=\"M 3456 4416 \nL 575 0 \nL 63 0 \nL 2938 4416 \nL 3456 4416 \nz\nM 1791 3541 \nQ 1791 3338 1731 3164 \nQ 1672 2991 1561 2864 \nQ 1450 2738 1292 2664 \nQ 1134 2591 941 2591 \nQ 750 2591 598 2650 \nQ 447 2709 339 2826 \nQ 231 2944 173 3116 \nQ 116 3288 116 3513 \nQ 116 3713 175 3886 \nQ 234 4059 345 4187 \nQ 456 4316 614 4387 \nQ 772 4459 966 4459 \nQ 1156 4459 1307 4400 \nQ 1459 4341 1567 4225 \nQ 1675 4109 1733 3937 \nQ 1791 3766 1791 3541 \nz\nM 1331 3525 \nQ 1331 3800 1231 3931 \nQ 1131 4063 953 4063 \nQ 863 4063 792 4022 \nQ 722 3981 673 3909 \nQ 625 3838 600 3739 \nQ 575 3641 575 3525 \nQ 575 3250 675 3119 \nQ 775 2988 953 2988 \nQ 1044 2988 1114 3028 \nQ 1184 3069 1232 3141 \nQ 1281 3213 1306 3311 \nQ 1331 3409 1331 3525 \nz\nM 3406 903 \nQ 3406 700 3345 528 \nQ 3284 356 3173 228 \nQ 3063 100 2905 28 \nQ 2747 -44 2553 -44 \nQ 2363 -44 2211 15 \nQ 2059 75 1951 190 \nQ 1844 306 1786 479 \nQ 1728 653 1728 878 \nQ 1728 1078 1787 1251 \nQ 1847 1425 1958 1553 \nQ 2069 1681 2226 1753 \nQ 2384 1825 2578 1825 \nQ 2769 1825 2922 1765 \nQ 3075 1706 3183 1589 \nQ 3291 1472 3348 1300 \nQ 3406 1128 3406 903 \nz\nM 2947 891 \nQ 2947 1166 2845 1297 \nQ 2744 1428 2566 1428 \nQ 2475 1428 2404 1387 \nQ 2334 1347 2286 1275 \nQ 2238 1203 2213 1104 \nQ 2188 1006 2188 891 \nQ 2188 616 2288 484 \nQ 2388 353 2566 353 \nQ 2656 353 2726 393 \nQ 2797 434 2847 506 \nQ 2897 578 2922 676 \nQ 2947 775 2947 891 \nz\n\" transform=\"scale(0.015625)\"/>\n       <path id=\"Consolas-5d\" d=\"M 2441 -1281 \nL 900 -1281 \nL 900 -844 \nL 1916 -844 \nL 1916 4088 \nL 900 4088 \nL 900 4525 \nL 2441 4525 \nL 2441 -1281 \nz\n\" transform=\"scale(0.015625)\"/>\n      </defs>\n      <use xlink:href=\"#Consolas-49\"/>\n      <use xlink:href=\"#Consolas-6e\" x=\"54.980469\"/>\n      <use xlink:href=\"#Consolas-74\" x=\"109.960938\"/>\n      <use xlink:href=\"#Consolas-65\" x=\"164.941406\"/>\n      <use xlink:href=\"#Consolas-72\" x=\"219.921875\"/>\n      <use xlink:href=\"#Consolas-65\" x=\"274.902344\"/>\n      <use xlink:href=\"#Consolas-73\" x=\"329.882812\"/>\n      <use xlink:href=\"#Consolas-74\" x=\"384.863281\"/>\n      <use xlink:href=\"#Consolas-20\" x=\"439.84375\"/>\n      <use xlink:href=\"#Consolas-5b\" x=\"494.824219\"/>\n      <use xlink:href=\"#Consolas-25\" x=\"549.804688\"/>\n      <use xlink:href=\"#Consolas-5d\" x=\"604.785156\"/>\n     </g>\n    </g>\n   </g>\n   <g id=\"patch_265\">\n    <path d=\"M 7.2 172.204139 \nL 7.2 23.964 \n\" style=\"fill: none; stroke: #0f0f0f; stroke-width: 0.2; stroke-linejoin: miter; stroke-linecap: square\"/>\n   </g>\n   <g id=\"patch_266\">\n    <path d=\"M 733.24 172.204139 \nL 733.24 23.964 \n\" style=\"fill: none; stroke: #0f0f0f; stroke-width: 0.2; stroke-linejoin: miter; stroke-linecap: square\"/>\n   </g>\n   <g id=\"patch_267\">\n    <path d=\"M 7.2 172.204139 \nL 733.24 172.204139 \n\" style=\"fill: none; stroke: #0f0f0f; stroke-width: 0.2; stroke-linejoin: miter; stroke-linecap: square\"/>\n   </g>\n   <g id=\"patch_268\">\n    <path d=\"M 7.2 23.964 \nL 733.24 23.964 \n\" style=\"fill: none; stroke: #0f0f0f; stroke-width: 0.2; stroke-linejoin: miter; stroke-linecap: square\"/>\n   </g>\n   <g id=\"text_18\">\n    <!-- Interest over time on MP -->\n    <g style=\"fill: #0f0f0f\" transform=\"translate(7.2 17.964) scale(0.156 -0.156)\">\n     <defs>\n      <path id=\"Consolas-6f\" d=\"M 3231 1594 \nQ 3231 1228 3128 923 \nQ 3025 619 2831 401 \nQ 2638 184 2359 64 \nQ 2081 -56 1728 -56 \nQ 1391 -56 1123 48 \nQ 856 153 670 356 \nQ 484 559 386 859 \nQ 288 1159 288 1550 \nQ 288 1916 391 2217 \nQ 494 2519 687 2736 \nQ 881 2953 1159 3073 \nQ 1438 3194 1791 3194 \nQ 2128 3194 2395 3089 \nQ 2663 2984 2848 2782 \nQ 3034 2581 3132 2281 \nQ 3231 1981 3231 1594 \nz\nM 2675 1569 \nQ 2675 1859 2611 2076 \nQ 2547 2294 2428 2439 \nQ 2309 2584 2139 2657 \nQ 1969 2731 1759 2731 \nQ 1516 2731 1342 2636 \nQ 1169 2541 1058 2381 \nQ 947 2222 895 2011 \nQ 844 1800 844 1569 \nQ 844 1278 908 1059 \nQ 972 841 1090 695 \nQ 1209 550 1378 476 \nQ 1547 403 1759 403 \nQ 2003 403 2176 498 \nQ 2350 594 2461 753 \nQ 2572 913 2623 1123 \nQ 2675 1334 2675 1569 \nz\n\" transform=\"scale(0.015625)\"/>\n      <path id=\"Consolas-76\" d=\"M 206 3138 \nL 825 3138 \nL 1594 1063 \nL 1759 556 \nL 1931 1075 \nL 2694 3138 \nL 3291 3138 \nL 2059 0 \nL 1434 0 \nL 206 3138 \nz\n\" transform=\"scale(0.015625)\"/>\n      <path id=\"Consolas-69\" d=\"M 1569 2688 \nL 641 2688 \nL 641 3138 \nL 2119 3138 \nL 2119 453 \nL 3053 453 \nL 3053 0 \nL 538 0 \nL 538 453 \nL 1569 453 \nL 1569 2688 \nz\nM 1759 4453 \nQ 1850 4453 1928 4420 \nQ 2006 4388 2064 4328 \nQ 2122 4269 2155 4192 \nQ 2188 4116 2188 4025 \nQ 2188 3938 2155 3859 \nQ 2122 3781 2064 3722 \nQ 2006 3663 1928 3630 \nQ 1850 3597 1759 3597 \nQ 1669 3597 1591 3630 \nQ 1513 3663 1455 3722 \nQ 1397 3781 1364 3859 \nQ 1331 3938 1331 4025 \nQ 1331 4116 1364 4192 \nQ 1397 4269 1455 4328 \nQ 1513 4388 1591 4420 \nQ 1669 4453 1759 4453 \nz\n\" transform=\"scale(0.015625)\"/>\n      <path id=\"Consolas-6d\" d=\"M 2738 0 \nL 2738 2253 \nQ 2738 2400 2727 2494 \nQ 2716 2588 2692 2642 \nQ 2669 2697 2633 2719 \nQ 2597 2741 2544 2741 \nQ 2481 2741 2428 2703 \nQ 2375 2666 2314 2581 \nQ 2253 2497 2179 2358 \nQ 2106 2219 2006 2016 \nL 2006 0 \nL 1509 0 \nL 1509 2194 \nQ 1509 2366 1498 2472 \nQ 1488 2578 1464 2637 \nQ 1441 2697 1403 2719 \nQ 1366 2741 1313 2741 \nQ 1256 2741 1206 2709 \nQ 1156 2678 1095 2597 \nQ 1034 2516 959 2375 \nQ 884 2234 781 2016 \nL 781 0 \nL 281 0 \nL 281 3138 \nL 697 3138 \nL 722 2541 \nQ 803 2719 879 2844 \nQ 956 2969 1037 3045 \nQ 1119 3122 1211 3158 \nQ 1303 3194 1416 3194 \nQ 1669 3194 1800 3028 \nQ 1931 2863 1931 2516 \nQ 2006 2678 2078 2804 \nQ 2150 2931 2233 3017 \nQ 2316 3103 2416 3148 \nQ 2516 3194 2647 3194 \nQ 3238 3194 3238 2284 \nL 3238 0 \nL 2738 0 \nz\n\" transform=\"scale(0.015625)\"/>\n      <path id=\"Consolas-4d\" d=\"M 3366 0 \nL 2822 0 \nL 2741 2547 \nL 2706 3525 \nL 2516 2956 \nL 1913 1331 \nL 1528 1331 \nL 953 2894 \nL 763 3525 \nL 750 2503 \nL 678 0 \nL 153 0 \nL 353 4084 \nL 1013 4084 \nL 1563 2547 \nL 1741 2028 \nL 1913 2547 \nL 2491 4084 \nL 3169 4084 \nL 3366 0 \nz\n\" transform=\"scale(0.015625)\"/>\n      <path id=\"Consolas-50\" d=\"M 3175 2834 \nQ 3175 2584 3081 2339 \nQ 2988 2094 2791 1900 \nQ 2594 1706 2287 1586 \nQ 1981 1466 1556 1466 \nL 1050 1466 \nL 1050 0 \nL 494 0 \nL 494 4084 \nL 1644 4084 \nQ 1947 4084 2225 4017 \nQ 2503 3950 2714 3800 \nQ 2925 3650 3050 3412 \nQ 3175 3175 3175 2834 \nz\nM 2597 2809 \nQ 2597 3203 2339 3412 \nQ 2081 3622 1619 3622 \nL 1050 3622 \nL 1050 1941 \nL 1569 1941 \nQ 2063 1941 2330 2156 \nQ 2597 2372 2597 2809 \nz\n\" transform=\"scale(0.015625)\"/>\n     </defs>\n     <use xlink:href=\"#Consolas-49\"/>\n     <use xlink:href=\"#Consolas-6e\" x=\"54.980469\"/>\n     <use xlink:href=\"#Consolas-74\" x=\"109.960938\"/>\n     <use xlink:href=\"#Consolas-65\" x=\"164.941406\"/>\n     <use xlink:href=\"#Consolas-72\" x=\"219.921875\"/>\n     <use xlink:href=\"#Consolas-65\" x=\"274.902344\"/>\n     <use xlink:href=\"#Consolas-73\" x=\"329.882812\"/>\n     <use xlink:href=\"#Consolas-74\" x=\"384.863281\"/>\n     <use xlink:href=\"#Consolas-20\" x=\"439.84375\"/>\n     <use xlink:href=\"#Consolas-6f\" x=\"494.824219\"/>\n     <use xlink:href=\"#Consolas-76\" x=\"549.804688\"/>\n     <use xlink:href=\"#Consolas-65\" x=\"604.785156\"/>\n     <use xlink:href=\"#Consolas-72\" x=\"659.765625\"/>\n     <use xlink:href=\"#Consolas-20\" x=\"714.746094\"/>\n     <use xlink:href=\"#Consolas-74\" x=\"769.726562\"/>\n     <use xlink:href=\"#Consolas-69\" x=\"824.707031\"/>\n     <use xlink:href=\"#Consolas-6d\" x=\"879.6875\"/>\n     <use xlink:href=\"#Consolas-65\" x=\"934.667969\"/>\n     <use xlink:href=\"#Consolas-20\" x=\"989.648438\"/>\n     <use xlink:href=\"#Consolas-6f\" x=\"1044.628906\"/>\n     <use xlink:href=\"#Consolas-6e\" x=\"1099.609375\"/>\n     <use xlink:href=\"#Consolas-20\" x=\"1154.589844\"/>\n     <use xlink:href=\"#Consolas-4d\" x=\"1209.570312\"/>\n     <use xlink:href=\"#Consolas-50\" x=\"1264.550781\"/>\n    </g>\n   </g>\n  </g>\n </g>\n <defs>\n  <clipPath id=\"pd8c2d75469\">\n   <rect x=\"7.2\" y=\"23.964\" width=\"726.04\" height=\"148.240139\"/>\n  </clipPath>\n </defs>\n</svg>\n",
      "text/plain": [
       "<Figure size 1650x450 with 1 Axes>"
      ]
     },
     "metadata": {},
     "output_type": "display_data"
    }
   ],
   "source": [
    "fig, ax = plt.subplots(figsize=(11, 3), dpi=150)\n",
    "openbb.stocks.ba.mentions_chart(\n",
    "    symbol,\n",
    "    external_axes=[\n",
    "        ax,\n",
    "    ],\n",
    ")\n",
    "fig.tight_layout()\n",
    "f = io.BytesIO()\n",
    "fig.savefig(f, format=\"svg\")\n",
    "google_mentions_chart = f.getvalue().decode(\"utf-8\")"
   ]
  },
  {
   "cell_type": "code",
   "execution_count": 24,
   "id": "b77e60d8",
   "metadata": {
    "papermill": {
     "duration": null,
     "end_time": null,
     "exception": null,
     "start_time": null,
     "status": "pending"
    },
    "tags": []
   },
   "outputs": [
    {
     "data": {
      "image/svg+xml": "<?xml version=\"1.0\" encoding=\"utf-8\" standalone=\"no\"?>\n<!DOCTYPE svg PUBLIC \"-//W3C//DTD SVG 1.1//EN\"\n  \"http://www.w3.org/Graphics/SVG/1.1/DTD/svg11.dtd\">\n<svg xmlns:xlink=\"http://www.w3.org/1999/xlink\" width=\"777.585931pt\" height=\"200.979035pt\" viewBox=\"0 0 777.585931 200.979035\" xmlns=\"http://www.w3.org/2000/svg\" version=\"1.1\">\n <metadata>\n  <rdf:RDF xmlns:dc=\"http://purl.org/dc/elements/1.1/\" xmlns:cc=\"http://creativecommons.org/ns#\" xmlns:rdf=\"http://www.w3.org/1999/02/22-rdf-syntax-ns#\">\n   <cc:Work>\n    <dc:type rdf:resource=\"http://purl.org/dc/dcmitype/StillImage\"/>\n    <dc:date>2023-02-10T10:46:11.011547</dc:date>\n    <dc:format>image/svg+xml</dc:format>\n    <dc:creator>\n     <cc:Agent>\n      <dc:title>Matplotlib v3.6.2, https://matplotlib.org/</dc:title>\n     </cc:Agent>\n    </dc:creator>\n   </cc:Work>\n  </rdf:RDF>\n </metadata>\n <defs>\n  <style type=\"text/css\">*{stroke-linejoin: round; stroke-linecap: butt}</style>\n </defs>\n <g id=\"figure_1\">\n  <g id=\"patch_1\">\n   <path d=\"M 0 200.979035 \nL 777.585931 200.979035 \nL 777.585931 0 \nL 0 0 \nz\n\" style=\"fill: #ffffff\"/>\n  </g>\n  <g id=\"axes_1\">\n   <g id=\"patch_2\">\n    <path d=\"M 10.968841 161.860207 \nL 691.587099 161.860207 \nL 691.587099 24.054187 \nL 10.968841 24.054187 \nz\n\" style=\"fill: #ffffff\"/>\n   </g>\n   <g id=\"matplotlib.axis_1\">\n    <g id=\"xtick_1\">\n     <g id=\"line2d_1\">\n      <path d=\"M 10.968841 161.860207 \nL 10.968841 24.054187 \n\" clip-path=\"url(#p1c83603f7b)\" style=\"fill: none; stroke-dasharray: 0.4,0.66; stroke-dashoffset: 0; stroke: #0f0f0f; stroke-width: 0.4; stroke-linejoin: miter\"/>\n     </g>\n     <g id=\"line2d_2\">\n      <defs>\n       <path id=\"mbe4a339487\" d=\"M 0 0 \nL 0 2 \n\" style=\"stroke: #0f0f0f; stroke-width: 0.2\"/>\n      </defs>\n      <g>\n       <use xlink:href=\"#mbe4a339487\" x=\"10.968841\" y=\"161.860207\" style=\"fill: #0f0f0f; stroke: #0f0f0f; stroke-width: 0.2\"/>\n      </g>\n     </g>\n     <g id=\"text_1\">\n      <!-- 0 -->\n      <g style=\"fill: #0f0f0f\" transform=\"translate(8.497501 175.752647) rotate(-10) scale(0.10829 -0.10829)\">\n       <defs>\n        <path id=\"Consolas-30\" d=\"M 3244 2041 \nQ 3244 1572 3150 1186 \nQ 3056 800 2865 523 \nQ 2675 247 2392 95 \nQ 2109 -56 1728 -56 \nQ 1400 -56 1131 67 \nQ 863 191 672 447 \nQ 481 703 378 1100 \nQ 275 1497 275 2041 \nQ 275 2509 370 2896 \nQ 466 3284 655 3561 \nQ 844 3838 1128 3989 \nQ 1413 4141 1791 4141 \nQ 2119 4141 2387 4017 \nQ 2656 3894 2847 3636 \nQ 3038 3378 3141 2981 \nQ 3244 2584 3244 2041 \nz\nM 2694 2022 \nQ 2694 2128 2686 2233 \nQ 2678 2338 2669 2438 \nL 941 1153 \nQ 988 991 1059 853 \nQ 1131 716 1232 617 \nQ 1334 519 1464 464 \nQ 1594 409 1759 409 \nQ 1972 409 2145 512 \nQ 2319 616 2441 819 \nQ 2563 1022 2628 1323 \nQ 2694 1625 2694 2022 \nz\nM 825 2059 \nQ 825 1963 826 1866 \nQ 828 1769 838 1678 \nL 2566 2956 \nQ 2519 3116 2447 3247 \nQ 2375 3378 2275 3473 \nQ 2175 3569 2047 3622 \nQ 1919 3675 1759 3675 \nQ 1547 3675 1373 3572 \nQ 1200 3469 1078 3264 \nQ 956 3059 890 2757 \nQ 825 2456 825 2059 \nz\n\" transform=\"scale(0.015625)\"/>\n       </defs>\n       <use xlink:href=\"#Consolas-30\"/>\n      </g>\n     </g>\n    </g>\n    <g id=\"xtick_2\">\n     <g id=\"line2d_3\">\n      <path d=\"M 140.610414 161.860207 \nL 140.610414 24.054187 \n\" clip-path=\"url(#p1c83603f7b)\" style=\"fill: none; stroke-dasharray: 0.4,0.66; stroke-dashoffset: 0; stroke: #0f0f0f; stroke-width: 0.4; stroke-linejoin: miter\"/>\n     </g>\n     <g id=\"line2d_4\">\n      <g>\n       <use xlink:href=\"#mbe4a339487\" x=\"140.610414\" y=\"161.860207\" style=\"fill: #0f0f0f; stroke: #0f0f0f; stroke-width: 0.2\"/>\n      </g>\n     </g>\n     <g id=\"text_2\">\n      <!-- 20 -->\n      <g style=\"fill: #0f0f0f\" transform=\"translate(135.207174 176.786593) rotate(-10) scale(0.10829 -0.10829)\">\n       <defs>\n        <path id=\"Consolas-32\" d=\"M 3150 0 \nL 459 0 \nL 459 488 \nL 1516 1538 \nQ 1775 1794 1937 1981 \nQ 2100 2169 2190 2323 \nQ 2281 2478 2312 2615 \nQ 2344 2753 2344 2913 \nQ 2344 3063 2303 3198 \nQ 2263 3334 2178 3437 \nQ 2094 3541 1959 3600 \nQ 1825 3659 1638 3659 \nQ 1378 3659 1165 3543 \nQ 953 3428 775 3244 \nL 475 3603 \nQ 706 3847 1007 3994 \nQ 1309 4141 1709 4141 \nQ 1981 4141 2204 4059 \nQ 2428 3978 2590 3825 \nQ 2753 3672 2842 3450 \nQ 2931 3228 2931 2950 \nQ 2931 2716 2868 2516 \nQ 2806 2316 2679 2117 \nQ 2553 1919 2361 1706 \nQ 2169 1494 1906 1241 \nL 1166 519 \nL 3150 519 \nL 3150 0 \nz\n\" transform=\"scale(0.015625)\"/>\n       </defs>\n       <use xlink:href=\"#Consolas-32\"/>\n       <use xlink:href=\"#Consolas-30\" x=\"54.980469\"/>\n      </g>\n     </g>\n    </g>\n    <g id=\"xtick_3\">\n     <g id=\"line2d_5\">\n      <path d=\"M 270.251987 161.860207 \nL 270.251987 24.054187 \n\" clip-path=\"url(#p1c83603f7b)\" style=\"fill: none; stroke-dasharray: 0.4,0.66; stroke-dashoffset: 0; stroke: #0f0f0f; stroke-width: 0.4; stroke-linejoin: miter\"/>\n     </g>\n     <g id=\"line2d_6\">\n      <g>\n       <use xlink:href=\"#mbe4a339487\" x=\"270.251987\" y=\"161.860207\" style=\"fill: #0f0f0f; stroke: #0f0f0f; stroke-width: 0.2\"/>\n      </g>\n     </g>\n     <g id=\"text_3\">\n      <!-- 40 -->\n      <g style=\"fill: #0f0f0f\" transform=\"translate(264.848747 176.786593) rotate(-10) scale(0.10829 -0.10829)\">\n       <defs>\n        <path id=\"Consolas-34\" d=\"M 3353 903 \nL 2656 903 \nL 2656 0 \nL 2100 0 \nL 2100 903 \nL 134 903 \nL 134 1381 \nL 1875 4084 \nL 2656 4084 \nL 2656 1381 \nL 3353 1381 \nL 3353 903 \nz\nM 2100 3559 \nL 678 1381 \nL 2100 1381 \nL 2100 3559 \nz\n\" transform=\"scale(0.015625)\"/>\n       </defs>\n       <use xlink:href=\"#Consolas-34\"/>\n       <use xlink:href=\"#Consolas-30\" x=\"54.980469\"/>\n      </g>\n     </g>\n    </g>\n    <g id=\"xtick_4\">\n     <g id=\"line2d_7\">\n      <path d=\"M 399.89356 161.860207 \nL 399.89356 24.054187 \n\" clip-path=\"url(#p1c83603f7b)\" style=\"fill: none; stroke-dasharray: 0.4,0.66; stroke-dashoffset: 0; stroke: #0f0f0f; stroke-width: 0.4; stroke-linejoin: miter\"/>\n     </g>\n     <g id=\"line2d_8\">\n      <g>\n       <use xlink:href=\"#mbe4a339487\" x=\"399.89356\" y=\"161.860207\" style=\"fill: #0f0f0f; stroke: #0f0f0f; stroke-width: 0.2\"/>\n      </g>\n     </g>\n     <g id=\"text_4\">\n      <!-- 60 -->\n      <g style=\"fill: #0f0f0f\" transform=\"translate(394.49032 176.786593) rotate(-10) scale(0.10829 -0.10829)\">\n       <defs>\n        <path id=\"Consolas-36\" d=\"M 3200 1294 \nQ 3200 1013 3098 766 \nQ 2997 519 2809 336 \nQ 2622 153 2358 48 \nQ 2094 -56 1772 -56 \nQ 1434 -56 1175 51 \nQ 916 159 741 382 \nQ 566 606 475 947 \nQ 384 1288 384 1753 \nQ 384 2066 425 2359 \nQ 466 2653 559 2912 \nQ 653 3172 809 3387 \nQ 966 3603 1198 3758 \nQ 1431 3913 1747 3998 \nQ 2063 4084 2478 4084 \nL 2881 4084 \nL 2881 3609 \nL 2444 3609 \nQ 2078 3609 1809 3521 \nQ 1541 3434 1359 3275 \nQ 1178 3116 1081 2891 \nQ 984 2666 959 2388 \nL 947 2259 \nQ 1144 2375 1401 2445 \nQ 1659 2516 1959 2516 \nQ 2269 2516 2501 2425 \nQ 2734 2334 2889 2173 \nQ 3044 2013 3122 1788 \nQ 3200 1563 3200 1294 \nz\nM 2631 1259 \nQ 2631 1447 2586 1598 \nQ 2541 1750 2444 1854 \nQ 2347 1959 2198 2017 \nQ 2050 2075 1844 2075 \nQ 1725 2075 1603 2053 \nQ 1481 2031 1364 1992 \nQ 1247 1953 1140 1903 \nQ 1034 1853 947 1797 \nQ 947 1394 1003 1123 \nQ 1059 853 1170 690 \nQ 1281 528 1443 459 \nQ 1606 391 1819 391 \nQ 1997 391 2145 448 \nQ 2294 506 2401 618 \nQ 2509 731 2570 892 \nQ 2631 1053 2631 1259 \nz\n\" transform=\"scale(0.015625)\"/>\n       </defs>\n       <use xlink:href=\"#Consolas-36\"/>\n       <use xlink:href=\"#Consolas-30\" x=\"54.980469\"/>\n      </g>\n     </g>\n    </g>\n    <g id=\"xtick_5\">\n     <g id=\"line2d_9\">\n      <path d=\"M 529.535133 161.860207 \nL 529.535133 24.054187 \n\" clip-path=\"url(#p1c83603f7b)\" style=\"fill: none; stroke-dasharray: 0.4,0.66; stroke-dashoffset: 0; stroke: #0f0f0f; stroke-width: 0.4; stroke-linejoin: miter\"/>\n     </g>\n     <g id=\"line2d_10\">\n      <g>\n       <use xlink:href=\"#mbe4a339487\" x=\"529.535133\" y=\"161.860207\" style=\"fill: #0f0f0f; stroke: #0f0f0f; stroke-width: 0.2\"/>\n      </g>\n     </g>\n     <g id=\"text_5\">\n      <!-- 80 -->\n      <g style=\"fill: #0f0f0f\" transform=\"translate(524.131893 176.786593) rotate(-10) scale(0.10829 -0.10829)\">\n       <defs>\n        <path id=\"Consolas-38\" d=\"M 3150 1025 \nQ 3150 766 3044 564 \nQ 2938 363 2747 225 \nQ 2556 88 2297 16 \nQ 2038 -56 1734 -56 \nQ 1400 -56 1145 19 \nQ 891 94 719 228 \nQ 547 363 459 547 \nQ 372 731 372 953 \nQ 372 1328 581 1600 \nQ 791 1872 1228 2094 \nQ 828 2297 643 2545 \nQ 459 2794 459 3116 \nQ 459 3313 540 3497 \nQ 622 3681 786 3825 \nQ 950 3969 1197 4055 \nQ 1444 4141 1778 4141 \nQ 2094 4141 2333 4073 \nQ 2572 4006 2734 3881 \nQ 2897 3756 2978 3578 \nQ 3059 3400 3059 3181 \nQ 3059 2825 2861 2575 \nQ 2663 2325 2297 2138 \nQ 2478 2047 2634 1937 \nQ 2791 1828 2906 1693 \nQ 3022 1559 3086 1393 \nQ 3150 1228 3150 1025 \nz\nM 2503 3138 \nQ 2503 3416 2308 3552 \nQ 2113 3688 1759 3688 \nQ 1409 3688 1214 3553 \nQ 1019 3419 1019 3150 \nQ 1019 3028 1066 2925 \nQ 1113 2822 1211 2731 \nQ 1309 2641 1456 2553 \nQ 1603 2466 1806 2375 \nQ 2159 2541 2331 2720 \nQ 2503 2900 2503 3138 \nz\nM 2559 984 \nQ 2559 1100 2521 1209 \nQ 2484 1319 2387 1425 \nQ 2291 1531 2128 1637 \nQ 1966 1744 1716 1856 \nQ 1503 1753 1358 1651 \nQ 1213 1550 1123 1445 \nQ 1034 1341 996 1228 \nQ 959 1116 959 991 \nQ 959 850 1020 742 \nQ 1081 634 1187 559 \nQ 1294 484 1441 446 \nQ 1588 409 1759 409 \nQ 1925 409 2072 443 \nQ 2219 478 2326 548 \nQ 2434 619 2496 726 \nQ 2559 834 2559 984 \nz\n\" transform=\"scale(0.015625)\"/>\n       </defs>\n       <use xlink:href=\"#Consolas-38\"/>\n       <use xlink:href=\"#Consolas-30\" x=\"54.980469\"/>\n      </g>\n     </g>\n    </g>\n    <g id=\"xtick_6\">\n     <g id=\"line2d_11\">\n      <path d=\"M 659.176706 161.860207 \nL 659.176706 24.054187 \n\" clip-path=\"url(#p1c83603f7b)\" style=\"fill: none; stroke-dasharray: 0.4,0.66; stroke-dashoffset: 0; stroke: #0f0f0f; stroke-width: 0.4; stroke-linejoin: miter\"/>\n     </g>\n     <g id=\"line2d_12\">\n      <g>\n       <use xlink:href=\"#mbe4a339487\" x=\"659.176706\" y=\"161.860207\" style=\"fill: #0f0f0f; stroke: #0f0f0f; stroke-width: 0.2\"/>\n      </g>\n     </g>\n     <g id=\"text_6\">\n      <!-- 100 -->\n      <g style=\"fill: #0f0f0f\" transform=\"translate(650.841567 177.820539) rotate(-10) scale(0.10829 -0.10829)\">\n       <defs>\n        <path id=\"Consolas-31\" d=\"M 3116 0 \nL 550 0 \nL 550 506 \nL 1600 506 \nL 1600 3488 \nL 622 2956 \nL 422 3419 \nL 1722 4103 \nL 2203 4103 \nL 2203 506 \nL 3116 506 \nL 3116 0 \nz\n\" transform=\"scale(0.015625)\"/>\n       </defs>\n       <use xlink:href=\"#Consolas-31\"/>\n       <use xlink:href=\"#Consolas-30\" x=\"54.980469\"/>\n       <use xlink:href=\"#Consolas-30\" x=\"109.960938\"/>\n      </g>\n     </g>\n    </g>\n    <g id=\"text_7\">\n     <!-- Interest [%] -->\n     <g style=\"fill: #0f0f0f\" transform=\"translate(315.552422 191.611543) scale(0.10829 -0.10829)\">\n      <defs>\n       <path id=\"Consolas-49\" d=\"M 1478 3616 \nL 538 3616 \nL 538 4084 \nL 2981 4084 \nL 2981 3616 \nL 2041 3616 \nL 2041 475 \nL 2981 475 \nL 2981 0 \nL 538 0 \nL 538 475 \nL 1478 475 \nL 1478 3616 \nz\n\" transform=\"scale(0.015625)\"/>\n       <path id=\"Consolas-6e\" d=\"M 500 3138 \nL 984 3138 \nL 1006 2631 \nQ 1144 2794 1272 2901 \nQ 1400 3009 1523 3075 \nQ 1647 3141 1775 3167 \nQ 1903 3194 2041 3194 \nQ 2525 3194 2773 2908 \nQ 3022 2622 3022 2047 \nL 3022 0 \nL 2478 0 \nL 2478 2003 \nQ 2478 2372 2340 2548 \nQ 2203 2725 1931 2725 \nQ 1831 2725 1736 2695 \nQ 1641 2666 1537 2592 \nQ 1434 2519 1314 2394 \nQ 1194 2269 1044 2081 \nL 1044 0 \nL 500 0 \nL 500 3138 \nz\n\" transform=\"scale(0.015625)\"/>\n       <path id=\"Consolas-74\" d=\"M 3028 44 \nQ 2844 -3 2647 -23 \nQ 2450 -44 2247 -44 \nQ 1656 -44 1365 223 \nQ 1075 491 1075 1044 \nL 1075 2681 \nL 197 2681 \nL 197 3138 \nL 1075 3138 \nL 1075 4000 \nL 1619 4141 \nL 1619 3138 \nL 3028 3138 \nL 3028 2681 \nL 1619 2681 \nL 1619 1088 \nQ 1619 750 1798 583 \nQ 1978 416 2328 416 \nQ 2478 416 2656 439 \nQ 2834 463 3028 513 \nL 3028 44 \nz\n\" transform=\"scale(0.015625)\"/>\n       <path id=\"Consolas-65\" d=\"M 3150 1734 \nQ 3150 1619 3147 1541 \nQ 3144 1463 3138 1394 \nL 934 1394 \nQ 934 913 1203 655 \nQ 1472 397 1978 397 \nQ 2116 397 2253 408 \nQ 2391 419 2519 437 \nQ 2647 456 2764 479 \nQ 2881 503 2981 531 \nL 2981 84 \nQ 2759 22 2479 -17 \nQ 2200 -56 1900 -56 \nQ 1497 -56 1206 53 \nQ 916 163 730 370 \nQ 544 578 455 879 \nQ 366 1181 366 1563 \nQ 366 1894 461 2189 \nQ 556 2484 739 2707 \nQ 922 2931 1187 3062 \nQ 1453 3194 1791 3194 \nQ 2119 3194 2372 3091 \nQ 2625 2988 2798 2798 \nQ 2972 2609 3061 2339 \nQ 3150 2069 3150 1734 \nz\nM 2584 1813 \nQ 2594 2022 2544 2195 \nQ 2494 2369 2389 2494 \nQ 2284 2619 2128 2689 \nQ 1972 2759 1766 2759 \nQ 1588 2759 1441 2690 \nQ 1294 2622 1187 2497 \nQ 1081 2372 1015 2197 \nQ 950 2022 934 1813 \nL 2584 1813 \nz\n\" transform=\"scale(0.015625)\"/>\n       <path id=\"Consolas-72\" d=\"M 628 3138 \nL 1125 3138 \nL 1141 2559 \nQ 1419 2894 1689 3044 \nQ 1959 3194 2234 3194 \nQ 2722 3194 2973 2878 \nQ 3225 2563 3206 1941 \nL 2656 1941 \nQ 2666 2353 2536 2539 \nQ 2406 2725 2156 2725 \nQ 2047 2725 1936 2686 \nQ 1825 2647 1708 2561 \nQ 1591 2475 1459 2340 \nQ 1328 2206 1178 2016 \nL 1178 0 \nL 628 0 \nL 628 3138 \nz\n\" transform=\"scale(0.015625)\"/>\n       <path id=\"Consolas-73\" d=\"M 2984 856 \nQ 2984 691 2928 559 \nQ 2872 428 2775 326 \nQ 2678 225 2550 153 \nQ 2422 81 2276 34 \nQ 2131 -13 1978 -34 \nQ 1825 -56 1678 -56 \nQ 1359 -56 1092 -28 \nQ 825 0 569 63 \nL 569 563 \nQ 844 484 1116 443 \nQ 1388 403 1656 403 \nQ 2047 403 2234 509 \nQ 2422 616 2422 813 \nQ 2422 897 2392 964 \nQ 2363 1031 2284 1092 \nQ 2206 1153 2042 1218 \nQ 1878 1284 1594 1369 \nQ 1381 1431 1201 1511 \nQ 1022 1591 890 1700 \nQ 759 1809 684 1956 \nQ 609 2103 609 2303 \nQ 609 2434 670 2590 \nQ 731 2747 878 2881 \nQ 1025 3016 1275 3105 \nQ 1525 3194 1900 3194 \nQ 2084 3194 2309 3173 \nQ 2534 3153 2778 3103 \nL 2778 2619 \nQ 2522 2681 2292 2711 \nQ 2063 2741 1894 2741 \nQ 1691 2741 1552 2709 \nQ 1413 2678 1327 2623 \nQ 1241 2569 1203 2495 \nQ 1166 2422 1166 2338 \nQ 1166 2253 1198 2184 \nQ 1231 2116 1320 2052 \nQ 1409 1988 1568 1923 \nQ 1728 1859 1984 1784 \nQ 2263 1703 2453 1614 \nQ 2644 1525 2762 1415 \nQ 2881 1306 2932 1168 \nQ 2984 1031 2984 856 \nz\n\" transform=\"scale(0.015625)\"/>\n       <path id=\"Consolas-20\" transform=\"scale(0.015625)\"/>\n       <path id=\"Consolas-5b\" d=\"M 2619 -1281 \nL 1078 -1281 \nL 1078 4525 \nL 2619 4525 \nL 2619 4088 \nL 1597 4088 \nL 1597 -844 \nL 2619 -844 \nL 2619 -1281 \nz\n\" transform=\"scale(0.015625)\"/>\n       <path id=\"Consolas-25\" d=\"M 3456 4416 \nL 575 0 \nL 63 0 \nL 2938 4416 \nL 3456 4416 \nz\nM 1791 3541 \nQ 1791 3338 1731 3164 \nQ 1672 2991 1561 2864 \nQ 1450 2738 1292 2664 \nQ 1134 2591 941 2591 \nQ 750 2591 598 2650 \nQ 447 2709 339 2826 \nQ 231 2944 173 3116 \nQ 116 3288 116 3513 \nQ 116 3713 175 3886 \nQ 234 4059 345 4187 \nQ 456 4316 614 4387 \nQ 772 4459 966 4459 \nQ 1156 4459 1307 4400 \nQ 1459 4341 1567 4225 \nQ 1675 4109 1733 3937 \nQ 1791 3766 1791 3541 \nz\nM 1331 3525 \nQ 1331 3800 1231 3931 \nQ 1131 4063 953 4063 \nQ 863 4063 792 4022 \nQ 722 3981 673 3909 \nQ 625 3838 600 3739 \nQ 575 3641 575 3525 \nQ 575 3250 675 3119 \nQ 775 2988 953 2988 \nQ 1044 2988 1114 3028 \nQ 1184 3069 1232 3141 \nQ 1281 3213 1306 3311 \nQ 1331 3409 1331 3525 \nz\nM 3406 903 \nQ 3406 700 3345 528 \nQ 3284 356 3173 228 \nQ 3063 100 2905 28 \nQ 2747 -44 2553 -44 \nQ 2363 -44 2211 15 \nQ 2059 75 1951 190 \nQ 1844 306 1786 479 \nQ 1728 653 1728 878 \nQ 1728 1078 1787 1251 \nQ 1847 1425 1958 1553 \nQ 2069 1681 2226 1753 \nQ 2384 1825 2578 1825 \nQ 2769 1825 2922 1765 \nQ 3075 1706 3183 1589 \nQ 3291 1472 3348 1300 \nQ 3406 1128 3406 903 \nz\nM 2947 891 \nQ 2947 1166 2845 1297 \nQ 2744 1428 2566 1428 \nQ 2475 1428 2404 1387 \nQ 2334 1347 2286 1275 \nQ 2238 1203 2213 1104 \nQ 2188 1006 2188 891 \nQ 2188 616 2288 484 \nQ 2388 353 2566 353 \nQ 2656 353 2726 393 \nQ 2797 434 2847 506 \nQ 2897 578 2922 676 \nQ 2947 775 2947 891 \nz\n\" transform=\"scale(0.015625)\"/>\n       <path id=\"Consolas-5d\" d=\"M 2441 -1281 \nL 900 -1281 \nL 900 -844 \nL 1916 -844 \nL 1916 4088 \nL 900 4088 \nL 900 4525 \nL 2441 4525 \nL 2441 -1281 \nz\n\" transform=\"scale(0.015625)\"/>\n      </defs>\n      <use xlink:href=\"#Consolas-49\"/>\n      <use xlink:href=\"#Consolas-6e\" x=\"54.980469\"/>\n      <use xlink:href=\"#Consolas-74\" x=\"109.960938\"/>\n      <use xlink:href=\"#Consolas-65\" x=\"164.941406\"/>\n      <use xlink:href=\"#Consolas-72\" x=\"219.921875\"/>\n      <use xlink:href=\"#Consolas-65\" x=\"274.902344\"/>\n      <use xlink:href=\"#Consolas-73\" x=\"329.882812\"/>\n      <use xlink:href=\"#Consolas-74\" x=\"384.863281\"/>\n      <use xlink:href=\"#Consolas-20\" x=\"439.84375\"/>\n      <use xlink:href=\"#Consolas-5b\" x=\"494.824219\"/>\n      <use xlink:href=\"#Consolas-25\" x=\"549.804688\"/>\n      <use xlink:href=\"#Consolas-5d\" x=\"604.785156\"/>\n     </g>\n    </g>\n   </g>\n   <g id=\"matplotlib.axis_2\">\n    <g id=\"ytick_1\">\n     <g id=\"line2d_13\">\n      <path d=\"M 10.968841 150.482901 \nL 691.587099 150.482901 \n\" clip-path=\"url(#p1c83603f7b)\" style=\"fill: none; stroke-dasharray: 0.4,0.66; stroke-dashoffset: 0; stroke: #0f0f0f; stroke-width: 0.4; stroke-linejoin: miter\"/>\n     </g>\n     <g id=\"line2d_14\">\n      <defs>\n       <path id=\"m33bd8570cf\" d=\"M 0 0 \nL 2 0 \n\" style=\"stroke: #0f0f0f; stroke-width: 0.2\"/>\n      </defs>\n      <g>\n       <use xlink:href=\"#m33bd8570cf\" x=\"691.587099\" y=\"150.482901\" style=\"fill: #0f0f0f; stroke: #0f0f0f; stroke-width: 0.2\"/>\n      </g>\n     </g>\n     <g id=\"text_8\">\n      <!-- Indonesia -->\n      <g style=\"fill: #0f0f0f\" transform=\"translate(697.087099 154.218906) scale(0.10829 -0.10829)\">\n       <defs>\n        <path id=\"Consolas-64\" d=\"M 341 1503 \nQ 341 1903 450 2214 \nQ 559 2525 761 2739 \nQ 963 2953 1245 3064 \nQ 1528 3175 1875 3175 \nQ 2025 3175 2170 3156 \nQ 2316 3138 2456 3097 \nL 2456 4416 \nL 3003 4416 \nL 3003 0 \nL 2516 0 \nL 2497 594 \nQ 2269 263 2003 103 \nQ 1738 -56 1428 -56 \nQ 1159 -56 954 56 \nQ 750 169 614 373 \nQ 478 578 409 865 \nQ 341 1153 341 1503 \nz\nM 897 1538 \nQ 897 969 1064 689 \nQ 1231 409 1538 409 \nQ 1744 409 1973 593 \nQ 2203 778 2456 1141 \nL 2456 2597 \nQ 2322 2659 2159 2692 \nQ 1997 2725 1838 2725 \nQ 1394 2725 1145 2437 \nQ 897 2150 897 1538 \nz\n\" transform=\"scale(0.015625)\"/>\n        <path id=\"Consolas-6f\" d=\"M 3231 1594 \nQ 3231 1228 3128 923 \nQ 3025 619 2831 401 \nQ 2638 184 2359 64 \nQ 2081 -56 1728 -56 \nQ 1391 -56 1123 48 \nQ 856 153 670 356 \nQ 484 559 386 859 \nQ 288 1159 288 1550 \nQ 288 1916 391 2217 \nQ 494 2519 687 2736 \nQ 881 2953 1159 3073 \nQ 1438 3194 1791 3194 \nQ 2128 3194 2395 3089 \nQ 2663 2984 2848 2782 \nQ 3034 2581 3132 2281 \nQ 3231 1981 3231 1594 \nz\nM 2675 1569 \nQ 2675 1859 2611 2076 \nQ 2547 2294 2428 2439 \nQ 2309 2584 2139 2657 \nQ 1969 2731 1759 2731 \nQ 1516 2731 1342 2636 \nQ 1169 2541 1058 2381 \nQ 947 2222 895 2011 \nQ 844 1800 844 1569 \nQ 844 1278 908 1059 \nQ 972 841 1090 695 \nQ 1209 550 1378 476 \nQ 1547 403 1759 403 \nQ 2003 403 2176 498 \nQ 2350 594 2461 753 \nQ 2572 913 2623 1123 \nQ 2675 1334 2675 1569 \nz\n\" transform=\"scale(0.015625)\"/>\n        <path id=\"Consolas-69\" d=\"M 1569 2688 \nL 641 2688 \nL 641 3138 \nL 2119 3138 \nL 2119 453 \nL 3053 453 \nL 3053 0 \nL 538 0 \nL 538 453 \nL 1569 453 \nL 1569 2688 \nz\nM 1759 4453 \nQ 1850 4453 1928 4420 \nQ 2006 4388 2064 4328 \nQ 2122 4269 2155 4192 \nQ 2188 4116 2188 4025 \nQ 2188 3938 2155 3859 \nQ 2122 3781 2064 3722 \nQ 2006 3663 1928 3630 \nQ 1850 3597 1759 3597 \nQ 1669 3597 1591 3630 \nQ 1513 3663 1455 3722 \nQ 1397 3781 1364 3859 \nQ 1331 3938 1331 4025 \nQ 1331 4116 1364 4192 \nQ 1397 4269 1455 4328 \nQ 1513 4388 1591 4420 \nQ 1669 4453 1759 4453 \nz\n\" transform=\"scale(0.015625)\"/>\n        <path id=\"Consolas-61\" d=\"M 2516 0 \nL 2503 422 \nQ 2247 169 1983 56 \nQ 1719 -56 1428 -56 \nQ 1159 -56 968 12 \nQ 778 81 654 201 \nQ 531 322 473 484 \nQ 416 647 416 838 \nQ 416 1309 767 1576 \nQ 1119 1844 1806 1844 \nL 2456 1844 \nL 2456 2119 \nQ 2456 2397 2278 2564 \nQ 2100 2731 1734 2731 \nQ 1469 2731 1211 2672 \nQ 953 2613 678 2503 \nL 678 2994 \nQ 781 3031 907 3067 \nQ 1034 3103 1175 3131 \nQ 1316 3159 1469 3176 \nQ 1622 3194 1778 3194 \nQ 2063 3194 2291 3131 \nQ 2519 3069 2676 2941 \nQ 2834 2813 2918 2619 \nQ 3003 2425 3003 2163 \nL 3003 0 \nL 2516 0 \nz\nM 2456 1428 \nL 1766 1428 \nQ 1563 1428 1416 1387 \nQ 1269 1347 1175 1272 \nQ 1081 1197 1036 1092 \nQ 991 988 991 856 \nQ 991 766 1019 683 \nQ 1047 600 1109 536 \nQ 1172 472 1272 434 \nQ 1372 397 1516 397 \nQ 1703 397 1945 511 \nQ 2188 625 2456 872 \nL 2456 1428 \nz\n\" transform=\"scale(0.015625)\"/>\n       </defs>\n       <use xlink:href=\"#Consolas-49\"/>\n       <use xlink:href=\"#Consolas-6e\" x=\"54.980469\"/>\n       <use xlink:href=\"#Consolas-64\" x=\"109.960938\"/>\n       <use xlink:href=\"#Consolas-6f\" x=\"164.941406\"/>\n       <use xlink:href=\"#Consolas-6e\" x=\"219.921875\"/>\n       <use xlink:href=\"#Consolas-65\" x=\"274.902344\"/>\n       <use xlink:href=\"#Consolas-73\" x=\"329.882812\"/>\n       <use xlink:href=\"#Consolas-69\" x=\"384.863281\"/>\n       <use xlink:href=\"#Consolas-61\" x=\"439.84375\"/>\n      </g>\n     </g>\n    </g>\n    <g id=\"ytick_2\">\n     <g id=\"line2d_15\">\n      <path d=\"M 10.968841 137.699411 \nL 691.587099 137.699411 \n\" clip-path=\"url(#p1c83603f7b)\" style=\"fill: none; stroke-dasharray: 0.4,0.66; stroke-dashoffset: 0; stroke: #0f0f0f; stroke-width: 0.4; stroke-linejoin: miter\"/>\n     </g>\n     <g id=\"line2d_16\">\n      <g>\n       <use xlink:href=\"#m33bd8570cf\" x=\"691.587099\" y=\"137.699411\" style=\"fill: #0f0f0f; stroke: #0f0f0f; stroke-width: 0.2\"/>\n      </g>\n     </g>\n     <g id=\"text_9\">\n      <!-- Uzbekistan -->\n      <g style=\"fill: #0f0f0f\" transform=\"translate(697.087099 141.435416) scale(0.10829 -0.10829)\">\n       <defs>\n        <path id=\"Consolas-55\" d=\"M 3181 1422 \nQ 3181 1084 3086 811 \nQ 2991 538 2806 345 \nQ 2622 153 2355 48 \nQ 2088 -56 1741 -56 \nQ 1359 -56 1093 44 \nQ 828 144 661 326 \nQ 494 509 417 765 \nQ 341 1022 341 1338 \nL 341 4084 \nL 897 4084 \nL 897 1381 \nQ 897 1141 942 959 \nQ 988 778 1091 656 \nQ 1194 534 1358 471 \nQ 1522 409 1759 409 \nQ 2203 409 2414 665 \nQ 2625 922 2625 1388 \nL 2625 4084 \nL 3181 4084 \nL 3181 1422 \nz\n\" transform=\"scale(0.015625)\"/>\n        <path id=\"Consolas-7a\" d=\"M 3041 0 \nL 513 0 \nL 513 391 \nL 2284 2681 \nL 556 2681 \nL 556 3138 \nL 2938 3138 \nL 2938 2713 \nL 1197 459 \nL 3041 459 \nL 3041 0 \nz\n\" transform=\"scale(0.015625)\"/>\n        <path id=\"Consolas-62\" d=\"M 3181 1625 \nQ 3181 1234 3073 926 \nQ 2966 619 2767 405 \nQ 2569 191 2284 76 \nQ 2000 -38 1644 -38 \nQ 1366 -38 1075 15 \nQ 784 69 500 184 \nL 500 4416 \nL 1044 4416 \nL 1044 3200 \nL 1019 2619 \nQ 1253 2934 1520 3064 \nQ 1788 3194 2094 3194 \nQ 2363 3194 2566 3081 \nQ 2769 2969 2906 2764 \nQ 3044 2559 3112 2270 \nQ 3181 1981 3181 1625 \nz\nM 2625 1600 \nQ 2625 1847 2589 2053 \nQ 2553 2259 2475 2406 \nQ 2397 2553 2275 2636 \nQ 2153 2719 1984 2719 \nQ 1881 2719 1775 2686 \nQ 1669 2653 1555 2576 \nQ 1441 2500 1314 2373 \nQ 1188 2247 1044 2059 \nL 1044 538 \nQ 1203 475 1368 439 \nQ 1534 403 1684 403 \nQ 1872 403 2042 462 \nQ 2213 522 2342 661 \nQ 2472 800 2548 1029 \nQ 2625 1259 2625 1600 \nz\n\" transform=\"scale(0.015625)\"/>\n        <path id=\"Consolas-6b\" d=\"M 3322 0 \nL 2575 0 \nL 1113 1681 \nL 1113 0 \nL 569 0 \nL 569 4416 \nL 1113 4416 \nL 1113 1703 \nL 2522 3138 \nL 3241 3138 \nL 1769 1691 \nL 3322 0 \nz\n\" transform=\"scale(0.015625)\"/>\n       </defs>\n       <use xlink:href=\"#Consolas-55\"/>\n       <use xlink:href=\"#Consolas-7a\" x=\"54.980469\"/>\n       <use xlink:href=\"#Consolas-62\" x=\"109.960938\"/>\n       <use xlink:href=\"#Consolas-65\" x=\"164.941406\"/>\n       <use xlink:href=\"#Consolas-6b\" x=\"219.921875\"/>\n       <use xlink:href=\"#Consolas-69\" x=\"274.902344\"/>\n       <use xlink:href=\"#Consolas-73\" x=\"329.882812\"/>\n       <use xlink:href=\"#Consolas-74\" x=\"384.863281\"/>\n       <use xlink:href=\"#Consolas-61\" x=\"439.84375\"/>\n       <use xlink:href=\"#Consolas-6e\" x=\"494.824219\"/>\n      </g>\n     </g>\n    </g>\n    <g id=\"ytick_3\">\n     <g id=\"line2d_17\">\n      <path d=\"M 10.968841 124.915922 \nL 691.587099 124.915922 \n\" clip-path=\"url(#p1c83603f7b)\" style=\"fill: none; stroke-dasharray: 0.4,0.66; stroke-dashoffset: 0; stroke: #0f0f0f; stroke-width: 0.4; stroke-linejoin: miter\"/>\n     </g>\n     <g id=\"line2d_18\">\n      <g>\n       <use xlink:href=\"#m33bd8570cf\" x=\"691.587099\" y=\"124.915922\" style=\"fill: #0f0f0f; stroke: #0f0f0f; stroke-width: 0.2\"/>\n      </g>\n     </g>\n     <g id=\"text_10\">\n      <!-- Guatemala -->\n      <g style=\"fill: #0f0f0f\" transform=\"translate(697.087099 128.651927) scale(0.10829 -0.10829)\">\n       <defs>\n        <path id=\"Consolas-47\" d=\"M 3144 3384 \nQ 2916 3506 2675 3573 \nQ 2434 3641 2150 3641 \nQ 1825 3641 1572 3525 \nQ 1319 3409 1145 3198 \nQ 972 2988 880 2691 \nQ 788 2394 788 2034 \nQ 788 1659 863 1362 \nQ 938 1066 1097 859 \nQ 1256 653 1504 543 \nQ 1753 434 2100 434 \nQ 2159 434 2228 440 \nQ 2297 447 2365 458 \nQ 2434 469 2498 484 \nQ 2563 500 2613 519 \nL 2613 1819 \nL 1778 1819 \nL 1778 2278 \nL 3163 2278 \nL 3163 191 \nQ 3034 131 2892 84 \nQ 2750 38 2601 6 \nQ 2453 -25 2306 -40 \nQ 2159 -56 2022 -56 \nQ 1603 -56 1267 75 \nQ 931 206 695 464 \nQ 459 722 332 1106 \nQ 206 1491 206 1997 \nQ 206 2500 347 2898 \nQ 488 3297 742 3573 \nQ 997 3850 1355 3995 \nQ 1713 4141 2144 4141 \nQ 2419 4141 2667 4092 \nQ 2916 4044 3144 3938 \nL 3144 3384 \nz\n\" transform=\"scale(0.015625)\"/>\n        <path id=\"Consolas-75\" d=\"M 3022 0 \nL 2534 0 \nL 2516 506 \nQ 2375 344 2248 236 \nQ 2122 128 1997 62 \nQ 1872 -3 1745 -29 \nQ 1619 -56 1478 -56 \nQ 994 -56 747 228 \nQ 500 513 500 1088 \nL 500 3138 \nL 1044 3138 \nL 1044 1131 \nQ 1044 409 1588 409 \nQ 1688 409 1783 439 \nQ 1878 469 1983 542 \nQ 2088 616 2208 741 \nQ 2328 866 2478 1056 \nL 2478 3138 \nL 3022 3138 \nL 3022 0 \nz\n\" transform=\"scale(0.015625)\"/>\n        <path id=\"Consolas-6d\" d=\"M 2738 0 \nL 2738 2253 \nQ 2738 2400 2727 2494 \nQ 2716 2588 2692 2642 \nQ 2669 2697 2633 2719 \nQ 2597 2741 2544 2741 \nQ 2481 2741 2428 2703 \nQ 2375 2666 2314 2581 \nQ 2253 2497 2179 2358 \nQ 2106 2219 2006 2016 \nL 2006 0 \nL 1509 0 \nL 1509 2194 \nQ 1509 2366 1498 2472 \nQ 1488 2578 1464 2637 \nQ 1441 2697 1403 2719 \nQ 1366 2741 1313 2741 \nQ 1256 2741 1206 2709 \nQ 1156 2678 1095 2597 \nQ 1034 2516 959 2375 \nQ 884 2234 781 2016 \nL 781 0 \nL 281 0 \nL 281 3138 \nL 697 3138 \nL 722 2541 \nQ 803 2719 879 2844 \nQ 956 2969 1037 3045 \nQ 1119 3122 1211 3158 \nQ 1303 3194 1416 3194 \nQ 1669 3194 1800 3028 \nQ 1931 2863 1931 2516 \nQ 2006 2678 2078 2804 \nQ 2150 2931 2233 3017 \nQ 2316 3103 2416 3148 \nQ 2516 3194 2647 3194 \nQ 3238 3194 3238 2284 \nL 3238 0 \nL 2738 0 \nz\n\" transform=\"scale(0.015625)\"/>\n        <path id=\"Consolas-6c\" d=\"M 1569 3969 \nL 641 3969 \nL 641 4416 \nL 2119 4416 \nL 2119 453 \nL 3053 453 \nL 3053 0 \nL 538 0 \nL 538 453 \nL 1569 453 \nL 1569 3969 \nz\n\" transform=\"scale(0.015625)\"/>\n       </defs>\n       <use xlink:href=\"#Consolas-47\"/>\n       <use xlink:href=\"#Consolas-75\" x=\"54.980469\"/>\n       <use xlink:href=\"#Consolas-61\" x=\"109.960938\"/>\n       <use xlink:href=\"#Consolas-74\" x=\"164.941406\"/>\n       <use xlink:href=\"#Consolas-65\" x=\"219.921875\"/>\n       <use xlink:href=\"#Consolas-6d\" x=\"274.902344\"/>\n       <use xlink:href=\"#Consolas-61\" x=\"329.882812\"/>\n       <use xlink:href=\"#Consolas-6c\" x=\"384.863281\"/>\n       <use xlink:href=\"#Consolas-61\" x=\"439.84375\"/>\n      </g>\n     </g>\n    </g>\n    <g id=\"ytick_4\">\n     <g id=\"line2d_19\">\n      <path d=\"M 10.968841 112.132432 \nL 691.587099 112.132432 \n\" clip-path=\"url(#p1c83603f7b)\" style=\"fill: none; stroke-dasharray: 0.4,0.66; stroke-dashoffset: 0; stroke: #0f0f0f; stroke-width: 0.4; stroke-linejoin: miter\"/>\n     </g>\n     <g id=\"line2d_20\">\n      <g>\n       <use xlink:href=\"#m33bd8570cf\" x=\"691.587099\" y=\"112.132432\" style=\"fill: #0f0f0f; stroke: #0f0f0f; stroke-width: 0.2\"/>\n      </g>\n     </g>\n     <g id=\"text_11\">\n      <!-- Sri Lanka -->\n      <g style=\"fill: #0f0f0f\" transform=\"translate(697.087099 115.868437) scale(0.10829 -0.10829)\">\n       <defs>\n        <path id=\"Consolas-53\" d=\"M 3116 1106 \nQ 3116 816 2997 597 \nQ 2878 378 2665 233 \nQ 2453 88 2154 16 \nQ 1856 -56 1497 -56 \nQ 1334 -56 1173 -43 \nQ 1013 -31 864 -12 \nQ 716 6 584 31 \nQ 453 56 347 84 \nL 347 622 \nQ 581 534 873 484 \nQ 1166 434 1538 434 \nQ 1806 434 1995 476 \nQ 2184 519 2304 601 \nQ 2425 684 2479 803 \nQ 2534 922 2534 1075 \nQ 2534 1241 2442 1358 \nQ 2350 1475 2200 1567 \nQ 2050 1659 1858 1736 \nQ 1666 1813 1466 1894 \nQ 1266 1975 1073 2070 \nQ 881 2166 731 2295 \nQ 581 2425 489 2600 \nQ 397 2775 397 3016 \nQ 397 3225 484 3428 \nQ 572 3631 756 3789 \nQ 941 3947 1230 4044 \nQ 1519 4141 1919 4141 \nQ 2022 4141 2142 4131 \nQ 2263 4122 2386 4105 \nQ 2509 4088 2629 4066 \nQ 2750 4044 2853 4019 \nL 2853 3519 \nQ 2613 3588 2372 3623 \nQ 2131 3659 1906 3659 \nQ 1428 3659 1203 3500 \nQ 978 3341 978 3072 \nQ 978 2906 1070 2787 \nQ 1163 2669 1313 2575 \nQ 1463 2481 1655 2404 \nQ 1847 2328 2047 2247 \nQ 2247 2166 2439 2069 \nQ 2631 1972 2781 1839 \nQ 2931 1706 3023 1528 \nQ 3116 1350 3116 1106 \nz\n\" transform=\"scale(0.015625)\"/>\n        <path id=\"Consolas-4c\" d=\"M 3078 0 \nL 728 0 \nL 728 4084 \nL 1294 4084 \nL 1294 475 \nL 3078 475 \nL 3078 0 \nz\n\" transform=\"scale(0.015625)\"/>\n       </defs>\n       <use xlink:href=\"#Consolas-53\"/>\n       <use xlink:href=\"#Consolas-72\" x=\"54.980469\"/>\n       <use xlink:href=\"#Consolas-69\" x=\"109.960938\"/>\n       <use xlink:href=\"#Consolas-20\" x=\"164.941406\"/>\n       <use xlink:href=\"#Consolas-4c\" x=\"219.921875\"/>\n       <use xlink:href=\"#Consolas-61\" x=\"274.902344\"/>\n       <use xlink:href=\"#Consolas-6e\" x=\"329.882812\"/>\n       <use xlink:href=\"#Consolas-6b\" x=\"384.863281\"/>\n       <use xlink:href=\"#Consolas-61\" x=\"439.84375\"/>\n      </g>\n     </g>\n    </g>\n    <g id=\"ytick_5\">\n     <g id=\"line2d_21\">\n      <path d=\"M 10.968841 99.348942 \nL 691.587099 99.348942 \n\" clip-path=\"url(#p1c83603f7b)\" style=\"fill: none; stroke-dasharray: 0.4,0.66; stroke-dashoffset: 0; stroke: #0f0f0f; stroke-width: 0.4; stroke-linejoin: miter\"/>\n     </g>\n     <g id=\"line2d_22\">\n      <g>\n       <use xlink:href=\"#m33bd8570cf\" x=\"691.587099\" y=\"99.348942\" style=\"fill: #0f0f0f; stroke: #0f0f0f; stroke-width: 0.2\"/>\n      </g>\n     </g>\n     <g id=\"text_12\">\n      <!-- Tanzania -->\n      <g style=\"fill: #0f0f0f\" transform=\"translate(697.087099 103.084947) scale(0.10829 -0.10829)\">\n       <defs>\n        <path id=\"Consolas-54\" d=\"M 3250 3609 \nL 2041 3609 \nL 2041 0 \nL 1478 0 \nL 1478 3609 \nL 269 3609 \nL 269 4084 \nL 3250 4084 \nL 3250 3609 \nz\n\" transform=\"scale(0.015625)\"/>\n       </defs>\n       <use xlink:href=\"#Consolas-54\"/>\n       <use xlink:href=\"#Consolas-61\" x=\"54.980469\"/>\n       <use xlink:href=\"#Consolas-6e\" x=\"109.960938\"/>\n       <use xlink:href=\"#Consolas-7a\" x=\"164.941406\"/>\n       <use xlink:href=\"#Consolas-61\" x=\"219.921875\"/>\n       <use xlink:href=\"#Consolas-6e\" x=\"274.902344\"/>\n       <use xlink:href=\"#Consolas-69\" x=\"329.882812\"/>\n       <use xlink:href=\"#Consolas-61\" x=\"384.863281\"/>\n      </g>\n     </g>\n    </g>\n    <g id=\"ytick_6\">\n     <g id=\"line2d_23\">\n      <path d=\"M 10.968841 86.565452 \nL 691.587099 86.565452 \n\" clip-path=\"url(#p1c83603f7b)\" style=\"fill: none; stroke-dasharray: 0.4,0.66; stroke-dashoffset: 0; stroke: #0f0f0f; stroke-width: 0.4; stroke-linejoin: miter\"/>\n     </g>\n     <g id=\"line2d_24\">\n      <g>\n       <use xlink:href=\"#m33bd8570cf\" x=\"691.587099\" y=\"86.565452\" style=\"fill: #0f0f0f; stroke: #0f0f0f; stroke-width: 0.2\"/>\n      </g>\n     </g>\n     <g id=\"text_13\">\n      <!-- Azerbaijan -->\n      <g style=\"fill: #0f0f0f\" transform=\"translate(697.087099 90.33276) scale(0.10829 -0.10829)\">\n       <defs>\n        <path id=\"Consolas-41\" d=\"M 3488 0 \nL 2881 0 \nL 2597 891 \nL 897 891 \nL 609 0 \nL 31 0 \nL 1388 4084 \nL 2150 4084 \nL 3488 0 \nz\nM 2438 1388 \nL 1747 3572 \nL 1056 1388 \nL 2438 1388 \nz\n\" transform=\"scale(0.015625)\"/>\n        <path id=\"Consolas-6a\" d=\"M 2625 3138 \nL 2625 56 \nQ 2625 -272 2531 -526 \nQ 2438 -781 2263 -956 \nQ 2088 -1131 1833 -1222 \nQ 1578 -1313 1259 -1313 \nQ 1028 -1313 808 -1270 \nQ 588 -1228 409 -1153 \nL 409 -634 \nQ 506 -684 617 -725 \nQ 728 -766 845 -794 \nQ 963 -822 1081 -836 \nQ 1200 -850 1313 -850 \nQ 1669 -850 1872 -625 \nQ 2075 -400 2075 38 \nL 2075 2688 \nL 538 2688 \nL 538 3138 \nL 2625 3138 \nz\nM 2297 4453 \nQ 2388 4453 2466 4420 \nQ 2544 4388 2601 4328 \nQ 2659 4269 2692 4191 \nQ 2725 4113 2725 4025 \nQ 2725 3934 2692 3857 \nQ 2659 3781 2601 3722 \nQ 2544 3663 2466 3630 \nQ 2388 3597 2297 3597 \nQ 2206 3597 2128 3630 \nQ 2050 3663 1992 3722 \nQ 1934 3781 1901 3857 \nQ 1869 3934 1869 4025 \nQ 1869 4113 1901 4191 \nQ 1934 4269 1992 4328 \nQ 2050 4388 2128 4420 \nQ 2206 4453 2297 4453 \nz\n\" transform=\"scale(0.015625)\"/>\n       </defs>\n       <use xlink:href=\"#Consolas-41\"/>\n       <use xlink:href=\"#Consolas-7a\" x=\"54.980469\"/>\n       <use xlink:href=\"#Consolas-65\" x=\"109.960938\"/>\n       <use xlink:href=\"#Consolas-72\" x=\"164.941406\"/>\n       <use xlink:href=\"#Consolas-62\" x=\"219.921875\"/>\n       <use xlink:href=\"#Consolas-61\" x=\"274.902344\"/>\n       <use xlink:href=\"#Consolas-69\" x=\"329.882812\"/>\n       <use xlink:href=\"#Consolas-6a\" x=\"384.863281\"/>\n       <use xlink:href=\"#Consolas-61\" x=\"439.84375\"/>\n       <use xlink:href=\"#Consolas-6e\" x=\"494.824219\"/>\n      </g>\n     </g>\n    </g>\n    <g id=\"ytick_7\">\n     <g id=\"line2d_25\">\n      <path d=\"M 10.968841 73.781963 \nL 691.587099 73.781963 \n\" clip-path=\"url(#p1c83603f7b)\" style=\"fill: none; stroke-dasharray: 0.4,0.66; stroke-dashoffset: 0; stroke: #0f0f0f; stroke-width: 0.4; stroke-linejoin: miter\"/>\n     </g>\n     <g id=\"line2d_26\">\n      <g>\n       <use xlink:href=\"#m33bd8570cf\" x=\"691.587099\" y=\"73.781963\" style=\"fill: #0f0f0f; stroke: #0f0f0f; stroke-width: 0.2\"/>\n      </g>\n     </g>\n     <g id=\"text_14\">\n      <!-- Uganda -->\n      <g style=\"fill: #0f0f0f\" transform=\"translate(697.087099 77.517968) scale(0.10829 -0.10829)\">\n       <defs>\n        <path id=\"Consolas-67\" d=\"M 2759 2694 \nQ 2847 2584 2895 2439 \nQ 2944 2294 2944 2125 \nQ 2944 1881 2855 1679 \nQ 2766 1478 2603 1334 \nQ 2441 1191 2214 1111 \nQ 1988 1031 1716 1031 \nQ 1519 1031 1347 1073 \nQ 1175 1116 1075 1178 \nQ 1016 1091 975 1012 \nQ 934 934 934 838 \nQ 934 719 1048 641 \nQ 1163 563 1350 556 \nL 2175 525 \nQ 2409 519 2607 466 \nQ 2806 413 2948 313 \nQ 3091 213 3170 66 \nQ 3250 -81 3250 -275 \nQ 3250 -484 3159 -671 \nQ 3069 -859 2880 -1001 \nQ 2691 -1144 2400 -1228 \nQ 2109 -1313 1709 -1313 \nQ 1328 -1313 1061 -1252 \nQ 794 -1191 622 -1083 \nQ 450 -975 372 -826 \nQ 294 -678 294 -500 \nQ 294 -272 400 -100 \nQ 506 72 728 231 \nQ 647 269 587 325 \nQ 528 381 490 448 \nQ 453 516 434 591 \nQ 416 666 416 738 \nQ 416 941 511 1109 \nQ 606 1278 738 1428 \nQ 678 1500 633 1569 \nQ 588 1638 555 1717 \nQ 522 1797 505 1889 \nQ 488 1981 488 2100 \nQ 488 2344 577 2545 \nQ 666 2747 827 2890 \nQ 988 3034 1214 3114 \nQ 1441 3194 1716 3194 \nQ 1831 3194 1937 3178 \nQ 2044 3163 2125 3138 \nL 3263 3138 \nL 3263 2694 \nL 2759 2694 \nz\nM 872 -453 \nQ 872 -675 1103 -776 \nQ 1334 -878 1747 -878 \nQ 2006 -878 2182 -831 \nQ 2359 -784 2467 -707 \nQ 2575 -631 2622 -532 \nQ 2669 -434 2669 -331 \nQ 2669 -141 2512 -50 \nQ 2356 41 2034 56 \nL 1216 84 \nQ 1113 16 1045 -50 \nQ 978 -116 940 -183 \nQ 903 -250 887 -317 \nQ 872 -384 872 -453 \nz\nM 1038 2113 \nQ 1038 1963 1088 1838 \nQ 1138 1713 1228 1625 \nQ 1319 1538 1442 1489 \nQ 1566 1441 1716 1441 \nQ 1878 1441 2004 1495 \nQ 2131 1550 2217 1644 \nQ 2303 1738 2348 1859 \nQ 2394 1981 2394 2113 \nQ 2394 2263 2344 2388 \nQ 2294 2513 2203 2600 \nQ 2113 2688 1989 2736 \nQ 1866 2784 1716 2784 \nQ 1553 2784 1426 2728 \nQ 1300 2672 1214 2580 \nQ 1128 2488 1083 2366 \nQ 1038 2244 1038 2113 \nz\n\" transform=\"scale(0.015625)\"/>\n       </defs>\n       <use xlink:href=\"#Consolas-55\"/>\n       <use xlink:href=\"#Consolas-67\" x=\"54.980469\"/>\n       <use xlink:href=\"#Consolas-61\" x=\"109.960938\"/>\n       <use xlink:href=\"#Consolas-6e\" x=\"164.941406\"/>\n       <use xlink:href=\"#Consolas-64\" x=\"219.921875\"/>\n       <use xlink:href=\"#Consolas-61\" x=\"274.902344\"/>\n      </g>\n     </g>\n    </g>\n    <g id=\"ytick_8\">\n     <g id=\"line2d_27\">\n      <path d=\"M 10.968841 60.998473 \nL 691.587099 60.998473 \n\" clip-path=\"url(#p1c83603f7b)\" style=\"fill: none; stroke-dasharray: 0.4,0.66; stroke-dashoffset: 0; stroke: #0f0f0f; stroke-width: 0.4; stroke-linejoin: miter\"/>\n     </g>\n     <g id=\"line2d_28\">\n      <g>\n       <use xlink:href=\"#m33bd8570cf\" x=\"691.587099\" y=\"60.998473\" style=\"fill: #0f0f0f; stroke: #0f0f0f; stroke-width: 0.2\"/>\n      </g>\n     </g>\n     <g id=\"text_15\">\n      <!-- Kenya -->\n      <g style=\"fill: #0f0f0f\" transform=\"translate(697.087099 64.718404) scale(0.10829 -0.10829)\">\n       <defs>\n        <path id=\"Consolas-4b\" d=\"M 3272 0 \nL 2572 0 \nL 1044 2003 \nL 1044 0 \nL 488 0 \nL 488 4084 \nL 1044 4084 \nL 1044 2188 \nL 2541 4084 \nL 3200 4084 \nL 1588 2144 \nL 3272 0 \nz\n\" transform=\"scale(0.015625)\"/>\n        <path id=\"Consolas-79\" d=\"M 3291 3138 \nL 2222 331 \nQ 2056 -97 1879 -406 \nQ 1703 -716 1493 -914 \nQ 1284 -1113 1034 -1206 \nQ 784 -1300 475 -1300 \nQ 394 -1300 328 -1297 \nQ 263 -1294 184 -1288 \nL 184 -794 \nQ 253 -803 334 -811 \nQ 416 -819 506 -819 \nQ 656 -819 786 -775 \nQ 916 -731 1031 -632 \nQ 1147 -534 1253 -378 \nQ 1359 -222 1459 0 \nL 206 3138 \nL 825 3138 \nL 1619 1063 \nL 1778 575 \nL 1959 1075 \nL 2694 3138 \nL 3291 3138 \nz\n\" transform=\"scale(0.015625)\"/>\n       </defs>\n       <use xlink:href=\"#Consolas-4b\"/>\n       <use xlink:href=\"#Consolas-65\" x=\"54.980469\"/>\n       <use xlink:href=\"#Consolas-6e\" x=\"109.960938\"/>\n       <use xlink:href=\"#Consolas-79\" x=\"164.941406\"/>\n       <use xlink:href=\"#Consolas-61\" x=\"219.921875\"/>\n      </g>\n     </g>\n    </g>\n    <g id=\"ytick_9\">\n     <g id=\"line2d_29\">\n      <path d=\"M 10.968841 48.214983 \nL 691.587099 48.214983 \n\" clip-path=\"url(#p1c83603f7b)\" style=\"fill: none; stroke-dasharray: 0.4,0.66; stroke-dashoffset: 0; stroke: #0f0f0f; stroke-width: 0.4; stroke-linejoin: miter\"/>\n     </g>\n     <g id=\"line2d_30\">\n      <g>\n       <use xlink:href=\"#m33bd8570cf\" x=\"691.587099\" y=\"48.214983\" style=\"fill: #0f0f0f; stroke: #0f0f0f; stroke-width: 0.2\"/>\n      </g>\n     </g>\n     <g id=\"text_16\">\n      <!-- Ghana -->\n      <g style=\"fill: #0f0f0f\" transform=\"translate(697.087099 51.950988) scale(0.10829 -0.10829)\">\n       <defs>\n        <path id=\"Consolas-68\" d=\"M 3022 0 \nL 2478 0 \nL 2478 2003 \nQ 2478 2366 2342 2545 \nQ 2206 2725 1953 2725 \nQ 1844 2725 1748 2695 \nQ 1653 2666 1550 2592 \nQ 1447 2519 1325 2394 \nQ 1203 2269 1044 2081 \nL 1044 0 \nL 500 0 \nL 500 4416 \nL 1044 4416 \nL 1044 3138 \nL 1025 2644 \nQ 1153 2797 1276 2901 \nQ 1400 3006 1523 3072 \nQ 1647 3138 1775 3166 \nQ 1903 3194 2041 3194 \nQ 2509 3194 2765 2908 \nQ 3022 2622 3022 2047 \nL 3022 0 \nz\n\" transform=\"scale(0.015625)\"/>\n       </defs>\n       <use xlink:href=\"#Consolas-47\"/>\n       <use xlink:href=\"#Consolas-68\" x=\"54.980469\"/>\n       <use xlink:href=\"#Consolas-61\" x=\"109.960938\"/>\n       <use xlink:href=\"#Consolas-6e\" x=\"164.941406\"/>\n       <use xlink:href=\"#Consolas-61\" x=\"219.921875\"/>\n      </g>\n     </g>\n    </g>\n    <g id=\"ytick_10\">\n     <g id=\"line2d_31\">\n      <path d=\"M 10.968841 35.431493 \nL 691.587099 35.431493 \n\" clip-path=\"url(#p1c83603f7b)\" style=\"fill: none; stroke-dasharray: 0.4,0.66; stroke-dashoffset: 0; stroke: #0f0f0f; stroke-width: 0.4; stroke-linejoin: miter\"/>\n     </g>\n     <g id=\"line2d_32\">\n      <g>\n       <use xlink:href=\"#m33bd8570cf\" x=\"691.587099\" y=\"35.431493\" style=\"fill: #0f0f0f; stroke: #0f0f0f; stroke-width: 0.2\"/>\n      </g>\n     </g>\n     <g id=\"text_17\">\n      <!-- India -->\n      <g style=\"fill: #0f0f0f\" transform=\"translate(697.087099 39.167498) scale(0.10829 -0.10829)\">\n       <use xlink:href=\"#Consolas-49\"/>\n       <use xlink:href=\"#Consolas-6e\" x=\"54.980469\"/>\n       <use xlink:href=\"#Consolas-64\" x=\"109.960938\"/>\n       <use xlink:href=\"#Consolas-69\" x=\"164.941406\"/>\n       <use xlink:href=\"#Consolas-61\" x=\"219.921875\"/>\n      </g>\n     </g>\n    </g>\n    <g id=\"text_18\">\n     <!-- Region -->\n     <g style=\"fill: #0f0f0f\" transform=\"translate(768.164294 110.819971) rotate(-90) scale(0.10829 -0.10829)\">\n      <defs>\n       <path id=\"Consolas-52\" d=\"M 3284 0 \nL 2656 0 \nL 2047 1306 \nQ 1978 1456 1906 1554 \nQ 1834 1653 1751 1711 \nQ 1669 1769 1570 1794 \nQ 1472 1819 1350 1819 \nL 1088 1819 \nL 1088 0 \nL 531 0 \nL 531 4084 \nL 1625 4084 \nQ 1981 4084 2237 4006 \nQ 2494 3928 2658 3787 \nQ 2822 3647 2898 3448 \nQ 2975 3250 2975 3009 \nQ 2975 2819 2919 2648 \nQ 2863 2478 2752 2339 \nQ 2641 2200 2477 2098 \nQ 2313 1997 2100 1947 \nQ 2272 1888 2392 1739 \nQ 2513 1591 2638 1344 \nL 3284 0 \nz\nM 2394 2963 \nQ 2394 3291 2189 3453 \nQ 1984 3616 1613 3616 \nL 1088 3616 \nL 1088 2266 \nL 1538 2266 \nQ 1734 2266 1892 2311 \nQ 2050 2356 2161 2445 \nQ 2272 2534 2333 2664 \nQ 2394 2794 2394 2963 \nz\n\" transform=\"scale(0.015625)\"/>\n      </defs>\n      <use xlink:href=\"#Consolas-52\"/>\n      <use xlink:href=\"#Consolas-65\" x=\"54.980469\"/>\n      <use xlink:href=\"#Consolas-67\" x=\"109.960938\"/>\n      <use xlink:href=\"#Consolas-69\" x=\"164.941406\"/>\n      <use xlink:href=\"#Consolas-6f\" x=\"219.921875\"/>\n      <use xlink:href=\"#Consolas-6e\" x=\"274.902344\"/>\n     </g>\n    </g>\n   </g>\n   <g id=\"patch_3\">\n    <path d=\"M 10.968841 161.860207 \nL 10.968841 24.054187 \n\" style=\"fill: none; stroke: #0f0f0f; stroke-width: 0.2; stroke-linejoin: miter; stroke-linecap: square\"/>\n   </g>\n   <g id=\"patch_4\">\n    <path d=\"M 691.587099 161.860207 \nL 691.587099 24.054187 \n\" style=\"fill: none; stroke: #0f0f0f; stroke-width: 0.2; stroke-linejoin: miter; stroke-linecap: square\"/>\n   </g>\n   <g id=\"patch_5\">\n    <path d=\"M 10.968841 161.860207 \nL 691.587099 161.860207 \n\" style=\"fill: none; stroke: #0f0f0f; stroke-width: 0.2; stroke-linejoin: miter; stroke-linecap: square\"/>\n   </g>\n   <g id=\"patch_6\">\n    <path d=\"M 10.968841 24.054187 \nL 691.587099 24.054187 \n\" style=\"fill: none; stroke: #0f0f0f; stroke-width: 0.2; stroke-linejoin: miter; stroke-linecap: square\"/>\n   </g>\n   <g id=\"patch_7\">\n    <path d=\"M 10.968841 155.596297 \nL 134.128335 155.596297 \nL 134.128335 145.369505 \nL 10.968841 145.369505 \nz\n\" clip-path=\"url(#p1c83603f7b)\" style=\"fill: #af87ff\"/>\n   </g>\n   <g id=\"patch_8\">\n    <path d=\"M 10.968841 142.812807 \nL 160.05665 142.812807 \nL 160.05665 132.586016 \nL 10.968841 132.586016 \nz\n\" clip-path=\"url(#p1c83603f7b)\" style=\"fill: #5f00af\"/>\n   </g>\n   <g id=\"patch_9\">\n    <path d=\"M 10.968841 130.029318 \nL 198.949122 130.029318 \nL 198.949122 119.802526 \nL 10.968841 119.802526 \nz\n\" clip-path=\"url(#p1c83603f7b)\" style=\"fill: #af005f\"/>\n   </g>\n   <g id=\"patch_10\">\n    <path d=\"M 10.968841 117.245828 \nL 224.877436 117.245828 \nL 224.877436 107.019036 \nL 10.968841 107.019036 \nz\n\" clip-path=\"url(#p1c83603f7b)\" style=\"fill: #9b30d9\"/>\n   </g>\n   <g id=\"patch_11\">\n    <path d=\"M 10.968841 104.462338 \nL 270.251987 104.462338 \nL 270.251987 94.235546 \nL 10.968841 94.235546 \nz\n\" clip-path=\"url(#p1c83603f7b)\" style=\"fill: #00aaff\"/>\n   </g>\n   <g id=\"patch_12\">\n    <path d=\"M 10.968841 91.678848 \nL 289.698223 91.678848 \nL 289.698223 81.452057 \nL 10.968841 81.452057 \nz\n\" clip-path=\"url(#p1c83603f7b)\" style=\"fill: #ffed00\"/>\n   </g>\n   <g id=\"patch_13\">\n    <path d=\"M 10.968841 78.895359 \nL 309.144459 78.895359 \nL 309.144459 68.668567 \nL 10.968841 68.668567 \nz\n\" clip-path=\"url(#p1c83603f7b)\" style=\"fill: #822661\"/>\n   </g>\n   <g id=\"patch_14\">\n    <path d=\"M 10.968841 66.111869 \nL 322.108616 66.111869 \nL 322.108616 55.885077 \nL 10.968841 55.885077 \nz\n\" clip-path=\"url(#p1c83603f7b)\" style=\"fill: #ef7d00\"/>\n   </g>\n   <g id=\"patch_15\">\n    <path d=\"M 10.968841 53.328379 \nL 361.001088 53.328379 \nL 361.001088 43.101587 \nL 10.968841 43.101587 \nz\n\" clip-path=\"url(#p1c83603f7b)\" style=\"fill: #e4003a\"/>\n   </g>\n   <g id=\"patch_16\">\n    <path d=\"M 10.968841 40.544889 \nL 659.176706 40.544889 \nL 659.176706 30.318097 \nL 10.968841 30.318097 \nz\n\" clip-path=\"url(#p1c83603f7b)\" style=\"fill: #48277c\"/>\n   </g>\n   <g id=\"text_19\">\n    <!-- Regions with highest interest in MP -->\n    <g style=\"fill: #0f0f0f\" transform=\"translate(10.968841 18.054187) scale(0.156 -0.156)\">\n     <defs>\n      <path id=\"Consolas-77\" d=\"M 3406 3138 \nL 2950 0 \nL 2291 0 \nL 1838 1313 \nL 1747 1631 \nL 1644 1294 \nL 1209 0 \nL 569 0 \nL 116 3138 \nL 647 3138 \nL 909 1006 \nL 966 531 \nL 1100 947 \nL 1556 2356 \nL 1947 2356 \nL 2438 966 \nL 2578 550 \nL 2625 991 \nL 2869 3138 \nL 3406 3138 \nz\n\" transform=\"scale(0.015625)\"/>\n      <path id=\"Consolas-4d\" d=\"M 3366 0 \nL 2822 0 \nL 2741 2547 \nL 2706 3525 \nL 2516 2956 \nL 1913 1331 \nL 1528 1331 \nL 953 2894 \nL 763 3525 \nL 750 2503 \nL 678 0 \nL 153 0 \nL 353 4084 \nL 1013 4084 \nL 1563 2547 \nL 1741 2028 \nL 1913 2547 \nL 2491 4084 \nL 3169 4084 \nL 3366 0 \nz\n\" transform=\"scale(0.015625)\"/>\n      <path id=\"Consolas-50\" d=\"M 3175 2834 \nQ 3175 2584 3081 2339 \nQ 2988 2094 2791 1900 \nQ 2594 1706 2287 1586 \nQ 1981 1466 1556 1466 \nL 1050 1466 \nL 1050 0 \nL 494 0 \nL 494 4084 \nL 1644 4084 \nQ 1947 4084 2225 4017 \nQ 2503 3950 2714 3800 \nQ 2925 3650 3050 3412 \nQ 3175 3175 3175 2834 \nz\nM 2597 2809 \nQ 2597 3203 2339 3412 \nQ 2081 3622 1619 3622 \nL 1050 3622 \nL 1050 1941 \nL 1569 1941 \nQ 2063 1941 2330 2156 \nQ 2597 2372 2597 2809 \nz\n\" transform=\"scale(0.015625)\"/>\n     </defs>\n     <use xlink:href=\"#Consolas-52\"/>\n     <use xlink:href=\"#Consolas-65\" x=\"54.980469\"/>\n     <use xlink:href=\"#Consolas-67\" x=\"109.960938\"/>\n     <use xlink:href=\"#Consolas-69\" x=\"164.941406\"/>\n     <use xlink:href=\"#Consolas-6f\" x=\"219.921875\"/>\n     <use xlink:href=\"#Consolas-6e\" x=\"274.902344\"/>\n     <use xlink:href=\"#Consolas-73\" x=\"329.882812\"/>\n     <use xlink:href=\"#Consolas-20\" x=\"384.863281\"/>\n     <use xlink:href=\"#Consolas-77\" x=\"439.84375\"/>\n     <use xlink:href=\"#Consolas-69\" x=\"494.824219\"/>\n     <use xlink:href=\"#Consolas-74\" x=\"549.804688\"/>\n     <use xlink:href=\"#Consolas-68\" x=\"604.785156\"/>\n     <use xlink:href=\"#Consolas-20\" x=\"659.765625\"/>\n     <use xlink:href=\"#Consolas-68\" x=\"714.746094\"/>\n     <use xlink:href=\"#Consolas-69\" x=\"769.726562\"/>\n     <use xlink:href=\"#Consolas-67\" x=\"824.707031\"/>\n     <use xlink:href=\"#Consolas-68\" x=\"879.6875\"/>\n     <use xlink:href=\"#Consolas-65\" x=\"934.667969\"/>\n     <use xlink:href=\"#Consolas-73\" x=\"989.648438\"/>\n     <use xlink:href=\"#Consolas-74\" x=\"1044.628906\"/>\n     <use xlink:href=\"#Consolas-20\" x=\"1099.609375\"/>\n     <use xlink:href=\"#Consolas-69\" x=\"1154.589844\"/>\n     <use xlink:href=\"#Consolas-6e\" x=\"1209.570312\"/>\n     <use xlink:href=\"#Consolas-74\" x=\"1264.550781\"/>\n     <use xlink:href=\"#Consolas-65\" x=\"1319.53125\"/>\n     <use xlink:href=\"#Consolas-72\" x=\"1374.511719\"/>\n     <use xlink:href=\"#Consolas-65\" x=\"1429.492188\"/>\n     <use xlink:href=\"#Consolas-73\" x=\"1484.472656\"/>\n     <use xlink:href=\"#Consolas-74\" x=\"1539.453125\"/>\n     <use xlink:href=\"#Consolas-20\" x=\"1594.433594\"/>\n     <use xlink:href=\"#Consolas-69\" x=\"1649.414062\"/>\n     <use xlink:href=\"#Consolas-6e\" x=\"1704.394531\"/>\n     <use xlink:href=\"#Consolas-20\" x=\"1759.375\"/>\n     <use xlink:href=\"#Consolas-4d\" x=\"1814.355469\"/>\n     <use xlink:href=\"#Consolas-50\" x=\"1869.335938\"/>\n    </g>\n   </g>\n  </g>\n </g>\n <defs>\n  <clipPath id=\"p1c83603f7b\">\n   <rect x=\"10.968841\" y=\"24.054187\" width=\"680.618259\" height=\"137.80602\"/>\n  </clipPath>\n </defs>\n</svg>\n",
      "text/plain": [
       "<Figure size 1650x450 with 1 Axes>"
      ]
     },
     "metadata": {},
     "output_type": "display_data"
    }
   ],
   "source": [
    "fig, ax = plt.subplots(figsize=(11, 3), dpi=150)\n",
    "openbb.stocks.ba.regions_chart(\n",
    "    symbol,\n",
    "    limit=10,\n",
    "    external_axes=[\n",
    "        ax,\n",
    "    ],\n",
    ")\n",
    "fig.tight_layout()\n",
    "f = io.BytesIO()\n",
    "fig.savefig(f, format=\"svg\")\n",
    "google_regions_chart = f.getvalue().decode(\"utf-8\")"
   ]
  },
  {
   "cell_type": "code",
   "execution_count": 25,
   "id": "4639665b",
   "metadata": {
    "papermill": {
     "duration": null,
     "end_time": null,
     "exception": null,
     "start_time": null,
     "status": "pending"
    },
    "tags": []
   },
   "outputs": [
    {
     "data": {
      "image/svg+xml": "<?xml version=\"1.0\" encoding=\"utf-8\" standalone=\"no\"?>\n<!DOCTYPE svg PUBLIC \"-//W3C//DTD SVG 1.1//EN\"\n  \"http://www.w3.org/Graphics/SVG/1.1/DTD/svg11.dtd\">\n<svg xmlns:xlink=\"http://www.w3.org/1999/xlink\" width=\"777.727081pt\" height=\"345.725005pt\" viewBox=\"0 0 777.727081 345.725005\" xmlns=\"http://www.w3.org/2000/svg\" version=\"1.1\">\n <metadata>\n  <rdf:RDF xmlns:dc=\"http://purl.org/dc/elements/1.1/\" xmlns:cc=\"http://creativecommons.org/ns#\" xmlns:rdf=\"http://www.w3.org/1999/02/22-rdf-syntax-ns#\">\n   <cc:Work>\n    <dc:type rdf:resource=\"http://purl.org/dc/dcmitype/StillImage\"/>\n    <dc:date>2023-02-10T10:46:12.254265</dc:date>\n    <dc:format>image/svg+xml</dc:format>\n    <dc:creator>\n     <cc:Agent>\n      <dc:title>Matplotlib v3.6.2, https://matplotlib.org/</dc:title>\n     </cc:Agent>\n    </dc:creator>\n   </cc:Work>\n  </rdf:RDF>\n </metadata>\n <defs>\n  <style type=\"text/css\">*{stroke-linejoin: round; stroke-linecap: butt}</style>\n </defs>\n <g id=\"figure_1\">\n  <g id=\"patch_1\">\n   <path d=\"M 0 345.725005 \nL 777.727081 345.725005 \nL 777.727081 0 \nL 0 0 \nz\n\" style=\"fill: #ffffff\"/>\n  </g>\n  <g id=\"axes_1\">\n   <g id=\"patch_2\">\n    <path d=\"M 7.2 316.294326 \nL 733.0375 316.294326 \nL 733.0375 24.054188 \nL 7.2 24.054188 \nz\n\" style=\"fill: #ffffff\"/>\n   </g>\n   <g id=\"matplotlib.axis_1\">\n    <g id=\"xtick_1\">\n     <g id=\"line2d_1\">\n      <path d=\"M 46.863251 316.294326 \nL 46.863251 24.054188 \n\" clip-path=\"url(#pec1d4ee72f)\" style=\"fill: none; stroke-dasharray: 0.4,0.66; stroke-dashoffset: 0; stroke: #0f0f0f; stroke-width: 0.4; stroke-linejoin: miter\"/>\n     </g>\n     <g id=\"line2d_2\">\n      <defs>\n       <path id=\"m6aa6300c1c\" d=\"M 0 0 \nL 0 2 \n\" style=\"stroke: #0f0f0f; stroke-width: 0.2\"/>\n      </defs>\n      <g>\n       <use xlink:href=\"#m6aa6300c1c\" x=\"46.863251\" y=\"316.294326\" style=\"fill: #0f0f0f; stroke: #0f0f0f; stroke-width: 0.2\"/>\n      </g>\n     </g>\n     <g id=\"text_1\">\n      <!-- 2022-03 -->\n      <g style=\"fill: #0f0f0f\" transform=\"translate(26.800513 336.390442) rotate(-10) scale(0.10829 -0.10829)\">\n       <defs>\n        <path id=\"Consolas-32\" d=\"M 3150 0 \nL 459 0 \nL 459 488 \nL 1516 1538 \nQ 1775 1794 1937 1981 \nQ 2100 2169 2190 2323 \nQ 2281 2478 2312 2615 \nQ 2344 2753 2344 2913 \nQ 2344 3063 2303 3198 \nQ 2263 3334 2178 3437 \nQ 2094 3541 1959 3600 \nQ 1825 3659 1638 3659 \nQ 1378 3659 1165 3543 \nQ 953 3428 775 3244 \nL 475 3603 \nQ 706 3847 1007 3994 \nQ 1309 4141 1709 4141 \nQ 1981 4141 2204 4059 \nQ 2428 3978 2590 3825 \nQ 2753 3672 2842 3450 \nQ 2931 3228 2931 2950 \nQ 2931 2716 2868 2516 \nQ 2806 2316 2679 2117 \nQ 2553 1919 2361 1706 \nQ 2169 1494 1906 1241 \nL 1166 519 \nL 3150 519 \nL 3150 0 \nz\n\" transform=\"scale(0.015625)\"/>\n        <path id=\"Consolas-30\" d=\"M 3244 2041 \nQ 3244 1572 3150 1186 \nQ 3056 800 2865 523 \nQ 2675 247 2392 95 \nQ 2109 -56 1728 -56 \nQ 1400 -56 1131 67 \nQ 863 191 672 447 \nQ 481 703 378 1100 \nQ 275 1497 275 2041 \nQ 275 2509 370 2896 \nQ 466 3284 655 3561 \nQ 844 3838 1128 3989 \nQ 1413 4141 1791 4141 \nQ 2119 4141 2387 4017 \nQ 2656 3894 2847 3636 \nQ 3038 3378 3141 2981 \nQ 3244 2584 3244 2041 \nz\nM 2694 2022 \nQ 2694 2128 2686 2233 \nQ 2678 2338 2669 2438 \nL 941 1153 \nQ 988 991 1059 853 \nQ 1131 716 1232 617 \nQ 1334 519 1464 464 \nQ 1594 409 1759 409 \nQ 1972 409 2145 512 \nQ 2319 616 2441 819 \nQ 2563 1022 2628 1323 \nQ 2694 1625 2694 2022 \nz\nM 825 2059 \nQ 825 1963 826 1866 \nQ 828 1769 838 1678 \nL 2566 2956 \nQ 2519 3116 2447 3247 \nQ 2375 3378 2275 3473 \nQ 2175 3569 2047 3622 \nQ 1919 3675 1759 3675 \nQ 1547 3675 1373 3572 \nQ 1200 3469 1078 3264 \nQ 956 3059 890 2757 \nQ 825 2456 825 2059 \nz\n\" transform=\"scale(0.015625)\"/>\n        <path id=\"Consolas-2d\" d=\"M 2694 1447 \nL 825 1447 \nL 825 1959 \nL 2694 1959 \nL 2694 1447 \nz\n\" transform=\"scale(0.015625)\"/>\n        <path id=\"Consolas-33\" d=\"M 3072 1241 \nQ 3072 972 2962 736 \nQ 2853 500 2634 323 \nQ 2416 147 2084 45 \nQ 1753 -56 1313 -56 \nQ 1069 -56 875 -40 \nQ 681 -25 513 0 \nL 513 488 \nQ 706 453 922 434 \nQ 1138 416 1363 416 \nQ 1669 416 1886 470 \nQ 2103 525 2240 628 \nQ 2378 731 2440 878 \nQ 2503 1025 2503 1209 \nQ 2503 1378 2428 1503 \nQ 2353 1628 2217 1712 \nQ 2081 1797 1892 1839 \nQ 1703 1881 1478 1881 \nL 1013 1881 \nL 1013 2328 \nL 1484 2328 \nQ 1669 2328 1820 2376 \nQ 1972 2425 2080 2515 \nQ 2188 2606 2245 2739 \nQ 2303 2872 2303 3041 \nQ 2303 3369 2103 3519 \nQ 1903 3669 1516 3669 \nQ 1309 3669 1090 3628 \nQ 872 3588 622 3506 \nL 622 3981 \nQ 728 4019 848 4048 \nQ 969 4078 1089 4098 \nQ 1209 4119 1328 4130 \nQ 1447 4141 1556 4141 \nQ 1881 4141 2128 4070 \nQ 2375 4000 2540 3869 \nQ 2706 3738 2790 3550 \nQ 2875 3363 2875 3128 \nQ 2875 2778 2695 2540 \nQ 2516 2303 2203 2163 \nQ 2363 2138 2517 2063 \nQ 2672 1988 2795 1870 \nQ 2919 1753 2995 1593 \nQ 3072 1434 3072 1241 \nz\n\" transform=\"scale(0.015625)\"/>\n       </defs>\n       <use xlink:href=\"#Consolas-32\"/>\n       <use xlink:href=\"#Consolas-30\" x=\"54.980469\"/>\n       <use xlink:href=\"#Consolas-32\" x=\"109.960938\"/>\n       <use xlink:href=\"#Consolas-32\" x=\"164.941406\"/>\n       <use xlink:href=\"#Consolas-2d\" x=\"219.921875\"/>\n       <use xlink:href=\"#Consolas-30\" x=\"274.902344\"/>\n       <use xlink:href=\"#Consolas-33\" x=\"329.882812\"/>\n      </g>\n     </g>\n    </g>\n    <g id=\"xtick_2\">\n     <g id=\"line2d_3\">\n      <path d=\"M 167.836168 316.294326 \nL 167.836168 24.054188 \n\" clip-path=\"url(#pec1d4ee72f)\" style=\"fill: none; stroke-dasharray: 0.4,0.66; stroke-dashoffset: 0; stroke: #0f0f0f; stroke-width: 0.4; stroke-linejoin: miter\"/>\n     </g>\n     <g id=\"line2d_4\">\n      <g>\n       <use xlink:href=\"#m6aa6300c1c\" x=\"167.836168\" y=\"316.294326\" style=\"fill: #0f0f0f; stroke: #0f0f0f; stroke-width: 0.2\"/>\n      </g>\n     </g>\n     <g id=\"text_2\">\n      <!-- 2022-05 -->\n      <g style=\"fill: #0f0f0f\" transform=\"translate(147.77343 336.390442) rotate(-10) scale(0.10829 -0.10829)\">\n       <defs>\n        <path id=\"Consolas-35\" d=\"M 3047 1306 \nQ 3047 1003 2915 753 \nQ 2784 503 2554 323 \nQ 2325 144 2012 44 \nQ 1700 -56 1338 -56 \nQ 1247 -56 1142 -51 \nQ 1038 -47 934 -39 \nQ 831 -31 732 -22 \nQ 634 -13 556 0 \nL 556 494 \nQ 725 453 942 434 \nQ 1159 416 1381 416 \nQ 1631 416 1831 475 \nQ 2031 534 2172 645 \nQ 2313 756 2388 914 \nQ 2463 1072 2463 1269 \nQ 2463 1650 2189 1823 \nQ 1916 1997 1403 1997 \nL 628 1997 \nL 628 4084 \nL 2828 4084 \nL 2828 3609 \nL 1141 3609 \nL 1141 2463 \nL 1497 2463 \nQ 1791 2463 2069 2409 \nQ 2347 2356 2564 2223 \nQ 2781 2091 2914 1867 \nQ 3047 1644 3047 1306 \nz\n\" transform=\"scale(0.015625)\"/>\n       </defs>\n       <use xlink:href=\"#Consolas-32\"/>\n       <use xlink:href=\"#Consolas-30\" x=\"54.980469\"/>\n       <use xlink:href=\"#Consolas-32\" x=\"109.960938\"/>\n       <use xlink:href=\"#Consolas-32\" x=\"164.941406\"/>\n       <use xlink:href=\"#Consolas-2d\" x=\"219.921875\"/>\n       <use xlink:href=\"#Consolas-30\" x=\"274.902344\"/>\n       <use xlink:href=\"#Consolas-35\" x=\"329.882812\"/>\n      </g>\n     </g>\n    </g>\n    <g id=\"xtick_3\">\n     <g id=\"line2d_5\">\n      <path d=\"M 288.809085 316.294326 \nL 288.809085 24.054188 \n\" clip-path=\"url(#pec1d4ee72f)\" style=\"fill: none; stroke-dasharray: 0.4,0.66; stroke-dashoffset: 0; stroke: #0f0f0f; stroke-width: 0.4; stroke-linejoin: miter\"/>\n     </g>\n     <g id=\"line2d_6\">\n      <g>\n       <use xlink:href=\"#m6aa6300c1c\" x=\"288.809085\" y=\"316.294326\" style=\"fill: #0f0f0f; stroke: #0f0f0f; stroke-width: 0.2\"/>\n      </g>\n     </g>\n     <g id=\"text_3\">\n      <!-- 2022-07 -->\n      <g style=\"fill: #0f0f0f\" transform=\"translate(268.746347 336.390442) rotate(-10) scale(0.10829 -0.10829)\">\n       <defs>\n        <path id=\"Consolas-37\" d=\"M 3128 3578 \nL 1416 0 \nL 794 0 \nL 2572 3578 \nL 366 3578 \nL 366 4084 \nL 3128 4084 \nL 3128 3578 \nz\n\" transform=\"scale(0.015625)\"/>\n       </defs>\n       <use xlink:href=\"#Consolas-32\"/>\n       <use xlink:href=\"#Consolas-30\" x=\"54.980469\"/>\n       <use xlink:href=\"#Consolas-32\" x=\"109.960938\"/>\n       <use xlink:href=\"#Consolas-32\" x=\"164.941406\"/>\n       <use xlink:href=\"#Consolas-2d\" x=\"219.921875\"/>\n       <use xlink:href=\"#Consolas-30\" x=\"274.902344\"/>\n       <use xlink:href=\"#Consolas-37\" x=\"329.882812\"/>\n      </g>\n     </g>\n    </g>\n    <g id=\"xtick_4\">\n     <g id=\"line2d_7\">\n      <path d=\"M 411.765164 316.294326 \nL 411.765164 24.054188 \n\" clip-path=\"url(#pec1d4ee72f)\" style=\"fill: none; stroke-dasharray: 0.4,0.66; stroke-dashoffset: 0; stroke: #0f0f0f; stroke-width: 0.4; stroke-linejoin: miter\"/>\n     </g>\n     <g id=\"line2d_8\">\n      <g>\n       <use xlink:href=\"#m6aa6300c1c\" x=\"411.765164\" y=\"316.294326\" style=\"fill: #0f0f0f; stroke: #0f0f0f; stroke-width: 0.2\"/>\n      </g>\n     </g>\n     <g id=\"text_4\">\n      <!-- 2022-09 -->\n      <g style=\"fill: #0f0f0f\" transform=\"translate(391.702426 336.390442) rotate(-10) scale(0.10829 -0.10829)\">\n       <defs>\n        <path id=\"Consolas-39\" d=\"M 3128 2272 \nQ 3128 1675 2984 1245 \nQ 2841 816 2559 539 \nQ 2278 263 1862 131 \nQ 1447 0 903 0 \nL 563 0 \nL 563 475 \nL 941 475 \nQ 1344 475 1637 556 \nQ 1931 638 2126 795 \nQ 2322 953 2425 1179 \nQ 2528 1406 2553 1697 \nL 2566 1825 \nQ 2369 1709 2112 1639 \nQ 1856 1569 1556 1569 \nQ 1247 1569 1012 1659 \nQ 778 1750 623 1912 \nQ 469 2075 391 2298 \nQ 313 2522 313 2784 \nQ 313 3069 416 3316 \nQ 519 3563 705 3745 \nQ 891 3928 1150 4034 \nQ 1409 4141 1722 4141 \nQ 2025 4141 2283 4041 \nQ 2541 3941 2728 3717 \nQ 2916 3494 3022 3137 \nQ 3128 2781 3128 2272 \nz\nM 1697 3694 \nQ 1522 3694 1373 3636 \nQ 1225 3578 1117 3467 \nQ 1009 3356 946 3193 \nQ 884 3031 884 2822 \nQ 884 2631 929 2481 \nQ 975 2331 1070 2226 \nQ 1166 2122 1316 2065 \nQ 1466 2009 1672 2009 \nQ 1788 2009 1911 2031 \nQ 2034 2053 2151 2090 \nQ 2269 2128 2375 2178 \nQ 2481 2228 2566 2284 \nQ 2566 2688 2506 2958 \nQ 2447 3228 2334 3392 \nQ 2222 3556 2061 3625 \nQ 1900 3694 1697 3694 \nz\n\" transform=\"scale(0.015625)\"/>\n       </defs>\n       <use xlink:href=\"#Consolas-32\"/>\n       <use xlink:href=\"#Consolas-30\" x=\"54.980469\"/>\n       <use xlink:href=\"#Consolas-32\" x=\"109.960938\"/>\n       <use xlink:href=\"#Consolas-32\" x=\"164.941406\"/>\n       <use xlink:href=\"#Consolas-2d\" x=\"219.921875\"/>\n       <use xlink:href=\"#Consolas-30\" x=\"274.902344\"/>\n       <use xlink:href=\"#Consolas-39\" x=\"329.882812\"/>\n      </g>\n     </g>\n    </g>\n    <g id=\"xtick_5\">\n     <g id=\"line2d_9\">\n      <path d=\"M 532.738081 316.294326 \nL 532.738081 24.054188 \n\" clip-path=\"url(#pec1d4ee72f)\" style=\"fill: none; stroke-dasharray: 0.4,0.66; stroke-dashoffset: 0; stroke: #0f0f0f; stroke-width: 0.4; stroke-linejoin: miter\"/>\n     </g>\n     <g id=\"line2d_10\">\n      <g>\n       <use xlink:href=\"#m6aa6300c1c\" x=\"532.738081\" y=\"316.294326\" style=\"fill: #0f0f0f; stroke: #0f0f0f; stroke-width: 0.2\"/>\n      </g>\n     </g>\n     <g id=\"text_5\">\n      <!-- 2022-11 -->\n      <g style=\"fill: #0f0f0f\" transform=\"translate(512.675343 336.390442) rotate(-10) scale(0.10829 -0.10829)\">\n       <defs>\n        <path id=\"Consolas-31\" d=\"M 3116 0 \nL 550 0 \nL 550 506 \nL 1600 506 \nL 1600 3488 \nL 622 2956 \nL 422 3419 \nL 1722 4103 \nL 2203 4103 \nL 2203 506 \nL 3116 506 \nL 3116 0 \nz\n\" transform=\"scale(0.015625)\"/>\n       </defs>\n       <use xlink:href=\"#Consolas-32\"/>\n       <use xlink:href=\"#Consolas-30\" x=\"54.980469\"/>\n       <use xlink:href=\"#Consolas-32\" x=\"109.960938\"/>\n       <use xlink:href=\"#Consolas-32\" x=\"164.941406\"/>\n       <use xlink:href=\"#Consolas-2d\" x=\"219.921875\"/>\n       <use xlink:href=\"#Consolas-31\" x=\"274.902344\"/>\n       <use xlink:href=\"#Consolas-31\" x=\"329.882812\"/>\n      </g>\n     </g>\n    </g>\n    <g id=\"xtick_6\">\n     <g id=\"line2d_11\">\n      <path d=\"M 653.710997 316.294326 \nL 653.710997 24.054188 \n\" clip-path=\"url(#pec1d4ee72f)\" style=\"fill: none; stroke-dasharray: 0.4,0.66; stroke-dashoffset: 0; stroke: #0f0f0f; stroke-width: 0.4; stroke-linejoin: miter\"/>\n     </g>\n     <g id=\"line2d_12\">\n      <g>\n       <use xlink:href=\"#m6aa6300c1c\" x=\"653.710997\" y=\"316.294326\" style=\"fill: #0f0f0f; stroke: #0f0f0f; stroke-width: 0.2\"/>\n      </g>\n     </g>\n     <g id=\"text_6\">\n      <!-- 2023-01 -->\n      <g style=\"fill: #0f0f0f\" transform=\"translate(633.648259 336.390442) rotate(-10) scale(0.10829 -0.10829)\">\n       <use xlink:href=\"#Consolas-32\"/>\n       <use xlink:href=\"#Consolas-30\" x=\"54.980469\"/>\n       <use xlink:href=\"#Consolas-32\" x=\"109.960938\"/>\n       <use xlink:href=\"#Consolas-33\" x=\"164.941406\"/>\n       <use xlink:href=\"#Consolas-2d\" x=\"219.921875\"/>\n       <use xlink:href=\"#Consolas-30\" x=\"274.902344\"/>\n       <use xlink:href=\"#Consolas-31\" x=\"329.882812\"/>\n      </g>\n     </g>\n    </g>\n   </g>\n   <g id=\"matplotlib.axis_2\">\n    <g id=\"ytick_1\">\n     <g id=\"line2d_13\">\n      <path d=\"M 7.2 271.378096 \nL 733.0375 271.378096 \n\" clip-path=\"url(#pec1d4ee72f)\" style=\"fill: none; stroke-dasharray: 0.4,0.66; stroke-dashoffset: 0; stroke: #0f0f0f; stroke-width: 0.4; stroke-linejoin: miter\"/>\n     </g>\n     <g id=\"line2d_14\">\n      <defs>\n       <path id=\"m0c687abb8b\" d=\"M 0 0 \nL 2 0 \n\" style=\"stroke: #0f0f0f; stroke-width: 0.2\"/>\n      </defs>\n      <g>\n       <use xlink:href=\"#m0c687abb8b\" x=\"733.0375\" y=\"271.378096\" style=\"fill: #0f0f0f; stroke: #0f0f0f; stroke-width: 0.2\"/>\n      </g>\n     </g>\n     <g id=\"text_7\">\n      <!-- 20 -->\n      <g style=\"fill: #0f0f0f\" transform=\"translate(738.5375 275.114101) scale(0.10829 -0.10829)\">\n       <use xlink:href=\"#Consolas-32\"/>\n       <use xlink:href=\"#Consolas-30\" x=\"54.980469\"/>\n      </g>\n     </g>\n    </g>\n    <g id=\"ytick_2\">\n     <g id=\"line2d_15\">\n      <path d=\"M 7.2 211.01056 \nL 733.0375 211.01056 \n\" clip-path=\"url(#pec1d4ee72f)\" style=\"fill: none; stroke-dasharray: 0.4,0.66; stroke-dashoffset: 0; stroke: #0f0f0f; stroke-width: 0.4; stroke-linejoin: miter\"/>\n     </g>\n     <g id=\"line2d_16\">\n      <g>\n       <use xlink:href=\"#m0c687abb8b\" x=\"733.0375\" y=\"211.01056\" style=\"fill: #0f0f0f; stroke: #0f0f0f; stroke-width: 0.2\"/>\n      </g>\n     </g>\n     <g id=\"text_8\">\n      <!-- 40 -->\n      <g style=\"fill: #0f0f0f\" transform=\"translate(738.5375 214.746565) scale(0.10829 -0.10829)\">\n       <defs>\n        <path id=\"Consolas-34\" d=\"M 3353 903 \nL 2656 903 \nL 2656 0 \nL 2100 0 \nL 2100 903 \nL 134 903 \nL 134 1381 \nL 1875 4084 \nL 2656 4084 \nL 2656 1381 \nL 3353 1381 \nL 3353 903 \nz\nM 2100 3559 \nL 678 1381 \nL 2100 1381 \nL 2100 3559 \nz\n\" transform=\"scale(0.015625)\"/>\n       </defs>\n       <use xlink:href=\"#Consolas-34\"/>\n       <use xlink:href=\"#Consolas-30\" x=\"54.980469\"/>\n      </g>\n     </g>\n    </g>\n    <g id=\"ytick_3\">\n     <g id=\"line2d_17\">\n      <path d=\"M 7.2 150.643024 \nL 733.0375 150.643024 \n\" clip-path=\"url(#pec1d4ee72f)\" style=\"fill: none; stroke-dasharray: 0.4,0.66; stroke-dashoffset: 0; stroke: #0f0f0f; stroke-width: 0.4; stroke-linejoin: miter\"/>\n     </g>\n     <g id=\"line2d_18\">\n      <g>\n       <use xlink:href=\"#m0c687abb8b\" x=\"733.0375\" y=\"150.643024\" style=\"fill: #0f0f0f; stroke: #0f0f0f; stroke-width: 0.2\"/>\n      </g>\n     </g>\n     <g id=\"text_9\">\n      <!-- 60 -->\n      <g style=\"fill: #0f0f0f\" transform=\"translate(738.5375 154.379029) scale(0.10829 -0.10829)\">\n       <defs>\n        <path id=\"Consolas-36\" d=\"M 3200 1294 \nQ 3200 1013 3098 766 \nQ 2997 519 2809 336 \nQ 2622 153 2358 48 \nQ 2094 -56 1772 -56 \nQ 1434 -56 1175 51 \nQ 916 159 741 382 \nQ 566 606 475 947 \nQ 384 1288 384 1753 \nQ 384 2066 425 2359 \nQ 466 2653 559 2912 \nQ 653 3172 809 3387 \nQ 966 3603 1198 3758 \nQ 1431 3913 1747 3998 \nQ 2063 4084 2478 4084 \nL 2881 4084 \nL 2881 3609 \nL 2444 3609 \nQ 2078 3609 1809 3521 \nQ 1541 3434 1359 3275 \nQ 1178 3116 1081 2891 \nQ 984 2666 959 2388 \nL 947 2259 \nQ 1144 2375 1401 2445 \nQ 1659 2516 1959 2516 \nQ 2269 2516 2501 2425 \nQ 2734 2334 2889 2173 \nQ 3044 2013 3122 1788 \nQ 3200 1563 3200 1294 \nz\nM 2631 1259 \nQ 2631 1447 2586 1598 \nQ 2541 1750 2444 1854 \nQ 2347 1959 2198 2017 \nQ 2050 2075 1844 2075 \nQ 1725 2075 1603 2053 \nQ 1481 2031 1364 1992 \nQ 1247 1953 1140 1903 \nQ 1034 1853 947 1797 \nQ 947 1394 1003 1123 \nQ 1059 853 1170 690 \nQ 1281 528 1443 459 \nQ 1606 391 1819 391 \nQ 1997 391 2145 448 \nQ 2294 506 2401 618 \nQ 2509 731 2570 892 \nQ 2631 1053 2631 1259 \nz\n\" transform=\"scale(0.015625)\"/>\n       </defs>\n       <use xlink:href=\"#Consolas-36\"/>\n       <use xlink:href=\"#Consolas-30\" x=\"54.980469\"/>\n      </g>\n     </g>\n    </g>\n    <g id=\"ytick_4\">\n     <g id=\"line2d_19\">\n      <path d=\"M 7.2 90.275487 \nL 733.0375 90.275487 \n\" clip-path=\"url(#pec1d4ee72f)\" style=\"fill: none; stroke-dasharray: 0.4,0.66; stroke-dashoffset: 0; stroke: #0f0f0f; stroke-width: 0.4; stroke-linejoin: miter\"/>\n     </g>\n     <g id=\"line2d_20\">\n      <g>\n       <use xlink:href=\"#m0c687abb8b\" x=\"733.0375\" y=\"90.275487\" style=\"fill: #0f0f0f; stroke: #0f0f0f; stroke-width: 0.2\"/>\n      </g>\n     </g>\n     <g id=\"text_10\">\n      <!-- 80 -->\n      <g style=\"fill: #0f0f0f\" transform=\"translate(738.5375 94.011492) scale(0.10829 -0.10829)\">\n       <defs>\n        <path id=\"Consolas-38\" d=\"M 3150 1025 \nQ 3150 766 3044 564 \nQ 2938 363 2747 225 \nQ 2556 88 2297 16 \nQ 2038 -56 1734 -56 \nQ 1400 -56 1145 19 \nQ 891 94 719 228 \nQ 547 363 459 547 \nQ 372 731 372 953 \nQ 372 1328 581 1600 \nQ 791 1872 1228 2094 \nQ 828 2297 643 2545 \nQ 459 2794 459 3116 \nQ 459 3313 540 3497 \nQ 622 3681 786 3825 \nQ 950 3969 1197 4055 \nQ 1444 4141 1778 4141 \nQ 2094 4141 2333 4073 \nQ 2572 4006 2734 3881 \nQ 2897 3756 2978 3578 \nQ 3059 3400 3059 3181 \nQ 3059 2825 2861 2575 \nQ 2663 2325 2297 2138 \nQ 2478 2047 2634 1937 \nQ 2791 1828 2906 1693 \nQ 3022 1559 3086 1393 \nQ 3150 1228 3150 1025 \nz\nM 2503 3138 \nQ 2503 3416 2308 3552 \nQ 2113 3688 1759 3688 \nQ 1409 3688 1214 3553 \nQ 1019 3419 1019 3150 \nQ 1019 3028 1066 2925 \nQ 1113 2822 1211 2731 \nQ 1309 2641 1456 2553 \nQ 1603 2466 1806 2375 \nQ 2159 2541 2331 2720 \nQ 2503 2900 2503 3138 \nz\nM 2559 984 \nQ 2559 1100 2521 1209 \nQ 2484 1319 2387 1425 \nQ 2291 1531 2128 1637 \nQ 1966 1744 1716 1856 \nQ 1503 1753 1358 1651 \nQ 1213 1550 1123 1445 \nQ 1034 1341 996 1228 \nQ 959 1116 959 991 \nQ 959 850 1020 742 \nQ 1081 634 1187 559 \nQ 1294 484 1441 446 \nQ 1588 409 1759 409 \nQ 1925 409 2072 443 \nQ 2219 478 2326 548 \nQ 2434 619 2496 726 \nQ 2559 834 2559 984 \nz\n\" transform=\"scale(0.015625)\"/>\n       </defs>\n       <use xlink:href=\"#Consolas-38\"/>\n       <use xlink:href=\"#Consolas-30\" x=\"54.980469\"/>\n      </g>\n     </g>\n    </g>\n    <g id=\"ytick_5\">\n     <g id=\"line2d_21\">\n      <path d=\"M 7.2 29.907951 \nL 733.0375 29.907951 \n\" clip-path=\"url(#pec1d4ee72f)\" style=\"fill: none; stroke-dasharray: 0.4,0.66; stroke-dashoffset: 0; stroke: #0f0f0f; stroke-width: 0.4; stroke-linejoin: miter\"/>\n     </g>\n     <g id=\"line2d_22\">\n      <g>\n       <use xlink:href=\"#m0c687abb8b\" x=\"733.0375\" y=\"29.907951\" style=\"fill: #0f0f0f; stroke: #0f0f0f; stroke-width: 0.2\"/>\n      </g>\n     </g>\n     <g id=\"text_11\">\n      <!-- 100 -->\n      <g style=\"fill: #0f0f0f\" transform=\"translate(738.5375 33.643956) scale(0.10829 -0.10829)\">\n       <use xlink:href=\"#Consolas-31\"/>\n       <use xlink:href=\"#Consolas-30\" x=\"54.980469\"/>\n       <use xlink:href=\"#Consolas-30\" x=\"109.960938\"/>\n      </g>\n     </g>\n    </g>\n    <g id=\"text_12\">\n     <!--  Share Price ($) -->\n     <g style=\"fill: #0f0f0f\" transform=\"translate(768.305444 217.808321) rotate(-90) scale(0.10829 -0.10829)\">\n      <defs>\n       <path id=\"Consolas-20\" transform=\"scale(0.015625)\"/>\n       <path id=\"Consolas-53\" d=\"M 3116 1106 \nQ 3116 816 2997 597 \nQ 2878 378 2665 233 \nQ 2453 88 2154 16 \nQ 1856 -56 1497 -56 \nQ 1334 -56 1173 -43 \nQ 1013 -31 864 -12 \nQ 716 6 584 31 \nQ 453 56 347 84 \nL 347 622 \nQ 581 534 873 484 \nQ 1166 434 1538 434 \nQ 1806 434 1995 476 \nQ 2184 519 2304 601 \nQ 2425 684 2479 803 \nQ 2534 922 2534 1075 \nQ 2534 1241 2442 1358 \nQ 2350 1475 2200 1567 \nQ 2050 1659 1858 1736 \nQ 1666 1813 1466 1894 \nQ 1266 1975 1073 2070 \nQ 881 2166 731 2295 \nQ 581 2425 489 2600 \nQ 397 2775 397 3016 \nQ 397 3225 484 3428 \nQ 572 3631 756 3789 \nQ 941 3947 1230 4044 \nQ 1519 4141 1919 4141 \nQ 2022 4141 2142 4131 \nQ 2263 4122 2386 4105 \nQ 2509 4088 2629 4066 \nQ 2750 4044 2853 4019 \nL 2853 3519 \nQ 2613 3588 2372 3623 \nQ 2131 3659 1906 3659 \nQ 1428 3659 1203 3500 \nQ 978 3341 978 3072 \nQ 978 2906 1070 2787 \nQ 1163 2669 1313 2575 \nQ 1463 2481 1655 2404 \nQ 1847 2328 2047 2247 \nQ 2247 2166 2439 2069 \nQ 2631 1972 2781 1839 \nQ 2931 1706 3023 1528 \nQ 3116 1350 3116 1106 \nz\n\" transform=\"scale(0.015625)\"/>\n       <path id=\"Consolas-68\" d=\"M 3022 0 \nL 2478 0 \nL 2478 2003 \nQ 2478 2366 2342 2545 \nQ 2206 2725 1953 2725 \nQ 1844 2725 1748 2695 \nQ 1653 2666 1550 2592 \nQ 1447 2519 1325 2394 \nQ 1203 2269 1044 2081 \nL 1044 0 \nL 500 0 \nL 500 4416 \nL 1044 4416 \nL 1044 3138 \nL 1025 2644 \nQ 1153 2797 1276 2901 \nQ 1400 3006 1523 3072 \nQ 1647 3138 1775 3166 \nQ 1903 3194 2041 3194 \nQ 2509 3194 2765 2908 \nQ 3022 2622 3022 2047 \nL 3022 0 \nz\n\" transform=\"scale(0.015625)\"/>\n       <path id=\"Consolas-61\" d=\"M 2516 0 \nL 2503 422 \nQ 2247 169 1983 56 \nQ 1719 -56 1428 -56 \nQ 1159 -56 968 12 \nQ 778 81 654 201 \nQ 531 322 473 484 \nQ 416 647 416 838 \nQ 416 1309 767 1576 \nQ 1119 1844 1806 1844 \nL 2456 1844 \nL 2456 2119 \nQ 2456 2397 2278 2564 \nQ 2100 2731 1734 2731 \nQ 1469 2731 1211 2672 \nQ 953 2613 678 2503 \nL 678 2994 \nQ 781 3031 907 3067 \nQ 1034 3103 1175 3131 \nQ 1316 3159 1469 3176 \nQ 1622 3194 1778 3194 \nQ 2063 3194 2291 3131 \nQ 2519 3069 2676 2941 \nQ 2834 2813 2918 2619 \nQ 3003 2425 3003 2163 \nL 3003 0 \nL 2516 0 \nz\nM 2456 1428 \nL 1766 1428 \nQ 1563 1428 1416 1387 \nQ 1269 1347 1175 1272 \nQ 1081 1197 1036 1092 \nQ 991 988 991 856 \nQ 991 766 1019 683 \nQ 1047 600 1109 536 \nQ 1172 472 1272 434 \nQ 1372 397 1516 397 \nQ 1703 397 1945 511 \nQ 2188 625 2456 872 \nL 2456 1428 \nz\n\" transform=\"scale(0.015625)\"/>\n       <path id=\"Consolas-72\" d=\"M 628 3138 \nL 1125 3138 \nL 1141 2559 \nQ 1419 2894 1689 3044 \nQ 1959 3194 2234 3194 \nQ 2722 3194 2973 2878 \nQ 3225 2563 3206 1941 \nL 2656 1941 \nQ 2666 2353 2536 2539 \nQ 2406 2725 2156 2725 \nQ 2047 2725 1936 2686 \nQ 1825 2647 1708 2561 \nQ 1591 2475 1459 2340 \nQ 1328 2206 1178 2016 \nL 1178 0 \nL 628 0 \nL 628 3138 \nz\n\" transform=\"scale(0.015625)\"/>\n       <path id=\"Consolas-65\" d=\"M 3150 1734 \nQ 3150 1619 3147 1541 \nQ 3144 1463 3138 1394 \nL 934 1394 \nQ 934 913 1203 655 \nQ 1472 397 1978 397 \nQ 2116 397 2253 408 \nQ 2391 419 2519 437 \nQ 2647 456 2764 479 \nQ 2881 503 2981 531 \nL 2981 84 \nQ 2759 22 2479 -17 \nQ 2200 -56 1900 -56 \nQ 1497 -56 1206 53 \nQ 916 163 730 370 \nQ 544 578 455 879 \nQ 366 1181 366 1563 \nQ 366 1894 461 2189 \nQ 556 2484 739 2707 \nQ 922 2931 1187 3062 \nQ 1453 3194 1791 3194 \nQ 2119 3194 2372 3091 \nQ 2625 2988 2798 2798 \nQ 2972 2609 3061 2339 \nQ 3150 2069 3150 1734 \nz\nM 2584 1813 \nQ 2594 2022 2544 2195 \nQ 2494 2369 2389 2494 \nQ 2284 2619 2128 2689 \nQ 1972 2759 1766 2759 \nQ 1588 2759 1441 2690 \nQ 1294 2622 1187 2497 \nQ 1081 2372 1015 2197 \nQ 950 2022 934 1813 \nL 2584 1813 \nz\n\" transform=\"scale(0.015625)\"/>\n       <path id=\"Consolas-50\" d=\"M 3175 2834 \nQ 3175 2584 3081 2339 \nQ 2988 2094 2791 1900 \nQ 2594 1706 2287 1586 \nQ 1981 1466 1556 1466 \nL 1050 1466 \nL 1050 0 \nL 494 0 \nL 494 4084 \nL 1644 4084 \nQ 1947 4084 2225 4017 \nQ 2503 3950 2714 3800 \nQ 2925 3650 3050 3412 \nQ 3175 3175 3175 2834 \nz\nM 2597 2809 \nQ 2597 3203 2339 3412 \nQ 2081 3622 1619 3622 \nL 1050 3622 \nL 1050 1941 \nL 1569 1941 \nQ 2063 1941 2330 2156 \nQ 2597 2372 2597 2809 \nz\n\" transform=\"scale(0.015625)\"/>\n       <path id=\"Consolas-69\" d=\"M 1569 2688 \nL 641 2688 \nL 641 3138 \nL 2119 3138 \nL 2119 453 \nL 3053 453 \nL 3053 0 \nL 538 0 \nL 538 453 \nL 1569 453 \nL 1569 2688 \nz\nM 1759 4453 \nQ 1850 4453 1928 4420 \nQ 2006 4388 2064 4328 \nQ 2122 4269 2155 4192 \nQ 2188 4116 2188 4025 \nQ 2188 3938 2155 3859 \nQ 2122 3781 2064 3722 \nQ 2006 3663 1928 3630 \nQ 1850 3597 1759 3597 \nQ 1669 3597 1591 3630 \nQ 1513 3663 1455 3722 \nQ 1397 3781 1364 3859 \nQ 1331 3938 1331 4025 \nQ 1331 4116 1364 4192 \nQ 1397 4269 1455 4328 \nQ 1513 4388 1591 4420 \nQ 1669 4453 1759 4453 \nz\n\" transform=\"scale(0.015625)\"/>\n       <path id=\"Consolas-63\" d=\"M 2938 116 \nQ 2725 34 2501 -5 \nQ 2278 -44 2041 -44 \nQ 1297 -44 895 359 \nQ 494 763 494 1538 \nQ 494 1909 609 2212 \nQ 725 2516 934 2731 \nQ 1144 2947 1434 3064 \nQ 1725 3181 2075 3181 \nQ 2319 3181 2531 3147 \nQ 2744 3113 2938 3034 \nL 2938 2516 \nQ 2734 2622 2523 2670 \nQ 2313 2719 2088 2719 \nQ 1878 2719 1692 2639 \nQ 1506 2559 1365 2409 \nQ 1225 2259 1144 2043 \nQ 1063 1828 1063 1556 \nQ 1063 988 1339 705 \nQ 1616 422 2106 422 \nQ 2328 422 2536 472 \nQ 2744 522 2938 622 \nL 2938 116 \nz\n\" transform=\"scale(0.015625)\"/>\n       <path id=\"Consolas-28\" d=\"M 2378 -1313 \nQ 938 22 938 1638 \nQ 938 2016 1014 2392 \nQ 1091 2769 1261 3147 \nQ 1431 3525 1711 3903 \nQ 1991 4281 2391 4653 \nL 2706 4331 \nQ 1494 3134 1494 1678 \nQ 1494 953 1800 284 \nQ 2106 -384 2706 -978 \nL 2378 -1313 \nz\n\" transform=\"scale(0.015625)\"/>\n       <path id=\"Consolas-24\" d=\"M 1850 4672 \nL 2303 4672 \nL 2222 4063 \nQ 2384 4047 2548 4022 \nQ 2713 3997 2853 3963 \nL 2853 3481 \nQ 2681 3525 2506 3556 \nQ 2331 3588 2163 3603 \nL 1984 2266 \nQ 2194 2184 2400 2089 \nQ 2606 1994 2770 1864 \nQ 2934 1734 3036 1556 \nQ 3138 1378 3138 1131 \nQ 3138 869 3031 666 \nQ 2925 463 2734 322 \nQ 2544 181 2275 101 \nQ 2006 22 1684 6 \nL 1581 -738 \nL 1125 -738 \nL 1228 6 \nQ 975 25 745 61 \nQ 516 97 347 141 \nL 347 659 \nQ 544 591 776 547 \nQ 1009 503 1294 488 \nL 1478 1894 \nQ 1275 1972 1078 2062 \nQ 881 2153 726 2279 \nQ 572 2406 475 2578 \nQ 378 2750 378 2988 \nQ 378 3181 459 3370 \nQ 541 3559 712 3711 \nQ 884 3863 1146 3961 \nQ 1409 4059 1772 4078 \nL 1850 4672 \nz\nM 1709 3609 \nQ 1319 3575 1139 3426 \nQ 959 3278 959 3047 \nQ 959 2831 1107 2692 \nQ 1256 2553 1550 2438 \nL 1709 3609 \nz\nM 1747 488 \nQ 2169 519 2361 675 \nQ 2553 831 2553 1100 \nQ 2553 1213 2512 1302 \nQ 2472 1391 2390 1462 \nQ 2309 1534 2189 1596 \nQ 2069 1659 1906 1722 \nL 1747 488 \nz\n\" transform=\"scale(0.015625)\"/>\n       <path id=\"Consolas-29\" d=\"M 1141 4653 \nQ 2581 3319 2581 1684 \nQ 2581 1347 2512 984 \nQ 2444 622 2278 242 \nQ 2113 -138 1833 -528 \nQ 1553 -919 1128 -1313 \nL 813 -991 \nQ 1422 -388 1722 268 \nQ 2022 925 2022 1644 \nQ 2022 3131 813 4319 \nL 1141 4653 \nz\n\" transform=\"scale(0.015625)\"/>\n      </defs>\n      <use xlink:href=\"#Consolas-20\"/>\n      <use xlink:href=\"#Consolas-53\" x=\"54.980469\"/>\n      <use xlink:href=\"#Consolas-68\" x=\"109.960938\"/>\n      <use xlink:href=\"#Consolas-61\" x=\"164.941406\"/>\n      <use xlink:href=\"#Consolas-72\" x=\"219.921875\"/>\n      <use xlink:href=\"#Consolas-65\" x=\"274.902344\"/>\n      <use xlink:href=\"#Consolas-20\" x=\"329.882812\"/>\n      <use xlink:href=\"#Consolas-50\" x=\"384.863281\"/>\n      <use xlink:href=\"#Consolas-72\" x=\"439.84375\"/>\n      <use xlink:href=\"#Consolas-69\" x=\"494.824219\"/>\n      <use xlink:href=\"#Consolas-63\" x=\"549.804688\"/>\n      <use xlink:href=\"#Consolas-65\" x=\"604.785156\"/>\n      <use xlink:href=\"#Consolas-20\" x=\"659.765625\"/>\n      <use xlink:href=\"#Consolas-28\" x=\"714.746094\"/>\n      <use xlink:href=\"#Consolas-24\" x=\"769.726562\"/>\n      <use xlink:href=\"#Consolas-29\" x=\"824.707031\"/>\n     </g>\n    </g>\n   </g>\n   <g id=\"line2d_23\">\n    <path d=\"M 7.2 300.143226 \nL 9.183163 299.539552 \nL 11.166325 300.294146 \nL 17.115813 302.135355 \nL 19.098975 299.750837 \nL 21.082138 300.80727 \nL 23.065301 302.25609 \nL 25.048463 302.557928 \nL 32.981113 302.074989 \nL 34.964276 303.010684 \nL 36.947439 302.044804 \nL 38.930601 300.08286 \nL 44.880089 298.362384 \nL 46.863251 298.030363 \nL 48.846414 297.487054 \nL 50.829577 298.060548 \nL 52.812739 298.392568 \nL 58.762227 297.909628 \nL 60.745389 298.875508 \nL 62.728552 299.056612 \nL 64.711714 298.452937 \nL 66.694877 298.302018 \nL 74.627527 300.173411 \nL 76.61069 297.487054 \nL 78.593852 297.275769 \nL 80.577015 295.555295 \nL 86.526503 292.718019 \nL 88.509665 289.729827 \nL 90.492828 288.281007 \nL 92.47599 287.405678 \nL 94.459153 287.888618 \nL 102.391803 290.242951 \nL 104.374966 291.963425 \nL 106.358128 290.725891 \nL 108.341291 284.870241 \nL 114.290779 281.942415 \nL 116.273941 283.481788 \nL 118.257104 282.847926 \nL 120.240266 278.441098 \nL 122.223429 280.372858 \nL 128.172917 282.364986 \nL 130.156079 282.908295 \nL 132.139242 283.753442 \nL 134.122404 283.874177 \nL 142.055055 279.557895 \nL 144.038217 280.312489 \nL 146.02138 280.101203 \nL 148.004542 280.704881 \nL 149.987705 284.326933 \nL 155.937193 283.300687 \nL 157.920355 285.292812 \nL 159.903518 285.805936 \nL 161.88668 284.145829 \nL 163.869843 284.055278 \nL 169.819331 283.632707 \nL 171.802493 280.493595 \nL 173.785656 278.8033 \nL 175.768818 280.372858 \nL 177.751981 283.662889 \nL 183.701469 288.492293 \nL 187.667794 290.182582 \nL 189.650956 289.216703 \nL 191.634119 287.828249 \nL 197.583607 288.522477 \nL 199.566769 287.496229 \nL 201.549932 289.880746 \nL 203.533094 287.43586 \nL 205.516257 288.009353 \nL 211.465745 284.990976 \nL 213.448907 286.500165 \nL 215.43207 285.172077 \nL 217.415232 279.889918 \nL 219.398395 276.509339 \nL 227.331045 281.459475 \nL 229.314208 285.805936 \nL 231.29737 279.708817 \nL 233.280533 277.203564 \nL 239.23002 279.316425 \nL 241.213183 278.682568 \nL 243.196346 278.773122 \nL 245.179508 282.63664 \nL 247.162671 280.342673 \nL 253.112158 284.749506 \nL 255.095321 283.874177 \nL 257.078484 283.934543 \nL 259.061646 285.956856 \nL 261.044809 285.232446 \nL 268.977459 283.693073 \nL 270.960622 280.28231 \nL 272.943784 283.632707 \nL 274.926947 283.149765 \nL 280.876434 281.48966 \nL 282.859597 282.364986 \nL 284.84276 284.719322 \nL 286.825922 285.262631 \nL 288.809085 287.134024 \nL 296.741735 288.341373 \nL 298.724898 290.001481 \nL 300.70806 285.594651 \nL 302.691223 285.081527 \nL 310.623873 288.582843 \nL 312.607036 288.099904 \nL 314.590198 290.54479 \nL 316.573361 288.371558 \nL 322.522848 286.681266 \nL 324.506011 288.160272 \nL 326.489173 286.107775 \nL 328.472336 283.36105 \nL 330.455499 286.500165 \nL 336.404986 283.783624 \nL 338.388149 283.391234 \nL 340.371311 282.244254 \nL 342.354474 278.290182 \nL 344.337637 278.501467 \nL 350.287124 277.41485 \nL 352.270287 277.89779 \nL 354.253449 276.811172 \nL 356.236612 274.426657 \nL 358.219775 271.046073 \nL 364.169262 268.691743 \nL 366.152425 267.725863 \nL 368.135587 263.922707 \nL 370.11875 265.552628 \nL 372.101913 260.994878 \nL 378.0514 262.805906 \nL 380.034563 265.190426 \nL 382.017725 266.880715 \nL 384.000888 268.359719 \nL 385.984051 272.283607 \nL 391.933538 265.94502 \nL 395.899863 256.286212 \nL 397.883026 256.557866 \nL 399.866189 258.791465 \nL 405.815676 262.021127 \nL 407.798839 264.677302 \nL 409.782001 262.051311 \nL 411.765164 267.484387 \nL 413.748327 264.164177 \nL 421.680977 262.59462 \nL 423.664139 260.542123 \nL 425.647302 257.13136 \nL 427.630464 256.40695 \nL 433.579952 247.804575 \nL 435.563115 248.679901 \nL 437.546277 244.605091 \nL 441.512602 254.384637 \nL 447.46209 249.94762 \nL 449.445253 252.664158 \nL 451.428415 249.977804 \nL 453.411578 252.271771 \nL 455.39474 257.191723 \nL 461.344228 258.76128 \nL 463.327391 256.165474 \nL 465.310553 251.909563 \nL 467.293716 252.935812 \nL 469.276878 249.675965 \nL 475.226366 247.170713 \nL 477.209529 241.767821 \nL 479.192691 242.612963 \nL 481.175854 242.975171 \nL 483.159016 246.325571 \nL 489.108504 245.510608 \nL 491.091667 245.721893 \nL 493.074829 243.609027 \nL 495.057992 239.534223 \nL 497.041154 242.79407 \nL 502.990642 237.059149 \nL 504.973805 231.08277 \nL 506.956967 229.633939 \nL 508.94013 230.358355 \nL 510.923292 224.653624 \nL 516.87278 226.374098 \nL 518.855943 220.759916 \nL 520.839105 222.299294 \nL 522.822268 218.67724 \nL 524.80543 221.574879 \nL 530.754918 223.86884 \nL 532.738081 224.925279 \nL 534.721243 231.384603 \nL 536.704406 231.354425 \nL 538.687568 227.007955 \nL 544.637056 230.448902 \nL 546.620219 224.110316 \nL 548.603381 226.977776 \nL 550.586544 224.563077 \nL 552.569706 226.826859 \nL 558.519194 225.981706 \nL 560.502357 235.248128 \nL 562.485519 240.168079 \nL 564.468682 244.091967 \nL 566.451844 242.763885 \nL 572.401332 244.42399 \nL 574.384495 242.703516 \nL 576.367657 236.636578 \nL 580.333982 239.775693 \nL 586.28347 240.198264 \nL 588.266633 236.002722 \nL 590.249795 228.21531 \nL 592.232958 230.992211 \nL 594.21612 228.909535 \nL 602.14877 225.559135 \nL 604.131933 225.34785 \nL 606.115096 222.148366 \nL 608.098258 228.034203 \nL 614.047746 236.108365 \nL 618.014071 236.063085 \nL 619.997234 239.594586 \nL 621.980396 241.707452 \nL 627.929884 243.609027 \nL 629.913046 241.194328 \nL 631.896209 236.666763 \nL 633.879372 236.666763 \nL 635.862534 238.628707 \nL 643.795184 244.212705 \nL 645.778347 248.98174 \nL 647.76151 248.770454 \nL 649.744672 246.567041 \nL 657.677322 255.16941 \nL 659.660485 253.720591 \nL 661.643648 253.78096 \nL 663.62681 250.370196 \nL 669.576298 250.611666 \nL 671.55946 253.962061 \nL 673.542623 247.895122 \nL 675.525786 245.63134 \nL 677.508948 240.620835 \nL 685.441598 242.06966 \nL 687.424761 236.425293 \nL 689.407923 242.250761 \nL 691.391086 239.654955 \nL 697.340574 236.425293 \nL 699.323736 237.542095 \nL 701.306899 240.59065 \nL 703.290061 238.357052 \nL 705.273224 239.111646 \nL 711.222712 242.522415 \nL 713.205874 239.68514 \nL 715.189037 236.636578 \nL 717.172199 233.92004 \nL 719.155362 240.651019 \nL 725.10485 245.721893 \nL 727.088012 245.088037 \nL 729.071175 242.975171 \nL 731.054337 245.510608 \nL 733.0375 245.465334 \nL 733.0375 245.465334 \n\" clip-path=\"url(#pec1d4ee72f)\" style=\"fill: none; stroke: #254495; stroke-width: 1.1; stroke-linejoin: miter; stroke-linecap: square\"/>\n   </g>\n   <g id=\"line2d_24\">\n    <path d=\"M 7.2 243.126087 \nL 9.183163 244.876746 \nL 11.166325 247.77439 \nL 17.115813 248.830823 \nL 19.098975 240.439734 \nL 21.082138 238.930545 \nL 23.065301 245.752078 \nL 25.048463 249.675965 \nL 32.981113 252.09067 \nL 34.964276 254.354453 \nL 36.947439 250.007989 \nL 38.930601 244.997483 \nL 44.880089 245.601155 \nL 46.863251 250.128721 \nL 48.846414 249.102478 \nL 50.829577 253.267835 \nL 52.812739 256.829521 \nL 58.762227 259.757344 \nL 62.728552 246.446303 \nL 64.711714 245.540792 \nL 66.694877 250.430559 \nL 72.644365 258.489626 \nL 74.627527 255.561802 \nL 76.61069 250.641845 \nL 78.593852 248.046045 \nL 80.577015 247.080165 \nL 86.526503 240.439734 \nL 88.509665 234.282242 \nL 90.492828 234.433159 \nL 92.47599 226.706122 \nL 94.459153 227.70218 \nL 100.408641 231.988281 \nL 102.391803 232.290114 \nL 104.374966 220.488261 \nL 106.358128 215.568304 \nL 108.341291 214.210043 \nL 114.290779 214.723162 \nL 116.273941 227.21924 \nL 118.257104 231.324234 \nL 120.240266 230.448902 \nL 122.223429 237.934481 \nL 128.172917 240.258633 \nL 130.156079 243.458111 \nL 132.139242 238.507974 \nL 134.122404 242.130023 \nL 142.055055 241.888553 \nL 144.038217 235.067027 \nL 146.02138 236.09327 \nL 148.004542 248.347884 \nL 149.987705 250.460744 \nL 155.937193 249.796703 \nL 157.920355 255.833457 \nL 159.903518 255.954189 \nL 161.88668 253.630043 \nL 163.869843 255.803272 \nL 169.819331 254.595923 \nL 171.802493 252.845264 \nL 173.785656 245.87281 \nL 175.768818 252.81508 \nL 177.751981 257.644484 \nL 183.701469 266.820346 \nL 185.684631 264.616933 \nL 187.667794 270.261294 \nL 189.650956 269.597253 \nL 191.634119 262.83609 \nL 197.583607 262.715352 \nL 199.566769 258.670733 \nL 201.549932 260.542123 \nL 203.533094 255.833457 \nL 205.516257 257.493562 \nL 211.465745 255.41088 \nL 213.448907 257.13136 \nL 215.43207 256.859705 \nL 217.415232 250.158905 \nL 219.398395 246.808511 \nL 227.331045 257.704847 \nL 229.314208 263.711416 \nL 231.29737 256.437129 \nL 233.280533 257.674663 \nL 239.23002 255.320332 \nL 241.213183 255.018494 \nL 243.196346 258.429257 \nL 245.179508 262.59462 \nL 247.162671 263.349214 \nL 253.112158 269.446337 \nL 255.095321 270.714055 \nL 257.078484 268.389904 \nL 259.061646 272.887285 \nL 261.044809 270.98571 \nL 268.977459 267.092001 \nL 270.960622 268.721927 \nL 272.943784 266.790162 \nL 280.876434 263.168113 \nL 282.859597 266.699614 \nL 284.84276 269.868908 \nL 286.825922 270.98571 \nL 288.809085 271.015888 \nL 296.741735 271.921405 \nL 298.724898 272.494898 \nL 300.70806 266.367591 \nL 302.691223 266.095937 \nL 308.64071 268.601189 \nL 310.623873 270.231115 \nL 312.607036 268.963397 \nL 316.573361 270.351848 \nL 322.522848 268.238981 \nL 324.506011 265.130057 \nL 326.489173 263.681238 \nL 328.472336 260.028999 \nL 330.455499 263.469946 \nL 336.404986 261.145801 \nL 338.388149 263.258661 \nL 340.371311 259.48569 \nL 342.354474 256.40695 \nL 344.337637 255.048678 \nL 350.287124 256.225843 \nL 352.270287 254.143167 \nL 354.253449 253.750775 \nL 356.236612 253.509305 \nL 358.219775 249.132656 \nL 364.169262 246.325571 \nL 366.152425 246.899058 \nL 368.135587 242.673332 \nL 370.11875 243.216641 \nL 372.101913 237.723196 \nL 378.0514 238.870176 \nL 382.017725 242.612963 \nL 384.000888 240.83212 \nL 385.984051 245.63134 \nL 391.933538 245.208769 \nL 395.899863 236.002722 \nL 397.883026 236.153639 \nL 399.866189 241.616899 \nL 405.815676 244.876746 \nL 407.798839 247.231082 \nL 409.782001 245.269138 \nL 411.765164 248.74027 \nL 413.748327 249.072293 \nL 421.680977 247.563105 \nL 423.664139 244.18252 \nL 425.647302 237.028971 \nL 427.630464 236.002722 \nL 433.579952 236.244192 \nL 435.563115 237.723196 \nL 437.546277 236.063085 \nL 439.52944 240.107711 \nL 441.512602 245.721893 \nL 447.46209 243.065724 \nL 451.428415 245.359685 \nL 453.411578 249.70615 \nL 455.39474 253.29802 \nL 461.344228 253.29802 \nL 463.327391 252.241587 \nL 465.310553 247.864938 \nL 467.293716 251.819016 \nL 469.276878 252.57361 \nL 475.226366 250.098542 \nL 477.209529 245.661524 \nL 479.192691 246.808511 \nL 481.175854 249.796703 \nL 483.159016 260.300653 \nL 489.108504 261.840026 \nL 491.091667 262.987007 \nL 493.074829 264.435832 \nL 495.057992 261.689109 \nL 497.041154 264.828218 \nL 502.990642 261.206164 \nL 504.973805 261.055247 \nL 506.956967 258.76128 \nL 508.94013 260.361022 \nL 510.923292 252.362325 \nL 516.87278 254.807208 \nL 518.855943 252.57361 \nL 520.839105 252.513241 \nL 522.822268 255.531618 \nL 524.80543 255.712719 \nL 530.754918 256.64842 \nL 532.738081 255.833457 \nL 534.721243 259.24422 \nL 536.704406 256.527682 \nL 538.687568 251.969932 \nL 544.637056 251.939748 \nL 546.620219 249.132656 \nL 548.603381 253.720591 \nL 550.586544 246.838695 \nL 552.569706 246.265202 \nL 558.519194 249.132656 \nL 560.502357 252.09067 \nL 562.485519 253.448936 \nL 564.468682 255.954189 \nL 566.451844 256.165474 \nL 572.401332 254.68647 \nL 574.384495 254.022429 \nL 576.367657 252.060486 \nL 580.333982 257.674663 \nL 586.28347 260.632676 \nL 588.266633 260.934515 \nL 590.249795 256.346581 \nL 592.232958 255.682534 \nL 594.21612 255.350517 \nL 600.165608 259.606428 \nL 602.14877 261.598556 \nL 604.131933 259.817713 \nL 606.115096 260.904331 \nL 608.098258 261.658925 \nL 614.047746 260.45157 \nL 616.030908 258.791465 \nL 618.014071 259.636612 \nL 619.997234 262.775721 \nL 621.980396 262.775721 \nL 627.929884 266.518508 \nL 629.913046 268.78229 \nL 631.896209 268.05788 \nL 633.879372 270.140562 \nL 635.862534 270.864972 \nL 643.795184 273.008022 \nL 645.778347 275.332168 \nL 647.76151 274.577574 \nL 649.744672 274.547389 \nL 657.677322 277.927974 \nL 659.660485 274.517211 \nL 661.643648 275.332168 \nL 663.62681 274.577574 \nL 669.576298 274.185187 \nL 671.55946 274.698312 \nL 673.542623 271.046073 \nL 675.525786 268.661558 \nL 677.508948 269.204867 \nL 685.441598 269.325599 \nL 687.424761 271.710119 \nL 689.407923 271.529013 \nL 691.391086 268.993576 \nL 697.340574 266.337407 \nL 699.323736 265.582812 \nL 701.306899 264.526379 \nL 703.290061 265.039504 \nL 705.273224 263.832154 \nL 711.222712 265.371527 \nL 713.205874 255.591987 \nL 715.189037 257.191723 \nL 717.172199 256.40695 \nL 719.155362 258.338709 \nL 725.10485 260.934515 \nL 727.088012 253.599859 \nL 729.071175 254.656286 \nL 731.054337 253.871513 \nL 733.0375 257.674663 \nL 733.0375 257.674663 \n\" clip-path=\"url(#pec1d4ee72f)\" style=\"fill: none; stroke: #c13246; stroke-width: 1.1; stroke-linejoin: miter; stroke-linecap: square\"/>\n   </g>\n   <g id=\"line2d_25\">\n    <path d=\"M 7.2 82.673126 \nL 9.183163 83.783301 \nL 11.166325 81.893016 \nL 17.115813 79.852655 \nL 19.098975 72.201335 \nL 21.082138 72.411354 \nL 23.065301 63.559864 \nL 25.048463 68.150642 \nL 32.981113 83.42323 \nL 34.964276 87.780293 \nL 36.947439 87.479818 \nL 38.930601 77.353384 \nL 44.880089 80.688793 \nL 46.863251 88.80197 \nL 48.846414 80.508527 \nL 50.829577 78.915952 \nL 52.812739 83.00257 \nL 58.762227 84.565092 \nL 60.745389 83.062651 \nL 62.728552 72.545609 \nL 64.711714 69.600854 \nL 66.694877 70.231878 \nL 72.644365 78.01446 \nL 74.627527 78.585403 \nL 76.61069 74.108155 \nL 78.593852 72.335268 \nL 80.577015 77.143043 \nL 86.526503 67.557546 \nL 88.509665 65.75463 \nL 90.492828 69.721063 \nL 92.47599 76.662279 \nL 94.459153 75.219919 \nL 100.408641 78.555328 \nL 102.391803 69.841225 \nL 104.374966 70.742694 \nL 106.358128 74.108155 \nL 108.341291 68.909703 \nL 114.290779 68.158517 \nL 116.273941 79.546976 \nL 118.257104 87.539922 \nL 120.240266 87.299529 \nL 122.223429 88.441368 \nL 128.172917 88.261079 \nL 130.156079 87.84042 \nL 132.139242 81.31984 \nL 134.122404 84.384803 \nL 142.055055 82.341494 \nL 144.038217 71.07322 \nL 146.02138 65.995 \nL 148.004542 74.228363 \nL 149.987705 80.778972 \nL 155.937193 84.715329 \nL 157.920355 94.991978 \nL 159.903518 95.893447 \nL 161.88668 70.953012 \nL 163.869843 75.880995 \nL 169.819331 76.181493 \nL 171.802493 77.924304 \nL 173.785656 72.335268 \nL 175.768818 86.578372 \nL 177.751981 92.077252 \nL 183.701469 93.249143 \nL 185.684631 94.30085 \nL 187.667794 94.901821 \nL 189.650956 94.481162 \nL 191.634119 90.604886 \nL 197.583607 90.574833 \nL 199.566769 83.693675 \nL 201.549932 90.695019 \nL 203.533094 92.58809 \nL 205.516257 94.721555 \nL 211.465745 95.653053 \nL 213.448907 99.319012 \nL 215.43207 97.215599 \nL 217.415232 88.773415 \nL 219.398395 80.827815 \nL 227.331045 85.01129 \nL 229.314208 82.031693 \nL 231.29737 72.942458 \nL 233.280533 79.021998 \nL 239.23002 78.089026 \nL 241.213183 75.621097 \nL 245.179508 86.124874 \nL 247.162671 90.519036 \nL 255.095321 104.092727 \nL 257.078484 103.46069 \nL 259.061646 120.074175 \nL 261.044809 122.903281 \nL 268.977459 113.75385 \nL 270.960622 117.124699 \nL 272.943784 123.08387 \nL 274.926947 111.40629 \nL 280.876434 108.848043 \nL 282.859597 113.181986 \nL 284.84276 112.309187 \nL 286.825922 109.841235 \nL 288.809085 113.48299 \nL 296.741735 118.74995 \nL 298.724898 116.883914 \nL 300.70806 113.573261 \nL 302.691223 114.024733 \nL 308.64071 115.920821 \nL 310.623873 114.295592 \nL 312.607036 114.716943 \nL 314.590198 115.34898 \nL 316.573361 110.473295 \nL 322.522848 113.151911 \nL 324.506011 104.514078 \nL 326.489173 103.069415 \nL 328.472336 102.527672 \nL 330.455499 106.530581 \nL 336.404986 99.608294 \nL 338.388149 99.126725 \nL 340.371311 90.699624 \nL 342.354474 86.546247 \nL 344.337637 85.131683 \nL 350.287124 80.617151 \nL 352.270287 83.747216 \nL 354.253449 75.922055 \nL 356.236612 68.999744 \nL 358.219775 63.913372 \nL 364.169262 64.515311 \nL 366.152425 64.936662 \nL 368.135587 55.365857 \nL 370.11875 48.834845 \nL 372.101913 37.33783 \nL 378.0514 43.176632 \nL 380.034563 41.220324 \nL 382.017725 43.417394 \nL 384.000888 38.511587 \nL 385.984051 43.266903 \nL 391.933538 53.740628 \nL 393.916701 55.744789 \nL 395.899863 57.342084 \nL 397.883026 49.235055 \nL 399.866189 59.059909 \nL 405.815676 62.344932 \nL 407.798839 68.88481 \nL 409.782001 71.627353 \nL 411.765164 81.030281 \nL 413.748327 84.315303 \nL 421.680977 87.811266 \nL 423.664139 84.55641 \nL 425.647302 84.044052 \nL 427.630464 77.112415 \nL 433.579952 63.429891 \nL 435.563115 80.45768 \nL 437.546277 87.901675 \nL 439.52944 92.57303 \nL 441.512602 95.044321 \nL 447.46209 91.729177 \nL 449.445253 93.808687 \nL 451.428415 93.929217 \nL 453.411578 92.633318 \nL 455.39474 100.680058 \nL 461.344228 104.989752 \nL 463.327391 102.397907 \nL 465.310553 94.411432 \nL 467.293716 92.633318 \nL 469.276878 90.644218 \nL 475.226366 86.726306 \nL 477.209529 73.947946 \nL 479.192691 74.008234 \nL 481.175854 77.594606 \nL 483.159016 84.255015 \nL 489.108504 81.150834 \nL 491.091667 83.682414 \nL 493.074829 89.167477 \nL 495.057992 84.827639 \nL 497.041154 89.619547 \nL 502.990642 86.063296 \nL 504.973805 87.238665 \nL 506.956967 90.764772 \nL 508.94013 97.395059 \nL 510.923292 85.912598 \nL 516.87278 87.660591 \nL 518.855943 81.813868 \nL 520.839105 78.076798 \nL 522.822268 80.216573 \nL 524.80543 73.134238 \nL 530.754918 73.435611 \nL 532.738081 72.862987 \nL 534.721243 128.557418 \nL 538.687568 114.483136 \nL 544.637056 110.113154 \nL 546.620219 101.915693 \nL 548.603381 103.814383 \nL 550.586544 92.151104 \nL 552.569706 94.712804 \nL 558.519194 85.038602 \nL 560.502357 82.638998 \nL 562.485519 89.611441 \nL 564.468682 93.444792 \nL 566.451844 99.028785 \nL 572.401332 98.123263 \nL 574.384495 91.513033 \nL 576.367657 90.21513 \nL 580.333982 91.513033 \nL 586.28347 99.873927 \nL 588.266633 103.435612 \nL 590.249795 88.585204 \nL 592.232958 86.623254 \nL 594.21612 81.220357 \nL 600.165608 84.450019 \nL 602.14877 86.472326 \nL 606.115096 76.421149 \nL 608.098258 81.431642 \nL 614.047746 77.145553 \nL 616.030908 71.108799 \nL 618.014071 71.199347 \nL 619.997234 78.141623 \nL 621.980396 75.183603 \nL 627.929884 77.990695 \nL 629.913046 73.100916 \nL 631.896209 65.404069 \nL 633.879372 72.165227 \nL 635.862534 71.652108 \nL 643.795184 69.327945 \nL 645.778347 73.221654 \nL 647.76151 66.852877 \nL 649.744672 67.607471 \nL 657.677322 66.490686 \nL 659.660485 63.351572 \nL 661.643648 63.291191 \nL 663.62681 57.314818 \nL 669.576298 51.036589 \nL 671.55946 43.701932 \nL 673.542623 44.365979 \nL 675.525786 46.780667 \nL 677.508948 40.351532 \nL 685.441598 48.440783 \nL 687.424761 59.005102 \nL 689.407923 63.8345 \nL 691.391086 59.005102 \nL 697.340574 60.031362 \nL 699.323736 60.091719 \nL 701.306899 56.620581 \nL 703.290061 55.715082 \nL 705.273224 61.721646 \nL 711.222712 65.947378 \nL 713.205874 59.337125 \nL 715.189037 57.073343 \nL 717.172199 58.582531 \nL 719.155362 57.103533 \nL 725.10485 65.886997 \nL 727.088012 63.321382 \nL 729.071175 67.426376 \nL 731.054337 74.579937 \nL 733.0375 75.862734 \nL 733.0375 75.862734 \n\" clip-path=\"url(#pec1d4ee72f)\" style=\"fill: none; stroke: #48277c; stroke-width: 1.1; stroke-linejoin: miter; stroke-linecap: square\"/>\n   </g>\n   <g id=\"line2d_26\">\n    <path d=\"M 7.2 212.942319 \nL 9.183163 213.938389 \nL 11.166325 210.920012 \nL 17.115813 208.837325 \nL 19.098975 201.231014 \nL 21.082138 198.967231 \nL 23.065301 206.181162 \nL 25.048463 207.056482 \nL 32.981113 208.052552 \nL 34.964276 208.475123 \nL 38.930601 190.334683 \nL 44.880089 194.047285 \nL 46.863251 207.901635 \nL 48.846414 205.034175 \nL 50.829577 210.738906 \nL 52.812739 214.179853 \nL 58.762227 212.912141 \nL 60.745389 199.631278 \nL 62.728552 194.469856 \nL 64.711714 193.80581 \nL 66.694877 199.752016 \nL 72.644365 209.380634 \nL 74.627527 206.362257 \nL 76.61069 199.087969 \nL 78.593852 199.54073 \nL 80.577015 189.761184 \nL 86.526503 183.543336 \nL 88.509665 184.056454 \nL 90.492828 180.826792 \nL 92.47599 161.207343 \nL 94.459153 166.308395 \nL 100.408641 167.183727 \nL 102.391803 166.821525 \nL 104.374966 161.509176 \nL 106.358128 158.671906 \nL 108.341291 161.086605 \nL 114.290779 155.895004 \nL 116.273941 167.334644 \nL 118.257104 170.745413 \nL 120.240266 168.753285 \nL 122.223429 173.341219 \nL 128.172917 176.087941 \nL 130.156079 183.482967 \nL 132.139242 176.540702 \nL 134.122404 183.633883 \nL 142.055055 191.179825 \nL 144.038217 188.372734 \nL 146.02138 195.19426 \nL 148.004542 203.645725 \nL 149.987705 207.479065 \nL 155.937193 206.060424 \nL 157.920355 216.594552 \nL 159.903518 214.753352 \nL 161.88668 211.01056 \nL 163.869843 216.926576 \nL 169.819331 214.994816 \nL 171.802493 212.429201 \nL 173.785656 209.229717 \nL 175.768818 211.765154 \nL 177.751981 217.983014 \nL 183.701469 216.171981 \nL 185.684631 222.842591 \nL 187.667794 228.517143 \nL 189.650956 228.879345 \nL 191.634119 224.653624 \nL 197.583607 225.166743 \nL 199.566769 214.964638 \nL 201.549932 220.186428 \nL 203.533094 214.210043 \nL 205.516257 216.383267 \nL 211.465745 213.244164 \nL 213.448907 220.608999 \nL 215.43207 216.23235 \nL 217.415232 212.821581 \nL 219.398395 210.618168 \nL 227.331045 212.731034 \nL 229.314208 214.119484 \nL 231.29737 215.357018 \nL 233.280533 214.904269 \nL 239.23002 210.708727 \nL 241.213183 204.581414 \nL 243.196346 213.244164 \nL 245.179508 215.628673 \nL 247.162671 219.492203 \nL 253.112158 228.607702 \nL 255.095321 225.800611 \nL 257.078484 224.38197 \nL 259.061646 234.010588 \nL 261.044809 232.259935 \nL 268.977459 229.030273 \nL 270.960622 231.324234 \nL 272.943784 234.855741 \nL 274.926947 223.929209 \nL 280.876434 223.446269 \nL 282.859597 223.687745 \nL 284.84276 228.788797 \nL 286.825922 234.916099 \nL 288.809085 236.485662 \nL 296.741735 238.055213 \nL 298.724898 240.83212 \nL 300.70806 233.829493 \nL 302.691223 237.602458 \nL 308.64071 242.371493 \nL 310.623873 243.548664 \nL 312.607036 243.246825 \nL 314.590198 246.11428 \nL 316.573361 244.937115 \nL 322.522848 244.514544 \nL 324.506011 241.828184 \nL 326.489173 240.952858 \nL 328.472336 242.220577 \nL 330.455499 245.842631 \nL 336.404986 237.662827 \nL 338.388149 240.500103 \nL 340.371311 237.602458 \nL 342.354474 232.380673 \nL 344.337637 230.418724 \nL 350.287124 231.294056 \nL 352.270287 229.422654 \nL 354.253449 227.068324 \nL 356.236612 225.921337 \nL 358.219775 215.598494 \nL 364.169262 213.153605 \nL 366.152425 218.64705 \nL 368.135587 215.477756 \nL 370.11875 217.620801 \nL 372.101913 216.986945 \nL 378.0514 219.431834 \nL 380.034563 219.854405 \nL 382.017725 223.41609 \nL 384.000888 222.269104 \nL 385.984051 225.770421 \nL 391.933538 227.581454 \nL 393.916701 223.838661 \nL 395.899863 219.582751 \nL 397.883026 217.137861 \nL 399.866189 222.238925 \nL 405.815676 223.325543 \nL 407.798839 227.70218 \nL 409.782001 226.132623 \nL 411.765164 234.221873 \nL 413.748327 234.795372 \nL 421.680977 237.481726 \nL 423.664139 236.183823 \nL 425.647302 233.135267 \nL 427.630464 229.452844 \nL 433.579952 231.958091 \nL 435.563115 234.040778 \nL 437.546277 234.040778 \nL 439.52944 234.946289 \nL 441.512602 237.028971 \nL 447.46209 234.553897 \nL 449.445253 235.61033 \nL 451.428415 236.123454 \nL 453.411578 239.534223 \nL 455.39474 244.544728 \nL 461.344228 247.321635 \nL 463.327391 247.804575 \nL 465.310553 244.876746 \nL 467.293716 250.18909 \nL 469.276878 249.343948 \nL 475.226366 244.454175 \nL 477.209529 239.021099 \nL 479.192691 238.417421 \nL 481.175854 238.809808 \nL 483.159016 242.160208 \nL 489.108504 240.228448 \nL 491.091667 244.001419 \nL 493.074829 244.967299 \nL 495.057992 243.095903 \nL 497.041154 249.494864 \nL 502.990642 247.442367 \nL 504.973805 245.721893 \nL 506.956967 245.178584 \nL 508.94013 247.110344 \nL 510.923292 240.077526 \nL 516.87278 241.254697 \nL 518.855943 236.274376 \nL 520.839105 236.696947 \nL 522.822268 238.055213 \nL 524.80543 240.500103 \nL 530.754918 241.07359 \nL 532.738081 236.515846 \nL 534.721243 244.273074 \nL 536.704406 244.031604 \nL 538.687568 236.425293 \nL 544.637056 238.266505 \nL 546.620219 235.731068 \nL 548.603381 240.741573 \nL 550.586544 233.950219 \nL 552.569706 224.955458 \nL 558.519194 228.034203 \nL 560.502357 225.015826 \nL 562.485519 231.022401 \nL 564.468682 233.738934 \nL 566.451844 233.105077 \nL 572.401332 234.916099 \nL 574.384495 229.845236 \nL 576.367657 228.969904 \nL 580.333982 231.324234 \nL 586.28347 237.572274 \nL 588.266633 237.934481 \nL 590.249795 231.384603 \nL 592.232958 232.350483 \nL 594.21612 229.875415 \nL 600.165608 233.648386 \nL 602.14877 240.107711 \nL 604.131933 238.689075 \nL 606.115096 236.304555 \nL 608.098258 238.538159 \nL 614.047746 236.998786 \nL 616.030908 236.214007 \nL 618.014071 237.783565 \nL 619.997234 243.397742 \nL 621.980396 245.38987 \nL 627.929884 248.166777 \nL 629.913046 245.570977 \nL 631.896209 245.118216 \nL 633.879372 257.493562 \nL 635.862534 256.225843 \nL 643.795184 257.765216 \nL 645.778347 260.300653 \nL 647.76151 257.885954 \nL 649.744672 258.459441 \nL 657.677322 258.882018 \nL 659.660485 256.376765 \nL 661.643648 256.799336 \nL 663.62681 251.909563 \nL 669.576298 249.977804 \nL 671.55946 247.653653 \nL 673.542623 244.66546 \nL 675.525786 242.975171 \nL 677.508948 242.612963 \nL 685.441598 242.06966 \nL 687.424761 242.824254 \nL 689.407923 245.178584 \nL 691.391086 240.560472 \nL 697.340574 238.839992 \nL 699.323736 240.83212 \nL 701.306899 239.775693 \nL 703.290061 238.96073 \nL 705.273224 235.248128 \nL 711.222712 236.425293 \nL 713.205874 233.618207 \nL 715.189037 229.784867 \nL 717.172199 227.21924 \nL 719.155362 229.392475 \nL 725.10485 231.837365 \nL 727.088012 233.074899 \nL 729.071175 234.916099 \nL 731.054337 236.576209 \nL 733.0375 238.47779 \nL 733.0375 238.47779 \n\" clip-path=\"url(#pec1d4ee72f)\" style=\"fill: none; stroke: #e4003a; stroke-width: 1.1; stroke-linejoin: miter; stroke-linecap: square\"/>\n   </g>\n   <g id=\"patch_3\">\n    <path d=\"M 7.2 316.294326 \nL 7.2 24.054188 \n\" style=\"fill: none; stroke: #0f0f0f; stroke-width: 0.2; stroke-linejoin: miter; stroke-linecap: square\"/>\n   </g>\n   <g id=\"patch_4\">\n    <path d=\"M 733.0375 316.294326 \nL 733.0375 24.054188 \n\" style=\"fill: none; stroke: #0f0f0f; stroke-width: 0.2; stroke-linejoin: miter; stroke-linecap: square\"/>\n   </g>\n   <g id=\"patch_5\">\n    <path d=\"M 7.2 316.294326 \nL 733.0375 316.294326 \n\" style=\"fill: none; stroke: #0f0f0f; stroke-width: 0.2; stroke-linejoin: miter; stroke-linecap: square\"/>\n   </g>\n   <g id=\"patch_6\">\n    <path d=\"M 7.2 24.054188 \nL 733.0375 24.054188 \n\" style=\"fill: none; stroke: #0f0f0f; stroke-width: 0.2; stroke-linejoin: miter; stroke-linecap: square\"/>\n   </g>\n   <g id=\"text_13\">\n    <!-- Historical price of similar companies -->\n    <g style=\"fill: #0f0f0f\" transform=\"translate(7.2 18.054188) scale(0.156 -0.156)\">\n     <defs>\n      <path id=\"Consolas-48\" d=\"M 3175 0 \nL 2619 0 \nL 2619 1875 \nL 903 1875 \nL 903 0 \nL 347 0 \nL 347 4084 \nL 903 4084 \nL 903 2356 \nL 2619 2356 \nL 2619 4084 \nL 3175 4084 \nL 3175 0 \nz\n\" transform=\"scale(0.015625)\"/>\n      <path id=\"Consolas-73\" d=\"M 2984 856 \nQ 2984 691 2928 559 \nQ 2872 428 2775 326 \nQ 2678 225 2550 153 \nQ 2422 81 2276 34 \nQ 2131 -13 1978 -34 \nQ 1825 -56 1678 -56 \nQ 1359 -56 1092 -28 \nQ 825 0 569 63 \nL 569 563 \nQ 844 484 1116 443 \nQ 1388 403 1656 403 \nQ 2047 403 2234 509 \nQ 2422 616 2422 813 \nQ 2422 897 2392 964 \nQ 2363 1031 2284 1092 \nQ 2206 1153 2042 1218 \nQ 1878 1284 1594 1369 \nQ 1381 1431 1201 1511 \nQ 1022 1591 890 1700 \nQ 759 1809 684 1956 \nQ 609 2103 609 2303 \nQ 609 2434 670 2590 \nQ 731 2747 878 2881 \nQ 1025 3016 1275 3105 \nQ 1525 3194 1900 3194 \nQ 2084 3194 2309 3173 \nQ 2534 3153 2778 3103 \nL 2778 2619 \nQ 2522 2681 2292 2711 \nQ 2063 2741 1894 2741 \nQ 1691 2741 1552 2709 \nQ 1413 2678 1327 2623 \nQ 1241 2569 1203 2495 \nQ 1166 2422 1166 2338 \nQ 1166 2253 1198 2184 \nQ 1231 2116 1320 2052 \nQ 1409 1988 1568 1923 \nQ 1728 1859 1984 1784 \nQ 2263 1703 2453 1614 \nQ 2644 1525 2762 1415 \nQ 2881 1306 2932 1168 \nQ 2984 1031 2984 856 \nz\n\" transform=\"scale(0.015625)\"/>\n      <path id=\"Consolas-74\" d=\"M 3028 44 \nQ 2844 -3 2647 -23 \nQ 2450 -44 2247 -44 \nQ 1656 -44 1365 223 \nQ 1075 491 1075 1044 \nL 1075 2681 \nL 197 2681 \nL 197 3138 \nL 1075 3138 \nL 1075 4000 \nL 1619 4141 \nL 1619 3138 \nL 3028 3138 \nL 3028 2681 \nL 1619 2681 \nL 1619 1088 \nQ 1619 750 1798 583 \nQ 1978 416 2328 416 \nQ 2478 416 2656 439 \nQ 2834 463 3028 513 \nL 3028 44 \nz\n\" transform=\"scale(0.015625)\"/>\n      <path id=\"Consolas-6f\" d=\"M 3231 1594 \nQ 3231 1228 3128 923 \nQ 3025 619 2831 401 \nQ 2638 184 2359 64 \nQ 2081 -56 1728 -56 \nQ 1391 -56 1123 48 \nQ 856 153 670 356 \nQ 484 559 386 859 \nQ 288 1159 288 1550 \nQ 288 1916 391 2217 \nQ 494 2519 687 2736 \nQ 881 2953 1159 3073 \nQ 1438 3194 1791 3194 \nQ 2128 3194 2395 3089 \nQ 2663 2984 2848 2782 \nQ 3034 2581 3132 2281 \nQ 3231 1981 3231 1594 \nz\nM 2675 1569 \nQ 2675 1859 2611 2076 \nQ 2547 2294 2428 2439 \nQ 2309 2584 2139 2657 \nQ 1969 2731 1759 2731 \nQ 1516 2731 1342 2636 \nQ 1169 2541 1058 2381 \nQ 947 2222 895 2011 \nQ 844 1800 844 1569 \nQ 844 1278 908 1059 \nQ 972 841 1090 695 \nQ 1209 550 1378 476 \nQ 1547 403 1759 403 \nQ 2003 403 2176 498 \nQ 2350 594 2461 753 \nQ 2572 913 2623 1123 \nQ 2675 1334 2675 1569 \nz\n\" transform=\"scale(0.015625)\"/>\n      <path id=\"Consolas-6c\" d=\"M 1569 3969 \nL 641 3969 \nL 641 4416 \nL 2119 4416 \nL 2119 453 \nL 3053 453 \nL 3053 0 \nL 538 0 \nL 538 453 \nL 1569 453 \nL 1569 3969 \nz\n\" transform=\"scale(0.015625)\"/>\n      <path id=\"Consolas-70\" d=\"M 3181 1625 \nQ 3181 1206 3064 893 \nQ 2947 581 2740 375 \nQ 2534 169 2253 65 \nQ 1972 -38 1644 -38 \nQ 1494 -38 1345 -22 \nQ 1197 -6 1044 31 \nL 1044 -1281 \nL 500 -1281 \nL 500 3138 \nL 984 3138 \nL 1019 2613 \nQ 1253 2934 1518 3064 \nQ 1784 3194 2094 3194 \nQ 2363 3194 2566 3081 \nQ 2769 2969 2906 2764 \nQ 3044 2559 3112 2270 \nQ 3181 1981 3181 1625 \nz\nM 2625 1600 \nQ 2625 1847 2589 2053 \nQ 2553 2259 2475 2406 \nQ 2397 2553 2275 2636 \nQ 2153 2719 1984 2719 \nQ 1881 2719 1775 2686 \nQ 1669 2653 1555 2576 \nQ 1441 2500 1314 2373 \nQ 1188 2247 1044 2059 \nL 1044 538 \nQ 1194 475 1359 439 \nQ 1525 403 1684 403 \nQ 2125 403 2375 701 \nQ 2625 1000 2625 1600 \nz\n\" transform=\"scale(0.015625)\"/>\n      <path id=\"Consolas-66\" d=\"M 3284 3909 \nQ 2856 4000 2547 4000 \nQ 1813 4000 1813 3231 \nL 1813 2681 \nL 3188 2681 \nL 3188 2228 \nL 1813 2228 \nL 1813 0 \nL 1259 0 \nL 1259 2228 \nL 250 2228 \nL 250 2681 \nL 1259 2681 \nL 1259 3200 \nQ 1259 4453 2566 4453 \nQ 2891 4453 3284 4378 \nL 3284 3909 \nz\nM 0 3138 \nL 0 3138 \nz\n\" transform=\"scale(0.015625)\"/>\n      <path id=\"Consolas-6d\" d=\"M 2738 0 \nL 2738 2253 \nQ 2738 2400 2727 2494 \nQ 2716 2588 2692 2642 \nQ 2669 2697 2633 2719 \nQ 2597 2741 2544 2741 \nQ 2481 2741 2428 2703 \nQ 2375 2666 2314 2581 \nQ 2253 2497 2179 2358 \nQ 2106 2219 2006 2016 \nL 2006 0 \nL 1509 0 \nL 1509 2194 \nQ 1509 2366 1498 2472 \nQ 1488 2578 1464 2637 \nQ 1441 2697 1403 2719 \nQ 1366 2741 1313 2741 \nQ 1256 2741 1206 2709 \nQ 1156 2678 1095 2597 \nQ 1034 2516 959 2375 \nQ 884 2234 781 2016 \nL 781 0 \nL 281 0 \nL 281 3138 \nL 697 3138 \nL 722 2541 \nQ 803 2719 879 2844 \nQ 956 2969 1037 3045 \nQ 1119 3122 1211 3158 \nQ 1303 3194 1416 3194 \nQ 1669 3194 1800 3028 \nQ 1931 2863 1931 2516 \nQ 2006 2678 2078 2804 \nQ 2150 2931 2233 3017 \nQ 2316 3103 2416 3148 \nQ 2516 3194 2647 3194 \nQ 3238 3194 3238 2284 \nL 3238 0 \nL 2738 0 \nz\n\" transform=\"scale(0.015625)\"/>\n      <path id=\"Consolas-6e\" d=\"M 500 3138 \nL 984 3138 \nL 1006 2631 \nQ 1144 2794 1272 2901 \nQ 1400 3009 1523 3075 \nQ 1647 3141 1775 3167 \nQ 1903 3194 2041 3194 \nQ 2525 3194 2773 2908 \nQ 3022 2622 3022 2047 \nL 3022 0 \nL 2478 0 \nL 2478 2003 \nQ 2478 2372 2340 2548 \nQ 2203 2725 1931 2725 \nQ 1831 2725 1736 2695 \nQ 1641 2666 1537 2592 \nQ 1434 2519 1314 2394 \nQ 1194 2269 1044 2081 \nL 1044 0 \nL 500 0 \nL 500 3138 \nz\n\" transform=\"scale(0.015625)\"/>\n     </defs>\n     <use xlink:href=\"#Consolas-48\"/>\n     <use xlink:href=\"#Consolas-69\" x=\"54.980469\"/>\n     <use xlink:href=\"#Consolas-73\" x=\"109.960938\"/>\n     <use xlink:href=\"#Consolas-74\" x=\"164.941406\"/>\n     <use xlink:href=\"#Consolas-6f\" x=\"219.921875\"/>\n     <use xlink:href=\"#Consolas-72\" x=\"274.902344\"/>\n     <use xlink:href=\"#Consolas-69\" x=\"329.882812\"/>\n     <use xlink:href=\"#Consolas-63\" x=\"384.863281\"/>\n     <use xlink:href=\"#Consolas-61\" x=\"439.84375\"/>\n     <use xlink:href=\"#Consolas-6c\" x=\"494.824219\"/>\n     <use xlink:href=\"#Consolas-20\" x=\"549.804688\"/>\n     <use xlink:href=\"#Consolas-70\" x=\"604.785156\"/>\n     <use xlink:href=\"#Consolas-72\" x=\"659.765625\"/>\n     <use xlink:href=\"#Consolas-69\" x=\"714.746094\"/>\n     <use xlink:href=\"#Consolas-63\" x=\"769.726562\"/>\n     <use xlink:href=\"#Consolas-65\" x=\"824.707031\"/>\n     <use xlink:href=\"#Consolas-20\" x=\"879.6875\"/>\n     <use xlink:href=\"#Consolas-6f\" x=\"934.667969\"/>\n     <use xlink:href=\"#Consolas-66\" x=\"989.648438\"/>\n     <use xlink:href=\"#Consolas-20\" x=\"1044.628906\"/>\n     <use xlink:href=\"#Consolas-73\" x=\"1099.609375\"/>\n     <use xlink:href=\"#Consolas-69\" x=\"1154.589844\"/>\n     <use xlink:href=\"#Consolas-6d\" x=\"1209.570312\"/>\n     <use xlink:href=\"#Consolas-69\" x=\"1264.550781\"/>\n     <use xlink:href=\"#Consolas-6c\" x=\"1319.53125\"/>\n     <use xlink:href=\"#Consolas-61\" x=\"1374.511719\"/>\n     <use xlink:href=\"#Consolas-72\" x=\"1429.492188\"/>\n     <use xlink:href=\"#Consolas-20\" x=\"1484.472656\"/>\n     <use xlink:href=\"#Consolas-63\" x=\"1539.453125\"/>\n     <use xlink:href=\"#Consolas-6f\" x=\"1594.433594\"/>\n     <use xlink:href=\"#Consolas-6d\" x=\"1649.414062\"/>\n     <use xlink:href=\"#Consolas-70\" x=\"1704.394531\"/>\n     <use xlink:href=\"#Consolas-61\" x=\"1759.375\"/>\n     <use xlink:href=\"#Consolas-6e\" x=\"1814.355469\"/>\n     <use xlink:href=\"#Consolas-69\" x=\"1869.335938\"/>\n     <use xlink:href=\"#Consolas-65\" x=\"1924.316406\"/>\n     <use xlink:href=\"#Consolas-73\" x=\"1979.296875\"/>\n    </g>\n   </g>\n   <g id=\"legend_1\">\n    <g id=\"patch_7\">\n     <path d=\"M 666.987368 202.123191 \nL 725.4572 202.123191 \nQ 727.623 202.123191 727.623 199.957391 \nL 727.623 140.391123 \nQ 727.623 138.225323 725.4572 138.225323 \nL 666.987368 138.225323 \nQ 664.821568 138.225323 664.821568 140.391123 \nL 664.821568 199.957391 \nQ 664.821568 202.123191 666.987368 202.123191 \nz\n\" style=\"fill: #ffffff; opacity: 0.6; stroke: #ffffff; stroke-linejoin: miter\"/>\n    </g>\n    <g id=\"line2d_27\">\n     <path d=\"M 669.153168 146.347073 \nL 679.982168 146.347073 \nL 690.811168 146.347073 \n\" style=\"fill: none; stroke: #254495; stroke-width: 1.1; stroke-linejoin: miter; stroke-linecap: square\"/>\n    </g>\n    <g id=\"text_14\">\n     <!-- SGML -->\n     <g style=\"fill: #0f0f0f\" transform=\"translate(699.474368 150.137223) scale(0.10829 -0.10829)\">\n      <defs>\n       <path id=\"Consolas-47\" d=\"M 3144 3384 \nQ 2916 3506 2675 3573 \nQ 2434 3641 2150 3641 \nQ 1825 3641 1572 3525 \nQ 1319 3409 1145 3198 \nQ 972 2988 880 2691 \nQ 788 2394 788 2034 \nQ 788 1659 863 1362 \nQ 938 1066 1097 859 \nQ 1256 653 1504 543 \nQ 1753 434 2100 434 \nQ 2159 434 2228 440 \nQ 2297 447 2365 458 \nQ 2434 469 2498 484 \nQ 2563 500 2613 519 \nL 2613 1819 \nL 1778 1819 \nL 1778 2278 \nL 3163 2278 \nL 3163 191 \nQ 3034 131 2892 84 \nQ 2750 38 2601 6 \nQ 2453 -25 2306 -40 \nQ 2159 -56 2022 -56 \nQ 1603 -56 1267 75 \nQ 931 206 695 464 \nQ 459 722 332 1106 \nQ 206 1491 206 1997 \nQ 206 2500 347 2898 \nQ 488 3297 742 3573 \nQ 997 3850 1355 3995 \nQ 1713 4141 2144 4141 \nQ 2419 4141 2667 4092 \nQ 2916 4044 3144 3938 \nL 3144 3384 \nz\n\" transform=\"scale(0.015625)\"/>\n       <path id=\"Consolas-4d\" d=\"M 3366 0 \nL 2822 0 \nL 2741 2547 \nL 2706 3525 \nL 2516 2956 \nL 1913 1331 \nL 1528 1331 \nL 953 2894 \nL 763 3525 \nL 750 2503 \nL 678 0 \nL 153 0 \nL 353 4084 \nL 1013 4084 \nL 1563 2547 \nL 1741 2028 \nL 1913 2547 \nL 2491 4084 \nL 3169 4084 \nL 3366 0 \nz\n\" transform=\"scale(0.015625)\"/>\n       <path id=\"Consolas-4c\" d=\"M 3078 0 \nL 728 0 \nL 728 4084 \nL 1294 4084 \nL 1294 475 \nL 3078 475 \nL 3078 0 \nz\n\" transform=\"scale(0.015625)\"/>\n      </defs>\n      <use xlink:href=\"#Consolas-53\"/>\n      <use xlink:href=\"#Consolas-47\" x=\"54.980469\"/>\n      <use xlink:href=\"#Consolas-4d\" x=\"109.960938\"/>\n      <use xlink:href=\"#Consolas-4c\" x=\"164.941406\"/>\n     </g>\n    </g>\n    <g id=\"line2d_28\">\n     <path d=\"M 669.153168 161.509365 \nL 679.982168 161.509365 \nL 690.811168 161.509365 \n\" style=\"fill: none; stroke: #c13246; stroke-width: 1.1; stroke-linejoin: miter; stroke-linecap: square\"/>\n    </g>\n    <g id=\"text_15\">\n     <!-- LAC -->\n     <g style=\"fill: #0f0f0f\" transform=\"translate(699.474368 165.299515) scale(0.10829 -0.10829)\">\n      <defs>\n       <path id=\"Consolas-41\" d=\"M 3488 0 \nL 2881 0 \nL 2597 891 \nL 897 891 \nL 609 0 \nL 31 0 \nL 1388 4084 \nL 2150 4084 \nL 3488 0 \nz\nM 2438 1388 \nL 1747 3572 \nL 1056 1388 \nL 2438 1388 \nz\n\" transform=\"scale(0.015625)\"/>\n       <path id=\"Consolas-43\" d=\"M 3109 153 \nQ 2619 -50 2081 -50 \nQ 1216 -50 752 467 \nQ 288 984 288 1997 \nQ 288 2488 416 2884 \nQ 544 3281 781 3557 \nQ 1019 3834 1356 3984 \nQ 1694 4134 2113 4134 \nQ 2397 4134 2640 4086 \nQ 2884 4038 3109 3938 \nL 3109 3391 \nQ 2888 3513 2650 3577 \nQ 2413 3641 2131 3641 \nQ 1844 3641 1611 3533 \nQ 1378 3425 1215 3220 \nQ 1053 3016 965 2720 \nQ 878 2425 878 2047 \nQ 878 1253 1200 850 \nQ 1522 447 2144 447 \nQ 2406 447 2647 508 \nQ 2888 569 3109 678 \nL 3109 153 \nz\n\" transform=\"scale(0.015625)\"/>\n      </defs>\n      <use xlink:href=\"#Consolas-4c\"/>\n      <use xlink:href=\"#Consolas-41\" x=\"54.980469\"/>\n      <use xlink:href=\"#Consolas-43\" x=\"109.960938\"/>\n     </g>\n    </g>\n    <g id=\"line2d_29\">\n     <path d=\"M 669.153168 176.671657 \nL 679.982168 176.671657 \nL 690.811168 176.671657 \n\" style=\"fill: none; stroke: #48277c; stroke-width: 1.1; stroke-linejoin: miter; stroke-linecap: square\"/>\n    </g>\n    <g id=\"text_16\">\n     <!-- MTRN -->\n     <g style=\"fill: #0f0f0f\" transform=\"translate(699.474368 180.461807) scale(0.10829 -0.10829)\">\n      <defs>\n       <path id=\"Consolas-54\" d=\"M 3250 3609 \nL 2041 3609 \nL 2041 0 \nL 1478 0 \nL 1478 3609 \nL 269 3609 \nL 269 4084 \nL 3250 4084 \nL 3250 3609 \nz\n\" transform=\"scale(0.015625)\"/>\n       <path id=\"Consolas-52\" d=\"M 3284 0 \nL 2656 0 \nL 2047 1306 \nQ 1978 1456 1906 1554 \nQ 1834 1653 1751 1711 \nQ 1669 1769 1570 1794 \nQ 1472 1819 1350 1819 \nL 1088 1819 \nL 1088 0 \nL 531 0 \nL 531 4084 \nL 1625 4084 \nQ 1981 4084 2237 4006 \nQ 2494 3928 2658 3787 \nQ 2822 3647 2898 3448 \nQ 2975 3250 2975 3009 \nQ 2975 2819 2919 2648 \nQ 2863 2478 2752 2339 \nQ 2641 2200 2477 2098 \nQ 2313 1997 2100 1947 \nQ 2272 1888 2392 1739 \nQ 2513 1591 2638 1344 \nL 3284 0 \nz\nM 2394 2963 \nQ 2394 3291 2189 3453 \nQ 1984 3616 1613 3616 \nL 1088 3616 \nL 1088 2266 \nL 1538 2266 \nQ 1734 2266 1892 2311 \nQ 2050 2356 2161 2445 \nQ 2272 2534 2333 2664 \nQ 2394 2794 2394 2963 \nz\n\" transform=\"scale(0.015625)\"/>\n       <path id=\"Consolas-4e\" d=\"M 3150 0 \nL 2425 0 \nL 1234 2547 \nL 891 3366 \nL 891 1306 \nL 891 0 \nL 372 0 \nL 372 4084 \nL 1088 4084 \nL 2222 1672 \nL 2631 738 \nL 2631 2925 \nL 2631 4084 \nL 3150 4084 \nL 3150 0 \nz\n\" transform=\"scale(0.015625)\"/>\n      </defs>\n      <use xlink:href=\"#Consolas-4d\"/>\n      <use xlink:href=\"#Consolas-54\" x=\"54.980469\"/>\n      <use xlink:href=\"#Consolas-52\" x=\"109.960938\"/>\n      <use xlink:href=\"#Consolas-4e\" x=\"164.941406\"/>\n     </g>\n    </g>\n    <g id=\"line2d_30\">\n     <path d=\"M 669.153168 191.833949 \nL 679.982168 191.833949 \nL 690.811168 191.833949 \n\" style=\"fill: none; stroke: #e4003a; stroke-width: 1.1; stroke-linejoin: miter; stroke-linecap: square\"/>\n    </g>\n    <g id=\"text_17\">\n     <!-- MP -->\n     <g style=\"fill: #0f0f0f\" transform=\"translate(699.474368 195.624099) scale(0.10829 -0.10829)\">\n      <use xlink:href=\"#Consolas-4d\"/>\n      <use xlink:href=\"#Consolas-50\" x=\"54.980469\"/>\n     </g>\n    </g>\n   </g>\n  </g>\n </g>\n <defs>\n  <clipPath id=\"pec1d4ee72f\">\n   <rect x=\"7.2\" y=\"24.054188\" width=\"725.8375\" height=\"292.240139\"/>\n  </clipPath>\n </defs>\n</svg>\n",
      "text/plain": [
       "<Figure size 1650x750 with 1 Axes>"
      ]
     },
     "metadata": {},
     "output_type": "display_data"
    }
   ],
   "source": [
    "\n",
    "                    \n",
    "                        \n",
    "if (symbol in similar_companies_dict):\n",
    "    similar_companies = similar_companies_dict[symbol]\n",
    "else:\n",
    "    similar_companies=openbb.stocks.ca.similar(symbol,source=\"Polygon\")\n",
    "\n",
    "similar_companies.append(symbol)\n",
    "fig, ax = plt.subplots(figsize=(11, 5), dpi=150)\n",
    "openbb.stocks.ca.hist_chart(\n",
    "    similar_companies,\n",
    "    external_axes=[\n",
    "        ax,\n",
    "    ],\n",
    "    normalize=False,\n",
    ")\n",
    "fig.tight_layout()\n",
    "f = io.BytesIO()\n",
    "fig.savefig(f, format=\"svg\")\n",
    "historical_similar = f.getvalue().decode(\"utf-8\")"
   ]
  },
  {
   "cell_type": "code",
   "execution_count": 26,
   "id": "7d034858",
   "metadata": {},
   "outputs": [
    {
     "data": {
      "image/svg+xml": "<?xml version=\"1.0\" encoding=\"utf-8\" standalone=\"no\"?>\n<!DOCTYPE svg PUBLIC \"-//W3C//DTD SVG 1.1//EN\"\n  \"http://www.w3.org/Graphics/SVG/1.1/DTD/svg11.dtd\">\n<svg xmlns:xlink=\"http://www.w3.org/1999/xlink\" width=\"777.709799pt\" height=\"346.0299pt\" viewBox=\"0 0 777.709799 346.0299\" xmlns=\"http://www.w3.org/2000/svg\" version=\"1.1\">\n <metadata>\n  <rdf:RDF xmlns:dc=\"http://purl.org/dc/elements/1.1/\" xmlns:cc=\"http://creativecommons.org/ns#\" xmlns:rdf=\"http://www.w3.org/1999/02/22-rdf-syntax-ns#\">\n   <cc:Work>\n    <dc:type rdf:resource=\"http://purl.org/dc/dcmitype/StillImage\"/>\n    <dc:date>2023-02-10T10:46:14.410463</dc:date>\n    <dc:format>image/svg+xml</dc:format>\n    <dc:creator>\n     <cc:Agent>\n      <dc:title>Matplotlib v3.6.2, https://matplotlib.org/</dc:title>\n     </cc:Agent>\n    </dc:creator>\n   </cc:Work>\n  </rdf:RDF>\n </metadata>\n <defs>\n  <style type=\"text/css\">*{stroke-linejoin: round; stroke-linecap: butt}</style>\n </defs>\n <g id=\"figure_1\">\n  <g id=\"patch_1\">\n   <path d=\"M 0 346.0299 \nL 777.709799 346.0299 \nL 777.709799 0 \nL 0 0 \nz\n\" style=\"fill: #ffffff\"/>\n  </g>\n  <g id=\"axes_1\">\n   <g id=\"patch_2\">\n    <path d=\"M 24.95253 319.425005 \nL 721.583981 319.425005 \nL 721.583981 24.054188 \nL 24.95253 24.054188 \nz\n\" style=\"fill: #ffffff\"/>\n   </g>\n   <g id=\"matplotlib.axis_1\">\n    <g id=\"xtick_1\">\n     <g id=\"line2d_1\">\n      <path d=\"M 24.95253 319.425005 \nL 24.95253 24.054188 \n\" clip-path=\"url(#pbd2cf8b684)\" style=\"fill: none; stroke-dasharray: 0.4,0.66; stroke-dashoffset: 0; stroke: #0f0f0f; stroke-width: 0.4; stroke-linejoin: miter\"/>\n     </g>\n     <g id=\"line2d_2\">\n      <defs>\n       <path id=\"m07c32f54ae\" d=\"M 0 0 \nL 0 2 \n\" style=\"stroke: #0f0f0f; stroke-width: 0.2\"/>\n      </defs>\n      <g>\n       <use xlink:href=\"#m07c32f54ae\" x=\"24.95253\" y=\"319.425005\" style=\"fill: #0f0f0f; stroke: #0f0f0f; stroke-width: 0.2\"/>\n      </g>\n     </g>\n     <g id=\"text_1\">\n      <!-- 2020-03 -->\n      <g style=\"fill: #0f0f0f\" transform=\"translate(8.278355 337.055861) rotate(-10) scale(0.09 -0.09)\">\n       <defs>\n        <path id=\"Consolas-32\" d=\"M 3150 0 \nL 459 0 \nL 459 488 \nL 1516 1538 \nQ 1775 1794 1937 1981 \nQ 2100 2169 2190 2323 \nQ 2281 2478 2312 2615 \nQ 2344 2753 2344 2913 \nQ 2344 3063 2303 3198 \nQ 2263 3334 2178 3437 \nQ 2094 3541 1959 3600 \nQ 1825 3659 1638 3659 \nQ 1378 3659 1165 3543 \nQ 953 3428 775 3244 \nL 475 3603 \nQ 706 3847 1007 3994 \nQ 1309 4141 1709 4141 \nQ 1981 4141 2204 4059 \nQ 2428 3978 2590 3825 \nQ 2753 3672 2842 3450 \nQ 2931 3228 2931 2950 \nQ 2931 2716 2868 2516 \nQ 2806 2316 2679 2117 \nQ 2553 1919 2361 1706 \nQ 2169 1494 1906 1241 \nL 1166 519 \nL 3150 519 \nL 3150 0 \nz\n\" transform=\"scale(0.015625)\"/>\n        <path id=\"Consolas-30\" d=\"M 3244 2041 \nQ 3244 1572 3150 1186 \nQ 3056 800 2865 523 \nQ 2675 247 2392 95 \nQ 2109 -56 1728 -56 \nQ 1400 -56 1131 67 \nQ 863 191 672 447 \nQ 481 703 378 1100 \nQ 275 1497 275 2041 \nQ 275 2509 370 2896 \nQ 466 3284 655 3561 \nQ 844 3838 1128 3989 \nQ 1413 4141 1791 4141 \nQ 2119 4141 2387 4017 \nQ 2656 3894 2847 3636 \nQ 3038 3378 3141 2981 \nQ 3244 2584 3244 2041 \nz\nM 2694 2022 \nQ 2694 2128 2686 2233 \nQ 2678 2338 2669 2438 \nL 941 1153 \nQ 988 991 1059 853 \nQ 1131 716 1232 617 \nQ 1334 519 1464 464 \nQ 1594 409 1759 409 \nQ 1972 409 2145 512 \nQ 2319 616 2441 819 \nQ 2563 1022 2628 1323 \nQ 2694 1625 2694 2022 \nz\nM 825 2059 \nQ 825 1963 826 1866 \nQ 828 1769 838 1678 \nL 2566 2956 \nQ 2519 3116 2447 3247 \nQ 2375 3378 2275 3473 \nQ 2175 3569 2047 3622 \nQ 1919 3675 1759 3675 \nQ 1547 3675 1373 3572 \nQ 1200 3469 1078 3264 \nQ 956 3059 890 2757 \nQ 825 2456 825 2059 \nz\n\" transform=\"scale(0.015625)\"/>\n        <path id=\"Consolas-2d\" d=\"M 2694 1447 \nL 825 1447 \nL 825 1959 \nL 2694 1959 \nL 2694 1447 \nz\n\" transform=\"scale(0.015625)\"/>\n        <path id=\"Consolas-33\" d=\"M 3072 1241 \nQ 3072 972 2962 736 \nQ 2853 500 2634 323 \nQ 2416 147 2084 45 \nQ 1753 -56 1313 -56 \nQ 1069 -56 875 -40 \nQ 681 -25 513 0 \nL 513 488 \nQ 706 453 922 434 \nQ 1138 416 1363 416 \nQ 1669 416 1886 470 \nQ 2103 525 2240 628 \nQ 2378 731 2440 878 \nQ 2503 1025 2503 1209 \nQ 2503 1378 2428 1503 \nQ 2353 1628 2217 1712 \nQ 2081 1797 1892 1839 \nQ 1703 1881 1478 1881 \nL 1013 1881 \nL 1013 2328 \nL 1484 2328 \nQ 1669 2328 1820 2376 \nQ 1972 2425 2080 2515 \nQ 2188 2606 2245 2739 \nQ 2303 2872 2303 3041 \nQ 2303 3369 2103 3519 \nQ 1903 3669 1516 3669 \nQ 1309 3669 1090 3628 \nQ 872 3588 622 3506 \nL 622 3981 \nQ 728 4019 848 4048 \nQ 969 4078 1089 4098 \nQ 1209 4119 1328 4130 \nQ 1447 4141 1556 4141 \nQ 1881 4141 2128 4070 \nQ 2375 4000 2540 3869 \nQ 2706 3738 2790 3550 \nQ 2875 3363 2875 3128 \nQ 2875 2778 2695 2540 \nQ 2516 2303 2203 2163 \nQ 2363 2138 2517 2063 \nQ 2672 1988 2795 1870 \nQ 2919 1753 2995 1593 \nQ 3072 1434 3072 1241 \nz\n\" transform=\"scale(0.015625)\"/>\n       </defs>\n       <use xlink:href=\"#Consolas-32\"/>\n       <use xlink:href=\"#Consolas-30\" x=\"54.980469\"/>\n       <use xlink:href=\"#Consolas-32\" x=\"109.960938\"/>\n       <use xlink:href=\"#Consolas-30\" x=\"164.941406\"/>\n       <use xlink:href=\"#Consolas-2d\" x=\"219.921875\"/>\n       <use xlink:href=\"#Consolas-30\" x=\"274.902344\"/>\n       <use xlink:href=\"#Consolas-33\" x=\"329.882812\"/>\n      </g>\n     </g>\n    </g>\n    <g id=\"xtick_2\">\n     <g id=\"line2d_3\">\n      <path d=\"M 102.356025 319.425005 \nL 102.356025 24.054188 \n\" clip-path=\"url(#pbd2cf8b684)\" style=\"fill: none; stroke-dasharray: 0.4,0.66; stroke-dashoffset: 0; stroke: #0f0f0f; stroke-width: 0.4; stroke-linejoin: miter\"/>\n     </g>\n     <g id=\"line2d_4\">\n      <g>\n       <use xlink:href=\"#m07c32f54ae\" x=\"102.356025\" y=\"319.425005\" style=\"fill: #0f0f0f; stroke: #0f0f0f; stroke-width: 0.2\"/>\n      </g>\n     </g>\n     <g id=\"text_2\">\n      <!-- 2020-06 -->\n      <g style=\"fill: #0f0f0f\" transform=\"translate(85.68185 337.055861) rotate(-10) scale(0.09 -0.09)\">\n       <defs>\n        <path id=\"Consolas-36\" d=\"M 3200 1294 \nQ 3200 1013 3098 766 \nQ 2997 519 2809 336 \nQ 2622 153 2358 48 \nQ 2094 -56 1772 -56 \nQ 1434 -56 1175 51 \nQ 916 159 741 382 \nQ 566 606 475 947 \nQ 384 1288 384 1753 \nQ 384 2066 425 2359 \nQ 466 2653 559 2912 \nQ 653 3172 809 3387 \nQ 966 3603 1198 3758 \nQ 1431 3913 1747 3998 \nQ 2063 4084 2478 4084 \nL 2881 4084 \nL 2881 3609 \nL 2444 3609 \nQ 2078 3609 1809 3521 \nQ 1541 3434 1359 3275 \nQ 1178 3116 1081 2891 \nQ 984 2666 959 2388 \nL 947 2259 \nQ 1144 2375 1401 2445 \nQ 1659 2516 1959 2516 \nQ 2269 2516 2501 2425 \nQ 2734 2334 2889 2173 \nQ 3044 2013 3122 1788 \nQ 3200 1563 3200 1294 \nz\nM 2631 1259 \nQ 2631 1447 2586 1598 \nQ 2541 1750 2444 1854 \nQ 2347 1959 2198 2017 \nQ 2050 2075 1844 2075 \nQ 1725 2075 1603 2053 \nQ 1481 2031 1364 1992 \nQ 1247 1953 1140 1903 \nQ 1034 1853 947 1797 \nQ 947 1394 1003 1123 \nQ 1059 853 1170 690 \nQ 1281 528 1443 459 \nQ 1606 391 1819 391 \nQ 1997 391 2145 448 \nQ 2294 506 2401 618 \nQ 2509 731 2570 892 \nQ 2631 1053 2631 1259 \nz\n\" transform=\"scale(0.015625)\"/>\n       </defs>\n       <use xlink:href=\"#Consolas-32\"/>\n       <use xlink:href=\"#Consolas-30\" x=\"54.980469\"/>\n       <use xlink:href=\"#Consolas-32\" x=\"109.960938\"/>\n       <use xlink:href=\"#Consolas-30\" x=\"164.941406\"/>\n       <use xlink:href=\"#Consolas-2d\" x=\"219.921875\"/>\n       <use xlink:href=\"#Consolas-30\" x=\"274.902344\"/>\n       <use xlink:href=\"#Consolas-36\" x=\"329.882812\"/>\n      </g>\n     </g>\n    </g>\n    <g id=\"xtick_3\">\n     <g id=\"line2d_5\">\n      <path d=\"M 179.759519 319.425005 \nL 179.759519 24.054188 \n\" clip-path=\"url(#pbd2cf8b684)\" style=\"fill: none; stroke-dasharray: 0.4,0.66; stroke-dashoffset: 0; stroke: #0f0f0f; stroke-width: 0.4; stroke-linejoin: miter\"/>\n     </g>\n     <g id=\"line2d_6\">\n      <g>\n       <use xlink:href=\"#m07c32f54ae\" x=\"179.759519\" y=\"319.425005\" style=\"fill: #0f0f0f; stroke: #0f0f0f; stroke-width: 0.2\"/>\n      </g>\n     </g>\n     <g id=\"text_3\">\n      <!-- 2020-09 -->\n      <g style=\"fill: #0f0f0f\" transform=\"translate(163.085344 337.055861) rotate(-10) scale(0.09 -0.09)\">\n       <defs>\n        <path id=\"Consolas-39\" d=\"M 3128 2272 \nQ 3128 1675 2984 1245 \nQ 2841 816 2559 539 \nQ 2278 263 1862 131 \nQ 1447 0 903 0 \nL 563 0 \nL 563 475 \nL 941 475 \nQ 1344 475 1637 556 \nQ 1931 638 2126 795 \nQ 2322 953 2425 1179 \nQ 2528 1406 2553 1697 \nL 2566 1825 \nQ 2369 1709 2112 1639 \nQ 1856 1569 1556 1569 \nQ 1247 1569 1012 1659 \nQ 778 1750 623 1912 \nQ 469 2075 391 2298 \nQ 313 2522 313 2784 \nQ 313 3069 416 3316 \nQ 519 3563 705 3745 \nQ 891 3928 1150 4034 \nQ 1409 4141 1722 4141 \nQ 2025 4141 2283 4041 \nQ 2541 3941 2728 3717 \nQ 2916 3494 3022 3137 \nQ 3128 2781 3128 2272 \nz\nM 1697 3694 \nQ 1522 3694 1373 3636 \nQ 1225 3578 1117 3467 \nQ 1009 3356 946 3193 \nQ 884 3031 884 2822 \nQ 884 2631 929 2481 \nQ 975 2331 1070 2226 \nQ 1166 2122 1316 2065 \nQ 1466 2009 1672 2009 \nQ 1788 2009 1911 2031 \nQ 2034 2053 2151 2090 \nQ 2269 2128 2375 2178 \nQ 2481 2228 2566 2284 \nQ 2566 2688 2506 2958 \nQ 2447 3228 2334 3392 \nQ 2222 3556 2061 3625 \nQ 1900 3694 1697 3694 \nz\n\" transform=\"scale(0.015625)\"/>\n       </defs>\n       <use xlink:href=\"#Consolas-32\"/>\n       <use xlink:href=\"#Consolas-30\" x=\"54.980469\"/>\n       <use xlink:href=\"#Consolas-32\" x=\"109.960938\"/>\n       <use xlink:href=\"#Consolas-30\" x=\"164.941406\"/>\n       <use xlink:href=\"#Consolas-2d\" x=\"219.921875\"/>\n       <use xlink:href=\"#Consolas-30\" x=\"274.902344\"/>\n       <use xlink:href=\"#Consolas-39\" x=\"329.882812\"/>\n      </g>\n     </g>\n    </g>\n    <g id=\"xtick_4\">\n     <g id=\"line2d_7\">\n      <path d=\"M 257.163014 319.425005 \nL 257.163014 24.054188 \n\" clip-path=\"url(#pbd2cf8b684)\" style=\"fill: none; stroke-dasharray: 0.4,0.66; stroke-dashoffset: 0; stroke: #0f0f0f; stroke-width: 0.4; stroke-linejoin: miter\"/>\n     </g>\n     <g id=\"line2d_8\">\n      <g>\n       <use xlink:href=\"#m07c32f54ae\" x=\"257.163014\" y=\"319.425005\" style=\"fill: #0f0f0f; stroke: #0f0f0f; stroke-width: 0.2\"/>\n      </g>\n     </g>\n     <g id=\"text_4\">\n      <!-- 2020-12 -->\n      <g style=\"fill: #0f0f0f\" transform=\"translate(240.488839 337.055861) rotate(-10) scale(0.09 -0.09)\">\n       <defs>\n        <path id=\"Consolas-31\" d=\"M 3116 0 \nL 550 0 \nL 550 506 \nL 1600 506 \nL 1600 3488 \nL 622 2956 \nL 422 3419 \nL 1722 4103 \nL 2203 4103 \nL 2203 506 \nL 3116 506 \nL 3116 0 \nz\n\" transform=\"scale(0.015625)\"/>\n       </defs>\n       <use xlink:href=\"#Consolas-32\"/>\n       <use xlink:href=\"#Consolas-30\" x=\"54.980469\"/>\n       <use xlink:href=\"#Consolas-32\" x=\"109.960938\"/>\n       <use xlink:href=\"#Consolas-30\" x=\"164.941406\"/>\n       <use xlink:href=\"#Consolas-2d\" x=\"219.921875\"/>\n       <use xlink:href=\"#Consolas-31\" x=\"274.902344\"/>\n       <use xlink:href=\"#Consolas-32\" x=\"329.882812\"/>\n      </g>\n     </g>\n    </g>\n    <g id=\"xtick_5\">\n     <g id=\"line2d_9\">\n      <path d=\"M 334.566508 319.425005 \nL 334.566508 24.054188 \n\" clip-path=\"url(#pbd2cf8b684)\" style=\"fill: none; stroke-dasharray: 0.4,0.66; stroke-dashoffset: 0; stroke: #0f0f0f; stroke-width: 0.4; stroke-linejoin: miter\"/>\n     </g>\n     <g id=\"line2d_10\">\n      <g>\n       <use xlink:href=\"#m07c32f54ae\" x=\"334.566508\" y=\"319.425005\" style=\"fill: #0f0f0f; stroke: #0f0f0f; stroke-width: 0.2\"/>\n      </g>\n     </g>\n     <g id=\"text_5\">\n      <!-- 2021-03 -->\n      <g style=\"fill: #0f0f0f\" transform=\"translate(317.892333 337.055861) rotate(-10) scale(0.09 -0.09)\">\n       <use xlink:href=\"#Consolas-32\"/>\n       <use xlink:href=\"#Consolas-30\" x=\"54.980469\"/>\n       <use xlink:href=\"#Consolas-32\" x=\"109.960938\"/>\n       <use xlink:href=\"#Consolas-31\" x=\"164.941406\"/>\n       <use xlink:href=\"#Consolas-2d\" x=\"219.921875\"/>\n       <use xlink:href=\"#Consolas-30\" x=\"274.902344\"/>\n       <use xlink:href=\"#Consolas-33\" x=\"329.882812\"/>\n      </g>\n     </g>\n    </g>\n    <g id=\"xtick_6\">\n     <g id=\"line2d_11\">\n      <path d=\"M 411.970003 319.425005 \nL 411.970003 24.054188 \n\" clip-path=\"url(#pbd2cf8b684)\" style=\"fill: none; stroke-dasharray: 0.4,0.66; stroke-dashoffset: 0; stroke: #0f0f0f; stroke-width: 0.4; stroke-linejoin: miter\"/>\n     </g>\n     <g id=\"line2d_12\">\n      <g>\n       <use xlink:href=\"#m07c32f54ae\" x=\"411.970003\" y=\"319.425005\" style=\"fill: #0f0f0f; stroke: #0f0f0f; stroke-width: 0.2\"/>\n      </g>\n     </g>\n     <g id=\"text_6\">\n      <!-- 2021-06 -->\n      <g style=\"fill: #0f0f0f\" transform=\"translate(395.295828 337.055861) rotate(-10) scale(0.09 -0.09)\">\n       <use xlink:href=\"#Consolas-32\"/>\n       <use xlink:href=\"#Consolas-30\" x=\"54.980469\"/>\n       <use xlink:href=\"#Consolas-32\" x=\"109.960938\"/>\n       <use xlink:href=\"#Consolas-31\" x=\"164.941406\"/>\n       <use xlink:href=\"#Consolas-2d\" x=\"219.921875\"/>\n       <use xlink:href=\"#Consolas-30\" x=\"274.902344\"/>\n       <use xlink:href=\"#Consolas-36\" x=\"329.882812\"/>\n      </g>\n     </g>\n    </g>\n    <g id=\"xtick_7\">\n     <g id=\"line2d_13\">\n      <path d=\"M 489.373497 319.425005 \nL 489.373497 24.054188 \n\" clip-path=\"url(#pbd2cf8b684)\" style=\"fill: none; stroke-dasharray: 0.4,0.66; stroke-dashoffset: 0; stroke: #0f0f0f; stroke-width: 0.4; stroke-linejoin: miter\"/>\n     </g>\n     <g id=\"line2d_14\">\n      <g>\n       <use xlink:href=\"#m07c32f54ae\" x=\"489.373497\" y=\"319.425005\" style=\"fill: #0f0f0f; stroke: #0f0f0f; stroke-width: 0.2\"/>\n      </g>\n     </g>\n     <g id=\"text_7\">\n      <!-- 2021-09 -->\n      <g style=\"fill: #0f0f0f\" transform=\"translate(472.699322 337.055861) rotate(-10) scale(0.09 -0.09)\">\n       <use xlink:href=\"#Consolas-32\"/>\n       <use xlink:href=\"#Consolas-30\" x=\"54.980469\"/>\n       <use xlink:href=\"#Consolas-32\" x=\"109.960938\"/>\n       <use xlink:href=\"#Consolas-31\" x=\"164.941406\"/>\n       <use xlink:href=\"#Consolas-2d\" x=\"219.921875\"/>\n       <use xlink:href=\"#Consolas-30\" x=\"274.902344\"/>\n       <use xlink:href=\"#Consolas-39\" x=\"329.882812\"/>\n      </g>\n     </g>\n    </g>\n    <g id=\"xtick_8\">\n     <g id=\"line2d_15\">\n      <path d=\"M 566.776992 319.425005 \nL 566.776992 24.054188 \n\" clip-path=\"url(#pbd2cf8b684)\" style=\"fill: none; stroke-dasharray: 0.4,0.66; stroke-dashoffset: 0; stroke: #0f0f0f; stroke-width: 0.4; stroke-linejoin: miter\"/>\n     </g>\n     <g id=\"line2d_16\">\n      <g>\n       <use xlink:href=\"#m07c32f54ae\" x=\"566.776992\" y=\"319.425005\" style=\"fill: #0f0f0f; stroke: #0f0f0f; stroke-width: 0.2\"/>\n      </g>\n     </g>\n     <g id=\"text_8\">\n      <!-- 2021-12 -->\n      <g style=\"fill: #0f0f0f\" transform=\"translate(550.102817 337.055861) rotate(-10) scale(0.09 -0.09)\">\n       <use xlink:href=\"#Consolas-32\"/>\n       <use xlink:href=\"#Consolas-30\" x=\"54.980469\"/>\n       <use xlink:href=\"#Consolas-32\" x=\"109.960938\"/>\n       <use xlink:href=\"#Consolas-31\" x=\"164.941406\"/>\n       <use xlink:href=\"#Consolas-2d\" x=\"219.921875\"/>\n       <use xlink:href=\"#Consolas-31\" x=\"274.902344\"/>\n       <use xlink:href=\"#Consolas-32\" x=\"329.882812\"/>\n      </g>\n     </g>\n    </g>\n    <g id=\"xtick_9\">\n     <g id=\"line2d_17\">\n      <path d=\"M 644.180486 319.425005 \nL 644.180486 24.054188 \n\" clip-path=\"url(#pbd2cf8b684)\" style=\"fill: none; stroke-dasharray: 0.4,0.66; stroke-dashoffset: 0; stroke: #0f0f0f; stroke-width: 0.4; stroke-linejoin: miter\"/>\n     </g>\n     <g id=\"line2d_18\">\n      <g>\n       <use xlink:href=\"#m07c32f54ae\" x=\"644.180486\" y=\"319.425005\" style=\"fill: #0f0f0f; stroke: #0f0f0f; stroke-width: 0.2\"/>\n      </g>\n     </g>\n     <g id=\"text_9\">\n      <!-- 2022-03 -->\n      <g style=\"fill: #0f0f0f\" transform=\"translate(627.506311 337.055861) rotate(-10) scale(0.09 -0.09)\">\n       <use xlink:href=\"#Consolas-32\"/>\n       <use xlink:href=\"#Consolas-30\" x=\"54.980469\"/>\n       <use xlink:href=\"#Consolas-32\" x=\"109.960938\"/>\n       <use xlink:href=\"#Consolas-32\" x=\"164.941406\"/>\n       <use xlink:href=\"#Consolas-2d\" x=\"219.921875\"/>\n       <use xlink:href=\"#Consolas-30\" x=\"274.902344\"/>\n       <use xlink:href=\"#Consolas-33\" x=\"329.882812\"/>\n      </g>\n     </g>\n    </g>\n    <g id=\"xtick_10\">\n     <g id=\"line2d_19\">\n      <path d=\"M 721.583981 319.425005 \nL 721.583981 24.054188 \n\" clip-path=\"url(#pbd2cf8b684)\" style=\"fill: none; stroke-dasharray: 0.4,0.66; stroke-dashoffset: 0; stroke: #0f0f0f; stroke-width: 0.4; stroke-linejoin: miter\"/>\n     </g>\n     <g id=\"line2d_20\">\n      <g>\n       <use xlink:href=\"#m07c32f54ae\" x=\"721.583981\" y=\"319.425005\" style=\"fill: #0f0f0f; stroke: #0f0f0f; stroke-width: 0.2\"/>\n      </g>\n     </g>\n     <g id=\"text_10\">\n      <!-- 2022-06 -->\n      <g style=\"fill: #0f0f0f\" transform=\"translate(704.909806 337.055861) rotate(-10) scale(0.09 -0.09)\">\n       <use xlink:href=\"#Consolas-32\"/>\n       <use xlink:href=\"#Consolas-30\" x=\"54.980469\"/>\n       <use xlink:href=\"#Consolas-32\" x=\"109.960938\"/>\n       <use xlink:href=\"#Consolas-32\" x=\"164.941406\"/>\n       <use xlink:href=\"#Consolas-2d\" x=\"219.921875\"/>\n       <use xlink:href=\"#Consolas-30\" x=\"274.902344\"/>\n       <use xlink:href=\"#Consolas-36\" x=\"329.882812\"/>\n      </g>\n     </g>\n    </g>\n   </g>\n   <g id=\"matplotlib.axis_2\">\n    <g id=\"ytick_1\">\n     <g id=\"line2d_21\">\n      <path d=\"M 24.95253 307.376079 \nL 721.583981 307.376079 \n\" clip-path=\"url(#pbd2cf8b684)\" style=\"fill: none; stroke-dasharray: 0.4,0.66; stroke-dashoffset: 0; stroke: #0f0f0f; stroke-width: 0.4; stroke-linejoin: miter\"/>\n     </g>\n     <g id=\"line2d_22\">\n      <defs>\n       <path id=\"mca1a559586\" d=\"M 0 0 \nL 2 0 \n\" style=\"stroke: #0f0f0f; stroke-width: 0.2\"/>\n      </defs>\n      <g>\n       <use xlink:href=\"#mca1a559586\" x=\"721.583981\" y=\"307.376079\" style=\"fill: #0f0f0f; stroke: #0f0f0f; stroke-width: 0.2\"/>\n      </g>\n     </g>\n     <g id=\"text_11\">\n      <!-- −0.175 -->\n      <g style=\"fill: #0f0f0f\" transform=\"translate(727.083981 310.481079) scale(0.09 -0.09)\">\n       <defs>\n        <path id=\"Consolas-2212\" d=\"M 3103 1466 \nL 416 1466 \nL 416 1941 \nL 3103 1941 \nL 3103 1466 \nz\n\" transform=\"scale(0.015625)\"/>\n        <path id=\"Consolas-2e\" d=\"M 1734 984 \nQ 1841 984 1936 943 \nQ 2031 903 2101 831 \nQ 2172 759 2212 664 \nQ 2253 569 2253 459 \nQ 2253 353 2212 259 \nQ 2172 166 2101 95 \nQ 2031 25 1936 -15 \nQ 1841 -56 1734 -56 \nQ 1625 -56 1531 -15 \nQ 1438 25 1367 95 \nQ 1297 166 1256 259 \nQ 1216 353 1216 459 \nQ 1216 569 1256 664 \nQ 1297 759 1367 831 \nQ 1438 903 1531 943 \nQ 1625 984 1734 984 \nz\n\" transform=\"scale(0.015625)\"/>\n        <path id=\"Consolas-37\" d=\"M 3128 3578 \nL 1416 0 \nL 794 0 \nL 2572 3578 \nL 366 3578 \nL 366 4084 \nL 3128 4084 \nL 3128 3578 \nz\n\" transform=\"scale(0.015625)\"/>\n        <path id=\"Consolas-35\" d=\"M 3047 1306 \nQ 3047 1003 2915 753 \nQ 2784 503 2554 323 \nQ 2325 144 2012 44 \nQ 1700 -56 1338 -56 \nQ 1247 -56 1142 -51 \nQ 1038 -47 934 -39 \nQ 831 -31 732 -22 \nQ 634 -13 556 0 \nL 556 494 \nQ 725 453 942 434 \nQ 1159 416 1381 416 \nQ 1631 416 1831 475 \nQ 2031 534 2172 645 \nQ 2313 756 2388 914 \nQ 2463 1072 2463 1269 \nQ 2463 1650 2189 1823 \nQ 1916 1997 1403 1997 \nL 628 1997 \nL 628 4084 \nL 2828 4084 \nL 2828 3609 \nL 1141 3609 \nL 1141 2463 \nL 1497 2463 \nQ 1791 2463 2069 2409 \nQ 2347 2356 2564 2223 \nQ 2781 2091 2914 1867 \nQ 3047 1644 3047 1306 \nz\n\" transform=\"scale(0.015625)\"/>\n       </defs>\n       <use xlink:href=\"#Consolas-2212\"/>\n       <use xlink:href=\"#Consolas-30\" x=\"54.980469\"/>\n       <use xlink:href=\"#Consolas-2e\" x=\"109.960938\"/>\n       <use xlink:href=\"#Consolas-31\" x=\"164.941406\"/>\n       <use xlink:href=\"#Consolas-37\" x=\"219.921875\"/>\n       <use xlink:href=\"#Consolas-35\" x=\"274.902344\"/>\n      </g>\n     </g>\n    </g>\n    <g id=\"ytick_2\">\n     <g id=\"line2d_23\">\n      <path d=\"M 24.95253 272.950576 \nL 721.583981 272.950576 \n\" clip-path=\"url(#pbd2cf8b684)\" style=\"fill: none; stroke-dasharray: 0.4,0.66; stroke-dashoffset: 0; stroke: #0f0f0f; stroke-width: 0.4; stroke-linejoin: miter\"/>\n     </g>\n     <g id=\"line2d_24\">\n      <g>\n       <use xlink:href=\"#mca1a559586\" x=\"721.583981\" y=\"272.950576\" style=\"fill: #0f0f0f; stroke: #0f0f0f; stroke-width: 0.2\"/>\n      </g>\n     </g>\n     <g id=\"text_12\">\n      <!-- −0.150 -->\n      <g style=\"fill: #0f0f0f\" transform=\"translate(727.083981 276.055576) scale(0.09 -0.09)\">\n       <use xlink:href=\"#Consolas-2212\"/>\n       <use xlink:href=\"#Consolas-30\" x=\"54.980469\"/>\n       <use xlink:href=\"#Consolas-2e\" x=\"109.960938\"/>\n       <use xlink:href=\"#Consolas-31\" x=\"164.941406\"/>\n       <use xlink:href=\"#Consolas-35\" x=\"219.921875\"/>\n       <use xlink:href=\"#Consolas-30\" x=\"274.902344\"/>\n      </g>\n     </g>\n    </g>\n    <g id=\"ytick_3\">\n     <g id=\"line2d_25\">\n      <path d=\"M 24.95253 238.525073 \nL 721.583981 238.525073 \n\" clip-path=\"url(#pbd2cf8b684)\" style=\"fill: none; stroke-dasharray: 0.4,0.66; stroke-dashoffset: 0; stroke: #0f0f0f; stroke-width: 0.4; stroke-linejoin: miter\"/>\n     </g>\n     <g id=\"line2d_26\">\n      <g>\n       <use xlink:href=\"#mca1a559586\" x=\"721.583981\" y=\"238.525073\" style=\"fill: #0f0f0f; stroke: #0f0f0f; stroke-width: 0.2\"/>\n      </g>\n     </g>\n     <g id=\"text_13\">\n      <!-- −0.125 -->\n      <g style=\"fill: #0f0f0f\" transform=\"translate(727.083981 241.630073) scale(0.09 -0.09)\">\n       <use xlink:href=\"#Consolas-2212\"/>\n       <use xlink:href=\"#Consolas-30\" x=\"54.980469\"/>\n       <use xlink:href=\"#Consolas-2e\" x=\"109.960938\"/>\n       <use xlink:href=\"#Consolas-31\" x=\"164.941406\"/>\n       <use xlink:href=\"#Consolas-32\" x=\"219.921875\"/>\n       <use xlink:href=\"#Consolas-35\" x=\"274.902344\"/>\n      </g>\n     </g>\n    </g>\n    <g id=\"ytick_4\">\n     <g id=\"line2d_27\">\n      <path d=\"M 24.95253 204.099569 \nL 721.583981 204.099569 \n\" clip-path=\"url(#pbd2cf8b684)\" style=\"fill: none; stroke-dasharray: 0.4,0.66; stroke-dashoffset: 0; stroke: #0f0f0f; stroke-width: 0.4; stroke-linejoin: miter\"/>\n     </g>\n     <g id=\"line2d_28\">\n      <g>\n       <use xlink:href=\"#mca1a559586\" x=\"721.583981\" y=\"204.099569\" style=\"fill: #0f0f0f; stroke: #0f0f0f; stroke-width: 0.2\"/>\n      </g>\n     </g>\n     <g id=\"text_14\">\n      <!-- −0.100 -->\n      <g style=\"fill: #0f0f0f\" transform=\"translate(727.083981 207.204569) scale(0.09 -0.09)\">\n       <use xlink:href=\"#Consolas-2212\"/>\n       <use xlink:href=\"#Consolas-30\" x=\"54.980469\"/>\n       <use xlink:href=\"#Consolas-2e\" x=\"109.960938\"/>\n       <use xlink:href=\"#Consolas-31\" x=\"164.941406\"/>\n       <use xlink:href=\"#Consolas-30\" x=\"219.921875\"/>\n       <use xlink:href=\"#Consolas-30\" x=\"274.902344\"/>\n      </g>\n     </g>\n    </g>\n    <g id=\"ytick_5\">\n     <g id=\"line2d_29\">\n      <path d=\"M 24.95253 169.674066 \nL 721.583981 169.674066 \n\" clip-path=\"url(#pbd2cf8b684)\" style=\"fill: none; stroke-dasharray: 0.4,0.66; stroke-dashoffset: 0; stroke: #0f0f0f; stroke-width: 0.4; stroke-linejoin: miter\"/>\n     </g>\n     <g id=\"line2d_30\">\n      <g>\n       <use xlink:href=\"#mca1a559586\" x=\"721.583981\" y=\"169.674066\" style=\"fill: #0f0f0f; stroke: #0f0f0f; stroke-width: 0.2\"/>\n      </g>\n     </g>\n     <g id=\"text_15\">\n      <!-- −0.075 -->\n      <g style=\"fill: #0f0f0f\" transform=\"translate(727.083981 172.779066) scale(0.09 -0.09)\">\n       <use xlink:href=\"#Consolas-2212\"/>\n       <use xlink:href=\"#Consolas-30\" x=\"54.980469\"/>\n       <use xlink:href=\"#Consolas-2e\" x=\"109.960938\"/>\n       <use xlink:href=\"#Consolas-30\" x=\"164.941406\"/>\n       <use xlink:href=\"#Consolas-37\" x=\"219.921875\"/>\n       <use xlink:href=\"#Consolas-35\" x=\"274.902344\"/>\n      </g>\n     </g>\n    </g>\n    <g id=\"ytick_6\">\n     <g id=\"line2d_31\">\n      <path d=\"M 24.95253 135.248563 \nL 721.583981 135.248563 \n\" clip-path=\"url(#pbd2cf8b684)\" style=\"fill: none; stroke-dasharray: 0.4,0.66; stroke-dashoffset: 0; stroke: #0f0f0f; stroke-width: 0.4; stroke-linejoin: miter\"/>\n     </g>\n     <g id=\"line2d_32\">\n      <g>\n       <use xlink:href=\"#mca1a559586\" x=\"721.583981\" y=\"135.248563\" style=\"fill: #0f0f0f; stroke: #0f0f0f; stroke-width: 0.2\"/>\n      </g>\n     </g>\n     <g id=\"text_16\">\n      <!-- −0.050 -->\n      <g style=\"fill: #0f0f0f\" transform=\"translate(727.083981 138.353563) scale(0.09 -0.09)\">\n       <use xlink:href=\"#Consolas-2212\"/>\n       <use xlink:href=\"#Consolas-30\" x=\"54.980469\"/>\n       <use xlink:href=\"#Consolas-2e\" x=\"109.960938\"/>\n       <use xlink:href=\"#Consolas-30\" x=\"164.941406\"/>\n       <use xlink:href=\"#Consolas-35\" x=\"219.921875\"/>\n       <use xlink:href=\"#Consolas-30\" x=\"274.902344\"/>\n      </g>\n     </g>\n    </g>\n    <g id=\"ytick_7\">\n     <g id=\"line2d_33\">\n      <path d=\"M 24.95253 100.82306 \nL 721.583981 100.82306 \n\" clip-path=\"url(#pbd2cf8b684)\" style=\"fill: none; stroke-dasharray: 0.4,0.66; stroke-dashoffset: 0; stroke: #0f0f0f; stroke-width: 0.4; stroke-linejoin: miter\"/>\n     </g>\n     <g id=\"line2d_34\">\n      <g>\n       <use xlink:href=\"#mca1a559586\" x=\"721.583981\" y=\"100.82306\" style=\"fill: #0f0f0f; stroke: #0f0f0f; stroke-width: 0.2\"/>\n      </g>\n     </g>\n     <g id=\"text_17\">\n      <!-- −0.025 -->\n      <g style=\"fill: #0f0f0f\" transform=\"translate(727.083981 103.92806) scale(0.09 -0.09)\">\n       <use xlink:href=\"#Consolas-2212\"/>\n       <use xlink:href=\"#Consolas-30\" x=\"54.980469\"/>\n       <use xlink:href=\"#Consolas-2e\" x=\"109.960938\"/>\n       <use xlink:href=\"#Consolas-30\" x=\"164.941406\"/>\n       <use xlink:href=\"#Consolas-32\" x=\"219.921875\"/>\n       <use xlink:href=\"#Consolas-35\" x=\"274.902344\"/>\n      </g>\n     </g>\n    </g>\n    <g id=\"ytick_8\">\n     <g id=\"line2d_35\">\n      <path d=\"M 24.95253 66.397556 \nL 721.583981 66.397556 \n\" clip-path=\"url(#pbd2cf8b684)\" style=\"fill: none; stroke-dasharray: 0.4,0.66; stroke-dashoffset: 0; stroke: #0f0f0f; stroke-width: 0.4; stroke-linejoin: miter\"/>\n     </g>\n     <g id=\"line2d_36\">\n      <g>\n       <use xlink:href=\"#mca1a559586\" x=\"721.583981\" y=\"66.397556\" style=\"fill: #0f0f0f; stroke: #0f0f0f; stroke-width: 0.2\"/>\n      </g>\n     </g>\n     <g id=\"text_18\">\n      <!-- 0.000 -->\n      <g style=\"fill: #0f0f0f\" transform=\"translate(727.083981 69.502556) scale(0.09 -0.09)\">\n       <use xlink:href=\"#Consolas-30\"/>\n       <use xlink:href=\"#Consolas-2e\" x=\"54.980469\"/>\n       <use xlink:href=\"#Consolas-30\" x=\"109.960938\"/>\n       <use xlink:href=\"#Consolas-30\" x=\"164.941406\"/>\n       <use xlink:href=\"#Consolas-30\" x=\"219.921875\"/>\n      </g>\n     </g>\n    </g>\n    <g id=\"ytick_9\">\n     <g id=\"line2d_37\">\n      <path d=\"M 24.95253 31.972053 \nL 721.583981 31.972053 \n\" clip-path=\"url(#pbd2cf8b684)\" style=\"fill: none; stroke-dasharray: 0.4,0.66; stroke-dashoffset: 0; stroke: #0f0f0f; stroke-width: 0.4; stroke-linejoin: miter\"/>\n     </g>\n     <g id=\"line2d_38\">\n      <g>\n       <use xlink:href=\"#mca1a559586\" x=\"721.583981\" y=\"31.972053\" style=\"fill: #0f0f0f; stroke: #0f0f0f; stroke-width: 0.2\"/>\n      </g>\n     </g>\n     <g id=\"text_19\">\n      <!-- 0.025 -->\n      <g style=\"fill: #0f0f0f\" transform=\"translate(727.083981 35.077053) scale(0.09 -0.09)\">\n       <use xlink:href=\"#Consolas-30\"/>\n       <use xlink:href=\"#Consolas-2e\" x=\"54.980469\"/>\n       <use xlink:href=\"#Consolas-30\" x=\"109.960938\"/>\n       <use xlink:href=\"#Consolas-32\" x=\"164.941406\"/>\n       <use xlink:href=\"#Consolas-35\" x=\"219.921875\"/>\n      </g>\n     </g>\n    </g>\n    <g id=\"text_20\">\n     <!-- Return on capital employed  -->\n     <g style=\"fill: #0f0f0f\" transform=\"translate(768.310158 252.122079) rotate(-90) scale(0.10829 -0.10829)\">\n      <defs>\n       <path id=\"Consolas-52\" d=\"M 3284 0 \nL 2656 0 \nL 2047 1306 \nQ 1978 1456 1906 1554 \nQ 1834 1653 1751 1711 \nQ 1669 1769 1570 1794 \nQ 1472 1819 1350 1819 \nL 1088 1819 \nL 1088 0 \nL 531 0 \nL 531 4084 \nL 1625 4084 \nQ 1981 4084 2237 4006 \nQ 2494 3928 2658 3787 \nQ 2822 3647 2898 3448 \nQ 2975 3250 2975 3009 \nQ 2975 2819 2919 2648 \nQ 2863 2478 2752 2339 \nQ 2641 2200 2477 2098 \nQ 2313 1997 2100 1947 \nQ 2272 1888 2392 1739 \nQ 2513 1591 2638 1344 \nL 3284 0 \nz\nM 2394 2963 \nQ 2394 3291 2189 3453 \nQ 1984 3616 1613 3616 \nL 1088 3616 \nL 1088 2266 \nL 1538 2266 \nQ 1734 2266 1892 2311 \nQ 2050 2356 2161 2445 \nQ 2272 2534 2333 2664 \nQ 2394 2794 2394 2963 \nz\n\" transform=\"scale(0.015625)\"/>\n       <path id=\"Consolas-65\" d=\"M 3150 1734 \nQ 3150 1619 3147 1541 \nQ 3144 1463 3138 1394 \nL 934 1394 \nQ 934 913 1203 655 \nQ 1472 397 1978 397 \nQ 2116 397 2253 408 \nQ 2391 419 2519 437 \nQ 2647 456 2764 479 \nQ 2881 503 2981 531 \nL 2981 84 \nQ 2759 22 2479 -17 \nQ 2200 -56 1900 -56 \nQ 1497 -56 1206 53 \nQ 916 163 730 370 \nQ 544 578 455 879 \nQ 366 1181 366 1563 \nQ 366 1894 461 2189 \nQ 556 2484 739 2707 \nQ 922 2931 1187 3062 \nQ 1453 3194 1791 3194 \nQ 2119 3194 2372 3091 \nQ 2625 2988 2798 2798 \nQ 2972 2609 3061 2339 \nQ 3150 2069 3150 1734 \nz\nM 2584 1813 \nQ 2594 2022 2544 2195 \nQ 2494 2369 2389 2494 \nQ 2284 2619 2128 2689 \nQ 1972 2759 1766 2759 \nQ 1588 2759 1441 2690 \nQ 1294 2622 1187 2497 \nQ 1081 2372 1015 2197 \nQ 950 2022 934 1813 \nL 2584 1813 \nz\n\" transform=\"scale(0.015625)\"/>\n       <path id=\"Consolas-74\" d=\"M 3028 44 \nQ 2844 -3 2647 -23 \nQ 2450 -44 2247 -44 \nQ 1656 -44 1365 223 \nQ 1075 491 1075 1044 \nL 1075 2681 \nL 197 2681 \nL 197 3138 \nL 1075 3138 \nL 1075 4000 \nL 1619 4141 \nL 1619 3138 \nL 3028 3138 \nL 3028 2681 \nL 1619 2681 \nL 1619 1088 \nQ 1619 750 1798 583 \nQ 1978 416 2328 416 \nQ 2478 416 2656 439 \nQ 2834 463 3028 513 \nL 3028 44 \nz\n\" transform=\"scale(0.015625)\"/>\n       <path id=\"Consolas-75\" d=\"M 3022 0 \nL 2534 0 \nL 2516 506 \nQ 2375 344 2248 236 \nQ 2122 128 1997 62 \nQ 1872 -3 1745 -29 \nQ 1619 -56 1478 -56 \nQ 994 -56 747 228 \nQ 500 513 500 1088 \nL 500 3138 \nL 1044 3138 \nL 1044 1131 \nQ 1044 409 1588 409 \nQ 1688 409 1783 439 \nQ 1878 469 1983 542 \nQ 2088 616 2208 741 \nQ 2328 866 2478 1056 \nL 2478 3138 \nL 3022 3138 \nL 3022 0 \nz\n\" transform=\"scale(0.015625)\"/>\n       <path id=\"Consolas-72\" d=\"M 628 3138 \nL 1125 3138 \nL 1141 2559 \nQ 1419 2894 1689 3044 \nQ 1959 3194 2234 3194 \nQ 2722 3194 2973 2878 \nQ 3225 2563 3206 1941 \nL 2656 1941 \nQ 2666 2353 2536 2539 \nQ 2406 2725 2156 2725 \nQ 2047 2725 1936 2686 \nQ 1825 2647 1708 2561 \nQ 1591 2475 1459 2340 \nQ 1328 2206 1178 2016 \nL 1178 0 \nL 628 0 \nL 628 3138 \nz\n\" transform=\"scale(0.015625)\"/>\n       <path id=\"Consolas-6e\" d=\"M 500 3138 \nL 984 3138 \nL 1006 2631 \nQ 1144 2794 1272 2901 \nQ 1400 3009 1523 3075 \nQ 1647 3141 1775 3167 \nQ 1903 3194 2041 3194 \nQ 2525 3194 2773 2908 \nQ 3022 2622 3022 2047 \nL 3022 0 \nL 2478 0 \nL 2478 2003 \nQ 2478 2372 2340 2548 \nQ 2203 2725 1931 2725 \nQ 1831 2725 1736 2695 \nQ 1641 2666 1537 2592 \nQ 1434 2519 1314 2394 \nQ 1194 2269 1044 2081 \nL 1044 0 \nL 500 0 \nL 500 3138 \nz\n\" transform=\"scale(0.015625)\"/>\n       <path id=\"Consolas-20\" transform=\"scale(0.015625)\"/>\n       <path id=\"Consolas-6f\" d=\"M 3231 1594 \nQ 3231 1228 3128 923 \nQ 3025 619 2831 401 \nQ 2638 184 2359 64 \nQ 2081 -56 1728 -56 \nQ 1391 -56 1123 48 \nQ 856 153 670 356 \nQ 484 559 386 859 \nQ 288 1159 288 1550 \nQ 288 1916 391 2217 \nQ 494 2519 687 2736 \nQ 881 2953 1159 3073 \nQ 1438 3194 1791 3194 \nQ 2128 3194 2395 3089 \nQ 2663 2984 2848 2782 \nQ 3034 2581 3132 2281 \nQ 3231 1981 3231 1594 \nz\nM 2675 1569 \nQ 2675 1859 2611 2076 \nQ 2547 2294 2428 2439 \nQ 2309 2584 2139 2657 \nQ 1969 2731 1759 2731 \nQ 1516 2731 1342 2636 \nQ 1169 2541 1058 2381 \nQ 947 2222 895 2011 \nQ 844 1800 844 1569 \nQ 844 1278 908 1059 \nQ 972 841 1090 695 \nQ 1209 550 1378 476 \nQ 1547 403 1759 403 \nQ 2003 403 2176 498 \nQ 2350 594 2461 753 \nQ 2572 913 2623 1123 \nQ 2675 1334 2675 1569 \nz\n\" transform=\"scale(0.015625)\"/>\n       <path id=\"Consolas-63\" d=\"M 2938 116 \nQ 2725 34 2501 -5 \nQ 2278 -44 2041 -44 \nQ 1297 -44 895 359 \nQ 494 763 494 1538 \nQ 494 1909 609 2212 \nQ 725 2516 934 2731 \nQ 1144 2947 1434 3064 \nQ 1725 3181 2075 3181 \nQ 2319 3181 2531 3147 \nQ 2744 3113 2938 3034 \nL 2938 2516 \nQ 2734 2622 2523 2670 \nQ 2313 2719 2088 2719 \nQ 1878 2719 1692 2639 \nQ 1506 2559 1365 2409 \nQ 1225 2259 1144 2043 \nQ 1063 1828 1063 1556 \nQ 1063 988 1339 705 \nQ 1616 422 2106 422 \nQ 2328 422 2536 472 \nQ 2744 522 2938 622 \nL 2938 116 \nz\n\" transform=\"scale(0.015625)\"/>\n       <path id=\"Consolas-61\" d=\"M 2516 0 \nL 2503 422 \nQ 2247 169 1983 56 \nQ 1719 -56 1428 -56 \nQ 1159 -56 968 12 \nQ 778 81 654 201 \nQ 531 322 473 484 \nQ 416 647 416 838 \nQ 416 1309 767 1576 \nQ 1119 1844 1806 1844 \nL 2456 1844 \nL 2456 2119 \nQ 2456 2397 2278 2564 \nQ 2100 2731 1734 2731 \nQ 1469 2731 1211 2672 \nQ 953 2613 678 2503 \nL 678 2994 \nQ 781 3031 907 3067 \nQ 1034 3103 1175 3131 \nQ 1316 3159 1469 3176 \nQ 1622 3194 1778 3194 \nQ 2063 3194 2291 3131 \nQ 2519 3069 2676 2941 \nQ 2834 2813 2918 2619 \nQ 3003 2425 3003 2163 \nL 3003 0 \nL 2516 0 \nz\nM 2456 1428 \nL 1766 1428 \nQ 1563 1428 1416 1387 \nQ 1269 1347 1175 1272 \nQ 1081 1197 1036 1092 \nQ 991 988 991 856 \nQ 991 766 1019 683 \nQ 1047 600 1109 536 \nQ 1172 472 1272 434 \nQ 1372 397 1516 397 \nQ 1703 397 1945 511 \nQ 2188 625 2456 872 \nL 2456 1428 \nz\n\" transform=\"scale(0.015625)\"/>\n       <path id=\"Consolas-70\" d=\"M 3181 1625 \nQ 3181 1206 3064 893 \nQ 2947 581 2740 375 \nQ 2534 169 2253 65 \nQ 1972 -38 1644 -38 \nQ 1494 -38 1345 -22 \nQ 1197 -6 1044 31 \nL 1044 -1281 \nL 500 -1281 \nL 500 3138 \nL 984 3138 \nL 1019 2613 \nQ 1253 2934 1518 3064 \nQ 1784 3194 2094 3194 \nQ 2363 3194 2566 3081 \nQ 2769 2969 2906 2764 \nQ 3044 2559 3112 2270 \nQ 3181 1981 3181 1625 \nz\nM 2625 1600 \nQ 2625 1847 2589 2053 \nQ 2553 2259 2475 2406 \nQ 2397 2553 2275 2636 \nQ 2153 2719 1984 2719 \nQ 1881 2719 1775 2686 \nQ 1669 2653 1555 2576 \nQ 1441 2500 1314 2373 \nQ 1188 2247 1044 2059 \nL 1044 538 \nQ 1194 475 1359 439 \nQ 1525 403 1684 403 \nQ 2125 403 2375 701 \nQ 2625 1000 2625 1600 \nz\n\" transform=\"scale(0.015625)\"/>\n       <path id=\"Consolas-69\" d=\"M 1569 2688 \nL 641 2688 \nL 641 3138 \nL 2119 3138 \nL 2119 453 \nL 3053 453 \nL 3053 0 \nL 538 0 \nL 538 453 \nL 1569 453 \nL 1569 2688 \nz\nM 1759 4453 \nQ 1850 4453 1928 4420 \nQ 2006 4388 2064 4328 \nQ 2122 4269 2155 4192 \nQ 2188 4116 2188 4025 \nQ 2188 3938 2155 3859 \nQ 2122 3781 2064 3722 \nQ 2006 3663 1928 3630 \nQ 1850 3597 1759 3597 \nQ 1669 3597 1591 3630 \nQ 1513 3663 1455 3722 \nQ 1397 3781 1364 3859 \nQ 1331 3938 1331 4025 \nQ 1331 4116 1364 4192 \nQ 1397 4269 1455 4328 \nQ 1513 4388 1591 4420 \nQ 1669 4453 1759 4453 \nz\n\" transform=\"scale(0.015625)\"/>\n       <path id=\"Consolas-6c\" d=\"M 1569 3969 \nL 641 3969 \nL 641 4416 \nL 2119 4416 \nL 2119 453 \nL 3053 453 \nL 3053 0 \nL 538 0 \nL 538 453 \nL 1569 453 \nL 1569 3969 \nz\n\" transform=\"scale(0.015625)\"/>\n       <path id=\"Consolas-6d\" d=\"M 2738 0 \nL 2738 2253 \nQ 2738 2400 2727 2494 \nQ 2716 2588 2692 2642 \nQ 2669 2697 2633 2719 \nQ 2597 2741 2544 2741 \nQ 2481 2741 2428 2703 \nQ 2375 2666 2314 2581 \nQ 2253 2497 2179 2358 \nQ 2106 2219 2006 2016 \nL 2006 0 \nL 1509 0 \nL 1509 2194 \nQ 1509 2366 1498 2472 \nQ 1488 2578 1464 2637 \nQ 1441 2697 1403 2719 \nQ 1366 2741 1313 2741 \nQ 1256 2741 1206 2709 \nQ 1156 2678 1095 2597 \nQ 1034 2516 959 2375 \nQ 884 2234 781 2016 \nL 781 0 \nL 281 0 \nL 281 3138 \nL 697 3138 \nL 722 2541 \nQ 803 2719 879 2844 \nQ 956 2969 1037 3045 \nQ 1119 3122 1211 3158 \nQ 1303 3194 1416 3194 \nQ 1669 3194 1800 3028 \nQ 1931 2863 1931 2516 \nQ 2006 2678 2078 2804 \nQ 2150 2931 2233 3017 \nQ 2316 3103 2416 3148 \nQ 2516 3194 2647 3194 \nQ 3238 3194 3238 2284 \nL 3238 0 \nL 2738 0 \nz\n\" transform=\"scale(0.015625)\"/>\n       <path id=\"Consolas-79\" d=\"M 3291 3138 \nL 2222 331 \nQ 2056 -97 1879 -406 \nQ 1703 -716 1493 -914 \nQ 1284 -1113 1034 -1206 \nQ 784 -1300 475 -1300 \nQ 394 -1300 328 -1297 \nQ 263 -1294 184 -1288 \nL 184 -794 \nQ 253 -803 334 -811 \nQ 416 -819 506 -819 \nQ 656 -819 786 -775 \nQ 916 -731 1031 -632 \nQ 1147 -534 1253 -378 \nQ 1359 -222 1459 0 \nL 206 3138 \nL 825 3138 \nL 1619 1063 \nL 1778 575 \nL 1959 1075 \nL 2694 3138 \nL 3291 3138 \nz\n\" transform=\"scale(0.015625)\"/>\n       <path id=\"Consolas-64\" d=\"M 341 1503 \nQ 341 1903 450 2214 \nQ 559 2525 761 2739 \nQ 963 2953 1245 3064 \nQ 1528 3175 1875 3175 \nQ 2025 3175 2170 3156 \nQ 2316 3138 2456 3097 \nL 2456 4416 \nL 3003 4416 \nL 3003 0 \nL 2516 0 \nL 2497 594 \nQ 2269 263 2003 103 \nQ 1738 -56 1428 -56 \nQ 1159 -56 954 56 \nQ 750 169 614 373 \nQ 478 578 409 865 \nQ 341 1153 341 1503 \nz\nM 897 1538 \nQ 897 969 1064 689 \nQ 1231 409 1538 409 \nQ 1744 409 1973 593 \nQ 2203 778 2456 1141 \nL 2456 2597 \nQ 2322 2659 2159 2692 \nQ 1997 2725 1838 2725 \nQ 1394 2725 1145 2437 \nQ 897 2150 897 1538 \nz\n\" transform=\"scale(0.015625)\"/>\n      </defs>\n      <use xlink:href=\"#Consolas-52\"/>\n      <use xlink:href=\"#Consolas-65\" x=\"54.980469\"/>\n      <use xlink:href=\"#Consolas-74\" x=\"109.960938\"/>\n      <use xlink:href=\"#Consolas-75\" x=\"164.941406\"/>\n      <use xlink:href=\"#Consolas-72\" x=\"219.921875\"/>\n      <use xlink:href=\"#Consolas-6e\" x=\"274.902344\"/>\n      <use xlink:href=\"#Consolas-20\" x=\"329.882812\"/>\n      <use xlink:href=\"#Consolas-6f\" x=\"384.863281\"/>\n      <use xlink:href=\"#Consolas-6e\" x=\"439.84375\"/>\n      <use xlink:href=\"#Consolas-20\" x=\"494.824219\"/>\n      <use xlink:href=\"#Consolas-63\" x=\"549.804688\"/>\n      <use xlink:href=\"#Consolas-61\" x=\"604.785156\"/>\n      <use xlink:href=\"#Consolas-70\" x=\"659.765625\"/>\n      <use xlink:href=\"#Consolas-69\" x=\"714.746094\"/>\n      <use xlink:href=\"#Consolas-74\" x=\"769.726562\"/>\n      <use xlink:href=\"#Consolas-61\" x=\"824.707031\"/>\n      <use xlink:href=\"#Consolas-6c\" x=\"879.6875\"/>\n      <use xlink:href=\"#Consolas-20\" x=\"934.667969\"/>\n      <use xlink:href=\"#Consolas-65\" x=\"989.648438\"/>\n      <use xlink:href=\"#Consolas-6d\" x=\"1044.628906\"/>\n      <use xlink:href=\"#Consolas-70\" x=\"1099.609375\"/>\n      <use xlink:href=\"#Consolas-6c\" x=\"1154.589844\"/>\n      <use xlink:href=\"#Consolas-6f\" x=\"1209.570312\"/>\n      <use xlink:href=\"#Consolas-79\" x=\"1264.550781\"/>\n      <use xlink:href=\"#Consolas-65\" x=\"1319.53125\"/>\n      <use xlink:href=\"#Consolas-64\" x=\"1374.511719\"/>\n      <use xlink:href=\"#Consolas-20\" x=\"1429.492188\"/>\n     </g>\n    </g>\n   </g>\n   <g id=\"line2d_39\">\n    <path d=\"M 24.95253 117.347301 \nL 102.356025 122.855382 \nL 179.759519 84.298818 \nL 257.163014 85.675838 \nL 334.566508 195.837449 \nL 411.970003 84.298818 \nL 489.373497 305.999059 \nL 566.776992 166.920026 \nL 644.180486 151.772805 \nL 721.583981 173.805127 \n\" clip-path=\"url(#pbd2cf8b684)\" style=\"fill: none; stroke: #254495; stroke-width: 2; stroke-linejoin: miter; stroke-linecap: square\"/>\n   </g>\n   <g id=\"line2d_40\">\n    <path d=\"M 24.95253 111.839221 \nL 102.356025 95.314979 \nL 179.759519 99.44604 \nL 257.163014 109.08518 \nL 334.566508 82.921798 \nL 411.970003 91.183919 \nL 489.373497 96.691999 \nL 566.776992 92.560939 \nL 644.180486 84.298818 \nL 721.583981 88.429879 \n\" clip-path=\"url(#pbd2cf8b684)\" style=\"fill: none; stroke: #c13246; stroke-width: 2; stroke-linejoin: miter; stroke-linecap: square\"/>\n   </g>\n   <g id=\"line2d_41\">\n    <path d=\"M 24.95253 51.250335 \nL 102.356025 65.020536 \nL 179.759519 60.889476 \nL 257.163014 37.480134 \nL 334.566508 37.480134 \nL 411.970003 37.480134 \nL 489.373497 51.250335 \nL 566.776992 48.496295 \nL 644.180486 37.480134 \nL 721.583981 40.234174 \n\" clip-path=\"url(#pbd2cf8b684)\" style=\"fill: none; stroke: #48277c; stroke-width: 2; stroke-linejoin: miter; stroke-linecap: square\"/>\n   </g>\n   <g id=\"patch_3\">\n    <path d=\"M 24.95253 319.425005 \nL 24.95253 24.054188 \n\" style=\"fill: none; stroke: #0f0f0f; stroke-width: 0.2; stroke-linejoin: miter; stroke-linecap: square\"/>\n   </g>\n   <g id=\"patch_4\">\n    <path d=\"M 721.583981 319.425005 \nL 721.583981 24.054188 \n\" style=\"fill: none; stroke: #0f0f0f; stroke-width: 0.2; stroke-linejoin: miter; stroke-linecap: square\"/>\n   </g>\n   <g id=\"patch_5\">\n    <path d=\"M 24.95253 319.425005 \nL 721.583981 319.425005 \n\" style=\"fill: none; stroke: #0f0f0f; stroke-width: 0.2; stroke-linejoin: miter; stroke-linecap: square\"/>\n   </g>\n   <g id=\"patch_6\">\n    <path d=\"M 24.95253 24.054188 \nL 721.583981 24.054188 \n\" style=\"fill: none; stroke: #0f0f0f; stroke-width: 0.2; stroke-linejoin: miter; stroke-linecap: square\"/>\n   </g>\n   <g id=\"text_21\">\n    <!-- Historical Return on capital employed -->\n    <g style=\"fill: #0f0f0f\" transform=\"translate(24.95253 18.054188) scale(0.156 -0.156)\">\n     <defs>\n      <path id=\"Consolas-48\" d=\"M 3175 0 \nL 2619 0 \nL 2619 1875 \nL 903 1875 \nL 903 0 \nL 347 0 \nL 347 4084 \nL 903 4084 \nL 903 2356 \nL 2619 2356 \nL 2619 4084 \nL 3175 4084 \nL 3175 0 \nz\n\" transform=\"scale(0.015625)\"/>\n      <path id=\"Consolas-73\" d=\"M 2984 856 \nQ 2984 691 2928 559 \nQ 2872 428 2775 326 \nQ 2678 225 2550 153 \nQ 2422 81 2276 34 \nQ 2131 -13 1978 -34 \nQ 1825 -56 1678 -56 \nQ 1359 -56 1092 -28 \nQ 825 0 569 63 \nL 569 563 \nQ 844 484 1116 443 \nQ 1388 403 1656 403 \nQ 2047 403 2234 509 \nQ 2422 616 2422 813 \nQ 2422 897 2392 964 \nQ 2363 1031 2284 1092 \nQ 2206 1153 2042 1218 \nQ 1878 1284 1594 1369 \nQ 1381 1431 1201 1511 \nQ 1022 1591 890 1700 \nQ 759 1809 684 1956 \nQ 609 2103 609 2303 \nQ 609 2434 670 2590 \nQ 731 2747 878 2881 \nQ 1025 3016 1275 3105 \nQ 1525 3194 1900 3194 \nQ 2084 3194 2309 3173 \nQ 2534 3153 2778 3103 \nL 2778 2619 \nQ 2522 2681 2292 2711 \nQ 2063 2741 1894 2741 \nQ 1691 2741 1552 2709 \nQ 1413 2678 1327 2623 \nQ 1241 2569 1203 2495 \nQ 1166 2422 1166 2338 \nQ 1166 2253 1198 2184 \nQ 1231 2116 1320 2052 \nQ 1409 1988 1568 1923 \nQ 1728 1859 1984 1784 \nQ 2263 1703 2453 1614 \nQ 2644 1525 2762 1415 \nQ 2881 1306 2932 1168 \nQ 2984 1031 2984 856 \nz\n\" transform=\"scale(0.015625)\"/>\n     </defs>\n     <use xlink:href=\"#Consolas-48\"/>\n     <use xlink:href=\"#Consolas-69\" x=\"54.980469\"/>\n     <use xlink:href=\"#Consolas-73\" x=\"109.960938\"/>\n     <use xlink:href=\"#Consolas-74\" x=\"164.941406\"/>\n     <use xlink:href=\"#Consolas-6f\" x=\"219.921875\"/>\n     <use xlink:href=\"#Consolas-72\" x=\"274.902344\"/>\n     <use xlink:href=\"#Consolas-69\" x=\"329.882812\"/>\n     <use xlink:href=\"#Consolas-63\" x=\"384.863281\"/>\n     <use xlink:href=\"#Consolas-61\" x=\"439.84375\"/>\n     <use xlink:href=\"#Consolas-6c\" x=\"494.824219\"/>\n     <use xlink:href=\"#Consolas-20\" x=\"549.804688\"/>\n     <use xlink:href=\"#Consolas-52\" x=\"604.785156\"/>\n     <use xlink:href=\"#Consolas-65\" x=\"659.765625\"/>\n     <use xlink:href=\"#Consolas-74\" x=\"714.746094\"/>\n     <use xlink:href=\"#Consolas-75\" x=\"769.726562\"/>\n     <use xlink:href=\"#Consolas-72\" x=\"824.707031\"/>\n     <use xlink:href=\"#Consolas-6e\" x=\"879.6875\"/>\n     <use xlink:href=\"#Consolas-20\" x=\"934.667969\"/>\n     <use xlink:href=\"#Consolas-6f\" x=\"989.648438\"/>\n     <use xlink:href=\"#Consolas-6e\" x=\"1044.628906\"/>\n     <use xlink:href=\"#Consolas-20\" x=\"1099.609375\"/>\n     <use xlink:href=\"#Consolas-63\" x=\"1154.589844\"/>\n     <use xlink:href=\"#Consolas-61\" x=\"1209.570312\"/>\n     <use xlink:href=\"#Consolas-70\" x=\"1264.550781\"/>\n     <use xlink:href=\"#Consolas-69\" x=\"1319.53125\"/>\n     <use xlink:href=\"#Consolas-74\" x=\"1374.511719\"/>\n     <use xlink:href=\"#Consolas-61\" x=\"1429.492188\"/>\n     <use xlink:href=\"#Consolas-6c\" x=\"1484.472656\"/>\n     <use xlink:href=\"#Consolas-20\" x=\"1539.453125\"/>\n     <use xlink:href=\"#Consolas-65\" x=\"1594.433594\"/>\n     <use xlink:href=\"#Consolas-6d\" x=\"1649.414062\"/>\n     <use xlink:href=\"#Consolas-70\" x=\"1704.394531\"/>\n     <use xlink:href=\"#Consolas-6c\" x=\"1759.375\"/>\n     <use xlink:href=\"#Consolas-6f\" x=\"1814.355469\"/>\n     <use xlink:href=\"#Consolas-79\" x=\"1869.335938\"/>\n     <use xlink:href=\"#Consolas-65\" x=\"1924.316406\"/>\n     <use xlink:href=\"#Consolas-64\" x=\"1979.296875\"/>\n    </g>\n   </g>\n   <g id=\"legend_1\">\n    <g id=\"patch_7\">\n     <path d=\"M 32.53283 314.010505 \nL 91.002662 314.010505 \nQ 93.168462 314.010505 93.168462 311.844705 \nL 93.168462 267.440729 \nQ 93.168462 265.274929 91.002662 265.274929 \nL 32.53283 265.274929 \nQ 30.36703 265.274929 30.36703 267.440729 \nL 30.36703 311.844705 \nQ 30.36703 314.010505 32.53283 314.010505 \nz\n\" style=\"fill: #ffffff; opacity: 0.6; stroke: #ffffff; stroke-linejoin: miter\"/>\n    </g>\n    <g id=\"line2d_42\">\n     <path d=\"M 34.69863 273.396679 \nL 45.52763 273.396679 \nL 56.35663 273.396679 \n\" style=\"fill: none; stroke: #254495; stroke-width: 2; stroke-linejoin: miter; stroke-linecap: square\"/>\n    </g>\n    <g id=\"text_22\">\n     <!-- SGML -->\n     <g style=\"fill: #0f0f0f\" transform=\"translate(65.01983 277.186829) scale(0.10829 -0.10829)\">\n      <defs>\n       <path id=\"Consolas-53\" d=\"M 3116 1106 \nQ 3116 816 2997 597 \nQ 2878 378 2665 233 \nQ 2453 88 2154 16 \nQ 1856 -56 1497 -56 \nQ 1334 -56 1173 -43 \nQ 1013 -31 864 -12 \nQ 716 6 584 31 \nQ 453 56 347 84 \nL 347 622 \nQ 581 534 873 484 \nQ 1166 434 1538 434 \nQ 1806 434 1995 476 \nQ 2184 519 2304 601 \nQ 2425 684 2479 803 \nQ 2534 922 2534 1075 \nQ 2534 1241 2442 1358 \nQ 2350 1475 2200 1567 \nQ 2050 1659 1858 1736 \nQ 1666 1813 1466 1894 \nQ 1266 1975 1073 2070 \nQ 881 2166 731 2295 \nQ 581 2425 489 2600 \nQ 397 2775 397 3016 \nQ 397 3225 484 3428 \nQ 572 3631 756 3789 \nQ 941 3947 1230 4044 \nQ 1519 4141 1919 4141 \nQ 2022 4141 2142 4131 \nQ 2263 4122 2386 4105 \nQ 2509 4088 2629 4066 \nQ 2750 4044 2853 4019 \nL 2853 3519 \nQ 2613 3588 2372 3623 \nQ 2131 3659 1906 3659 \nQ 1428 3659 1203 3500 \nQ 978 3341 978 3072 \nQ 978 2906 1070 2787 \nQ 1163 2669 1313 2575 \nQ 1463 2481 1655 2404 \nQ 1847 2328 2047 2247 \nQ 2247 2166 2439 2069 \nQ 2631 1972 2781 1839 \nQ 2931 1706 3023 1528 \nQ 3116 1350 3116 1106 \nz\n\" transform=\"scale(0.015625)\"/>\n       <path id=\"Consolas-47\" d=\"M 3144 3384 \nQ 2916 3506 2675 3573 \nQ 2434 3641 2150 3641 \nQ 1825 3641 1572 3525 \nQ 1319 3409 1145 3198 \nQ 972 2988 880 2691 \nQ 788 2394 788 2034 \nQ 788 1659 863 1362 \nQ 938 1066 1097 859 \nQ 1256 653 1504 543 \nQ 1753 434 2100 434 \nQ 2159 434 2228 440 \nQ 2297 447 2365 458 \nQ 2434 469 2498 484 \nQ 2563 500 2613 519 \nL 2613 1819 \nL 1778 1819 \nL 1778 2278 \nL 3163 2278 \nL 3163 191 \nQ 3034 131 2892 84 \nQ 2750 38 2601 6 \nQ 2453 -25 2306 -40 \nQ 2159 -56 2022 -56 \nQ 1603 -56 1267 75 \nQ 931 206 695 464 \nQ 459 722 332 1106 \nQ 206 1491 206 1997 \nQ 206 2500 347 2898 \nQ 488 3297 742 3573 \nQ 997 3850 1355 3995 \nQ 1713 4141 2144 4141 \nQ 2419 4141 2667 4092 \nQ 2916 4044 3144 3938 \nL 3144 3384 \nz\n\" transform=\"scale(0.015625)\"/>\n       <path id=\"Consolas-4d\" d=\"M 3366 0 \nL 2822 0 \nL 2741 2547 \nL 2706 3525 \nL 2516 2956 \nL 1913 1331 \nL 1528 1331 \nL 953 2894 \nL 763 3525 \nL 750 2503 \nL 678 0 \nL 153 0 \nL 353 4084 \nL 1013 4084 \nL 1563 2547 \nL 1741 2028 \nL 1913 2547 \nL 2491 4084 \nL 3169 4084 \nL 3366 0 \nz\n\" transform=\"scale(0.015625)\"/>\n       <path id=\"Consolas-4c\" d=\"M 3078 0 \nL 728 0 \nL 728 4084 \nL 1294 4084 \nL 1294 475 \nL 3078 475 \nL 3078 0 \nz\n\" transform=\"scale(0.015625)\"/>\n      </defs>\n      <use xlink:href=\"#Consolas-53\"/>\n      <use xlink:href=\"#Consolas-47\" x=\"54.980469\"/>\n      <use xlink:href=\"#Consolas-4d\" x=\"109.960938\"/>\n      <use xlink:href=\"#Consolas-4c\" x=\"164.941406\"/>\n     </g>\n    </g>\n    <g id=\"line2d_43\">\n     <path d=\"M 34.69863 288.558971 \nL 45.52763 288.558971 \nL 56.35663 288.558971 \n\" style=\"fill: none; stroke: #c13246; stroke-width: 2; stroke-linejoin: miter; stroke-linecap: square\"/>\n    </g>\n    <g id=\"text_23\">\n     <!-- LAC -->\n     <g style=\"fill: #0f0f0f\" transform=\"translate(65.01983 292.349121) scale(0.10829 -0.10829)\">\n      <defs>\n       <path id=\"Consolas-41\" d=\"M 3488 0 \nL 2881 0 \nL 2597 891 \nL 897 891 \nL 609 0 \nL 31 0 \nL 1388 4084 \nL 2150 4084 \nL 3488 0 \nz\nM 2438 1388 \nL 1747 3572 \nL 1056 1388 \nL 2438 1388 \nz\n\" transform=\"scale(0.015625)\"/>\n       <path id=\"Consolas-43\" d=\"M 3109 153 \nQ 2619 -50 2081 -50 \nQ 1216 -50 752 467 \nQ 288 984 288 1997 \nQ 288 2488 416 2884 \nQ 544 3281 781 3557 \nQ 1019 3834 1356 3984 \nQ 1694 4134 2113 4134 \nQ 2397 4134 2640 4086 \nQ 2884 4038 3109 3938 \nL 3109 3391 \nQ 2888 3513 2650 3577 \nQ 2413 3641 2131 3641 \nQ 1844 3641 1611 3533 \nQ 1378 3425 1215 3220 \nQ 1053 3016 965 2720 \nQ 878 2425 878 2047 \nQ 878 1253 1200 850 \nQ 1522 447 2144 447 \nQ 2406 447 2647 508 \nQ 2888 569 3109 678 \nL 3109 153 \nz\n\" transform=\"scale(0.015625)\"/>\n      </defs>\n      <use xlink:href=\"#Consolas-4c\"/>\n      <use xlink:href=\"#Consolas-41\" x=\"54.980469\"/>\n      <use xlink:href=\"#Consolas-43\" x=\"109.960938\"/>\n     </g>\n    </g>\n    <g id=\"line2d_44\">\n     <path d=\"M 34.69863 303.721263 \nL 45.52763 303.721263 \nL 56.35663 303.721263 \n\" style=\"fill: none; stroke: #48277c; stroke-width: 2; stroke-linejoin: miter; stroke-linecap: square\"/>\n    </g>\n    <g id=\"text_24\">\n     <!-- MTRN -->\n     <g style=\"fill: #0f0f0f\" transform=\"translate(65.01983 307.511413) scale(0.10829 -0.10829)\">\n      <defs>\n       <path id=\"Consolas-54\" d=\"M 3250 3609 \nL 2041 3609 \nL 2041 0 \nL 1478 0 \nL 1478 3609 \nL 269 3609 \nL 269 4084 \nL 3250 4084 \nL 3250 3609 \nz\n\" transform=\"scale(0.015625)\"/>\n       <path id=\"Consolas-4e\" d=\"M 3150 0 \nL 2425 0 \nL 1234 2547 \nL 891 3366 \nL 891 1306 \nL 891 0 \nL 372 0 \nL 372 4084 \nL 1088 4084 \nL 2222 1672 \nL 2631 738 \nL 2631 2925 \nL 2631 4084 \nL 3150 4084 \nL 3150 0 \nz\n\" transform=\"scale(0.015625)\"/>\n      </defs>\n      <use xlink:href=\"#Consolas-4d\"/>\n      <use xlink:href=\"#Consolas-54\" x=\"54.980469\"/>\n      <use xlink:href=\"#Consolas-52\" x=\"109.960938\"/>\n      <use xlink:href=\"#Consolas-4e\" x=\"164.941406\"/>\n     </g>\n    </g>\n   </g>\n  </g>\n </g>\n <defs>\n  <clipPath id=\"pbd2cf8b684\">\n   <rect x=\"24.95253\" y=\"24.054188\" width=\"696.63145\" height=\"295.370818\"/>\n  </clipPath>\n </defs>\n</svg>\n",
      "text/plain": [
       "<Figure size 1650x750 with 1 Axes>"
      ]
     },
     "metadata": {},
     "output_type": "display_data"
    }
   ],
   "source": [
    "fig, ax = plt.subplots(figsize=(11,5), dpi=150)\n",
    "dhelp.display_historical_metric(similar_companies,\"Return on capital employed\", external_axes=[\n",
    "        ax,\n",
    "    ])\n",
    "\n",
    "fig.tight_layout()\n",
    "f = io.BytesIO()\n",
    "fig.savefig(f, format=\"svg\")\n",
    "roic_chart = f.getvalue().decode(\"utf-8\")"
   ]
  },
  {
   "cell_type": "code",
   "execution_count": 27,
   "id": "5dd2c383",
   "metadata": {},
   "outputs": [
    {
     "data": {
      "image/svg+xml": "<?xml version=\"1.0\" encoding=\"utf-8\" standalone=\"no\"?>\n<!DOCTYPE svg PUBLIC \"-//W3C//DTD SVG 1.1//EN\"\n  \"http://www.w3.org/Graphics/SVG/1.1/DTD/svg11.dtd\">\n<svg xmlns:xlink=\"http://www.w3.org/1999/xlink\" width=\"777.709799pt\" height=\"346.0299pt\" viewBox=\"0 0 777.709799 346.0299\" xmlns=\"http://www.w3.org/2000/svg\" version=\"1.1\">\n <metadata>\n  <rdf:RDF xmlns:dc=\"http://purl.org/dc/elements/1.1/\" xmlns:cc=\"http://creativecommons.org/ns#\" xmlns:rdf=\"http://www.w3.org/1999/02/22-rdf-syntax-ns#\">\n   <cc:Work>\n    <dc:type rdf:resource=\"http://purl.org/dc/dcmitype/StillImage\"/>\n    <dc:date>2023-02-10T10:46:18.127510</dc:date>\n    <dc:format>image/svg+xml</dc:format>\n    <dc:creator>\n     <cc:Agent>\n      <dc:title>Matplotlib v3.6.2, https://matplotlib.org/</dc:title>\n     </cc:Agent>\n    </dc:creator>\n   </cc:Work>\n  </rdf:RDF>\n </metadata>\n <defs>\n  <style type=\"text/css\">*{stroke-linejoin: round; stroke-linecap: butt}</style>\n </defs>\n <g id=\"figure_1\">\n  <g id=\"patch_1\">\n   <path d=\"M 0 346.0299 \nL 777.709799 346.0299 \nL 777.709799 0 \nL 0 0 \nz\n\" style=\"fill: #ffffff\"/>\n  </g>\n  <g id=\"axes_1\">\n   <g id=\"patch_2\">\n    <path d=\"M 24.95253 319.425005 \nL 721.583981 319.425005 \nL 721.583981 24.054188 \nL 24.95253 24.054188 \nz\n\" style=\"fill: #ffffff\"/>\n   </g>\n   <g id=\"matplotlib.axis_1\">\n    <g id=\"xtick_1\">\n     <g id=\"line2d_1\">\n      <path d=\"M 24.95253 319.425005 \nL 24.95253 24.054188 \n\" clip-path=\"url(#p62c287d046)\" style=\"fill: none; stroke-dasharray: 0.4,0.66; stroke-dashoffset: 0; stroke: #0f0f0f; stroke-width: 0.4; stroke-linejoin: miter\"/>\n     </g>\n     <g id=\"line2d_2\">\n      <defs>\n       <path id=\"m81f65bb978\" d=\"M 0 0 \nL 0 2 \n\" style=\"stroke: #0f0f0f; stroke-width: 0.2\"/>\n      </defs>\n      <g>\n       <use xlink:href=\"#m81f65bb978\" x=\"24.95253\" y=\"319.425005\" style=\"fill: #0f0f0f; stroke: #0f0f0f; stroke-width: 0.2\"/>\n      </g>\n     </g>\n     <g id=\"text_1\">\n      <!-- 2020-03 -->\n      <g style=\"fill: #0f0f0f\" transform=\"translate(8.278355 337.055861) rotate(-10) scale(0.09 -0.09)\">\n       <defs>\n        <path id=\"Consolas-32\" d=\"M 3150 0 \nL 459 0 \nL 459 488 \nL 1516 1538 \nQ 1775 1794 1937 1981 \nQ 2100 2169 2190 2323 \nQ 2281 2478 2312 2615 \nQ 2344 2753 2344 2913 \nQ 2344 3063 2303 3198 \nQ 2263 3334 2178 3437 \nQ 2094 3541 1959 3600 \nQ 1825 3659 1638 3659 \nQ 1378 3659 1165 3543 \nQ 953 3428 775 3244 \nL 475 3603 \nQ 706 3847 1007 3994 \nQ 1309 4141 1709 4141 \nQ 1981 4141 2204 4059 \nQ 2428 3978 2590 3825 \nQ 2753 3672 2842 3450 \nQ 2931 3228 2931 2950 \nQ 2931 2716 2868 2516 \nQ 2806 2316 2679 2117 \nQ 2553 1919 2361 1706 \nQ 2169 1494 1906 1241 \nL 1166 519 \nL 3150 519 \nL 3150 0 \nz\n\" transform=\"scale(0.015625)\"/>\n        <path id=\"Consolas-30\" d=\"M 3244 2041 \nQ 3244 1572 3150 1186 \nQ 3056 800 2865 523 \nQ 2675 247 2392 95 \nQ 2109 -56 1728 -56 \nQ 1400 -56 1131 67 \nQ 863 191 672 447 \nQ 481 703 378 1100 \nQ 275 1497 275 2041 \nQ 275 2509 370 2896 \nQ 466 3284 655 3561 \nQ 844 3838 1128 3989 \nQ 1413 4141 1791 4141 \nQ 2119 4141 2387 4017 \nQ 2656 3894 2847 3636 \nQ 3038 3378 3141 2981 \nQ 3244 2584 3244 2041 \nz\nM 2694 2022 \nQ 2694 2128 2686 2233 \nQ 2678 2338 2669 2438 \nL 941 1153 \nQ 988 991 1059 853 \nQ 1131 716 1232 617 \nQ 1334 519 1464 464 \nQ 1594 409 1759 409 \nQ 1972 409 2145 512 \nQ 2319 616 2441 819 \nQ 2563 1022 2628 1323 \nQ 2694 1625 2694 2022 \nz\nM 825 2059 \nQ 825 1963 826 1866 \nQ 828 1769 838 1678 \nL 2566 2956 \nQ 2519 3116 2447 3247 \nQ 2375 3378 2275 3473 \nQ 2175 3569 2047 3622 \nQ 1919 3675 1759 3675 \nQ 1547 3675 1373 3572 \nQ 1200 3469 1078 3264 \nQ 956 3059 890 2757 \nQ 825 2456 825 2059 \nz\n\" transform=\"scale(0.015625)\"/>\n        <path id=\"Consolas-2d\" d=\"M 2694 1447 \nL 825 1447 \nL 825 1959 \nL 2694 1959 \nL 2694 1447 \nz\n\" transform=\"scale(0.015625)\"/>\n        <path id=\"Consolas-33\" d=\"M 3072 1241 \nQ 3072 972 2962 736 \nQ 2853 500 2634 323 \nQ 2416 147 2084 45 \nQ 1753 -56 1313 -56 \nQ 1069 -56 875 -40 \nQ 681 -25 513 0 \nL 513 488 \nQ 706 453 922 434 \nQ 1138 416 1363 416 \nQ 1669 416 1886 470 \nQ 2103 525 2240 628 \nQ 2378 731 2440 878 \nQ 2503 1025 2503 1209 \nQ 2503 1378 2428 1503 \nQ 2353 1628 2217 1712 \nQ 2081 1797 1892 1839 \nQ 1703 1881 1478 1881 \nL 1013 1881 \nL 1013 2328 \nL 1484 2328 \nQ 1669 2328 1820 2376 \nQ 1972 2425 2080 2515 \nQ 2188 2606 2245 2739 \nQ 2303 2872 2303 3041 \nQ 2303 3369 2103 3519 \nQ 1903 3669 1516 3669 \nQ 1309 3669 1090 3628 \nQ 872 3588 622 3506 \nL 622 3981 \nQ 728 4019 848 4048 \nQ 969 4078 1089 4098 \nQ 1209 4119 1328 4130 \nQ 1447 4141 1556 4141 \nQ 1881 4141 2128 4070 \nQ 2375 4000 2540 3869 \nQ 2706 3738 2790 3550 \nQ 2875 3363 2875 3128 \nQ 2875 2778 2695 2540 \nQ 2516 2303 2203 2163 \nQ 2363 2138 2517 2063 \nQ 2672 1988 2795 1870 \nQ 2919 1753 2995 1593 \nQ 3072 1434 3072 1241 \nz\n\" transform=\"scale(0.015625)\"/>\n       </defs>\n       <use xlink:href=\"#Consolas-32\"/>\n       <use xlink:href=\"#Consolas-30\" x=\"54.980469\"/>\n       <use xlink:href=\"#Consolas-32\" x=\"109.960938\"/>\n       <use xlink:href=\"#Consolas-30\" x=\"164.941406\"/>\n       <use xlink:href=\"#Consolas-2d\" x=\"219.921875\"/>\n       <use xlink:href=\"#Consolas-30\" x=\"274.902344\"/>\n       <use xlink:href=\"#Consolas-33\" x=\"329.882812\"/>\n      </g>\n     </g>\n    </g>\n    <g id=\"xtick_2\">\n     <g id=\"line2d_3\">\n      <path d=\"M 102.356025 319.425005 \nL 102.356025 24.054188 \n\" clip-path=\"url(#p62c287d046)\" style=\"fill: none; stroke-dasharray: 0.4,0.66; stroke-dashoffset: 0; stroke: #0f0f0f; stroke-width: 0.4; stroke-linejoin: miter\"/>\n     </g>\n     <g id=\"line2d_4\">\n      <g>\n       <use xlink:href=\"#m81f65bb978\" x=\"102.356025\" y=\"319.425005\" style=\"fill: #0f0f0f; stroke: #0f0f0f; stroke-width: 0.2\"/>\n      </g>\n     </g>\n     <g id=\"text_2\">\n      <!-- 2020-06 -->\n      <g style=\"fill: #0f0f0f\" transform=\"translate(85.68185 337.055861) rotate(-10) scale(0.09 -0.09)\">\n       <defs>\n        <path id=\"Consolas-36\" d=\"M 3200 1294 \nQ 3200 1013 3098 766 \nQ 2997 519 2809 336 \nQ 2622 153 2358 48 \nQ 2094 -56 1772 -56 \nQ 1434 -56 1175 51 \nQ 916 159 741 382 \nQ 566 606 475 947 \nQ 384 1288 384 1753 \nQ 384 2066 425 2359 \nQ 466 2653 559 2912 \nQ 653 3172 809 3387 \nQ 966 3603 1198 3758 \nQ 1431 3913 1747 3998 \nQ 2063 4084 2478 4084 \nL 2881 4084 \nL 2881 3609 \nL 2444 3609 \nQ 2078 3609 1809 3521 \nQ 1541 3434 1359 3275 \nQ 1178 3116 1081 2891 \nQ 984 2666 959 2388 \nL 947 2259 \nQ 1144 2375 1401 2445 \nQ 1659 2516 1959 2516 \nQ 2269 2516 2501 2425 \nQ 2734 2334 2889 2173 \nQ 3044 2013 3122 1788 \nQ 3200 1563 3200 1294 \nz\nM 2631 1259 \nQ 2631 1447 2586 1598 \nQ 2541 1750 2444 1854 \nQ 2347 1959 2198 2017 \nQ 2050 2075 1844 2075 \nQ 1725 2075 1603 2053 \nQ 1481 2031 1364 1992 \nQ 1247 1953 1140 1903 \nQ 1034 1853 947 1797 \nQ 947 1394 1003 1123 \nQ 1059 853 1170 690 \nQ 1281 528 1443 459 \nQ 1606 391 1819 391 \nQ 1997 391 2145 448 \nQ 2294 506 2401 618 \nQ 2509 731 2570 892 \nQ 2631 1053 2631 1259 \nz\n\" transform=\"scale(0.015625)\"/>\n       </defs>\n       <use xlink:href=\"#Consolas-32\"/>\n       <use xlink:href=\"#Consolas-30\" x=\"54.980469\"/>\n       <use xlink:href=\"#Consolas-32\" x=\"109.960938\"/>\n       <use xlink:href=\"#Consolas-30\" x=\"164.941406\"/>\n       <use xlink:href=\"#Consolas-2d\" x=\"219.921875\"/>\n       <use xlink:href=\"#Consolas-30\" x=\"274.902344\"/>\n       <use xlink:href=\"#Consolas-36\" x=\"329.882812\"/>\n      </g>\n     </g>\n    </g>\n    <g id=\"xtick_3\">\n     <g id=\"line2d_5\">\n      <path d=\"M 179.759519 319.425005 \nL 179.759519 24.054188 \n\" clip-path=\"url(#p62c287d046)\" style=\"fill: none; stroke-dasharray: 0.4,0.66; stroke-dashoffset: 0; stroke: #0f0f0f; stroke-width: 0.4; stroke-linejoin: miter\"/>\n     </g>\n     <g id=\"line2d_6\">\n      <g>\n       <use xlink:href=\"#m81f65bb978\" x=\"179.759519\" y=\"319.425005\" style=\"fill: #0f0f0f; stroke: #0f0f0f; stroke-width: 0.2\"/>\n      </g>\n     </g>\n     <g id=\"text_3\">\n      <!-- 2020-09 -->\n      <g style=\"fill: #0f0f0f\" transform=\"translate(163.085344 337.055861) rotate(-10) scale(0.09 -0.09)\">\n       <defs>\n        <path id=\"Consolas-39\" d=\"M 3128 2272 \nQ 3128 1675 2984 1245 \nQ 2841 816 2559 539 \nQ 2278 263 1862 131 \nQ 1447 0 903 0 \nL 563 0 \nL 563 475 \nL 941 475 \nQ 1344 475 1637 556 \nQ 1931 638 2126 795 \nQ 2322 953 2425 1179 \nQ 2528 1406 2553 1697 \nL 2566 1825 \nQ 2369 1709 2112 1639 \nQ 1856 1569 1556 1569 \nQ 1247 1569 1012 1659 \nQ 778 1750 623 1912 \nQ 469 2075 391 2298 \nQ 313 2522 313 2784 \nQ 313 3069 416 3316 \nQ 519 3563 705 3745 \nQ 891 3928 1150 4034 \nQ 1409 4141 1722 4141 \nQ 2025 4141 2283 4041 \nQ 2541 3941 2728 3717 \nQ 2916 3494 3022 3137 \nQ 3128 2781 3128 2272 \nz\nM 1697 3694 \nQ 1522 3694 1373 3636 \nQ 1225 3578 1117 3467 \nQ 1009 3356 946 3193 \nQ 884 3031 884 2822 \nQ 884 2631 929 2481 \nQ 975 2331 1070 2226 \nQ 1166 2122 1316 2065 \nQ 1466 2009 1672 2009 \nQ 1788 2009 1911 2031 \nQ 2034 2053 2151 2090 \nQ 2269 2128 2375 2178 \nQ 2481 2228 2566 2284 \nQ 2566 2688 2506 2958 \nQ 2447 3228 2334 3392 \nQ 2222 3556 2061 3625 \nQ 1900 3694 1697 3694 \nz\n\" transform=\"scale(0.015625)\"/>\n       </defs>\n       <use xlink:href=\"#Consolas-32\"/>\n       <use xlink:href=\"#Consolas-30\" x=\"54.980469\"/>\n       <use xlink:href=\"#Consolas-32\" x=\"109.960938\"/>\n       <use xlink:href=\"#Consolas-30\" x=\"164.941406\"/>\n       <use xlink:href=\"#Consolas-2d\" x=\"219.921875\"/>\n       <use xlink:href=\"#Consolas-30\" x=\"274.902344\"/>\n       <use xlink:href=\"#Consolas-39\" x=\"329.882812\"/>\n      </g>\n     </g>\n    </g>\n    <g id=\"xtick_4\">\n     <g id=\"line2d_7\">\n      <path d=\"M 257.163014 319.425005 \nL 257.163014 24.054188 \n\" clip-path=\"url(#p62c287d046)\" style=\"fill: none; stroke-dasharray: 0.4,0.66; stroke-dashoffset: 0; stroke: #0f0f0f; stroke-width: 0.4; stroke-linejoin: miter\"/>\n     </g>\n     <g id=\"line2d_8\">\n      <g>\n       <use xlink:href=\"#m81f65bb978\" x=\"257.163014\" y=\"319.425005\" style=\"fill: #0f0f0f; stroke: #0f0f0f; stroke-width: 0.2\"/>\n      </g>\n     </g>\n     <g id=\"text_4\">\n      <!-- 2020-12 -->\n      <g style=\"fill: #0f0f0f\" transform=\"translate(240.488839 337.055861) rotate(-10) scale(0.09 -0.09)\">\n       <defs>\n        <path id=\"Consolas-31\" d=\"M 3116 0 \nL 550 0 \nL 550 506 \nL 1600 506 \nL 1600 3488 \nL 622 2956 \nL 422 3419 \nL 1722 4103 \nL 2203 4103 \nL 2203 506 \nL 3116 506 \nL 3116 0 \nz\n\" transform=\"scale(0.015625)\"/>\n       </defs>\n       <use xlink:href=\"#Consolas-32\"/>\n       <use xlink:href=\"#Consolas-30\" x=\"54.980469\"/>\n       <use xlink:href=\"#Consolas-32\" x=\"109.960938\"/>\n       <use xlink:href=\"#Consolas-30\" x=\"164.941406\"/>\n       <use xlink:href=\"#Consolas-2d\" x=\"219.921875\"/>\n       <use xlink:href=\"#Consolas-31\" x=\"274.902344\"/>\n       <use xlink:href=\"#Consolas-32\" x=\"329.882812\"/>\n      </g>\n     </g>\n    </g>\n    <g id=\"xtick_5\">\n     <g id=\"line2d_9\">\n      <path d=\"M 334.566508 319.425005 \nL 334.566508 24.054188 \n\" clip-path=\"url(#p62c287d046)\" style=\"fill: none; stroke-dasharray: 0.4,0.66; stroke-dashoffset: 0; stroke: #0f0f0f; stroke-width: 0.4; stroke-linejoin: miter\"/>\n     </g>\n     <g id=\"line2d_10\">\n      <g>\n       <use xlink:href=\"#m81f65bb978\" x=\"334.566508\" y=\"319.425005\" style=\"fill: #0f0f0f; stroke: #0f0f0f; stroke-width: 0.2\"/>\n      </g>\n     </g>\n     <g id=\"text_5\">\n      <!-- 2021-03 -->\n      <g style=\"fill: #0f0f0f\" transform=\"translate(317.892333 337.055861) rotate(-10) scale(0.09 -0.09)\">\n       <use xlink:href=\"#Consolas-32\"/>\n       <use xlink:href=\"#Consolas-30\" x=\"54.980469\"/>\n       <use xlink:href=\"#Consolas-32\" x=\"109.960938\"/>\n       <use xlink:href=\"#Consolas-31\" x=\"164.941406\"/>\n       <use xlink:href=\"#Consolas-2d\" x=\"219.921875\"/>\n       <use xlink:href=\"#Consolas-30\" x=\"274.902344\"/>\n       <use xlink:href=\"#Consolas-33\" x=\"329.882812\"/>\n      </g>\n     </g>\n    </g>\n    <g id=\"xtick_6\">\n     <g id=\"line2d_11\">\n      <path d=\"M 411.970003 319.425005 \nL 411.970003 24.054188 \n\" clip-path=\"url(#p62c287d046)\" style=\"fill: none; stroke-dasharray: 0.4,0.66; stroke-dashoffset: 0; stroke: #0f0f0f; stroke-width: 0.4; stroke-linejoin: miter\"/>\n     </g>\n     <g id=\"line2d_12\">\n      <g>\n       <use xlink:href=\"#m81f65bb978\" x=\"411.970003\" y=\"319.425005\" style=\"fill: #0f0f0f; stroke: #0f0f0f; stroke-width: 0.2\"/>\n      </g>\n     </g>\n     <g id=\"text_6\">\n      <!-- 2021-06 -->\n      <g style=\"fill: #0f0f0f\" transform=\"translate(395.295828 337.055861) rotate(-10) scale(0.09 -0.09)\">\n       <use xlink:href=\"#Consolas-32\"/>\n       <use xlink:href=\"#Consolas-30\" x=\"54.980469\"/>\n       <use xlink:href=\"#Consolas-32\" x=\"109.960938\"/>\n       <use xlink:href=\"#Consolas-31\" x=\"164.941406\"/>\n       <use xlink:href=\"#Consolas-2d\" x=\"219.921875\"/>\n       <use xlink:href=\"#Consolas-30\" x=\"274.902344\"/>\n       <use xlink:href=\"#Consolas-36\" x=\"329.882812\"/>\n      </g>\n     </g>\n    </g>\n    <g id=\"xtick_7\">\n     <g id=\"line2d_13\">\n      <path d=\"M 489.373497 319.425005 \nL 489.373497 24.054188 \n\" clip-path=\"url(#p62c287d046)\" style=\"fill: none; stroke-dasharray: 0.4,0.66; stroke-dashoffset: 0; stroke: #0f0f0f; stroke-width: 0.4; stroke-linejoin: miter\"/>\n     </g>\n     <g id=\"line2d_14\">\n      <g>\n       <use xlink:href=\"#m81f65bb978\" x=\"489.373497\" y=\"319.425005\" style=\"fill: #0f0f0f; stroke: #0f0f0f; stroke-width: 0.2\"/>\n      </g>\n     </g>\n     <g id=\"text_7\">\n      <!-- 2021-09 -->\n      <g style=\"fill: #0f0f0f\" transform=\"translate(472.699322 337.055861) rotate(-10) scale(0.09 -0.09)\">\n       <use xlink:href=\"#Consolas-32\"/>\n       <use xlink:href=\"#Consolas-30\" x=\"54.980469\"/>\n       <use xlink:href=\"#Consolas-32\" x=\"109.960938\"/>\n       <use xlink:href=\"#Consolas-31\" x=\"164.941406\"/>\n       <use xlink:href=\"#Consolas-2d\" x=\"219.921875\"/>\n       <use xlink:href=\"#Consolas-30\" x=\"274.902344\"/>\n       <use xlink:href=\"#Consolas-39\" x=\"329.882812\"/>\n      </g>\n     </g>\n    </g>\n    <g id=\"xtick_8\">\n     <g id=\"line2d_15\">\n      <path d=\"M 566.776992 319.425005 \nL 566.776992 24.054188 \n\" clip-path=\"url(#p62c287d046)\" style=\"fill: none; stroke-dasharray: 0.4,0.66; stroke-dashoffset: 0; stroke: #0f0f0f; stroke-width: 0.4; stroke-linejoin: miter\"/>\n     </g>\n     <g id=\"line2d_16\">\n      <g>\n       <use xlink:href=\"#m81f65bb978\" x=\"566.776992\" y=\"319.425005\" style=\"fill: #0f0f0f; stroke: #0f0f0f; stroke-width: 0.2\"/>\n      </g>\n     </g>\n     <g id=\"text_8\">\n      <!-- 2021-12 -->\n      <g style=\"fill: #0f0f0f\" transform=\"translate(550.102817 337.055861) rotate(-10) scale(0.09 -0.09)\">\n       <use xlink:href=\"#Consolas-32\"/>\n       <use xlink:href=\"#Consolas-30\" x=\"54.980469\"/>\n       <use xlink:href=\"#Consolas-32\" x=\"109.960938\"/>\n       <use xlink:href=\"#Consolas-31\" x=\"164.941406\"/>\n       <use xlink:href=\"#Consolas-2d\" x=\"219.921875\"/>\n       <use xlink:href=\"#Consolas-31\" x=\"274.902344\"/>\n       <use xlink:href=\"#Consolas-32\" x=\"329.882812\"/>\n      </g>\n     </g>\n    </g>\n    <g id=\"xtick_9\">\n     <g id=\"line2d_17\">\n      <path d=\"M 644.180486 319.425005 \nL 644.180486 24.054188 \n\" clip-path=\"url(#p62c287d046)\" style=\"fill: none; stroke-dasharray: 0.4,0.66; stroke-dashoffset: 0; stroke: #0f0f0f; stroke-width: 0.4; stroke-linejoin: miter\"/>\n     </g>\n     <g id=\"line2d_18\">\n      <g>\n       <use xlink:href=\"#m81f65bb978\" x=\"644.180486\" y=\"319.425005\" style=\"fill: #0f0f0f; stroke: #0f0f0f; stroke-width: 0.2\"/>\n      </g>\n     </g>\n     <g id=\"text_9\">\n      <!-- 2022-03 -->\n      <g style=\"fill: #0f0f0f\" transform=\"translate(627.506311 337.055861) rotate(-10) scale(0.09 -0.09)\">\n       <use xlink:href=\"#Consolas-32\"/>\n       <use xlink:href=\"#Consolas-30\" x=\"54.980469\"/>\n       <use xlink:href=\"#Consolas-32\" x=\"109.960938\"/>\n       <use xlink:href=\"#Consolas-32\" x=\"164.941406\"/>\n       <use xlink:href=\"#Consolas-2d\" x=\"219.921875\"/>\n       <use xlink:href=\"#Consolas-30\" x=\"274.902344\"/>\n       <use xlink:href=\"#Consolas-33\" x=\"329.882812\"/>\n      </g>\n     </g>\n    </g>\n    <g id=\"xtick_10\">\n     <g id=\"line2d_19\">\n      <path d=\"M 721.583981 319.425005 \nL 721.583981 24.054188 \n\" clip-path=\"url(#p62c287d046)\" style=\"fill: none; stroke-dasharray: 0.4,0.66; stroke-dashoffset: 0; stroke: #0f0f0f; stroke-width: 0.4; stroke-linejoin: miter\"/>\n     </g>\n     <g id=\"line2d_20\">\n      <g>\n       <use xlink:href=\"#m81f65bb978\" x=\"721.583981\" y=\"319.425005\" style=\"fill: #0f0f0f; stroke: #0f0f0f; stroke-width: 0.2\"/>\n      </g>\n     </g>\n     <g id=\"text_10\">\n      <!-- 2022-06 -->\n      <g style=\"fill: #0f0f0f\" transform=\"translate(704.909806 337.055861) rotate(-10) scale(0.09 -0.09)\">\n       <use xlink:href=\"#Consolas-32\"/>\n       <use xlink:href=\"#Consolas-30\" x=\"54.980469\"/>\n       <use xlink:href=\"#Consolas-32\" x=\"109.960938\"/>\n       <use xlink:href=\"#Consolas-32\" x=\"164.941406\"/>\n       <use xlink:href=\"#Consolas-2d\" x=\"219.921875\"/>\n       <use xlink:href=\"#Consolas-30\" x=\"274.902344\"/>\n       <use xlink:href=\"#Consolas-36\" x=\"329.882812\"/>\n      </g>\n     </g>\n    </g>\n   </g>\n   <g id=\"matplotlib.axis_2\">\n    <g id=\"ytick_1\">\n     <g id=\"line2d_21\">\n      <path d=\"M 24.95253 305.999059 \nL 721.583981 305.999059 \n\" clip-path=\"url(#p62c287d046)\" style=\"fill: none; stroke-dasharray: 0.4,0.66; stroke-dashoffset: 0; stroke: #0f0f0f; stroke-width: 0.4; stroke-linejoin: miter\"/>\n     </g>\n     <g id=\"line2d_22\">\n      <defs>\n       <path id=\"ma40da13766\" d=\"M 0 0 \nL 2 0 \n\" style=\"stroke: #0f0f0f; stroke-width: 0.2\"/>\n      </defs>\n      <g>\n       <use xlink:href=\"#ma40da13766\" x=\"721.583981\" y=\"305.999059\" style=\"fill: #0f0f0f; stroke: #0f0f0f; stroke-width: 0.2\"/>\n      </g>\n     </g>\n     <g id=\"text_11\">\n      <!-- −0.150 -->\n      <g style=\"fill: #0f0f0f\" transform=\"translate(727.083981 309.104059) scale(0.09 -0.09)\">\n       <defs>\n        <path id=\"Consolas-2212\" d=\"M 3103 1466 \nL 416 1466 \nL 416 1941 \nL 3103 1941 \nL 3103 1466 \nz\n\" transform=\"scale(0.015625)\"/>\n        <path id=\"Consolas-2e\" d=\"M 1734 984 \nQ 1841 984 1936 943 \nQ 2031 903 2101 831 \nQ 2172 759 2212 664 \nQ 2253 569 2253 459 \nQ 2253 353 2212 259 \nQ 2172 166 2101 95 \nQ 2031 25 1936 -15 \nQ 1841 -56 1734 -56 \nQ 1625 -56 1531 -15 \nQ 1438 25 1367 95 \nQ 1297 166 1256 259 \nQ 1216 353 1216 459 \nQ 1216 569 1256 664 \nQ 1297 759 1367 831 \nQ 1438 903 1531 943 \nQ 1625 984 1734 984 \nz\n\" transform=\"scale(0.015625)\"/>\n        <path id=\"Consolas-35\" d=\"M 3047 1306 \nQ 3047 1003 2915 753 \nQ 2784 503 2554 323 \nQ 2325 144 2012 44 \nQ 1700 -56 1338 -56 \nQ 1247 -56 1142 -51 \nQ 1038 -47 934 -39 \nQ 831 -31 732 -22 \nQ 634 -13 556 0 \nL 556 494 \nQ 725 453 942 434 \nQ 1159 416 1381 416 \nQ 1631 416 1831 475 \nQ 2031 534 2172 645 \nQ 2313 756 2388 914 \nQ 2463 1072 2463 1269 \nQ 2463 1650 2189 1823 \nQ 1916 1997 1403 1997 \nL 628 1997 \nL 628 4084 \nL 2828 4084 \nL 2828 3609 \nL 1141 3609 \nL 1141 2463 \nL 1497 2463 \nQ 1791 2463 2069 2409 \nQ 2347 2356 2564 2223 \nQ 2781 2091 2914 1867 \nQ 3047 1644 3047 1306 \nz\n\" transform=\"scale(0.015625)\"/>\n       </defs>\n       <use xlink:href=\"#Consolas-2212\"/>\n       <use xlink:href=\"#Consolas-30\" x=\"54.980469\"/>\n       <use xlink:href=\"#Consolas-2e\" x=\"109.960938\"/>\n       <use xlink:href=\"#Consolas-31\" x=\"164.941406\"/>\n       <use xlink:href=\"#Consolas-35\" x=\"219.921875\"/>\n       <use xlink:href=\"#Consolas-30\" x=\"274.902344\"/>\n      </g>\n     </g>\n    </g>\n    <g id=\"ytick_2\">\n     <g id=\"line2d_23\">\n      <path d=\"M 24.95253 268.072657 \nL 721.583981 268.072657 \n\" clip-path=\"url(#p62c287d046)\" style=\"fill: none; stroke-dasharray: 0.4,0.66; stroke-dashoffset: 0; stroke: #0f0f0f; stroke-width: 0.4; stroke-linejoin: miter\"/>\n     </g>\n     <g id=\"line2d_24\">\n      <g>\n       <use xlink:href=\"#ma40da13766\" x=\"721.583981\" y=\"268.072657\" style=\"fill: #0f0f0f; stroke: #0f0f0f; stroke-width: 0.2\"/>\n      </g>\n     </g>\n     <g id=\"text_12\">\n      <!-- −0.125 -->\n      <g style=\"fill: #0f0f0f\" transform=\"translate(727.083981 271.177657) scale(0.09 -0.09)\">\n       <use xlink:href=\"#Consolas-2212\"/>\n       <use xlink:href=\"#Consolas-30\" x=\"54.980469\"/>\n       <use xlink:href=\"#Consolas-2e\" x=\"109.960938\"/>\n       <use xlink:href=\"#Consolas-31\" x=\"164.941406\"/>\n       <use xlink:href=\"#Consolas-32\" x=\"219.921875\"/>\n       <use xlink:href=\"#Consolas-35\" x=\"274.902344\"/>\n      </g>\n     </g>\n    </g>\n    <g id=\"ytick_3\">\n     <g id=\"line2d_25\">\n      <path d=\"M 24.95253 230.146255 \nL 721.583981 230.146255 \n\" clip-path=\"url(#p62c287d046)\" style=\"fill: none; stroke-dasharray: 0.4,0.66; stroke-dashoffset: 0; stroke: #0f0f0f; stroke-width: 0.4; stroke-linejoin: miter\"/>\n     </g>\n     <g id=\"line2d_26\">\n      <g>\n       <use xlink:href=\"#ma40da13766\" x=\"721.583981\" y=\"230.146255\" style=\"fill: #0f0f0f; stroke: #0f0f0f; stroke-width: 0.2\"/>\n      </g>\n     </g>\n     <g id=\"text_13\">\n      <!-- −0.100 -->\n      <g style=\"fill: #0f0f0f\" transform=\"translate(727.083981 233.251255) scale(0.09 -0.09)\">\n       <use xlink:href=\"#Consolas-2212\"/>\n       <use xlink:href=\"#Consolas-30\" x=\"54.980469\"/>\n       <use xlink:href=\"#Consolas-2e\" x=\"109.960938\"/>\n       <use xlink:href=\"#Consolas-31\" x=\"164.941406\"/>\n       <use xlink:href=\"#Consolas-30\" x=\"219.921875\"/>\n       <use xlink:href=\"#Consolas-30\" x=\"274.902344\"/>\n      </g>\n     </g>\n    </g>\n    <g id=\"ytick_4\">\n     <g id=\"line2d_27\">\n      <path d=\"M 24.95253 192.219853 \nL 721.583981 192.219853 \n\" clip-path=\"url(#p62c287d046)\" style=\"fill: none; stroke-dasharray: 0.4,0.66; stroke-dashoffset: 0; stroke: #0f0f0f; stroke-width: 0.4; stroke-linejoin: miter\"/>\n     </g>\n     <g id=\"line2d_28\">\n      <g>\n       <use xlink:href=\"#ma40da13766\" x=\"721.583981\" y=\"192.219853\" style=\"fill: #0f0f0f; stroke: #0f0f0f; stroke-width: 0.2\"/>\n      </g>\n     </g>\n     <g id=\"text_14\">\n      <!-- −0.075 -->\n      <g style=\"fill: #0f0f0f\" transform=\"translate(727.083981 195.324853) scale(0.09 -0.09)\">\n       <defs>\n        <path id=\"Consolas-37\" d=\"M 3128 3578 \nL 1416 0 \nL 794 0 \nL 2572 3578 \nL 366 3578 \nL 366 4084 \nL 3128 4084 \nL 3128 3578 \nz\n\" transform=\"scale(0.015625)\"/>\n       </defs>\n       <use xlink:href=\"#Consolas-2212\"/>\n       <use xlink:href=\"#Consolas-30\" x=\"54.980469\"/>\n       <use xlink:href=\"#Consolas-2e\" x=\"109.960938\"/>\n       <use xlink:href=\"#Consolas-30\" x=\"164.941406\"/>\n       <use xlink:href=\"#Consolas-37\" x=\"219.921875\"/>\n       <use xlink:href=\"#Consolas-35\" x=\"274.902344\"/>\n      </g>\n     </g>\n    </g>\n    <g id=\"ytick_5\">\n     <g id=\"line2d_29\">\n      <path d=\"M 24.95253 154.293452 \nL 721.583981 154.293452 \n\" clip-path=\"url(#p62c287d046)\" style=\"fill: none; stroke-dasharray: 0.4,0.66; stroke-dashoffset: 0; stroke: #0f0f0f; stroke-width: 0.4; stroke-linejoin: miter\"/>\n     </g>\n     <g id=\"line2d_30\">\n      <g>\n       <use xlink:href=\"#ma40da13766\" x=\"721.583981\" y=\"154.293452\" style=\"fill: #0f0f0f; stroke: #0f0f0f; stroke-width: 0.2\"/>\n      </g>\n     </g>\n     <g id=\"text_15\">\n      <!-- −0.050 -->\n      <g style=\"fill: #0f0f0f\" transform=\"translate(727.083981 157.398452) scale(0.09 -0.09)\">\n       <use xlink:href=\"#Consolas-2212\"/>\n       <use xlink:href=\"#Consolas-30\" x=\"54.980469\"/>\n       <use xlink:href=\"#Consolas-2e\" x=\"109.960938\"/>\n       <use xlink:href=\"#Consolas-30\" x=\"164.941406\"/>\n       <use xlink:href=\"#Consolas-35\" x=\"219.921875\"/>\n       <use xlink:href=\"#Consolas-30\" x=\"274.902344\"/>\n      </g>\n     </g>\n    </g>\n    <g id=\"ytick_6\">\n     <g id=\"line2d_31\">\n      <path d=\"M 24.95253 116.36705 \nL 721.583981 116.36705 \n\" clip-path=\"url(#p62c287d046)\" style=\"fill: none; stroke-dasharray: 0.4,0.66; stroke-dashoffset: 0; stroke: #0f0f0f; stroke-width: 0.4; stroke-linejoin: miter\"/>\n     </g>\n     <g id=\"line2d_32\">\n      <g>\n       <use xlink:href=\"#ma40da13766\" x=\"721.583981\" y=\"116.36705\" style=\"fill: #0f0f0f; stroke: #0f0f0f; stroke-width: 0.2\"/>\n      </g>\n     </g>\n     <g id=\"text_16\">\n      <!-- −0.025 -->\n      <g style=\"fill: #0f0f0f\" transform=\"translate(727.083981 119.47205) scale(0.09 -0.09)\">\n       <use xlink:href=\"#Consolas-2212\"/>\n       <use xlink:href=\"#Consolas-30\" x=\"54.980469\"/>\n       <use xlink:href=\"#Consolas-2e\" x=\"109.960938\"/>\n       <use xlink:href=\"#Consolas-30\" x=\"164.941406\"/>\n       <use xlink:href=\"#Consolas-32\" x=\"219.921875\"/>\n       <use xlink:href=\"#Consolas-35\" x=\"274.902344\"/>\n      </g>\n     </g>\n    </g>\n    <g id=\"ytick_7\">\n     <g id=\"line2d_33\">\n      <path d=\"M 24.95253 78.440648 \nL 721.583981 78.440648 \n\" clip-path=\"url(#p62c287d046)\" style=\"fill: none; stroke-dasharray: 0.4,0.66; stroke-dashoffset: 0; stroke: #0f0f0f; stroke-width: 0.4; stroke-linejoin: miter\"/>\n     </g>\n     <g id=\"line2d_34\">\n      <g>\n       <use xlink:href=\"#ma40da13766\" x=\"721.583981\" y=\"78.440648\" style=\"fill: #0f0f0f; stroke: #0f0f0f; stroke-width: 0.2\"/>\n      </g>\n     </g>\n     <g id=\"text_17\">\n      <!-- 0.000 -->\n      <g style=\"fill: #0f0f0f\" transform=\"translate(727.083981 81.545648) scale(0.09 -0.09)\">\n       <use xlink:href=\"#Consolas-30\"/>\n       <use xlink:href=\"#Consolas-2e\" x=\"54.980469\"/>\n       <use xlink:href=\"#Consolas-30\" x=\"109.960938\"/>\n       <use xlink:href=\"#Consolas-30\" x=\"164.941406\"/>\n       <use xlink:href=\"#Consolas-30\" x=\"219.921875\"/>\n      </g>\n     </g>\n    </g>\n    <g id=\"ytick_8\">\n     <g id=\"line2d_35\">\n      <path d=\"M 24.95253 40.514246 \nL 721.583981 40.514246 \n\" clip-path=\"url(#p62c287d046)\" style=\"fill: none; stroke-dasharray: 0.4,0.66; stroke-dashoffset: 0; stroke: #0f0f0f; stroke-width: 0.4; stroke-linejoin: miter\"/>\n     </g>\n     <g id=\"line2d_36\">\n      <g>\n       <use xlink:href=\"#ma40da13766\" x=\"721.583981\" y=\"40.514246\" style=\"fill: #0f0f0f; stroke: #0f0f0f; stroke-width: 0.2\"/>\n      </g>\n     </g>\n     <g id=\"text_18\">\n      <!-- 0.025 -->\n      <g style=\"fill: #0f0f0f\" transform=\"translate(727.083981 43.619246) scale(0.09 -0.09)\">\n       <use xlink:href=\"#Consolas-30\"/>\n       <use xlink:href=\"#Consolas-2e\" x=\"54.980469\"/>\n       <use xlink:href=\"#Consolas-30\" x=\"109.960938\"/>\n       <use xlink:href=\"#Consolas-32\" x=\"164.941406\"/>\n       <use xlink:href=\"#Consolas-35\" x=\"219.921875\"/>\n      </g>\n     </g>\n    </g>\n    <g id=\"text_19\">\n     <!-- Free cash flow yield  -->\n     <g style=\"fill: #0f0f0f\" transform=\"translate(768.310158 234.259305) rotate(-90) scale(0.10829 -0.10829)\">\n      <defs>\n       <path id=\"Consolas-46\" d=\"M 2944 3609 \nL 1209 3609 \nL 1209 2284 \nL 2853 2284 \nL 2853 1819 \nL 1209 1819 \nL 1209 0 \nL 641 0 \nL 641 4084 \nL 2944 4084 \nL 2944 3609 \nz\n\" transform=\"scale(0.015625)\"/>\n       <path id=\"Consolas-72\" d=\"M 628 3138 \nL 1125 3138 \nL 1141 2559 \nQ 1419 2894 1689 3044 \nQ 1959 3194 2234 3194 \nQ 2722 3194 2973 2878 \nQ 3225 2563 3206 1941 \nL 2656 1941 \nQ 2666 2353 2536 2539 \nQ 2406 2725 2156 2725 \nQ 2047 2725 1936 2686 \nQ 1825 2647 1708 2561 \nQ 1591 2475 1459 2340 \nQ 1328 2206 1178 2016 \nL 1178 0 \nL 628 0 \nL 628 3138 \nz\n\" transform=\"scale(0.015625)\"/>\n       <path id=\"Consolas-65\" d=\"M 3150 1734 \nQ 3150 1619 3147 1541 \nQ 3144 1463 3138 1394 \nL 934 1394 \nQ 934 913 1203 655 \nQ 1472 397 1978 397 \nQ 2116 397 2253 408 \nQ 2391 419 2519 437 \nQ 2647 456 2764 479 \nQ 2881 503 2981 531 \nL 2981 84 \nQ 2759 22 2479 -17 \nQ 2200 -56 1900 -56 \nQ 1497 -56 1206 53 \nQ 916 163 730 370 \nQ 544 578 455 879 \nQ 366 1181 366 1563 \nQ 366 1894 461 2189 \nQ 556 2484 739 2707 \nQ 922 2931 1187 3062 \nQ 1453 3194 1791 3194 \nQ 2119 3194 2372 3091 \nQ 2625 2988 2798 2798 \nQ 2972 2609 3061 2339 \nQ 3150 2069 3150 1734 \nz\nM 2584 1813 \nQ 2594 2022 2544 2195 \nQ 2494 2369 2389 2494 \nQ 2284 2619 2128 2689 \nQ 1972 2759 1766 2759 \nQ 1588 2759 1441 2690 \nQ 1294 2622 1187 2497 \nQ 1081 2372 1015 2197 \nQ 950 2022 934 1813 \nL 2584 1813 \nz\n\" transform=\"scale(0.015625)\"/>\n       <path id=\"Consolas-20\" transform=\"scale(0.015625)\"/>\n       <path id=\"Consolas-63\" d=\"M 2938 116 \nQ 2725 34 2501 -5 \nQ 2278 -44 2041 -44 \nQ 1297 -44 895 359 \nQ 494 763 494 1538 \nQ 494 1909 609 2212 \nQ 725 2516 934 2731 \nQ 1144 2947 1434 3064 \nQ 1725 3181 2075 3181 \nQ 2319 3181 2531 3147 \nQ 2744 3113 2938 3034 \nL 2938 2516 \nQ 2734 2622 2523 2670 \nQ 2313 2719 2088 2719 \nQ 1878 2719 1692 2639 \nQ 1506 2559 1365 2409 \nQ 1225 2259 1144 2043 \nQ 1063 1828 1063 1556 \nQ 1063 988 1339 705 \nQ 1616 422 2106 422 \nQ 2328 422 2536 472 \nQ 2744 522 2938 622 \nL 2938 116 \nz\n\" transform=\"scale(0.015625)\"/>\n       <path id=\"Consolas-61\" d=\"M 2516 0 \nL 2503 422 \nQ 2247 169 1983 56 \nQ 1719 -56 1428 -56 \nQ 1159 -56 968 12 \nQ 778 81 654 201 \nQ 531 322 473 484 \nQ 416 647 416 838 \nQ 416 1309 767 1576 \nQ 1119 1844 1806 1844 \nL 2456 1844 \nL 2456 2119 \nQ 2456 2397 2278 2564 \nQ 2100 2731 1734 2731 \nQ 1469 2731 1211 2672 \nQ 953 2613 678 2503 \nL 678 2994 \nQ 781 3031 907 3067 \nQ 1034 3103 1175 3131 \nQ 1316 3159 1469 3176 \nQ 1622 3194 1778 3194 \nQ 2063 3194 2291 3131 \nQ 2519 3069 2676 2941 \nQ 2834 2813 2918 2619 \nQ 3003 2425 3003 2163 \nL 3003 0 \nL 2516 0 \nz\nM 2456 1428 \nL 1766 1428 \nQ 1563 1428 1416 1387 \nQ 1269 1347 1175 1272 \nQ 1081 1197 1036 1092 \nQ 991 988 991 856 \nQ 991 766 1019 683 \nQ 1047 600 1109 536 \nQ 1172 472 1272 434 \nQ 1372 397 1516 397 \nQ 1703 397 1945 511 \nQ 2188 625 2456 872 \nL 2456 1428 \nz\n\" transform=\"scale(0.015625)\"/>\n       <path id=\"Consolas-73\" d=\"M 2984 856 \nQ 2984 691 2928 559 \nQ 2872 428 2775 326 \nQ 2678 225 2550 153 \nQ 2422 81 2276 34 \nQ 2131 -13 1978 -34 \nQ 1825 -56 1678 -56 \nQ 1359 -56 1092 -28 \nQ 825 0 569 63 \nL 569 563 \nQ 844 484 1116 443 \nQ 1388 403 1656 403 \nQ 2047 403 2234 509 \nQ 2422 616 2422 813 \nQ 2422 897 2392 964 \nQ 2363 1031 2284 1092 \nQ 2206 1153 2042 1218 \nQ 1878 1284 1594 1369 \nQ 1381 1431 1201 1511 \nQ 1022 1591 890 1700 \nQ 759 1809 684 1956 \nQ 609 2103 609 2303 \nQ 609 2434 670 2590 \nQ 731 2747 878 2881 \nQ 1025 3016 1275 3105 \nQ 1525 3194 1900 3194 \nQ 2084 3194 2309 3173 \nQ 2534 3153 2778 3103 \nL 2778 2619 \nQ 2522 2681 2292 2711 \nQ 2063 2741 1894 2741 \nQ 1691 2741 1552 2709 \nQ 1413 2678 1327 2623 \nQ 1241 2569 1203 2495 \nQ 1166 2422 1166 2338 \nQ 1166 2253 1198 2184 \nQ 1231 2116 1320 2052 \nQ 1409 1988 1568 1923 \nQ 1728 1859 1984 1784 \nQ 2263 1703 2453 1614 \nQ 2644 1525 2762 1415 \nQ 2881 1306 2932 1168 \nQ 2984 1031 2984 856 \nz\n\" transform=\"scale(0.015625)\"/>\n       <path id=\"Consolas-68\" d=\"M 3022 0 \nL 2478 0 \nL 2478 2003 \nQ 2478 2366 2342 2545 \nQ 2206 2725 1953 2725 \nQ 1844 2725 1748 2695 \nQ 1653 2666 1550 2592 \nQ 1447 2519 1325 2394 \nQ 1203 2269 1044 2081 \nL 1044 0 \nL 500 0 \nL 500 4416 \nL 1044 4416 \nL 1044 3138 \nL 1025 2644 \nQ 1153 2797 1276 2901 \nQ 1400 3006 1523 3072 \nQ 1647 3138 1775 3166 \nQ 1903 3194 2041 3194 \nQ 2509 3194 2765 2908 \nQ 3022 2622 3022 2047 \nL 3022 0 \nz\n\" transform=\"scale(0.015625)\"/>\n       <path id=\"Consolas-66\" d=\"M 3284 3909 \nQ 2856 4000 2547 4000 \nQ 1813 4000 1813 3231 \nL 1813 2681 \nL 3188 2681 \nL 3188 2228 \nL 1813 2228 \nL 1813 0 \nL 1259 0 \nL 1259 2228 \nL 250 2228 \nL 250 2681 \nL 1259 2681 \nL 1259 3200 \nQ 1259 4453 2566 4453 \nQ 2891 4453 3284 4378 \nL 3284 3909 \nz\nM 0 3138 \nL 0 3138 \nz\n\" transform=\"scale(0.015625)\"/>\n       <path id=\"Consolas-6c\" d=\"M 1569 3969 \nL 641 3969 \nL 641 4416 \nL 2119 4416 \nL 2119 453 \nL 3053 453 \nL 3053 0 \nL 538 0 \nL 538 453 \nL 1569 453 \nL 1569 3969 \nz\n\" transform=\"scale(0.015625)\"/>\n       <path id=\"Consolas-6f\" d=\"M 3231 1594 \nQ 3231 1228 3128 923 \nQ 3025 619 2831 401 \nQ 2638 184 2359 64 \nQ 2081 -56 1728 -56 \nQ 1391 -56 1123 48 \nQ 856 153 670 356 \nQ 484 559 386 859 \nQ 288 1159 288 1550 \nQ 288 1916 391 2217 \nQ 494 2519 687 2736 \nQ 881 2953 1159 3073 \nQ 1438 3194 1791 3194 \nQ 2128 3194 2395 3089 \nQ 2663 2984 2848 2782 \nQ 3034 2581 3132 2281 \nQ 3231 1981 3231 1594 \nz\nM 2675 1569 \nQ 2675 1859 2611 2076 \nQ 2547 2294 2428 2439 \nQ 2309 2584 2139 2657 \nQ 1969 2731 1759 2731 \nQ 1516 2731 1342 2636 \nQ 1169 2541 1058 2381 \nQ 947 2222 895 2011 \nQ 844 1800 844 1569 \nQ 844 1278 908 1059 \nQ 972 841 1090 695 \nQ 1209 550 1378 476 \nQ 1547 403 1759 403 \nQ 2003 403 2176 498 \nQ 2350 594 2461 753 \nQ 2572 913 2623 1123 \nQ 2675 1334 2675 1569 \nz\n\" transform=\"scale(0.015625)\"/>\n       <path id=\"Consolas-77\" d=\"M 3406 3138 \nL 2950 0 \nL 2291 0 \nL 1838 1313 \nL 1747 1631 \nL 1644 1294 \nL 1209 0 \nL 569 0 \nL 116 3138 \nL 647 3138 \nL 909 1006 \nL 966 531 \nL 1100 947 \nL 1556 2356 \nL 1947 2356 \nL 2438 966 \nL 2578 550 \nL 2625 991 \nL 2869 3138 \nL 3406 3138 \nz\n\" transform=\"scale(0.015625)\"/>\n       <path id=\"Consolas-79\" d=\"M 3291 3138 \nL 2222 331 \nQ 2056 -97 1879 -406 \nQ 1703 -716 1493 -914 \nQ 1284 -1113 1034 -1206 \nQ 784 -1300 475 -1300 \nQ 394 -1300 328 -1297 \nQ 263 -1294 184 -1288 \nL 184 -794 \nQ 253 -803 334 -811 \nQ 416 -819 506 -819 \nQ 656 -819 786 -775 \nQ 916 -731 1031 -632 \nQ 1147 -534 1253 -378 \nQ 1359 -222 1459 0 \nL 206 3138 \nL 825 3138 \nL 1619 1063 \nL 1778 575 \nL 1959 1075 \nL 2694 3138 \nL 3291 3138 \nz\n\" transform=\"scale(0.015625)\"/>\n       <path id=\"Consolas-69\" d=\"M 1569 2688 \nL 641 2688 \nL 641 3138 \nL 2119 3138 \nL 2119 453 \nL 3053 453 \nL 3053 0 \nL 538 0 \nL 538 453 \nL 1569 453 \nL 1569 2688 \nz\nM 1759 4453 \nQ 1850 4453 1928 4420 \nQ 2006 4388 2064 4328 \nQ 2122 4269 2155 4192 \nQ 2188 4116 2188 4025 \nQ 2188 3938 2155 3859 \nQ 2122 3781 2064 3722 \nQ 2006 3663 1928 3630 \nQ 1850 3597 1759 3597 \nQ 1669 3597 1591 3630 \nQ 1513 3663 1455 3722 \nQ 1397 3781 1364 3859 \nQ 1331 3938 1331 4025 \nQ 1331 4116 1364 4192 \nQ 1397 4269 1455 4328 \nQ 1513 4388 1591 4420 \nQ 1669 4453 1759 4453 \nz\n\" transform=\"scale(0.015625)\"/>\n       <path id=\"Consolas-64\" d=\"M 341 1503 \nQ 341 1903 450 2214 \nQ 559 2525 761 2739 \nQ 963 2953 1245 3064 \nQ 1528 3175 1875 3175 \nQ 2025 3175 2170 3156 \nQ 2316 3138 2456 3097 \nL 2456 4416 \nL 3003 4416 \nL 3003 0 \nL 2516 0 \nL 2497 594 \nQ 2269 263 2003 103 \nQ 1738 -56 1428 -56 \nQ 1159 -56 954 56 \nQ 750 169 614 373 \nQ 478 578 409 865 \nQ 341 1153 341 1503 \nz\nM 897 1538 \nQ 897 969 1064 689 \nQ 1231 409 1538 409 \nQ 1744 409 1973 593 \nQ 2203 778 2456 1141 \nL 2456 2597 \nQ 2322 2659 2159 2692 \nQ 1997 2725 1838 2725 \nQ 1394 2725 1145 2437 \nQ 897 2150 897 1538 \nz\n\" transform=\"scale(0.015625)\"/>\n      </defs>\n      <use xlink:href=\"#Consolas-46\"/>\n      <use xlink:href=\"#Consolas-72\" x=\"54.980469\"/>\n      <use xlink:href=\"#Consolas-65\" x=\"109.960938\"/>\n      <use xlink:href=\"#Consolas-65\" x=\"164.941406\"/>\n      <use xlink:href=\"#Consolas-20\" x=\"219.921875\"/>\n      <use xlink:href=\"#Consolas-63\" x=\"274.902344\"/>\n      <use xlink:href=\"#Consolas-61\" x=\"329.882812\"/>\n      <use xlink:href=\"#Consolas-73\" x=\"384.863281\"/>\n      <use xlink:href=\"#Consolas-68\" x=\"439.84375\"/>\n      <use xlink:href=\"#Consolas-20\" x=\"494.824219\"/>\n      <use xlink:href=\"#Consolas-66\" x=\"549.804688\"/>\n      <use xlink:href=\"#Consolas-6c\" x=\"604.785156\"/>\n      <use xlink:href=\"#Consolas-6f\" x=\"659.765625\"/>\n      <use xlink:href=\"#Consolas-77\" x=\"714.746094\"/>\n      <use xlink:href=\"#Consolas-20\" x=\"769.726562\"/>\n      <use xlink:href=\"#Consolas-79\" x=\"824.707031\"/>\n      <use xlink:href=\"#Consolas-69\" x=\"879.6875\"/>\n      <use xlink:href=\"#Consolas-65\" x=\"934.667969\"/>\n      <use xlink:href=\"#Consolas-6c\" x=\"989.648438\"/>\n      <use xlink:href=\"#Consolas-64\" x=\"1044.628906\"/>\n      <use xlink:href=\"#Consolas-20\" x=\"1099.609375\"/>\n     </g>\n    </g>\n   </g>\n   <g id=\"line2d_37\">\n    <path d=\"M 24.95253 90.577096 \nL 102.356025 86.025928 \nL 179.759519 84.508872 \nL 257.163014 90.577096 \nL 334.566508 92.094152 \nL 411.970003 90.577096 \nL 489.373497 86.025928 \nL 566.776992 114.849994 \nL 644.180486 90.577096 \nL 721.583981 93.611209 \n\" clip-path=\"url(#p62c287d046)\" style=\"fill: none; stroke: #254495; stroke-width: 2; stroke-linejoin: miter; stroke-linecap: square\"/>\n   </g>\n   <g id=\"line2d_38\">\n    <path d=\"M 24.95253 305.999059 \nL 102.356025 186.151629 \nL 179.759519 102.713545 \nL 257.163014 87.542984 \nL 334.566508 87.542984 \nL 411.970003 86.025928 \nL 489.373497 89.06004 \nL 566.776992 86.025928 \nL 644.180486 84.508872 \nL 721.583981 86.025928 \n\" clip-path=\"url(#p62c287d046)\" style=\"fill: none; stroke: #c13246; stroke-width: 2; stroke-linejoin: miter; stroke-linecap: square\"/>\n   </g>\n   <g id=\"line2d_39\">\n    <path d=\"M 24.95253 66.304199 \nL 102.356025 37.480134 \nL 179.759519 78.440648 \nL 257.163014 95.128265 \nL 334.566508 76.923592 \nL 411.970003 102.713545 \nL 489.373497 58.718919 \nL 566.776992 107.264713 \nL 644.180486 61.753031 \nL 721.583981 81.47476 \n\" clip-path=\"url(#p62c287d046)\" style=\"fill: none; stroke: #48277c; stroke-width: 2; stroke-linejoin: miter; stroke-linecap: square\"/>\n   </g>\n   <g id=\"patch_3\">\n    <path d=\"M 24.95253 319.425005 \nL 24.95253 24.054188 \n\" style=\"fill: none; stroke: #0f0f0f; stroke-width: 0.2; stroke-linejoin: miter; stroke-linecap: square\"/>\n   </g>\n   <g id=\"patch_4\">\n    <path d=\"M 721.583981 319.425005 \nL 721.583981 24.054188 \n\" style=\"fill: none; stroke: #0f0f0f; stroke-width: 0.2; stroke-linejoin: miter; stroke-linecap: square\"/>\n   </g>\n   <g id=\"patch_5\">\n    <path d=\"M 24.95253 319.425005 \nL 721.583981 319.425005 \n\" style=\"fill: none; stroke: #0f0f0f; stroke-width: 0.2; stroke-linejoin: miter; stroke-linecap: square\"/>\n   </g>\n   <g id=\"patch_6\">\n    <path d=\"M 24.95253 24.054188 \nL 721.583981 24.054188 \n\" style=\"fill: none; stroke: #0f0f0f; stroke-width: 0.2; stroke-linejoin: miter; stroke-linecap: square\"/>\n   </g>\n   <g id=\"text_20\">\n    <!-- Historical Free cash flow yield -->\n    <g style=\"fill: #0f0f0f\" transform=\"translate(24.95253 18.054188) scale(0.156 -0.156)\">\n     <defs>\n      <path id=\"Consolas-48\" d=\"M 3175 0 \nL 2619 0 \nL 2619 1875 \nL 903 1875 \nL 903 0 \nL 347 0 \nL 347 4084 \nL 903 4084 \nL 903 2356 \nL 2619 2356 \nL 2619 4084 \nL 3175 4084 \nL 3175 0 \nz\n\" transform=\"scale(0.015625)\"/>\n      <path id=\"Consolas-74\" d=\"M 3028 44 \nQ 2844 -3 2647 -23 \nQ 2450 -44 2247 -44 \nQ 1656 -44 1365 223 \nQ 1075 491 1075 1044 \nL 1075 2681 \nL 197 2681 \nL 197 3138 \nL 1075 3138 \nL 1075 4000 \nL 1619 4141 \nL 1619 3138 \nL 3028 3138 \nL 3028 2681 \nL 1619 2681 \nL 1619 1088 \nQ 1619 750 1798 583 \nQ 1978 416 2328 416 \nQ 2478 416 2656 439 \nQ 2834 463 3028 513 \nL 3028 44 \nz\n\" transform=\"scale(0.015625)\"/>\n     </defs>\n     <use xlink:href=\"#Consolas-48\"/>\n     <use xlink:href=\"#Consolas-69\" x=\"54.980469\"/>\n     <use xlink:href=\"#Consolas-73\" x=\"109.960938\"/>\n     <use xlink:href=\"#Consolas-74\" x=\"164.941406\"/>\n     <use xlink:href=\"#Consolas-6f\" x=\"219.921875\"/>\n     <use xlink:href=\"#Consolas-72\" x=\"274.902344\"/>\n     <use xlink:href=\"#Consolas-69\" x=\"329.882812\"/>\n     <use xlink:href=\"#Consolas-63\" x=\"384.863281\"/>\n     <use xlink:href=\"#Consolas-61\" x=\"439.84375\"/>\n     <use xlink:href=\"#Consolas-6c\" x=\"494.824219\"/>\n     <use xlink:href=\"#Consolas-20\" x=\"549.804688\"/>\n     <use xlink:href=\"#Consolas-46\" x=\"604.785156\"/>\n     <use xlink:href=\"#Consolas-72\" x=\"659.765625\"/>\n     <use xlink:href=\"#Consolas-65\" x=\"714.746094\"/>\n     <use xlink:href=\"#Consolas-65\" x=\"769.726562\"/>\n     <use xlink:href=\"#Consolas-20\" x=\"824.707031\"/>\n     <use xlink:href=\"#Consolas-63\" x=\"879.6875\"/>\n     <use xlink:href=\"#Consolas-61\" x=\"934.667969\"/>\n     <use xlink:href=\"#Consolas-73\" x=\"989.648438\"/>\n     <use xlink:href=\"#Consolas-68\" x=\"1044.628906\"/>\n     <use xlink:href=\"#Consolas-20\" x=\"1099.609375\"/>\n     <use xlink:href=\"#Consolas-66\" x=\"1154.589844\"/>\n     <use xlink:href=\"#Consolas-6c\" x=\"1209.570312\"/>\n     <use xlink:href=\"#Consolas-6f\" x=\"1264.550781\"/>\n     <use xlink:href=\"#Consolas-77\" x=\"1319.53125\"/>\n     <use xlink:href=\"#Consolas-20\" x=\"1374.511719\"/>\n     <use xlink:href=\"#Consolas-79\" x=\"1429.492188\"/>\n     <use xlink:href=\"#Consolas-69\" x=\"1484.472656\"/>\n     <use xlink:href=\"#Consolas-65\" x=\"1539.453125\"/>\n     <use xlink:href=\"#Consolas-6c\" x=\"1594.433594\"/>\n     <use xlink:href=\"#Consolas-64\" x=\"1649.414062\"/>\n    </g>\n   </g>\n   <g id=\"legend_1\">\n    <g id=\"patch_7\">\n     <path d=\"M 655.533849 314.010505 \nL 714.003681 314.010505 \nQ 716.169481 314.010505 716.169481 311.844705 \nL 716.169481 267.440729 \nQ 716.169481 265.274929 714.003681 265.274929 \nL 655.533849 265.274929 \nQ 653.368049 265.274929 653.368049 267.440729 \nL 653.368049 311.844705 \nQ 653.368049 314.010505 655.533849 314.010505 \nz\n\" style=\"fill: #ffffff; opacity: 0.6; stroke: #ffffff; stroke-linejoin: miter\"/>\n    </g>\n    <g id=\"line2d_40\">\n     <path d=\"M 657.699649 273.396679 \nL 668.528649 273.396679 \nL 679.357649 273.396679 \n\" style=\"fill: none; stroke: #254495; stroke-width: 2; stroke-linejoin: miter; stroke-linecap: square\"/>\n    </g>\n    <g id=\"text_21\">\n     <!-- SGML -->\n     <g style=\"fill: #0f0f0f\" transform=\"translate(688.020849 277.186829) scale(0.10829 -0.10829)\">\n      <defs>\n       <path id=\"Consolas-53\" d=\"M 3116 1106 \nQ 3116 816 2997 597 \nQ 2878 378 2665 233 \nQ 2453 88 2154 16 \nQ 1856 -56 1497 -56 \nQ 1334 -56 1173 -43 \nQ 1013 -31 864 -12 \nQ 716 6 584 31 \nQ 453 56 347 84 \nL 347 622 \nQ 581 534 873 484 \nQ 1166 434 1538 434 \nQ 1806 434 1995 476 \nQ 2184 519 2304 601 \nQ 2425 684 2479 803 \nQ 2534 922 2534 1075 \nQ 2534 1241 2442 1358 \nQ 2350 1475 2200 1567 \nQ 2050 1659 1858 1736 \nQ 1666 1813 1466 1894 \nQ 1266 1975 1073 2070 \nQ 881 2166 731 2295 \nQ 581 2425 489 2600 \nQ 397 2775 397 3016 \nQ 397 3225 484 3428 \nQ 572 3631 756 3789 \nQ 941 3947 1230 4044 \nQ 1519 4141 1919 4141 \nQ 2022 4141 2142 4131 \nQ 2263 4122 2386 4105 \nQ 2509 4088 2629 4066 \nQ 2750 4044 2853 4019 \nL 2853 3519 \nQ 2613 3588 2372 3623 \nQ 2131 3659 1906 3659 \nQ 1428 3659 1203 3500 \nQ 978 3341 978 3072 \nQ 978 2906 1070 2787 \nQ 1163 2669 1313 2575 \nQ 1463 2481 1655 2404 \nQ 1847 2328 2047 2247 \nQ 2247 2166 2439 2069 \nQ 2631 1972 2781 1839 \nQ 2931 1706 3023 1528 \nQ 3116 1350 3116 1106 \nz\n\" transform=\"scale(0.015625)\"/>\n       <path id=\"Consolas-47\" d=\"M 3144 3384 \nQ 2916 3506 2675 3573 \nQ 2434 3641 2150 3641 \nQ 1825 3641 1572 3525 \nQ 1319 3409 1145 3198 \nQ 972 2988 880 2691 \nQ 788 2394 788 2034 \nQ 788 1659 863 1362 \nQ 938 1066 1097 859 \nQ 1256 653 1504 543 \nQ 1753 434 2100 434 \nQ 2159 434 2228 440 \nQ 2297 447 2365 458 \nQ 2434 469 2498 484 \nQ 2563 500 2613 519 \nL 2613 1819 \nL 1778 1819 \nL 1778 2278 \nL 3163 2278 \nL 3163 191 \nQ 3034 131 2892 84 \nQ 2750 38 2601 6 \nQ 2453 -25 2306 -40 \nQ 2159 -56 2022 -56 \nQ 1603 -56 1267 75 \nQ 931 206 695 464 \nQ 459 722 332 1106 \nQ 206 1491 206 1997 \nQ 206 2500 347 2898 \nQ 488 3297 742 3573 \nQ 997 3850 1355 3995 \nQ 1713 4141 2144 4141 \nQ 2419 4141 2667 4092 \nQ 2916 4044 3144 3938 \nL 3144 3384 \nz\n\" transform=\"scale(0.015625)\"/>\n       <path id=\"Consolas-4d\" d=\"M 3366 0 \nL 2822 0 \nL 2741 2547 \nL 2706 3525 \nL 2516 2956 \nL 1913 1331 \nL 1528 1331 \nL 953 2894 \nL 763 3525 \nL 750 2503 \nL 678 0 \nL 153 0 \nL 353 4084 \nL 1013 4084 \nL 1563 2547 \nL 1741 2028 \nL 1913 2547 \nL 2491 4084 \nL 3169 4084 \nL 3366 0 \nz\n\" transform=\"scale(0.015625)\"/>\n       <path id=\"Consolas-4c\" d=\"M 3078 0 \nL 728 0 \nL 728 4084 \nL 1294 4084 \nL 1294 475 \nL 3078 475 \nL 3078 0 \nz\n\" transform=\"scale(0.015625)\"/>\n      </defs>\n      <use xlink:href=\"#Consolas-53\"/>\n      <use xlink:href=\"#Consolas-47\" x=\"54.980469\"/>\n      <use xlink:href=\"#Consolas-4d\" x=\"109.960938\"/>\n      <use xlink:href=\"#Consolas-4c\" x=\"164.941406\"/>\n     </g>\n    </g>\n    <g id=\"line2d_41\">\n     <path d=\"M 657.699649 288.558971 \nL 668.528649 288.558971 \nL 679.357649 288.558971 \n\" style=\"fill: none; stroke: #c13246; stroke-width: 2; stroke-linejoin: miter; stroke-linecap: square\"/>\n    </g>\n    <g id=\"text_22\">\n     <!-- LAC -->\n     <g style=\"fill: #0f0f0f\" transform=\"translate(688.020849 292.349121) scale(0.10829 -0.10829)\">\n      <defs>\n       <path id=\"Consolas-41\" d=\"M 3488 0 \nL 2881 0 \nL 2597 891 \nL 897 891 \nL 609 0 \nL 31 0 \nL 1388 4084 \nL 2150 4084 \nL 3488 0 \nz\nM 2438 1388 \nL 1747 3572 \nL 1056 1388 \nL 2438 1388 \nz\n\" transform=\"scale(0.015625)\"/>\n       <path id=\"Consolas-43\" d=\"M 3109 153 \nQ 2619 -50 2081 -50 \nQ 1216 -50 752 467 \nQ 288 984 288 1997 \nQ 288 2488 416 2884 \nQ 544 3281 781 3557 \nQ 1019 3834 1356 3984 \nQ 1694 4134 2113 4134 \nQ 2397 4134 2640 4086 \nQ 2884 4038 3109 3938 \nL 3109 3391 \nQ 2888 3513 2650 3577 \nQ 2413 3641 2131 3641 \nQ 1844 3641 1611 3533 \nQ 1378 3425 1215 3220 \nQ 1053 3016 965 2720 \nQ 878 2425 878 2047 \nQ 878 1253 1200 850 \nQ 1522 447 2144 447 \nQ 2406 447 2647 508 \nQ 2888 569 3109 678 \nL 3109 153 \nz\n\" transform=\"scale(0.015625)\"/>\n      </defs>\n      <use xlink:href=\"#Consolas-4c\"/>\n      <use xlink:href=\"#Consolas-41\" x=\"54.980469\"/>\n      <use xlink:href=\"#Consolas-43\" x=\"109.960938\"/>\n     </g>\n    </g>\n    <g id=\"line2d_42\">\n     <path d=\"M 657.699649 303.721263 \nL 668.528649 303.721263 \nL 679.357649 303.721263 \n\" style=\"fill: none; stroke: #48277c; stroke-width: 2; stroke-linejoin: miter; stroke-linecap: square\"/>\n    </g>\n    <g id=\"text_23\">\n     <!-- MTRN -->\n     <g style=\"fill: #0f0f0f\" transform=\"translate(688.020849 307.511413) scale(0.10829 -0.10829)\">\n      <defs>\n       <path id=\"Consolas-54\" d=\"M 3250 3609 \nL 2041 3609 \nL 2041 0 \nL 1478 0 \nL 1478 3609 \nL 269 3609 \nL 269 4084 \nL 3250 4084 \nL 3250 3609 \nz\n\" transform=\"scale(0.015625)\"/>\n       <path id=\"Consolas-52\" d=\"M 3284 0 \nL 2656 0 \nL 2047 1306 \nQ 1978 1456 1906 1554 \nQ 1834 1653 1751 1711 \nQ 1669 1769 1570 1794 \nQ 1472 1819 1350 1819 \nL 1088 1819 \nL 1088 0 \nL 531 0 \nL 531 4084 \nL 1625 4084 \nQ 1981 4084 2237 4006 \nQ 2494 3928 2658 3787 \nQ 2822 3647 2898 3448 \nQ 2975 3250 2975 3009 \nQ 2975 2819 2919 2648 \nQ 2863 2478 2752 2339 \nQ 2641 2200 2477 2098 \nQ 2313 1997 2100 1947 \nQ 2272 1888 2392 1739 \nQ 2513 1591 2638 1344 \nL 3284 0 \nz\nM 2394 2963 \nQ 2394 3291 2189 3453 \nQ 1984 3616 1613 3616 \nL 1088 3616 \nL 1088 2266 \nL 1538 2266 \nQ 1734 2266 1892 2311 \nQ 2050 2356 2161 2445 \nQ 2272 2534 2333 2664 \nQ 2394 2794 2394 2963 \nz\n\" transform=\"scale(0.015625)\"/>\n       <path id=\"Consolas-4e\" d=\"M 3150 0 \nL 2425 0 \nL 1234 2547 \nL 891 3366 \nL 891 1306 \nL 891 0 \nL 372 0 \nL 372 4084 \nL 1088 4084 \nL 2222 1672 \nL 2631 738 \nL 2631 2925 \nL 2631 4084 \nL 3150 4084 \nL 3150 0 \nz\n\" transform=\"scale(0.015625)\"/>\n      </defs>\n      <use xlink:href=\"#Consolas-4d\"/>\n      <use xlink:href=\"#Consolas-54\" x=\"54.980469\"/>\n      <use xlink:href=\"#Consolas-52\" x=\"109.960938\"/>\n      <use xlink:href=\"#Consolas-4e\" x=\"164.941406\"/>\n     </g>\n    </g>\n   </g>\n  </g>\n </g>\n <defs>\n  <clipPath id=\"p62c287d046\">\n   <rect x=\"24.95253\" y=\"24.054188\" width=\"696.63145\" height=\"295.370818\"/>\n  </clipPath>\n </defs>\n</svg>\n",
      "text/plain": [
       "<Figure size 1650x750 with 1 Axes>"
      ]
     },
     "metadata": {},
     "output_type": "display_data"
    }
   ],
   "source": [
    "fig, ax = plt.subplots(figsize=(11,5), dpi=150)\n",
    "dhelp.display_historical_metric(similar_companies,\"Free cash flow yield\", external_axes=[\n",
    "        ax,\n",
    "    ])\n",
    "\n",
    "fig.tight_layout()\n",
    "f = io.BytesIO()\n",
    "fig.savefig(f, format=\"svg\")\n",
    "fcf_yield_chart = f.getvalue().decode(\"utf-8\")"
   ]
  },
  {
   "cell_type": "code",
   "execution_count": 29,
   "id": "711418c9",
   "metadata": {},
   "outputs": [
    {
     "data": {
      "image/svg+xml": "<?xml version=\"1.0\" encoding=\"utf-8\" standalone=\"no\"?>\n<!DOCTYPE svg PUBLIC \"-//W3C//DTD SVG 1.1//EN\"\n  \"http://www.w3.org/Graphics/SVG/1.1/DTD/svg11.dtd\">\n<svg xmlns:xlink=\"http://www.w3.org/1999/xlink\" width=\"777.624018pt\" height=\"346.0299pt\" viewBox=\"0 0 777.624018 346.0299\" xmlns=\"http://www.w3.org/2000/svg\" version=\"1.1\">\n <metadata>\n  <rdf:RDF xmlns:dc=\"http://purl.org/dc/elements/1.1/\" xmlns:cc=\"http://creativecommons.org/ns#\" xmlns:rdf=\"http://www.w3.org/1999/02/22-rdf-syntax-ns#\">\n   <cc:Work>\n    <dc:type rdf:resource=\"http://purl.org/dc/dcmitype/StillImage\"/>\n    <dc:date>2023-02-10T10:49:31.513582</dc:date>\n    <dc:format>image/svg+xml</dc:format>\n    <dc:creator>\n     <cc:Agent>\n      <dc:title>Matplotlib v3.6.2, https://matplotlib.org/</dc:title>\n     </cc:Agent>\n    </dc:creator>\n   </cc:Work>\n  </rdf:RDF>\n </metadata>\n <defs>\n  <style type=\"text/css\">*{stroke-linejoin: round; stroke-linecap: butt}</style>\n </defs>\n <g id=\"figure_1\">\n  <g id=\"patch_1\">\n   <path d=\"M 0 346.0299 \nL 777.624018 346.0299 \nL 777.624018 0 \nL 0 0 \nz\n\" style=\"fill: #ffffff\"/>\n  </g>\n  <g id=\"axes_1\">\n   <g id=\"patch_2\">\n    <path d=\"M 24.95253 319.425005 \nL 736.343981 319.425005 \nL 736.343981 24.054188 \nL 24.95253 24.054188 \nz\n\" style=\"fill: #ffffff\"/>\n   </g>\n   <g id=\"matplotlib.axis_1\">\n    <g id=\"xtick_1\">\n     <g id=\"line2d_1\">\n      <path d=\"M 24.95253 319.425005 \nL 24.95253 24.054188 \n\" clip-path=\"url(#pd476fa05da)\" style=\"fill: none; stroke-dasharray: 0.4,0.66; stroke-dashoffset: 0; stroke: #0f0f0f; stroke-width: 0.4; stroke-linejoin: miter\"/>\n     </g>\n     <g id=\"line2d_2\">\n      <defs>\n       <path id=\"m01663516a6\" d=\"M 0 0 \nL 0 2 \n\" style=\"stroke: #0f0f0f; stroke-width: 0.2\"/>\n      </defs>\n      <g>\n       <use xlink:href=\"#m01663516a6\" x=\"24.95253\" y=\"319.425005\" style=\"fill: #0f0f0f; stroke: #0f0f0f; stroke-width: 0.2\"/>\n      </g>\n     </g>\n     <g id=\"text_1\">\n      <!-- 2020-03 -->\n      <g style=\"fill: #0f0f0f\" transform=\"translate(8.278355 337.055861) rotate(-10) scale(0.09 -0.09)\">\n       <defs>\n        <path id=\"Consolas-32\" d=\"M 3150 0 \nL 459 0 \nL 459 488 \nL 1516 1538 \nQ 1775 1794 1937 1981 \nQ 2100 2169 2190 2323 \nQ 2281 2478 2312 2615 \nQ 2344 2753 2344 2913 \nQ 2344 3063 2303 3198 \nQ 2263 3334 2178 3437 \nQ 2094 3541 1959 3600 \nQ 1825 3659 1638 3659 \nQ 1378 3659 1165 3543 \nQ 953 3428 775 3244 \nL 475 3603 \nQ 706 3847 1007 3994 \nQ 1309 4141 1709 4141 \nQ 1981 4141 2204 4059 \nQ 2428 3978 2590 3825 \nQ 2753 3672 2842 3450 \nQ 2931 3228 2931 2950 \nQ 2931 2716 2868 2516 \nQ 2806 2316 2679 2117 \nQ 2553 1919 2361 1706 \nQ 2169 1494 1906 1241 \nL 1166 519 \nL 3150 519 \nL 3150 0 \nz\n\" transform=\"scale(0.015625)\"/>\n        <path id=\"Consolas-30\" d=\"M 3244 2041 \nQ 3244 1572 3150 1186 \nQ 3056 800 2865 523 \nQ 2675 247 2392 95 \nQ 2109 -56 1728 -56 \nQ 1400 -56 1131 67 \nQ 863 191 672 447 \nQ 481 703 378 1100 \nQ 275 1497 275 2041 \nQ 275 2509 370 2896 \nQ 466 3284 655 3561 \nQ 844 3838 1128 3989 \nQ 1413 4141 1791 4141 \nQ 2119 4141 2387 4017 \nQ 2656 3894 2847 3636 \nQ 3038 3378 3141 2981 \nQ 3244 2584 3244 2041 \nz\nM 2694 2022 \nQ 2694 2128 2686 2233 \nQ 2678 2338 2669 2438 \nL 941 1153 \nQ 988 991 1059 853 \nQ 1131 716 1232 617 \nQ 1334 519 1464 464 \nQ 1594 409 1759 409 \nQ 1972 409 2145 512 \nQ 2319 616 2441 819 \nQ 2563 1022 2628 1323 \nQ 2694 1625 2694 2022 \nz\nM 825 2059 \nQ 825 1963 826 1866 \nQ 828 1769 838 1678 \nL 2566 2956 \nQ 2519 3116 2447 3247 \nQ 2375 3378 2275 3473 \nQ 2175 3569 2047 3622 \nQ 1919 3675 1759 3675 \nQ 1547 3675 1373 3572 \nQ 1200 3469 1078 3264 \nQ 956 3059 890 2757 \nQ 825 2456 825 2059 \nz\n\" transform=\"scale(0.015625)\"/>\n        <path id=\"Consolas-2d\" d=\"M 2694 1447 \nL 825 1447 \nL 825 1959 \nL 2694 1959 \nL 2694 1447 \nz\n\" transform=\"scale(0.015625)\"/>\n        <path id=\"Consolas-33\" d=\"M 3072 1241 \nQ 3072 972 2962 736 \nQ 2853 500 2634 323 \nQ 2416 147 2084 45 \nQ 1753 -56 1313 -56 \nQ 1069 -56 875 -40 \nQ 681 -25 513 0 \nL 513 488 \nQ 706 453 922 434 \nQ 1138 416 1363 416 \nQ 1669 416 1886 470 \nQ 2103 525 2240 628 \nQ 2378 731 2440 878 \nQ 2503 1025 2503 1209 \nQ 2503 1378 2428 1503 \nQ 2353 1628 2217 1712 \nQ 2081 1797 1892 1839 \nQ 1703 1881 1478 1881 \nL 1013 1881 \nL 1013 2328 \nL 1484 2328 \nQ 1669 2328 1820 2376 \nQ 1972 2425 2080 2515 \nQ 2188 2606 2245 2739 \nQ 2303 2872 2303 3041 \nQ 2303 3369 2103 3519 \nQ 1903 3669 1516 3669 \nQ 1309 3669 1090 3628 \nQ 872 3588 622 3506 \nL 622 3981 \nQ 728 4019 848 4048 \nQ 969 4078 1089 4098 \nQ 1209 4119 1328 4130 \nQ 1447 4141 1556 4141 \nQ 1881 4141 2128 4070 \nQ 2375 4000 2540 3869 \nQ 2706 3738 2790 3550 \nQ 2875 3363 2875 3128 \nQ 2875 2778 2695 2540 \nQ 2516 2303 2203 2163 \nQ 2363 2138 2517 2063 \nQ 2672 1988 2795 1870 \nQ 2919 1753 2995 1593 \nQ 3072 1434 3072 1241 \nz\n\" transform=\"scale(0.015625)\"/>\n       </defs>\n       <use xlink:href=\"#Consolas-32\"/>\n       <use xlink:href=\"#Consolas-30\" x=\"54.980469\"/>\n       <use xlink:href=\"#Consolas-32\" x=\"109.960938\"/>\n       <use xlink:href=\"#Consolas-30\" x=\"164.941406\"/>\n       <use xlink:href=\"#Consolas-2d\" x=\"219.921875\"/>\n       <use xlink:href=\"#Consolas-30\" x=\"274.902344\"/>\n       <use xlink:href=\"#Consolas-33\" x=\"329.882812\"/>\n      </g>\n     </g>\n    </g>\n    <g id=\"xtick_2\">\n     <g id=\"line2d_3\">\n      <path d=\"M 103.996025 319.425005 \nL 103.996025 24.054188 \n\" clip-path=\"url(#pd476fa05da)\" style=\"fill: none; stroke-dasharray: 0.4,0.66; stroke-dashoffset: 0; stroke: #0f0f0f; stroke-width: 0.4; stroke-linejoin: miter\"/>\n     </g>\n     <g id=\"line2d_4\">\n      <g>\n       <use xlink:href=\"#m01663516a6\" x=\"103.996025\" y=\"319.425005\" style=\"fill: #0f0f0f; stroke: #0f0f0f; stroke-width: 0.2\"/>\n      </g>\n     </g>\n     <g id=\"text_2\">\n      <!-- 2020-06 -->\n      <g style=\"fill: #0f0f0f\" transform=\"translate(87.32185 337.055861) rotate(-10) scale(0.09 -0.09)\">\n       <defs>\n        <path id=\"Consolas-36\" d=\"M 3200 1294 \nQ 3200 1013 3098 766 \nQ 2997 519 2809 336 \nQ 2622 153 2358 48 \nQ 2094 -56 1772 -56 \nQ 1434 -56 1175 51 \nQ 916 159 741 382 \nQ 566 606 475 947 \nQ 384 1288 384 1753 \nQ 384 2066 425 2359 \nQ 466 2653 559 2912 \nQ 653 3172 809 3387 \nQ 966 3603 1198 3758 \nQ 1431 3913 1747 3998 \nQ 2063 4084 2478 4084 \nL 2881 4084 \nL 2881 3609 \nL 2444 3609 \nQ 2078 3609 1809 3521 \nQ 1541 3434 1359 3275 \nQ 1178 3116 1081 2891 \nQ 984 2666 959 2388 \nL 947 2259 \nQ 1144 2375 1401 2445 \nQ 1659 2516 1959 2516 \nQ 2269 2516 2501 2425 \nQ 2734 2334 2889 2173 \nQ 3044 2013 3122 1788 \nQ 3200 1563 3200 1294 \nz\nM 2631 1259 \nQ 2631 1447 2586 1598 \nQ 2541 1750 2444 1854 \nQ 2347 1959 2198 2017 \nQ 2050 2075 1844 2075 \nQ 1725 2075 1603 2053 \nQ 1481 2031 1364 1992 \nQ 1247 1953 1140 1903 \nQ 1034 1853 947 1797 \nQ 947 1394 1003 1123 \nQ 1059 853 1170 690 \nQ 1281 528 1443 459 \nQ 1606 391 1819 391 \nQ 1997 391 2145 448 \nQ 2294 506 2401 618 \nQ 2509 731 2570 892 \nQ 2631 1053 2631 1259 \nz\n\" transform=\"scale(0.015625)\"/>\n       </defs>\n       <use xlink:href=\"#Consolas-32\"/>\n       <use xlink:href=\"#Consolas-30\" x=\"54.980469\"/>\n       <use xlink:href=\"#Consolas-32\" x=\"109.960938\"/>\n       <use xlink:href=\"#Consolas-30\" x=\"164.941406\"/>\n       <use xlink:href=\"#Consolas-2d\" x=\"219.921875\"/>\n       <use xlink:href=\"#Consolas-30\" x=\"274.902344\"/>\n       <use xlink:href=\"#Consolas-36\" x=\"329.882812\"/>\n      </g>\n     </g>\n    </g>\n    <g id=\"xtick_3\">\n     <g id=\"line2d_5\">\n      <path d=\"M 183.039519 319.425005 \nL 183.039519 24.054188 \n\" clip-path=\"url(#pd476fa05da)\" style=\"fill: none; stroke-dasharray: 0.4,0.66; stroke-dashoffset: 0; stroke: #0f0f0f; stroke-width: 0.4; stroke-linejoin: miter\"/>\n     </g>\n     <g id=\"line2d_6\">\n      <g>\n       <use xlink:href=\"#m01663516a6\" x=\"183.039519\" y=\"319.425005\" style=\"fill: #0f0f0f; stroke: #0f0f0f; stroke-width: 0.2\"/>\n      </g>\n     </g>\n     <g id=\"text_3\">\n      <!-- 2020-09 -->\n      <g style=\"fill: #0f0f0f\" transform=\"translate(166.365344 337.055861) rotate(-10) scale(0.09 -0.09)\">\n       <defs>\n        <path id=\"Consolas-39\" d=\"M 3128 2272 \nQ 3128 1675 2984 1245 \nQ 2841 816 2559 539 \nQ 2278 263 1862 131 \nQ 1447 0 903 0 \nL 563 0 \nL 563 475 \nL 941 475 \nQ 1344 475 1637 556 \nQ 1931 638 2126 795 \nQ 2322 953 2425 1179 \nQ 2528 1406 2553 1697 \nL 2566 1825 \nQ 2369 1709 2112 1639 \nQ 1856 1569 1556 1569 \nQ 1247 1569 1012 1659 \nQ 778 1750 623 1912 \nQ 469 2075 391 2298 \nQ 313 2522 313 2784 \nQ 313 3069 416 3316 \nQ 519 3563 705 3745 \nQ 891 3928 1150 4034 \nQ 1409 4141 1722 4141 \nQ 2025 4141 2283 4041 \nQ 2541 3941 2728 3717 \nQ 2916 3494 3022 3137 \nQ 3128 2781 3128 2272 \nz\nM 1697 3694 \nQ 1522 3694 1373 3636 \nQ 1225 3578 1117 3467 \nQ 1009 3356 946 3193 \nQ 884 3031 884 2822 \nQ 884 2631 929 2481 \nQ 975 2331 1070 2226 \nQ 1166 2122 1316 2065 \nQ 1466 2009 1672 2009 \nQ 1788 2009 1911 2031 \nQ 2034 2053 2151 2090 \nQ 2269 2128 2375 2178 \nQ 2481 2228 2566 2284 \nQ 2566 2688 2506 2958 \nQ 2447 3228 2334 3392 \nQ 2222 3556 2061 3625 \nQ 1900 3694 1697 3694 \nz\n\" transform=\"scale(0.015625)\"/>\n       </defs>\n       <use xlink:href=\"#Consolas-32\"/>\n       <use xlink:href=\"#Consolas-30\" x=\"54.980469\"/>\n       <use xlink:href=\"#Consolas-32\" x=\"109.960938\"/>\n       <use xlink:href=\"#Consolas-30\" x=\"164.941406\"/>\n       <use xlink:href=\"#Consolas-2d\" x=\"219.921875\"/>\n       <use xlink:href=\"#Consolas-30\" x=\"274.902344\"/>\n       <use xlink:href=\"#Consolas-39\" x=\"329.882812\"/>\n      </g>\n     </g>\n    </g>\n    <g id=\"xtick_4\">\n     <g id=\"line2d_7\">\n      <path d=\"M 262.083014 319.425005 \nL 262.083014 24.054188 \n\" clip-path=\"url(#pd476fa05da)\" style=\"fill: none; stroke-dasharray: 0.4,0.66; stroke-dashoffset: 0; stroke: #0f0f0f; stroke-width: 0.4; stroke-linejoin: miter\"/>\n     </g>\n     <g id=\"line2d_8\">\n      <g>\n       <use xlink:href=\"#m01663516a6\" x=\"262.083014\" y=\"319.425005\" style=\"fill: #0f0f0f; stroke: #0f0f0f; stroke-width: 0.2\"/>\n      </g>\n     </g>\n     <g id=\"text_4\">\n      <!-- 2020-12 -->\n      <g style=\"fill: #0f0f0f\" transform=\"translate(245.408839 337.055861) rotate(-10) scale(0.09 -0.09)\">\n       <defs>\n        <path id=\"Consolas-31\" d=\"M 3116 0 \nL 550 0 \nL 550 506 \nL 1600 506 \nL 1600 3488 \nL 622 2956 \nL 422 3419 \nL 1722 4103 \nL 2203 4103 \nL 2203 506 \nL 3116 506 \nL 3116 0 \nz\n\" transform=\"scale(0.015625)\"/>\n       </defs>\n       <use xlink:href=\"#Consolas-32\"/>\n       <use xlink:href=\"#Consolas-30\" x=\"54.980469\"/>\n       <use xlink:href=\"#Consolas-32\" x=\"109.960938\"/>\n       <use xlink:href=\"#Consolas-30\" x=\"164.941406\"/>\n       <use xlink:href=\"#Consolas-2d\" x=\"219.921875\"/>\n       <use xlink:href=\"#Consolas-31\" x=\"274.902344\"/>\n       <use xlink:href=\"#Consolas-32\" x=\"329.882812\"/>\n      </g>\n     </g>\n    </g>\n    <g id=\"xtick_5\">\n     <g id=\"line2d_9\">\n      <path d=\"M 341.126508 319.425005 \nL 341.126508 24.054188 \n\" clip-path=\"url(#pd476fa05da)\" style=\"fill: none; stroke-dasharray: 0.4,0.66; stroke-dashoffset: 0; stroke: #0f0f0f; stroke-width: 0.4; stroke-linejoin: miter\"/>\n     </g>\n     <g id=\"line2d_10\">\n      <g>\n       <use xlink:href=\"#m01663516a6\" x=\"341.126508\" y=\"319.425005\" style=\"fill: #0f0f0f; stroke: #0f0f0f; stroke-width: 0.2\"/>\n      </g>\n     </g>\n     <g id=\"text_5\">\n      <!-- 2021-03 -->\n      <g style=\"fill: #0f0f0f\" transform=\"translate(324.452333 337.055861) rotate(-10) scale(0.09 -0.09)\">\n       <use xlink:href=\"#Consolas-32\"/>\n       <use xlink:href=\"#Consolas-30\" x=\"54.980469\"/>\n       <use xlink:href=\"#Consolas-32\" x=\"109.960938\"/>\n       <use xlink:href=\"#Consolas-31\" x=\"164.941406\"/>\n       <use xlink:href=\"#Consolas-2d\" x=\"219.921875\"/>\n       <use xlink:href=\"#Consolas-30\" x=\"274.902344\"/>\n       <use xlink:href=\"#Consolas-33\" x=\"329.882812\"/>\n      </g>\n     </g>\n    </g>\n    <g id=\"xtick_6\">\n     <g id=\"line2d_11\">\n      <path d=\"M 420.170003 319.425005 \nL 420.170003 24.054188 \n\" clip-path=\"url(#pd476fa05da)\" style=\"fill: none; stroke-dasharray: 0.4,0.66; stroke-dashoffset: 0; stroke: #0f0f0f; stroke-width: 0.4; stroke-linejoin: miter\"/>\n     </g>\n     <g id=\"line2d_12\">\n      <g>\n       <use xlink:href=\"#m01663516a6\" x=\"420.170003\" y=\"319.425005\" style=\"fill: #0f0f0f; stroke: #0f0f0f; stroke-width: 0.2\"/>\n      </g>\n     </g>\n     <g id=\"text_6\">\n      <!-- 2021-06 -->\n      <g style=\"fill: #0f0f0f\" transform=\"translate(403.495828 337.055861) rotate(-10) scale(0.09 -0.09)\">\n       <use xlink:href=\"#Consolas-32\"/>\n       <use xlink:href=\"#Consolas-30\" x=\"54.980469\"/>\n       <use xlink:href=\"#Consolas-32\" x=\"109.960938\"/>\n       <use xlink:href=\"#Consolas-31\" x=\"164.941406\"/>\n       <use xlink:href=\"#Consolas-2d\" x=\"219.921875\"/>\n       <use xlink:href=\"#Consolas-30\" x=\"274.902344\"/>\n       <use xlink:href=\"#Consolas-36\" x=\"329.882812\"/>\n      </g>\n     </g>\n    </g>\n    <g id=\"xtick_7\">\n     <g id=\"line2d_13\">\n      <path d=\"M 499.213497 319.425005 \nL 499.213497 24.054188 \n\" clip-path=\"url(#pd476fa05da)\" style=\"fill: none; stroke-dasharray: 0.4,0.66; stroke-dashoffset: 0; stroke: #0f0f0f; stroke-width: 0.4; stroke-linejoin: miter\"/>\n     </g>\n     <g id=\"line2d_14\">\n      <g>\n       <use xlink:href=\"#m01663516a6\" x=\"499.213497\" y=\"319.425005\" style=\"fill: #0f0f0f; stroke: #0f0f0f; stroke-width: 0.2\"/>\n      </g>\n     </g>\n     <g id=\"text_7\">\n      <!-- 2021-09 -->\n      <g style=\"fill: #0f0f0f\" transform=\"translate(482.539322 337.055861) rotate(-10) scale(0.09 -0.09)\">\n       <use xlink:href=\"#Consolas-32\"/>\n       <use xlink:href=\"#Consolas-30\" x=\"54.980469\"/>\n       <use xlink:href=\"#Consolas-32\" x=\"109.960938\"/>\n       <use xlink:href=\"#Consolas-31\" x=\"164.941406\"/>\n       <use xlink:href=\"#Consolas-2d\" x=\"219.921875\"/>\n       <use xlink:href=\"#Consolas-30\" x=\"274.902344\"/>\n       <use xlink:href=\"#Consolas-39\" x=\"329.882812\"/>\n      </g>\n     </g>\n    </g>\n    <g id=\"xtick_8\">\n     <g id=\"line2d_15\">\n      <path d=\"M 578.256992 319.425005 \nL 578.256992 24.054188 \n\" clip-path=\"url(#pd476fa05da)\" style=\"fill: none; stroke-dasharray: 0.4,0.66; stroke-dashoffset: 0; stroke: #0f0f0f; stroke-width: 0.4; stroke-linejoin: miter\"/>\n     </g>\n     <g id=\"line2d_16\">\n      <g>\n       <use xlink:href=\"#m01663516a6\" x=\"578.256992\" y=\"319.425005\" style=\"fill: #0f0f0f; stroke: #0f0f0f; stroke-width: 0.2\"/>\n      </g>\n     </g>\n     <g id=\"text_8\">\n      <!-- 2021-12 -->\n      <g style=\"fill: #0f0f0f\" transform=\"translate(561.582817 337.055861) rotate(-10) scale(0.09 -0.09)\">\n       <use xlink:href=\"#Consolas-32\"/>\n       <use xlink:href=\"#Consolas-30\" x=\"54.980469\"/>\n       <use xlink:href=\"#Consolas-32\" x=\"109.960938\"/>\n       <use xlink:href=\"#Consolas-31\" x=\"164.941406\"/>\n       <use xlink:href=\"#Consolas-2d\" x=\"219.921875\"/>\n       <use xlink:href=\"#Consolas-31\" x=\"274.902344\"/>\n       <use xlink:href=\"#Consolas-32\" x=\"329.882812\"/>\n      </g>\n     </g>\n    </g>\n    <g id=\"xtick_9\">\n     <g id=\"line2d_17\">\n      <path d=\"M 657.300486 319.425005 \nL 657.300486 24.054188 \n\" clip-path=\"url(#pd476fa05da)\" style=\"fill: none; stroke-dasharray: 0.4,0.66; stroke-dashoffset: 0; stroke: #0f0f0f; stroke-width: 0.4; stroke-linejoin: miter\"/>\n     </g>\n     <g id=\"line2d_18\">\n      <g>\n       <use xlink:href=\"#m01663516a6\" x=\"657.300486\" y=\"319.425005\" style=\"fill: #0f0f0f; stroke: #0f0f0f; stroke-width: 0.2\"/>\n      </g>\n     </g>\n     <g id=\"text_9\">\n      <!-- 2022-03 -->\n      <g style=\"fill: #0f0f0f\" transform=\"translate(640.626311 337.055861) rotate(-10) scale(0.09 -0.09)\">\n       <use xlink:href=\"#Consolas-32\"/>\n       <use xlink:href=\"#Consolas-30\" x=\"54.980469\"/>\n       <use xlink:href=\"#Consolas-32\" x=\"109.960938\"/>\n       <use xlink:href=\"#Consolas-32\" x=\"164.941406\"/>\n       <use xlink:href=\"#Consolas-2d\" x=\"219.921875\"/>\n       <use xlink:href=\"#Consolas-30\" x=\"274.902344\"/>\n       <use xlink:href=\"#Consolas-33\" x=\"329.882812\"/>\n      </g>\n     </g>\n    </g>\n    <g id=\"xtick_10\">\n     <g id=\"line2d_19\">\n      <path d=\"M 736.343981 319.425005 \nL 736.343981 24.054188 \n\" clip-path=\"url(#pd476fa05da)\" style=\"fill: none; stroke-dasharray: 0.4,0.66; stroke-dashoffset: 0; stroke: #0f0f0f; stroke-width: 0.4; stroke-linejoin: miter\"/>\n     </g>\n     <g id=\"line2d_20\">\n      <g>\n       <use xlink:href=\"#m01663516a6\" x=\"736.343981\" y=\"319.425005\" style=\"fill: #0f0f0f; stroke: #0f0f0f; stroke-width: 0.2\"/>\n      </g>\n     </g>\n     <g id=\"text_10\">\n      <!-- 2022-06 -->\n      <g style=\"fill: #0f0f0f\" transform=\"translate(719.669806 337.055861) rotate(-10) scale(0.09 -0.09)\">\n       <use xlink:href=\"#Consolas-32\"/>\n       <use xlink:href=\"#Consolas-30\" x=\"54.980469\"/>\n       <use xlink:href=\"#Consolas-32\" x=\"109.960938\"/>\n       <use xlink:href=\"#Consolas-32\" x=\"164.941406\"/>\n       <use xlink:href=\"#Consolas-2d\" x=\"219.921875\"/>\n       <use xlink:href=\"#Consolas-30\" x=\"274.902344\"/>\n       <use xlink:href=\"#Consolas-36\" x=\"329.882812\"/>\n      </g>\n     </g>\n    </g>\n   </g>\n   <g id=\"matplotlib.axis_2\">\n    <g id=\"ytick_1\">\n     <g id=\"line2d_21\">\n      <path d=\"M 24.95253 305.999059 \nL 736.343981 305.999059 \n\" clip-path=\"url(#pd476fa05da)\" style=\"fill: none; stroke-dasharray: 0.4,0.66; stroke-dashoffset: 0; stroke: #0f0f0f; stroke-width: 0.4; stroke-linejoin: miter\"/>\n     </g>\n     <g id=\"line2d_22\">\n      <defs>\n       <path id=\"m4ec862fd34\" d=\"M 0 0 \nL 2 0 \n\" style=\"stroke: #0f0f0f; stroke-width: 0.2\"/>\n      </defs>\n      <g>\n       <use xlink:href=\"#m4ec862fd34\" x=\"736.343981\" y=\"305.999059\" style=\"fill: #0f0f0f; stroke: #0f0f0f; stroke-width: 0.2\"/>\n      </g>\n     </g>\n     <g id=\"text_11\">\n      <!-- 0.0 -->\n      <g style=\"fill: #0f0f0f\" transform=\"translate(741.843981 309.104059) scale(0.09 -0.09)\">\n       <defs>\n        <path id=\"Consolas-2e\" d=\"M 1734 984 \nQ 1841 984 1936 943 \nQ 2031 903 2101 831 \nQ 2172 759 2212 664 \nQ 2253 569 2253 459 \nQ 2253 353 2212 259 \nQ 2172 166 2101 95 \nQ 2031 25 1936 -15 \nQ 1841 -56 1734 -56 \nQ 1625 -56 1531 -15 \nQ 1438 25 1367 95 \nQ 1297 166 1256 259 \nQ 1216 353 1216 459 \nQ 1216 569 1256 664 \nQ 1297 759 1367 831 \nQ 1438 903 1531 943 \nQ 1625 984 1734 984 \nz\n\" transform=\"scale(0.015625)\"/>\n       </defs>\n       <use xlink:href=\"#Consolas-30\"/>\n       <use xlink:href=\"#Consolas-2e\" x=\"54.980469\"/>\n       <use xlink:href=\"#Consolas-30\" x=\"109.960938\"/>\n      </g>\n     </g>\n    </g>\n    <g id=\"ytick_2\">\n     <g id=\"line2d_23\">\n      <path d=\"M 24.95253 244.128339 \nL 736.343981 244.128339 \n\" clip-path=\"url(#pd476fa05da)\" style=\"fill: none; stroke-dasharray: 0.4,0.66; stroke-dashoffset: 0; stroke: #0f0f0f; stroke-width: 0.4; stroke-linejoin: miter\"/>\n     </g>\n     <g id=\"line2d_24\">\n      <g>\n       <use xlink:href=\"#m4ec862fd34\" x=\"736.343981\" y=\"244.128339\" style=\"fill: #0f0f0f; stroke: #0f0f0f; stroke-width: 0.2\"/>\n      </g>\n     </g>\n     <g id=\"text_12\">\n      <!-- 0.1 -->\n      <g style=\"fill: #0f0f0f\" transform=\"translate(741.843981 247.233339) scale(0.09 -0.09)\">\n       <use xlink:href=\"#Consolas-30\"/>\n       <use xlink:href=\"#Consolas-2e\" x=\"54.980469\"/>\n       <use xlink:href=\"#Consolas-31\" x=\"109.960938\"/>\n      </g>\n     </g>\n    </g>\n    <g id=\"ytick_3\">\n     <g id=\"line2d_25\">\n      <path d=\"M 24.95253 182.257619 \nL 736.343981 182.257619 \n\" clip-path=\"url(#pd476fa05da)\" style=\"fill: none; stroke-dasharray: 0.4,0.66; stroke-dashoffset: 0; stroke: #0f0f0f; stroke-width: 0.4; stroke-linejoin: miter\"/>\n     </g>\n     <g id=\"line2d_26\">\n      <g>\n       <use xlink:href=\"#m4ec862fd34\" x=\"736.343981\" y=\"182.257619\" style=\"fill: #0f0f0f; stroke: #0f0f0f; stroke-width: 0.2\"/>\n      </g>\n     </g>\n     <g id=\"text_13\">\n      <!-- 0.2 -->\n      <g style=\"fill: #0f0f0f\" transform=\"translate(741.843981 185.362619) scale(0.09 -0.09)\">\n       <use xlink:href=\"#Consolas-30\"/>\n       <use xlink:href=\"#Consolas-2e\" x=\"54.980469\"/>\n       <use xlink:href=\"#Consolas-32\" x=\"109.960938\"/>\n      </g>\n     </g>\n    </g>\n    <g id=\"ytick_4\">\n     <g id=\"line2d_27\">\n      <path d=\"M 24.95253 120.386899 \nL 736.343981 120.386899 \n\" clip-path=\"url(#pd476fa05da)\" style=\"fill: none; stroke-dasharray: 0.4,0.66; stroke-dashoffset: 0; stroke: #0f0f0f; stroke-width: 0.4; stroke-linejoin: miter\"/>\n     </g>\n     <g id=\"line2d_28\">\n      <g>\n       <use xlink:href=\"#m4ec862fd34\" x=\"736.343981\" y=\"120.386899\" style=\"fill: #0f0f0f; stroke: #0f0f0f; stroke-width: 0.2\"/>\n      </g>\n     </g>\n     <g id=\"text_14\">\n      <!-- 0.3 -->\n      <g style=\"fill: #0f0f0f\" transform=\"translate(741.843981 123.491899) scale(0.09 -0.09)\">\n       <use xlink:href=\"#Consolas-30\"/>\n       <use xlink:href=\"#Consolas-2e\" x=\"54.980469\"/>\n       <use xlink:href=\"#Consolas-33\" x=\"109.960938\"/>\n      </g>\n     </g>\n    </g>\n    <g id=\"ytick_5\">\n     <g id=\"line2d_29\">\n      <path d=\"M 24.95253 58.516179 \nL 736.343981 58.516179 \n\" clip-path=\"url(#pd476fa05da)\" style=\"fill: none; stroke-dasharray: 0.4,0.66; stroke-dashoffset: 0; stroke: #0f0f0f; stroke-width: 0.4; stroke-linejoin: miter\"/>\n     </g>\n     <g id=\"line2d_30\">\n      <g>\n       <use xlink:href=\"#m4ec862fd34\" x=\"736.343981\" y=\"58.516179\" style=\"fill: #0f0f0f; stroke: #0f0f0f; stroke-width: 0.2\"/>\n      </g>\n     </g>\n     <g id=\"text_15\">\n      <!-- 0.4 -->\n      <g style=\"fill: #0f0f0f\" transform=\"translate(741.843981 61.621179) scale(0.09 -0.09)\">\n       <defs>\n        <path id=\"Consolas-34\" d=\"M 3353 903 \nL 2656 903 \nL 2656 0 \nL 2100 0 \nL 2100 903 \nL 134 903 \nL 134 1381 \nL 1875 4084 \nL 2656 4084 \nL 2656 1381 \nL 3353 1381 \nL 3353 903 \nz\nM 2100 3559 \nL 678 1381 \nL 2100 1381 \nL 2100 3559 \nz\n\" transform=\"scale(0.015625)\"/>\n       </defs>\n       <use xlink:href=\"#Consolas-30\"/>\n       <use xlink:href=\"#Consolas-2e\" x=\"54.980469\"/>\n       <use xlink:href=\"#Consolas-34\" x=\"109.960938\"/>\n      </g>\n     </g>\n    </g>\n    <g id=\"text_16\">\n     <!-- Payout ratio  -->\n     <g style=\"fill: #0f0f0f\" transform=\"translate(768.224377 210.442273) rotate(-90) scale(0.10829 -0.10829)\">\n      <defs>\n       <path id=\"Consolas-50\" d=\"M 3175 2834 \nQ 3175 2584 3081 2339 \nQ 2988 2094 2791 1900 \nQ 2594 1706 2287 1586 \nQ 1981 1466 1556 1466 \nL 1050 1466 \nL 1050 0 \nL 494 0 \nL 494 4084 \nL 1644 4084 \nQ 1947 4084 2225 4017 \nQ 2503 3950 2714 3800 \nQ 2925 3650 3050 3412 \nQ 3175 3175 3175 2834 \nz\nM 2597 2809 \nQ 2597 3203 2339 3412 \nQ 2081 3622 1619 3622 \nL 1050 3622 \nL 1050 1941 \nL 1569 1941 \nQ 2063 1941 2330 2156 \nQ 2597 2372 2597 2809 \nz\n\" transform=\"scale(0.015625)\"/>\n       <path id=\"Consolas-61\" d=\"M 2516 0 \nL 2503 422 \nQ 2247 169 1983 56 \nQ 1719 -56 1428 -56 \nQ 1159 -56 968 12 \nQ 778 81 654 201 \nQ 531 322 473 484 \nQ 416 647 416 838 \nQ 416 1309 767 1576 \nQ 1119 1844 1806 1844 \nL 2456 1844 \nL 2456 2119 \nQ 2456 2397 2278 2564 \nQ 2100 2731 1734 2731 \nQ 1469 2731 1211 2672 \nQ 953 2613 678 2503 \nL 678 2994 \nQ 781 3031 907 3067 \nQ 1034 3103 1175 3131 \nQ 1316 3159 1469 3176 \nQ 1622 3194 1778 3194 \nQ 2063 3194 2291 3131 \nQ 2519 3069 2676 2941 \nQ 2834 2813 2918 2619 \nQ 3003 2425 3003 2163 \nL 3003 0 \nL 2516 0 \nz\nM 2456 1428 \nL 1766 1428 \nQ 1563 1428 1416 1387 \nQ 1269 1347 1175 1272 \nQ 1081 1197 1036 1092 \nQ 991 988 991 856 \nQ 991 766 1019 683 \nQ 1047 600 1109 536 \nQ 1172 472 1272 434 \nQ 1372 397 1516 397 \nQ 1703 397 1945 511 \nQ 2188 625 2456 872 \nL 2456 1428 \nz\n\" transform=\"scale(0.015625)\"/>\n       <path id=\"Consolas-79\" d=\"M 3291 3138 \nL 2222 331 \nQ 2056 -97 1879 -406 \nQ 1703 -716 1493 -914 \nQ 1284 -1113 1034 -1206 \nQ 784 -1300 475 -1300 \nQ 394 -1300 328 -1297 \nQ 263 -1294 184 -1288 \nL 184 -794 \nQ 253 -803 334 -811 \nQ 416 -819 506 -819 \nQ 656 -819 786 -775 \nQ 916 -731 1031 -632 \nQ 1147 -534 1253 -378 \nQ 1359 -222 1459 0 \nL 206 3138 \nL 825 3138 \nL 1619 1063 \nL 1778 575 \nL 1959 1075 \nL 2694 3138 \nL 3291 3138 \nz\n\" transform=\"scale(0.015625)\"/>\n       <path id=\"Consolas-6f\" d=\"M 3231 1594 \nQ 3231 1228 3128 923 \nQ 3025 619 2831 401 \nQ 2638 184 2359 64 \nQ 2081 -56 1728 -56 \nQ 1391 -56 1123 48 \nQ 856 153 670 356 \nQ 484 559 386 859 \nQ 288 1159 288 1550 \nQ 288 1916 391 2217 \nQ 494 2519 687 2736 \nQ 881 2953 1159 3073 \nQ 1438 3194 1791 3194 \nQ 2128 3194 2395 3089 \nQ 2663 2984 2848 2782 \nQ 3034 2581 3132 2281 \nQ 3231 1981 3231 1594 \nz\nM 2675 1569 \nQ 2675 1859 2611 2076 \nQ 2547 2294 2428 2439 \nQ 2309 2584 2139 2657 \nQ 1969 2731 1759 2731 \nQ 1516 2731 1342 2636 \nQ 1169 2541 1058 2381 \nQ 947 2222 895 2011 \nQ 844 1800 844 1569 \nQ 844 1278 908 1059 \nQ 972 841 1090 695 \nQ 1209 550 1378 476 \nQ 1547 403 1759 403 \nQ 2003 403 2176 498 \nQ 2350 594 2461 753 \nQ 2572 913 2623 1123 \nQ 2675 1334 2675 1569 \nz\n\" transform=\"scale(0.015625)\"/>\n       <path id=\"Consolas-75\" d=\"M 3022 0 \nL 2534 0 \nL 2516 506 \nQ 2375 344 2248 236 \nQ 2122 128 1997 62 \nQ 1872 -3 1745 -29 \nQ 1619 -56 1478 -56 \nQ 994 -56 747 228 \nQ 500 513 500 1088 \nL 500 3138 \nL 1044 3138 \nL 1044 1131 \nQ 1044 409 1588 409 \nQ 1688 409 1783 439 \nQ 1878 469 1983 542 \nQ 2088 616 2208 741 \nQ 2328 866 2478 1056 \nL 2478 3138 \nL 3022 3138 \nL 3022 0 \nz\n\" transform=\"scale(0.015625)\"/>\n       <path id=\"Consolas-74\" d=\"M 3028 44 \nQ 2844 -3 2647 -23 \nQ 2450 -44 2247 -44 \nQ 1656 -44 1365 223 \nQ 1075 491 1075 1044 \nL 1075 2681 \nL 197 2681 \nL 197 3138 \nL 1075 3138 \nL 1075 4000 \nL 1619 4141 \nL 1619 3138 \nL 3028 3138 \nL 3028 2681 \nL 1619 2681 \nL 1619 1088 \nQ 1619 750 1798 583 \nQ 1978 416 2328 416 \nQ 2478 416 2656 439 \nQ 2834 463 3028 513 \nL 3028 44 \nz\n\" transform=\"scale(0.015625)\"/>\n       <path id=\"Consolas-20\" transform=\"scale(0.015625)\"/>\n       <path id=\"Consolas-72\" d=\"M 628 3138 \nL 1125 3138 \nL 1141 2559 \nQ 1419 2894 1689 3044 \nQ 1959 3194 2234 3194 \nQ 2722 3194 2973 2878 \nQ 3225 2563 3206 1941 \nL 2656 1941 \nQ 2666 2353 2536 2539 \nQ 2406 2725 2156 2725 \nQ 2047 2725 1936 2686 \nQ 1825 2647 1708 2561 \nQ 1591 2475 1459 2340 \nQ 1328 2206 1178 2016 \nL 1178 0 \nL 628 0 \nL 628 3138 \nz\n\" transform=\"scale(0.015625)\"/>\n       <path id=\"Consolas-69\" d=\"M 1569 2688 \nL 641 2688 \nL 641 3138 \nL 2119 3138 \nL 2119 453 \nL 3053 453 \nL 3053 0 \nL 538 0 \nL 538 453 \nL 1569 453 \nL 1569 2688 \nz\nM 1759 4453 \nQ 1850 4453 1928 4420 \nQ 2006 4388 2064 4328 \nQ 2122 4269 2155 4192 \nQ 2188 4116 2188 4025 \nQ 2188 3938 2155 3859 \nQ 2122 3781 2064 3722 \nQ 2006 3663 1928 3630 \nQ 1850 3597 1759 3597 \nQ 1669 3597 1591 3630 \nQ 1513 3663 1455 3722 \nQ 1397 3781 1364 3859 \nQ 1331 3938 1331 4025 \nQ 1331 4116 1364 4192 \nQ 1397 4269 1455 4328 \nQ 1513 4388 1591 4420 \nQ 1669 4453 1759 4453 \nz\n\" transform=\"scale(0.015625)\"/>\n      </defs>\n      <use xlink:href=\"#Consolas-50\"/>\n      <use xlink:href=\"#Consolas-61\" x=\"54.980469\"/>\n      <use xlink:href=\"#Consolas-79\" x=\"109.960938\"/>\n      <use xlink:href=\"#Consolas-6f\" x=\"164.941406\"/>\n      <use xlink:href=\"#Consolas-75\" x=\"219.921875\"/>\n      <use xlink:href=\"#Consolas-74\" x=\"274.902344\"/>\n      <use xlink:href=\"#Consolas-20\" x=\"329.882812\"/>\n      <use xlink:href=\"#Consolas-72\" x=\"384.863281\"/>\n      <use xlink:href=\"#Consolas-61\" x=\"439.84375\"/>\n      <use xlink:href=\"#Consolas-74\" x=\"494.824219\"/>\n      <use xlink:href=\"#Consolas-69\" x=\"549.804688\"/>\n      <use xlink:href=\"#Consolas-6f\" x=\"604.785156\"/>\n      <use xlink:href=\"#Consolas-20\" x=\"659.765625\"/>\n     </g>\n    </g>\n   </g>\n   <g id=\"line2d_31\">\n    <path d=\"M 24.95253 305.999059 \nL 103.996025 305.999059 \nL 183.039519 305.999059 \nL 262.083014 305.999059 \nL 341.126508 305.999059 \nL 420.170003 305.999059 \nL 499.213497 305.999059 \nL 578.256992 305.999059 \nL 657.300486 305.999059 \nL 736.343981 305.999059 \n\" clip-path=\"url(#pd476fa05da)\" style=\"fill: none; stroke: #254495; stroke-width: 2; stroke-linejoin: miter; stroke-linecap: square\"/>\n   </g>\n   <g id=\"line2d_32\">\n    <path d=\"M 24.95253 305.999059 \nL 103.996025 305.999059 \nL 183.039519 305.999059 \nL 262.083014 305.999059 \nL 341.126508 305.999059 \nL 420.170003 305.999059 \nL 499.213497 305.999059 \nL 578.256992 305.999059 \nL 657.300486 305.999059 \nL 736.343981 305.999059 \n\" clip-path=\"url(#pd476fa05da)\" style=\"fill: none; stroke: #c13246; stroke-width: 2; stroke-linejoin: miter; stroke-linecap: square\"/>\n   </g>\n   <g id=\"line2d_33\">\n    <path d=\"M 24.95253 89.451539 \nL 103.996025 83.264467 \nL 183.039519 37.480134 \nL 262.083014 219.998758 \nL 341.126508 221.236172 \nL 420.170003 305.999059 \nL 499.213497 305.999059 \nL 578.256992 194.631763 \nL 657.300486 237.32256 \nL 736.343981 229.279366 \n\" clip-path=\"url(#pd476fa05da)\" style=\"fill: none; stroke: #48277c; stroke-width: 2; stroke-linejoin: miter; stroke-linecap: square\"/>\n   </g>\n   <g id=\"patch_3\">\n    <path d=\"M 24.95253 319.425005 \nL 24.95253 24.054188 \n\" style=\"fill: none; stroke: #0f0f0f; stroke-width: 0.2; stroke-linejoin: miter; stroke-linecap: square\"/>\n   </g>\n   <g id=\"patch_4\">\n    <path d=\"M 736.343981 319.425005 \nL 736.343981 24.054188 \n\" style=\"fill: none; stroke: #0f0f0f; stroke-width: 0.2; stroke-linejoin: miter; stroke-linecap: square\"/>\n   </g>\n   <g id=\"patch_5\">\n    <path d=\"M 24.95253 319.425005 \nL 736.343981 319.425005 \n\" style=\"fill: none; stroke: #0f0f0f; stroke-width: 0.2; stroke-linejoin: miter; stroke-linecap: square\"/>\n   </g>\n   <g id=\"patch_6\">\n    <path d=\"M 24.95253 24.054188 \nL 736.343981 24.054188 \n\" style=\"fill: none; stroke: #0f0f0f; stroke-width: 0.2; stroke-linejoin: miter; stroke-linecap: square\"/>\n   </g>\n   <g id=\"text_17\">\n    <!-- Historical Payout ratio -->\n    <g style=\"fill: #0f0f0f\" transform=\"translate(24.95253 18.054188) scale(0.156 -0.156)\">\n     <defs>\n      <path id=\"Consolas-48\" d=\"M 3175 0 \nL 2619 0 \nL 2619 1875 \nL 903 1875 \nL 903 0 \nL 347 0 \nL 347 4084 \nL 903 4084 \nL 903 2356 \nL 2619 2356 \nL 2619 4084 \nL 3175 4084 \nL 3175 0 \nz\n\" transform=\"scale(0.015625)\"/>\n      <path id=\"Consolas-73\" d=\"M 2984 856 \nQ 2984 691 2928 559 \nQ 2872 428 2775 326 \nQ 2678 225 2550 153 \nQ 2422 81 2276 34 \nQ 2131 -13 1978 -34 \nQ 1825 -56 1678 -56 \nQ 1359 -56 1092 -28 \nQ 825 0 569 63 \nL 569 563 \nQ 844 484 1116 443 \nQ 1388 403 1656 403 \nQ 2047 403 2234 509 \nQ 2422 616 2422 813 \nQ 2422 897 2392 964 \nQ 2363 1031 2284 1092 \nQ 2206 1153 2042 1218 \nQ 1878 1284 1594 1369 \nQ 1381 1431 1201 1511 \nQ 1022 1591 890 1700 \nQ 759 1809 684 1956 \nQ 609 2103 609 2303 \nQ 609 2434 670 2590 \nQ 731 2747 878 2881 \nQ 1025 3016 1275 3105 \nQ 1525 3194 1900 3194 \nQ 2084 3194 2309 3173 \nQ 2534 3153 2778 3103 \nL 2778 2619 \nQ 2522 2681 2292 2711 \nQ 2063 2741 1894 2741 \nQ 1691 2741 1552 2709 \nQ 1413 2678 1327 2623 \nQ 1241 2569 1203 2495 \nQ 1166 2422 1166 2338 \nQ 1166 2253 1198 2184 \nQ 1231 2116 1320 2052 \nQ 1409 1988 1568 1923 \nQ 1728 1859 1984 1784 \nQ 2263 1703 2453 1614 \nQ 2644 1525 2762 1415 \nQ 2881 1306 2932 1168 \nQ 2984 1031 2984 856 \nz\n\" transform=\"scale(0.015625)\"/>\n      <path id=\"Consolas-63\" d=\"M 2938 116 \nQ 2725 34 2501 -5 \nQ 2278 -44 2041 -44 \nQ 1297 -44 895 359 \nQ 494 763 494 1538 \nQ 494 1909 609 2212 \nQ 725 2516 934 2731 \nQ 1144 2947 1434 3064 \nQ 1725 3181 2075 3181 \nQ 2319 3181 2531 3147 \nQ 2744 3113 2938 3034 \nL 2938 2516 \nQ 2734 2622 2523 2670 \nQ 2313 2719 2088 2719 \nQ 1878 2719 1692 2639 \nQ 1506 2559 1365 2409 \nQ 1225 2259 1144 2043 \nQ 1063 1828 1063 1556 \nQ 1063 988 1339 705 \nQ 1616 422 2106 422 \nQ 2328 422 2536 472 \nQ 2744 522 2938 622 \nL 2938 116 \nz\n\" transform=\"scale(0.015625)\"/>\n      <path id=\"Consolas-6c\" d=\"M 1569 3969 \nL 641 3969 \nL 641 4416 \nL 2119 4416 \nL 2119 453 \nL 3053 453 \nL 3053 0 \nL 538 0 \nL 538 453 \nL 1569 453 \nL 1569 3969 \nz\n\" transform=\"scale(0.015625)\"/>\n     </defs>\n     <use xlink:href=\"#Consolas-48\"/>\n     <use xlink:href=\"#Consolas-69\" x=\"54.980469\"/>\n     <use xlink:href=\"#Consolas-73\" x=\"109.960938\"/>\n     <use xlink:href=\"#Consolas-74\" x=\"164.941406\"/>\n     <use xlink:href=\"#Consolas-6f\" x=\"219.921875\"/>\n     <use xlink:href=\"#Consolas-72\" x=\"274.902344\"/>\n     <use xlink:href=\"#Consolas-69\" x=\"329.882812\"/>\n     <use xlink:href=\"#Consolas-63\" x=\"384.863281\"/>\n     <use xlink:href=\"#Consolas-61\" x=\"439.84375\"/>\n     <use xlink:href=\"#Consolas-6c\" x=\"494.824219\"/>\n     <use xlink:href=\"#Consolas-20\" x=\"549.804688\"/>\n     <use xlink:href=\"#Consolas-50\" x=\"604.785156\"/>\n     <use xlink:href=\"#Consolas-61\" x=\"659.765625\"/>\n     <use xlink:href=\"#Consolas-79\" x=\"714.746094\"/>\n     <use xlink:href=\"#Consolas-6f\" x=\"769.726562\"/>\n     <use xlink:href=\"#Consolas-75\" x=\"824.707031\"/>\n     <use xlink:href=\"#Consolas-74\" x=\"879.6875\"/>\n     <use xlink:href=\"#Consolas-20\" x=\"934.667969\"/>\n     <use xlink:href=\"#Consolas-72\" x=\"989.648438\"/>\n     <use xlink:href=\"#Consolas-61\" x=\"1044.628906\"/>\n     <use xlink:href=\"#Consolas-74\" x=\"1099.609375\"/>\n     <use xlink:href=\"#Consolas-69\" x=\"1154.589844\"/>\n     <use xlink:href=\"#Consolas-6f\" x=\"1209.570312\"/>\n    </g>\n   </g>\n   <g id=\"legend_1\">\n    <g id=\"patch_7\">\n     <path d=\"M 670.293849 78.204264 \nL 728.763681 78.204264 \nQ 730.929481 78.204264 730.929481 76.038464 \nL 730.929481 31.634487 \nQ 730.929481 29.468687 728.763681 29.468687 \nL 670.293849 29.468687 \nQ 668.128049 29.468687 668.128049 31.634487 \nL 668.128049 76.038464 \nQ 668.128049 78.204264 670.293849 78.204264 \nz\n\" style=\"fill: #ffffff; opacity: 0.6; stroke: #ffffff; stroke-linejoin: miter\"/>\n    </g>\n    <g id=\"line2d_34\">\n     <path d=\"M 672.459649 37.590437 \nL 683.288649 37.590437 \nL 694.117649 37.590437 \n\" style=\"fill: none; stroke: #254495; stroke-width: 2; stroke-linejoin: miter; stroke-linecap: square\"/>\n    </g>\n    <g id=\"text_18\">\n     <!-- SGML -->\n     <g style=\"fill: #0f0f0f\" transform=\"translate(702.780849 41.380587) scale(0.10829 -0.10829)\">\n      <defs>\n       <path id=\"Consolas-53\" d=\"M 3116 1106 \nQ 3116 816 2997 597 \nQ 2878 378 2665 233 \nQ 2453 88 2154 16 \nQ 1856 -56 1497 -56 \nQ 1334 -56 1173 -43 \nQ 1013 -31 864 -12 \nQ 716 6 584 31 \nQ 453 56 347 84 \nL 347 622 \nQ 581 534 873 484 \nQ 1166 434 1538 434 \nQ 1806 434 1995 476 \nQ 2184 519 2304 601 \nQ 2425 684 2479 803 \nQ 2534 922 2534 1075 \nQ 2534 1241 2442 1358 \nQ 2350 1475 2200 1567 \nQ 2050 1659 1858 1736 \nQ 1666 1813 1466 1894 \nQ 1266 1975 1073 2070 \nQ 881 2166 731 2295 \nQ 581 2425 489 2600 \nQ 397 2775 397 3016 \nQ 397 3225 484 3428 \nQ 572 3631 756 3789 \nQ 941 3947 1230 4044 \nQ 1519 4141 1919 4141 \nQ 2022 4141 2142 4131 \nQ 2263 4122 2386 4105 \nQ 2509 4088 2629 4066 \nQ 2750 4044 2853 4019 \nL 2853 3519 \nQ 2613 3588 2372 3623 \nQ 2131 3659 1906 3659 \nQ 1428 3659 1203 3500 \nQ 978 3341 978 3072 \nQ 978 2906 1070 2787 \nQ 1163 2669 1313 2575 \nQ 1463 2481 1655 2404 \nQ 1847 2328 2047 2247 \nQ 2247 2166 2439 2069 \nQ 2631 1972 2781 1839 \nQ 2931 1706 3023 1528 \nQ 3116 1350 3116 1106 \nz\n\" transform=\"scale(0.015625)\"/>\n       <path id=\"Consolas-47\" d=\"M 3144 3384 \nQ 2916 3506 2675 3573 \nQ 2434 3641 2150 3641 \nQ 1825 3641 1572 3525 \nQ 1319 3409 1145 3198 \nQ 972 2988 880 2691 \nQ 788 2394 788 2034 \nQ 788 1659 863 1362 \nQ 938 1066 1097 859 \nQ 1256 653 1504 543 \nQ 1753 434 2100 434 \nQ 2159 434 2228 440 \nQ 2297 447 2365 458 \nQ 2434 469 2498 484 \nQ 2563 500 2613 519 \nL 2613 1819 \nL 1778 1819 \nL 1778 2278 \nL 3163 2278 \nL 3163 191 \nQ 3034 131 2892 84 \nQ 2750 38 2601 6 \nQ 2453 -25 2306 -40 \nQ 2159 -56 2022 -56 \nQ 1603 -56 1267 75 \nQ 931 206 695 464 \nQ 459 722 332 1106 \nQ 206 1491 206 1997 \nQ 206 2500 347 2898 \nQ 488 3297 742 3573 \nQ 997 3850 1355 3995 \nQ 1713 4141 2144 4141 \nQ 2419 4141 2667 4092 \nQ 2916 4044 3144 3938 \nL 3144 3384 \nz\n\" transform=\"scale(0.015625)\"/>\n       <path id=\"Consolas-4d\" d=\"M 3366 0 \nL 2822 0 \nL 2741 2547 \nL 2706 3525 \nL 2516 2956 \nL 1913 1331 \nL 1528 1331 \nL 953 2894 \nL 763 3525 \nL 750 2503 \nL 678 0 \nL 153 0 \nL 353 4084 \nL 1013 4084 \nL 1563 2547 \nL 1741 2028 \nL 1913 2547 \nL 2491 4084 \nL 3169 4084 \nL 3366 0 \nz\n\" transform=\"scale(0.015625)\"/>\n       <path id=\"Consolas-4c\" d=\"M 3078 0 \nL 728 0 \nL 728 4084 \nL 1294 4084 \nL 1294 475 \nL 3078 475 \nL 3078 0 \nz\n\" transform=\"scale(0.015625)\"/>\n      </defs>\n      <use xlink:href=\"#Consolas-53\"/>\n      <use xlink:href=\"#Consolas-47\" x=\"54.980469\"/>\n      <use xlink:href=\"#Consolas-4d\" x=\"109.960938\"/>\n      <use xlink:href=\"#Consolas-4c\" x=\"164.941406\"/>\n     </g>\n    </g>\n    <g id=\"line2d_35\">\n     <path d=\"M 672.459649 52.75273 \nL 683.288649 52.75273 \nL 694.117649 52.75273 \n\" style=\"fill: none; stroke: #c13246; stroke-width: 2; stroke-linejoin: miter; stroke-linecap: square\"/>\n    </g>\n    <g id=\"text_19\">\n     <!-- LAC -->\n     <g style=\"fill: #0f0f0f\" transform=\"translate(702.780849 56.54288) scale(0.10829 -0.10829)\">\n      <defs>\n       <path id=\"Consolas-41\" d=\"M 3488 0 \nL 2881 0 \nL 2597 891 \nL 897 891 \nL 609 0 \nL 31 0 \nL 1388 4084 \nL 2150 4084 \nL 3488 0 \nz\nM 2438 1388 \nL 1747 3572 \nL 1056 1388 \nL 2438 1388 \nz\n\" transform=\"scale(0.015625)\"/>\n       <path id=\"Consolas-43\" d=\"M 3109 153 \nQ 2619 -50 2081 -50 \nQ 1216 -50 752 467 \nQ 288 984 288 1997 \nQ 288 2488 416 2884 \nQ 544 3281 781 3557 \nQ 1019 3834 1356 3984 \nQ 1694 4134 2113 4134 \nQ 2397 4134 2640 4086 \nQ 2884 4038 3109 3938 \nL 3109 3391 \nQ 2888 3513 2650 3577 \nQ 2413 3641 2131 3641 \nQ 1844 3641 1611 3533 \nQ 1378 3425 1215 3220 \nQ 1053 3016 965 2720 \nQ 878 2425 878 2047 \nQ 878 1253 1200 850 \nQ 1522 447 2144 447 \nQ 2406 447 2647 508 \nQ 2888 569 3109 678 \nL 3109 153 \nz\n\" transform=\"scale(0.015625)\"/>\n      </defs>\n      <use xlink:href=\"#Consolas-4c\"/>\n      <use xlink:href=\"#Consolas-41\" x=\"54.980469\"/>\n      <use xlink:href=\"#Consolas-43\" x=\"109.960938\"/>\n     </g>\n    </g>\n    <g id=\"line2d_36\">\n     <path d=\"M 672.459649 67.915022 \nL 683.288649 67.915022 \nL 694.117649 67.915022 \n\" style=\"fill: none; stroke: #48277c; stroke-width: 2; stroke-linejoin: miter; stroke-linecap: square\"/>\n    </g>\n    <g id=\"text_20\">\n     <!-- MTRN -->\n     <g style=\"fill: #0f0f0f\" transform=\"translate(702.780849 71.705172) scale(0.10829 -0.10829)\">\n      <defs>\n       <path id=\"Consolas-54\" d=\"M 3250 3609 \nL 2041 3609 \nL 2041 0 \nL 1478 0 \nL 1478 3609 \nL 269 3609 \nL 269 4084 \nL 3250 4084 \nL 3250 3609 \nz\n\" transform=\"scale(0.015625)\"/>\n       <path id=\"Consolas-52\" d=\"M 3284 0 \nL 2656 0 \nL 2047 1306 \nQ 1978 1456 1906 1554 \nQ 1834 1653 1751 1711 \nQ 1669 1769 1570 1794 \nQ 1472 1819 1350 1819 \nL 1088 1819 \nL 1088 0 \nL 531 0 \nL 531 4084 \nL 1625 4084 \nQ 1981 4084 2237 4006 \nQ 2494 3928 2658 3787 \nQ 2822 3647 2898 3448 \nQ 2975 3250 2975 3009 \nQ 2975 2819 2919 2648 \nQ 2863 2478 2752 2339 \nQ 2641 2200 2477 2098 \nQ 2313 1997 2100 1947 \nQ 2272 1888 2392 1739 \nQ 2513 1591 2638 1344 \nL 3284 0 \nz\nM 2394 2963 \nQ 2394 3291 2189 3453 \nQ 1984 3616 1613 3616 \nL 1088 3616 \nL 1088 2266 \nL 1538 2266 \nQ 1734 2266 1892 2311 \nQ 2050 2356 2161 2445 \nQ 2272 2534 2333 2664 \nQ 2394 2794 2394 2963 \nz\n\" transform=\"scale(0.015625)\"/>\n       <path id=\"Consolas-4e\" d=\"M 3150 0 \nL 2425 0 \nL 1234 2547 \nL 891 3366 \nL 891 1306 \nL 891 0 \nL 372 0 \nL 372 4084 \nL 1088 4084 \nL 2222 1672 \nL 2631 738 \nL 2631 2925 \nL 2631 4084 \nL 3150 4084 \nL 3150 0 \nz\n\" transform=\"scale(0.015625)\"/>\n      </defs>\n      <use xlink:href=\"#Consolas-4d\"/>\n      <use xlink:href=\"#Consolas-54\" x=\"54.980469\"/>\n      <use xlink:href=\"#Consolas-52\" x=\"109.960938\"/>\n      <use xlink:href=\"#Consolas-4e\" x=\"164.941406\"/>\n     </g>\n    </g>\n   </g>\n  </g>\n </g>\n <defs>\n  <clipPath id=\"pd476fa05da\">\n   <rect x=\"24.95253\" y=\"24.054188\" width=\"711.39145\" height=\"295.370818\"/>\n  </clipPath>\n </defs>\n</svg>\n",
      "text/plain": [
       "<Figure size 1650x750 with 1 Axes>"
      ]
     },
     "metadata": {},
     "output_type": "display_data"
    }
   ],
   "source": [
    "fig, ax = plt.subplots(figsize=(11,5), dpi=150)\n",
    "dhelp.display_historical_metric(similar_companies,\"Payout ratio\", external_axes=[\n",
    "        ax,\n",
    "    ])\n",
    "\n",
    "fig.tight_layout()\n",
    "f = io.BytesIO()\n",
    "fig.savefig(f, format=\"svg\")\n",
    "payout_ratio_chart = f.getvalue().decode(\"utf-8\")"
   ]
  },
  {
   "cell_type": "code",
   "execution_count": null,
   "id": "1417aee1",
   "metadata": {},
   "outputs": [],
   "source": [
    "df_historical_ratios=openbb.stocks.fa.metrics(symbol=symbol,quarterly=True,limit=16)\n",
    "df_historical_ratios"
   ]
  },
  {
   "cell_type": "code",
   "execution_count": null,
   "id": "d97327ca",
   "metadata": {},
   "outputs": [],
   "source": [
    "#fig, ax = plt.subplots(figsize=(11,5), dpi=150)\n",
    "#dhelp.display_historical_metric(similar_companies,\"EBITDA_MARGIN\", external_axes=[\n",
    "#        ax,\n",
    "#    ])\n",
    "\n",
    "#fig.tight_layout()\n",
    "#f = io.BytesIO()\n",
    "#fig.savefig(f, format=\"svg\")\n",
    "#ebitda_margin_chart = f.getvalue().decode(\"utf-8\")"
   ]
  },
  {
   "cell_type": "code",
   "execution_count": null,
   "id": "74565e53",
   "metadata": {
    "papermill": {
     "duration": null,
     "end_time": null,
     "exception": null,
     "start_time": null,
     "status": "pending"
    },
    "tags": []
   },
   "outputs": [],
   "source": [
    "fig, ax = plt.subplots(figsize=(11, 5), dpi=150)\n",
    "openbb.stocks.ca.hcorr_chart(\n",
    "    similar_companies,\n",
    "    external_axes=[\n",
    "        ax,\n",
    "    ],\n",
    ")\n",
    "fig.tight_layout()\n",
    "f = io.BytesIO()\n",
    "fig.savefig(f, format=\"svg\")\n",
    "hcorr_similar = f.getvalue().decode(\"utf-8\")"
   ]
  },
  {
   "cell_type": "code",
   "execution_count": null,
   "id": "936babfd",
   "metadata": {
    "papermill": {
     "duration": null,
     "end_time": null,
     "exception": null,
     "start_time": null,
     "status": "pending"
    },
    "tags": []
   },
   "outputs": [],
   "source": [
    "fig, ax = plt.subplots(figsize=(11, 5), dpi=150)\n",
    "openbb.stocks.ca.volume_chart(\n",
    "    similar_companies,\n",
    "    external_axes=[\n",
    "        ax,\n",
    "    ],\n",
    ")\n",
    "fig.tight_layout()\n",
    "f = io.BytesIO()\n",
    "fig.savefig(f, format=\"svg\")\n",
    "vol_similar = f.getvalue().decode(\"utf-8\")"
   ]
  },
  {
   "cell_type": "code",
   "execution_count": null,
   "id": "99388d4e",
   "metadata": {
    "papermill": {
     "duration": null,
     "end_time": null,
     "exception": null,
     "start_time": null,
     "status": "pending"
    },
    "tags": []
   },
   "outputs": [],
   "source": [
    "fig, ax = plt.subplots(figsize=(11, 5), dpi=150)\n",
    "openbb.stocks.ca.scorr_chart(\n",
    "    similar_companies,\n",
    "    external_axes=[\n",
    "        ax,\n",
    "    ],\n",
    ")\n",
    "fig.tight_layout()\n",
    "f = io.BytesIO()\n",
    "fig.savefig(f, format=\"svg\")\n",
    "scorr_similar = f.getvalue().decode(\"utf-8\")"
   ]
  },
  {
   "cell_type": "code",
   "execution_count": null,
   "id": "eaa67343",
   "metadata": {
    "papermill": {
     "duration": null,
     "end_time": null,
     "exception": null,
     "start_time": null,
     "status": "pending"
    },
    "tags": []
   },
   "outputs": [],
   "source": [
    "valuation_comparison = openbb.stocks.ca.screener(similar_companies, \"valuation\")\n",
    "valuation_comparison = valuation_comparison.drop(columns=['Change', 'Volume', 'Price', 'EPS next 5Y', 'PEG', 'Sales past 5Y'])\n",
    "valuation_comparison['Market Cap']=valuation_comparison['Market Cap'].apply(lambda x: \"${0:.0f} M\".format(x/1000000))\n",
    "\n",
    "valuation_comparison = valuation_comparison.style.format({\"EPS this Y\": \"${:,.2f}\", \"EPS next Y\": \"${:,.2f}\", \"EPS past 5Y\": \"${:,.2f}\", \n",
    "                                                          \"P/E\": \"{:,.2f}\", \"Fwd P/E\":\"{:,.2f}\", \"P/S\": \"{:,.2f}\" , \"P/B\": \"{:,.2f}\" , \n",
    "                                                          \"P/C\":\"{:,.2f}\", \"P/FCF\": \"{:,.2f}\"} \n",
    "                                                        )\n",
    "                                                      \n",
    "#valuation_comparison['EPS this Y']=valuation_comparison['EPS this Y'].apply(lambda x: \"${:,.2f}\".format(x))\n",
    "\n",
    "valuation_comparison"
   ]
  },
  {
   "cell_type": "code",
   "execution_count": null,
   "id": "5fe5bac1",
   "metadata": {},
   "outputs": [],
   "source": [
    "financial_comparison = openbb.stocks.ca.screener(similar_companies, \"financial\")\n",
    "financial_comparison = financial_comparison.drop(columns=['Change', 'Volume', 'Earnings', 'Price','Market Cap'])\n",
    "financial_comparison['Dividend']=financial_comparison['Dividend'].apply(lambda x: \"{0:.1f}%\".format(x*100))\n",
    "financial_comparison['ROA']=financial_comparison['ROA'].apply(lambda x: \"{0:.1f}%\".format(x*100))\n",
    "financial_comparison['ROE']=financial_comparison['ROE'].apply(lambda x: \"{0:.1f}%\".format(x*100))\n",
    "financial_comparison['ROI']=financial_comparison['ROI'].apply(lambda x: \"{0:.1f}%\".format(x*100))\n",
    "financial_comparison['Gross M']=financial_comparison['Gross M'].apply(lambda x: \"{0:.1f}%\".format(x*100))\n",
    "financial_comparison['Oper M']=financial_comparison['Oper M'].apply(lambda x: \"{0:.1f}%\".format(x*100))\n",
    "financial_comparison['Profit M']=financial_comparison['Profit M'].apply(lambda x: \"{0:.1f}%\".format(x*100))\n",
    "financial_comparison= financial_comparison.fillna(\"\")\n",
    "#financial_comparison = financial_comparison.rename(columns={'Gross M': 'Gross Margin', 'Oper M': 'Operating Margin', 'Profit M': 'Profit Margin'})\n",
    "financial_comparison"
   ]
  },
  {
   "cell_type": "code",
   "execution_count": null,
   "id": "ef1f867d",
   "metadata": {},
   "outputs": [],
   "source": [
    "ownership_comparison = openbb.stocks.ca.screener(similar_companies, \"ownership\")\n",
    "ownership_comparison = ownership_comparison.drop(columns=['Market Cap', 'Change', 'Volume', 'Avg Volume', 'Price'])\n",
    "ownership_comparison= ownership_comparison.fillna(\"\")\n",
    "ownership_comparison"
   ]
  },
  {
   "cell_type": "code",
   "execution_count": null,
   "id": "f7709d6c",
   "metadata": {},
   "outputs": [],
   "source": [
    "performance_comparison = openbb.stocks.ca.screener(similar_companies, \"performance\")\n",
    "performance_comparison = performance_comparison.drop(columns=['Rel Volume', 'Avg Volume', 'Price','Change','Volume'])\n",
    "performance_comparison['Perf Week']=performance_comparison['Perf Week'].apply(lambda x: \"{0:.1f}%\".format(x*100))\n",
    "performance_comparison['Perf Month']=performance_comparison['Perf Month'].apply(lambda x: \"{0:.1f}%\".format(x*100))\n",
    "performance_comparison['Perf Quart']=performance_comparison['Perf Quart'].apply(lambda x: \"{0:.1f}%\".format(x*100))\n",
    "performance_comparison['Perf Half']=performance_comparison['Perf Half'].apply(lambda x: \"{0:.1f}%\".format(x*100))\n",
    "performance_comparison['Perf Year']=performance_comparison['Perf Year'].apply(lambda x: \"{0:.1f}%\".format(x*100))\n",
    "performance_comparison['Perf YTD']=performance_comparison['Perf YTD'].apply(lambda x: \"{0:.1f}%\".format(x*100))\n",
    "performance_comparison= performance_comparison.fillna(\"\")\n",
    "performance_comparison"
   ]
  },
  {
   "cell_type": "code",
   "execution_count": null,
   "id": "5c0e286e",
   "metadata": {},
   "outputs": [],
   "source": [
    "fig, ax1 = plt.subplots(figsize=(11, 5), dpi=150)\n",
    "ax2 = ax1.twinx()\n",
    "openbb.stocks.dps.spos_chart(\n",
    "    symbol=symbol,\n",
    "    limit=84,\n",
    "    raw=False,\n",
    "    export=\"\",\n",
    "    external_axes=[ax1, ax2],\n",
    ")\n",
    "fig.tight_layout()\n",
    "\n",
    "f = io.BytesIO()\n",
    "fig.savefig(f, format=\"svg\")\n",
    "net_short_position = f.getvalue().decode(\"utf-8\")"
   ]
  },
  {
   "cell_type": "code",
   "execution_count": null,
   "id": "13ad71cf",
   "metadata": {
    "papermill": {
     "duration": null,
     "end_time": null,
     "exception": null,
     "start_time": null,
     "status": "pending"
    },
    "tags": []
   },
   "outputs": [],
   "source": [
    "try:\n",
    "    df_related_queries = openbb.stocks.ba.queries(symbol)\n",
    "    df_related_queries.index += 1\n",
    "    df_related_queries.index\n",
    "except:\n",
    "    pass"
   ]
  },
  {
   "cell_type": "code",
   "execution_count": null,
   "id": "58c06129",
   "metadata": {
    "papermill": {
     "duration": null,
     "end_time": null,
     "exception": null,
     "start_time": null,
     "status": "pending"
    },
    "tags": []
   },
   "outputs": [],
   "source": [
    "try:\n",
    "    df_rising_queries = openbb.stocks.ba.rise(symbol)\n",
    "    df_rising_queries.index += 1\n",
    "    df_rising_queries\n",
    "except:\n",
    "    pass"
   ]
  },
  {
   "cell_type": "code",
   "execution_count": null,
   "id": "0a467f1a",
   "metadata": {
    "papermill": {
     "duration": null,
     "end_time": null,
     "exception": null,
     "start_time": null,
     "status": "pending"
    },
    "tags": []
   },
   "outputs": [],
   "source": [
    "fig, ax = plt.subplots(figsize=(11, 3), dpi=150)\n",
    "openbb.stocks.gov.histcont_chart(\n",
    "    symbol,\n",
    "    external_axes=[\n",
    "        ax,\n",
    "    ],\n",
    ")\n",
    "fig.tight_layout()\n",
    "f = io.BytesIO()\n",
    "fig.savefig(f, format=\"svg\")\n",
    "gov_histcont_chart = f.getvalue().decode(\"utf-8\")"
   ]
  },
  {
   "cell_type": "code",
   "execution_count": null,
   "id": "730cae26",
   "metadata": {
    "papermill": {
     "duration": null,
     "end_time": null,
     "exception": null,
     "start_time": null,
     "status": "pending"
    },
    "tags": []
   },
   "outputs": [],
   "source": [
    "df_lobbying = openbb.stocks.gov.lobbying(symbol, limit=5)\n",
    "df_lobbying"
   ]
  },
  {
   "cell_type": "code",
   "execution_count": null,
   "id": "d8bb53c1-147e-4342-af61-0d0a9cc56e59",
   "metadata": {
    "papermill": {
     "duration": null,
     "end_time": null,
     "exception": null,
     "start_time": null,
     "status": "pending"
    },
    "tags": []
   },
   "outputs": [],
   "source": [
    "fig, (ax1, ax2) = plt.subplots(nrows=2, ncols=1, figsize=(11, 5), dpi=150)\n",
    "ax3 = ax1.twinx()\n",
    "openbb.stocks.dps.psi_sg_chart(\n",
    "    symbol=symbol,\n",
    "    external_axes=[ax1, ax2, ax3],\n",
    ")\n",
    "fig.tight_layout()\n",
    "\n",
    "f = io.BytesIO()\n",
    "fig.savefig(f, format=\"svg\")\n",
    "price_vs_short_interest = f.getvalue().decode(\"utf-8\")"
   ]
  },
  {
   "cell_type": "code",
   "execution_count": null,
   "id": "394668e1-1158-4a2b-8a38-04c72a6abdd6",
   "metadata": {
    "papermill": {
     "duration": null,
     "end_time": null,
     "exception": null,
     "start_time": null,
     "status": "pending"
    },
    "tags": []
   },
   "outputs": [],
   "source": [
    "fig, (candles, volume) = plt.subplots(nrows=2, ncols=1, figsize=(11, 5), dpi=150)\n",
    "openbb.stocks.candle(\n",
    "    symbol=symbol,\n",
    "    data=ticker_data,\n",
    "    use_matplotlib=True,\n",
    "    external_axes=[candles, volume],\n",
    ")\n",
    "candles.set_xticklabels(\"\")\n",
    "fig.tight_layout()\n",
    "\n",
    "f = io.BytesIO()\n",
    "fig.savefig(f, format=\"svg\")\n",
    "price_chart = f.getvalue().decode(\"utf-8\")"
   ]
  },
  {
   "cell_type": "code",
   "execution_count": null,
   "id": "900686a3",
   "metadata": {
    "papermill": {
     "duration": null,
     "end_time": null,
     "exception": null,
     "start_time": null,
     "status": "pending"
    },
    "tags": []
   },
   "outputs": [],
   "source": [
    "fig, ax = plt.subplots(figsize=(11, 3), dpi=150)\n",
    "openbb.stocks.dd.pt_chart(\n",
    "    symbol=symbol,\n",
    "    start_date=\"2022-01-01\",\n",
    "    data=ticker_data,\n",
    "    limit=10,\n",
    "    raw=False,\n",
    "    external_axes=[ax],\n",
    ")\n",
    "fig.tight_layout()\n",
    "f = io.BytesIO()\n",
    "fig.savefig(f, format=\"svg\")\n",
    "price_target_chart = f.getvalue().decode(\"utf-8\")"
   ]
  },
  {
   "cell_type": "code",
   "execution_count": null,
   "id": "61d62e1a-199e-481d-b57d-38ab486951be",
   "metadata": {
    "papermill": {
     "duration": null,
     "end_time": null,
     "exception": null,
     "start_time": null,
     "status": "pending"
    },
    "tags": []
   },
   "outputs": [],
   "source": [
    "df = openbb.stocks.dd.pt(symbol=symbol)\n",
    "avg_ratings_last_30_days = 0\n",
    "days = 0\n",
    "if not df.empty:\n",
    "    df_ratings = df[datetime.datetime.now() - datetime.timedelta(days=days) :]\n",
    "    while df_ratings.empty:\n",
    "        days += 30\n",
    "        df_ratings = df[datetime.datetime.now() - datetime.timedelta(days=days) :]\n",
    "\n",
    "        if days > 100:\n",
    "            break\n",
    "\n",
    "    if not df_ratings.empty:\n",
    "        avg_ratings_last_30_days = round(np.mean(df_ratings[\"Price Target\"].values), 2)\n",
    "    else:\n",
    "        avg_ratings = 0\n",
    "\n",
    "last_price = round(ticker_data[\"Close\"][-1], 2)"
   ]
  },
  {
   "cell_type": "code",
   "execution_count": null,
   "id": "f3733ff2",
   "metadata": {
    "papermill": {
     "duration": null,
     "end_time": null,
     "exception": null,
     "start_time": null,
     "status": "pending"
    },
    "tags": []
   },
   "outputs": [],
   "source": [
    "fig, ax = plt.subplots(figsize=(11, 3), dpi=150)\n",
    "openbb.stocks.dd.rot_chart(\n",
    "    symbol=symbol,\n",
    "    limit=10,\n",
    "    raw=False,\n",
    "    export=\"\",\n",
    "    external_axes=[ax],\n",
    ")\n",
    "fig.tight_layout()\n",
    "f = io.BytesIO()\n",
    "fig.savefig(f, format=\"svg\")\n",
    "ratings_over_time_chart = f.getvalue().decode(\"utf-8\")"
   ]
  },
  {
   "cell_type": "code",
   "execution_count": null,
   "id": "924f8042-e58a-449c-91a3-7923158ff714",
   "metadata": {
    "papermill": {
     "duration": null,
     "end_time": null,
     "exception": null,
     "start_time": null,
     "status": "pending"
    },
    "tags": []
   },
   "outputs": [],
   "source": [
    "fig, (ax1, ax2) = plt.subplots(nrows=2, ncols=1, figsize=(11, 3), dpi=150)\n",
    "openbb.ta.rsi_chart(ticker_data[\"Close\"], external_axes=[ax1, ax2])\n",
    "fig.tight_layout()\n",
    "f = io.BytesIO()\n",
    "fig.savefig(f, format=\"svg\")\n",
    "ta_rsi = f.getvalue().decode(\"utf-8\")"
   ]
  },
  {
   "cell_type": "code",
   "execution_count": null,
   "id": "953a340e-7ea1-4aa3-ae1d-872683dced41",
   "metadata": {
    "papermill": {
     "duration": null,
     "end_time": null,
     "exception": null,
     "start_time": null,
     "status": "pending"
    },
    "tags": []
   },
   "outputs": [],
   "source": [
    "df = openbb.ta.rsi(ticker_data[\"Close\"])\n",
    "rsi_value = round(df.values[-1][0], 2)\n",
    "rsi_value"
   ]
  },
  {
   "cell_type": "code",
   "execution_count": null,
   "id": "dce71711-20b3-4c69-af52-e0f9a69991f8",
   "metadata": {
    "papermill": {
     "duration": null,
     "end_time": null,
     "exception": null,
     "start_time": null,
     "status": "pending"
    },
    "tags": []
   },
   "outputs": [],
   "source": [
    "from sklearn.linear_model import LinearRegression\n",
    "\n",
    "model = LinearRegression().fit(\n",
    "    np.array(range(len(ticker_data[\"Close\"][-30:].index))).reshape(-1, 1),\n",
    "    ticker_data[\"Close\"][-30:].values,\n",
    ")\n",
    "regression_slope = round(model.coef_[0], 2)"
   ]
  },
  {
   "cell_type": "code",
   "execution_count": null,
   "id": "6272e34b-9511-4b48-9eea-ea882ce9846a",
   "metadata": {
    "papermill": {
     "duration": null,
     "end_time": null,
     "exception": null,
     "start_time": null,
     "status": "pending"
    },
    "tags": []
   },
   "outputs": [],
   "source": [
    "import pandas as pd\n",
    "\n",
    "df_insider = pd.DataFrame.from_dict(openbb.stocks.ins.lins(symbol=symbol)).head(10)\n",
    "if (df_insider.empty):\n",
    "    print(\"empty\")\n",
    "    last_10_insider_trading = 0\n",
    "else:\n",
    "    df_insider[\"Val ($)\"] = df_insider[\"Value ($)\"].replace({\",\": \"\"}, regex=True)\n",
    "    df_insider[\"Trade\"] = df_insider.apply(\n",
    "        lambda row: (-1 * float(row[\"Val ($)\"]))\n",
    "        if row[\"Transaction\"] == \"Sale\"\n",
    "        else (float(row[\"Val ($)\"]) if row[\"Transaction\"] == \"Buy\" else 0),\n",
    "        axis=1,\n",
    "    )\n",
    "    last_10_insider_trading = round(sum(df_insider[\"Trade\"]) / 1_000_000, 2)\n",
    "    df_insider = df_insider.drop(columns=[\"Val ($)\", \"Trade\"])\n",
    "    df_insider"
   ]
  },
  {
   "cell_type": "code",
   "execution_count": null,
   "id": "29254666-58c6-4686-87e6-2635ad8387e2",
   "metadata": {
    "papermill": {
     "duration": null,
     "end_time": null,
     "exception": null,
     "start_time": null,
     "status": "pending"
    },
    "tags": []
   },
   "outputs": [],
   "source": [
    "fig, ax = plt.subplots(figsize=(11, 3), dpi=150)\n",
    "openbb.stocks.ba.headlines_chart(symbol=symbol, external_axes=[ax])\n",
    "fig.tight_layout()\n",
    "f = io.BytesIO()\n",
    "fig.savefig(f, format=\"svg\")\n",
    "finbrain_sentiment = f.getvalue().decode(\"utf-8\")"
   ]
  },
  {
   "cell_type": "code",
   "execution_count": null,
   "id": "b8251b47-8ecc-47be-83f3-d9f108596898",
   "metadata": {
    "papermill": {
     "duration": null,
     "end_time": null,
     "exception": null,
     "start_time": null,
     "status": "pending"
    },
    "tags": []
   },
   "outputs": [],
   "source": [
    "df_sentiment_finbrain = openbb.stocks.ca.sentiment(symbols=[symbol])\n",
    "# comment out\n",
    "#finbrain_sentiment_val = float(df_sentiment_finbrain.values[-1][0])\n",
    "finbrain_sentiment_val = 0"
   ]
  },
  {
   "cell_type": "code",
   "execution_count": null,
   "id": "6fe6e513-d568-41b4-8aa0-37cc578c9dc3",
   "metadata": {
    "papermill": {
     "duration": null,
     "end_time": null,
     "exception": null,
     "start_time": null,
     "status": "pending"
    },
    "tags": []
   },
   "outputs": [],
   "source": [
    "(\n",
    "    watchlist_count,\n",
    "    n_cases,\n",
    "    n_bull,\n",
    "    n_bear,\n",
    ") = openbb.stocks.ba.bullbear(symbol=symbol)\n",
    "stocktwits_sentiment = f\"Watchlist count: {watchlist_count}</br>\"\n",
    "if n_cases > 0:\n",
    "    stocktwits_sentiment += f\"\\nLast {n_cases} sentiment messages:</br>\"\n",
    "    stocktwits_sentiment += f\"Bullish {round(100*n_bull/n_cases, 2)}%</br>\"\n",
    "    stocktwits_sentiment += f\"Bearish {round(100*n_bear/n_cases, 2)}%\"\n",
    "else:\n",
    "    stocktwits_sentiment += \"No messages found\"\n",
    "stocktwits_sentiment"
   ]
  },
  {
   "cell_type": "code",
   "execution_count": null,
   "id": "bfb75909-b877-4b3a-82a7-21ce174a7bb4",
   "metadata": {
    "papermill": {
     "duration": null,
     "end_time": null,
     "exception": null,
     "start_time": null,
     "status": "pending"
    },
    "tags": []
   },
   "outputs": [],
   "source": [
    "fig, (ax1, ax2) = plt.subplots(nrows=2, ncols=1, figsize=(11, 5), dpi=150)\n",
    "openbb.stocks.ba.snews_chart(symbol, external_axes=[ax1, ax2])\n",
    "fig.tight_layout()\n",
    "f = io.BytesIO()\n",
    "fig.savefig(f, format=\"svg\")\n",
    "snews = f.getvalue().decode(\"utf-8\")"
   ]
  },
  {
   "cell_type": "code",
   "execution_count": null,
   "id": "329c9e1b-e1de-4836-91fd-656cc87f7111",
   "metadata": {
    "papermill": {
     "duration": null,
     "end_time": null,
     "exception": null,
     "start_time": null,
     "status": "pending"
    },
    "tags": []
   },
   "outputs": [],
   "source": [
    "ticker_data_all = openbb.stocks.load(\n",
    "    symbol=symbol,\n",
    "    start_date=datetime.datetime.now() - datetime.timedelta(days=5 * 12 * 21),\n",
    ")\n",
    "ticker_data_all[\"Returns\"] = ticker_data_all[\"Adj Close\"].pct_change()"
   ]
  },
  {
   "cell_type": "code",
   "execution_count": null,
   "id": "37743ef3-2f16-4166-bfcc-a0fe3eb959bc",
   "metadata": {
    "papermill": {
     "duration": null,
     "end_time": null,
     "exception": null,
     "start_time": null,
     "status": "pending"
    },
    "tags": []
   },
   "outputs": [],
   "source": [
    "fig, ax = plt.subplots(figsize=(11, 3), dpi=150)\n",
    "openbb.qa.bw(\n",
    "    ticker_data_all,\n",
    "    \"Returns\",\n",
    "    symbol,\n",
    "    yearly=False,\n",
    "    external_axes=[ax],\n",
    ")\n",
    "fig.tight_layout()\n",
    "f = io.BytesIO()\n",
    "fig.savefig(f, format=\"svg\")\n",
    "bw_month = f.getvalue().decode(\"utf-8\")"
   ]
  },
  {
   "cell_type": "code",
   "execution_count": null,
   "id": "16b33868-23dc-4c77-ac00-acb452da386c",
   "metadata": {
    "papermill": {
     "duration": null,
     "end_time": null,
     "exception": null,
     "start_time": null,
     "status": "pending"
    },
    "tags": []
   },
   "outputs": [],
   "source": [
    "fig, ax = plt.subplots(figsize=(11, 3), dpi=150)\n",
    "openbb.qa.bw(\n",
    "    ticker_data_all,\n",
    "    \"Returns\",\n",
    "    symbol,\n",
    "    yearly=True,\n",
    "    external_axes=[ax],\n",
    ")\n",
    "fig.tight_layout()\n",
    "f = io.BytesIO()\n",
    "fig.savefig(f, format=\"svg\")\n",
    "bw_year = f.getvalue().decode(\"utf-8\")"
   ]
  },
  {
   "cell_type": "code",
   "execution_count": null,
   "id": "28ce0827",
   "metadata": {
    "papermill": {
     "duration": null,
     "end_time": null,
     "exception": null,
     "start_time": null,
     "status": "pending"
    },
    "tags": []
   },
   "outputs": [],
   "source": [
    "income_df = openbb.stocks.fa.income(symbol, source=\"YahooFinance\")\n",
    "income_df = income_df/1000000\n",
    "income_df = income_df.applymap(\"${0:.0f}M\".format)\n",
    "\n",
    "mgmt_df = openbb.stocks.fa.mgmt(symbol)\n",
    "if (mgmt_df.empty):\n",
    "    print (\"empty\")\n",
    "else:\n",
    "    mgmt_df[\"Info\"] = mgmt_df[\"Info\"].apply(lambda x: f'<a href=\"{x}\">{x}</a>')\n",
    "    mgmt_df[\"Insider Activity\"] = mgmt_df[\"Insider Activity\"].apply(\n",
    "        lambda x: f'<a href=\"{x}\">{x}</a>' if x != \"-\" else x\n",
    "    )\n",
    "try:\n",
    "    hist_dcf = openbb.stocks.fa.dcf(symbol)\n",
    "except:\n",
    "    pass\n",
    "enterprise_df = openbb.stocks.fa.enterprise(symbol)\n",
    "score = openbb.stocks.fa.score(symbol)\n",
    "if score:\n",
    "    score = round(float(score), 2)"
   ]
  },
  {
   "cell_type": "code",
   "execution_count": null,
   "id": "a459af49",
   "metadata": {},
   "outputs": [],
   "source": [
    "hist_ratios = openbb.stocks.fa.ratios(symbol)\n",
    "hist_ratios"
   ]
  },
  {
   "cell_type": "code",
   "execution_count": null,
   "id": "42e289ab",
   "metadata": {
    "papermill": {
     "duration": null,
     "end_time": null,
     "exception": null,
     "start_time": null,
     "status": "pending"
    },
    "tags": []
   },
   "outputs": [],
   "source": [
    "fig, (ax1, ax2, ax3) = plt.subplots(\n",
    "    nrows=3, ncols=1, figsize=(11, 8), sharex=True, dpi=150\n",
    ")\n",
    "openbb.ta.ma(ticker_data[\"Close\"], symbol=symbol, external_axes=[ax1])\n",
    "openbb.ta.ma(ticker_data[\"Close\"], symbol=symbol, ma_type=\"SMA\", external_axes=[ax2])\n",
    "openbb.ta.ma(ticker_data[\"Close\"], symbol=symbol, ma_type=\"WMA\", external_axes=[ax3])\n",
    "fig.tight_layout()\n",
    "f = io.BytesIO()\n",
    "fig.savefig(f, format=\"svg\")\n",
    "ma_chart = f.getvalue().decode(\"utf-8\")"
   ]
  },
  {
   "cell_type": "code",
   "execution_count": null,
   "id": "e8846a6f",
   "metadata": {
    "papermill": {
     "duration": null,
     "end_time": null,
     "exception": null,
     "start_time": null,
     "status": "pending"
    },
    "tags": []
   },
   "outputs": [],
   "source": [
    "fig, (ax, ax1) = plt.subplots(nrows=2, ncols=1, figsize=(11, 5), sharex=True, dpi=150)\n",
    "openbb.ta.macd_chart(ticker_data[\"Close\"], symbol=symbol, external_axes=[ax, ax1])\n",
    "fig.tight_layout()\n",
    "f = io.BytesIO()\n",
    "fig.savefig(f, format=\"svg\")\n",
    "macd_chart = f.getvalue().decode(\"utf-8\")"
   ]
  },
  {
   "cell_type": "code",
   "execution_count": null,
   "id": "48a7a427",
   "metadata": {
    "papermill": {
     "duration": null,
     "end_time": null,
     "exception": null,
     "start_time": null,
     "status": "pending"
    },
    "tags": []
   },
   "outputs": [],
   "source": [
    "fig, (ax, ax1) = plt.subplots(nrows=2, ncols=1, figsize=(11, 5), sharex=True, dpi=150)\n",
    "openbb.ta.cci_chart(ticker_data, symbol=symbol, external_axes=[ax, ax1])\n",
    "fig.tight_layout()\n",
    "f = io.BytesIO()\n",
    "fig.savefig(f, format=\"svg\")\n",
    "cci_chart = f.getvalue().decode(\"utf-8\")"
   ]
  },
  {
   "cell_type": "code",
   "execution_count": null,
   "id": "6a1bd2c6",
   "metadata": {
    "papermill": {
     "duration": null,
     "end_time": null,
     "exception": null,
     "start_time": null,
     "status": "pending"
    },
    "tags": []
   },
   "outputs": [],
   "source": [
    "fig, (ax, ax1) = plt.subplots(nrows=2, ncols=1, figsize=(11, 5), dpi=150)\n",
    "ax2 = ax1.twinx()\n",
    "openbb.ta.stoch_chart(ticker_data, symbol=symbol, external_axes=[ax, ax1, ax2])\n",
    "fig.tight_layout()\n",
    "f = io.BytesIO()\n",
    "fig.savefig(f, format=\"svg\")\n",
    "stoch_chart = f.getvalue().decode(\"utf-8\")"
   ]
  },
  {
   "cell_type": "code",
   "execution_count": null,
   "id": "2611d3c6",
   "metadata": {
    "papermill": {
     "duration": null,
     "end_time": null,
     "exception": null,
     "start_time": null,
     "status": "pending"
    },
    "tags": []
   },
   "outputs": [],
   "source": [
    "fig, (ax, ax1) = plt.subplots(2, 1, sharex=True, figsize=(11, 5), dpi=150)\n",
    "openbb.ta.adx_chart(ticker_data, symbol=symbol, external_axes=[ax, ax1])\n",
    "fig.tight_layout()\n",
    "f = io.BytesIO()\n",
    "fig.savefig(f, format=\"svg\")\n",
    "adx_chart = f.getvalue().decode(\"utf-8\")"
   ]
  },
  {
   "cell_type": "code",
   "execution_count": null,
   "id": "6ecb6e17",
   "metadata": {
    "papermill": {
     "duration": null,
     "end_time": null,
     "exception": null,
     "start_time": null,
     "status": "pending"
    },
    "tags": []
   },
   "outputs": [],
   "source": [
    "fig, ax = plt.subplots(figsize=(11, 3), dpi=150)\n",
    "openbb.ta.bbands_chart(ticker_data, symbol=symbol, external_axes=[ax])\n",
    "fig.tight_layout()\n",
    "f = io.BytesIO()\n",
    "fig.savefig(f, format=\"svg\")\n",
    "bbands_chart = f.getvalue().decode(\"utf-8\")"
   ]
  },
  {
   "cell_type": "code",
   "execution_count": null,
   "id": "07e42fdb",
   "metadata": {
    "papermill": {
     "duration": null,
     "end_time": null,
     "exception": null,
     "start_time": null,
     "status": "pending"
    },
    "tags": []
   },
   "outputs": [],
   "source": [
    "fig, (ax, ax1, ax2) = plt.subplots(3, 1, sharex=True, figsize=(11, 8), dpi=150)\n",
    "openbb.ta.ad_chart(ticker_data, symbol=symbol, external_axes=[ax, ax1, ax2])\n",
    "fig.tight_layout()\n",
    "f = io.BytesIO()\n",
    "fig.savefig(f, format=\"svg\")\n",
    "ad_chart = f.getvalue().decode(\"utf-8\")"
   ]
  },
  {
   "cell_type": "markdown",
   "id": "ac501a32-124d-4d21-aae1-a8d147bb1071",
   "metadata": {
    "papermill": {
     "duration": null,
     "end_time": null,
     "exception": null,
     "start_time": null,
     "status": "pending"
    },
    "tags": []
   },
   "source": [
    "## Render the report template to a file"
   ]
  },
  {
   "cell_type": "code",
   "execution_count": null,
   "id": "dfa707d1",
   "metadata": {},
   "outputs": [],
   "source": [
    "body =\"\"\n",
    "    \n",
    "img = (\n",
    "    str(REPOSITORY_DIRECTORY)\n",
    "    + \"/openbb_terminal/reports/templates/OpenBB_reports_logo.png\"\n",
    ")\n",
    "floppy_disk_img = (\n",
    "    str(REPOSITORY_DIRECTORY) + \"/openbb_terminal/reports/templates/floppy-disc.png\"\n",
    ")\n",
    "\n",
    "htmlcode = f\"\"\"\n",
    "<div class=\"hcontainer\">\n",
    "    <div class=\"item\">\n",
    "        <!-- TradingView Widget BEGIN -->\n",
    "            <div class=\"tradingview-widget-container\">\n",
    "                <div class=\"tradingview-widget-container__widget\"></div>\n",
    "                <div class=\"tradingview-widget-copyright\"><a href=\"https://www.tradingview.com/symbols/NYSE-{symbol}/\" rel=\"noopener\" target=\"_blank\"><span class=\"blue-text\">AR key facts</span></a> by TradingView</div>\n",
    "                <script type=\"text/javascript\" src=\"https://s3.tradingview.com/external-embedding/embed-widget-symbol-profile.js\" async>\n",
    "                {{\n",
    "                \"width\": \"1085\",\n",
    "                \"height\": \"500\",\n",
    "                \"colorTheme\": \"light\",\n",
    "                \"isTransparent\": false,\n",
    "                \"symbol\": \"{exchange}:{symbol}\",\n",
    "                \"locale\": \"en\"\n",
    "                }}\n",
    "                </script>\n",
    "            </div>\n",
    "        <!-- TradingView Widget END -->\n",
    "    </div>\n",
    "</div>\n",
    "\"\"\"\n",
    "\n",
    "if (investor_report_url): \n",
    "    htmlcode += widgets.row([widgets.h(3, \"Investor Presentation for \" + symbol)])\n",
    "    htmlcode += f\"\"\"\n",
    "        <div class=\"hcontainer\">\n",
    "            <div class=\"item\">\n",
    "                <iframe src=\"{investor_report_url}\" width=\"1085\" height=\"700\"></iframe>\n",
    "            </div>\n",
    "        </div>\n",
    "            \"\"\"\n",
    "\n",
    "            \n",
    "body += widgets.add_tab(\"Summary\", htmlcode, False)\n",
    "\n",
    "htmlcode = f\"\"\"\n",
    "<div class=\"hcontainer\">\n",
    "    <div class=\"item\">\n",
    "        <!-- TradingView Widget BEGIN -->\n",
    "        <div class=\"tradingview-widget-container\">\n",
    "        <div id=\"tradingview_fceac\"></div>\n",
    "        <div class=\"tradingview-widget-copyright\"><a href=\"https://www.tradingview.com/symbols/{exchange}-{symbol}/\" rel=\"noopener\" target=\"_blank\"><span class=\"blue-text\">AR stock price</span></a> by TradingView</div>\n",
    "        <script type=\"text/javascript\" src=\"https://s3.tradingview.com/tv.js\"></script>\n",
    "        <script type=\"text/javascript\">\n",
    "        new TradingView.MediumWidget(\n",
    "            {{\n",
    "            \"symbols\": [\n",
    "                [\n",
    "                \"{long_name}\",\n",
    "                \"{exchange}:{symbol}|1D\"\n",
    "                ]\n",
    "            ],\n",
    "            \"chartOnly\": false,\n",
    "            \"width\": \"1085\",\n",
    "            \"height\": \"700\",\n",
    "            \"locale\": \"en\",\n",
    "            \"colorTheme\": \"light\",\n",
    "            \"autosize\": false,\n",
    "            \"showVolume\": false,\n",
    "            \"hideDateRanges\": false,\n",
    "            \"hideMarketStatus\": false,\n",
    "            \"scalePosition\": \"right\",\n",
    "            \"scaleMode\": \"Normal\",\n",
    "            \"fontFamily\": \"-apple-system, BlinkMacSystemFont, Trebuchet MS, Roboto, Ubuntu, sans-serif\",\n",
    "            \"fontSize\": \"10\",\n",
    "            \"noTimeScale\": false,\n",
    "            \"valuesTracking\": \"1\",\n",
    "            \"chartType\": \"line\",\n",
    "            \"container_id\": \"tradingview_fceac\"\n",
    "            }}\n",
    "        );\n",
    "        </script>\n",
    "        </div>\n",
    "        <!-- TradingView Widget END -->\n",
    "    </div>\n",
    "</div>\n",
    "\"\"\"\n",
    "\n",
    "body += widgets.add_tab(\"Overview\", htmlcode, False)\n",
    "\n",
    "htmlcode = widgets.row([widgets.h(3, \"Latest News for \" + symbol)])\n",
    "try:\n",
    "    for table in tables:\n",
    "        htmlcode += widgets.row(\n",
    "            [widgets.h(4, table[1][\"title\"]) + table[0].to_html(escape=False)]\n",
    "        )\n",
    "except:\n",
    "    pass\n",
    "\n",
    "htmlcode += widgets.row([widgets.h(3, \"Twitter News for \" + symbol )])\n",
    "\n",
    "htmlcode += \"\"\"\n",
    "<div class=\"hcontainer\">\n",
    "    <div class=\"item\">\n",
    "        <div class=\"tweet-list\">\n",
    "            {% for tweet in tweets %}\n",
    "            <div class=\"tweet\">\n",
    "                <div class=\"tweet-header\">\n",
    "                    <img src=\"{{ tweet.user.profile_image_url }}\" alt=\"{{ tweet.user.name }}'s profile picture\">\n",
    "                    <h3>{{ tweet.user.name }}</h3>                   \n",
    "                </div>       \n",
    "                <div class=\"tweet-body\">\n",
    "                    <p>{{ tweet.full_text }}</p>\n",
    "                </div>   \n",
    "                {% if tweet.entities.media %}\n",
    "                    <div class=\"tweet-media\">\n",
    "                    {% for media in tweet.entities.media %}\n",
    "                        <img src=\"{{ media.media_url_https }}\" alt=\"Tweet media\">\n",
    "                    {% endfor %}\n",
    "                    </div>\n",
    "                {% endif %}\n",
    "                <div class=\"tweet-footer\">\n",
    "                    {% set date = tweet.created_at.strftime('%b %d, %Y at %I:%M %p') %}\n",
    "                    <p>{{ date }}</p>\n",
    "                    <a href=\"https://twitter.com/{{ tweet.user.screen_name }}/status/{{ tweet.id }}\" target=\"_blank\">View on Twitter</a>\n",
    "                </div>\n",
    "            </div>\n",
    "            {% endfor %}\n",
    "        </div>\n",
    "    </div>\n",
    "</div>\n",
    "        \"\"\"\n",
    "\n",
    "body += widgets.add_tab(\"News and Twitter\", htmlcode, False)\n",
    "\n",
    "if(morningstar_report_url):\n",
    "    htmlcode = widgets.row([widgets.h(3, \"Morningstar analysis \" + symbol)])\n",
    "    htmlcode += f\"\"\"\n",
    "            <div class=\"hcontainer\">\n",
    "                <div class=\"item\">\n",
    "                <iframe src=\"{morningstar_report_url}\" width=\"1085\" height=\"700\" allow=\"autoplay\"></iframe>\n",
    "                </div>\n",
    "            </div>\n",
    "                \"\"\"\n",
    "else:\n",
    "    htmlcode = widgets.row([widgets.h(3, \"Morningstar analysis not available \")])\n",
    "\n",
    "htmlcode += widgets.row([widgets.h(3, \"Price Target Chart\") + price_target_chart])\n",
    "htmlcode += widgets.row(\n",
    "    [widgets.h(3, \"Analyst Ratings over time\") + ratings_over_time_chart]\n",
    ")\n",
    "try:\n",
    "    htmlcode += widgets.row([widgets.h(3, \"Analyst Ratings\") + df_analyst.to_html()])\n",
    "except:\n",
    "    pass\n",
    "try:\n",
    "    htmlcode += widgets.row(\n",
    "        [widgets.h(3, \"Analyst Recommendations\") + df_rating.head(15).to_html()]\n",
    "    )\n",
    "except:\n",
    "    pass\n",
    "\n",
    "body += widgets.add_tab(\"Analyst Opinions\", htmlcode, False)\n",
    "\n",
    "htmlcode = f\"\"\"\n",
    "<div class=\"hcontainer\">\n",
    "        <div class=\"item\">\n",
    "        <!-- TradingView Widget BEGIN -->\n",
    "            <div class=\"tradingview-widget-container\">\n",
    "                <div class=\"tradingview-widget-container__widget\"></div>\n",
    "                <div class=\"tradingview-widget-copyright\"><a href=\"https://www.tradingview.com/symbols/{exchange}-{symbol}/financials-overview/\" rel=\"noopener\" target=\"_blank\"><span class=\"blue-text\">AR fundamentals</span></a> by TradingView</div>\n",
    "                <script type=\"text/javascript\" src=\"https://s3.tradingview.com/external-embedding/embed-widget-financials.js\" async>\n",
    "                {{\n",
    "                \"colorTheme\": \"light\",\n",
    "                \"isTransparent\": false,\n",
    "                \"largeChartUrl\": \"\",\n",
    "                \"displayMode\": \"regular\",\n",
    "                \"width\": \"1085\",\n",
    "                \"height\": \"800\",\n",
    "                \"symbol\": \"{exchange}:{symbol}\",\n",
    "                \"locale\": \"en\"\n",
    "                }}\n",
    "                </script>\n",
    "            </div>\n",
    "        <!-- TradingView Widget END -->\n",
    "    </div>\n",
    "</div>\n",
    "\"\"\"\n",
    "\n",
    "#try:\n",
    "#    htmlcode += widgets.row(\n",
    "#        [widgets.h(3, \"Shares outstanding \") + shares_outstanding_chart]\n",
    "#    )\n",
    "#except:\n",
    "#    pass\n",
    "\n",
    "try:\n",
    "    htmlcode += widgets.row(\n",
    "        [widgets.h(3, \"Estimates\") + df_year_estimates.head().to_html()]\n",
    "    )\n",
    "except:\n",
    "    pass\n",
    "\n",
    "htmlcode += widgets.row(\n",
    "    [widgets.h(3, \"Earnings\") + df_quarter_earnings.head().to_html()]\n",
    ")\n",
    "htmlcode += widgets.row(\n",
    "    [widgets.h(3, \"Revenues\") + df_quarter_revenues.head().to_html()]\n",
    ")\n",
    "try:\n",
    "    htmlcode += widgets.row(\n",
    "        [\n",
    "            widgets.h(3, \"Major Institutional Shareholders\")\n",
    "            + df_institutional_shareholders.head().to_html()\n",
    "        ]\n",
    "    )\n",
    "except:\n",
    "    pass\n",
    "try:\n",
    "    htmlcode += widgets.row(\n",
    "        [widgets.h(3, f\"Historical DCF for {symbol}\") + hist_dcf.to_html()]\n",
    "    )\n",
    "except:\n",
    "    pass\n",
    "htmlcode += widgets.row(\n",
    "    [widgets.h(3, f\"Enterprise data for {symbol}\") + enterprise_df.to_html()]\n",
    ")\n",
    "htmlcode += widgets.row(\n",
    "    [widgets.h(3, f\"Income Statement for {symbol}\") + income_df.to_html()]\n",
    ")\n",
    "try:\n",
    "    htmlcode += widgets.row([widgets.h(3, f\"Data for {symbol}\") + data_df.to_html()])\n",
    "except:\n",
    "    pass\n",
    "try:\n",
    "    htmlcode += widgets.row(\n",
    "        [widgets.h(3, \"SEC filings\") + df_sec_filings.to_html(escape=False)]\n",
    "    )\n",
    "except:\n",
    "    pass\n",
    "\n",
    "htmlcode += widgets.row([widgets.h(3, \"Ratios\") + hist_ratios.to_html(escape=False)])\n",
    "\n",
    "body += widgets.add_tab(\"Fundamental Analysis\", htmlcode, False)\n",
    "\n",
    "htmlcode = widgets.row([widgets.h(3, \"Put to call ratio\") + pcr_chart])\n",
    "#if not option_chain.empty:\n",
    "#    htmlcode += widgets.row(\n",
    "#        [widgets.h(3, \"Option Volume for closest expiry date\") + vol_chart]\n",
    "#    )\n",
    "#    htmlcode += widgets.row(\n",
    "#        [widgets.h(3, \"Volume and Open Interest for closest expiry date\") + voi_chart]\n",
    "#    )\n",
    "#try:\n",
    "#    htmlcode += widgets.row([widgets.h(3, \"Option Chains\") + options_df.to_html()])\n",
    "#except:\n",
    "#    pass\n",
    "body += widgets.add_tab(\"Options\", htmlcode, False)\n",
    "\n",
    "htmlcode = widgets.row([net_short_position])\n",
    "htmlcode += widgets.row([price_vs_short_interest])\n",
    "body += widgets.add_tab(\"Shorts\", htmlcode, False)\n",
    "\n",
    "htmlcode = widgets.row(\n",
    "    [widgets.h(3, \"Strong ROIC and Operating Margins are signal of presence of moat\")]\n",
    ")\n",
    "\n",
    "htmlcode = widgets.row(\n",
    "    [\n",
    "        widgets.h(3, f\"Return on invested capital for companies similar to {symbol}\")\n",
    "        + roic_chart\n",
    "    ]\n",
    ")\n",
    "\n",
    "htmlcode += widgets.row(\n",
    "    [\n",
    "        widgets.h(3, f\"Free Cash Flow Yield of companies similar to {symbol}\")\n",
    "        + fcf_yield_chart\n",
    "    ]\n",
    ")\n",
    "\n",
    "htmlcode += widgets.row(\n",
    "        [\n",
    "        widgets.h(3, f\"Payout ratio for companies similar to {symbol}\")\n",
    "        + payout_ratio_chart\n",
    "    ]\n",
    ")\n",
    "\n",
    "htmlcode += widgets.row(\n",
    "    [\n",
    "        widgets.h(3, f\"Price over the past year for companies similar to {symbol}\")\n",
    "        + historical_similar\n",
    "    ]\n",
    ")\n",
    "htmlcode += widgets.row(\n",
    "    [\n",
    "        widgets.h(3, f\"Price correlation with similar companies for {symbol}\")\n",
    "        + hcorr_similar\n",
    "    ]\n",
    ")\n",
    "htmlcode += widgets.row(\n",
    "    [\n",
    "        widgets.h(3, f\"Volume over the past year for companies similar to {symbol}\")\n",
    "        + vol_similar\n",
    "    ]\n",
    ")\n",
    "htmlcode += widgets.row(\n",
    "    [\n",
    "        widgets.h(3, f\"Sentiment correlation with similar companies for {symbol}\")\n",
    "        + scorr_similar\n",
    "    ]\n",
    ")\n",
    "\n",
    "try:\n",
    "    htmlcode += widgets.row([widgets.h(3, \"Valuation Comparison\") + valuation_comparison.to_html()])\n",
    "except:\n",
    "    pass\n",
    "\n",
    "try:\n",
    "    htmlcode += widgets.row([widgets.h(3, \"Financials Comparison\") + financial_comparison.to_html()])\n",
    "except:\n",
    "    pass\n",
    "\n",
    "try:\n",
    "    htmlcode += widgets.row([widgets.h(3, \"Ownership Comparison\") + ownership_comparison.to_html()])\n",
    "except:\n",
    "    pass\n",
    "\n",
    "try:\n",
    "    htmlcode += widgets.row([widgets.h(3, \"Performance Comparison\") + performance_comparison.to_html()])\n",
    "except:\n",
    "    pass\n",
    "\n",
    "htmlcode += widgets.row(\n",
    "    [\n",
    "        widgets.p(\n",
    "            \"Note that similar companies have been found using openbb.stocks.ca.similar\"\n",
    "        )\n",
    "    ]\n",
    ")\n",
    "body += widgets.add_tab(\"Comparison\", htmlcode, False)\n",
    "\n",
    "htmlcode = f\"\"\"\n",
    "<div class=\"hcontainer\">\n",
    "        <div class=\"item\">\n",
    "        <!-- TradingView Widget BEGIN -->\n",
    "            <div class=\"tradingview-widget-container\">\n",
    "                <div class=\"tradingview-widget-container__widget\"></div>\n",
    "                <div class=\"tradingview-widget-copyright\"><a href=\"https://www.tradingview.com/symbols/{exchange}-{symbol}/technicals/\" rel=\"noopener\" target=\"_blank\"><span class=\"blue-text\">AR stock analysis</span></a> by TradingView</div>\n",
    "                <script type=\"text/javascript\" src=\"https://s3.tradingview.com/external-embedding/embed-widget-technical-analysis.js\" async>\n",
    "                {{\n",
    "                \"interval\": \"1W\",\n",
    "                \"width\": \"1085\",\n",
    "                \"isTransparent\": false,\n",
    "                \"height\": \"700\",\n",
    "                \"symbol\": \"{exchange}:{symbol}\",\n",
    "                \"showIntervalTabs\": true,\n",
    "                \"locale\": \"en\",\n",
    "                \"colorTheme\": \"light\"\n",
    "                }}\n",
    "                </script>\n",
    "            </div>\n",
    "        <!-- TradingView Widget END -->\n",
    "    </div>\n",
    "</div>\n",
    "        \"\"\"\n",
    "\n",
    "htmlcode += widgets.row([widgets.h(3, f\"Moving Averages for {symbol}\") + ma_chart])\n",
    "htmlcode += widgets.row([macd_chart])\n",
    "htmlcode += widgets.row([ta_rsi])\n",
    "htmlcode += widgets.row([stoch_chart])\n",
    "htmlcode += widgets.row([cci_chart])\n",
    "htmlcode += widgets.row([ad_chart])\n",
    "htmlcode += widgets.row([bbands_chart])\n",
    "htmlcode += widgets.row([adx_chart])\n",
    "body += widgets.add_tab(\"Technical Analysis\", htmlcode, False)\n",
    "\n",
    "try:\n",
    "    htmlcode = widgets.row(\n",
    "        [widgets.h(3, \"Last Activity\") + df_insider.head(10).to_html(col_space=\"75px\")]\n",
    "    )\n",
    "except:\n",
    "    pass\n",
    "body += widgets.add_tab(\"Insider Trading\", htmlcode, False)\n",
    "\n",
    "htmlcode = widgets.row([bw_year])\n",
    "htmlcode += widgets.row([bw_month])\n",
    "body += widgets.add_tab(\"Quantitative Analysis\", htmlcode, False)\n",
    "\n",
    "\n",
    "htmlcode = widgets.row([finbrain_sentiment])\n",
    "htmlcode += widgets.row([snews])\n",
    "htmlcode += widgets.row(\n",
    "    [\n",
    "        widgets.h(3, \"Interest in \" + symbol + \" based on google analytics\")\n",
    "        + google_mentions_chart\n",
    "    ]\n",
    ")\n",
    "htmlcode += widgets.row(\n",
    "    [widgets.h(3, f\"Regions with highest interest in {symbol}\") + google_regions_chart]\n",
    ")\n",
    "try:\n",
    "    htmlcode += widgets.row(\n",
    "        [\n",
    "            widgets.h(3, f\"Top queries related to {symbol}\")\n",
    "            + df_related_queries.to_html()\n",
    "        ]\n",
    "    )\n",
    "    htmlcode += widgets.row(\n",
    "        [\n",
    "            widgets.h(3, f\"Top rising queries related to {symbol}\")\n",
    "            + df_rising_queries.to_html()\n",
    "        ]\n",
    "    )\n",
    "except:\n",
    "    pass\n",
    "htmlcode += widgets.row(\n",
    "    [widgets.h(3, f\"Stocktwits sentiment for {symbol}\") + stocktwits_sentiment]\n",
    ")\n",
    "body += widgets.add_tab(\"Behavioural Analysis\", htmlcode, False)\n",
    "\n",
    "htmlcode = \"\"\"\n",
    "    <iframe src=\"https://docs.google.com/spreadsheets/d/e/2PACX-1vTzYPt7GjAVk-NLvYrDo5OuxcDuaRFejqZ2iT_l2Y3nkKtAgwNO809hYnZhCIxc8XGQSDuGSfc8ZsAy/pubhtml?widget=true&amp;headers=false\" width=\"1085\" height=\"700\"></iframe>\n",
    "        \"\"\"\n",
    "\n",
    "body += widgets.add_tab(\"GSheets\", htmlcode, False)\n",
    "\n",
    "#This code snippet was extracted from OpenBB widget_helpers.py so that the html can be modified to work with the dashboard\n",
    "body += \"\"\"\n",
    "        <script>\n",
    "        function dmenu2(evt, menu_name) {\n",
    "            event.preventDefault();\n",
    "            var i, tabcontent, tablinks;\n",
    "            tabcontent = document.getElementsByClassName(\"tabcontent\");\n",
    "            for (i = 0; i < tabcontent.length; i++) {\n",
    "                tabcontent[i].style.display = \"none\";\n",
    "            }\n",
    "            tablinks = document.getElementsByClassName(\"tablinks\");\n",
    "            for (i = 0; i < tablinks.length; i++) {\n",
    "                tablinks[i].className = tablinks[i].className.replace(\" active bg-gradient-primary\", \"\");\n",
    "            }\n",
    "\n",
    "            document.getElementById(menu_name).style.display = \"block\";\n",
    "            evt.currentTarget.className += \" active bg-gradient-primary\";\n",
    "        }\n",
    "        window.onload = function() {\n",
    "            dmenu2(event, 'Summary');\n",
    "        };\n",
    "        </script>\"\"\"\n",
    "\n",
    "f = open(\"public/templates/report.j2\", \"r\")\n",
    "template = Template(f.read())\n",
    "report= template.render(title=report_name, stylesheet=stylesheet, body=body + \"</html>\")\n",
    "\n",
    "# to save the results\n",
    "with open(\"public/templates/\" + report_name + \".html\", \"w\", encoding=\"utf-8\") as fh:\n",
    "    fh.write(report)\n",
    "\n",
    "dotenv.load_dotenv(USER_ENV_FILE)\n",
    "cfg.theme = TerminalStyle(\n",
    "    os.getenv(\"OPENBB_MPLSTYLE\") or \"dark\",\n",
    "    os.getenv(\"OPENBB_MPFSTYLE\") or \"dark\",\n",
    "    os.getenv(\"OPENBB_RICHSTYLE\") or \"dark\",\n",
    ")"
   ]
  }
 ],
 "metadata": {
  "celltoolbar": "Tags",
  "kernelspec": {
   "display_name": "Python 3 (ipykernel)",
   "language": "python",
   "name": "python3"
  },
  "language_info": {
   "codemirror_mode": {
    "name": "ipython",
    "version": 3
   },
   "file_extension": ".py",
   "mimetype": "text/x-python",
   "name": "python",
   "nbconvert_exporter": "python",
   "pygments_lexer": "ipython3",
   "version": "3.9.13"
  },
  "papermill": {
   "default_parameters": {},
   "duration": 24.496183,
   "end_time": "2022-11-29T20:41:14.531863",
   "environment_variables": {},
   "exception": true,
   "input_path": "C:\\Users\\derek\\OpenBB\\openbb_terminal\\reports\\templates\\equity.ipynb",
   "output_path": "C:\\Users\\derek\\OpenBBUserData\\reports\\20221129_154049_equity_ENB.ipynb",
   "parameters": {
    "report_name": "C:\\Users\\derek\\OpenBBUserData\\reports\\20221129_154049_equity_ENB",
    "symbol": "ENB"
   },
   "start_time": "2022-11-29T20:40:50.035680",
   "version": "2.4.0"
  },
  "vscode": {
   "interpreter": {
    "hash": "fe4a9ed0f54de3f1a821bf00c983ee525ff8041b8fbbb35915e44dbdc77407ac"
   }
  }
 },
 "nbformat": 4,
 "nbformat_minor": 5
}
