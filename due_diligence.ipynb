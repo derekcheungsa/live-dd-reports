{
 "cells": [
  {
   "cell_type": "markdown",
   "id": "70ba2c8a",
   "metadata": {
    "papermill": {
     "duration": 0.021003,
     "end_time": "2022-11-29T20:41:03.909234",
     "exception": false,
     "start_time": "2022-11-29T20:41:03.888231",
     "status": "completed"
    },
    "tags": []
   },
   "source": [
    "## Notebook setup"
   ]
  },
  {
   "cell_type": "code",
   "execution_count": 141,
   "id": "driven-billion",
   "metadata": {
    "execution": {
     "iopub.execute_input": "2022-11-29T20:41:03.955234Z",
     "iopub.status.busy": "2022-11-29T20:41:03.953235Z",
     "iopub.status.idle": "2022-11-29T20:41:04.561239Z",
     "shell.execute_reply": "2022-11-29T20:41:04.560270Z"
    },
    "papermill": {
     "duration": 0.632995,
     "end_time": "2022-11-29T20:41:04.565231",
     "exception": false,
     "start_time": "2022-11-29T20:41:03.932236",
     "status": "completed"
    },
    "tags": []
   },
   "outputs": [],
   "source": [
    "import os\n",
    "import io\n",
    "import warnings\n",
    "import datetime\n",
    "import numpy as np\n",
    "import base64\n",
    "import dotenv\n",
    "\n",
    "import matplotlib.pyplot as plt\n",
    "import matplotlib_inline.backend_inline\n",
    "\n",
    "from IPython.display import HTML\n",
    "\n",
    "from openbb_terminal.reports import widget_helpers as widgets\n",
    "from openbb_terminal.sdk import openbb\n",
    "from openbb_terminal import config_terminal as cfg\n",
    "from openbb_terminal.helper_classes import TerminalStyle\n",
    "from openbb_terminal.core.config.paths import USER_ENV_FILE, REPOSITORY_DIRECTORY\n",
    "import yfinance as yf\n",
    "import pandas as pd\n",
    "\n",
    "from jinja2 import Template\n",
    "\n",
    "%matplotlib inline\n",
    "matplotlib_inline.backend_inline.set_matplotlib_formats(\"svg\")\n",
    "warnings.filterwarnings(\"ignore\")\n",
    "\n",
    "# Detect if prediction capabilities are present. If they are not, disable prediction in the rest of the script\n",
    "# so that the report can still be generated without prediction results.\n",
    "# predictions = True\n",
    "# try:\n",
    "#     openbb.stocks.pred.models\n",
    "# except Exception as e:\n",
    "#     predictions = False\n",
    "\n",
    "# TODO Fix predictions virtual path on api refactored\n",
    "\n",
    "predictions = False"
   ]
  },
  {
   "cell_type": "code",
   "execution_count": 142,
   "id": "c3fe7db5-ec6a-42cf-9e66-52dc1de22370",
   "metadata": {
    "execution": {
     "iopub.execute_input": "2022-11-29T20:41:04.621239Z",
     "iopub.status.busy": "2022-11-29T20:41:04.621239Z",
     "iopub.status.idle": "2022-11-29T20:41:04.688238Z",
     "shell.execute_reply": "2022-11-29T20:41:04.686235Z"
    },
    "papermill": {
     "duration": 0.102993,
     "end_time": "2022-11-29T20:41:04.693232",
     "exception": false,
     "start_time": "2022-11-29T20:41:04.590239",
     "status": "completed"
    },
    "tags": []
   },
   "outputs": [],
   "source": [
    "cfg.theme = TerminalStyle(\"light\", \"light\", \"light\")\n",
    "\n",
    "stylesheet = widgets.html_report_stylesheet()"
   ]
  },
  {
   "cell_type": "markdown",
   "id": "807fda4e",
   "metadata": {
    "papermill": {
     "duration": 0.038998,
     "end_time": "2022-11-29T20:41:04.763236",
     "exception": false,
     "start_time": "2022-11-29T20:41:04.724238",
     "status": "completed"
    },
    "tags": []
   },
   "source": [
    "## Select symbol"
   ]
  },
  {
   "cell_type": "markdown",
   "id": "4ea17d80",
   "metadata": {},
   "source": []
  },
  {
   "cell_type": "code",
   "execution_count": 143,
   "id": "intended-sherman",
   "metadata": {
    "execution": {
     "iopub.execute_input": "2022-11-29T20:41:04.824236Z",
     "iopub.status.busy": "2022-11-29T20:41:04.823241Z",
     "iopub.status.idle": "2022-11-29T20:41:04.844236Z",
     "shell.execute_reply": "2022-11-29T20:41:04.843236Z"
    },
    "papermill": {
     "duration": 0.056006,
     "end_time": "2022-11-29T20:41:04.848243",
     "exception": false,
     "start_time": "2022-11-29T20:41:04.792237",
     "status": "completed"
    },
    "tags": [
     "parameters"
    ]
   },
   "outputs": [],
   "source": [
    "# Parameters that will be replaced when calling this notebook\n",
    "# Do not leave parameters blank as notebook will not run otherwise\n",
    "symbol = \"GSL\"\n",
    "\n",
    "df_data = openbb.stocks.fa.data(symbol)\n",
    "long_name = df_data.at[\"Company\",\"Values\"]\n",
    "sector =  df_data.at[\"Sector\",\"Values\"]\n",
    "industry = df_data.at[\"Industry\",\"Values\"]\n",
    "exchange = \"NYSE\"\n",
    "report_name = f\"{symbol}\".upper()\n",
    "\n",
    " "
   ]
  },
  {
   "cell_type": "code",
   "execution_count": 144,
   "id": "a441ddbc-d75b-4a18-84d4-e01b677674d3",
   "metadata": {
    "execution": {
     "iopub.execute_input": "2022-11-29T20:41:04.958239Z",
     "iopub.status.busy": "2022-11-29T20:41:04.955238Z",
     "iopub.status.idle": "2022-11-29T20:41:04.986241Z",
     "shell.execute_reply": "2022-11-29T20:41:04.982257Z"
    },
    "papermill": {
     "duration": 0.063013,
     "end_time": "2022-11-29T20:41:04.993253",
     "exception": false,
     "start_time": "2022-11-29T20:41:04.930240",
     "status": "completed"
    },
    "tags": []
   },
   "outputs": [],
   "source": [
    "if \".\" in symbol:\n",
    "    import sys\n",
    "\n",
    "    sys.exit(0)\n",
    "symbol = symbol.upper()"
   ]
  },
  {
   "cell_type": "code",
   "execution_count": 145,
   "id": "1be26dae-cafe-4a22-80aa-eff296fc1a9b",
   "metadata": {
    "execution": {
     "iopub.execute_input": "2022-11-29T20:41:05.048242Z",
     "iopub.status.busy": "2022-11-29T20:41:05.048242Z",
     "iopub.status.idle": "2022-11-29T20:41:05.453249Z",
     "shell.execute_reply": "2022-11-29T20:41:05.451238Z"
    },
    "papermill": {
     "duration": 0.44,
     "end_time": "2022-11-29T20:41:05.457241",
     "exception": false,
     "start_time": "2022-11-29T20:41:05.017241",
     "status": "completed"
    },
    "tags": []
   },
   "outputs": [
    {
     "data": {
      "text/html": [
       "<pre style=\"white-space:pre;overflow-x:auto;line-height:normal;font-family:Menlo,'DejaVu Sans Mono',consolas,'Courier New',monospace\">Loading Daily data for GSL with starting period 2021-07-23.\n",
       "</pre>\n"
      ],
      "text/plain": [
       "Loading Daily data for GSL with starting period 2021-07-23.\n"
      ]
     },
     "metadata": {},
     "output_type": "display_data"
    },
    {
     "data": {
      "text/plain": [
       "('Investment Research Report on GSL',\n",
       " '14 January, 2023',\n",
       " '15:52',\n",
       " datetime.timezone(datetime.timedelta(days=-1, seconds=68400), 'Eastern Standard Time'))"
      ]
     },
     "execution_count": 145,
     "metadata": {},
     "output_type": "execute_result"
    }
   ],
   "source": [
    "ticker_data = openbb.stocks.load(\n",
    "    symbol=symbol, start_date=datetime.datetime.now() - datetime.timedelta(days=18 * 30)\n",
    ")\n",
    "ticker_data = openbb.stocks.process_candle(data=ticker_data)\n",
    "\n",
    "author = \"\"\n",
    "report_title = f\"Investment Research Report on {symbol.upper()}\"\n",
    "report_date = datetime.datetime.now().strftime(\"%d %B, %Y\")\n",
    "report_time = datetime.datetime.now().strftime(\"%H:%M\")\n",
    "report_timezone = datetime.datetime.now(datetime.timezone.utc).astimezone().tzinfo\n",
    "report_title, report_date, report_time, report_timezone"
   ]
  },
  {
   "cell_type": "markdown",
   "id": "f8a0d747",
   "metadata": {
    "papermill": {
     "duration": 0.031014,
     "end_time": "2022-11-29T20:41:09.603376",
     "exception": false,
     "start_time": "2022-11-29T20:41:09.572362",
     "status": "completed"
    },
    "tags": []
   },
   "source": [
    "## Data"
   ]
  },
  {
   "cell_type": "code",
   "execution_count": 146,
   "id": "aca4b6ef",
   "metadata": {
    "execution": {
     "iopub.execute_input": "2022-11-29T20:41:09.675361Z",
     "iopub.status.busy": "2022-11-29T20:41:09.675361Z",
     "iopub.status.idle": "2022-11-29T20:41:10.273365Z",
     "shell.execute_reply": "2022-11-29T20:41:10.270365Z"
    },
    "papermill": {
     "duration": 0.641005,
     "end_time": "2022-11-29T20:41:10.277365",
     "exception": false,
     "start_time": "2022-11-29T20:41:09.636360",
     "status": "completed"
    },
    "tags": []
   },
   "outputs": [
    {
     "data": {
      "text/html": [
       "<div>\n",
       "<style scoped>\n",
       "    .dataframe tbody tr th:only-of-type {\n",
       "        vertical-align: middle;\n",
       "    }\n",
       "\n",
       "    .dataframe tbody tr th {\n",
       "        vertical-align: top;\n",
       "    }\n",
       "\n",
       "    .dataframe thead th {\n",
       "        text-align: right;\n",
       "    }\n",
       "</style>\n",
       "<table border=\"1\" class=\"dataframe\">\n",
       "  <thead>\n",
       "    <tr style=\"text-align: right;\">\n",
       "      <th></th>\n",
       "      <th>Previous Quarter</th>\n",
       "      <th>Current Quarter</th>\n",
       "      <th>Next Quarter</th>\n",
       "      <th>Current Year</th>\n",
       "      <th>Next Year</th>\n",
       "    </tr>\n",
       "    <tr>\n",
       "      <th>QUARTER REVENUES ESTIMATES</th>\n",
       "      <th></th>\n",
       "      <th></th>\n",
       "      <th></th>\n",
       "      <th></th>\n",
       "      <th></th>\n",
       "    </tr>\n",
       "  </thead>\n",
       "  <tbody>\n",
       "    <tr>\n",
       "      <th>Date</th>\n",
       "      <td>ending 12/31/22</td>\n",
       "      <td>ending 03/31/23</td>\n",
       "      <td>ending 06/30/23</td>\n",
       "      <td>ending 12/31/23</td>\n",
       "      <td>ending 12/31/24</td>\n",
       "    </tr>\n",
       "    <tr>\n",
       "      <th>No. of Analysts</th>\n",
       "      <td>3</td>\n",
       "      <td>2</td>\n",
       "      <td>2</td>\n",
       "      <td>4</td>\n",
       "      <td>2</td>\n",
       "    </tr>\n",
       "    <tr>\n",
       "      <th>Average Estimate</th>\n",
       "      <td>153 USD</td>\n",
       "      <td>155 USD</td>\n",
       "      <td>156 USD</td>\n",
       "      <td>646 USD</td>\n",
       "      <td>699 USD</td>\n",
       "    </tr>\n",
       "    <tr>\n",
       "      <th>Year Ago</th>\n",
       "      <td>154 USD</td>\n",
       "      <td>154 USD</td>\n",
       "      <td>154 USD</td>\n",
       "      <td>-</td>\n",
       "      <td>646 USD</td>\n",
       "    </tr>\n",
       "    <tr>\n",
       "      <th>Publish Date</th>\n",
       "      <td>3/7/2023</td>\n",
       "      <td>5/8/2023</td>\n",
       "      <td>8/3/2023</td>\n",
       "      <td>-</td>\n",
       "      <td>-</td>\n",
       "    </tr>\n",
       "  </tbody>\n",
       "</table>\n",
       "</div>"
      ],
      "text/plain": [
       "                           Previous Quarter  Current Quarter     Next Quarter  \\\n",
       "QUARTER REVENUES ESTIMATES                                                      \n",
       "Date                        ending 12/31/22  ending 03/31/23  ending 06/30/23   \n",
       "No. of Analysts                           3                2                2   \n",
       "Average Estimate                    153 USD          155 USD          156 USD   \n",
       "Year Ago                            154 USD          154 USD          154 USD   \n",
       "Publish Date                       3/7/2023         5/8/2023         8/3/2023   \n",
       "\n",
       "                               Current Year        Next Year  \n",
       "QUARTER REVENUES ESTIMATES                                    \n",
       "Date                        ending 12/31/23  ending 12/31/24  \n",
       "No. of Analysts                           4                2  \n",
       "Average Estimate                    646 USD          699 USD  \n",
       "Year Ago                                  -          646 USD  \n",
       "Publish Date                              -                -  "
      ]
     },
     "execution_count": 146,
     "metadata": {},
     "output_type": "execute_result"
    }
   ],
   "source": [
    "(\n",
    "    df_year_estimates,\n",
    "    df_quarter_earnings,\n",
    "    df_quarter_revenues,\n",
    ") = openbb.stocks.dd.est(symbol=symbol)\n",
    "df_quarter_revenues"
   ]
  },
  {
   "cell_type": "code",
   "execution_count": 147,
   "id": "c0f0a1ca",
   "metadata": {
    "execution": {
     "iopub.execute_input": "2022-11-29T20:41:10.350371Z",
     "iopub.status.busy": "2022-11-29T20:41:10.345390Z",
     "iopub.status.idle": "2022-11-29T20:41:10.383366Z",
     "shell.execute_reply": "2022-11-29T20:41:10.380363Z"
    },
    "papermill": {
     "duration": 0.082006,
     "end_time": "2022-11-29T20:41:10.389369",
     "exception": false,
     "start_time": "2022-11-29T20:41:10.307363",
     "status": "completed"
    },
    "tags": []
   },
   "outputs": [],
   "source": [
    "display_year = sorted(df_year_estimates.columns.tolist())[:3]\n",
    "df_year_estimates = df_year_estimates[display_year].head(5)"
   ]
  },
  {
   "cell_type": "code",
   "execution_count": 148,
   "id": "6976c1d5",
   "metadata": {
    "execution": {
     "iopub.execute_input": "2022-11-29T20:41:10.446368Z",
     "iopub.status.busy": "2022-11-29T20:41:10.444370Z",
     "iopub.status.idle": "2022-11-29T20:41:12.257380Z",
     "shell.execute_reply": "2022-11-29T20:41:12.255381Z"
    },
    "papermill": {
     "duration": 1.848008,
     "end_time": "2022-11-29T20:41:12.261378",
     "exception": true,
     "start_time": "2022-11-29T20:41:10.413370",
     "status": "failed"
    },
    "tags": []
   },
   "outputs": [
    {
     "data": {
      "text/html": [
       "<pre style=\"white-space:pre;overflow-x:auto;line-height:normal;font-family:Menlo,'DejaVu Sans Mono',consolas,'Courier New',monospace\">2 news articles for  Global Ship Lease, Inc. were found since 2023-01-07\n",
       "\n",
       "</pre>\n"
      ],
      "text/plain": [
       "2 news articles for  Global Ship Lease, Inc. were found since 2023-01-07\n",
       "\n"
      ]
     },
     "metadata": {},
     "output_type": "display_data"
    }
   ],
   "source": [
    "tables = openbb.etf.news(f\"{long_name}\", 20)\n",
    "for table in tables:\n",
    "    table[0].loc[\"link\"] = (\n",
    "        table[0].loc[\"link\"].apply(lambda x: f'<a href=\"{x}\">{x}</a>')\n",
    "    )"
   ]
  },
  {
   "cell_type": "code",
   "execution_count": 149,
   "id": "fde46353",
   "metadata": {
    "papermill": {
     "duration": null,
     "end_time": null,
     "exception": null,
     "start_time": null,
     "status": "pending"
    },
    "tags": []
   },
   "outputs": [
    {
     "data": {
      "text/html": [
       "<div>\n",
       "<style scoped>\n",
       "    .dataframe tbody tr th:only-of-type {\n",
       "        vertical-align: middle;\n",
       "    }\n",
       "\n",
       "    .dataframe tbody tr th {\n",
       "        vertical-align: top;\n",
       "    }\n",
       "\n",
       "    .dataframe thead th {\n",
       "        text-align: right;\n",
       "    }\n",
       "</style>\n",
       "<table border=\"1\" class=\"dataframe\">\n",
       "  <thead>\n",
       "    <tr style=\"text-align: right;\">\n",
       "      <th></th>\n",
       "      <th>Holder</th>\n",
       "      <th>Shares</th>\n",
       "      <th>Date Reported</th>\n",
       "      <th>Stake</th>\n",
       "      <th>Value</th>\n",
       "    </tr>\n",
       "  </thead>\n",
       "  <tbody>\n",
       "    <tr>\n",
       "      <th>1</th>\n",
       "      <td>Morgan Stanley</td>\n",
       "      <td>2.039 M</td>\n",
       "      <td>2022-09-29</td>\n",
       "      <td>5.54 %</td>\n",
       "      <td>36.089 M</td>\n",
       "    </tr>\n",
       "    <tr>\n",
       "      <th>2</th>\n",
       "      <td>Punch &amp; Associates Investment Management, Inc.</td>\n",
       "      <td>1.860 M</td>\n",
       "      <td>2022-09-29</td>\n",
       "      <td>5.05 %</td>\n",
       "      <td>32.918 M</td>\n",
       "    </tr>\n",
       "    <tr>\n",
       "      <th>3</th>\n",
       "      <td>Marshall Wace LLP</td>\n",
       "      <td>1.571 M</td>\n",
       "      <td>2022-09-29</td>\n",
       "      <td>4.27 %</td>\n",
       "      <td>27.801 M</td>\n",
       "    </tr>\n",
       "    <tr>\n",
       "      <th>4</th>\n",
       "      <td>Whitefort Capital Management, LP</td>\n",
       "      <td>1.412 M</td>\n",
       "      <td>2022-09-29</td>\n",
       "      <td>3.84 %</td>\n",
       "      <td>24.990 M</td>\n",
       "    </tr>\n",
       "    <tr>\n",
       "      <th>5</th>\n",
       "      <td>Goldman Sachs Group Inc</td>\n",
       "      <td>1.411 M</td>\n",
       "      <td>2022-09-29</td>\n",
       "      <td>3.83 %</td>\n",
       "      <td>24.971 M</td>\n",
       "    </tr>\n",
       "    <tr>\n",
       "      <th>6</th>\n",
       "      <td>Nokomis Capital, L.l.c.</td>\n",
       "      <td>1.198 M</td>\n",
       "      <td>2022-09-29</td>\n",
       "      <td>3.25 %</td>\n",
       "      <td>21.208 M</td>\n",
       "    </tr>\n",
       "    <tr>\n",
       "      <th>7</th>\n",
       "      <td>Renaissance Technologies, LLC</td>\n",
       "      <td>575.728 K</td>\n",
       "      <td>2022-09-29</td>\n",
       "      <td>1.56 %</td>\n",
       "      <td>10.190 M</td>\n",
       "    </tr>\n",
       "    <tr>\n",
       "      <th>8</th>\n",
       "      <td>Citadel Advisors Llc</td>\n",
       "      <td>535.780 K</td>\n",
       "      <td>2022-09-29</td>\n",
       "      <td>1.46 %</td>\n",
       "      <td>9.483 M</td>\n",
       "    </tr>\n",
       "    <tr>\n",
       "      <th>9</th>\n",
       "      <td>Susquehanna International Group, LLP</td>\n",
       "      <td>501.113 K</td>\n",
       "      <td>2022-09-29</td>\n",
       "      <td>1.36 %</td>\n",
       "      <td>8.870 M</td>\n",
       "    </tr>\n",
       "    <tr>\n",
       "      <th>10</th>\n",
       "      <td>No Street GP LP</td>\n",
       "      <td>500 K</td>\n",
       "      <td>2022-09-29</td>\n",
       "      <td>1.36 %</td>\n",
       "      <td>8.850 M</td>\n",
       "    </tr>\n",
       "  </tbody>\n",
       "</table>\n",
       "</div>"
      ],
      "text/plain": [
       "                                            Holder     Shares Date Reported  \\\n",
       "1                                   Morgan Stanley    2.039 M    2022-09-29   \n",
       "2   Punch & Associates Investment Management, Inc.    1.860 M    2022-09-29   \n",
       "3                                Marshall Wace LLP    1.571 M    2022-09-29   \n",
       "4                 Whitefort Capital Management, LP    1.412 M    2022-09-29   \n",
       "5                          Goldman Sachs Group Inc    1.411 M    2022-09-29   \n",
       "6                          Nokomis Capital, L.l.c.    1.198 M    2022-09-29   \n",
       "7                    Renaissance Technologies, LLC  575.728 K    2022-09-29   \n",
       "8                             Citadel Advisors Llc  535.780 K    2022-09-29   \n",
       "9             Susquehanna International Group, LLP  501.113 K    2022-09-29   \n",
       "10                                 No Street GP LP      500 K    2022-09-29   \n",
       "\n",
       "     Stake     Value  \n",
       "1   5.54 %  36.089 M  \n",
       "2   5.05 %  32.918 M  \n",
       "3   4.27 %  27.801 M  \n",
       "4   3.84 %  24.990 M  \n",
       "5   3.83 %  24.971 M  \n",
       "6   3.25 %  21.208 M  \n",
       "7   1.56 %  10.190 M  \n",
       "8   1.46 %   9.483 M  \n",
       "9   1.36 %   8.870 M  \n",
       "10  1.36 %   8.850 M  "
      ]
     },
     "execution_count": 149,
     "metadata": {},
     "output_type": "execute_result"
    }
   ],
   "source": [
    "df_institutional_shareholders = openbb.stocks.fa.shrs(symbol, holder=\"institutional\")\n",
    "df_institutional_shareholders.index += 1\n",
    "df_institutional_shareholders"
   ]
  },
  {
   "cell_type": "code",
   "execution_count": 150,
   "id": "e101e24e",
   "metadata": {
    "papermill": {
     "duration": null,
     "end_time": null,
     "exception": null,
     "start_time": null,
     "status": "pending"
    },
    "tags": []
   },
   "outputs": [
    {
     "data": {
      "text/html": [
       "<div>\n",
       "<style scoped>\n",
       "    .dataframe tbody tr th:only-of-type {\n",
       "        vertical-align: middle;\n",
       "    }\n",
       "\n",
       "    .dataframe tbody tr th {\n",
       "        vertical-align: top;\n",
       "    }\n",
       "\n",
       "    .dataframe thead th {\n",
       "        text-align: right;\n",
       "    }\n",
       "</style>\n",
       "<table border=\"1\" class=\"dataframe\">\n",
       "  <thead>\n",
       "    <tr style=\"text-align: right;\">\n",
       "      <th></th>\n",
       "      <th>Holder</th>\n",
       "      <th>Shares</th>\n",
       "      <th>Date Reported</th>\n",
       "      <th>Stake</th>\n",
       "      <th>Value</th>\n",
       "    </tr>\n",
       "  </thead>\n",
       "  <tbody>\n",
       "    <tr>\n",
       "      <th>0</th>\n",
       "      <td>Morgan Stanley</td>\n",
       "      <td>2.039 M</td>\n",
       "      <td>2022-09-29</td>\n",
       "      <td>5.54 %</td>\n",
       "      <td>36.089 M</td>\n",
       "    </tr>\n",
       "    <tr>\n",
       "      <th>1</th>\n",
       "      <td>Punch &amp; Associates Investment Management, Inc.</td>\n",
       "      <td>1.860 M</td>\n",
       "      <td>2022-09-29</td>\n",
       "      <td>5.05 %</td>\n",
       "      <td>32.918 M</td>\n",
       "    </tr>\n",
       "    <tr>\n",
       "      <th>2</th>\n",
       "      <td>Marshall Wace LLP</td>\n",
       "      <td>1.571 M</td>\n",
       "      <td>2022-09-29</td>\n",
       "      <td>4.27 %</td>\n",
       "      <td>27.801 M</td>\n",
       "    </tr>\n",
       "    <tr>\n",
       "      <th>3</th>\n",
       "      <td>Whitefort Capital Management, LP</td>\n",
       "      <td>1.412 M</td>\n",
       "      <td>2022-09-29</td>\n",
       "      <td>3.84 %</td>\n",
       "      <td>24.990 M</td>\n",
       "    </tr>\n",
       "    <tr>\n",
       "      <th>4</th>\n",
       "      <td>Goldman Sachs Group Inc</td>\n",
       "      <td>1.411 M</td>\n",
       "      <td>2022-09-29</td>\n",
       "      <td>3.83 %</td>\n",
       "      <td>24.971 M</td>\n",
       "    </tr>\n",
       "    <tr>\n",
       "      <th>5</th>\n",
       "      <td>Nokomis Capital, L.l.c.</td>\n",
       "      <td>1.198 M</td>\n",
       "      <td>2022-09-29</td>\n",
       "      <td>3.25 %</td>\n",
       "      <td>21.208 M</td>\n",
       "    </tr>\n",
       "    <tr>\n",
       "      <th>6</th>\n",
       "      <td>Renaissance Technologies, LLC</td>\n",
       "      <td>575.728 K</td>\n",
       "      <td>2022-09-29</td>\n",
       "      <td>1.56 %</td>\n",
       "      <td>10.190 M</td>\n",
       "    </tr>\n",
       "    <tr>\n",
       "      <th>7</th>\n",
       "      <td>Citadel Advisors Llc</td>\n",
       "      <td>535.780 K</td>\n",
       "      <td>2022-09-29</td>\n",
       "      <td>1.46 %</td>\n",
       "      <td>9.483 M</td>\n",
       "    </tr>\n",
       "    <tr>\n",
       "      <th>8</th>\n",
       "      <td>Susquehanna International Group, LLP</td>\n",
       "      <td>501.113 K</td>\n",
       "      <td>2022-09-29</td>\n",
       "      <td>1.36 %</td>\n",
       "      <td>8.870 M</td>\n",
       "    </tr>\n",
       "    <tr>\n",
       "      <th>9</th>\n",
       "      <td>No Street GP LP</td>\n",
       "      <td>500 K</td>\n",
       "      <td>2022-09-29</td>\n",
       "      <td>1.36 %</td>\n",
       "      <td>8.850 M</td>\n",
       "    </tr>\n",
       "  </tbody>\n",
       "</table>\n",
       "</div>"
      ],
      "text/plain": [
       "                                           Holder     Shares Date Reported  \\\n",
       "0                                  Morgan Stanley    2.039 M    2022-09-29   \n",
       "1  Punch & Associates Investment Management, Inc.    1.860 M    2022-09-29   \n",
       "2                               Marshall Wace LLP    1.571 M    2022-09-29   \n",
       "3                Whitefort Capital Management, LP    1.412 M    2022-09-29   \n",
       "4                         Goldman Sachs Group Inc    1.411 M    2022-09-29   \n",
       "5                         Nokomis Capital, L.l.c.    1.198 M    2022-09-29   \n",
       "6                   Renaissance Technologies, LLC  575.728 K    2022-09-29   \n",
       "7                            Citadel Advisors Llc  535.780 K    2022-09-29   \n",
       "8            Susquehanna International Group, LLP  501.113 K    2022-09-29   \n",
       "9                                 No Street GP LP      500 K    2022-09-29   \n",
       "\n",
       "    Stake     Value  \n",
       "0  5.54 %  36.089 M  \n",
       "1  5.05 %  32.918 M  \n",
       "2  4.27 %  27.801 M  \n",
       "3  3.84 %  24.990 M  \n",
       "4  3.83 %  24.971 M  \n",
       "5  3.25 %  21.208 M  \n",
       "6  1.56 %  10.190 M  \n",
       "7  1.46 %   9.483 M  \n",
       "8  1.36 %   8.870 M  \n",
       "9  1.36 %   8.850 M  "
      ]
     },
     "execution_count": 150,
     "metadata": {},
     "output_type": "execute_result"
    }
   ],
   "source": [
    "openbb.stocks.fa.shrs(symbol)"
   ]
  },
  {
   "cell_type": "code",
   "execution_count": 151,
   "id": "51dfd9d2",
   "metadata": {
    "papermill": {
     "duration": null,
     "end_time": null,
     "exception": null,
     "start_time": null,
     "status": "pending"
    },
    "tags": []
   },
   "outputs": [],
   "source": [
    "df_institutional_shareholders = openbb.stocks.fa.shrs(symbol)\n",
    "df_institutional_shareholders.index += 1\n",
    "df_institutional_shareholders"
   ]
  },
  {
   "cell_type": "code",
   "execution_count": null,
   "id": "3022130e",
   "metadata": {
    "papermill": {
     "duration": null,
     "end_time": null,
     "exception": null,
     "start_time": null,
     "status": "pending"
    },
    "tags": []
   },
   "outputs": [],
   "source": [
    "df_sec_filings = openbb.stocks.dd.sec(symbol=symbol)[[\"Type\", \"Category\", \"Link\"]].head(\n",
    "    5\n",
    ")\n",
    "df_sec_filings[\"Link\"] = df_sec_filings[\"Link\"].apply(\n",
    "    lambda x: f'<a href=\"{x}\">{x}</a>'\n",
    ")\n",
    "df_sec_filings"
   ]
  },
  {
   "cell_type": "code",
   "execution_count": null,
   "id": "4662b1ac",
   "metadata": {
    "papermill": {
     "duration": null,
     "end_time": null,
     "exception": null,
     "start_time": null,
     "status": "pending"
    },
    "tags": []
   },
   "outputs": [],
   "source": [
    "df_analyst = openbb.stocks.dd.analyst(symbol=symbol)"
   ]
  },
  {
   "cell_type": "code",
   "execution_count": null,
   "id": "df8bdb7d",
   "metadata": {
    "papermill": {
     "duration": null,
     "end_time": null,
     "exception": null,
     "start_time": null,
     "status": "pending"
    },
    "tags": []
   },
   "outputs": [],
   "source": [
    "df_rating = openbb.stocks.dd.rating(symbol)\n",
    "df_rating"
   ]
  },
  {
   "cell_type": "code",
   "execution_count": null,
   "id": "d0df953b",
   "metadata": {
    "papermill": {
     "duration": null,
     "end_time": null,
     "exception": null,
     "start_time": null,
     "status": "pending"
    },
    "tags": []
   },
   "outputs": [],
   "source": [
    "fig, ax = plt.subplots(figsize=(11, 3), dpi=150)\n",
    "openbb.stocks.options.pcr_chart(\n",
    "    symbol,\n",
    "    window=30,\n",
    "    external_axes=[\n",
    "        ax,\n",
    "    ],\n",
    ")\n",
    "fig.tight_layout()\n",
    "f = io.BytesIO()\n",
    "fig.savefig(f, format=\"svg\")\n",
    "pcr_chart = f.getvalue().decode(\"utf-8\")"
   ]
  },
  {
   "cell_type": "code",
   "execution_count": null,
   "id": "bd79195c",
   "metadata": {
    "papermill": {
     "duration": null,
     "end_time": null,
     "exception": null,
     "start_time": null,
     "status": "pending"
    },
    "tags": []
   },
   "outputs": [],
   "source": [
    "expiry_dates = openbb.stocks.options.expirations(symbol)\n",
    "if (len(expiry_dates) > 0):\n",
    "    exp = expiry_dates[0]\n",
    "    option_chain = openbb.stocks.options.chains(symbol, expiration=exp)\n",
    "else:\n",
    "    option_chain = pd.DataFrame()\n"
   ]
  },
  {
   "cell_type": "code",
   "execution_count": null,
   "id": "ad6d0c24",
   "metadata": {
    "papermill": {
     "duration": null,
     "end_time": null,
     "exception": null,
     "start_time": null,
     "status": "pending"
    },
    "tags": []
   },
   "outputs": [],
   "source": [
    "if not option_chain.empty:\n",
    "    fig, ax = plt.subplots(figsize=(11, 3), dpi=150)\n",
    "    ax.plot(\n",
    "        option_chain[\"strike\"], option_chain[\"c_Openinterest\"], label=\"Call Open Interest\"\n",
    "    )\n",
    "    ax.plot(\n",
    "        option_chain[\"strike\"], option_chain[\"p_Openinterest\"], label=\"Put Open Interest\"\n",
    "    )\n",
    "    ax.legend()\n",
    "    fig.tight_layout()\n",
    "    f = io.BytesIO()\n",
    "    fig.savefig(f, format=\"svg\")\n",
    "    vol_chart = f.getvalue().decode(\"utf-8\")"
   ]
  },
  {
   "cell_type": "code",
   "execution_count": null,
   "id": "be2d1e3a",
   "metadata": {
    "papermill": {
     "duration": null,
     "end_time": null,
     "exception": null,
     "start_time": null,
     "status": "pending"
    },
    "tags": []
   },
   "outputs": [],
   "source": [
    "if not option_chain.empty:\n",
    "    fig, ax = plt.subplots(figsize=(11, 8), dpi=150)\n",
    "    ax.plot(option_chain[\"strike\"], option_chain[\"c_Volume\"], label=\"Call Volume\")\n",
    "    ax.plot(option_chain[\"strike\"], option_chain[\"p_Volume\"], label=\"Put Volume\")\n",
    "    ax.legend()\n",
    "    fig.tight_layout()\n",
    "    f = io.BytesIO()\n",
    "    fig.savefig(f, format=\"svg\")\n",
    "    voi_chart = f.getvalue().decode(\"utf-8\")"
   ]
  },
  {
   "cell_type": "code",
   "execution_count": null,
   "id": "324e2d4b-b2f6-4da3-bac4-ef785ad4e436",
   "metadata": {
    "papermill": {
     "duration": null,
     "end_time": null,
     "exception": null,
     "start_time": null,
     "status": "pending"
    },
    "tags": []
   },
   "outputs": [],
   "source": [
    "fig, ax1 = plt.subplots(figsize=(11, 5), dpi=150)\n",
    "ax2 = ax1.twinx()\n",
    "openbb.stocks.dps.spos_chart(\n",
    "    symbol=symbol,\n",
    "    limit=84,\n",
    "    raw=False,\n",
    "    export=\"\",\n",
    "    external_axes=[ax1, ax2],\n",
    ")\n",
    "fig.tight_layout()\n",
    "\n",
    "f = io.BytesIO()\n",
    "fig.savefig(f, format=\"svg\")\n",
    "net_short_position = f.getvalue().decode(\"utf-8\")"
   ]
  },
  {
   "cell_type": "code",
   "execution_count": null,
   "id": "ac0bfbda-e4b8-4b3b-b8e7-c02639fdb971",
   "metadata": {
    "papermill": {
     "duration": null,
     "end_time": null,
     "exception": null,
     "start_time": null,
     "status": "pending"
    },
    "tags": []
   },
   "outputs": [],
   "source": [
    "fig, (ax1, ax2) = plt.subplots(nrows=2, ncols=1, figsize=(11, 5), dpi=150)\n",
    "openbb.stocks.dps.dpotc_chart(symbol=symbol, external_axes=[ax1, ax2])\n",
    "fig.tight_layout()\n",
    "\n",
    "f = io.BytesIO()\n",
    "fig.savefig(f, format=\"svg\")\n",
    "dark_pools = f.getvalue().decode(\"utf-8\")"
   ]
  },
  {
   "cell_type": "code",
   "execution_count": null,
   "id": "22a7266f",
   "metadata": {
    "papermill": {
     "duration": null,
     "end_time": null,
     "exception": null,
     "start_time": null,
     "status": "pending"
    },
    "tags": []
   },
   "outputs": [],
   "source": [
    "fig, ax = plt.subplots(figsize=(11, 3), dpi=150)\n",
    "openbb.stocks.gov.gtrades_chart(\n",
    "    symbol,\n",
    "    past_transactions_months=12,\n",
    "    external_axes=[\n",
    "        ax,\n",
    "    ],\n",
    ")\n",
    "fig.tight_layout()\n",
    "f = io.BytesIO()\n",
    "fig.savefig(f, format=\"svg\")\n",
    "gtrades_chart = f.getvalue().decode(\"utf-8\")"
   ]
  },
  {
   "cell_type": "code",
   "execution_count": null,
   "id": "4c670ba3",
   "metadata": {
    "papermill": {
     "duration": null,
     "end_time": null,
     "exception": null,
     "start_time": null,
     "status": "pending"
    },
    "tags": []
   },
   "outputs": [],
   "source": [
    "fig, ax = plt.subplots(figsize=(11, 3), dpi=150)\n",
    "openbb.stocks.gov.contracts_chart(\n",
    "    symbol,\n",
    "    past_transaction_days=365,\n",
    "    external_axes=[\n",
    "        ax,\n",
    "    ],\n",
    ")\n",
    "fig.tight_layout()\n",
    "f = io.BytesIO()\n",
    "fig.savefig(f, format=\"svg\")\n",
    "gov_contracts_chart = f.getvalue().decode(\"utf-8\")"
   ]
  },
  {
   "cell_type": "code",
   "execution_count": null,
   "id": "caa3dae2",
   "metadata": {
    "papermill": {
     "duration": null,
     "end_time": null,
     "exception": null,
     "start_time": null,
     "status": "pending"
    },
    "tags": []
   },
   "outputs": [],
   "source": [
    "fig, ax = plt.subplots(figsize=(11, 3), dpi=150)\n",
    "openbb.stocks.ba.mentions_chart(\n",
    "    symbol,\n",
    "    external_axes=[\n",
    "        ax,\n",
    "    ],\n",
    ")\n",
    "fig.tight_layout()\n",
    "f = io.BytesIO()\n",
    "fig.savefig(f, format=\"svg\")\n",
    "google_mentions_chart = f.getvalue().decode(\"utf-8\")"
   ]
  },
  {
   "cell_type": "code",
   "execution_count": null,
   "id": "b77e60d8",
   "metadata": {
    "papermill": {
     "duration": null,
     "end_time": null,
     "exception": null,
     "start_time": null,
     "status": "pending"
    },
    "tags": []
   },
   "outputs": [],
   "source": [
    "fig, ax = plt.subplots(figsize=(11, 3), dpi=150)\n",
    "openbb.stocks.ba.regions_chart(\n",
    "    symbol,\n",
    "    limit=10,\n",
    "    external_axes=[\n",
    "        ax,\n",
    "    ],\n",
    ")\n",
    "fig.tight_layout()\n",
    "f = io.BytesIO()\n",
    "fig.savefig(f, format=\"svg\")\n",
    "google_regions_chart = f.getvalue().decode(\"utf-8\")"
   ]
  },
  {
   "cell_type": "code",
   "execution_count": null,
   "id": "4639665b",
   "metadata": {
    "papermill": {
     "duration": null,
     "end_time": null,
     "exception": null,
     "start_time": null,
     "status": "pending"
    },
    "tags": []
   },
   "outputs": [],
   "source": [
    "similar_companies_dict={'FTCO': ['GOLD','KGC','AU','AEM','NEM','FTCO'],\n",
    "                        'AR': ['RRC', 'EQT','SWN','CNX','CHK','AR'],\n",
    "                        'FLNG' : ['GLNG','SFL']}\n",
    "                        \n",
    "if (symbol in similar_companies_dict):\n",
    "    similar_companies = similar_companies_dict[symbol]\n",
    "else:\n",
    "    similar_companies=openbb.stocks.ca.similar(symbol,source=\"Polygon\")\n",
    "    \n",
    "fig, ax = plt.subplots(figsize=(11, 3), dpi=150)\n",
    "openbb.stocks.ca.hist_chart(\n",
    "    similar_companies,\n",
    "    external_axes=[\n",
    "        ax,\n",
    "    ],\n",
    "    normalize=False,\n",
    ")\n",
    "fig.tight_layout()\n",
    "f = io.BytesIO()\n",
    "fig.savefig(f, format=\"svg\")\n",
    "historical_similar = f.getvalue().decode(\"utf-8\")"
   ]
  },
  {
   "cell_type": "code",
   "execution_count": null,
   "id": "74565e53",
   "metadata": {
    "papermill": {
     "duration": null,
     "end_time": null,
     "exception": null,
     "start_time": null,
     "status": "pending"
    },
    "tags": []
   },
   "outputs": [],
   "source": [
    "fig, ax = plt.subplots(figsize=(11, 3), dpi=150)\n",
    "openbb.stocks.ca.hcorr_chart(\n",
    "    similar_companies,\n",
    "    external_axes=[\n",
    "        ax,\n",
    "    ],\n",
    ")\n",
    "fig.tight_layout()\n",
    "f = io.BytesIO()\n",
    "fig.savefig(f, format=\"svg\")\n",
    "hcorr_similar = f.getvalue().decode(\"utf-8\")"
   ]
  },
  {
   "cell_type": "code",
   "execution_count": null,
   "id": "936babfd",
   "metadata": {
    "papermill": {
     "duration": null,
     "end_time": null,
     "exception": null,
     "start_time": null,
     "status": "pending"
    },
    "tags": []
   },
   "outputs": [],
   "source": [
    "fig, ax = plt.subplots(figsize=(11, 3), dpi=150)\n",
    "openbb.stocks.ca.volume_chart(\n",
    "    similar_companies,\n",
    "    external_axes=[\n",
    "        ax,\n",
    "    ],\n",
    ")\n",
    "fig.tight_layout()\n",
    "f = io.BytesIO()\n",
    "fig.savefig(f, format=\"svg\")\n",
    "vol_similar = f.getvalue().decode(\"utf-8\")"
   ]
  },
  {
   "cell_type": "code",
   "execution_count": null,
   "id": "99388d4e",
   "metadata": {
    "papermill": {
     "duration": null,
     "end_time": null,
     "exception": null,
     "start_time": null,
     "status": "pending"
    },
    "tags": []
   },
   "outputs": [],
   "source": [
    "fig, ax = plt.subplots(figsize=(11, 3), dpi=150)\n",
    "openbb.stocks.ca.scorr_chart(\n",
    "    similar_companies,\n",
    "    external_axes=[\n",
    "        ax,\n",
    "    ],\n",
    ")\n",
    "fig.tight_layout()\n",
    "f = io.BytesIO()\n",
    "fig.savefig(f, format=\"svg\")\n",
    "scorr_similar = f.getvalue().decode(\"utf-8\")"
   ]
  },
  {
   "cell_type": "code",
   "execution_count": null,
   "id": "eaa67343",
   "metadata": {
    "papermill": {
     "duration": null,
     "end_time": null,
     "exception": null,
     "start_time": null,
     "status": "pending"
    },
    "tags": []
   },
   "outputs": [],
   "source": [
    "income_comparison = openbb.stocks.ca.income(similar_companies)\n",
    "income_comparison"
   ]
  },
  {
   "cell_type": "code",
   "execution_count": null,
   "id": "13ad71cf",
   "metadata": {
    "papermill": {
     "duration": null,
     "end_time": null,
     "exception": null,
     "start_time": null,
     "status": "pending"
    },
    "tags": []
   },
   "outputs": [],
   "source": [
    "try:\n",
    "    df_related_queries = openbb.stocks.ba.queries(symbol)\n",
    "    df_related_queries.index += 1\n",
    "    df_related_queries.index\n",
    "except:\n",
    "    pass"
   ]
  },
  {
   "cell_type": "code",
   "execution_count": null,
   "id": "58c06129",
   "metadata": {
    "papermill": {
     "duration": null,
     "end_time": null,
     "exception": null,
     "start_time": null,
     "status": "pending"
    },
    "tags": []
   },
   "outputs": [],
   "source": [
    "try:\n",
    "    df_rising_queries = openbb.stocks.ba.rise(symbol)\n",
    "    df_rising_queries.index += 1\n",
    "    df_rising_queries\n",
    "except:\n",
    "    pass"
   ]
  },
  {
   "cell_type": "code",
   "execution_count": null,
   "id": "0a467f1a",
   "metadata": {
    "papermill": {
     "duration": null,
     "end_time": null,
     "exception": null,
     "start_time": null,
     "status": "pending"
    },
    "tags": []
   },
   "outputs": [],
   "source": [
    "fig, ax = plt.subplots(figsize=(11, 3), dpi=150)\n",
    "openbb.stocks.gov.histcont_chart(\n",
    "    symbol,\n",
    "    external_axes=[\n",
    "        ax,\n",
    "    ],\n",
    ")\n",
    "fig.tight_layout()\n",
    "f = io.BytesIO()\n",
    "fig.savefig(f, format=\"svg\")\n",
    "gov_histcont_chart = f.getvalue().decode(\"utf-8\")"
   ]
  },
  {
   "cell_type": "code",
   "execution_count": null,
   "id": "730cae26",
   "metadata": {
    "papermill": {
     "duration": null,
     "end_time": null,
     "exception": null,
     "start_time": null,
     "status": "pending"
    },
    "tags": []
   },
   "outputs": [],
   "source": [
    "df_lobbying = openbb.stocks.gov.lobbying(symbol, limit=5)\n",
    "df_lobbying"
   ]
  },
  {
   "cell_type": "code",
   "execution_count": null,
   "id": "d8bb53c1-147e-4342-af61-0d0a9cc56e59",
   "metadata": {
    "papermill": {
     "duration": null,
     "end_time": null,
     "exception": null,
     "start_time": null,
     "status": "pending"
    },
    "tags": []
   },
   "outputs": [],
   "source": [
    "fig, (ax1, ax2) = plt.subplots(nrows=2, ncols=1, figsize=(11, 5), dpi=150)\n",
    "ax3 = ax1.twinx()\n",
    "openbb.stocks.dps.psi_sg_chart(\n",
    "    symbol=symbol,\n",
    "    external_axes=[ax1, ax2, ax3],\n",
    ")\n",
    "fig.tight_layout()\n",
    "\n",
    "f = io.BytesIO()\n",
    "fig.savefig(f, format=\"svg\")\n",
    "price_vs_short_interest = f.getvalue().decode(\"utf-8\")"
   ]
  },
  {
   "cell_type": "code",
   "execution_count": null,
   "id": "394668e1-1158-4a2b-8a38-04c72a6abdd6",
   "metadata": {
    "papermill": {
     "duration": null,
     "end_time": null,
     "exception": null,
     "start_time": null,
     "status": "pending"
    },
    "tags": []
   },
   "outputs": [],
   "source": [
    "fig, (candles, volume) = plt.subplots(nrows=2, ncols=1, figsize=(11, 5), dpi=150)\n",
    "openbb.stocks.candle(\n",
    "    symbol=symbol,\n",
    "    data=ticker_data,\n",
    "    use_matplotlib=True,\n",
    "    external_axes=[candles, volume],\n",
    ")\n",
    "candles.set_xticklabels(\"\")\n",
    "fig.tight_layout()\n",
    "\n",
    "f = io.BytesIO()\n",
    "fig.savefig(f, format=\"svg\")\n",
    "price_chart = f.getvalue().decode(\"utf-8\")"
   ]
  },
  {
   "cell_type": "code",
   "execution_count": null,
   "id": "900686a3",
   "metadata": {
    "papermill": {
     "duration": null,
     "end_time": null,
     "exception": null,
     "start_time": null,
     "status": "pending"
    },
    "tags": []
   },
   "outputs": [],
   "source": [
    "fig, ax = plt.subplots(figsize=(11, 3), dpi=150)\n",
    "openbb.stocks.dd.pt_chart(\n",
    "    symbol=symbol,\n",
    "    start_date=\"2022-01-01\",\n",
    "    data=ticker_data,\n",
    "    limit=10,\n",
    "    raw=False,\n",
    "    external_axes=[ax],\n",
    ")\n",
    "fig.tight_layout()\n",
    "f = io.BytesIO()\n",
    "fig.savefig(f, format=\"svg\")\n",
    "price_target_chart = f.getvalue().decode(\"utf-8\")"
   ]
  },
  {
   "cell_type": "code",
   "execution_count": null,
   "id": "61d62e1a-199e-481d-b57d-38ab486951be",
   "metadata": {
    "papermill": {
     "duration": null,
     "end_time": null,
     "exception": null,
     "start_time": null,
     "status": "pending"
    },
    "tags": []
   },
   "outputs": [],
   "source": [
    "df = openbb.stocks.dd.pt(symbol=symbol)\n",
    "avg_ratings_last_30_days = 0\n",
    "days = 0\n",
    "if not df.empty:\n",
    "    df_ratings = df[datetime.datetime.now() - datetime.timedelta(days=days) :]\n",
    "    while df_ratings.empty:\n",
    "        days += 30\n",
    "        df_ratings = df[datetime.datetime.now() - datetime.timedelta(days=days) :]\n",
    "\n",
    "        if days > 100:\n",
    "            break\n",
    "\n",
    "    if not df_ratings.empty:\n",
    "        avg_ratings_last_30_days = round(np.mean(df_ratings[\"Price Target\"].values), 2)\n",
    "    else:\n",
    "        avg_ratings = 0\n",
    "\n",
    "last_price = round(ticker_data[\"Close\"][-1], 2)"
   ]
  },
  {
   "cell_type": "code",
   "execution_count": null,
   "id": "f3733ff2",
   "metadata": {
    "papermill": {
     "duration": null,
     "end_time": null,
     "exception": null,
     "start_time": null,
     "status": "pending"
    },
    "tags": []
   },
   "outputs": [],
   "source": [
    "fig, ax = plt.subplots(figsize=(11, 3), dpi=150)\n",
    "openbb.stocks.dd.rot_chart(\n",
    "    symbol=symbol,\n",
    "    limit=10,\n",
    "    raw=False,\n",
    "    export=\"\",\n",
    "    external_axes=[ax],\n",
    ")\n",
    "fig.tight_layout()\n",
    "f = io.BytesIO()\n",
    "fig.savefig(f, format=\"svg\")\n",
    "ratings_over_time_chart = f.getvalue().decode(\"utf-8\")"
   ]
  },
  {
   "cell_type": "code",
   "execution_count": null,
   "id": "924f8042-e58a-449c-91a3-7923158ff714",
   "metadata": {
    "papermill": {
     "duration": null,
     "end_time": null,
     "exception": null,
     "start_time": null,
     "status": "pending"
    },
    "tags": []
   },
   "outputs": [],
   "source": [
    "fig, (ax1, ax2) = plt.subplots(nrows=2, ncols=1, figsize=(11, 3), dpi=150)\n",
    "openbb.ta.rsi_chart(ticker_data[\"Close\"], external_axes=[ax1, ax2])\n",
    "fig.tight_layout()\n",
    "f = io.BytesIO()\n",
    "fig.savefig(f, format=\"svg\")\n",
    "ta_rsi = f.getvalue().decode(\"utf-8\")"
   ]
  },
  {
   "cell_type": "code",
   "execution_count": null,
   "id": "953a340e-7ea1-4aa3-ae1d-872683dced41",
   "metadata": {
    "papermill": {
     "duration": null,
     "end_time": null,
     "exception": null,
     "start_time": null,
     "status": "pending"
    },
    "tags": []
   },
   "outputs": [],
   "source": [
    "df = openbb.ta.rsi(ticker_data[\"Close\"])\n",
    "rsi_value = round(df.values[-1][0], 2)\n",
    "rsi_value"
   ]
  },
  {
   "cell_type": "code",
   "execution_count": null,
   "id": "dce71711-20b3-4c69-af52-e0f9a69991f8",
   "metadata": {
    "papermill": {
     "duration": null,
     "end_time": null,
     "exception": null,
     "start_time": null,
     "status": "pending"
    },
    "tags": []
   },
   "outputs": [],
   "source": [
    "from sklearn.linear_model import LinearRegression\n",
    "\n",
    "model = LinearRegression().fit(\n",
    "    np.array(range(len(ticker_data[\"Close\"][-30:].index))).reshape(-1, 1),\n",
    "    ticker_data[\"Close\"][-30:].values,\n",
    ")\n",
    "regression_slope = round(model.coef_[0], 2)"
   ]
  },
  {
   "cell_type": "code",
   "execution_count": null,
   "id": "6272e34b-9511-4b48-9eea-ea882ce9846a",
   "metadata": {
    "papermill": {
     "duration": null,
     "end_time": null,
     "exception": null,
     "start_time": null,
     "status": "pending"
    },
    "tags": []
   },
   "outputs": [],
   "source": [
    "import pandas as pd\n",
    "\n",
    "df_insider = pd.DataFrame.from_dict(openbb.stocks.ins.lins(symbol=symbol)).head(10)\n",
    "if (df_insider.empty):\n",
    "    print(\"empty\")\n",
    "    last_10_insider_trading = 0\n",
    "else:\n",
    "    df_insider[\"Val ($)\"] = df_insider[\"Value ($)\"].replace({\",\": \"\"}, regex=True)\n",
    "    df_insider[\"Trade\"] = df_insider.apply(\n",
    "        lambda row: (-1 * float(row[\"Val ($)\"]))\n",
    "        if row[\"Transaction\"] == \"Sale\"\n",
    "        else (float(row[\"Val ($)\"]) if row[\"Transaction\"] == \"Buy\" else 0),\n",
    "        axis=1,\n",
    "    )\n",
    "    last_10_insider_trading = round(sum(df_insider[\"Trade\"]) / 1_000_000, 2)\n",
    "    df_insider = df_insider.drop(columns=[\"Val ($)\", \"Trade\"])\n",
    "    df_insider"
   ]
  },
  {
   "cell_type": "code",
   "execution_count": null,
   "id": "29254666-58c6-4686-87e6-2635ad8387e2",
   "metadata": {
    "papermill": {
     "duration": null,
     "end_time": null,
     "exception": null,
     "start_time": null,
     "status": "pending"
    },
    "tags": []
   },
   "outputs": [],
   "source": [
    "fig, ax = plt.subplots(figsize=(11, 3), dpi=150)\n",
    "openbb.stocks.ba.headlines_chart(symbol=symbol, external_axes=[ax])\n",
    "fig.tight_layout()\n",
    "f = io.BytesIO()\n",
    "fig.savefig(f, format=\"svg\")\n",
    "finbrain_sentiment = f.getvalue().decode(\"utf-8\")"
   ]
  },
  {
   "cell_type": "code",
   "execution_count": null,
   "id": "b8251b47-8ecc-47be-83f3-d9f108596898",
   "metadata": {
    "papermill": {
     "duration": null,
     "end_time": null,
     "exception": null,
     "start_time": null,
     "status": "pending"
    },
    "tags": []
   },
   "outputs": [],
   "source": [
    "df_sentiment_finbrain = openbb.stocks.ca.sentiment(symbols=[symbol])\n",
    "# comment out\n",
    "#finbrain_sentiment_val = float(df_sentiment_finbrain.values[-1][0])\n",
    "finbrain_sentiment_val = 0"
   ]
  },
  {
   "cell_type": "code",
   "execution_count": null,
   "id": "6fe6e513-d568-41b4-8aa0-37cc578c9dc3",
   "metadata": {
    "papermill": {
     "duration": null,
     "end_time": null,
     "exception": null,
     "start_time": null,
     "status": "pending"
    },
    "tags": []
   },
   "outputs": [],
   "source": [
    "(\n",
    "    watchlist_count,\n",
    "    n_cases,\n",
    "    n_bull,\n",
    "    n_bear,\n",
    ") = openbb.stocks.ba.bullbear(symbol=symbol)\n",
    "stocktwits_sentiment = f\"Watchlist count: {watchlist_count}</br>\"\n",
    "if n_cases > 0:\n",
    "    stocktwits_sentiment += f\"\\nLast {n_cases} sentiment messages:</br>\"\n",
    "    stocktwits_sentiment += f\"Bullish {round(100*n_bull/n_cases, 2)}%</br>\"\n",
    "    stocktwits_sentiment += f\"Bearish {round(100*n_bear/n_cases, 2)}%\"\n",
    "else:\n",
    "    stocktwits_sentiment += \"No messages found\"\n",
    "stocktwits_sentiment"
   ]
  },
  {
   "cell_type": "code",
   "execution_count": null,
   "id": "bfb75909-b877-4b3a-82a7-21ce174a7bb4",
   "metadata": {
    "papermill": {
     "duration": null,
     "end_time": null,
     "exception": null,
     "start_time": null,
     "status": "pending"
    },
    "tags": []
   },
   "outputs": [],
   "source": [
    "fig, (ax1, ax2) = plt.subplots(nrows=2, ncols=1, figsize=(11, 5), dpi=150)\n",
    "openbb.stocks.ba.snews_chart(symbol, external_axes=[ax1, ax2])\n",
    "fig.tight_layout()\n",
    "f = io.BytesIO()\n",
    "fig.savefig(f, format=\"svg\")\n",
    "snews = f.getvalue().decode(\"utf-8\")"
   ]
  },
  {
   "cell_type": "code",
   "execution_count": null,
   "id": "329c9e1b-e1de-4836-91fd-656cc87f7111",
   "metadata": {
    "papermill": {
     "duration": null,
     "end_time": null,
     "exception": null,
     "start_time": null,
     "status": "pending"
    },
    "tags": []
   },
   "outputs": [],
   "source": [
    "ticker_data_all = openbb.stocks.load(\n",
    "    symbol=symbol,\n",
    "    start_date=datetime.datetime.now() - datetime.timedelta(days=5 * 12 * 21),\n",
    ")\n",
    "ticker_data_all[\"Returns\"] = ticker_data_all[\"Adj Close\"].pct_change()"
   ]
  },
  {
   "cell_type": "code",
   "execution_count": null,
   "id": "37743ef3-2f16-4166-bfcc-a0fe3eb959bc",
   "metadata": {
    "papermill": {
     "duration": null,
     "end_time": null,
     "exception": null,
     "start_time": null,
     "status": "pending"
    },
    "tags": []
   },
   "outputs": [],
   "source": [
    "fig, ax = plt.subplots(figsize=(11, 3), dpi=150)\n",
    "openbb.qa.bw(\n",
    "    ticker_data_all,\n",
    "    \"Returns\",\n",
    "    symbol,\n",
    "    yearly=False,\n",
    "    external_axes=[ax],\n",
    ")\n",
    "fig.tight_layout()\n",
    "f = io.BytesIO()\n",
    "fig.savefig(f, format=\"svg\")\n",
    "bw_month = f.getvalue().decode(\"utf-8\")"
   ]
  },
  {
   "cell_type": "code",
   "execution_count": null,
   "id": "16b33868-23dc-4c77-ac00-acb452da386c",
   "metadata": {
    "papermill": {
     "duration": null,
     "end_time": null,
     "exception": null,
     "start_time": null,
     "status": "pending"
    },
    "tags": []
   },
   "outputs": [],
   "source": [
    "fig, ax = plt.subplots(figsize=(11, 3), dpi=150)\n",
    "openbb.qa.bw(\n",
    "    ticker_data_all,\n",
    "    \"Returns\",\n",
    "    symbol,\n",
    "    yearly=True,\n",
    "    external_axes=[ax],\n",
    ")\n",
    "fig.tight_layout()\n",
    "f = io.BytesIO()\n",
    "fig.savefig(f, format=\"svg\")\n",
    "bw_year = f.getvalue().decode(\"utf-8\")"
   ]
  },
  {
   "cell_type": "code",
   "execution_count": null,
   "id": "28ce0827",
   "metadata": {
    "papermill": {
     "duration": null,
     "end_time": null,
     "exception": null,
     "start_time": null,
     "status": "pending"
    },
    "tags": []
   },
   "outputs": [],
   "source": [
    "income_df = openbb.stocks.fa.income(symbol, source=\"YahooFinance\")\n",
    "income_df = income_df/1000000\n",
    "income_df = income_df.applymap(\"${0:.0f}M\".format)\n",
    "\n",
    "mgmt_df = openbb.stocks.fa.mgmt(symbol)\n",
    "if (mgmt_df.empty):\n",
    "    print (\"empty\")\n",
    "else:\n",
    "    mgmt_df[\"Info\"] = mgmt_df[\"Info\"].apply(lambda x: f'<a href=\"{x}\">{x}</a>')\n",
    "    mgmt_df[\"Insider Activity\"] = mgmt_df[\"Insider Activity\"].apply(\n",
    "        lambda x: f'<a href=\"{x}\">{x}</a>' if x != \"-\" else x\n",
    "    )\n",
    "try:\n",
    "    hist_dcf = openbb.stocks.fa.dcf(symbol)\n",
    "except:\n",
    "    pass\n",
    "enterprise_df = openbb.stocks.fa.enterprise(symbol)\n",
    "score = openbb.stocks.fa.score(symbol)\n",
    "if score:\n",
    "    score = round(float(score), 2)"
   ]
  },
  {
   "cell_type": "code",
   "execution_count": null,
   "id": "42e289ab",
   "metadata": {
    "papermill": {
     "duration": null,
     "end_time": null,
     "exception": null,
     "start_time": null,
     "status": "pending"
    },
    "tags": []
   },
   "outputs": [],
   "source": [
    "fig, (ax1, ax2, ax3) = plt.subplots(\n",
    "    nrows=3, ncols=1, figsize=(11, 8), sharex=True, dpi=150\n",
    ")\n",
    "openbb.ta.ma(ticker_data[\"Close\"], symbol=symbol, external_axes=[ax1])\n",
    "openbb.ta.ma(ticker_data[\"Close\"], symbol=symbol, ma_type=\"SMA\", external_axes=[ax2])\n",
    "openbb.ta.ma(ticker_data[\"Close\"], symbol=symbol, ma_type=\"WMA\", external_axes=[ax3])\n",
    "fig.tight_layout()\n",
    "f = io.BytesIO()\n",
    "fig.savefig(f, format=\"svg\")\n",
    "ma_chart = f.getvalue().decode(\"utf-8\")"
   ]
  },
  {
   "cell_type": "code",
   "execution_count": null,
   "id": "e8846a6f",
   "metadata": {
    "papermill": {
     "duration": null,
     "end_time": null,
     "exception": null,
     "start_time": null,
     "status": "pending"
    },
    "tags": []
   },
   "outputs": [],
   "source": [
    "fig, (ax, ax1) = plt.subplots(nrows=2, ncols=1, figsize=(11, 5), sharex=True, dpi=150)\n",
    "openbb.ta.macd_chart(ticker_data[\"Close\"], symbol=symbol, external_axes=[ax, ax1])\n",
    "fig.tight_layout()\n",
    "f = io.BytesIO()\n",
    "fig.savefig(f, format=\"svg\")\n",
    "macd_chart = f.getvalue().decode(\"utf-8\")"
   ]
  },
  {
   "cell_type": "code",
   "execution_count": null,
   "id": "48a7a427",
   "metadata": {
    "papermill": {
     "duration": null,
     "end_time": null,
     "exception": null,
     "start_time": null,
     "status": "pending"
    },
    "tags": []
   },
   "outputs": [],
   "source": [
    "fig, (ax, ax1) = plt.subplots(nrows=2, ncols=1, figsize=(11, 5), sharex=True, dpi=150)\n",
    "openbb.ta.cci_chart(ticker_data, symbol=symbol, external_axes=[ax, ax1])\n",
    "fig.tight_layout()\n",
    "f = io.BytesIO()\n",
    "fig.savefig(f, format=\"svg\")\n",
    "cci_chart = f.getvalue().decode(\"utf-8\")"
   ]
  },
  {
   "cell_type": "code",
   "execution_count": null,
   "id": "6a1bd2c6",
   "metadata": {
    "papermill": {
     "duration": null,
     "end_time": null,
     "exception": null,
     "start_time": null,
     "status": "pending"
    },
    "tags": []
   },
   "outputs": [],
   "source": [
    "fig, (ax, ax1) = plt.subplots(nrows=2, ncols=1, figsize=(11, 5), dpi=150)\n",
    "ax2 = ax1.twinx()\n",
    "openbb.ta.stoch_chart(ticker_data, symbol=symbol, external_axes=[ax, ax1, ax2])\n",
    "fig.tight_layout()\n",
    "f = io.BytesIO()\n",
    "fig.savefig(f, format=\"svg\")\n",
    "stoch_chart = f.getvalue().decode(\"utf-8\")"
   ]
  },
  {
   "cell_type": "code",
   "execution_count": null,
   "id": "2611d3c6",
   "metadata": {
    "papermill": {
     "duration": null,
     "end_time": null,
     "exception": null,
     "start_time": null,
     "status": "pending"
    },
    "tags": []
   },
   "outputs": [],
   "source": [
    "fig, (ax, ax1) = plt.subplots(2, 1, sharex=True, figsize=(11, 5), dpi=150)\n",
    "openbb.ta.adx_chart(ticker_data, symbol=symbol, external_axes=[ax, ax1])\n",
    "fig.tight_layout()\n",
    "f = io.BytesIO()\n",
    "fig.savefig(f, format=\"svg\")\n",
    "adx_chart = f.getvalue().decode(\"utf-8\")"
   ]
  },
  {
   "cell_type": "code",
   "execution_count": null,
   "id": "6ecb6e17",
   "metadata": {
    "papermill": {
     "duration": null,
     "end_time": null,
     "exception": null,
     "start_time": null,
     "status": "pending"
    },
    "tags": []
   },
   "outputs": [],
   "source": [
    "fig, ax = plt.subplots(figsize=(11, 3), dpi=150)\n",
    "openbb.ta.bbands_chart(ticker_data, symbol=symbol, external_axes=[ax])\n",
    "fig.tight_layout()\n",
    "f = io.BytesIO()\n",
    "fig.savefig(f, format=\"svg\")\n",
    "bbands_chart = f.getvalue().decode(\"utf-8\")"
   ]
  },
  {
   "cell_type": "code",
   "execution_count": null,
   "id": "07e42fdb",
   "metadata": {
    "papermill": {
     "duration": null,
     "end_time": null,
     "exception": null,
     "start_time": null,
     "status": "pending"
    },
    "tags": []
   },
   "outputs": [],
   "source": [
    "fig, (ax, ax1, ax2) = plt.subplots(3, 1, sharex=True, figsize=(11, 8), dpi=150)\n",
    "openbb.ta.ad_chart(ticker_data, symbol=symbol, external_axes=[ax, ax1, ax2])\n",
    "fig.tight_layout()\n",
    "f = io.BytesIO()\n",
    "fig.savefig(f, format=\"svg\")\n",
    "ad_chart = f.getvalue().decode(\"utf-8\")"
   ]
  },
  {
   "cell_type": "markdown",
   "id": "ac501a32-124d-4d21-aae1-a8d147bb1071",
   "metadata": {
    "papermill": {
     "duration": null,
     "end_time": null,
     "exception": null,
     "start_time": null,
     "status": "pending"
    },
    "tags": []
   },
   "source": [
    "## Render the report template to a file"
   ]
  },
  {
   "cell_type": "code",
   "execution_count": null,
   "id": "abfe37e4-ea38-42c3-8fb5-7cceb233fb12",
   "metadata": {
    "papermill": {
     "duration": null,
     "end_time": null,
     "exception": null,
     "start_time": null,
     "status": "pending"
    },
    "tags": []
   },
   "outputs": [],
   "source": [
    "body =\"\"\n",
    "    \n",
    "img = (\n",
    "    str(REPOSITORY_DIRECTORY)\n",
    "    + \"/openbb_terminal/reports/templates/OpenBB_reports_logo.png\"\n",
    ")\n",
    "floppy_disk_img = (\n",
    "    str(REPOSITORY_DIRECTORY) + \"/openbb_terminal/reports/templates/floppy-disc.png\"\n",
    ")\n",
    "\n",
    "htmlcode = f\"\"\"\n",
    "<!-- TradingView Widget BEGIN -->\n",
    "    <div class=\"tradingview-widget-container\">\n",
    "        <div class=\"tradingview-widget-container__widget\"></div>\n",
    "        <div class=\"tradingview-widget-copyright\"><a href=\"https://www.tradingview.com/symbols/NYSE-{symbol}/\" rel=\"noopener\" target=\"_blank\"><span class=\"blue-text\">AR key facts</span></a> by TradingView</div>\n",
    "        <script type=\"text/javascript\" src=\"https://s3.tradingview.com/external-embedding/embed-widget-symbol-profile.js\" async>\n",
    "        {{\n",
    "        \"width\": \"1085\",\n",
    "        \"height\": \"700\",\n",
    "        \"colorTheme\": \"light\",\n",
    "        \"isTransparent\": false,\n",
    "        \"symbol\": \"{exchange}:{symbol}\",\n",
    "        \"locale\": \"en\"\n",
    "        }}\n",
    "        </script>\n",
    "    </div>\n",
    "<!-- TradingView Widget END -->\n",
    "\"\"\"\n",
    "\n",
    "body += widgets.add_tab(\"Summary\", htmlcode, False)\n",
    "\n",
    "\n",
    "htmlcode = f\"\"\"\n",
    "<!-- TradingView Widget BEGIN -->\n",
    "<div class=\"tradingview-widget-container\">\n",
    "  <div id=\"tradingview_fceac\"></div>\n",
    "  <div class=\"tradingview-widget-copyright\"><a href=\"https://www.tradingview.com/symbols/{exchange}-{symbol}/\" rel=\"noopener\" target=\"_blank\"><span class=\"blue-text\">AR stock price</span></a> by TradingView</div>\n",
    "  <script type=\"text/javascript\" src=\"https://s3.tradingview.com/tv.js\"></script>\n",
    "  <script type=\"text/javascript\">\n",
    "  new TradingView.MediumWidget(\n",
    "    {{\n",
    "    \"symbols\": [\n",
    "        [\n",
    "        \"{long_name}\",\n",
    "        \"{exchange}:{symbol}|1D\"\n",
    "        ]\n",
    "    ],\n",
    "    \"chartOnly\": false,\n",
    "    \"width\": \"1085\",\n",
    "    \"height\": \"700\",\n",
    "    \"locale\": \"en\",\n",
    "    \"colorTheme\": \"light\",\n",
    "    \"autosize\": false,\n",
    "    \"showVolume\": false,\n",
    "    \"hideDateRanges\": false,\n",
    "    \"hideMarketStatus\": false,\n",
    "    \"scalePosition\": \"right\",\n",
    "    \"scaleMode\": \"Normal\",\n",
    "    \"fontFamily\": \"-apple-system, BlinkMacSystemFont, Trebuchet MS, Roboto, Ubuntu, sans-serif\",\n",
    "    \"fontSize\": \"10\",\n",
    "    \"noTimeScale\": false,\n",
    "    \"valuesTracking\": \"1\",\n",
    "    \"chartType\": \"line\",\n",
    "    \"container_id\": \"tradingview_fceac\"\n",
    "    }}\n",
    "  );\n",
    "  </script>\n",
    "</div>\n",
    "<!-- TradingView Widget END -->\n",
    "\"\"\"\n",
    "\n",
    "body += widgets.add_tab(\"Overview\", htmlcode, False)\n",
    "\n",
    "htmlcode = widgets.row([widgets.h(3, \"Latest News for \" + symbol)])\n",
    "try:\n",
    "    for table in tables:\n",
    "        htmlcode += widgets.row(\n",
    "            [widgets.h(4, table[1][\"title\"]) + table[0].to_html(escape=False)]\n",
    "        )\n",
    "except:\n",
    "    pass\n",
    "\n",
    "htmlcode += widgets.row([widgets.h(3, \"Twitter News for \" + symbol )])\n",
    "\n",
    "htmlcode += \"\"\"\n",
    "     <div class=\"tweet-list\">\n",
    "        {% for tweet in tweets %}\n",
    "        <div class=\"tweet\">\n",
    "            <div class=\"tweet-header\">\n",
    "                <img src=\"{{ tweet.user.profile_image_url }}\" alt=\"{{ tweet.user.name }}'s profile picture\">\n",
    "                <h3>{{ tweet.user.name }}</h3>                   \n",
    "            </div>       \n",
    "            <div class=\"tweet-body\">\n",
    "                <p>{{ tweet.full_text }}</p>\n",
    "            </div>   \n",
    "            {% if tweet.entities.media %}\n",
    "                <div class=\"tweet-media\">\n",
    "                {% for media in tweet.entities.media %}\n",
    "                    <img src=\"{{ media.media_url_https }}\" alt=\"Tweet media\">\n",
    "                {% endfor %}\n",
    "                </div>\n",
    "            {% endif %}\n",
    "            <div class=\"tweet-footer\">\n",
    "                {% set date = tweet.created_at.strftime('%b %d, %Y at %I:%M %p') %}\n",
    "                <p>{{ date }}</p>\n",
    "                <a href=\"https://twitter.com/{{ tweet.user.screen_name }}/status/{{ tweet.id }}\" target=\"_blank\">View on Twitter</a>\n",
    "            </div>\n",
    "        </div>\n",
    "        {% endfor %}\n",
    "    </div>\n",
    "        \"\"\"\n",
    "\n",
    "body += widgets.add_tab(\"News and Twitter\", htmlcode, False)\n",
    "\n",
    "htmlcode = widgets.row([widgets.h(3, \"Price Target Chart\") + price_target_chart])\n",
    "htmlcode += widgets.row(\n",
    "    [widgets.h(3, \"Analyst Ratings over time\") + ratings_over_time_chart]\n",
    ")\n",
    "try:\n",
    "    htmlcode += widgets.row([widgets.h(3, \"Analyst Ratings\") + df_analyst.to_html()])\n",
    "except:\n",
    "    pass\n",
    "try:\n",
    "    htmlcode += widgets.row(\n",
    "        [widgets.h(3, \"Analyst Recommendations\") + df_rating.to_html()]\n",
    "    )\n",
    "except:\n",
    "    pass\n",
    "\n",
    "body += widgets.add_tab(\"Analyst Opinions\", htmlcode, False)\n",
    "htmlcode = f\"\"\"\n",
    "<!-- TradingView Widget BEGIN -->\n",
    "    <div class=\"tradingview-widget-container\">\n",
    "        <div class=\"tradingview-widget-container__widget\"></div>\n",
    "        <div class=\"tradingview-widget-copyright\"><a href=\"https://www.tradingview.com/symbols/{exchange}-{symbol}/financials-overview/\" rel=\"noopener\" target=\"_blank\"><span class=\"blue-text\">AR fundamentals</span></a> by TradingView</div>\n",
    "        <script type=\"text/javascript\" src=\"https://s3.tradingview.com/external-embedding/embed-widget-financials.js\" async>\n",
    "        {{\n",
    "        \"colorTheme\": \"light\",\n",
    "        \"isTransparent\": false,\n",
    "        \"largeChartUrl\": \"\",\n",
    "        \"displayMode\": \"regular\",\n",
    "        \"width\": \"1085\",\n",
    "        \"height\": \"800\",\n",
    "        \"symbol\": \"{exchange}:{symbol}\",\n",
    "        \"locale\": \"en\"\n",
    "        }}\n",
    "        </script>\n",
    "    </div>\n",
    "<!-- TradingView Widget END -->\n",
    "\"\"\"\n",
    "\n",
    "try:\n",
    "    htmlcode += widgets.row(\n",
    "        [widgets.h(3, \"Estimates\") + df_year_estimates.head().to_html()]\n",
    "    )\n",
    "except:\n",
    "    pass\n",
    "\n",
    "htmlcode += widgets.row(\n",
    "    [widgets.h(3, \"Earnings\") + df_quarter_earnings.head().to_html()]\n",
    ")\n",
    "htmlcode += widgets.row(\n",
    "    [widgets.h(3, \"Revenues\") + df_quarter_revenues.head().to_html()]\n",
    ")\n",
    "try:\n",
    "    htmlcode += widgets.row(\n",
    "        [\n",
    "            widgets.h(3, \"Major Institutional Shareholders\")\n",
    "            + df_institutional_shareholders.head().to_html()\n",
    "        ]\n",
    "    )\n",
    "except:\n",
    "    pass\n",
    "try:\n",
    "    htmlcode += widgets.row(\n",
    "        [widgets.h(3, f\"Historical DCF for {symbol}\") + hist_dcf.to_html()]\n",
    "    )\n",
    "except:\n",
    "    pass\n",
    "htmlcode += widgets.row(\n",
    "    [widgets.h(3, f\"Enterprise data for {symbol}\") + enterprise_df.to_html()]\n",
    ")\n",
    "htmlcode += widgets.row(\n",
    "    [widgets.h(3, f\"Income Statement for {symbol}\") + income_df.to_html()]\n",
    ")\n",
    "try:\n",
    "    htmlcode += widgets.row([widgets.h(3, f\"Data for {symbol}\") + data_df.to_html()])\n",
    "except:\n",
    "    pass\n",
    "try:\n",
    "    htmlcode += widgets.row(\n",
    "        [widgets.h(3, \"SEC filings\") + df_sec_filings.to_html(escape=False)]\n",
    "    )\n",
    "except:\n",
    "    pass\n",
    "\n",
    "\n",
    "body += widgets.add_tab(\"Fundamental Analysis\", htmlcode, False)\n",
    "\n",
    "htmlcode = widgets.row([widgets.h(3, \"Put to call ratio\") + pcr_chart])\n",
    "if not option_chain.empty:\n",
    "    htmlcode += widgets.row(\n",
    "        [widgets.h(3, \"Option Volume for closest expiry date\") + vol_chart]\n",
    "    )\n",
    "    htmlcode += widgets.row(\n",
    "        [widgets.h(3, \"Volume and Open Interest for closest expiry date\") + voi_chart]\n",
    "    )\n",
    "try:\n",
    "    htmlcode += widgets.row([widgets.h(3, \"Option Chains\") + options_df.to_html()])\n",
    "except:\n",
    "    pass\n",
    "body += widgets.add_tab(\"Options\", htmlcode, False)\n",
    "\n",
    "htmlcode = widgets.row([net_short_position])\n",
    "htmlcode += widgets.row([price_vs_short_interest])\n",
    "body += widgets.add_tab(\"Shorts\", htmlcode, False)\n",
    "\n",
    "htmlcode = widgets.row(\n",
    "    [\n",
    "        widgets.h(3, \"Congress trading in the past 12 months for \" + symbol)\n",
    "        + gtrades_chart\n",
    "    ]\n",
    ")\n",
    "\n",
    "htmlcode = widgets.row(\n",
    "    [\n",
    "        widgets.h(3, f\"Price over the past year for companies similar to {symbol}\")\n",
    "        + historical_similar\n",
    "    ]\n",
    ")\n",
    "htmlcode += widgets.row(\n",
    "    [\n",
    "        widgets.h(3, f\"Price correlation with similar companies for {symbol}\")\n",
    "        + hcorr_similar\n",
    "    ]\n",
    ")\n",
    "htmlcode += widgets.row(\n",
    "    [\n",
    "        widgets.h(3, f\"Volume over the past year for companies similar to {symbol}\")\n",
    "        + vol_similar\n",
    "    ]\n",
    ")\n",
    "htmlcode += widgets.row(\n",
    "    [\n",
    "        widgets.h(3, f\"Sentiment correlation with similar companies for {symbol}\")\n",
    "        + scorr_similar\n",
    "    ]\n",
    ")\n",
    "\n",
    "htmlcode += widgets.row(\n",
    "    [\n",
    "        widgets.p(\n",
    "            \"Note that similar companies have been found using openbb.stocks.ca.similar\"\n",
    "        )\n",
    "    ]\n",
    ")\n",
    "body += widgets.add_tab(\"Comparison\", htmlcode, False)\n",
    "\n",
    "htmlcode = f\"\"\"\n",
    "<!-- TradingView Widget BEGIN -->\n",
    "    <div class=\"tradingview-widget-container\">\n",
    "        <div class=\"tradingview-widget-container__widget\"></div>\n",
    "        <div class=\"tradingview-widget-copyright\"><a href=\"https://www.tradingview.com/symbols/{exchange}-{symbol}/technicals/\" rel=\"noopener\" target=\"_blank\"><span class=\"blue-text\">AR stock analysis</span></a> by TradingView</div>\n",
    "        <script type=\"text/javascript\" src=\"https://s3.tradingview.com/external-embedding/embed-widget-technical-analysis.js\" async>\n",
    "        {{\n",
    "        \"interval\": \"1W\",\n",
    "        \"width\": \"1085\",\n",
    "        \"isTransparent\": false,\n",
    "        \"height\": \"700\",\n",
    "        \"symbol\": \"{exchange}:{symbol}\",\n",
    "        \"showIntervalTabs\": true,\n",
    "        \"locale\": \"en\",\n",
    "        \"colorTheme\": \"light\"\n",
    "        }}\n",
    "        </script>\n",
    "    </div>\n",
    "<!-- TradingView Widget END -->\n",
    "        \"\"\"\n",
    "\n",
    "htmlcode += widgets.row([widgets.h(3, f\"Moving Averages for {symbol}\") + ma_chart])\n",
    "htmlcode += widgets.row([macd_chart])\n",
    "htmlcode += widgets.row([ta_rsi])\n",
    "htmlcode += widgets.row([stoch_chart])\n",
    "htmlcode += widgets.row([cci_chart])\n",
    "htmlcode += widgets.row([ad_chart])\n",
    "htmlcode += widgets.row([bbands_chart])\n",
    "htmlcode += widgets.row([adx_chart])\n",
    "body += widgets.add_tab(\"Technical Analysis\", htmlcode, False)\n",
    "\n",
    "try:\n",
    "    htmlcode = widgets.row(\n",
    "        [widgets.h(3, \"Last Activity\") + df_insider.head(10).to_html(col_space=\"75px\")]\n",
    "    )\n",
    "except:\n",
    "    pass\n",
    "body += widgets.add_tab(\"Insider Trading\", htmlcode)\n",
    "\n",
    "htmlcode = widgets.row([bw_year])\n",
    "htmlcode += widgets.row([bw_month])\n",
    "body += widgets.add_tab(\"Quantitative Analysis\", htmlcode, False)\n",
    "\n",
    "\n",
    "htmlcode = widgets.row([finbrain_sentiment])\n",
    "htmlcode += widgets.row([snews])\n",
    "htmlcode += widgets.row(\n",
    "    [\n",
    "        widgets.h(3, \"Interest in \" + symbol + \" based on google analytics\")\n",
    "        + google_mentions_chart\n",
    "    ]\n",
    ")\n",
    "htmlcode += widgets.row(\n",
    "    [widgets.h(3, f\"Regions with highest interest in {symbol}\") + google_regions_chart]\n",
    ")\n",
    "try:\n",
    "    htmlcode += widgets.row(\n",
    "        [\n",
    "            widgets.h(3, f\"Top queries related to {symbol}\")\n",
    "            + df_related_queries.to_html()\n",
    "        ]\n",
    "    )\n",
    "    htmlcode += widgets.row(\n",
    "        [\n",
    "            widgets.h(3, f\"Top rising queries related to {symbol}\")\n",
    "            + df_rising_queries.to_html()\n",
    "        ]\n",
    "    )\n",
    "except:\n",
    "    pass\n",
    "htmlcode += widgets.row(\n",
    "    [widgets.h(3, f\"Stocktwits sentiment for {symbol}\") + stocktwits_sentiment]\n",
    ")\n",
    "body += widgets.add_tab(\"Behavioural Analysis\", htmlcode, False)\n",
    "\n",
    "htmlcode = \"\"\"\n",
    "    <iframe src=\"https://docs.google.com/spreadsheets/d/e/2PACX-1vTzYPt7GjAVk-NLvYrDo5OuxcDuaRFejqZ2iT_l2Y3nkKtAgwNO809hYnZhCIxc8XGQSDuGSfc8ZsAy/pubhtml?widget=true&amp;headers=false\" width=\"1085\" height=\"700\"></iframe>\n",
    "        \"\"\"\n",
    "\n",
    "body += widgets.add_tab(\"GSheets\", htmlcode, False)\n",
    "\n",
    "#This code snippet was extracted from OpenBB widget_helpers.py so that the html can be modified to work with the dashboard\n",
    "body += \"\"\"\n",
    "        <script>\n",
    "        function dmenu2(evt, menu_name) {\n",
    "            event.preventDefault();\n",
    "            var i, tabcontent, tablinks;\n",
    "            tabcontent = document.getElementsByClassName(\"tabcontent\");\n",
    "            for (i = 0; i < tabcontent.length; i++) {\n",
    "                tabcontent[i].style.display = \"none\";\n",
    "            }\n",
    "            tablinks = document.getElementsByClassName(\"tablinks\");\n",
    "            for (i = 0; i < tablinks.length; i++) {\n",
    "                tablinks[i].className = tablinks[i].className.replace(\" active bg-gradient-primary\", \"\");\n",
    "            }\n",
    "\n",
    "            document.getElementById(menu_name).style.display = \"block\";\n",
    "            evt.currentTarget.className += \" active bg-gradient-primary\";\n",
    "        }\n",
    "        window.onload = function() {\n",
    "            dmenu2(event, 'Summary');\n",
    "        };\n",
    "        </script>\"\"\"\n",
    "\n",
    "f = open(\"public/templates/report.j2\", \"r\")\n",
    "template = Template(f.read())\n",
    "report= template.render(title=report_name, stylesheet=stylesheet, body=body + \"</html>\")\n",
    "\n",
    "# to save the results\n",
    "with open(\"public/templates/\" + report_name + \".html\", \"w\", encoding=\"utf-8\") as fh:\n",
    "    fh.write(report)\n",
    "\n",
    "dotenv.load_dotenv(USER_ENV_FILE)\n",
    "cfg.theme = TerminalStyle(\n",
    "    os.getenv(\"OPENBB_MPLSTYLE\") or \"dark\",\n",
    "    os.getenv(\"OPENBB_MPFSTYLE\") or \"dark\",\n",
    "    os.getenv(\"OPENBB_RICHSTYLE\") or \"dark\",\n",
    ")"
   ]
  }
 ],
 "metadata": {
  "celltoolbar": "Tags",
  "kernelspec": {
   "display_name": "Python 3",
   "language": "python",
   "name": "python3"
  },
  "language_info": {
   "codemirror_mode": {
    "name": "ipython",
    "version": 3
   },
   "file_extension": ".py",
   "mimetype": "text/x-python",
   "name": "python",
   "nbconvert_exporter": "python",
   "pygments_lexer": "ipython3",
   "version": "3.9.13"
  },
  "papermill": {
   "default_parameters": {},
   "duration": 24.496183,
   "end_time": "2022-11-29T20:41:14.531863",
   "environment_variables": {},
   "exception": true,
   "input_path": "C:\\Users\\derek\\OpenBB\\openbb_terminal\\reports\\templates\\equity.ipynb",
   "output_path": "C:\\Users\\derek\\OpenBBUserData\\reports\\20221129_154049_equity_ENB.ipynb",
   "parameters": {
    "report_name": "C:\\Users\\derek\\OpenBBUserData\\reports\\20221129_154049_equity_ENB",
    "symbol": "ENB"
   },
   "start_time": "2022-11-29T20:40:50.035680",
   "version": "2.4.0"
  },
  "vscode": {
   "interpreter": {
    "hash": "fe4a9ed0f54de3f1a821bf00c983ee525ff8041b8fbbb35915e44dbdc77407ac"
   }
  }
 },
 "nbformat": 4,
 "nbformat_minor": 5
}
